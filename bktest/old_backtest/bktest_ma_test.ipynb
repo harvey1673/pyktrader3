{
 "cells": [
  {
   "cell_type": "code",
   "execution_count": 7,
   "metadata": {},
   "outputs": [
    {
     "data": {
      "text/html": [
       "        <script type=\"text/javascript\">\n",
       "        window.PlotlyConfig = {MathJaxConfig: 'local'};\n",
       "        if (window.MathJax) {MathJax.Hub.Config({SVG: {font: \"STIX-Web\"}});}\n",
       "        if (typeof require !== 'undefined') {\n",
       "        require.undef(\"plotly\");\n",
       "        requirejs.config({\n",
       "            paths: {\n",
       "                'plotly': ['https://cdn.plot.ly/plotly-latest.min']\n",
       "            }\n",
       "        });\n",
       "        require(['plotly'], function(Plotly) {\n",
       "            window._Plotly = Plotly;\n",
       "        });\n",
       "        }\n",
       "        </script>\n",
       "        "
      ]
     },
     "metadata": {},
     "output_type": "display_data"
    }
   ],
   "source": [
    "import warnings\n",
    "import sys\n",
    "import pandas as pd\n",
    "import numpy as np\n",
    "import matplotlib as mpl\n",
    "import matplotlib.dates as dates\n",
    "import matplotlib.pyplot as plt\n",
    "import datetime\n",
    "import chart_studio.plotly as py\n",
    "import plotly.graph_objs as go\n",
    "from plotly.offline import init_notebook_mode, plot, iplot\n",
    "\n",
    "init_notebook_mode(connected=True)\n",
    "sys.path.append(\"C:/dev/pycmqlib/\")\n",
    "sys.path.append(\"C:/dev/pycmqlib/scripts/\")\n",
    "\n",
    "import misc\n",
    "import data_handler as dh\n",
    "import plotly_examples\n",
    "import backtest\n",
    "%matplotlib inline"
   ]
  },
  {
   "cell_type": "code",
   "execution_count": 9,
   "metadata": {},
   "outputs": [
    {
     "data": {
      "application/vnd.jupyter.widget-view+json": {
       "model_id": "760929ef99d846488c9fef595bf799ab",
       "version_major": 2,
       "version_minor": 0
      },
      "text/plain": [
       "RmlndXJlV2lkZ2V0KHsKICAgICdkYXRhJzogW3snY2xvc2UnOiBhcnJheShbICA5NC4sICAxMTcuLCAgMTE5LiwgLi4uLCAxODA1LiwgMTg2MC4sIDE4NTQuXSksCiAgICAgICAgICAgICAgJ2TigKY=\n"
      ]
     },
     "metadata": {},
     "output_type": "display_data"
    }
   ],
   "source": [
    "start = datetime.date(2015, 1, 1)\n",
    "end = datetime.date(2019, 12, 15)\n",
    "shift_mode = 1\n",
    "asset = 'j'\n",
    "freq = 'd'\n",
    "args = {'n': 1, 'roll_rule': '-35b', 'freq': freq, 'shift_mode': shift_mode}\n",
    "args['start_date'] = start\n",
    "args['end_date'] = end\n",
    "df = misc.nearby(asset, **args)\n",
    "\n",
    "df.index = pd.to_datetime(df.index)\n",
    "#trace = go.Scatter(x=list(df.index),\n",
    "#                   y=list(df.high))\n",
    "win_s = 10\n",
    "win_l = 40\n",
    "df['MA1'] = dh.MA(df, n = win_s)\n",
    "df['MA2'] = dh.MA(df, n = win_l)\n",
    "\n",
    "\n",
    "\n",
    "def zoom(layout, xrange):\n",
    "    in_view = df.loc[fig.layout.xaxis.range[0]:fig.layout.xaxis.range[1]]\n",
    "    fig.layout.yaxis.range = [in_view.low.min(), in_view.high.max()]\n",
    "\n",
    "win_s = 10\n",
    "win_m = 40\n",
    "win_l = 120\n",
    "df['MA1'] = dh.MA(df, n = win_s)\n",
    "df['MA2'] = dh.MA(df, n = win_m)\n",
    "df['MA3'] = dh.MA(df, n = win_l)\n",
    "\n",
    "fig = plotly_examples.plot_ohlc_with_indicators(df, ind_fields = ['MA1', 'MA2', 'MA3'])\n",
    "fig.layout.on_change(zoom, 'xaxis.range')\n",
    "fig"
   ]
  },
  {
   "cell_type": "code",
   "execution_count": 16,
   "metadata": {},
   "outputs": [
    {
     "name": "stdout",
     "output_type": "stream",
     "text": [
      "                    instID exch        date  min_id    open    high     low  \\\n",
      "datetime                                                                      \n",
      "2019-12-11 10:10:00  j2005  DCE  2019-12-11    1610  1857.0  1857.0  1856.0   \n",
      "2019-12-11 10:11:00  j2005  DCE  2019-12-11    1611  1857.0  1858.0  1857.0   \n",
      "2019-12-11 10:12:00  j2005  DCE  2019-12-11    1612  1857.0  1857.5  1856.0   \n",
      "2019-12-11 10:13:00  j2005  DCE  2019-12-11    1613  1857.0  1857.0  1856.5   \n",
      "2019-12-11 10:14:00  j2005  DCE  2019-12-11    1614  1857.0  1857.0  1856.0   \n",
      "\n",
      "                      close  volume  openInterest contract  shift  \n",
      "datetime                                                           \n",
      "2019-12-11 10:10:00  1856.5     288        194266    j2005    0.0  \n",
      "2019-12-11 10:11:00  1857.0     128        194346    j2005    0.0  \n",
      "2019-12-11 10:12:00  1857.0     246        194448    j2005    0.0  \n",
      "2019-12-11 10:13:00  1856.5      70        194480    j2005    0.0  \n",
      "2019-12-11 10:14:00  1856.0     232        194586    j2005    0.0  \n"
     ]
    }
   ],
   "source": [
    "start = datetime.date(2016, 1, 1)\n",
    "end = datetime.date(2019, 12, 15)\n",
    "shift_mode = 1\n",
    "asset = 'j'\n",
    "freq = 'm'\n",
    "args = {'n': 1, 'roll_rule': '-35b', 'freq': freq, 'shift_mode': shift_mode}\n",
    "args['start_date'] = start\n",
    "args['end_date'] = end\n",
    "mdf = misc.nearby(asset, **args)\n",
    "mdf = misc.cleanup_mindata(mdf, asset)\n",
    "print mdf[-5:]\n"
   ]
  },
  {
   "cell_type": "code",
   "execution_count": null,
   "metadata": {},
   "outputs": [],
   "source": [
    "df = dh.conv_ohlc_freq1(mdf, '3m')\n",
    "\n",
    "#df = mdf.copy()\n",
    "#df = dh.day_split1(mdf, [300, 1500, 1630, 1930, 2100])\n",
    "\n",
    "win_1 = 10\n",
    "win_2 = 30\n",
    "win_3 = 120\n",
    "df['MA1'] = dh.MA(df, n = win_1)\n",
    "df['MA2'] = dh.MA(df, n = win_2)\n",
    "df['MA3'] = dh.MA(df, n = win_3)\n",
    "#fig2 = plotly_examples.plot_ohlc_with_indicators(df, ind_fields = ['MA1', 'MA2', 'MA3'])\n",
    "#fig2.layout.on_change(zoom, 'xaxis.range')\n",
    "#fig2"
   ]
  },
  {
   "cell_type": "code",
   "execution_count": null,
   "metadata": {},
   "outputs": [],
   "source": [
    "margin_rate = [0.08, 0.08]\n",
    "pnl_tenors = ['1y', '2y', '3y', '4y']\n",
    "cost_ratio = 1.0\n",
    "offset = 1.0\n",
    "start_capital = 0.0\n",
    "\n",
    "long_signal = pd.Series(np.nan, index = df.index)\n",
    "long_flag = dh.CROSSOVER2(df['MA1'],  df['MA2'], direction = 1) & (df['MA2'] >= df['MA3'])\n",
    "long_signal[long_flag] = 1\n",
    "cover_flag = dh.CROSSOVER2(df['MA1'],  df['MA3'], direction = -1) \n",
    "long_signal[cover_flag] = 0\n",
    "long_signal = long_signal.shift(1).fillna(method='ffill').fillna(0)\n",
    "short_signal = pd.Series(np.nan, index = df.index)\n",
    "short_flag = dh.CROSSOVER2(df['MA1'],  df['MA2'], direction = -1) & (df['MA2'] <= df['MA3'])\n",
    "short_signal[short_flag] = -1\n",
    "cover_flag = dh.CROSSOVER2(df['MA1'],  df['MA3'], direction = 1)\n",
    "short_signal[cover_flag] = 0\n",
    "short_signal = short_signal.shift(1).fillna(method='ffill').fillna(0)\n",
    "df['pos'] = (long_signal + short_signal)\n",
    "df['pos'][-1] = 0.0\n",
    "df['cost'] = abs(df['pos'] - df['pos'].shift(1)) * offset\n",
    "df['cost'] = df['cost'].fillna(0.0)\n",
    "df['traded_price'] = df.open\n",
    "closed_trades = backtest.simdf_to_trades1(df, slippage = offset)\n",
    "res_trade = backtest.get_trade_stats(closed_trades)\n",
    "(res_pnl, ts) = backtest.get_pnl_stats([df], margin_rate, 'm', tenors = pnl_tenors, start_capital = start_capital, cost_ratio = cost_ratio)\n",
    "ts[['cum_pnl']].plot()\n",
    "plt.show()\n",
    "print res_trade\n",
    "print res_pnl"
   ]
  }
 ],
 "metadata": {
  "kernelspec": {
   "display_name": "Python 2",
   "language": "python",
   "name": "python2"
  },
  "language_info": {
   "codemirror_mode": {
    "name": "ipython",
    "version": 2
   },
   "file_extension": ".py",
   "mimetype": "text/x-python",
   "name": "python",
   "nbconvert_exporter": "python",
   "pygments_lexer": "ipython2",
   "version": "2.7.15"
  }
 },
 "nbformat": 4,
 "nbformat_minor": 2
}
