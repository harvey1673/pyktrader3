{
 "cells": [
  {
   "cell_type": "code",
   "execution_count": 1,
   "metadata": {},
   "outputs": [
    {
     "data": {
      "text/html": [
       "        <script type=\"text/javascript\">\n",
       "        window.PlotlyConfig = {MathJaxConfig: 'local'};\n",
       "        if (window.MathJax) {MathJax.Hub.Config({SVG: {font: \"STIX-Web\"}});}\n",
       "        if (typeof require !== 'undefined') {\n",
       "        require.undef(\"plotly\");\n",
       "        requirejs.config({\n",
       "            paths: {\n",
       "                'plotly': ['https://cdn.plot.ly/plotly-latest.min']\n",
       "            }\n",
       "        });\n",
       "        require(['plotly'], function(Plotly) {\n",
       "            window._Plotly = Plotly;\n",
       "        });\n",
       "        }\n",
       "        </script>\n",
       "        "
      ]
     },
     "metadata": {},
     "output_type": "display_data"
    },
    {
     "data": {
      "text/html": [
       "        <script type=\"text/javascript\">\n",
       "        window.PlotlyConfig = {MathJaxConfig: 'local'};\n",
       "        if (window.MathJax) {MathJax.Hub.Config({SVG: {font: \"STIX-Web\"}});}\n",
       "        if (typeof require !== 'undefined') {\n",
       "        require.undef(\"plotly\");\n",
       "        requirejs.config({\n",
       "            paths: {\n",
       "                'plotly': ['https://cdn.plot.ly/plotly-latest.min']\n",
       "            }\n",
       "        });\n",
       "        require(['plotly'], function(Plotly) {\n",
       "            window._Plotly = Plotly;\n",
       "        });\n",
       "        }\n",
       "        </script>\n",
       "        "
      ]
     },
     "metadata": {},
     "output_type": "display_data"
    }
   ],
   "source": [
    "import warnings\n",
    "import sys\n",
    "import pandas as pd\n",
    "import numpy as np\n",
    "import matplotlib as mpl\n",
    "import matplotlib.dates as dates\n",
    "import matplotlib.pyplot as plt\n",
    "import datetime\n",
    "import chart_studio.plotly as py\n",
    "import plotly.graph_objs as go\n",
    "from plotly.offline import init_notebook_mode, plot, iplot\n",
    "\n",
    "init_notebook_mode(connected=True)\n",
    "sys.path.append(\"C:/dev/pycmqlib/\")\n",
    "sys.path.append(\"C:/dev/pycmqlib/scripts/\")\n",
    "\n",
    "import misc\n",
    "import data_handler as dh\n",
    "import plotly_examples\n",
    "import backtest\n",
    "%matplotlib inline"
   ]
  },
  {
   "cell_type": "code",
   "execution_count": 2,
   "metadata": {},
   "outputs": [
    {
     "name": "stdout",
     "output_type": "stream",
     "text": [
      "                     instID  exch        date  min_id  open  high   low  \\\n",
      "datetime                                                                  \n",
      "2020-03-20 14:55:00  rb2005  SHFE  2020-03-20    2055  3491  3492  3489   \n",
      "2020-03-20 14:56:00  rb2005  SHFE  2020-03-20    2056  3490  3491  3481   \n",
      "2020-03-20 14:57:00  rb2005  SHFE  2020-03-20    2057  3482  3486  3481   \n",
      "2020-03-20 14:58:00  rb2005  SHFE  2020-03-20    2058  3482  3489  3479   \n",
      "2020-03-20 14:59:00  rb2005  SHFE  2020-03-20    2059  3487  3489  3482   \n",
      "\n",
      "                     close   volume  openInterest contract  shift  \n",
      "datetime                                                           \n",
      "2020-03-20 14:55:00   3490   3796.0      902853.0   rb2005    0.0  \n",
      "2020-03-20 14:56:00   3481   7975.0      900581.0   rb2005    0.0  \n",
      "2020-03-20 14:57:00   3481   7577.0      898670.0   rb2005    0.0  \n",
      "2020-03-20 14:58:00   3488  11251.0      894258.0   rb2005    0.0  \n",
      "2020-03-20 14:59:00   3485  12628.0      890657.0   rb2005    0.0  \n"
     ]
    },
    {
     "name": "stderr",
     "output_type": "stream",
     "text": [
      "C:\\dev\\anaconda2\\lib\\site-packages\\pandas\\core\\indexing.py:543: SettingWithCopyWarning:\n",
      "\n",
      "\n",
      "A value is trying to be set on a copy of a slice from a DataFrame.\n",
      "Try using .loc[row_indexer,col_indexer] = value instead\n",
      "\n",
      "See the caveats in the documentation: http://pandas.pydata.org/pandas-docs/stable/indexing.html#indexing-view-versus-copy\n",
      "\n"
     ]
    }
   ],
   "source": [
    "start = datetime.date(2016, 1, 1)\n",
    "end = datetime.date(2020, 3, 20)\n",
    "shift_mode = 1\n",
    "asset = 'rb'\n",
    "freq = 'm'\n",
    "args = {'n': 1, 'roll_rule': '-35b', 'freq': freq, 'shift_mode': shift_mode}\n",
    "args['start_date'] = start\n",
    "args['end_date'] = end\n",
    "mdf = misc.nearby(asset, **args)\n",
    "mdf = misc.cleanup_mindata(mdf, asset)\n",
    "print mdf[-5:]\n"
   ]
  },
  {
   "cell_type": "code",
   "execution_count": 7,
   "metadata": {},
   "outputs": [],
   "source": [
    "price_mode = 'CL'\n",
    "ref_mode = 'xopen'\n",
    "atr_win = 10\n",
    "\n",
    "xdf = dh.conv_ohlc_freq1(mdf, '60m')\n",
    "#df = mdf.copy()\n",
    "#df = dh.day_split1(mdf, [300, 1500, 1930, 2100])\n",
    "\n",
    "xdf['ATR'] = dh.ATR(xdf, atr_win).shift(1)\n",
    "xdf['xma'] = dh.MA(xdf, atr_win).shift(1)\n",
    "xdf['xclose'] = xdf['close'].shift(1)\n",
    "xdf['xopen'] = xdf['open']\n",
    "\n",
    "df = mdf.join(xdf[['ATR', 'xclose', 'xopen', 'xma']], how='left').fillna(method='ffill').dropna()\n",
    "\n",
    "#fig2 = plotly_examples.plot_ohlc_with_indicators(df, ind_fields = ['MA1', 'MA2', 'MA3'])\n",
    "#fig2.layout.on_change(zoom, 'xaxis.range')\n",
    "#fig2"
   ]
  },
  {
   "cell_type": "code",
   "execution_count": 8,
   "metadata": {},
   "outputs": [
    {
     "name": "stderr",
     "output_type": "stream",
     "text": [
      "C:\\dev\\anaconda2\\lib\\site-packages\\ipykernel_launcher.py:34: SettingWithCopyWarning:\n",
      "\n",
      "\n",
      "A value is trying to be set on a copy of a slice from a DataFrame\n",
      "\n",
      "See the caveats in the documentation: http://pandas.pydata.org/pandas-docs/stable/indexing.html#indexing-view-versus-copy\n",
      "\n"
     ]
    },
    {
     "data": {
      "image/png": "[encoded data removed]",
      "text/plain": [
       "<Figure size 432x288 with 1 Axes>"
      ]
     },
     "metadata": {
      "needs_background": "light"
     },
     "output_type": "display_data"
    },
    {
     "name": "stdout",
     "output_type": "stream",
     "text": [
      "{'trade_std': 41.17436197860324, 'win_ratio': 0.5207667731629393, 'win_std': 32.630318388732775, 'loss_25pct': -39.0, 'loss_75pct': -8.0, 'loss_mean': -26.606666666666666, 'trade_50pct': 2.0, 'win_50pct': 25.0, 'trade_max': 170.0, 'loss_sum': -7982.0, 'trade_75pct': 26.0, 'win_75pct': 48.75, 'win_max': 170.0, 'win_min': 1.0, 'win_sum': 11009.0, 'trade_sum': 3027.0, 'trade_count': 626.0, 'trade_min': -113.0, 'win_count': 326.0, 'trade_25pct': -21.0, 'win_25pct': 9.25, 'trade_mean': 4.835463258785943, 'win_mean': 33.76993865030675, 'loss_50pct': -24.0, 'loss_max': -0.0, 'loss_std': 21.947763057610203, 'loss_min': -113.0, 'loss_count': 300.0}\n",
      "                              0\n",
      "avg_pnl_1y             1.612245\n",
      "avg_pnl_2y            -0.485656\n",
      "avg_pnl_3y             0.551160\n",
      "avg_pnl_4y             1.849385\n",
      "max_dd_period_1y     -62.000000\n",
      "max_dd_period_2y    -349.000000\n",
      "max_dd_period_3y    -349.000000\n",
      "max_dd_period_4y    -349.000000\n",
      "max_drawdown_1y     -186.000000\n",
      "max_drawdown_2y     -989.000000\n",
      "max_drawdown_3y     -989.000000\n",
      "max_drawdown_4y     -989.000000\n",
      "num_days_1y          245.000000\n",
      "num_days_2y          488.000000\n",
      "num_days_3y          733.000000\n",
      "num_days_4y          976.000000\n",
      "profit_dd_ratio_1y     2.123656\n",
      "profit_dd_ratio_2y    -0.239636\n",
      "profit_dd_ratio_3y     0.408493\n",
      "profit_dd_ratio_4y     1.825076\n",
      "sharp_ratio_1y         1.111173\n",
      "sharp_ratio_2y        -0.277181\n",
      "sharp_ratio_3y         0.292352\n",
      "sharp_ratio_4y         0.906645\n",
      "std_pnl_1y            23.032956\n",
      "std_pnl_2y            27.814134\n",
      "std_pnl_3y            29.927630\n",
      "std_pnl_4y            32.381015\n",
      "tot_cost_1y          262.000000\n",
      "tot_cost_2y          550.000000\n",
      "tot_cost_3y          866.000000\n",
      "tot_cost_4y         1180.000000\n",
      "tot_pnl_1y           395.000000\n",
      "tot_pnl_2y          -237.000000\n",
      "tot_pnl_3y           404.000000\n",
      "tot_pnl_4y          1805.000000\n"
     ]
    }
   ],
   "source": [
    "tick_base = 1.0\n",
    "pnl_tenors = ['1y', '2y', '3y', '4y']\n",
    "cost_ratio = 1.0\n",
    "offset = 1.0\n",
    "start_capital = 0.0\n",
    "band_ratio = 1.5\n",
    "\n",
    "close_daily = True\n",
    "exit_min = 2057\n",
    "tcost = 0.0\n",
    "margin_rate = [0.08, 0.08]\n",
    "\n",
    "if price_mode == \"HL\":\n",
    "    up_price = df['high']\n",
    "    dn_price = df['low']\n",
    "elif price_mode == \"TP\":\n",
    "    up_price = (df['high'] + df['low'] + df['close'])/3.0\n",
    "    dn_price = up_price\n",
    "elif price_mode == \"CL\":\n",
    "    up_price = df['close']\n",
    "    dn_price = df['close']\n",
    "else:\n",
    "    print \"unsupported price mode\"\n",
    "df['upper'] = df[ref_mode] + df['ATR'] * band_ratio\n",
    "df['upper'] = (df['upper']/tick_base).astype('int') * tick_base\n",
    "df['lower'] = df[ref_mode] - df['ATR'] * band_ratio\n",
    "df['lower'] = (df['lower'] / tick_base).astype('int') * tick_base\n",
    "df['pos']  = np.nan\n",
    "df['traded_price'] = df['open']\n",
    "df.loc[dh.CROSSOVER2(up_price, df['upper'], value = 0, direction = 1), 'pos'] = 1.0\n",
    "df.loc[dh.CROSSOVER2(dn_price, df['lower'], value = 0, direction = -1), 'pos'] = -1.0\n",
    "if close_daily:\n",
    "    df.loc[df['min_id'] >= exit_min, 'pos'] = 0\n",
    "df['pos'][-2:] = 0\n",
    "df['pos'] = df['pos'].shift(1).fillna(method='ffill')\n",
    "df['pos'] = df['pos'].fillna(0)\n",
    "df['cost'] = abs(df['pos'] - df['pos'].shift(1)) * (offset + df['open'] * tcost)\n",
    "df['cost'] = df['cost'].fillna(0.0)\n",
    "closed_trades = backtest.simdf_to_trades1(df, slippage = offset)\n",
    "res_trade = backtest.get_trade_stats(closed_trades)\n",
    "(res_pnl, ts) = backtest.get_pnl_stats([df], margin_rate, 'm', tenors = pnl_tenors, start_capital = start_capital, cost_ratio = cost_ratio)\n",
    "ts[['cum_pnl']].plot()\n",
    "plt.show()\n",
    "print res_trade\n",
    "pnl_df = pd.DataFrame.from_dict(res_pnl, orient='index').sort_index()\n",
    "print pnl_df"
   ]
  }
 ],
 "metadata": {
  "kernelspec": {
   "display_name": "Python 2",
   "language": "python",
   "name": "python2"
  },
  "language_info": {
   "codemirror_mode": {
    "name": "ipython",
    "version": 2
   },
   "file_extension": ".py",
   "mimetype": "text/x-python",
   "name": "python",
   "nbconvert_exporter": "python",
   "pygments_lexer": "ipython2",
   "version": "2.7.15"
  }
 },
 "nbformat": 4,
 "nbformat_minor": 2
}
