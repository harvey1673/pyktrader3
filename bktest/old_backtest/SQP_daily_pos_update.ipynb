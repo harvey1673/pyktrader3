{
 "cells": [
  {
   "cell_type": "code",
   "execution_count": 2,
   "metadata": {},
   "outputs": [
    {
     "data": {
      "text/html": [
       "        <script type=\"text/javascript\">\n",
       "        window.PlotlyConfig = {MathJaxConfig: 'local'};\n",
       "        if (window.MathJax) {MathJax.Hub.Config({SVG: {font: \"STIX-Web\"}});}\n",
       "        if (typeof require !== 'undefined') {\n",
       "        require.undef(\"plotly\");\n",
       "        requirejs.config({\n",
       "            paths: {\n",
       "                'plotly': ['https://cdn.plot.ly/plotly-latest.min']\n",
       "            }\n",
       "        });\n",
       "        require(['plotly'], function(Plotly) {\n",
       "            window._Plotly = Plotly;\n",
       "        });\n",
       "        }\n",
       "        </script>\n",
       "        "
      ]
     },
     "metadata": {},
     "output_type": "display_data"
    },
    {
     "data": {
      "text/html": [
       "        <script type=\"text/javascript\">\n",
       "        window.PlotlyConfig = {MathJaxConfig: 'local'};\n",
       "        if (window.MathJax) {MathJax.Hub.Config({SVG: {font: \"STIX-Web\"}});}\n",
       "        if (typeof require !== 'undefined') {\n",
       "        require.undef(\"plotly\");\n",
       "        requirejs.config({\n",
       "            paths: {\n",
       "                'plotly': ['https://cdn.plot.ly/plotly-latest.min']\n",
       "            }\n",
       "        });\n",
       "        require(['plotly'], function(Plotly) {\n",
       "            window._Plotly = Plotly;\n",
       "        });\n",
       "        }\n",
       "        </script>\n",
       "        "
      ]
     },
     "metadata": {},
     "output_type": "display_data"
    }
   ],
   "source": [
    "import warnings\n",
    "import sys\n",
    "import pandas as pd\n",
    "import numpy as np\n",
    "import matplotlib as mpl\n",
    "import matplotlib.dates as dates\n",
    "import matplotlib.pyplot as plt\n",
    "import datetime\n",
    "import chart_studio.plotly as py\n",
    "import plotly.graph_objs as go\n",
    "from plotly.offline import init_notebook_mode, plot, iplot\n",
    "\n",
    "init_notebook_mode(connected=True)\n",
    "sys.path.append(\"C:/dev/pycmqlib3/\")\n",
    "sys.path.append(\"C:/dev/pycmqlib3/misc_scripts/\")\n",
    "warnings.filterwarnings('ignore')\n",
    "import misc\n",
    "import data_handler as dh\n",
    "import plotly_examples\n",
    "import backtest\n",
    "%matplotlib inline"
   ]
  },
  {
   "cell_type": "code",
   "execution_count": 18,
   "metadata": {},
   "outputs": [
    {
     "name": "stdout",
     "output_type": "stream",
     "text": [
      "        cur_pos  scaled_pos  pos_chg  new_pos  new_scaled  position\n",
      "instID                                                             \n",
      "CF009      -179         -18      -10     -189         -19        -1\n",
      "FG009       -10          -1      -18      -28          -3        -2\n",
      "OI009       297          30      -12      285          29        -1\n",
      "RM009      -449         -45        0     -449         -45         0\n",
      "TA009     -1156        -116        0    -1156        -116         0\n",
      "ZC009       180          18        0      180          18         0\n",
      "y2009       -16          -2      -13      -29          -3        -1\n",
      "pp2009      271          27        0      271          27         0\n",
      "c2009      1084         108        0     1084         108         0\n",
      "j2009       -20          -2       12       -8          -1         1\n",
      "cs2009       66           7        8       74           7         0\n",
      "p2009       120          12        0      120          12         0\n",
      "jd2009     -358         -36        0     -358         -36         0\n",
      "jm2009       41           4        0       41           4         0\n",
      "l2009       119          12       61      180          18         6\n",
      "v2009       240          24      -28      212          21        -3\n",
      "a2009       345          35        0      345          35         0\n",
      "m2009      -770         -77       37     -733         -73         4\n",
      "al2008      266          27       -6      260          26        -1\n",
      "bu2012      -29          -3      -30      -59          -6        -3\n",
      "cu2008       64           6        0       64           6         0\n",
      "hc2010      224          22        0      224          22         0\n",
      "ni2009     -136         -14       -9     -145         -15        -1\n",
      "ru2009       31           3        8       39           4         1\n",
      "pb2008       93           9        0       93           9         0\n",
      "rb2010      -15          -2       12       -3           0         2\n",
      "sn2008       85           9      -14       71           7        -2\n",
      "zn2008      -41          -4       -9      -50          -5        -1\n",
      "        cur_pos  scaled_pos  pos_chg  new_pos  new_scaled  position\n",
      "instID                                                             \n",
      "CF009      -179         -18      -10     -189         -19        -1\n",
      "FG009       -10          -1      -18      -28          -3        -2\n",
      "OI009       297          30      -12      285          29        -1\n",
      "y2009       -16          -2      -13      -29          -3        -1\n",
      "j2009       -20          -2       12       -8          -1         1\n",
      "l2009       119          12       61      180          18         6\n",
      "v2009       240          24      -28      212          21        -3\n",
      "m2009      -770         -77       37     -733         -73         4\n",
      "al2008      266          27       -6      260          26        -1\n",
      "bu2012      -29          -3      -30      -59          -6        -3\n",
      "ni2009     -136         -14       -9     -145         -15        -1\n",
      "ru2009       31           3        8       39           4         1\n",
      "rb2010      -15          -2       12       -3           0         2\n",
      "sn2008       85           9      -14       71           7        -2\n",
      "zn2008      -41          -4       -9      -50          -5        -1\n"
     ]
    }
   ],
   "source": [
    "filename = \"C:\\\\dev\\\\data\\\\SQP_pos_calc.xlsx\"\n",
    "out_json = \"C:\\\\dev\\\\data\\\\SQP_daily_update.json\"\n",
    "df = pd.read_excel(filename, index_col=0, sheet_name='calc', \\\n",
    "                   usecols = [1, 2, 3, 4, 5, 6, 7], skiprows = [0, 1])\n",
    "print(df)\n",
    "adf = df[df['position'] != 0]\n",
    "print(adf)\n",
    "adf[['position']].to_json(out_json, orient='index')"
   ]
  }
 ],
 "metadata": {
  "kernelspec": {
   "display_name": "Python 3",
   "language": "python",
   "name": "python3"
  },
  "language_info": {
   "codemirror_mode": {
    "name": "ipython",
    "version": 3
   },
   "file_extension": ".py",
   "mimetype": "text/x-python",
   "name": "python",
   "nbconvert_exporter": "python",
   "pygments_lexer": "ipython3",
   "version": "3.7.6"
  }
 },
 "nbformat": 4,
 "nbformat_minor": 4
}
