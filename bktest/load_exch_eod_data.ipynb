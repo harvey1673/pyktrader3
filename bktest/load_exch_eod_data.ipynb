{
 "cells": [
  {
   "cell_type": "code",
   "execution_count": 1,
   "metadata": {
    "scrolled": true
   },
   "outputs": [
    {
     "name": "stdout",
     "output_type": "stream",
     "text": [
      "2021-06-30\n",
      "http://www.czce.com.cn/cn/DFSStaticFiles/Future/2021/20210630/FutureDataWhsheet.htm\n"
     ]
    },
    {
     "name": "stderr",
     "output_type": "stream",
     "text": [
      "C:\\Anaconda3\\lib\\site-packages\\sqlalchemy\\sql\\base.py:299: SAWarning: Can't validate argument 'replace_string'; can't locate any SQLAlchemy dialect named 'replace'\n",
      "  util.warn(\n"
     ]
    },
    {
     "name": "stdout",
     "output_type": "stream",
     "text": [
      "2021-06-29\n",
      "http://www.czce.com.cn/cn/DFSStaticFiles/Future/2021/20210629/FutureDataWhsheet.htm\n"
     ]
    },
    {
     "name": "stderr",
     "output_type": "stream",
     "text": [
      "C:\\Anaconda3\\lib\\site-packages\\sqlalchemy\\sql\\base.py:299: SAWarning: Can't validate argument 'replace_string'; can't locate any SQLAlchemy dialect named 'replace'\n",
      "  util.warn(\n"
     ]
    },
    {
     "name": "stdout",
     "output_type": "stream",
     "text": [
      "2021-06-28\n",
      "http://www.czce.com.cn/cn/DFSStaticFiles/Future/2021/20210628/FutureDataWhsheet.htm\n"
     ]
    },
    {
     "name": "stderr",
     "output_type": "stream",
     "text": [
      "C:\\Anaconda3\\lib\\site-packages\\sqlalchemy\\sql\\base.py:299: SAWarning: Can't validate argument 'replace_string'; can't locate any SQLAlchemy dialect named 'replace'\n",
      "  util.warn(\n",
      "C:\\dev\\pyktrader3\\misc_scripts\\aks_data_update.py:220: UserWarning: 20210627非交易日\n",
      "  warnings.warn(f\"{run_d.strftime('%Y%m%d')}非交易日\")\n",
      "C:\\dev\\pyktrader3\\misc_scripts\\aks_data_update.py:220: UserWarning: 20210626非交易日\n",
      "  warnings.warn(f\"{run_d.strftime('%Y%m%d')}非交易日\")\n"
     ]
    },
    {
     "name": "stdout",
     "output_type": "stream",
     "text": [
      "2021-06-25\n",
      "http://www.czce.com.cn/cn/DFSStaticFiles/Future/2021/20210625/FutureDataWhsheet.htm\n"
     ]
    },
    {
     "name": "stderr",
     "output_type": "stream",
     "text": [
      "C:\\Anaconda3\\lib\\site-packages\\sqlalchemy\\sql\\base.py:299: SAWarning: Can't validate argument 'replace_string'; can't locate any SQLAlchemy dialect named 'replace'\n",
      "  util.warn(\n"
     ]
    },
    {
     "name": "stdout",
     "output_type": "stream",
     "text": [
      "2021-06-24\n",
      "http://www.czce.com.cn/cn/DFSStaticFiles/Future/2021/20210624/FutureDataWhsheet.htm\n"
     ]
    },
    {
     "name": "stderr",
     "output_type": "stream",
     "text": [
      "C:\\Anaconda3\\lib\\site-packages\\sqlalchemy\\sql\\base.py:299: SAWarning: Can't validate argument 'replace_string'; can't locate any SQLAlchemy dialect named 'replace'\n",
      "  util.warn(\n"
     ]
    },
    {
     "name": "stdout",
     "output_type": "stream",
     "text": [
      "2021-06-23\n",
      "http://www.czce.com.cn/cn/DFSStaticFiles/Future/2021/20210623/FutureDataWhsheet.htm\n"
     ]
    },
    {
     "name": "stderr",
     "output_type": "stream",
     "text": [
      "C:\\Anaconda3\\lib\\site-packages\\sqlalchemy\\sql\\base.py:299: SAWarning: Can't validate argument 'replace_string'; can't locate any SQLAlchemy dialect named 'replace'\n",
      "  util.warn(\n"
     ]
    },
    {
     "name": "stdout",
     "output_type": "stream",
     "text": [
      "2021-06-22\n",
      "http://www.czce.com.cn/cn/DFSStaticFiles/Future/2021/20210622/FutureDataWhsheet.htm\n"
     ]
    },
    {
     "name": "stderr",
     "output_type": "stream",
     "text": [
      "C:\\Anaconda3\\lib\\site-packages\\sqlalchemy\\sql\\base.py:299: SAWarning: Can't validate argument 'replace_string'; can't locate any SQLAlchemy dialect named 'replace'\n",
      "  util.warn(\n"
     ]
    },
    {
     "name": "stdout",
     "output_type": "stream",
     "text": [
      "2021-06-21\n",
      "http://www.czce.com.cn/cn/DFSStaticFiles/Future/2021/20210621/FutureDataWhsheet.htm\n"
     ]
    },
    {
     "name": "stderr",
     "output_type": "stream",
     "text": [
      "C:\\Anaconda3\\lib\\site-packages\\sqlalchemy\\sql\\base.py:299: SAWarning: Can't validate argument 'replace_string'; can't locate any SQLAlchemy dialect named 'replace'\n",
      "  util.warn(\n",
      "C:\\dev\\pyktrader3\\misc_scripts\\aks_data_update.py:220: UserWarning: 20210620非交易日\n",
      "  warnings.warn(f\"{run_d.strftime('%Y%m%d')}非交易日\")\n",
      "C:\\dev\\pyktrader3\\misc_scripts\\aks_data_update.py:220: UserWarning: 20210619非交易日\n",
      "  warnings.warn(f\"{run_d.strftime('%Y%m%d')}非交易日\")\n"
     ]
    },
    {
     "name": "stdout",
     "output_type": "stream",
     "text": [
      "2021-06-18\n",
      "http://www.czce.com.cn/cn/DFSStaticFiles/Future/2021/20210618/FutureDataWhsheet.htm\n"
     ]
    },
    {
     "name": "stderr",
     "output_type": "stream",
     "text": [
      "C:\\Anaconda3\\lib\\site-packages\\sqlalchemy\\sql\\base.py:299: SAWarning: Can't validate argument 'replace_string'; can't locate any SQLAlchemy dialect named 'replace'\n",
      "  util.warn(\n"
     ]
    },
    {
     "name": "stdout",
     "output_type": "stream",
     "text": [
      "2021-06-17\n",
      "http://www.czce.com.cn/cn/DFSStaticFiles/Future/2021/20210617/FutureDataWhsheet.htm\n"
     ]
    },
    {
     "name": "stderr",
     "output_type": "stream",
     "text": [
      "C:\\Anaconda3\\lib\\site-packages\\sqlalchemy\\sql\\base.py:299: SAWarning: Can't validate argument 'replace_string'; can't locate any SQLAlchemy dialect named 'replace'\n",
      "  util.warn(\n"
     ]
    },
    {
     "name": "stdout",
     "output_type": "stream",
     "text": [
      "2021-06-16\n",
      "http://www.czce.com.cn/cn/DFSStaticFiles/Future/2021/20210616/FutureDataWhsheet.htm\n"
     ]
    },
    {
     "name": "stderr",
     "output_type": "stream",
     "text": [
      "C:\\Anaconda3\\lib\\site-packages\\sqlalchemy\\sql\\base.py:299: SAWarning: Can't validate argument 'replace_string'; can't locate any SQLAlchemy dialect named 'replace'\n",
      "  util.warn(\n"
     ]
    },
    {
     "name": "stdout",
     "output_type": "stream",
     "text": [
      "2021-06-15\n",
      "http://www.czce.com.cn/cn/DFSStaticFiles/Future/2021/20210615/FutureDataWhsheet.htm\n"
     ]
    },
    {
     "name": "stderr",
     "output_type": "stream",
     "text": [
      "C:\\Anaconda3\\lib\\site-packages\\sqlalchemy\\sql\\base.py:299: SAWarning: Can't validate argument 'replace_string'; can't locate any SQLAlchemy dialect named 'replace'\n",
      "  util.warn(\n",
      "C:\\dev\\pyktrader3\\misc_scripts\\aks_data_update.py:220: UserWarning: 20210614非交易日\n",
      "  warnings.warn(f\"{run_d.strftime('%Y%m%d')}非交易日\")\n",
      "C:\\dev\\pyktrader3\\misc_scripts\\aks_data_update.py:220: UserWarning: 20210613非交易日\n",
      "  warnings.warn(f\"{run_d.strftime('%Y%m%d')}非交易日\")\n",
      "C:\\dev\\pyktrader3\\misc_scripts\\aks_data_update.py:220: UserWarning: 20210612非交易日\n",
      "  warnings.warn(f\"{run_d.strftime('%Y%m%d')}非交易日\")\n"
     ]
    },
    {
     "name": "stdout",
     "output_type": "stream",
     "text": [
      "2021-06-11\n",
      "http://www.czce.com.cn/cn/DFSStaticFiles/Future/2021/20210611/FutureDataWhsheet.htm\n"
     ]
    },
    {
     "name": "stderr",
     "output_type": "stream",
     "text": [
      "C:\\Anaconda3\\lib\\site-packages\\sqlalchemy\\sql\\base.py:299: SAWarning: Can't validate argument 'replace_string'; can't locate any SQLAlchemy dialect named 'replace'\n",
      "  util.warn(\n"
     ]
    },
    {
     "name": "stdout",
     "output_type": "stream",
     "text": [
      "2021-06-10\n",
      "第1次链接失败, 最多尝试 20 次\n",
      "http://www.czce.com.cn/cn/DFSStaticFiles/Future/2021/20210610/FutureDataWhsheet.htm\n"
     ]
    },
    {
     "name": "stderr",
     "output_type": "stream",
     "text": [
      "C:\\Anaconda3\\lib\\site-packages\\sqlalchemy\\sql\\base.py:299: SAWarning: Can't validate argument 'replace_string'; can't locate any SQLAlchemy dialect named 'replace'\n",
      "  util.warn(\n"
     ]
    },
    {
     "name": "stdout",
     "output_type": "stream",
     "text": [
      "2021-06-09\n",
      "http://www.czce.com.cn/cn/DFSStaticFiles/Future/2021/20210609/FutureDataWhsheet.htm\n"
     ]
    },
    {
     "name": "stderr",
     "output_type": "stream",
     "text": [
      "C:\\Anaconda3\\lib\\site-packages\\sqlalchemy\\sql\\base.py:299: SAWarning: Can't validate argument 'replace_string'; can't locate any SQLAlchemy dialect named 'replace'\n",
      "  util.warn(\n"
     ]
    },
    {
     "name": "stdout",
     "output_type": "stream",
     "text": [
      "2021-06-08\n",
      "http://www.czce.com.cn/cn/DFSStaticFiles/Future/2021/20210608/FutureDataWhsheet.htm\n"
     ]
    },
    {
     "name": "stderr",
     "output_type": "stream",
     "text": [
      "C:\\Anaconda3\\lib\\site-packages\\sqlalchemy\\sql\\base.py:299: SAWarning: Can't validate argument 'replace_string'; can't locate any SQLAlchemy dialect named 'replace'\n",
      "  util.warn(\n"
     ]
    },
    {
     "name": "stdout",
     "output_type": "stream",
     "text": [
      "2021-06-07\n",
      "http://www.czce.com.cn/cn/DFSStaticFiles/Future/2021/20210607/FutureDataWhsheet.htm\n"
     ]
    },
    {
     "name": "stderr",
     "output_type": "stream",
     "text": [
      "C:\\Anaconda3\\lib\\site-packages\\sqlalchemy\\sql\\base.py:299: SAWarning: Can't validate argument 'replace_string'; can't locate any SQLAlchemy dialect named 'replace'\n",
      "  util.warn(\n",
      "C:\\dev\\pyktrader3\\misc_scripts\\aks_data_update.py:220: UserWarning: 20210606非交易日\n",
      "  warnings.warn(f\"{run_d.strftime('%Y%m%d')}非交易日\")\n",
      "C:\\dev\\pyktrader3\\misc_scripts\\aks_data_update.py:220: UserWarning: 20210605非交易日\n",
      "  warnings.warn(f\"{run_d.strftime('%Y%m%d')}非交易日\")\n"
     ]
    },
    {
     "name": "stdout",
     "output_type": "stream",
     "text": [
      "2021-06-04\n",
      "http://www.czce.com.cn/cn/DFSStaticFiles/Future/2021/20210604/FutureDataWhsheet.htm\n"
     ]
    },
    {
     "name": "stderr",
     "output_type": "stream",
     "text": [
      "C:\\Anaconda3\\lib\\site-packages\\sqlalchemy\\sql\\base.py:299: SAWarning: Can't validate argument 'replace_string'; can't locate any SQLAlchemy dialect named 'replace'\n",
      "  util.warn(\n"
     ]
    },
    {
     "name": "stdout",
     "output_type": "stream",
     "text": [
      "2021-06-03\n",
      "http://www.czce.com.cn/cn/DFSStaticFiles/Future/2021/20210603/FutureDataWhsheet.htm\n"
     ]
    },
    {
     "name": "stderr",
     "output_type": "stream",
     "text": [
      "C:\\Anaconda3\\lib\\site-packages\\sqlalchemy\\sql\\base.py:299: SAWarning: Can't validate argument 'replace_string'; can't locate any SQLAlchemy dialect named 'replace'\n",
      "  util.warn(\n"
     ]
    },
    {
     "name": "stdout",
     "output_type": "stream",
     "text": [
      "2021-06-02\n",
      "http://www.czce.com.cn/cn/DFSStaticFiles/Future/2021/20210602/FutureDataWhsheet.htm\n"
     ]
    },
    {
     "name": "stderr",
     "output_type": "stream",
     "text": [
      "C:\\Anaconda3\\lib\\site-packages\\sqlalchemy\\sql\\base.py:299: SAWarning: Can't validate argument 'replace_string'; can't locate any SQLAlchemy dialect named 'replace'\n",
      "  util.warn(\n"
     ]
    },
    {
     "name": "stdout",
     "output_type": "stream",
     "text": [
      "2021-06-01\n",
      "http://www.czce.com.cn/cn/DFSStaticFiles/Future/2021/20210601/FutureDataWhsheet.htm\n"
     ]
    },
    {
     "name": "stderr",
     "output_type": "stream",
     "text": [
      "C:\\Anaconda3\\lib\\site-packages\\sqlalchemy\\sql\\base.py:299: SAWarning: Can't validate argument 'replace_string'; can't locate any SQLAlchemy dialect named 'replace'\n",
      "  util.warn(\n"
     ]
    },
    {
     "name": "stdout",
     "output_type": "stream",
     "text": [
      "save data for the week 2021-06-28 - 2021-07-02\n",
      "save data for the week 2021-06-21 - 2021-06-25\n",
      "save data for the week 2021-06-14 - 2021-06-18\n",
      "save data for the week 2021-06-07 - 2021-06-11\n",
      "save data for the week 2021-05-31 - 2021-06-04\n"
     ]
    },
    {
     "name": "stderr",
     "output_type": "stream",
     "text": [
      "C:\\dev\\akshare\\akshare\\futures\\futures_basis.py:102: UserWarning: 20210605非交易日\n",
      "  warnings.warn(f\"{date.strftime('%Y%m%d')}非交易日\")\n",
      "C:\\dev\\akshare\\akshare\\futures\\futures_basis.py:102: UserWarning: 20210606非交易日\n",
      "  warnings.warn(f\"{date.strftime('%Y%m%d')}非交易日\")\n",
      "C:\\dev\\akshare\\akshare\\futures\\futures_basis.py:102: UserWarning: 20210612非交易日\n",
      "  warnings.warn(f\"{date.strftime('%Y%m%d')}非交易日\")\n",
      "C:\\dev\\akshare\\akshare\\futures\\futures_basis.py:102: UserWarning: 20210613非交易日\n",
      "  warnings.warn(f\"{date.strftime('%Y%m%d')}非交易日\")\n",
      "C:\\dev\\akshare\\akshare\\futures\\futures_basis.py:102: UserWarning: 20210614非交易日\n",
      "  warnings.warn(f\"{date.strftime('%Y%m%d')}非交易日\")\n",
      "C:\\dev\\akshare\\akshare\\futures\\futures_basis.py:102: UserWarning: 20210619非交易日\n",
      "  warnings.warn(f\"{date.strftime('%Y%m%d')}非交易日\")\n",
      "C:\\dev\\akshare\\akshare\\futures\\futures_basis.py:102: UserWarning: 20210620非交易日\n",
      "  warnings.warn(f\"{date.strftime('%Y%m%d')}非交易日\")\n",
      "C:\\dev\\akshare\\akshare\\futures\\futures_basis.py:102: UserWarning: 20210626非交易日\n",
      "  warnings.warn(f\"{date.strftime('%Y%m%d')}非交易日\")\n",
      "C:\\dev\\akshare\\akshare\\futures\\futures_basis.py:102: UserWarning: 20210627非交易日\n",
      "  warnings.warn(f\"{date.strftime('%Y%m%d')}非交易日\")\n",
      "C:\\Anaconda3\\lib\\site-packages\\sqlalchemy\\sql\\base.py:299: SAWarning: Can't validate argument 'replace_string'; can't locate any SQLAlchemy dialect named 'replace'\n",
      "  util.warn(\n"
     ]
    }
   ],
   "source": [
    "from misc_scripts import aks_data_update\n",
    "import datetime\n",
    "sdate = datetime.date(2021,8,1)\n",
    "tday = datetime.date(2021,8,30)\n",
    "#aks_data_update.update_hist_fut_daily(sdate, tday, exchanges = [\"DCE\", \"CFFEX\", \"CZCE\", \"SHFE\", \"INE\", ], flavor = 'mysql', fut_table = 'fut_daily')\n",
    "#df1 = aks_data_update.update_rank_table(start_date = sdate, end_date = tday, flavor = 'mysql')\n",
    "df2 = aks_data_update.update_exch_receipt_table(start_date = sdate, end_date = tday, flavor = 'mysql')\n",
    "df3 = aks_data_update.update_exch_inv_table(start_date = sdate, end_date = tday, flavor = 'mysql')\n",
    "df4 = aks_data_update.update_spot_daily(start_date = sdate, end_date = tday, flavor = 'mysql')"
   ]
  },
  {
   "cell_type": "code",
   "execution_count": 2,
   "metadata": {},
   "outputs": [
    {
     "name": "stdout",
     "output_type": "stream",
     "text": [
      "exch = DCE, date=2021-08-13\n"
     ]
    },
    {
     "name": "stderr",
     "output_type": "stream",
     "text": [
      "C:\\Anaconda3\\lib\\site-packages\\sqlalchemy\\sql\\base.py:299: SAWarning: Can't validate argument 'replace_string'; can't locate any SQLAlchemy dialect named 'replace'\n",
      "  util.warn(\n"
     ]
    },
    {
     "name": "stdout",
     "output_type": "stream",
     "text": [
      "exch = DCE, date=2021-08-12\n"
     ]
    },
    {
     "name": "stderr",
     "output_type": "stream",
     "text": [
      "C:\\Anaconda3\\lib\\site-packages\\sqlalchemy\\sql\\base.py:299: SAWarning: Can't validate argument 'replace_string'; can't locate any SQLAlchemy dialect named 'replace'\n",
      "  util.warn(\n"
     ]
    },
    {
     "name": "stdout",
     "output_type": "stream",
     "text": [
      "exch = DCE, date=2021-08-11\n"
     ]
    },
    {
     "name": "stderr",
     "output_type": "stream",
     "text": [
      "C:\\Anaconda3\\lib\\site-packages\\sqlalchemy\\sql\\base.py:299: SAWarning: Can't validate argument 'replace_string'; can't locate any SQLAlchemy dialect named 'replace'\n",
      "  util.warn(\n"
     ]
    },
    {
     "name": "stdout",
     "output_type": "stream",
     "text": [
      "exch = DCE, date=2021-08-10\n"
     ]
    },
    {
     "name": "stderr",
     "output_type": "stream",
     "text": [
      "C:\\Anaconda3\\lib\\site-packages\\sqlalchemy\\sql\\base.py:299: SAWarning: Can't validate argument 'replace_string'; can't locate any SQLAlchemy dialect named 'replace'\n",
      "  util.warn(\n"
     ]
    },
    {
     "name": "stdout",
     "output_type": "stream",
     "text": [
      "exch = DCE, date=2021-08-09\n"
     ]
    },
    {
     "name": "stderr",
     "output_type": "stream",
     "text": [
      "C:\\Anaconda3\\lib\\site-packages\\sqlalchemy\\sql\\base.py:299: SAWarning: Can't validate argument 'replace_string'; can't locate any SQLAlchemy dialect named 'replace'\n",
      "  util.warn(\n"
     ]
    },
    {
     "name": "stdout",
     "output_type": "stream",
     "text": [
      "exch = DCE, date=2021-08-06\n"
     ]
    },
    {
     "name": "stderr",
     "output_type": "stream",
     "text": [
      "C:\\Anaconda3\\lib\\site-packages\\sqlalchemy\\sql\\base.py:299: SAWarning: Can't validate argument 'replace_string'; can't locate any SQLAlchemy dialect named 'replace'\n",
      "  util.warn(\n"
     ]
    },
    {
     "name": "stdout",
     "output_type": "stream",
     "text": [
      "exch = DCE, date=2021-08-05\n"
     ]
    },
    {
     "name": "stderr",
     "output_type": "stream",
     "text": [
      "C:\\Anaconda3\\lib\\site-packages\\sqlalchemy\\sql\\base.py:299: SAWarning: Can't validate argument 'replace_string'; can't locate any SQLAlchemy dialect named 'replace'\n",
      "  util.warn(\n"
     ]
    },
    {
     "name": "stdout",
     "output_type": "stream",
     "text": [
      "exch = DCE, date=2021-08-04\n"
     ]
    },
    {
     "name": "stderr",
     "output_type": "stream",
     "text": [
      "C:\\Anaconda3\\lib\\site-packages\\sqlalchemy\\sql\\base.py:299: SAWarning: Can't validate argument 'replace_string'; can't locate any SQLAlchemy dialect named 'replace'\n",
      "  util.warn(\n"
     ]
    },
    {
     "name": "stdout",
     "output_type": "stream",
     "text": [
      "exch = DCE, date=2021-08-03\n"
     ]
    },
    {
     "name": "stderr",
     "output_type": "stream",
     "text": [
      "C:\\Anaconda3\\lib\\site-packages\\sqlalchemy\\sql\\base.py:299: SAWarning: Can't validate argument 'replace_string'; can't locate any SQLAlchemy dialect named 'replace'\n",
      "  util.warn(\n"
     ]
    },
    {
     "name": "stdout",
     "output_type": "stream",
     "text": [
      "exch = DCE, date=2021-08-02\n"
     ]
    },
    {
     "name": "stderr",
     "output_type": "stream",
     "text": [
      "C:\\Anaconda3\\lib\\site-packages\\sqlalchemy\\sql\\base.py:299: SAWarning: Can't validate argument 'replace_string'; can't locate any SQLAlchemy dialect named 'replace'\n",
      "  util.warn(\n"
     ]
    },
    {
     "name": "stdout",
     "output_type": "stream",
     "text": [
      "exch = CFFEX, date=2021-08-13\n"
     ]
    },
    {
     "name": "stderr",
     "output_type": "stream",
     "text": [
      "C:\\Anaconda3\\lib\\site-packages\\sqlalchemy\\sql\\base.py:299: SAWarning: Can't validate argument 'replace_string'; can't locate any SQLAlchemy dialect named 'replace'\n",
      "  util.warn(\n"
     ]
    },
    {
     "name": "stdout",
     "output_type": "stream",
     "text": [
      "exch = CFFEX, date=2021-08-12\n"
     ]
    },
    {
     "name": "stderr",
     "output_type": "stream",
     "text": [
      "C:\\Anaconda3\\lib\\site-packages\\sqlalchemy\\sql\\base.py:299: SAWarning: Can't validate argument 'replace_string'; can't locate any SQLAlchemy dialect named 'replace'\n",
      "  util.warn(\n"
     ]
    },
    {
     "name": "stdout",
     "output_type": "stream",
     "text": [
      "exch = CFFEX, date=2021-08-11\n"
     ]
    },
    {
     "name": "stderr",
     "output_type": "stream",
     "text": [
      "C:\\Anaconda3\\lib\\site-packages\\sqlalchemy\\sql\\base.py:299: SAWarning: Can't validate argument 'replace_string'; can't locate any SQLAlchemy dialect named 'replace'\n",
      "  util.warn(\n"
     ]
    },
    {
     "name": "stdout",
     "output_type": "stream",
     "text": [
      "exch = CFFEX, date=2021-08-10\n"
     ]
    },
    {
     "name": "stderr",
     "output_type": "stream",
     "text": [
      "C:\\Anaconda3\\lib\\site-packages\\sqlalchemy\\sql\\base.py:299: SAWarning: Can't validate argument 'replace_string'; can't locate any SQLAlchemy dialect named 'replace'\n",
      "  util.warn(\n"
     ]
    },
    {
     "name": "stdout",
     "output_type": "stream",
     "text": [
      "exch = CFFEX, date=2021-08-09\n"
     ]
    },
    {
     "name": "stderr",
     "output_type": "stream",
     "text": [
      "C:\\Anaconda3\\lib\\site-packages\\sqlalchemy\\sql\\base.py:299: SAWarning: Can't validate argument 'replace_string'; can't locate any SQLAlchemy dialect named 'replace'\n",
      "  util.warn(\n"
     ]
    },
    {
     "name": "stdout",
     "output_type": "stream",
     "text": [
      "exch = CFFEX, date=2021-08-06\n"
     ]
    },
    {
     "name": "stderr",
     "output_type": "stream",
     "text": [
      "C:\\Anaconda3\\lib\\site-packages\\sqlalchemy\\sql\\base.py:299: SAWarning: Can't validate argument 'replace_string'; can't locate any SQLAlchemy dialect named 'replace'\n",
      "  util.warn(\n"
     ]
    },
    {
     "name": "stdout",
     "output_type": "stream",
     "text": [
      "exch = CFFEX, date=2021-08-05\n"
     ]
    },
    {
     "name": "stderr",
     "output_type": "stream",
     "text": [
      "C:\\Anaconda3\\lib\\site-packages\\sqlalchemy\\sql\\base.py:299: SAWarning: Can't validate argument 'replace_string'; can't locate any SQLAlchemy dialect named 'replace'\n",
      "  util.warn(\n"
     ]
    },
    {
     "name": "stdout",
     "output_type": "stream",
     "text": [
      "exch = CFFEX, date=2021-08-04\n"
     ]
    },
    {
     "name": "stderr",
     "output_type": "stream",
     "text": [
      "C:\\Anaconda3\\lib\\site-packages\\sqlalchemy\\sql\\base.py:299: SAWarning: Can't validate argument 'replace_string'; can't locate any SQLAlchemy dialect named 'replace'\n",
      "  util.warn(\n"
     ]
    },
    {
     "name": "stdout",
     "output_type": "stream",
     "text": [
      "exch = CFFEX, date=2021-08-03\n"
     ]
    },
    {
     "name": "stderr",
     "output_type": "stream",
     "text": [
      "C:\\Anaconda3\\lib\\site-packages\\sqlalchemy\\sql\\base.py:299: SAWarning: Can't validate argument 'replace_string'; can't locate any SQLAlchemy dialect named 'replace'\n",
      "  util.warn(\n"
     ]
    },
    {
     "name": "stdout",
     "output_type": "stream",
     "text": [
      "exch = CFFEX, date=2021-08-02\n"
     ]
    },
    {
     "name": "stderr",
     "output_type": "stream",
     "text": [
      "C:\\Anaconda3\\lib\\site-packages\\sqlalchemy\\sql\\base.py:299: SAWarning: Can't validate argument 'replace_string'; can't locate any SQLAlchemy dialect named 'replace'\n",
      "  util.warn(\n"
     ]
    },
    {
     "name": "stdout",
     "output_type": "stream",
     "text": [
      "exch = CZCE, date=2021-08-13\n"
     ]
    },
    {
     "name": "stderr",
     "output_type": "stream",
     "text": [
      "C:\\Anaconda3\\lib\\site-packages\\sqlalchemy\\sql\\base.py:299: SAWarning: Can't validate argument 'replace_string'; can't locate any SQLAlchemy dialect named 'replace'\n",
      "  util.warn(\n"
     ]
    },
    {
     "name": "stdout",
     "output_type": "stream",
     "text": [
      "exch = CZCE, date=2021-08-12\n"
     ]
    },
    {
     "name": "stderr",
     "output_type": "stream",
     "text": [
      "C:\\Anaconda3\\lib\\site-packages\\sqlalchemy\\sql\\base.py:299: SAWarning: Can't validate argument 'replace_string'; can't locate any SQLAlchemy dialect named 'replace'\n",
      "  util.warn(\n"
     ]
    },
    {
     "name": "stdout",
     "output_type": "stream",
     "text": [
      "exch = CZCE, date=2021-08-11\n"
     ]
    },
    {
     "name": "stderr",
     "output_type": "stream",
     "text": [
      "C:\\Anaconda3\\lib\\site-packages\\sqlalchemy\\sql\\base.py:299: SAWarning: Can't validate argument 'replace_string'; can't locate any SQLAlchemy dialect named 'replace'\n",
      "  util.warn(\n"
     ]
    },
    {
     "name": "stdout",
     "output_type": "stream",
     "text": [
      "exch = CZCE, date=2021-08-10\n"
     ]
    },
    {
     "name": "stderr",
     "output_type": "stream",
     "text": [
      "C:\\Anaconda3\\lib\\site-packages\\sqlalchemy\\sql\\base.py:299: SAWarning: Can't validate argument 'replace_string'; can't locate any SQLAlchemy dialect named 'replace'\n",
      "  util.warn(\n"
     ]
    },
    {
     "name": "stdout",
     "output_type": "stream",
     "text": [
      "exch = CZCE, date=2021-08-09\n"
     ]
    },
    {
     "name": "stderr",
     "output_type": "stream",
     "text": [
      "C:\\Anaconda3\\lib\\site-packages\\sqlalchemy\\sql\\base.py:299: SAWarning: Can't validate argument 'replace_string'; can't locate any SQLAlchemy dialect named 'replace'\n",
      "  util.warn(\n"
     ]
    },
    {
     "name": "stdout",
     "output_type": "stream",
     "text": [
      "exch = CZCE, date=2021-08-06\n"
     ]
    },
    {
     "name": "stderr",
     "output_type": "stream",
     "text": [
      "C:\\Anaconda3\\lib\\site-packages\\sqlalchemy\\sql\\base.py:299: SAWarning: Can't validate argument 'replace_string'; can't locate any SQLAlchemy dialect named 'replace'\n",
      "  util.warn(\n"
     ]
    },
    {
     "name": "stdout",
     "output_type": "stream",
     "text": [
      "exch = CZCE, date=2021-08-05\n"
     ]
    },
    {
     "name": "stderr",
     "output_type": "stream",
     "text": [
      "C:\\Anaconda3\\lib\\site-packages\\sqlalchemy\\sql\\base.py:299: SAWarning: Can't validate argument 'replace_string'; can't locate any SQLAlchemy dialect named 'replace'\n",
      "  util.warn(\n"
     ]
    },
    {
     "name": "stdout",
     "output_type": "stream",
     "text": [
      "exch = CZCE, date=2021-08-04\n"
     ]
    },
    {
     "name": "stderr",
     "output_type": "stream",
     "text": [
      "C:\\Anaconda3\\lib\\site-packages\\sqlalchemy\\sql\\base.py:299: SAWarning: Can't validate argument 'replace_string'; can't locate any SQLAlchemy dialect named 'replace'\n",
      "  util.warn(\n"
     ]
    },
    {
     "name": "stdout",
     "output_type": "stream",
     "text": [
      "exch = CZCE, date=2021-08-03\n"
     ]
    },
    {
     "name": "stderr",
     "output_type": "stream",
     "text": [
      "C:\\Anaconda3\\lib\\site-packages\\sqlalchemy\\sql\\base.py:299: SAWarning: Can't validate argument 'replace_string'; can't locate any SQLAlchemy dialect named 'replace'\n",
      "  util.warn(\n"
     ]
    },
    {
     "name": "stdout",
     "output_type": "stream",
     "text": [
      "exch = CZCE, date=2021-08-02\n"
     ]
    },
    {
     "name": "stderr",
     "output_type": "stream",
     "text": [
      "C:\\Anaconda3\\lib\\site-packages\\sqlalchemy\\sql\\base.py:299: SAWarning: Can't validate argument 'replace_string'; can't locate any SQLAlchemy dialect named 'replace'\n",
      "  util.warn(\n"
     ]
    },
    {
     "name": "stdout",
     "output_type": "stream",
     "text": [
      "exch = SHFE, date=2021-08-13\n"
     ]
    },
    {
     "name": "stderr",
     "output_type": "stream",
     "text": [
      "C:\\Anaconda3\\lib\\site-packages\\sqlalchemy\\sql\\base.py:299: SAWarning: Can't validate argument 'replace_string'; can't locate any SQLAlchemy dialect named 'replace'\n",
      "  util.warn(\n"
     ]
    },
    {
     "name": "stdout",
     "output_type": "stream",
     "text": [
      "exch = SHFE, date=2021-08-12\n"
     ]
    },
    {
     "name": "stderr",
     "output_type": "stream",
     "text": [
      "C:\\Anaconda3\\lib\\site-packages\\sqlalchemy\\sql\\base.py:299: SAWarning: Can't validate argument 'replace_string'; can't locate any SQLAlchemy dialect named 'replace'\n",
      "  util.warn(\n"
     ]
    },
    {
     "name": "stdout",
     "output_type": "stream",
     "text": [
      "exch = SHFE, date=2021-08-11\n"
     ]
    },
    {
     "name": "stderr",
     "output_type": "stream",
     "text": [
      "C:\\Anaconda3\\lib\\site-packages\\sqlalchemy\\sql\\base.py:299: SAWarning: Can't validate argument 'replace_string'; can't locate any SQLAlchemy dialect named 'replace'\n",
      "  util.warn(\n"
     ]
    },
    {
     "name": "stdout",
     "output_type": "stream",
     "text": [
      "exch = SHFE, date=2021-08-10\n"
     ]
    },
    {
     "name": "stderr",
     "output_type": "stream",
     "text": [
      "C:\\Anaconda3\\lib\\site-packages\\sqlalchemy\\sql\\base.py:299: SAWarning: Can't validate argument 'replace_string'; can't locate any SQLAlchemy dialect named 'replace'\n",
      "  util.warn(\n"
     ]
    },
    {
     "name": "stdout",
     "output_type": "stream",
     "text": [
      "exch = SHFE, date=2021-08-09\n"
     ]
    },
    {
     "name": "stderr",
     "output_type": "stream",
     "text": [
      "C:\\Anaconda3\\lib\\site-packages\\sqlalchemy\\sql\\base.py:299: SAWarning: Can't validate argument 'replace_string'; can't locate any SQLAlchemy dialect named 'replace'\n",
      "  util.warn(\n"
     ]
    },
    {
     "name": "stdout",
     "output_type": "stream",
     "text": [
      "exch = SHFE, date=2021-08-06\n"
     ]
    },
    {
     "name": "stderr",
     "output_type": "stream",
     "text": [
      "C:\\Anaconda3\\lib\\site-packages\\sqlalchemy\\sql\\base.py:299: SAWarning: Can't validate argument 'replace_string'; can't locate any SQLAlchemy dialect named 'replace'\n",
      "  util.warn(\n"
     ]
    },
    {
     "name": "stdout",
     "output_type": "stream",
     "text": [
      "exch = SHFE, date=2021-08-05\n"
     ]
    },
    {
     "name": "stderr",
     "output_type": "stream",
     "text": [
      "C:\\Anaconda3\\lib\\site-packages\\sqlalchemy\\sql\\base.py:299: SAWarning: Can't validate argument 'replace_string'; can't locate any SQLAlchemy dialect named 'replace'\n",
      "  util.warn(\n"
     ]
    },
    {
     "name": "stdout",
     "output_type": "stream",
     "text": [
      "exch = SHFE, date=2021-08-04\n"
     ]
    },
    {
     "name": "stderr",
     "output_type": "stream",
     "text": [
      "C:\\Anaconda3\\lib\\site-packages\\sqlalchemy\\sql\\base.py:299: SAWarning: Can't validate argument 'replace_string'; can't locate any SQLAlchemy dialect named 'replace'\n",
      "  util.warn(\n"
     ]
    },
    {
     "name": "stdout",
     "output_type": "stream",
     "text": [
      "exch = SHFE, date=2021-08-03\n"
     ]
    },
    {
     "name": "stderr",
     "output_type": "stream",
     "text": [
      "C:\\Anaconda3\\lib\\site-packages\\sqlalchemy\\sql\\base.py:299: SAWarning: Can't validate argument 'replace_string'; can't locate any SQLAlchemy dialect named 'replace'\n",
      "  util.warn(\n"
     ]
    },
    {
     "name": "stdout",
     "output_type": "stream",
     "text": [
      "exch = SHFE, date=2021-08-02\n"
     ]
    },
    {
     "name": "stderr",
     "output_type": "stream",
     "text": [
      "C:\\Anaconda3\\lib\\site-packages\\sqlalchemy\\sql\\base.py:299: SAWarning: Can't validate argument 'replace_string'; can't locate any SQLAlchemy dialect named 'replace'\n",
      "  util.warn(\n"
     ]
    },
    {
     "name": "stdout",
     "output_type": "stream",
     "text": [
      "exch = INE, date=2021-08-13\n",
      "exch = INE, date=2021-08-12\n",
      "exch = INE, date=2021-08-11\n",
      "exch = INE, date=2021-08-10\n",
      "exch = INE, date=2021-08-09\n",
      "exch = INE, date=2021-08-06\n",
      "exch = INE, date=2021-08-05\n",
      "exch = INE, date=2021-08-04\n",
      "exch = INE, date=2021-08-03\n",
      "exch = INE, date=2021-08-02\n"
     ]
    }
   ],
   "source": [
    "# china exch daily settle\n",
    "sdate = datetime.date(2021,8,1)\n",
    "tday = datetime.date(2021,8,13)\n",
    "\n",
    "for exch in [\"DCE\", \"CFFEX\", \"CZCE\", \"SHFE\", \"INE\",]:\n",
    "    aks_data_update.update_hist_fut_daily(start_date = sdate, end_date = tday, exchanges = [exch], flavor = 'mysql', fut_table = 'fut_daily')\n",
    "\n",
    "    "
   ]
  },
  {
   "cell_type": "code",
   "execution_count": 3,
   "metadata": {},
   "outputs": [],
   "source": [
    "import pycmqlib3.analytics.data_handler as dh\n",
    "from pycmqlib3.utility.misc import day_shift, CHN_Holidays, sign, is_workday\n",
    "from misc_scripts import factor_data_update\n",
    "import datetime\n",
    "\n",
    "# commod_mkts = ['rb', 'hc', 'i', 'j', 'jm', 'ru', 'FG', 'ZC', 'cu', 'al', 'zn', 'pb', 'ni', 'sn', \\\n",
    "#                'l', 'pp', 'v', 'TA', 'sc', 'm', 'RM', 'y', 'p', 'OI', 'a', 'c', 'CF', 'jd', \\\n",
    "#                'AP', 'SM', 'SF', 'ss', 'CJ', 'UR', 'eb', 'eg', 'pg', 'T', 'PK', 'PF', 'lh', \\\n",
    "#                'MA', 'SR', 'cs', ]\n",
    "\n",
    "commod_mkts = ['PK']\n",
    "\n",
    "scenarios_all = [ \\\n",
    "             ('tscarry', 'ryieldnmb', 2.8, 1, 120, 1, (None, {}, ''), [0.0, 0.0]), \\\n",
    "             ('tscarry', 'basmomnma', 0.7, 100, 120, 1, (None, {}, ''), [0.0, 0.0]), \\\n",
    "             ('tscarry', 'basmomnma', 0.5, 170, 120, 1, (None, {}, ''), [0.0, 0.0]),\\\n",
    "             #('tscarry', 'basmomnma', 0.2, 230, 120, 1, (None, {}, ''), [0.0, 0.0]),\\\n",
    "             ('xscarry', 'ryieldsma', 0.6, 1, 30, 10, (None, {}, ''), [0.0, 0.0], 0.2), \\\n",
    "             #('xscarry', 'ryieldsma', 0.15, 1, 110, 10, (None, {}, ''), [0.0, 0.0], 0.2), \\\n",
    "             ('xscarry', 'ryieldsma', 1.5, 1, 190, 10, (None, {}, ''), [0.0, 0.0], 0.2), \\\n",
    "             ('xscarry', 'ryieldnma',1.5, 1, 20, 1, (None, {}, ''), [0.0, 0.0], 0.2), \\\n",
    "             ('xscarry', 'ryieldnma', 1.8, 1, 110, 1, (None, {}, ''), [0.0, 0.0], 0.2), \\\n",
    "             #('xscarry', 'ryieldnma', 0.2, 1, 210, 1, (None, {}, ''), [0.0, 0.0], 0.2), \\\n",
    "             ('xscarry', 'basmomsma', 0.6, 100, 10, 5, (None, {}, ''), [0.0, 0.0], 0.2), \\\n",
    "             ('xscarry', 'basmomsma', 0.6, 220, 10, 5, (None, {}, ''), [0.0, 0.0], 0.2), \\\n",
    "             ('xscarry', 'basmomnma', 1.5, 80, 120, 5, (None, {}, ''), [0.0, 0.0], 0.2), \\\n",
    "             ('xscarry', 'basmomnma', 1.5, 150, 120, 5, (None, {}, ''), [0.0, 0.0], 0.2), \\\n",
    "             ('xscarry', 'basmomnma', 1.5, 220, 120, 5, (None, {}, ''), [0.0, 0.0], 0.2), \\\n",
    "             ('tsmom', 'momnma', 0.2, 10, 60, 1, (None, {}, ''), [0.0]), \\\n",
    "             ('tsmom', 'momnma', 0.07, 220, 60, 1, (None, {}, ''), [0.0]), \\\n",
    "             ('tsmom', 'hlbrk', 2.0, 10, 1, 10, (None, {}, ''), [0.0, 0.0], 0.2), \\\n",
    "             ('tsmom', 'hlbrk', 1.5, 30, 1, 10, (None, {}, ''), [0.0, 0.0], 0.2), \\\n",
    "             ('tsmom', 'hlbrk', 1.2, 240, 1, 10, (None, {}, ''), [0.0, 0.0], 0.2), \\\n",
    "             #('tsmom', 'momxma', 0.2, 40, 30, 5, (misc.sign, {}, 'sign'), [0.0]), \\\n",
    "             #('tsmom', 'momxma', 0.15, 40, 80, 5, (misc.sign, {}, 'sign'), [0.0]), \\\n",
    "             #('tsmom', 'mixmom', 0.375, 10, 1, 10, (misc.sign, {}, 'sign'), [0.0]), \\\n",
    "             #('tsmom', 'mixmom', 0.3, 30, 1, 10, (misc.sign, {}, 'sign'), [0.0]), \\\n",
    "             #('tsmom', 'mixmom', 0.3, 220, 1, 10, (misc.sign, {}, 'sign'), [0.0]), \\\n",
    "             #('tsmom', 'rsixea', 0.25, 30, 40, 5, (misc.sign, {}, 'sign'), [0.0]), \\\n",
    "             #('tsmom', 'rsixea', 0.25, 30, 110, 5, (misc.sign, {}, 'sign'), [0.0]), \\\n",
    "             ('tsmom', 'macdnma', 0.4, 8, 160, 5, (dh.response_curve, {\"response\": \"reverting\", \"param\": 2}, 'reverting'), [1.5, 10.0]), \\\n",
    "             ('tsmom', 'macdnma', 0.3, 16, 160, 5, (dh.response_curve, {\"response\": \"reverting\", \"param\": 2}, 'reverting'), [1.5, 5.0]), \\\n",
    "             ('tsmom', 'macdnma', 0.3, 24, 160, 5, (dh.response_curve, {\"response\": \"reverting\", \"param\": 2}, 'reverting'), [1.5, 3.34]), \\\n",
    "             #('xsmom', 'mom', 0.15, 160, 1, 5, (None, {}, ''), [0.0], 0.2), \\\n",
    "             ('xsmom', 'hlbrk', 1.5, 20, 1, 10, (None, {}, ''), [0.0, 0.0], 0.2), \\\n",
    "             ('xsmom', 'hlbrk', 1.2, 120, 1, 10, (None, {}, ''), [0.0, 0.0], 0.2), \\\n",
    "             ('xsmom', 'hlbrk', 1.2, 240, 1, 10, (None, {}, ''), [0.0, 0.0], 0.2), \\\n",
    "             ('xsmom', 'mom', 1.0, 20, 1, 5, (None, {}, ''), [0.0], 0.2), \\\n",
    "             ('xsmom', 'mom', 1.0, 210, 1, 5, (None, {}, ''), [0.0], 0.2), \\\n",
    "             ('xsmom', 'momnma', 1.0, 130, 90, 5, (None, {}, ''), [0.0], 0.2), \\\n",
    "             ('xsmom', 'momnma', 1.0, 240, 90, 5, (None, {}, ''), [0.0], 0.2), \\\n",
    "             ('xsmom', 'momsma', 0.8, 140, 120, 5, (None, {}, ''), [0.0], 0.2), \\\n",
    "             ('xsmom', 'momsma', 0.8, 240, 120, 5, (None, {}, ''), [0.0], 0.2), \\\n",
    "             #('xsmom', 'rsiema', 0.1, 70, 60, 5, (None, {}, ''), [0.0], 0.2), \\\n",
    "             #('xsmom', 'rsiema', 0.1, 100, 80, 5, (None, {}, ''), [0.0], 0.2), \\\n",
    "             #('xsmom', 'rsiema', 0.1, 90, 10, 5, (None, {}, ''), [0.0], 0.2), \\\n",
    "             #('xsmom', 'macdnma', 0.1, 8, 200, 5, (dh.response_curve, {\"response\": \"absorbing\", \"param\": 2}, \"absorbing\"), [1.5, 12.5], 0.2), \\\n",
    "             #('xsmom', 'macdnma', 0.1, 16, 200, 5, (dh.response_curve, {\"response\": \"absorbing\", \"param\": 2}, \"absorbing\"), [1.5, 6.25], 0.2), \\\n",
    "             #('xsmom', 'macdnma', 0.1, 32, 200, 5, (dh.response_curve, {\"response\": \"absorbing\", \"param\": 2}, \"absorbing\"), [1.5, 3.125], 0.2), \\\n",
    "             #('xsmom', 'macdnma', 0.1, 64, 100, 5, (dh.response_curve, {\"response\": \"absorbing\", \"param\": 2}, \"absorbing\"), [1.5, 1.56], 0.2), \\\n",
    "            ]\n",
    "\n",
    "scenarios_elite = [ \\\n",
    "        ('tscarry', 'ryieldnmb', 2.8, 1, 120, 1, (None, {}, ''), [0.0, 0.0]),\n",
    "        ('tscarry', 'basmomnma', 0.7, 100, 120, 1, (None, {}, ''), [0.0, 0.0]),\n",
    "        ('tscarry', 'basmomnma', 0.5, 170, 120, 1, (None, {}, ''), [0.0, 0.0]),\n",
    "#        #('xscarry', 'ryieldsma', 0.6, 1, 30, 10, (None, {}, ''), [0.0, 0.0], 0.2), \n",
    "#        #('xscarry', 'ryieldsma', 1.5, 1, 190, 10, (None, {}, ''), [0.0, 0.0], 0.2),\n",
    "        ('xscarry', 'ryieldnma',2.0, 1, 20, 1, (None, {}, ''), [0.0, 0.0], 0.2), \n",
    "        ('xscarry', 'ryieldnma', 2.2, 1, 110, 1, (None, {}, ''), [0.0, 0.0], 0.2),             \n",
    "#        #'xscarry', 'basmomsma', 0.6, 100, 10, 5, (None, {}, ''), [0.0, 0.0], 0.2),\n",
    "#        #'xscarry', 'basmomsma', 0.6, 220, 10, 5, (None, {}, ''), [0.0, 0.0], 0.2),\n",
    "        ('xscarry', 'basmomnma', 2.5, 80, 120, 5, (None, {}, ''), [0.0, 0.0], 0.2),\n",
    "        ('xscarry', 'basmomnma', 2.5, 150, 120, 5, (None, {}, ''), [0.0, 0.0], 0.2),\n",
    "#        #('xscarry', 'basmomnma', 1.5, 220, 120, 5, (None, {}, ''), [0.0, 0.0], 0.2),\n",
    "#        ('tsmom', 'momnma', 0.2, 10, 60, 1, (None, {}, ''), [0.0]),\n",
    "#        ('tsmom', 'momnma', 0.07, 220, 60, 1, (None, {}, ''), [0.0]),\n",
    "        ('tsmom', 'hlbrk', 1.2, 10, 1, 10, (None, {}, ''), [0.0, 0.0], 0.2),\n",
    "        ('tsmom', 'hlbrk', 1.0, 30, 1, 10, (None, {}, ''), [0.0, 0.0], 0.2),\n",
    "        ('tsmom', 'hlbrk', 1.0, 240, 1, 10, (None, {}, ''), [0.0, 0.0], 0.2),             \n",
    "        ('tsmom', 'macdnma', 0.24, 8, 160, 5, (dh.response_curve, {\"response\": \"reverting\", \"param\": 2}, 'reverting'), [1.5, 10.0]),\n",
    "        ('tsmom', 'macdnma', 0.21, 16, 160, 5, (dh.response_curve, {\"response\": \"reverting\", \"param\": 2}, 'reverting'), [1.5, 5.0]),\n",
    "#        ('tsmom', 'macdnma', 0.3, 24, 160, 5, (dh.response_curve, {\"response\": \"reverting\", \"param\": 2}, 'reverting'), [1.5, 3.34]),\n",
    "#        #('xsmom', 'mom', 0.15, 160, 1, 5, (None, {}, ''), [0.0], 0.2),\n",
    "        ('xsmom', 'hlbrk', 0.9, 20, 1, 10, (None, {}, ''), [0.0, 0.0], 0.2),\n",
    "        ('xsmom', 'hlbrk', 0.75, 120, 1, 10, (None, {}, ''), [0.0, 0.0], 0.2),\n",
    "        ('xsmom', 'hlbrk', 0.75, 240, 1, 10, (None, {}, ''), [0.0, 0.0], 0.2),\n",
    "#        ('xsmom', 'mom', 1.0, 20, 1, 5, (None, {}, ''), [0.0], 0.2),\n",
    "#        ('xsmom', 'mom', 1.0, 210, 1, 5, (None, {}, ''), [0.0], 0.2),\n",
    "        ('xsmom', 'momnma', 0.75, 130, 90, 5, (None, {}, ''), [0.0], 0.2),\n",
    "        ('xsmom', 'momnma', 0.75, 240, 90, 5, (None, {}, ''), [0.0], 0.2),\n",
    "        #('xsmom', 'momsma', 0.8, 140, 120, 5, (None, {}, ''), [0.0], 0.2),\n",
    "        #('xsmom', 'momsma', 0.8, 240, 120, 5, (None, {}, ''), [0.0], 0.2),\n",
    "]\n"
   ]
  },
  {
   "cell_type": "code",
   "execution_count": 4,
   "metadata": {},
   "outputs": [
    {
     "name": "stdout",
     "output_type": "stream",
     "text": [
      "updating factor data calculation...\n",
      "loading mkt = PK, nb = 1, args = {'roll_rule': '-30b', 'freq': 'd', 'shift_mode': 1, 'dbtbl_prefix': '', 'start_date': datetime.date(2021, 4, 1), 'end_date': datetime.date(2022, 2, 21), 'n': 1}\n",
      "loading mkt = PK, nb = 2, args = {'roll_rule': '-30b', 'freq': 'd', 'shift_mode': 1, 'dbtbl_prefix': '', 'start_date': datetime.date(2021, 4, 1), 'end_date': datetime.date(2022, 2, 21), 'n': 2}\n"
     ]
    },
    {
     "name": "stderr",
     "output_type": "stream",
     "text": [
      "C:\\Anaconda3\\lib\\site-packages\\sqlalchemy\\sql\\base.py:299: SAWarning: Can't validate argument 'replace_string'; can't locate any SQLAlchemy dialect named 'replace'\n",
      "  util.warn(\n",
      "C:\\Anaconda3\\lib\\site-packages\\sqlalchemy\\sql\\base.py:299: SAWarning: Can't validate argument 'replace_string'; can't locate any SQLAlchemy dialect named 'replace'\n",
      "  util.warn(\n",
      "C:\\Anaconda3\\lib\\site-packages\\sqlalchemy\\sql\\base.py:299: SAWarning: Can't validate argument 'replace_string'; can't locate any SQLAlchemy dialect named 'replace'\n",
      "  util.warn(\n"
     ]
    },
    {
     "name": "stdout",
     "output_type": "stream",
     "text": [
      "ryield_1_nmb_120 {'name': 'ryield_1_nmb_120', 'type': 'ts', 'threshold': 0.0, 'rebal': 1, 'param': [0.0, 0.0], 'weight': 2.8}               open    high     low   close  volume  openInterest contract  \\\n",
      "date                                                                        \n",
      "2022-02-08  8168.0  8280.0  8120.0  8148.0  133319        206569    PK204   \n",
      "2022-02-09  8102.0  8154.0  8088.0  8124.0   87140        209603    PK204   \n",
      "2022-02-10  8158.0  8178.0  8052.0  8098.0   99118        212848    PK204   \n",
      "2022-02-11  8082.0  8124.0  7980.0  7982.0  121796        211104    PK204   \n",
      "2022-02-14  8012.0  8040.0  7952.0  7990.0   92968        214421    PK204   \n",
      "2022-02-15  7990.0  8038.0  7954.0  8022.0   96360        218847    PK204   \n",
      "2022-02-16  8016.0  8050.0  7966.0  7972.0  107855        222043    PK204   \n",
      "2022-02-17  7964.0  8014.0  7906.0  7976.0  127448        213800    PK204   \n",
      "2022-02-18  7982.0  8020.0  7966.0  7976.0   74028        213507    PK204   \n",
      "2022-02-21  7990.0  8130.0  7990.0  8108.0  151804        214163    PK204   \n",
      "\n",
      "            shift  contmth    mth  ...  shift_2  contmth_2  mth_2    ryield  \\\n",
      "date                               ...                                        \n",
      "2022-02-08    0.0   202204  24268  ...      0.0     202210  24274 -0.191780   \n",
      "2022-02-09    0.0   202204  24268  ...      0.0     202210  24274 -0.204804   \n",
      "2022-02-10    0.0   202204  24268  ...      0.0     202210  24274 -0.211659   \n",
      "2022-02-11    0.0   202204  24268  ...      0.0     202210  24274 -0.201932   \n",
      "2022-02-14    0.0   202204  24268  ...      0.0     202210  24274 -0.170265   \n",
      "2022-02-15    0.0   202204  24268  ...      0.0     202210  24274 -0.177386   \n",
      "2022-02-16    0.0   202204  24268  ...      0.0     202210  24274 -0.185779   \n",
      "2022-02-17    0.0   202204  24268  ...      0.0     202210  24274 -0.197538   \n",
      "2022-02-18    0.0   202204  24268  ...      0.0     202210  24274 -0.194355   \n",
      "2022-02-21    0.0   202204  24268  ...      0.0     202210  24274 -0.173776   \n",
      "\n",
      "              logret  logret_2     baslr  upratio  ryieldnmb  ryield_1_nmb_120  \n",
      "date                                                                            \n",
      "2022-02-08 -0.002207  0.000892 -0.003099     -0.5  -2.091555         -2.091555  \n",
      "2022-02-09 -0.002950  0.003562 -0.006512     -0.5  -2.197384         -2.197384  \n",
      "2022-02-10 -0.003206  0.000222 -0.003428     -0.5  -2.230629         -2.230629  \n",
      "2022-02-11 -0.014428 -0.019292  0.004864     -0.5  -2.097969         -2.097969  \n",
      "2022-02-14  0.001002 -0.014832  0.015834      0.5  -1.750485         -1.750485  \n",
      "2022-02-15  0.003997  0.007558 -0.003561      0.5  -1.800144         -1.800144  \n",
      "2022-02-16 -0.006252 -0.002055 -0.004197     -0.5  -1.859308         -1.859308  \n",
      "2022-02-17  0.000502  0.006381 -0.005879      0.5  -1.946638         -1.946638  \n",
      "2022-02-18  0.000000 -0.001591  0.001591     -0.5  -1.890284         -1.890284  \n",
      "2022-02-21  0.016414  0.006125  0.010290      0.5  -1.672105         -1.672105  \n",
      "\n",
      "[10 rows x 27 columns]\n",
      "basmom_100_nma_120 {'name': 'basmom_100_nma_120', 'type': 'ts', 'threshold': 0.0, 'rebal': 1, 'param': [0.0, 0.0], 'weight': 0.7}               open    high     low   close  volume  openInterest contract  \\\n",
      "date                                                                        \n",
      "2022-02-08  8168.0  8280.0  8120.0  8148.0  133319        206569    PK204   \n",
      "2022-02-09  8102.0  8154.0  8088.0  8124.0   87140        209603    PK204   \n",
      "2022-02-10  8158.0  8178.0  8052.0  8098.0   99118        212848    PK204   \n",
      "2022-02-11  8082.0  8124.0  7980.0  7982.0  121796        211104    PK204   \n",
      "2022-02-14  8012.0  8040.0  7952.0  7990.0   92968        214421    PK204   \n",
      "2022-02-15  7990.0  8038.0  7954.0  8022.0   96360        218847    PK204   \n",
      "2022-02-16  8016.0  8050.0  7966.0  7972.0  107855        222043    PK204   \n",
      "2022-02-17  7964.0  8014.0  7906.0  7976.0  127448        213800    PK204   \n",
      "2022-02-18  7982.0  8020.0  7966.0  7976.0   74028        213507    PK204   \n",
      "2022-02-21  7990.0  8130.0  7990.0  8108.0  151804        214163    PK204   \n",
      "\n",
      "            shift  contmth    mth  ...    ryield    logret  logret_2  \\\n",
      "date                               ...                                 \n",
      "2022-02-08    0.0   202204  24268  ... -0.191780 -0.002207  0.000892   \n",
      "2022-02-09    0.0   202204  24268  ... -0.204804 -0.002950  0.003562   \n",
      "2022-02-10    0.0   202204  24268  ... -0.211659 -0.003206  0.000222   \n",
      "2022-02-11    0.0   202204  24268  ... -0.201932 -0.014428 -0.019292   \n",
      "2022-02-14    0.0   202204  24268  ... -0.170265  0.001002 -0.014832   \n",
      "2022-02-15    0.0   202204  24268  ... -0.177386  0.003997  0.007558   \n",
      "2022-02-16    0.0   202204  24268  ... -0.185779 -0.006252 -0.002055   \n",
      "2022-02-17    0.0   202204  24268  ... -0.197538  0.000502  0.006381   \n",
      "2022-02-18    0.0   202204  24268  ... -0.194355  0.000000 -0.001591   \n",
      "2022-02-21    0.0   202204  24268  ... -0.173776  0.016414  0.006125   \n",
      "\n",
      "               baslr  upratio  ryieldnmb ryield_1_nmb_120    basmom  \\\n",
      "date                                                                  \n",
      "2022-02-08 -0.003099    -0.01  -2.091555        -2.091555 -0.060830   \n",
      "2022-02-09 -0.006512    -0.02  -2.197384        -2.197384 -0.068774   \n",
      "2022-02-10 -0.003428    -0.02  -2.230629        -2.230629 -0.073325   \n",
      "2022-02-11  0.004864    -0.03  -2.097969        -2.097969 -0.068956   \n",
      "2022-02-14  0.015834    -0.02  -1.750485        -1.750485 -0.048082   \n",
      "2022-02-15 -0.003561    -0.01  -1.800144        -1.800144 -0.058723   \n",
      "2022-02-16 -0.004197    -0.01  -1.859308        -1.859308 -0.055935   \n",
      "2022-02-17 -0.005879    -0.01  -1.946638        -1.946638 -0.058371   \n",
      "2022-02-18  0.001591    -0.02  -1.890284        -1.890284 -0.057491   \n",
      "2022-02-21  0.010290    -0.01  -1.672105        -1.672105 -0.043662   \n",
      "\n",
      "            basmomnma  basmom_100_nma_120  \n",
      "date                                       \n",
      "2022-02-08        NaN                 NaN  \n",
      "2022-02-09        NaN                 NaN  \n",
      "2022-02-10        NaN                 NaN  \n",
      "2022-02-11        NaN                 NaN  \n",
      "2022-02-14        NaN                 NaN  \n",
      "2022-02-15        NaN                 NaN  \n",
      "2022-02-16        NaN                 NaN  \n",
      "2022-02-17        NaN                 NaN  \n",
      "2022-02-18        NaN                 NaN  \n",
      "2022-02-21        NaN                 NaN  \n",
      "\n",
      "[10 rows x 30 columns]\n",
      "basmom_170_nma_120 {'name': 'basmom_170_nma_120', 'type': 'ts', 'threshold': 0.0, 'rebal': 1, 'param': [0.0, 0.0], 'weight': 0.5}               open    high     low   close  volume  openInterest contract  \\\n",
      "date                                                                        \n",
      "2022-02-08  8168.0  8280.0  8120.0  8148.0  133319        206569    PK204   \n",
      "2022-02-09  8102.0  8154.0  8088.0  8124.0   87140        209603    PK204   \n",
      "2022-02-10  8158.0  8178.0  8052.0  8098.0   99118        212848    PK204   \n",
      "2022-02-11  8082.0  8124.0  7980.0  7982.0  121796        211104    PK204   \n",
      "2022-02-14  8012.0  8040.0  7952.0  7990.0   92968        214421    PK204   \n",
      "2022-02-15  7990.0  8038.0  7954.0  8022.0   96360        218847    PK204   \n",
      "2022-02-16  8016.0  8050.0  7966.0  7972.0  107855        222043    PK204   \n",
      "2022-02-17  7964.0  8014.0  7906.0  7976.0  127448        213800    PK204   \n",
      "2022-02-18  7982.0  8020.0  7966.0  7976.0   74028        213507    PK204   \n",
      "2022-02-21  7990.0  8130.0  7990.0  8108.0  151804        214163    PK204   \n",
      "\n",
      "            shift  contmth    mth  ...    logret  logret_2     baslr  \\\n",
      "date                               ...                                 \n",
      "2022-02-08    0.0   202204  24268  ... -0.002207  0.000892 -0.003099   \n",
      "2022-02-09    0.0   202204  24268  ... -0.002950  0.003562 -0.006512   \n",
      "2022-02-10    0.0   202204  24268  ... -0.003206  0.000222 -0.003428   \n",
      "2022-02-11    0.0   202204  24268  ... -0.014428 -0.019292  0.004864   \n",
      "2022-02-14    0.0   202204  24268  ...  0.001002 -0.014832  0.015834   \n",
      "2022-02-15    0.0   202204  24268  ...  0.003997  0.007558 -0.003561   \n",
      "2022-02-16    0.0   202204  24268  ... -0.006252 -0.002055 -0.004197   \n",
      "2022-02-17    0.0   202204  24268  ...  0.000502  0.006381 -0.005879   \n",
      "2022-02-18    0.0   202204  24268  ...  0.000000 -0.001591  0.001591   \n",
      "2022-02-21    0.0   202204  24268  ...  0.016414  0.006125  0.010290   \n",
      "\n",
      "             upratio  ryieldnmb  ryield_1_nmb_120    basmom  basmomnma  \\\n",
      "date                                                                     \n",
      "2022-02-08 -0.023529  -2.091555         -2.091555 -0.075741        NaN   \n",
      "2022-02-09 -0.023529  -2.197384         -2.197384 -0.080463        NaN   \n",
      "2022-02-10 -0.029412  -2.230629         -2.230629 -0.085684        NaN   \n",
      "2022-02-11 -0.029412  -2.097969         -2.097969 -0.080006        NaN   \n",
      "2022-02-14 -0.023529  -1.750485         -1.750485 -0.062975        NaN   \n",
      "2022-02-15 -0.023529  -1.800144         -1.800144 -0.067947        NaN   \n",
      "2022-02-16 -0.029412  -1.859308         -1.859308 -0.075120        NaN   \n",
      "2022-02-17 -0.023529  -1.946638         -1.946638 -0.078580        NaN   \n",
      "2022-02-18 -0.023529  -1.890284         -1.890284 -0.069054        NaN   \n",
      "2022-02-21 -0.017647  -1.672105         -1.672105 -0.062791        NaN   \n",
      "\n",
      "            basmom_100_nma_120  basmom_170_nma_120  \n",
      "date                                                \n",
      "2022-02-08                 NaN                 NaN  \n",
      "2022-02-09                 NaN                 NaN  \n",
      "2022-02-10                 NaN                 NaN  \n",
      "2022-02-11                 NaN                 NaN  \n",
      "2022-02-14                 NaN                 NaN  \n",
      "2022-02-15                 NaN                 NaN  \n",
      "2022-02-16                 NaN                 NaN  \n",
      "2022-02-17                 NaN                 NaN  \n",
      "2022-02-18                 NaN                 NaN  \n",
      "2022-02-21                 NaN                 NaN  \n",
      "\n",
      "[10 rows x 31 columns]\n",
      "ryield_1_nma_20 {'name': 'ryield_1_nma_20', 'type': 'xs', 'threshold': 0.2, 'rebal': 1, 'param': [0.0, 0.0], 'weight': 2.0}               open    high     low   close  volume  openInterest contract  \\\n",
      "date                                                                        \n",
      "2022-02-08  8168.0  8280.0  8120.0  8148.0  133319        206569    PK204   \n",
      "2022-02-09  8102.0  8154.0  8088.0  8124.0   87140        209603    PK204   \n",
      "2022-02-10  8158.0  8178.0  8052.0  8098.0   99118        212848    PK204   \n",
      "2022-02-11  8082.0  8124.0  7980.0  7982.0  121796        211104    PK204   \n",
      "2022-02-14  8012.0  8040.0  7952.0  7990.0   92968        214421    PK204   \n",
      "2022-02-15  7990.0  8038.0  7954.0  8022.0   96360        218847    PK204   \n",
      "2022-02-16  8016.0  8050.0  7966.0  7972.0  107855        222043    PK204   \n",
      "2022-02-17  7964.0  8014.0  7906.0  7976.0  127448        213800    PK204   \n",
      "2022-02-18  7982.0  8020.0  7966.0  7976.0   74028        213507    PK204   \n",
      "2022-02-21  7990.0  8130.0  7990.0  8108.0  151804        214163    PK204   \n",
      "\n",
      "            shift  contmth    mth  ...     baslr  upratio  ryieldnmb  \\\n",
      "date                               ...                                 \n",
      "2022-02-08    0.0   202204  24268  ... -0.003099     -0.5  -2.091555   \n",
      "2022-02-09    0.0   202204  24268  ... -0.006512     -0.5  -2.197384   \n",
      "2022-02-10    0.0   202204  24268  ... -0.003428     -0.5  -2.230629   \n",
      "2022-02-11    0.0   202204  24268  ...  0.004864     -0.5  -2.097969   \n",
      "2022-02-14    0.0   202204  24268  ...  0.015834      0.5  -1.750485   \n",
      "2022-02-15    0.0   202204  24268  ... -0.003561      0.5  -1.800144   \n",
      "2022-02-16    0.0   202204  24268  ... -0.004197     -0.5  -1.859308   \n",
      "2022-02-17    0.0   202204  24268  ... -0.005879      0.5  -1.946638   \n",
      "2022-02-18    0.0   202204  24268  ...  0.001591     -0.5  -1.890284   \n",
      "2022-02-21    0.0   202204  24268  ...  0.010290      0.5  -1.672105   \n",
      "\n",
      "            ryield_1_nmb_120    basmom  basmomnma basmom_100_nma_120  \\\n",
      "date                                                                   \n",
      "2022-02-08         -2.091555 -0.075741        NaN                NaN   \n",
      "2022-02-09         -2.197384 -0.080463        NaN                NaN   \n",
      "2022-02-10         -2.230629 -0.085684        NaN                NaN   \n",
      "2022-02-11         -2.097969 -0.080006        NaN                NaN   \n",
      "2022-02-14         -1.750485 -0.062975        NaN                NaN   \n",
      "2022-02-15         -1.800144 -0.067947        NaN                NaN   \n",
      "2022-02-16         -1.859308 -0.075120        NaN                NaN   \n",
      "2022-02-17         -1.946638 -0.078580        NaN                NaN   \n",
      "2022-02-18         -1.890284 -0.069054        NaN                NaN   \n",
      "2022-02-21         -1.672105 -0.062791        NaN                NaN   \n",
      "\n",
      "            basmom_170_nma_120  ryieldnma  ryield_1_nma_20  \n",
      "date                                                        \n",
      "2022-02-08                 NaN  -7.888647        -7.888647  \n",
      "2022-02-09                 NaN  -8.252341        -8.252341  \n",
      "2022-02-10                 NaN  -7.872696        -7.872696  \n",
      "2022-02-11                 NaN  -7.365470        -7.365470  \n",
      "2022-02-14                 NaN  -6.227591        -6.227591  \n",
      "2022-02-15                 NaN  -6.489350        -6.489350  \n",
      "2022-02-16                 NaN  -6.765565        -6.765565  \n",
      "2022-02-17                 NaN  -7.051727        -7.051727  \n",
      "2022-02-18                 NaN  -7.011387        -7.011387  \n",
      "2022-02-21                 NaN  -6.871308        -6.871308  \n",
      "\n",
      "[10 rows x 33 columns]\n",
      "ryield_1_nma_110 {'name': 'ryield_1_nma_110', 'type': 'xs', 'threshold': 0.2, 'rebal': 1, 'param': [0.0, 0.0], 'weight': 2.2}               open    high     low   close  volume  openInterest contract  \\\n",
      "date                                                                        \n",
      "2022-02-08  8168.0  8280.0  8120.0  8148.0  133319        206569    PK204   \n",
      "2022-02-09  8102.0  8154.0  8088.0  8124.0   87140        209603    PK204   \n",
      "2022-02-10  8158.0  8178.0  8052.0  8098.0   99118        212848    PK204   \n",
      "2022-02-11  8082.0  8124.0  7980.0  7982.0  121796        211104    PK204   \n",
      "2022-02-14  8012.0  8040.0  7952.0  7990.0   92968        214421    PK204   \n",
      "2022-02-15  7990.0  8038.0  7954.0  8022.0   96360        218847    PK204   \n",
      "2022-02-16  8016.0  8050.0  7966.0  7972.0  107855        222043    PK204   \n",
      "2022-02-17  7964.0  8014.0  7906.0  7976.0  127448        213800    PK204   \n",
      "2022-02-18  7982.0  8020.0  7966.0  7976.0   74028        213507    PK204   \n",
      "2022-02-21  7990.0  8130.0  7990.0  8108.0  151804        214163    PK204   \n",
      "\n",
      "            shift  contmth    mth  ...  upratio  ryieldnmb  ryield_1_nmb_120  \\\n",
      "date                               ...                                         \n",
      "2022-02-08    0.0   202204  24268  ...     -0.5  -2.091555         -2.091555   \n",
      "2022-02-09    0.0   202204  24268  ...     -0.5  -2.197384         -2.197384   \n",
      "2022-02-10    0.0   202204  24268  ...     -0.5  -2.230629         -2.230629   \n",
      "2022-02-11    0.0   202204  24268  ...     -0.5  -2.097969         -2.097969   \n",
      "2022-02-14    0.0   202204  24268  ...      0.5  -1.750485         -1.750485   \n",
      "2022-02-15    0.0   202204  24268  ...      0.5  -1.800144         -1.800144   \n",
      "2022-02-16    0.0   202204  24268  ...     -0.5  -1.859308         -1.859308   \n",
      "2022-02-17    0.0   202204  24268  ...      0.5  -1.946638         -1.946638   \n",
      "2022-02-18    0.0   202204  24268  ...     -0.5  -1.890284         -1.890284   \n",
      "2022-02-21    0.0   202204  24268  ...      0.5  -1.672105         -1.672105   \n",
      "\n",
      "              basmom  basmomnma  basmom_100_nma_120 basmom_170_nma_120  \\\n",
      "date                                                                     \n",
      "2022-02-08 -0.075741        NaN                 NaN                NaN   \n",
      "2022-02-09 -0.080463        NaN                 NaN                NaN   \n",
      "2022-02-10 -0.085684        NaN                 NaN                NaN   \n",
      "2022-02-11 -0.080006        NaN                 NaN                NaN   \n",
      "2022-02-14 -0.062975        NaN                 NaN                NaN   \n",
      "2022-02-15 -0.067947        NaN                 NaN                NaN   \n",
      "2022-02-16 -0.075120        NaN                 NaN                NaN   \n",
      "2022-02-17 -0.078580        NaN                 NaN                NaN   \n",
      "2022-02-18 -0.069054        NaN                 NaN                NaN   \n",
      "2022-02-21 -0.062791        NaN                 NaN                NaN   \n",
      "\n",
      "            ryieldnma  ryield_1_nma_20  ryield_1_nma_110  \n",
      "date                                                      \n",
      "2022-02-08  -4.194855        -7.888647         -4.194855  \n",
      "2022-02-09  -4.344899        -8.252341         -4.344899  \n",
      "2022-02-10  -4.363181        -7.872696         -4.363181  \n",
      "2022-02-11  -4.067254        -7.365470         -4.067254  \n",
      "2022-02-14  -3.390726        -6.227591         -3.390726  \n",
      "2022-02-15  -3.484378        -6.489350         -3.484378  \n",
      "2022-02-16  -3.597710        -6.765565         -3.597710  \n",
      "2022-02-17  -3.757638        -7.051727         -3.757638  \n",
      "2022-02-18  -3.636982        -7.011387         -3.636982  \n",
      "2022-02-21  -3.228497        -6.871308         -3.228497  \n",
      "\n",
      "[10 rows x 34 columns]\n",
      "basmom_80_nma_120 {'name': 'basmom_80_nma_120', 'type': 'xs', 'threshold': 0.2, 'rebal': 5, 'param': [0.0, 0.0], 'weight': 2.5}               open    high     low   close  volume  openInterest contract  \\\n",
      "date                                                                        \n",
      "2022-02-08  8168.0  8280.0  8120.0  8148.0  133319        206569    PK204   \n",
      "2022-02-09  8102.0  8154.0  8088.0  8124.0   87140        209603    PK204   \n",
      "2022-02-10  8158.0  8178.0  8052.0  8098.0   99118        212848    PK204   \n",
      "2022-02-11  8082.0  8124.0  7980.0  7982.0  121796        211104    PK204   \n",
      "2022-02-14  8012.0  8040.0  7952.0  7990.0   92968        214421    PK204   \n",
      "2022-02-15  7990.0  8038.0  7954.0  8022.0   96360        218847    PK204   \n",
      "2022-02-16  8016.0  8050.0  7966.0  7972.0  107855        222043    PK204   \n",
      "2022-02-17  7964.0  8014.0  7906.0  7976.0  127448        213800    PK204   \n",
      "2022-02-18  7982.0  8020.0  7966.0  7976.0   74028        213507    PK204   \n",
      "2022-02-21  7990.0  8130.0  7990.0  8108.0  151804        214163    PK204   \n",
      "\n",
      "            shift  contmth    mth  ...  ryieldnmb  ryield_1_nmb_120    basmom  \\\n",
      "date                               ...                                          \n",
      "2022-02-08    0.0   202204  24268  ...  -2.091555         -2.091555 -0.055247   \n",
      "2022-02-09    0.0   202204  24268  ...  -2.197384         -2.197384 -0.060914   \n",
      "2022-02-10    0.0   202204  24268  ...  -2.230629         -2.230629 -0.060075   \n",
      "2022-02-11    0.0   202204  24268  ...  -2.097969         -2.097969 -0.058106   \n",
      "2022-02-14    0.0   202204  24268  ...  -1.750485         -1.750485 -0.037562   \n",
      "2022-02-15    0.0   202204  24268  ...  -1.800144         -1.800144 -0.035894   \n",
      "2022-02-16    0.0   202204  24268  ...  -1.859308         -1.859308 -0.037309   \n",
      "2022-02-17    0.0   202204  24268  ...  -1.946638         -1.946638 -0.048683   \n",
      "2022-02-18    0.0   202204  24268  ...  -1.890284         -1.890284 -0.042005   \n",
      "2022-02-21    0.0   202204  24268  ...  -1.672105         -1.672105 -0.032627   \n",
      "\n",
      "            basmomnma  basmom_100_nma_120  basmom_170_nma_120 ryieldnma  \\\n",
      "date                                                                      \n",
      "2022-02-08  -4.472655                 NaN                 NaN -4.194855   \n",
      "2022-02-09  -4.795922                 NaN                 NaN -4.344899   \n",
      "2022-02-10  -4.590275                 NaN                 NaN -4.363181   \n",
      "2022-02-11  -4.347042                 NaN                 NaN -4.067254   \n",
      "2022-02-14  -2.800881                 NaN                 NaN -3.390726   \n",
      "2022-02-15  -2.668959                 NaN                 NaN -3.484378   \n",
      "2022-02-16  -2.764487                 NaN                 NaN -3.597710   \n",
      "2022-02-17  -3.561993                 NaN                 NaN -3.757638   \n",
      "2022-02-18  -3.056157                 NaN                 NaN -3.636982   \n",
      "2022-02-21  -2.375689                 NaN                 NaN -3.228497   \n",
      "\n",
      "            ryield_1_nma_20  ryield_1_nma_110  basmom_80_nma_120  \n",
      "date                                                              \n",
      "2022-02-08        -7.888647         -4.194855          -4.472655  \n",
      "2022-02-09        -8.252341         -4.344899          -4.795922  \n",
      "2022-02-10        -7.872696         -4.363181          -4.590275  \n",
      "2022-02-11        -7.365470         -4.067254          -4.347042  \n",
      "2022-02-14        -6.227591         -3.390726          -2.800881  \n",
      "2022-02-15        -6.489350         -3.484378          -2.668959  \n",
      "2022-02-16        -6.765565         -3.597710          -2.764487  \n",
      "2022-02-17        -7.051727         -3.757638          -3.561993  \n",
      "2022-02-18        -7.011387         -3.636982          -3.056157  \n",
      "2022-02-21        -6.871308         -3.228497          -2.375689  \n",
      "\n",
      "[10 rows x 35 columns]\n",
      "basmom_150_nma_120 {'name': 'basmom_150_nma_120', 'type': 'xs', 'threshold': 0.2, 'rebal': 5, 'param': [0.0, 0.0], 'weight': 2.5}               open    high     low   close  volume  openInterest contract  \\\n",
      "date                                                                        \n",
      "2022-02-08  8168.0  8280.0  8120.0  8148.0  133319        206569    PK204   \n",
      "2022-02-09  8102.0  8154.0  8088.0  8124.0   87140        209603    PK204   \n",
      "2022-02-10  8158.0  8178.0  8052.0  8098.0   99118        212848    PK204   \n",
      "2022-02-11  8082.0  8124.0  7980.0  7982.0  121796        211104    PK204   \n",
      "2022-02-14  8012.0  8040.0  7952.0  7990.0   92968        214421    PK204   \n",
      "2022-02-15  7990.0  8038.0  7954.0  8022.0   96360        218847    PK204   \n",
      "2022-02-16  8016.0  8050.0  7966.0  7972.0  107855        222043    PK204   \n",
      "2022-02-17  7964.0  8014.0  7906.0  7976.0  127448        213800    PK204   \n",
      "2022-02-18  7982.0  8020.0  7966.0  7976.0   74028        213507    PK204   \n",
      "2022-02-21  7990.0  8130.0  7990.0  8108.0  151804        214163    PK204   \n",
      "\n",
      "            shift  contmth    mth  ...  ryield_1_nmb_120    basmom  basmomnma  \\\n",
      "date                               ...                                          \n",
      "2022-02-08    0.0   202204  24268  ...         -2.091555 -0.071787        NaN   \n",
      "2022-02-09    0.0   202204  24268  ...         -2.197384 -0.080539        NaN   \n",
      "2022-02-10    0.0   202204  24268  ...         -2.230629 -0.085109        NaN   \n",
      "2022-02-11    0.0   202204  24268  ...         -2.097969 -0.080670        NaN   \n",
      "2022-02-14    0.0   202204  24268  ...         -1.750485 -0.063981        NaN   \n",
      "2022-02-15    0.0   202204  24268  ...         -1.800144 -0.067355        NaN   \n",
      "2022-02-16    0.0   202204  24268  ...         -1.859308 -0.069961        NaN   \n",
      "2022-02-17    0.0   202204  24268  ...         -1.946638 -0.075384        NaN   \n",
      "2022-02-18    0.0   202204  24268  ...         -1.890284 -0.074458        NaN   \n",
      "2022-02-21    0.0   202204  24268  ...         -1.672105 -0.063908        NaN   \n",
      "\n",
      "            basmom_100_nma_120  basmom_170_nma_120  ryieldnma ryield_1_nma_20  \\\n",
      "date                                                                            \n",
      "2022-02-08                 NaN                 NaN  -4.194855       -7.888647   \n",
      "2022-02-09                 NaN                 NaN  -4.344899       -8.252341   \n",
      "2022-02-10                 NaN                 NaN  -4.363181       -7.872696   \n",
      "2022-02-11                 NaN                 NaN  -4.067254       -7.365470   \n",
      "2022-02-14                 NaN                 NaN  -3.390726       -6.227591   \n",
      "2022-02-15                 NaN                 NaN  -3.484378       -6.489350   \n",
      "2022-02-16                 NaN                 NaN  -3.597710       -6.765565   \n",
      "2022-02-17                 NaN                 NaN  -3.757638       -7.051727   \n",
      "2022-02-18                 NaN                 NaN  -3.636982       -7.011387   \n",
      "2022-02-21                 NaN                 NaN  -3.228497       -6.871308   \n",
      "\n",
      "            ryield_1_nma_110  basmom_80_nma_120  basmom_150_nma_120  \n",
      "date                                                                 \n",
      "2022-02-08         -4.194855          -4.472655                 NaN  \n",
      "2022-02-09         -4.344899          -4.795922                 NaN  \n",
      "2022-02-10         -4.363181          -4.590275                 NaN  \n",
      "2022-02-11         -4.067254          -4.347042                 NaN  \n",
      "2022-02-14         -3.390726          -2.800881                 NaN  \n",
      "2022-02-15         -3.484378          -2.668959                 NaN  \n",
      "2022-02-16         -3.597710          -2.764487                 NaN  \n",
      "2022-02-17         -3.757638          -3.561993                 NaN  \n",
      "2022-02-18         -3.636982          -3.056157                 NaN  \n",
      "2022-02-21         -3.228497          -2.375689                 NaN  \n",
      "\n",
      "[10 rows x 36 columns]\n"
     ]
    },
    {
     "name": "stdout",
     "output_type": "stream",
     "text": [
      "hlbrk_10 {'name': 'hlbrk_10', 'type': 'ts', 'threshold': 0.0, 'rebal': 10, 'param': [0.0, 0.0], 'weight': 1.2}               open    high     low   close  volume  openInterest contract  \\\n",
      "date                                                                        \n",
      "2022-02-08  8168.0  8280.0  8120.0  8148.0  133319        206569    PK204   \n",
      "2022-02-09  8102.0  8154.0  8088.0  8124.0   87140        209603    PK204   \n",
      "2022-02-10  8158.0  8178.0  8052.0  8098.0   99118        212848    PK204   \n",
      "2022-02-11  8082.0  8124.0  7980.0  7982.0  121796        211104    PK204   \n",
      "2022-02-14  8012.0  8040.0  7952.0  7990.0   92968        214421    PK204   \n",
      "2022-02-15  7990.0  8038.0  7954.0  8022.0   96360        218847    PK204   \n",
      "2022-02-16  8016.0  8050.0  7966.0  7972.0  107855        222043    PK204   \n",
      "2022-02-17  7964.0  8014.0  7906.0  7976.0  127448        213800    PK204   \n",
      "2022-02-18  7982.0  8020.0  7966.0  7976.0   74028        213507    PK204   \n",
      "2022-02-21  7990.0  8130.0  7990.0  8108.0  151804        214163    PK204   \n",
      "\n",
      "            shift  contmth    mth  ...  basmomnma  basmom_100_nma_120  \\\n",
      "date                               ...                                  \n",
      "2022-02-08    0.0   202204  24268  ...        NaN                 NaN   \n",
      "2022-02-09    0.0   202204  24268  ...        NaN                 NaN   \n",
      "2022-02-10    0.0   202204  24268  ...        NaN                 NaN   \n",
      "2022-02-11    0.0   202204  24268  ...        NaN                 NaN   \n",
      "2022-02-14    0.0   202204  24268  ...        NaN                 NaN   \n",
      "2022-02-15    0.0   202204  24268  ...        NaN                 NaN   \n",
      "2022-02-16    0.0   202204  24268  ...        NaN                 NaN   \n",
      "2022-02-17    0.0   202204  24268  ...        NaN                 NaN   \n",
      "2022-02-18    0.0   202204  24268  ...        NaN                 NaN   \n",
      "2022-02-21    0.0   202204  24268  ...        NaN                 NaN   \n",
      "\n",
      "            basmom_170_nma_120  ryieldnma  ryield_1_nma_20  ryield_1_nma_110  \\\n",
      "date                                                                           \n",
      "2022-02-08                 NaN  -4.194855        -7.888647         -4.194855   \n",
      "2022-02-09                 NaN  -4.344899        -8.252341         -4.344899   \n",
      "2022-02-10                 NaN  -4.363181        -7.872696         -4.363181   \n",
      "2022-02-11                 NaN  -4.067254        -7.365470         -4.067254   \n",
      "2022-02-14                 NaN  -3.390726        -6.227591         -3.390726   \n",
      "2022-02-15                 NaN  -3.484378        -6.489350         -3.484378   \n",
      "2022-02-16                 NaN  -3.597710        -6.765565         -3.597710   \n",
      "2022-02-17                 NaN  -3.757638        -7.051727         -3.757638   \n",
      "2022-02-18                 NaN  -3.636982        -7.011387         -3.636982   \n",
      "2022-02-21                 NaN  -3.228497        -6.871308         -3.228497   \n",
      "\n",
      "           basmom_80_nma_120  basmom_150_nma_120     hlbrk  hlbrk_10  \n",
      "date                                                                  \n",
      "2022-02-08         -4.472655                 NaN  0.185714  0.185714  \n",
      "2022-02-09         -4.795922                 NaN  0.128571  0.128571  \n",
      "2022-02-10         -4.590275                 NaN  0.066667  0.066667  \n",
      "2022-02-11         -4.347042                 NaN -0.209524 -0.209524  \n",
      "2022-02-14         -2.800881                 NaN -0.190476 -0.190476  \n",
      "2022-02-15         -2.668959                 NaN -0.114286 -0.114286  \n",
      "2022-02-16         -2.764487                 NaN -0.350829 -0.350829  \n",
      "2022-02-17         -3.561993                 NaN -0.312834 -0.312834  \n",
      "2022-02-18         -3.056157                 NaN -0.312834 -0.312834  \n",
      "2022-02-21         -2.375689                 NaN  0.040107  0.040107  \n",
      "\n",
      "[10 rows x 38 columns]\n",
      "hlbrk_30 {'name': 'hlbrk_30', 'type': 'ts', 'threshold': 0.0, 'rebal': 10, 'param': [0.0, 0.0], 'weight': 1.0}               open    high     low   close  volume  openInterest contract  \\\n",
      "date                                                                        \n",
      "2022-02-08  8168.0  8280.0  8120.0  8148.0  133319        206569    PK204   \n",
      "2022-02-09  8102.0  8154.0  8088.0  8124.0   87140        209603    PK204   \n",
      "2022-02-10  8158.0  8178.0  8052.0  8098.0   99118        212848    PK204   \n",
      "2022-02-11  8082.0  8124.0  7980.0  7982.0  121796        211104    PK204   \n",
      "2022-02-14  8012.0  8040.0  7952.0  7990.0   92968        214421    PK204   \n",
      "2022-02-15  7990.0  8038.0  7954.0  8022.0   96360        218847    PK204   \n",
      "2022-02-16  8016.0  8050.0  7966.0  7972.0  107855        222043    PK204   \n",
      "2022-02-17  7964.0  8014.0  7906.0  7976.0  127448        213800    PK204   \n",
      "2022-02-18  7982.0  8020.0  7966.0  7976.0   74028        213507    PK204   \n",
      "2022-02-21  7990.0  8130.0  7990.0  8108.0  151804        214163    PK204   \n",
      "\n",
      "            shift  contmth    mth  ...  basmom_100_nma_120  \\\n",
      "date                               ...                       \n",
      "2022-02-08    0.0   202204  24268  ...                 NaN   \n",
      "2022-02-09    0.0   202204  24268  ...                 NaN   \n",
      "2022-02-10    0.0   202204  24268  ...                 NaN   \n",
      "2022-02-11    0.0   202204  24268  ...                 NaN   \n",
      "2022-02-14    0.0   202204  24268  ...                 NaN   \n",
      "2022-02-15    0.0   202204  24268  ...                 NaN   \n",
      "2022-02-16    0.0   202204  24268  ...                 NaN   \n",
      "2022-02-17    0.0   202204  24268  ...                 NaN   \n",
      "2022-02-18    0.0   202204  24268  ...                 NaN   \n",
      "2022-02-21    0.0   202204  24268  ...                 NaN   \n",
      "\n",
      "            basmom_170_nma_120  ryieldnma  ryield_1_nma_20  ryield_1_nma_110  \\\n",
      "date                                                                           \n",
      "2022-02-08                 NaN  -4.194855        -7.888647         -4.194855   \n",
      "2022-02-09                 NaN  -4.344899        -8.252341         -4.344899   \n",
      "2022-02-10                 NaN  -4.363181        -7.872696         -4.363181   \n",
      "2022-02-11                 NaN  -4.067254        -7.365470         -4.067254   \n",
      "2022-02-14                 NaN  -3.390726        -6.227591         -3.390726   \n",
      "2022-02-15                 NaN  -3.484378        -6.489350         -3.484378   \n",
      "2022-02-16                 NaN  -3.597710        -6.765565         -3.597710   \n",
      "2022-02-17                 NaN  -3.757638        -7.051727         -3.757638   \n",
      "2022-02-18                 NaN  -3.636982        -7.011387         -3.636982   \n",
      "2022-02-21                 NaN  -3.228497        -6.871308         -3.228497   \n",
      "\n",
      "            basmom_80_nma_120 basmom_150_nma_120     hlbrk  hlbrk_10  hlbrk_30  \n",
      "date                                                                            \n",
      "2022-02-08          -4.472655                NaN  0.136691  0.185714  0.136691  \n",
      "2022-02-09          -4.795922                NaN  0.093525  0.128571  0.093525  \n",
      "2022-02-10          -4.590275                NaN  0.046763  0.066667  0.046763  \n",
      "2022-02-11          -4.347042                NaN -0.161871 -0.209524 -0.161871  \n",
      "2022-02-14          -2.800881                NaN -0.147482 -0.190476 -0.147482  \n",
      "2022-02-15          -2.668959                NaN -0.089928 -0.114286 -0.089928  \n",
      "2022-02-16          -2.764487                NaN -0.157692 -0.350829 -0.157692  \n",
      "2022-02-17          -3.561993                NaN -0.125514 -0.312834 -0.125514  \n",
      "2022-02-18          -3.056157                NaN -0.125514 -0.312834 -0.125514  \n",
      "2022-02-21          -2.375689                NaN  0.146091  0.040107  0.146091  \n",
      "\n",
      "[10 rows x 39 columns]\n",
      "hlbrk_240 {'name': 'hlbrk_240', 'type': 'ts', 'threshold': 0.0, 'rebal': 10, 'param': [0.0, 0.0], 'weight': 1.0}               open    high     low   close  volume  openInterest contract  \\\n",
      "date                                                                        \n",
      "2022-02-08  8168.0  8280.0  8120.0  8148.0  133319        206569    PK204   \n",
      "2022-02-09  8102.0  8154.0  8088.0  8124.0   87140        209603    PK204   \n",
      "2022-02-10  8158.0  8178.0  8052.0  8098.0   99118        212848    PK204   \n",
      "2022-02-11  8082.0  8124.0  7980.0  7982.0  121796        211104    PK204   \n",
      "2022-02-14  8012.0  8040.0  7952.0  7990.0   92968        214421    PK204   \n",
      "2022-02-15  7990.0  8038.0  7954.0  8022.0   96360        218847    PK204   \n",
      "2022-02-16  8016.0  8050.0  7966.0  7972.0  107855        222043    PK204   \n",
      "2022-02-17  7964.0  8014.0  7906.0  7976.0  127448        213800    PK204   \n",
      "2022-02-18  7982.0  8020.0  7966.0  7976.0   74028        213507    PK204   \n",
      "2022-02-21  7990.0  8130.0  7990.0  8108.0  151804        214163    PK204   \n",
      "\n",
      "            shift  contmth    mth  ...  basmom_170_nma_120  ryieldnma  \\\n",
      "date                               ...                                  \n",
      "2022-02-08    0.0   202204  24268  ...                 NaN  -4.194855   \n",
      "2022-02-09    0.0   202204  24268  ...                 NaN  -4.344899   \n",
      "2022-02-10    0.0   202204  24268  ...                 NaN  -4.363181   \n",
      "2022-02-11    0.0   202204  24268  ...                 NaN  -4.067254   \n",
      "2022-02-14    0.0   202204  24268  ...                 NaN  -3.390726   \n",
      "2022-02-15    0.0   202204  24268  ...                 NaN  -3.484378   \n",
      "2022-02-16    0.0   202204  24268  ...                 NaN  -3.597710   \n",
      "2022-02-17    0.0   202204  24268  ...                 NaN  -3.757638   \n",
      "2022-02-18    0.0   202204  24268  ...                 NaN  -3.636982   \n",
      "2022-02-21    0.0   202204  24268  ...                 NaN  -3.228497   \n",
      "\n",
      "            ryield_1_nma_20  ryield_1_nma_110  basmom_80_nma_120  \\\n",
      "date                                                               \n",
      "2022-02-08        -7.888647         -4.194855          -4.472655   \n",
      "2022-02-09        -8.252341         -4.344899          -4.795922   \n",
      "2022-02-10        -7.872696         -4.363181          -4.590275   \n",
      "2022-02-11        -7.365470         -4.067254          -4.347042   \n",
      "2022-02-14        -6.227591         -3.390726          -2.800881   \n",
      "2022-02-15        -6.489350         -3.484378          -2.668959   \n",
      "2022-02-16        -6.765565         -3.597710          -2.764487   \n",
      "2022-02-17        -7.051727         -3.757638          -3.561993   \n",
      "2022-02-18        -7.011387         -3.636982          -3.056157   \n",
      "2022-02-21        -6.871308         -3.228497          -2.375689   \n",
      "\n",
      "            basmom_150_nma_120 hlbrk  hlbrk_10  hlbrk_30  hlbrk_240  \n",
      "date                                                                 \n",
      "2022-02-08                 NaN   NaN  0.185714  0.136691        NaN  \n",
      "2022-02-09                 NaN   NaN  0.128571  0.093525        NaN  \n",
      "2022-02-10                 NaN   NaN  0.066667  0.046763        NaN  \n",
      "2022-02-11                 NaN   NaN -0.209524 -0.161871        NaN  \n",
      "2022-02-14                 NaN   NaN -0.190476 -0.147482        NaN  \n",
      "2022-02-15                 NaN   NaN -0.114286 -0.089928        NaN  \n",
      "2022-02-16                 NaN   NaN -0.350829 -0.157692        NaN  \n",
      "2022-02-17                 NaN   NaN -0.312834 -0.125514        NaN  \n",
      "2022-02-18                 NaN   NaN -0.312834 -0.125514        NaN  \n",
      "2022-02-21                 NaN   NaN  0.040107  0.146091        NaN  \n",
      "\n",
      "[10 rows x 40 columns]\n",
      "macd_8_12_80_nma_160_reverting {'name': 'macd_8_12_80_nma_160_reverting', 'type': 'ts', 'threshold': 0.0, 'rebal': 5, 'param': [1.5, 10.0], 'weight': 0.24}               open    high     low   close  volume  openInterest contract  \\\n",
      "date                                                                        \n",
      "2022-02-08  8168.0  8280.0  8120.0  8148.0  133319        206569    PK204   \n",
      "2022-02-09  8102.0  8154.0  8088.0  8124.0   87140        209603    PK204   \n",
      "2022-02-10  8158.0  8178.0  8052.0  8098.0   99118        212848    PK204   \n",
      "2022-02-11  8082.0  8124.0  7980.0  7982.0  121796        211104    PK204   \n",
      "2022-02-14  8012.0  8040.0  7952.0  7990.0   92968        214421    PK204   \n",
      "2022-02-15  7990.0  8038.0  7954.0  8022.0   96360        218847    PK204   \n",
      "2022-02-16  8016.0  8050.0  7966.0  7972.0  107855        222043    PK204   \n",
      "2022-02-17  7964.0  8014.0  7906.0  7976.0  127448        213800    PK204   \n",
      "2022-02-18  7982.0  8020.0  7966.0  7976.0   74028        213507    PK204   \n",
      "2022-02-21  7990.0  8130.0  7990.0  8108.0  151804        214163    PK204   \n",
      "\n",
      "            shift  contmth    mth  ...  hlbrk  hlbrk_10  hlbrk_30  hlbrk_240  \\\n",
      "date                               ...                                         \n",
      "2022-02-08    0.0   202204  24268  ...    NaN  0.185714  0.136691        NaN   \n",
      "2022-02-09    0.0   202204  24268  ...    NaN  0.128571  0.093525        NaN   \n",
      "2022-02-10    0.0   202204  24268  ...    NaN  0.066667  0.046763        NaN   \n",
      "2022-02-11    0.0   202204  24268  ...    NaN -0.209524 -0.161871        NaN   \n",
      "2022-02-14    0.0   202204  24268  ...    NaN -0.190476 -0.147482        NaN   \n",
      "2022-02-15    0.0   202204  24268  ...    NaN -0.114286 -0.089928        NaN   \n",
      "2022-02-16    0.0   202204  24268  ...    NaN -0.350829 -0.157692        NaN   \n",
      "2022-02-17    0.0   202204  24268  ...    NaN -0.312834 -0.125514        NaN   \n",
      "2022-02-18    0.0   202204  24268  ...    NaN -0.312834 -0.125514        NaN   \n",
      "2022-02-21    0.0   202204  24268  ...    NaN  0.040107  0.146091        NaN   \n",
      "\n",
      "                   ema1         ema2        mstd      macd  macdnma  \\\n",
      "date                                                                  \n",
      "2022-02-08  8042.130070  8028.234140  354.599249  0.039188      NaN   \n",
      "2022-02-09  8060.323388  8042.967349  352.036531  0.049302      NaN   \n",
      "2022-02-10  8068.695968  8051.433911  351.294567  0.049138      NaN   \n",
      "2022-02-11  8049.430198  8040.751771  352.218875  0.024639      NaN   \n",
      "2022-02-14  8036.223487  8032.943806  353.552975  0.009276      NaN   \n",
      "2022-02-15  8033.062712  8031.260143  354.186891  0.005089      NaN   \n",
      "2022-02-16  8019.493221  8022.143198  353.590401 -0.007494      NaN   \n",
      "2022-02-17  8009.828060  8015.044245  350.111692 -0.014899      NaN   \n",
      "2022-02-18  8002.310714  8009.037438  347.759902 -0.019343      NaN   \n",
      "2022-02-21  8025.797222  8024.262447  343.594785  0.004467      NaN   \n",
      "\n",
      "            macd_8_12_80_nma_160_reverting  \n",
      "date                                        \n",
      "2022-02-08                             NaN  \n",
      "2022-02-09                             NaN  \n",
      "2022-02-10                             NaN  \n",
      "2022-02-11                             NaN  \n",
      "2022-02-14                             NaN  \n",
      "2022-02-15                             NaN  \n",
      "2022-02-16                             NaN  \n",
      "2022-02-17                             NaN  \n",
      "2022-02-18                             NaN  \n",
      "2022-02-21                             NaN  \n",
      "\n",
      "[10 rows x 46 columns]\n",
      "macd_16_24_80_nma_160_reverting {'name': 'macd_16_24_80_nma_160_reverting', 'type': 'ts', 'threshold': 0.0, 'rebal': 5, 'param': [1.5, 5.0], 'weight': 0.21}               open    high     low   close  volume  openInterest contract  \\\n",
      "date                                                                        \n",
      "2022-02-08  8168.0  8280.0  8120.0  8148.0  133319        206569    PK204   \n",
      "2022-02-09  8102.0  8154.0  8088.0  8124.0   87140        209603    PK204   \n",
      "2022-02-10  8158.0  8178.0  8052.0  8098.0   99118        212848    PK204   \n",
      "2022-02-11  8082.0  8124.0  7980.0  7982.0  121796        211104    PK204   \n",
      "2022-02-14  8012.0  8040.0  7952.0  7990.0   92968        214421    PK204   \n",
      "2022-02-15  7990.0  8038.0  7954.0  8022.0   96360        218847    PK204   \n",
      "2022-02-16  8016.0  8050.0  7966.0  7972.0  107855        222043    PK204   \n",
      "2022-02-17  7964.0  8014.0  7906.0  7976.0  127448        213800    PK204   \n",
      "2022-02-18  7982.0  8020.0  7966.0  7976.0   74028        213507    PK204   \n",
      "2022-02-21  7990.0  8130.0  7990.0  8108.0  151804        214163    PK204   \n",
      "\n",
      "            shift  contmth    mth  ...  hlbrk_10  hlbrk_30  hlbrk_240  \\\n",
      "date                               ...                                  \n",
      "2022-02-08    0.0   202204  24268  ...  0.185714  0.136691        NaN   \n",
      "2022-02-09    0.0   202204  24268  ...  0.128571  0.093525        NaN   \n",
      "2022-02-10    0.0   202204  24268  ...  0.066667  0.046763        NaN   \n",
      "2022-02-11    0.0   202204  24268  ... -0.209524 -0.161871        NaN   \n",
      "2022-02-14    0.0   202204  24268  ... -0.190476 -0.147482        NaN   \n",
      "2022-02-15    0.0   202204  24268  ... -0.114286 -0.089928        NaN   \n",
      "2022-02-16    0.0   202204  24268  ... -0.350829 -0.157692        NaN   \n",
      "2022-02-17    0.0   202204  24268  ... -0.312834 -0.125514        NaN   \n",
      "2022-02-18    0.0   202204  24268  ... -0.312834 -0.125514        NaN   \n",
      "2022-02-21    0.0   202204  24268  ...  0.040107  0.146091        NaN   \n",
      "\n",
      "                   ema1         ema2        mstd      macd  macdnma  \\\n",
      "date                                                                  \n",
      "2022-02-08  8029.190906  8052.222038  354.599249 -0.064950      NaN   \n",
      "2022-02-09  8040.344917  8057.964275  352.036531 -0.050050      NaN   \n",
      "2022-02-10  8047.127868  8061.167133  351.294567 -0.039964      NaN   \n",
      "2022-02-11  8039.465766  8054.833762  352.218875 -0.043632      NaN   \n",
      "2022-02-14  8033.646264  8049.647061  353.552975 -0.045257      NaN   \n",
      "2022-02-15  8032.276115  8047.435296  354.186891 -0.042800      NaN   \n",
      "2022-02-16  8025.184807  8041.400472  353.590401 -0.045860      NaN   \n",
      "2022-02-17  8019.398360  8036.168434  350.111692 -0.047899      NaN   \n",
      "2022-02-18  8014.292670  8031.354960  347.759902 -0.049063      NaN   \n",
      "2022-02-21  8025.317062  8037.486563  343.594785 -0.035418      NaN   \n",
      "\n",
      "            macd_8_12_80_nma_160_reverting  macd_16_24_80_nma_160_reverting  \n",
      "date                                                                         \n",
      "2022-02-08                             NaN                              NaN  \n",
      "2022-02-09                             NaN                              NaN  \n",
      "2022-02-10                             NaN                              NaN  \n",
      "2022-02-11                             NaN                              NaN  \n",
      "2022-02-14                             NaN                              NaN  \n",
      "2022-02-15                             NaN                              NaN  \n",
      "2022-02-16                             NaN                              NaN  \n",
      "2022-02-17                             NaN                              NaN  \n",
      "2022-02-18                             NaN                              NaN  \n",
      "2022-02-21                             NaN                              NaN  \n",
      "\n",
      "[10 rows x 47 columns]\n",
      "hlbrk_20 {'name': 'hlbrk_20', 'type': 'xs', 'threshold': 0.2, 'rebal': 10, 'param': [0.0, 0.0], 'weight': 0.9}               open    high     low   close  volume  openInterest contract  \\\n",
      "date                                                                        \n",
      "2022-02-08  8168.0  8280.0  8120.0  8148.0  133319        206569    PK204   \n",
      "2022-02-09  8102.0  8154.0  8088.0  8124.0   87140        209603    PK204   \n",
      "2022-02-10  8158.0  8178.0  8052.0  8098.0   99118        212848    PK204   \n",
      "2022-02-11  8082.0  8124.0  7980.0  7982.0  121796        211104    PK204   \n",
      "2022-02-14  8012.0  8040.0  7952.0  7990.0   92968        214421    PK204   \n",
      "2022-02-15  7990.0  8038.0  7954.0  8022.0   96360        218847    PK204   \n",
      "2022-02-16  8016.0  8050.0  7966.0  7972.0  107855        222043    PK204   \n",
      "2022-02-17  7964.0  8014.0  7906.0  7976.0  127448        213800    PK204   \n",
      "2022-02-18  7982.0  8020.0  7966.0  7976.0   74028        213507    PK204   \n",
      "2022-02-21  7990.0  8130.0  7990.0  8108.0  151804        214163    PK204   \n",
      "\n",
      "            shift  contmth    mth  ...  hlbrk_30  hlbrk_240         ema1  \\\n",
      "date                               ...                                     \n",
      "2022-02-08    0.0   202204  24268  ...  0.136691        NaN  8029.190906   \n",
      "2022-02-09    0.0   202204  24268  ...  0.093525        NaN  8040.344917   \n",
      "2022-02-10    0.0   202204  24268  ...  0.046763        NaN  8047.127868   \n",
      "2022-02-11    0.0   202204  24268  ... -0.161871        NaN  8039.465766   \n",
      "2022-02-14    0.0   202204  24268  ... -0.147482        NaN  8033.646264   \n",
      "2022-02-15    0.0   202204  24268  ... -0.089928        NaN  8032.276115   \n",
      "2022-02-16    0.0   202204  24268  ... -0.157692        NaN  8025.184807   \n",
      "2022-02-17    0.0   202204  24268  ... -0.125514        NaN  8019.398360   \n",
      "2022-02-18    0.0   202204  24268  ... -0.125514        NaN  8014.292670   \n",
      "2022-02-21    0.0   202204  24268  ...  0.146091        NaN  8025.317062   \n",
      "\n",
      "                   ema2        mstd      macd macdnma  \\\n",
      "date                                                    \n",
      "2022-02-08  8052.222038  354.599249 -0.064950     NaN   \n",
      "2022-02-09  8057.964275  352.036531 -0.050050     NaN   \n",
      "2022-02-10  8061.167133  351.294567 -0.039964     NaN   \n",
      "2022-02-11  8054.833762  352.218875 -0.043632     NaN   \n",
      "2022-02-14  8049.647061  353.552975 -0.045257     NaN   \n",
      "2022-02-15  8047.435296  354.186891 -0.042800     NaN   \n",
      "2022-02-16  8041.400472  353.590401 -0.045860     NaN   \n",
      "2022-02-17  8036.168434  350.111692 -0.047899     NaN   \n",
      "2022-02-18  8031.354960  347.759902 -0.049063     NaN   \n",
      "2022-02-21  8037.486563  343.594785 -0.035418     NaN   \n",
      "\n",
      "            macd_8_12_80_nma_160_reverting  macd_16_24_80_nma_160_reverting  \\\n",
      "date                                                                          \n",
      "2022-02-08                             NaN                              NaN   \n",
      "2022-02-09                             NaN                              NaN   \n",
      "2022-02-10                             NaN                              NaN   \n",
      "2022-02-11                             NaN                              NaN   \n",
      "2022-02-14                             NaN                              NaN   \n",
      "2022-02-15                             NaN                              NaN   \n",
      "2022-02-16                             NaN                              NaN   \n",
      "2022-02-17                             NaN                              NaN   \n",
      "2022-02-18                             NaN                              NaN   \n",
      "2022-02-21                             NaN                              NaN   \n",
      "\n",
      "            hlbrk_20  \n",
      "date                  \n",
      "2022-02-08  0.228395  \n",
      "2022-02-09  0.179012  \n",
      "2022-02-10  0.125514  \n",
      "2022-02-11 -0.113169  \n",
      "2022-02-14 -0.117021  \n",
      "2022-02-15 -0.078475  \n",
      "2022-02-16 -0.190583  \n",
      "2022-02-17 -0.181614  \n",
      "2022-02-18 -0.223810  \n",
      "2022-02-21  0.090476  \n",
      "\n",
      "[10 rows x 48 columns]\n",
      "hlbrk_120 {'name': 'hlbrk_120', 'type': 'xs', 'threshold': 0.2, 'rebal': 10, 'param': [0.0, 0.0], 'weight': 0.75}               open    high     low   close  volume  openInterest contract  \\\n",
      "date                                                                        \n",
      "2022-02-08  8168.0  8280.0  8120.0  8148.0  133319        206569    PK204   \n",
      "2022-02-09  8102.0  8154.0  8088.0  8124.0   87140        209603    PK204   \n",
      "2022-02-10  8158.0  8178.0  8052.0  8098.0   99118        212848    PK204   \n",
      "2022-02-11  8082.0  8124.0  7980.0  7982.0  121796        211104    PK204   \n",
      "2022-02-14  8012.0  8040.0  7952.0  7990.0   92968        214421    PK204   \n",
      "2022-02-15  7990.0  8038.0  7954.0  8022.0   96360        218847    PK204   \n",
      "2022-02-16  8016.0  8050.0  7966.0  7972.0  107855        222043    PK204   \n",
      "2022-02-17  7964.0  8014.0  7906.0  7976.0  127448        213800    PK204   \n",
      "2022-02-18  7982.0  8020.0  7966.0  7976.0   74028        213507    PK204   \n",
      "2022-02-21  7990.0  8130.0  7990.0  8108.0  151804        214163    PK204   \n",
      "\n",
      "            shift  contmth    mth  ...  hlbrk_240         ema1         ema2  \\\n",
      "date                               ...                                        \n",
      "2022-02-08    0.0   202204  24268  ...        NaN  8029.190906  8052.222038   \n",
      "2022-02-09    0.0   202204  24268  ...        NaN  8040.344917  8057.964275   \n",
      "2022-02-10    0.0   202204  24268  ...        NaN  8047.127868  8061.167133   \n",
      "2022-02-11    0.0   202204  24268  ...        NaN  8039.465766  8054.833762   \n",
      "2022-02-14    0.0   202204  24268  ...        NaN  8033.646264  8049.647061   \n",
      "2022-02-15    0.0   202204  24268  ...        NaN  8032.276115  8047.435296   \n",
      "2022-02-16    0.0   202204  24268  ...        NaN  8025.184807  8041.400472   \n",
      "2022-02-17    0.0   202204  24268  ...        NaN  8019.398360  8036.168434   \n",
      "2022-02-18    0.0   202204  24268  ...        NaN  8014.292670  8031.354960   \n",
      "2022-02-21    0.0   202204  24268  ...        NaN  8025.317062  8037.486563   \n",
      "\n",
      "                  mstd      macd  macdnma macd_8_12_80_nma_160_reverting  \\\n",
      "date                                                                       \n",
      "2022-02-08  354.599249 -0.064950      NaN                            NaN   \n",
      "2022-02-09  352.036531 -0.050050      NaN                            NaN   \n",
      "2022-02-10  351.294567 -0.039964      NaN                            NaN   \n",
      "2022-02-11  352.218875 -0.043632      NaN                            NaN   \n",
      "2022-02-14  353.552975 -0.045257      NaN                            NaN   \n",
      "2022-02-15  354.186891 -0.042800      NaN                            NaN   \n",
      "2022-02-16  353.590401 -0.045860      NaN                            NaN   \n",
      "2022-02-17  350.111692 -0.047899      NaN                            NaN   \n",
      "2022-02-18  347.759902 -0.049063      NaN                            NaN   \n",
      "2022-02-21  343.594785 -0.035418      NaN                            NaN   \n",
      "\n",
      "            macd_16_24_80_nma_160_reverting  hlbrk_20  hlbrk_120  \n",
      "date                                                              \n",
      "2022-02-08                              NaN  0.228395  -0.299320  \n",
      "2022-02-09                              NaN  0.179012  -0.312925  \n",
      "2022-02-10                              NaN  0.125514  -0.327664  \n",
      "2022-02-11                              NaN -0.113169  -0.393424  \n",
      "2022-02-14                              NaN -0.117021  -0.388889  \n",
      "2022-02-15                              NaN -0.078475  -0.370748  \n",
      "2022-02-16                              NaN -0.190583  -0.399093  \n",
      "2022-02-17                              NaN -0.181614  -0.396825  \n",
      "2022-02-18                              NaN -0.223810  -0.396825  \n",
      "2022-02-21                              NaN  0.090476  -0.312201  \n",
      "\n"
     ]
    },
    {
     "name": "stdout",
     "output_type": "stream",
     "text": [
      "[10 rows x 49 columns]\n",
      "hlbrk_240 {'name': 'hlbrk_240', 'type': 'ts', 'threshold': 0.0, 'rebal': 10, 'param': [0.0, 0.0], 'weight': 1.0}               open    high     low   close  volume  openInterest contract  \\\n",
      "date                                                                        \n",
      "2022-02-08  8168.0  8280.0  8120.0  8148.0  133319        206569    PK204   \n",
      "2022-02-09  8102.0  8154.0  8088.0  8124.0   87140        209603    PK204   \n",
      "2022-02-10  8158.0  8178.0  8052.0  8098.0   99118        212848    PK204   \n",
      "2022-02-11  8082.0  8124.0  7980.0  7982.0  121796        211104    PK204   \n",
      "2022-02-14  8012.0  8040.0  7952.0  7990.0   92968        214421    PK204   \n",
      "2022-02-15  7990.0  8038.0  7954.0  8022.0   96360        218847    PK204   \n",
      "2022-02-16  8016.0  8050.0  7966.0  7972.0  107855        222043    PK204   \n",
      "2022-02-17  7964.0  8014.0  7906.0  7976.0  127448        213800    PK204   \n",
      "2022-02-18  7982.0  8020.0  7966.0  7976.0   74028        213507    PK204   \n",
      "2022-02-21  7990.0  8130.0  7990.0  8108.0  151804        214163    PK204   \n",
      "\n",
      "            shift  contmth    mth  ...  hlbrk_240         ema1         ema2  \\\n",
      "date                               ...                                        \n",
      "2022-02-08    0.0   202204  24268  ...        NaN  8029.190906  8052.222038   \n",
      "2022-02-09    0.0   202204  24268  ...        NaN  8040.344917  8057.964275   \n",
      "2022-02-10    0.0   202204  24268  ...        NaN  8047.127868  8061.167133   \n",
      "2022-02-11    0.0   202204  24268  ...        NaN  8039.465766  8054.833762   \n",
      "2022-02-14    0.0   202204  24268  ...        NaN  8033.646264  8049.647061   \n",
      "2022-02-15    0.0   202204  24268  ...        NaN  8032.276115  8047.435296   \n",
      "2022-02-16    0.0   202204  24268  ...        NaN  8025.184807  8041.400472   \n",
      "2022-02-17    0.0   202204  24268  ...        NaN  8019.398360  8036.168434   \n",
      "2022-02-18    0.0   202204  24268  ...        NaN  8014.292670  8031.354960   \n",
      "2022-02-21    0.0   202204  24268  ...        NaN  8025.317062  8037.486563   \n",
      "\n",
      "                  mstd      macd  macdnma macd_8_12_80_nma_160_reverting  \\\n",
      "date                                                                       \n",
      "2022-02-08  354.599249 -0.064950      NaN                            NaN   \n",
      "2022-02-09  352.036531 -0.050050      NaN                            NaN   \n",
      "2022-02-10  351.294567 -0.039964      NaN                            NaN   \n",
      "2022-02-11  352.218875 -0.043632      NaN                            NaN   \n",
      "2022-02-14  353.552975 -0.045257      NaN                            NaN   \n",
      "2022-02-15  354.186891 -0.042800      NaN                            NaN   \n",
      "2022-02-16  353.590401 -0.045860      NaN                            NaN   \n",
      "2022-02-17  350.111692 -0.047899      NaN                            NaN   \n",
      "2022-02-18  347.759902 -0.049063      NaN                            NaN   \n",
      "2022-02-21  343.594785 -0.035418      NaN                            NaN   \n",
      "\n",
      "            macd_16_24_80_nma_160_reverting  hlbrk_20  hlbrk_120  \n",
      "date                                                              \n",
      "2022-02-08                              NaN  0.228395  -0.299320  \n",
      "2022-02-09                              NaN  0.179012  -0.312925  \n",
      "2022-02-10                              NaN  0.125514  -0.327664  \n",
      "2022-02-11                              NaN -0.113169  -0.393424  \n",
      "2022-02-14                              NaN -0.117021  -0.388889  \n",
      "2022-02-15                              NaN -0.078475  -0.370748  \n",
      "2022-02-16                              NaN -0.190583  -0.399093  \n",
      "2022-02-17                              NaN -0.181614  -0.396825  \n",
      "2022-02-18                              NaN -0.223810  -0.396825  \n",
      "2022-02-21                              NaN  0.090476  -0.312201  \n",
      "\n",
      "[10 rows x 49 columns]\n",
      "mom_130_nma_90 {'name': 'mom_130_nma_90', 'type': 'xs', 'threshold': 0.2, 'rebal': 5, 'param': [0.0], 'weight': 0.75}               open    high     low   close  volume  openInterest contract  \\\n",
      "date                                                                        \n",
      "2022-02-08  8168.0  8280.0  8120.0  8148.0  133319        206569    PK204   \n",
      "2022-02-09  8102.0  8154.0  8088.0  8124.0   87140        209603    PK204   \n",
      "2022-02-10  8158.0  8178.0  8052.0  8098.0   99118        212848    PK204   \n",
      "2022-02-11  8082.0  8124.0  7980.0  7982.0  121796        211104    PK204   \n",
      "2022-02-14  8012.0  8040.0  7952.0  7990.0   92968        214421    PK204   \n",
      "2022-02-15  7990.0  8038.0  7954.0  8022.0   96360        218847    PK204   \n",
      "2022-02-16  8016.0  8050.0  7966.0  7972.0  107855        222043    PK204   \n",
      "2022-02-17  7964.0  8014.0  7906.0  7976.0  127448        213800    PK204   \n",
      "2022-02-18  7982.0  8020.0  7966.0  7976.0   74028        213507    PK204   \n",
      "2022-02-21  7990.0  8130.0  7990.0  8108.0  151804        214163    PK204   \n",
      "\n",
      "            shift  contmth    mth  ...        mstd      macd  macdnma  \\\n",
      "date                               ...                                  \n",
      "2022-02-08    0.0   202204  24268  ...  354.599249 -0.064950      NaN   \n",
      "2022-02-09    0.0   202204  24268  ...  352.036531 -0.050050      NaN   \n",
      "2022-02-10    0.0   202204  24268  ...  351.294567 -0.039964      NaN   \n",
      "2022-02-11    0.0   202204  24268  ...  352.218875 -0.043632      NaN   \n",
      "2022-02-14    0.0   202204  24268  ...  353.552975 -0.045257      NaN   \n",
      "2022-02-15    0.0   202204  24268  ...  354.186891 -0.042800      NaN   \n",
      "2022-02-16    0.0   202204  24268  ...  353.590401 -0.045860      NaN   \n",
      "2022-02-17    0.0   202204  24268  ...  350.111692 -0.047899      NaN   \n",
      "2022-02-18    0.0   202204  24268  ...  347.759902 -0.049063      NaN   \n",
      "2022-02-21    0.0   202204  24268  ...  343.594785 -0.035418      NaN   \n",
      "\n",
      "            macd_8_12_80_nma_160_reverting  macd_16_24_80_nma_160_reverting  \\\n",
      "date                                                                          \n",
      "2022-02-08                             NaN                              NaN   \n",
      "2022-02-09                             NaN                              NaN   \n",
      "2022-02-10                             NaN                              NaN   \n",
      "2022-02-11                             NaN                              NaN   \n",
      "2022-02-14                             NaN                              NaN   \n",
      "2022-02-15                             NaN                              NaN   \n",
      "2022-02-16                             NaN                              NaN   \n",
      "2022-02-17                             NaN                              NaN   \n",
      "2022-02-18                             NaN                              NaN   \n",
      "2022-02-21                             NaN                              NaN   \n",
      "\n",
      "            hlbrk_20 hlbrk_120       mom  momnma  mom_130_nma_90  \n",
      "date                                                              \n",
      "2022-02-08  0.228395 -0.299320 -0.153349     NaN             NaN  \n",
      "2022-02-09  0.179012 -0.312925 -0.159960     NaN             NaN  \n",
      "2022-02-10  0.125514 -0.327664 -0.165313     NaN             NaN  \n",
      "2022-02-11 -0.113169 -0.393424 -0.163305     NaN             NaN  \n",
      "2022-02-14 -0.117021 -0.388889 -0.168173     NaN             NaN  \n",
      "2022-02-15 -0.078475 -0.370748 -0.165909     NaN             NaN  \n",
      "2022-02-16 -0.190583 -0.399093 -0.154036     NaN             NaN  \n",
      "2022-02-17 -0.181614 -0.396825 -0.149782     NaN             NaN  \n",
      "2022-02-18 -0.223810 -0.396825 -0.150666     NaN             NaN  \n",
      "2022-02-21  0.090476 -0.312201 -0.143929     NaN             NaN  \n",
      "\n",
      "[10 rows x 52 columns]\n",
      "mom_240_nma_90 {'name': 'mom_240_nma_90', 'type': 'xs', 'threshold': 0.2, 'rebal': 5, 'param': [0.0], 'weight': 0.75}               open    high     low   close  volume  openInterest contract  \\\n",
      "date                                                                        \n",
      "2022-02-08  8168.0  8280.0  8120.0  8148.0  133319        206569    PK204   \n",
      "2022-02-09  8102.0  8154.0  8088.0  8124.0   87140        209603    PK204   \n",
      "2022-02-10  8158.0  8178.0  8052.0  8098.0   99118        212848    PK204   \n",
      "2022-02-11  8082.0  8124.0  7980.0  7982.0  121796        211104    PK204   \n",
      "2022-02-14  8012.0  8040.0  7952.0  7990.0   92968        214421    PK204   \n",
      "2022-02-15  7990.0  8038.0  7954.0  8022.0   96360        218847    PK204   \n",
      "2022-02-16  8016.0  8050.0  7966.0  7972.0  107855        222043    PK204   \n",
      "2022-02-17  7964.0  8014.0  7906.0  7976.0  127448        213800    PK204   \n",
      "2022-02-18  7982.0  8020.0  7966.0  7976.0   74028        213507    PK204   \n",
      "2022-02-21  7990.0  8130.0  7990.0  8108.0  151804        214163    PK204   \n",
      "\n",
      "            shift  contmth    mth  ...      macd  macdnma  \\\n",
      "date                               ...                      \n",
      "2022-02-08    0.0   202204  24268  ... -0.064950      NaN   \n",
      "2022-02-09    0.0   202204  24268  ... -0.050050      NaN   \n",
      "2022-02-10    0.0   202204  24268  ... -0.039964      NaN   \n",
      "2022-02-11    0.0   202204  24268  ... -0.043632      NaN   \n",
      "2022-02-14    0.0   202204  24268  ... -0.045257      NaN   \n",
      "2022-02-15    0.0   202204  24268  ... -0.042800      NaN   \n",
      "2022-02-16    0.0   202204  24268  ... -0.045860      NaN   \n",
      "2022-02-17    0.0   202204  24268  ... -0.047899      NaN   \n",
      "2022-02-18    0.0   202204  24268  ... -0.049063      NaN   \n",
      "2022-02-21    0.0   202204  24268  ... -0.035418      NaN   \n",
      "\n",
      "            macd_8_12_80_nma_160_reverting  macd_16_24_80_nma_160_reverting  \\\n",
      "date                                                                          \n",
      "2022-02-08                             NaN                              NaN   \n",
      "2022-02-09                             NaN                              NaN   \n",
      "2022-02-10                             NaN                              NaN   \n",
      "2022-02-11                             NaN                              NaN   \n",
      "2022-02-14                             NaN                              NaN   \n",
      "2022-02-15                             NaN                              NaN   \n",
      "2022-02-16                             NaN                              NaN   \n",
      "2022-02-17                             NaN                              NaN   \n",
      "2022-02-18                             NaN                              NaN   \n",
      "2022-02-21                             NaN                              NaN   \n",
      "\n",
      "            hlbrk_20  hlbrk_120 mom  momnma  mom_130_nma_90  mom_240_nma_90  \n",
      "date                                                                         \n",
      "2022-02-08  0.228395  -0.299320 NaN     NaN             NaN             NaN  \n",
      "2022-02-09  0.179012  -0.312925 NaN     NaN             NaN             NaN  \n",
      "2022-02-10  0.125514  -0.327664 NaN     NaN             NaN             NaN  \n",
      "2022-02-11 -0.113169  -0.393424 NaN     NaN             NaN             NaN  \n",
      "2022-02-14 -0.117021  -0.388889 NaN     NaN             NaN             NaN  \n",
      "2022-02-15 -0.078475  -0.370748 NaN     NaN             NaN             NaN  \n",
      "2022-02-16 -0.190583  -0.399093 NaN     NaN             NaN             NaN  \n",
      "2022-02-17 -0.181614  -0.396825 NaN     NaN             NaN             NaN  \n",
      "2022-02-18 -0.223810  -0.396825 NaN     NaN             NaN             NaN  \n",
      "2022-02-21  0.090476  -0.312201 NaN     NaN             NaN             NaN  \n",
      "\n",
      "[10 rows x 53 columns]\n"
     ]
    }
   ],
   "source": [
    "edate = datetime.date(2022,2,21)\n",
    "\n",
    "print('updating factor data calculation...')\n",
    "start_date = day_shift(edate, '-30m')\n",
    "update_field = 'fact_repo'\n",
    "for (fact_key, fact_mkts, scenarios) in [('commod_all', commod_mkts, scenarios_elite)]:\n",
    "    repo = factor_data_update.update_factor_data(fact_mkts, scenarios, start_date, edate, roll_rule='30b')        \n",
    "    "
   ]
  },
  {
   "cell_type": "code",
   "execution_count": 6,
   "metadata": {},
   "outputs": [
    {
     "name": "stdout",
     "output_type": "stream",
     "text": [
      "Welcome to use Wind Quant API for Python (WindPy)!\n",
      "\n",
      "COPYRIGHT (C) 2020 WIND INFORMATION CO., LTD. ALL RIGHTS RESERVED.\n",
      "IN NO CIRCUMSTANCE SHALL WIND BE RESPONSIBLE FOR ANY DAMAGES OR LOSSES CAUSED BY USING WIND QUANT API FOR Python.\n",
      "saving daily data for spotID = GDP_cn_qtr_yoy_real with number of data pts = 1\n"
     ]
    },
    {
     "name": "stderr",
     "output_type": "stream",
     "text": [
      "C:\\Anaconda3\\lib\\site-packages\\sqlalchemy\\sql\\base.py:299: SAWarning: Can't validate argument 'replace_string'; can't locate any SQLAlchemy dialect named 'replace'\n",
      "  util.warn(\n"
     ]
    },
    {
     "name": "stdout",
     "output_type": "stream",
     "text": [
      "saving daily data for spotID = IAV_cn_mth_yoy_real with number of data pts = 1\n"
     ]
    },
    {
     "name": "stderr",
     "output_type": "stream",
     "text": [
      "C:\\Anaconda3\\lib\\site-packages\\sqlalchemy\\sql\\base.py:299: SAWarning: Can't validate argument 'replace_string'; can't locate any SQLAlchemy dialect named 'replace'\n",
      "  util.warn(\n"
     ]
    },
    {
     "name": "stdout",
     "output_type": "stream",
     "text": [
      "saving daily data for spotID = CPI_cn_mth_yoy_real with number of data pts = 1\n"
     ]
    },
    {
     "name": "stderr",
     "output_type": "stream",
     "text": [
      "C:\\Anaconda3\\lib\\site-packages\\sqlalchemy\\sql\\base.py:299: SAWarning: Can't validate argument 'replace_string'; can't locate any SQLAlchemy dialect named 'replace'\n",
      "  util.warn(\n"
     ]
    },
    {
     "name": "stdout",
     "output_type": "stream",
     "text": [
      "saving daily data for spotID = PPI_cn_mth_yoy_real with number of data pts = 1\n"
     ]
    },
    {
     "name": "stderr",
     "output_type": "stream",
     "text": [
      "C:\\Anaconda3\\lib\\site-packages\\sqlalchemy\\sql\\base.py:299: SAWarning: Can't validate argument 'replace_string'; can't locate any SQLAlchemy dialect named 'replace'\n",
      "  util.warn(\n"
     ]
    },
    {
     "name": "stdout",
     "output_type": "stream",
     "text": [
      "saving daily data for spotID = FAI_cn_mth_yoy_real with number of data pts = 1\n"
     ]
    },
    {
     "name": "stderr",
     "output_type": "stream",
     "text": [
      "C:\\Anaconda3\\lib\\site-packages\\sqlalchemy\\sql\\base.py:299: SAWarning: Can't validate argument 'replace_string'; can't locate any SQLAlchemy dialect named 'replace'\n",
      "  util.warn(\n"
     ]
    },
    {
     "name": "stdout",
     "output_type": "stream",
     "text": [
      "saving daily data for spotID = M2_cn_mth_yoy_real with number of data pts = 1\n"
     ]
    },
    {
     "name": "stderr",
     "output_type": "stream",
     "text": [
      "C:\\Anaconda3\\lib\\site-packages\\sqlalchemy\\sql\\base.py:299: SAWarning: Can't validate argument 'replace_string'; can't locate any SQLAlchemy dialect named 'replace'\n",
      "  util.warn(\n"
     ]
    },
    {
     "name": "stdout",
     "output_type": "stream",
     "text": [
      "saving daily data for spotID = RMBloans_mth_incr_real with number of data pts = 1\n"
     ]
    },
    {
     "name": "stderr",
     "output_type": "stream",
     "text": [
      "C:\\Anaconda3\\lib\\site-packages\\sqlalchemy\\sql\\base.py:299: SAWarning: Can't validate argument 'replace_string'; can't locate any SQLAlchemy dialect named 'replace'\n",
      "  util.warn(\n"
     ]
    },
    {
     "name": "stdout",
     "output_type": "stream",
     "text": [
      "saving daily data for spotID = RMBloans_mth_yoy_real with number of data pts = 1\n"
     ]
    },
    {
     "name": "stderr",
     "output_type": "stream",
     "text": [
      "C:\\Anaconda3\\lib\\site-packages\\sqlalchemy\\sql\\base.py:299: SAWarning: Can't validate argument 'replace_string'; can't locate any SQLAlchemy dialect named 'replace'\n",
      "  util.warn(\n"
     ]
    },
    {
     "name": "stdout",
     "output_type": "stream",
     "text": [
      "saving daily data for spotID = GDP_cn_qtr_yoy_forecast with number of data pts = 1\n"
     ]
    },
    {
     "name": "stderr",
     "output_type": "stream",
     "text": [
      "C:\\Anaconda3\\lib\\site-packages\\sqlalchemy\\sql\\base.py:299: SAWarning: Can't validate argument 'replace_string'; can't locate any SQLAlchemy dialect named 'replace'\n",
      "  util.warn(\n"
     ]
    },
    {
     "name": "stdout",
     "output_type": "stream",
     "text": [
      "saving daily data for spotID = IAV_cn_mth_yoy_forecast with number of data pts = 1\n"
     ]
    },
    {
     "name": "stderr",
     "output_type": "stream",
     "text": [
      "C:\\Anaconda3\\lib\\site-packages\\sqlalchemy\\sql\\base.py:299: SAWarning: Can't validate argument 'replace_string'; can't locate any SQLAlchemy dialect named 'replace'\n",
      "  util.warn(\n"
     ]
    },
    {
     "name": "stdout",
     "output_type": "stream",
     "text": [
      "saving daily data for spotID = CPI_cn_mth_yoy_forecast with number of data pts = 1\n"
     ]
    },
    {
     "name": "stderr",
     "output_type": "stream",
     "text": [
      "C:\\Anaconda3\\lib\\site-packages\\sqlalchemy\\sql\\base.py:299: SAWarning: Can't validate argument 'replace_string'; can't locate any SQLAlchemy dialect named 'replace'\n",
      "  util.warn(\n"
     ]
    },
    {
     "name": "stdout",
     "output_type": "stream",
     "text": [
      "saving daily data for spotID = PPI_cn_mth_yoy_forecast with number of data pts = 1\n"
     ]
    },
    {
     "name": "stderr",
     "output_type": "stream",
     "text": [
      "C:\\Anaconda3\\lib\\site-packages\\sqlalchemy\\sql\\base.py:299: SAWarning: Can't validate argument 'replace_string'; can't locate any SQLAlchemy dialect named 'replace'\n",
      "  util.warn(\n"
     ]
    },
    {
     "name": "stdout",
     "output_type": "stream",
     "text": [
      "saving daily data for spotID = FAI_cn_mth_yoy_forecast with number of data pts = 1\n"
     ]
    },
    {
     "name": "stderr",
     "output_type": "stream",
     "text": [
      "C:\\Anaconda3\\lib\\site-packages\\sqlalchemy\\sql\\base.py:299: SAWarning: Can't validate argument 'replace_string'; can't locate any SQLAlchemy dialect named 'replace'\n",
      "  util.warn(\n"
     ]
    },
    {
     "name": "stdout",
     "output_type": "stream",
     "text": [
      "saving daily data for spotID = M2_cn_mth_yoy_forecast with number of data pts = 1\n"
     ]
    },
    {
     "name": "stderr",
     "output_type": "stream",
     "text": [
      "C:\\Anaconda3\\lib\\site-packages\\sqlalchemy\\sql\\base.py:299: SAWarning: Can't validate argument 'replace_string'; can't locate any SQLAlchemy dialect named 'replace'\n",
      "  util.warn(\n"
     ]
    },
    {
     "name": "stdout",
     "output_type": "stream",
     "text": [
      "saving daily data for spotID = RMBloans_mth_yoy_forecast with number of data pts = 1\n"
     ]
    },
    {
     "name": "stderr",
     "output_type": "stream",
     "text": [
      "C:\\Anaconda3\\lib\\site-packages\\sqlalchemy\\sql\\base.py:299: SAWarning: Can't validate argument 'replace_string'; can't locate any SQLAlchemy dialect named 'replace'\n",
      "  util.warn(\n"
     ]
    },
    {
     "name": "stdout",
     "output_type": "stream",
     "text": [
      "saving daily data for spotID = RMBloans_mth_incr_forecast with number of data pts = 1\n"
     ]
    },
    {
     "name": "stderr",
     "output_type": "stream",
     "text": [
      "C:\\Anaconda3\\lib\\site-packages\\sqlalchemy\\sql\\base.py:299: SAWarning: Can't validate argument 'replace_string'; can't locate any SQLAlchemy dialect named 'replace'\n",
      "  util.warn(\n"
     ]
    },
    {
     "name": "stdout",
     "output_type": "stream",
     "text": [
      "saving daily data for spotID = coke_ts with number of data pts = 13\n"
     ]
    },
    {
     "name": "stderr",
     "output_type": "stream",
     "text": [
      "C:\\Anaconda3\\lib\\site-packages\\sqlalchemy\\sql\\base.py:299: SAWarning: Can't validate argument 'replace_string'; can't locate any SQLAlchemy dialect named 'replace'\n",
      "  util.warn(\n"
     ]
    },
    {
     "name": "stdout",
     "output_type": "stream",
     "text": [
      "saving daily data for spotID = coke_changzhi with number of data pts = 13\n"
     ]
    },
    {
     "name": "stderr",
     "output_type": "stream",
     "text": [
      "C:\\Anaconda3\\lib\\site-packages\\sqlalchemy\\sql\\base.py:299: SAWarning: Can't validate argument 'replace_string'; can't locate any SQLAlchemy dialect named 'replace'\n",
      "  util.warn(\n"
     ]
    },
    {
     "name": "stdout",
     "output_type": "stream",
     "text": [
      "saving daily data for spotID = scrap_ts with number of data pts = 1\n"
     ]
    },
    {
     "name": "stderr",
     "output_type": "stream",
     "text": [
      "C:\\Anaconda3\\lib\\site-packages\\sqlalchemy\\sql\\base.py:299: SAWarning: Can't validate argument 'replace_string'; can't locate any SQLAlchemy dialect named 'replace'\n",
      "  util.warn(\n"
     ]
    },
    {
     "name": "stdout",
     "output_type": "stream",
     "text": [
      "saving daily data for spotID = scrap_sh with number of data pts = 1\n"
     ]
    },
    {
     "name": "stderr",
     "output_type": "stream",
     "text": [
      "C:\\Anaconda3\\lib\\site-packages\\sqlalchemy\\sql\\base.py:299: SAWarning: Can't validate argument 'replace_string'; can't locate any SQLAlchemy dialect named 'replace'\n",
      "  util.warn(\n"
     ]
    },
    {
     "name": "stdout",
     "output_type": "stream",
     "text": [
      "saving daily data for spotID = scrap_bj with number of data pts = 1\n"
     ]
    },
    {
     "name": "stderr",
     "output_type": "stream",
     "text": [
      "C:\\Anaconda3\\lib\\site-packages\\sqlalchemy\\sql\\base.py:299: SAWarning: Can't validate argument 'replace_string'; can't locate any SQLAlchemy dialect named 'replace'\n",
      "  util.warn(\n"
     ]
    },
    {
     "name": "stdout",
     "output_type": "stream",
     "text": [
      "saving daily data for spotID = scrap_jinan with number of data pts = 1\n"
     ]
    },
    {
     "name": "stderr",
     "output_type": "stream",
     "text": [
      "C:\\Anaconda3\\lib\\site-packages\\sqlalchemy\\sql\\base.py:299: SAWarning: Can't validate argument 'replace_string'; can't locate any SQLAlchemy dialect named 'replace'\n",
      "  util.warn(\n"
     ]
    },
    {
     "name": "stdout",
     "output_type": "stream",
     "text": [
      "saving daily data for spotID = scrap_taian with number of data pts = 1\n"
     ]
    },
    {
     "name": "stderr",
     "output_type": "stream",
     "text": [
      "C:\\Anaconda3\\lib\\site-packages\\sqlalchemy\\sql\\base.py:299: SAWarning: Can't validate argument 'replace_string'; can't locate any SQLAlchemy dialect named 'replace'\n",
      "  util.warn(\n"
     ]
    },
    {
     "name": "stdout",
     "output_type": "stream",
     "text": [
      "saving daily data for spotID = hrc_4_75mm_sh with number of data pts = 13\n"
     ]
    },
    {
     "name": "stderr",
     "output_type": "stream",
     "text": [
      "C:\\Anaconda3\\lib\\site-packages\\sqlalchemy\\sql\\base.py:299: SAWarning: Can't validate argument 'replace_string'; can't locate any SQLAlchemy dialect named 'replace'\n",
      "  util.warn(\n"
     ]
    },
    {
     "name": "stdout",
     "output_type": "stream",
     "text": [
      "saving daily data for spotID = rebar_hrb400_sh with number of data pts = 13\n"
     ]
    },
    {
     "name": "stderr",
     "output_type": "stream",
     "text": [
      "C:\\Anaconda3\\lib\\site-packages\\sqlalchemy\\sql\\base.py:299: SAWarning: Can't validate argument 'replace_string'; can't locate any SQLAlchemy dialect named 'replace'\n",
      "  util.warn(\n"
     ]
    },
    {
     "name": "stdout",
     "output_type": "stream",
     "text": [
      "saving daily data for spotID = crc_10mm_sh with number of data pts = 13\n"
     ]
    },
    {
     "name": "stderr",
     "output_type": "stream",
     "text": [
      "C:\\Anaconda3\\lib\\site-packages\\sqlalchemy\\sql\\base.py:299: SAWarning: Can't validate argument 'replace_string'; can't locate any SQLAlchemy dialect named 'replace'\n",
      "  util.warn(\n"
     ]
    },
    {
     "name": "stdout",
     "output_type": "stream",
     "text": [
      "saving daily data for spotID = gi_1mm_sh with number of data pts = 13\n"
     ]
    },
    {
     "name": "stderr",
     "output_type": "stream",
     "text": [
      "C:\\Anaconda3\\lib\\site-packages\\sqlalchemy\\sql\\base.py:299: SAWarning: Can't validate argument 'replace_string'; can't locate any SQLAlchemy dialect named 'replace'\n",
      "  util.warn(\n"
     ]
    },
    {
     "name": "stdout",
     "output_type": "stream",
     "text": [
      "saving daily data for spotID = hsec_sh with number of data pts = 13\n"
     ]
    },
    {
     "name": "stderr",
     "output_type": "stream",
     "text": [
      "C:\\Anaconda3\\lib\\site-packages\\sqlalchemy\\sql\\base.py:299: SAWarning: Can't validate argument 'replace_string'; can't locate any SQLAlchemy dialect named 'replace'\n",
      "  util.warn(\n"
     ]
    },
    {
     "name": "stdout",
     "output_type": "stream",
     "text": [
      "saving daily data for spotID = billet_ts with number of data pts = 13\n"
     ]
    },
    {
     "name": "stderr",
     "output_type": "stream",
     "text": [
      "C:\\Anaconda3\\lib\\site-packages\\sqlalchemy\\sql\\base.py:299: SAWarning: Can't validate argument 'replace_string'; can't locate any SQLAlchemy dialect named 'replace'\n",
      "  util.warn(\n"
     ]
    },
    {
     "name": "stdout",
     "output_type": "stream",
     "text": [
      "saving daily data for spotID = strip_2_5x232_wx with number of data pts = 13\n"
     ]
    },
    {
     "name": "stderr",
     "output_type": "stream",
     "text": [
      "C:\\Anaconda3\\lib\\site-packages\\sqlalchemy\\sql\\base.py:299: SAWarning: Can't validate argument 'replace_string'; can't locate any SQLAlchemy dialect named 'replace'\n",
      "  util.warn(\n"
     ]
    },
    {
     "name": "stdout",
     "output_type": "stream",
     "text": [
      "saving daily data for spotID = strip_3_5x685_wx with number of data pts = 13\n"
     ]
    },
    {
     "name": "stderr",
     "output_type": "stream",
     "text": [
      "C:\\Anaconda3\\lib\\site-packages\\sqlalchemy\\sql\\base.py:299: SAWarning: Can't validate argument 'replace_string'; can't locate any SQLAlchemy dialect named 'replace'\n",
      "  util.warn(\n"
     ]
    },
    {
     "name": "stdout",
     "output_type": "stream",
     "text": [
      "saving daily data for spotID = strip_2_5x232_tj with number of data pts = 13\n"
     ]
    },
    {
     "name": "stderr",
     "output_type": "stream",
     "text": [
      "C:\\Anaconda3\\lib\\site-packages\\sqlalchemy\\sql\\base.py:299: SAWarning: Can't validate argument 'replace_string'; can't locate any SQLAlchemy dialect named 'replace'\n",
      "  util.warn(\n"
     ]
    },
    {
     "name": "stdout",
     "output_type": "stream",
     "text": [
      "saving daily data for spotID = strip_2_5x232_ts with number of data pts = 13\n"
     ]
    },
    {
     "name": "stderr",
     "output_type": "stream",
     "text": [
      "C:\\Anaconda3\\lib\\site-packages\\sqlalchemy\\sql\\base.py:299: SAWarning: Can't validate argument 'replace_string'; can't locate any SQLAlchemy dialect named 'replace'\n",
      "  util.warn(\n"
     ]
    },
    {
     "name": "stdout",
     "output_type": "stream",
     "text": [
      "saving daily data for spotID = strip_2_5x232_lecong with number of data pts = 13\n"
     ]
    },
    {
     "name": "stderr",
     "output_type": "stream",
     "text": [
      "C:\\Anaconda3\\lib\\site-packages\\sqlalchemy\\sql\\base.py:299: SAWarning: Can't validate argument 'replace_string'; can't locate any SQLAlchemy dialect named 'replace'\n",
      "  util.warn(\n"
     ]
    },
    {
     "name": "stdout",
     "output_type": "stream",
     "text": [
      "saving daily data for spotID = hrc_tj with number of data pts = 13\n"
     ]
    },
    {
     "name": "stderr",
     "output_type": "stream",
     "text": [
      "C:\\Anaconda3\\lib\\site-packages\\sqlalchemy\\sql\\base.py:299: SAWarning: Can't validate argument 'replace_string'; can't locate any SQLAlchemy dialect named 'replace'\n",
      "  util.warn(\n"
     ]
    },
    {
     "name": "stdout",
     "output_type": "stream",
     "text": [
      "saving daily data for spotID = hrc_lecong with number of data pts = 13\n"
     ]
    },
    {
     "name": "stderr",
     "output_type": "stream",
     "text": [
      "C:\\Anaconda3\\lib\\site-packages\\sqlalchemy\\sql\\base.py:299: SAWarning: Can't validate argument 'replace_string'; can't locate any SQLAlchemy dialect named 'replace'\n",
      "  util.warn(\n"
     ]
    },
    {
     "name": "stdout",
     "output_type": "stream",
     "text": [
      "saving daily data for spotID = billet_Q235_js with number of data pts = 13\n"
     ]
    },
    {
     "name": "stderr",
     "output_type": "stream",
     "text": [
      "C:\\Anaconda3\\lib\\site-packages\\sqlalchemy\\sql\\base.py:299: SAWarning: Can't validate argument 'replace_string'; can't locate any SQLAlchemy dialect named 'replace'\n",
      "  util.warn(\n"
     ]
    },
    {
     "name": "stdout",
     "output_type": "stream",
     "text": [
      "saving daily data for spotID = billet_20MnSi_js with number of data pts = 13\n"
     ]
    },
    {
     "name": "stderr",
     "output_type": "stream",
     "text": [
      "C:\\Anaconda3\\lib\\site-packages\\sqlalchemy\\sql\\base.py:299: SAWarning: Can't validate argument 'replace_string'; can't locate any SQLAlchemy dialect named 'replace'\n",
      "  util.warn(\n"
     ]
    },
    {
     "name": "stdout",
     "output_type": "stream",
     "text": [
      "saving daily data for spotID = rebar_tj with number of data pts = 13\n"
     ]
    },
    {
     "name": "stderr",
     "output_type": "stream",
     "text": [
      "C:\\Anaconda3\\lib\\site-packages\\sqlalchemy\\sql\\base.py:299: SAWarning: Can't validate argument 'replace_string'; can't locate any SQLAlchemy dialect named 'replace'\n",
      "  util.warn(\n"
     ]
    },
    {
     "name": "stdout",
     "output_type": "stream",
     "text": [
      "saving daily data for spotID = rebar_shenyang with number of data pts = 13\n"
     ]
    },
    {
     "name": "stderr",
     "output_type": "stream",
     "text": [
      "C:\\Anaconda3\\lib\\site-packages\\sqlalchemy\\sql\\base.py:299: SAWarning: Can't validate argument 'replace_string'; can't locate any SQLAlchemy dialect named 'replace'\n",
      "  util.warn(\n"
     ]
    },
    {
     "name": "stdout",
     "output_type": "stream",
     "text": [
      "saving daily data for spotID = rebar_tj with number of data pts = 13\n"
     ]
    },
    {
     "name": "stderr",
     "output_type": "stream",
     "text": [
      "C:\\Anaconda3\\lib\\site-packages\\sqlalchemy\\sql\\base.py:299: SAWarning: Can't validate argument 'replace_string'; can't locate any SQLAlchemy dialect named 'replace'\n",
      "  util.warn(\n"
     ]
    },
    {
     "name": "stdout",
     "output_type": "stream",
     "text": [
      "saving daily data for spotID = rebar_gz with number of data pts = 13\n"
     ]
    },
    {
     "name": "stderr",
     "output_type": "stream",
     "text": [
      "C:\\Anaconda3\\lib\\site-packages\\sqlalchemy\\sql\\base.py:299: SAWarning: Can't validate argument 'replace_string'; can't locate any SQLAlchemy dialect named 'replace'\n",
      "  util.warn(\n"
     ]
    },
    {
     "name": "stdout",
     "output_type": "stream",
     "text": [
      "saving daily data for spotID = rebar_hz with number of data pts = 13\n"
     ]
    },
    {
     "name": "stderr",
     "output_type": "stream",
     "text": [
      "C:\\Anaconda3\\lib\\site-packages\\sqlalchemy\\sql\\base.py:299: SAWarning: Can't validate argument 'replace_string'; can't locate any SQLAlchemy dialect named 'replace'\n",
      "  util.warn(\n"
     ]
    },
    {
     "name": "stdout",
     "output_type": "stream",
     "text": [
      "saving daily data for spotID = rebar_jinan with number of data pts = 13\n"
     ]
    },
    {
     "name": "stderr",
     "output_type": "stream",
     "text": [
      "C:\\Anaconda3\\lib\\site-packages\\sqlalchemy\\sql\\base.py:299: SAWarning: Can't validate argument 'replace_string'; can't locate any SQLAlchemy dialect named 'replace'\n",
      "  util.warn(\n"
     ]
    },
    {
     "name": "stdout",
     "output_type": "stream",
     "text": [
      "saving daily data for spotID = hrc_4_75mm_cq with number of data pts = 13\n"
     ]
    },
    {
     "name": "stderr",
     "output_type": "stream",
     "text": [
      "C:\\Anaconda3\\lib\\site-packages\\sqlalchemy\\sql\\base.py:299: SAWarning: Can't validate argument 'replace_string'; can't locate any SQLAlchemy dialect named 'replace'\n",
      "  util.warn(\n"
     ]
    },
    {
     "name": "stdout",
     "output_type": "stream",
     "text": [
      "saving daily data for spotID = hrc_4_75mm_chengdu with number of data pts = 13\n"
     ]
    },
    {
     "name": "stderr",
     "output_type": "stream",
     "text": [
      "C:\\Anaconda3\\lib\\site-packages\\sqlalchemy\\sql\\base.py:299: SAWarning: Can't validate argument 'replace_string'; can't locate any SQLAlchemy dialect named 'replace'\n",
      "  util.warn(\n"
     ]
    },
    {
     "name": "stdout",
     "output_type": "stream",
     "text": [
      "saving daily data for spotID = hrc_4_75mm_bj with number of data pts = 13\n"
     ]
    },
    {
     "name": "stderr",
     "output_type": "stream",
     "text": [
      "C:\\Anaconda3\\lib\\site-packages\\sqlalchemy\\sql\\base.py:299: SAWarning: Can't validate argument 'replace_string'; can't locate any SQLAlchemy dialect named 'replace'\n",
      "  util.warn(\n"
     ]
    },
    {
     "name": "stdout",
     "output_type": "stream",
     "text": [
      "saving daily data for spotID = hrc_4_75mm_gz with number of data pts = 13\n"
     ]
    },
    {
     "name": "stderr",
     "output_type": "stream",
     "text": [
      "C:\\Anaconda3\\lib\\site-packages\\sqlalchemy\\sql\\base.py:299: SAWarning: Can't validate argument 'replace_string'; can't locate any SQLAlchemy dialect named 'replace'\n",
      "  util.warn(\n"
     ]
    },
    {
     "name": "stdout",
     "output_type": "stream",
     "text": [
      "saving daily data for spotID = repo7d_cny with number of data pts = 13\n"
     ]
    },
    {
     "name": "stderr",
     "output_type": "stream",
     "text": [
      "C:\\Anaconda3\\lib\\site-packages\\sqlalchemy\\sql\\base.py:299: SAWarning: Can't validate argument 'replace_string'; can't locate any SQLAlchemy dialect named 'replace'\n",
      "  util.warn(\n"
     ]
    },
    {
     "name": "stdout",
     "output_type": "stream",
     "text": [
      "saving daily data for spotID = r007_cny with number of data pts = 13\n"
     ]
    },
    {
     "name": "stderr",
     "output_type": "stream",
     "text": [
      "C:\\Anaconda3\\lib\\site-packages\\sqlalchemy\\sql\\base.py:299: SAWarning: Can't validate argument 'replace_string'; can't locate any SQLAlchemy dialect named 'replace'\n",
      "  util.warn(\n"
     ]
    },
    {
     "name": "stdout",
     "output_type": "stream",
     "text": [
      "saving daily data for spotID = r001_cny with number of data pts = 13\n"
     ]
    },
    {
     "name": "stderr",
     "output_type": "stream",
     "text": [
      "C:\\Anaconda3\\lib\\site-packages\\sqlalchemy\\sql\\base.py:299: SAWarning: Can't validate argument 'replace_string'; can't locate any SQLAlchemy dialect named 'replace'\n",
      "  util.warn(\n"
     ]
    },
    {
     "name": "stdout",
     "output_type": "stream",
     "text": [
      "saving daily data for spotID = dr007_cny with number of data pts = 13\n"
     ]
    },
    {
     "name": "stderr",
     "output_type": "stream",
     "text": [
      "C:\\Anaconda3\\lib\\site-packages\\sqlalchemy\\sql\\base.py:299: SAWarning: Can't validate argument 'replace_string'; can't locate any SQLAlchemy dialect named 'replace'\n",
      "  util.warn(\n"
     ]
    },
    {
     "name": "stdout",
     "output_type": "stream",
     "text": [
      "saving daily data for spotID = dr001_cny with number of data pts = 13\n"
     ]
    },
    {
     "name": "stderr",
     "output_type": "stream",
     "text": [
      "C:\\Anaconda3\\lib\\site-packages\\sqlalchemy\\sql\\base.py:299: SAWarning: Can't validate argument 'replace_string'; can't locate any SQLAlchemy dialect named 'replace'\n",
      "  util.warn(\n"
     ]
    },
    {
     "name": "stdout",
     "output_type": "stream",
     "text": [
      "saving daily data for spotID = soybean_harbin with number of data pts = 12\n"
     ]
    },
    {
     "name": "stderr",
     "output_type": "stream",
     "text": [
      "C:\\Anaconda3\\lib\\site-packages\\sqlalchemy\\sql\\base.py:299: SAWarning: Can't validate argument 'replace_string'; can't locate any SQLAlchemy dialect named 'replace'\n",
      "  util.warn(\n"
     ]
    },
    {
     "name": "stdout",
     "output_type": "stream",
     "text": [
      "saving daily data for spotID = soybean_dalian with number of data pts = 12\n"
     ]
    },
    {
     "name": "stderr",
     "output_type": "stream",
     "text": [
      "C:\\Anaconda3\\lib\\site-packages\\sqlalchemy\\sql\\base.py:299: SAWarning: Can't validate argument 'replace_string'; can't locate any SQLAlchemy dialect named 'replace'\n",
      "  util.warn(\n"
     ]
    },
    {
     "name": "stdout",
     "output_type": "stream",
     "text": [
      "saving daily data for spotID = soybean_na_imp with number of data pts = 13\n"
     ]
    },
    {
     "name": "stderr",
     "output_type": "stream",
     "text": [
      "C:\\Anaconda3\\lib\\site-packages\\sqlalchemy\\sql\\base.py:299: SAWarning: Can't validate argument 'replace_string'; can't locate any SQLAlchemy dialect named 'replace'\n",
      "  util.warn(\n"
     ]
    },
    {
     "name": "stdout",
     "output_type": "stream",
     "text": [
      "saving daily data for spotID = soybean_sa_imp with number of data pts = 13\n"
     ]
    },
    {
     "name": "stderr",
     "output_type": "stream",
     "text": [
      "C:\\Anaconda3\\lib\\site-packages\\sqlalchemy\\sql\\base.py:299: SAWarning: Can't validate argument 'replace_string'; can't locate any SQLAlchemy dialect named 'replace'\n",
      "  util.warn(\n"
     ]
    },
    {
     "name": "stdout",
     "output_type": "stream",
     "text": [
      "saving daily data for spotID = ag_sge_cl with number of data pts = 12\n"
     ]
    },
    {
     "name": "stderr",
     "output_type": "stream",
     "text": [
      "C:\\Anaconda3\\lib\\site-packages\\sqlalchemy\\sql\\base.py:299: SAWarning: Can't validate argument 'replace_string'; can't locate any SQLAlchemy dialect named 'replace'\n",
      "  util.warn(\n"
     ]
    },
    {
     "name": "stdout",
     "output_type": "stream",
     "text": [
      "saving daily data for spotID = ag_SGE_setl with number of data pts = 12\n"
     ]
    },
    {
     "name": "stderr",
     "output_type": "stream",
     "text": [
      "C:\\Anaconda3\\lib\\site-packages\\sqlalchemy\\sql\\base.py:299: SAWarning: Can't validate argument 'replace_string'; can't locate any SQLAlchemy dialect named 'replace'\n",
      "  util.warn(\n"
     ]
    },
    {
     "name": "stdout",
     "output_type": "stream",
     "text": [
      "saving daily data for spotID = al_nanchu with number of data pts = 12\n"
     ]
    },
    {
     "name": "stderr",
     "output_type": "stream",
     "text": [
      "C:\\Anaconda3\\lib\\site-packages\\sqlalchemy\\sql\\base.py:299: SAWarning: Can't validate argument 'replace_string'; can't locate any SQLAlchemy dialect named 'replace'\n",
      "  util.warn(\n"
     ]
    },
    {
     "name": "stdout",
     "output_type": "stream",
     "text": [
      "saving daily data for spotID = al_nanhai with number of data pts = 12\n"
     ]
    },
    {
     "name": "stderr",
     "output_type": "stream",
     "text": [
      "C:\\Anaconda3\\lib\\site-packages\\sqlalchemy\\sql\\base.py:299: SAWarning: Can't validate argument 'replace_string'; can't locate any SQLAlchemy dialect named 'replace'\n",
      "  util.warn(\n"
     ]
    },
    {
     "name": "stdout",
     "output_type": "stream",
     "text": [
      "saving daily data for spotID = au_9995_sge_cl with number of data pts = 12\n"
     ]
    },
    {
     "name": "stderr",
     "output_type": "stream",
     "text": [
      "C:\\Anaconda3\\lib\\site-packages\\sqlalchemy\\sql\\base.py:299: SAWarning: Can't validate argument 'replace_string'; can't locate any SQLAlchemy dialect named 'replace'\n",
      "  util.warn(\n"
     ]
    },
    {
     "name": "stdout",
     "output_type": "stream",
     "text": [
      "saving daily data for spotID = au_9999_sge_cl with number of data pts = 12\n"
     ]
    },
    {
     "name": "stderr",
     "output_type": "stream",
     "text": [
      "C:\\Anaconda3\\lib\\site-packages\\sqlalchemy\\sql\\base.py:299: SAWarning: Can't validate argument 'replace_string'; can't locate any SQLAlchemy dialect named 'replace'\n",
      "  util.warn(\n"
     ]
    },
    {
     "name": "stdout",
     "output_type": "stream",
     "text": [
      "saving daily data for spotID = bu_huabei with number of data pts = 13\n"
     ]
    },
    {
     "name": "stderr",
     "output_type": "stream",
     "text": [
      "C:\\Anaconda3\\lib\\site-packages\\sqlalchemy\\sql\\base.py:299: SAWarning: Can't validate argument 'replace_string'; can't locate any SQLAlchemy dialect named 'replace'\n",
      "  util.warn(\n"
     ]
    },
    {
     "name": "stdout",
     "output_type": "stream",
     "text": [
      "saving daily data for spotID = bu_shandong with number of data pts = 13\n"
     ]
    },
    {
     "name": "stderr",
     "output_type": "stream",
     "text": [
      "C:\\Anaconda3\\lib\\site-packages\\sqlalchemy\\sql\\base.py:299: SAWarning: Can't validate argument 'replace_string'; can't locate any SQLAlchemy dialect named 'replace'\n",
      "  util.warn(\n"
     ]
    },
    {
     "name": "stdout",
     "output_type": "stream",
     "text": [
      "saving daily data for spotID = corn_jinzhou with number of data pts = 13\n"
     ]
    },
    {
     "name": "stderr",
     "output_type": "stream",
     "text": [
      "C:\\Anaconda3\\lib\\site-packages\\sqlalchemy\\sql\\base.py:299: SAWarning: Can't validate argument 'replace_string'; can't locate any SQLAlchemy dialect named 'replace'\n",
      "  util.warn(\n"
     ]
    },
    {
     "name": "stdout",
     "output_type": "stream",
     "text": [
      "saving daily data for spotID = corn_suihua with number of data pts = 12\n"
     ]
    },
    {
     "name": "stderr",
     "output_type": "stream",
     "text": [
      "C:\\Anaconda3\\lib\\site-packages\\sqlalchemy\\sql\\base.py:299: SAWarning: Can't validate argument 'replace_string'; can't locate any SQLAlchemy dialect named 'replace'\n",
      "  util.warn(\n"
     ]
    },
    {
     "name": "stdout",
     "output_type": "stream",
     "text": [
      "saving daily data for spotID = corn_dezhou with number of data pts = 12\n"
     ]
    },
    {
     "name": "stderr",
     "output_type": "stream",
     "text": [
      "C:\\Anaconda3\\lib\\site-packages\\sqlalchemy\\sql\\base.py:299: SAWarning: Can't validate argument 'replace_string'; can't locate any SQLAlchemy dialect named 'replace'\n",
      "  util.warn(\n"
     ]
    },
    {
     "name": "stdout",
     "output_type": "stream",
     "text": [
      "saving daily data for spotID = cotton_hubei with number of data pts = 10\n"
     ]
    },
    {
     "name": "stderr",
     "output_type": "stream",
     "text": [
      "C:\\Anaconda3\\lib\\site-packages\\sqlalchemy\\sql\\base.py:299: SAWarning: Can't validate argument 'replace_string'; can't locate any SQLAlchemy dialect named 'replace'\n",
      "  util.warn(\n"
     ]
    },
    {
     "name": "stdout",
     "output_type": "stream",
     "text": [
      "saving daily data for spotID = cotton_shandong with number of data pts = 10\n"
     ]
    },
    {
     "name": "stderr",
     "output_type": "stream",
     "text": [
      "C:\\Anaconda3\\lib\\site-packages\\sqlalchemy\\sql\\base.py:299: SAWarning: Can't validate argument 'replace_string'; can't locate any SQLAlchemy dialect named 'replace'\n",
      "  util.warn(\n"
     ]
    },
    {
     "name": "stdout",
     "output_type": "stream",
     "text": [
      "saving daily data for spotID = cs_gz with number of data pts = 11\n"
     ]
    },
    {
     "name": "stderr",
     "output_type": "stream",
     "text": [
      "C:\\Anaconda3\\lib\\site-packages\\sqlalchemy\\sql\\base.py:299: SAWarning: Can't validate argument 'replace_string'; can't locate any SQLAlchemy dialect named 'replace'\n",
      "  util.warn(\n"
     ]
    },
    {
     "name": "stdout",
     "output_type": "stream",
     "text": [
      "saving daily data for spotID = cs_suzhou with number of data pts = 11\n"
     ]
    },
    {
     "name": "stderr",
     "output_type": "stream",
     "text": [
      "C:\\Anaconda3\\lib\\site-packages\\sqlalchemy\\sql\\base.py:299: SAWarning: Can't validate argument 'replace_string'; can't locate any SQLAlchemy dialect named 'replace'\n",
      "  util.warn(\n"
     ]
    },
    {
     "name": "stdout",
     "output_type": "stream",
     "text": [
      "saving daily data for spotID = copper_sh with number of data pts = 12\n"
     ]
    },
    {
     "name": "stderr",
     "output_type": "stream",
     "text": [
      "C:\\Anaconda3\\lib\\site-packages\\sqlalchemy\\sql\\base.py:299: SAWarning: Can't validate argument 'replace_string'; can't locate any SQLAlchemy dialect named 'replace'\n",
      "  util.warn(\n"
     ]
    },
    {
     "name": "stdout",
     "output_type": "stream",
     "text": [
      "saving daily data for spotID = copper_nanhai with number of data pts = 12\n"
     ]
    },
    {
     "name": "stderr",
     "output_type": "stream",
     "text": [
      "C:\\Anaconda3\\lib\\site-packages\\sqlalchemy\\sql\\base.py:299: SAWarning: Can't validate argument 'replace_string'; can't locate any SQLAlchemy dialect named 'replace'\n",
      "  util.warn(\n"
     ]
    },
    {
     "name": "stdout",
     "output_type": "stream",
     "text": [
      "saving daily data for spotID = glass_5mm_sh with number of data pts = 12\n"
     ]
    },
    {
     "name": "stderr",
     "output_type": "stream",
     "text": [
      "C:\\Anaconda3\\lib\\site-packages\\sqlalchemy\\sql\\base.py:299: SAWarning: Can't validate argument 'replace_string'; can't locate any SQLAlchemy dialect named 'replace'\n",
      "  util.warn(\n"
     ]
    },
    {
     "name": "stdout",
     "output_type": "stream",
     "text": [
      "saving daily data for spotID = glass_5mm_shahe with number of data pts = 12\n"
     ]
    },
    {
     "name": "stderr",
     "output_type": "stream",
     "text": [
      "C:\\Anaconda3\\lib\\site-packages\\sqlalchemy\\sql\\base.py:299: SAWarning: Can't validate argument 'replace_string'; can't locate any SQLAlchemy dialect named 'replace'\n",
      "  util.warn(\n"
     ]
    },
    {
     "name": "stdout",
     "output_type": "stream",
     "text": [
      "saving daily data for spotID = coke_a_tj with number of data pts = 13\n"
     ]
    },
    {
     "name": "stderr",
     "output_type": "stream",
     "text": [
      "C:\\Anaconda3\\lib\\site-packages\\sqlalchemy\\sql\\base.py:299: SAWarning: Can't validate argument 'replace_string'; can't locate any SQLAlchemy dialect named 'replace'\n",
      "  util.warn(\n"
     ]
    },
    {
     "name": "stdout",
     "output_type": "stream",
     "text": [
      "saving daily data for spotID = coke_suba_tj with number of data pts = 13\n"
     ]
    },
    {
     "name": "stderr",
     "output_type": "stream",
     "text": [
      "C:\\Anaconda3\\lib\\site-packages\\sqlalchemy\\sql\\base.py:299: SAWarning: Can't validate argument 'replace_string'; can't locate any SQLAlchemy dialect named 'replace'\n",
      "  util.warn(\n"
     ]
    },
    {
     "name": "stdout",
     "output_type": "stream",
     "text": [
      "saving daily data for spotID = coke_a_shanxi with number of data pts = 13\n"
     ]
    },
    {
     "name": "stderr",
     "output_type": "stream",
     "text": [
      "C:\\Anaconda3\\lib\\site-packages\\sqlalchemy\\sql\\base.py:299: SAWarning: Can't validate argument 'replace_string'; can't locate any SQLAlchemy dialect named 'replace'\n",
      "  util.warn(\n"
     ]
    },
    {
     "name": "stdout",
     "output_type": "stream",
     "text": [
      "saving daily data for spotID = egg_dalian with number of data pts = 13\n"
     ]
    },
    {
     "name": "stderr",
     "output_type": "stream",
     "text": [
      "C:\\Anaconda3\\lib\\site-packages\\sqlalchemy\\sql\\base.py:299: SAWarning: Can't validate argument 'replace_string'; can't locate any SQLAlchemy dialect named 'replace'\n",
      "  util.warn(\n"
     ]
    },
    {
     "name": "stdout",
     "output_type": "stream",
     "text": [
      "saving daily data for spotID = egg_bj with number of data pts = 13\n"
     ]
    },
    {
     "name": "stderr",
     "output_type": "stream",
     "text": [
      "C:\\Anaconda3\\lib\\site-packages\\sqlalchemy\\sql\\base.py:299: SAWarning: Can't validate argument 'replace_string'; can't locate any SQLAlchemy dialect named 'replace'\n",
      "  util.warn(\n"
     ]
    },
    {
     "name": "stdout",
     "output_type": "stream",
     "text": [
      "saving daily data for spotID = ckc_xingtai with number of data pts = 13\n"
     ]
    },
    {
     "name": "stderr",
     "output_type": "stream",
     "text": [
      "C:\\Anaconda3\\lib\\site-packages\\sqlalchemy\\sql\\base.py:299: SAWarning: Can't validate argument 'replace_string'; can't locate any SQLAlchemy dialect named 'replace'\n",
      "  util.warn(\n"
     ]
    },
    {
     "name": "stdout",
     "output_type": "stream",
     "text": [
      "saving daily data for spotID = ckc_huainan with number of data pts = 13\n"
     ]
    },
    {
     "name": "stderr",
     "output_type": "stream",
     "text": [
      "C:\\Anaconda3\\lib\\site-packages\\sqlalchemy\\sql\\base.py:299: SAWarning: Can't validate argument 'replace_string'; can't locate any SQLAlchemy dialect named 'replace'\n",
      "  util.warn(\n"
     ]
    },
    {
     "name": "stdout",
     "output_type": "stream",
     "text": [
      "saving daily data for spotID = ckc_shanxi with number of data pts = 13\n"
     ]
    },
    {
     "name": "stderr",
     "output_type": "stream",
     "text": [
      "C:\\Anaconda3\\lib\\site-packages\\sqlalchemy\\sql\\base.py:299: SAWarning: Can't validate argument 'replace_string'; can't locate any SQLAlchemy dialect named 'replace'\n",
      "  util.warn(\n"
     ]
    },
    {
     "name": "stdout",
     "output_type": "stream",
     "text": [
      "saving daily data for spotID = lldpe_gz with number of data pts = 13\n"
     ]
    },
    {
     "name": "stderr",
     "output_type": "stream",
     "text": [
      "C:\\Anaconda3\\lib\\site-packages\\sqlalchemy\\sql\\base.py:299: SAWarning: Can't validate argument 'replace_string'; can't locate any SQLAlchemy dialect named 'replace'\n",
      "  util.warn(\n"
     ]
    },
    {
     "name": "stdout",
     "output_type": "stream",
     "text": [
      "saving daily data for spotID = lldpe_daqing with number of data pts = 1\n"
     ]
    },
    {
     "name": "stderr",
     "output_type": "stream",
     "text": [
      "C:\\Anaconda3\\lib\\site-packages\\sqlalchemy\\sql\\base.py:299: SAWarning: Can't validate argument 'replace_string'; can't locate any SQLAlchemy dialect named 'replace'\n",
      "  util.warn(\n"
     ]
    },
    {
     "name": "stdout",
     "output_type": "stream",
     "text": [
      "saving daily data for spotID = lldpe_tj with number of data pts = 13\n"
     ]
    },
    {
     "name": "stderr",
     "output_type": "stream",
     "text": [
      "C:\\Anaconda3\\lib\\site-packages\\sqlalchemy\\sql\\base.py:299: SAWarning: Can't validate argument 'replace_string'; can't locate any SQLAlchemy dialect named 'replace'\n",
      "  util.warn(\n"
     ]
    },
    {
     "name": "stdout",
     "output_type": "stream",
     "text": [
      "saving daily data for spotID = soymeal_plain_gd with number of data pts = 12\n"
     ]
    },
    {
     "name": "stderr",
     "output_type": "stream",
     "text": [
      "C:\\Anaconda3\\lib\\site-packages\\sqlalchemy\\sql\\base.py:299: SAWarning: Can't validate argument 'replace_string'; can't locate any SQLAlchemy dialect named 'replace'\n",
      "  util.warn(\n"
     ]
    },
    {
     "name": "stdout",
     "output_type": "stream",
     "text": [
      "saving daily data for spotID = soymeal_high_gd with number of data pts = 12\n"
     ]
    },
    {
     "name": "stderr",
     "output_type": "stream",
     "text": [
      "C:\\Anaconda3\\lib\\site-packages\\sqlalchemy\\sql\\base.py:299: SAWarning: Can't validate argument 'replace_string'; can't locate any SQLAlchemy dialect named 'replace'\n",
      "  util.warn(\n"
     ]
    },
    {
     "name": "stdout",
     "output_type": "stream",
     "text": [
      "saving daily data for spotID = methanol_jiangsu with number of data pts = 13\n"
     ]
    },
    {
     "name": "stderr",
     "output_type": "stream",
     "text": [
      "C:\\Anaconda3\\lib\\site-packages\\sqlalchemy\\sql\\base.py:299: SAWarning: Can't validate argument 'replace_string'; can't locate any SQLAlchemy dialect named 'replace'\n",
      "  util.warn(\n"
     ]
    },
    {
     "name": "stdout",
     "output_type": "stream",
     "text": [
      "saving daily data for spotID = methanol_spot_jiangsu with number of data pts = 1\n"
     ]
    },
    {
     "name": "stderr",
     "output_type": "stream",
     "text": [
      "C:\\Anaconda3\\lib\\site-packages\\sqlalchemy\\sql\\base.py:299: SAWarning: Can't validate argument 'replace_string'; can't locate any SQLAlchemy dialect named 'replace'\n",
      "  util.warn(\n"
     ]
    },
    {
     "name": "stdout",
     "output_type": "stream",
     "text": [
      "saving daily data for spotID = nickle_changjiang with number of data pts = 12\n"
     ]
    },
    {
     "name": "stderr",
     "output_type": "stream",
     "text": [
      "C:\\Anaconda3\\lib\\site-packages\\sqlalchemy\\sql\\base.py:299: SAWarning: Can't validate argument 'replace_string'; can't locate any SQLAlchemy dialect named 'replace'\n",
      "  util.warn(\n"
     ]
    },
    {
     "name": "stdout",
     "output_type": "stream",
     "text": [
      "saving daily data for spotID = nickle_zhejiang with number of data pts = 13\n"
     ]
    },
    {
     "name": "stderr",
     "output_type": "stream",
     "text": [
      "C:\\Anaconda3\\lib\\site-packages\\sqlalchemy\\sql\\base.py:299: SAWarning: Can't validate argument 'replace_string'; can't locate any SQLAlchemy dialect named 'replace'\n",
      "  util.warn(\n"
     ]
    },
    {
     "name": "stdout",
     "output_type": "stream",
     "text": [
      "saving daily data for spotID = vegoil_hunan with number of data pts = 12\n"
     ]
    },
    {
     "name": "stderr",
     "output_type": "stream",
     "text": [
      "C:\\Anaconda3\\lib\\site-packages\\sqlalchemy\\sql\\base.py:299: SAWarning: Can't validate argument 'replace_string'; can't locate any SQLAlchemy dialect named 'replace'\n",
      "  util.warn(\n"
     ]
    },
    {
     "name": "stdout",
     "output_type": "stream",
     "text": [
      "saving daily data for spotID = vegoil_jiangsu with number of data pts = 12\n"
     ]
    },
    {
     "name": "stderr",
     "output_type": "stream",
     "text": [
      "C:\\Anaconda3\\lib\\site-packages\\sqlalchemy\\sql\\base.py:299: SAWarning: Can't validate argument 'replace_string'; can't locate any SQLAlchemy dialect named 'replace'\n",
      "  util.warn(\n"
     ]
    },
    {
     "name": "stdout",
     "output_type": "stream",
     "text": [
      "saving daily data for spotID = palmoil_malay_fob with number of data pts = 13\n"
     ]
    },
    {
     "name": "stderr",
     "output_type": "stream",
     "text": [
      "C:\\Anaconda3\\lib\\site-packages\\sqlalchemy\\sql\\base.py:299: SAWarning: Can't validate argument 'replace_string'; can't locate any SQLAlchemy dialect named 'replace'\n",
      "  util.warn(\n"
     ]
    },
    {
     "name": "stdout",
     "output_type": "stream",
     "text": [
      "saving daily data for spotID = palmoil_int with number of data pts = 14\n"
     ]
    },
    {
     "name": "stderr",
     "output_type": "stream",
     "text": [
      "C:\\Anaconda3\\lib\\site-packages\\sqlalchemy\\sql\\base.py:299: SAWarning: Can't validate argument 'replace_string'; can't locate any SQLAlchemy dialect named 'replace'\n",
      "  util.warn(\n"
     ]
    },
    {
     "name": "stdout",
     "output_type": "stream",
     "text": [
      "saving daily data for spotID = lead_gangdong with number of data pts = 12\n"
     ]
    },
    {
     "name": "stderr",
     "output_type": "stream",
     "text": [
      "C:\\Anaconda3\\lib\\site-packages\\sqlalchemy\\sql\\base.py:299: SAWarning: Can't validate argument 'replace_string'; can't locate any SQLAlchemy dialect named 'replace'\n",
      "  util.warn(\n"
     ]
    },
    {
     "name": "stdout",
     "output_type": "stream",
     "text": [
      "saving daily data for spotID = lead_jiangsu with number of data pts = 12\n"
     ]
    },
    {
     "name": "stderr",
     "output_type": "stream",
     "text": [
      "C:\\Anaconda3\\lib\\site-packages\\sqlalchemy\\sql\\base.py:299: SAWarning: Can't validate argument 'replace_string'; can't locate any SQLAlchemy dialect named 'replace'\n",
      "  util.warn(\n"
     ]
    },
    {
     "name": "stdout",
     "output_type": "stream",
     "text": [
      "saving daily data for spotID = pp_t30s_jinan with number of data pts = 13\n"
     ]
    },
    {
     "name": "stderr",
     "output_type": "stream",
     "text": [
      "C:\\Anaconda3\\lib\\site-packages\\sqlalchemy\\sql\\base.py:299: SAWarning: Can't validate argument 'replace_string'; can't locate any SQLAlchemy dialect named 'replace'\n",
      "  util.warn(\n"
     ]
    },
    {
     "name": "stdout",
     "output_type": "stream",
     "text": [
      "saving daily data for spotID = pp_w28s_jinan with number of data pts = 1\n"
     ]
    },
    {
     "name": "stderr",
     "output_type": "stream",
     "text": [
      "C:\\Anaconda3\\lib\\site-packages\\sqlalchemy\\sql\\base.py:299: SAWarning: Can't validate argument 'replace_string'; can't locate any SQLAlchemy dialect named 'replace'\n",
      "  util.warn(\n"
     ]
    },
    {
     "name": "stdout",
     "output_type": "stream",
     "text": [
      "saving daily data for spotID = vegmeal_hubei with number of data pts = 12\n"
     ]
    },
    {
     "name": "stderr",
     "output_type": "stream",
     "text": [
      "C:\\Anaconda3\\lib\\site-packages\\sqlalchemy\\sql\\base.py:299: SAWarning: Can't validate argument 'replace_string'; can't locate any SQLAlchemy dialect named 'replace'\n",
      "  util.warn(\n"
     ]
    },
    {
     "name": "stdout",
     "output_type": "stream",
     "text": [
      "saving daily data for spotID = vegmeal_hunan with number of data pts = 12\n"
     ]
    },
    {
     "name": "stderr",
     "output_type": "stream",
     "text": [
      "C:\\Anaconda3\\lib\\site-packages\\sqlalchemy\\sql\\base.py:299: SAWarning: Can't validate argument 'replace_string'; can't locate any SQLAlchemy dialect named 'replace'\n",
      "  util.warn(\n"
     ]
    },
    {
     "name": "stdout",
     "output_type": "stream",
     "text": [
      "saving daily data for spotID = rubber_scrwf_sh with number of data pts = 12\n"
     ]
    },
    {
     "name": "stderr",
     "output_type": "stream",
     "text": [
      "C:\\Anaconda3\\lib\\site-packages\\sqlalchemy\\sql\\base.py:299: SAWarning: Can't validate argument 'replace_string'; can't locate any SQLAlchemy dialect named 'replace'\n",
      "  util.warn(\n"
     ]
    },
    {
     "name": "stdout",
     "output_type": "stream",
     "text": [
      "saving daily data for spotID = rubber_rss3_sh with number of data pts = 12\n"
     ]
    },
    {
     "name": "stderr",
     "output_type": "stream",
     "text": [
      "C:\\Anaconda3\\lib\\site-packages\\sqlalchemy\\sql\\base.py:299: SAWarning: Can't validate argument 'replace_string'; can't locate any SQLAlchemy dialect named 'replace'\n",
      "  util.warn(\n"
     ]
    },
    {
     "name": "stdout",
     "output_type": "stream",
     "text": [
      "saving daily data for spotID = sf_ningxia with number of data pts = 9\n"
     ]
    },
    {
     "name": "stderr",
     "output_type": "stream",
     "text": [
      "C:\\Anaconda3\\lib\\site-packages\\sqlalchemy\\sql\\base.py:299: SAWarning: Can't validate argument 'replace_string'; can't locate any SQLAlchemy dialect named 'replace'\n",
      "  util.warn(\n"
     ]
    },
    {
     "name": "stdout",
     "output_type": "stream",
     "text": [
      "saving daily data for spotID = sf_qinghai with number of data pts = 9\n"
     ]
    },
    {
     "name": "stderr",
     "output_type": "stream",
     "text": [
      "C:\\Anaconda3\\lib\\site-packages\\sqlalchemy\\sql\\base.py:299: SAWarning: Can't validate argument 'replace_string'; can't locate any SQLAlchemy dialect named 'replace'\n",
      "  util.warn(\n"
     ]
    },
    {
     "name": "stdout",
     "output_type": "stream",
     "text": [
      "saving daily data for spotID = sm_north with number of data pts = 13\n"
     ]
    },
    {
     "name": "stderr",
     "output_type": "stream",
     "text": [
      "C:\\Anaconda3\\lib\\site-packages\\sqlalchemy\\sql\\base.py:299: SAWarning: Can't validate argument 'replace_string'; can't locate any SQLAlchemy dialect named 'replace'\n",
      "  util.warn(\n"
     ]
    },
    {
     "name": "stdout",
     "output_type": "stream",
     "text": [
      "saving daily data for spotID = sm_south with number of data pts = 13\n"
     ]
    },
    {
     "name": "stderr",
     "output_type": "stream",
     "text": [
      "C:\\Anaconda3\\lib\\site-packages\\sqlalchemy\\sql\\base.py:299: SAWarning: Can't validate argument 'replace_string'; can't locate any SQLAlchemy dialect named 'replace'\n",
      "  util.warn(\n"
     ]
    },
    {
     "name": "stdout",
     "output_type": "stream",
     "text": [
      "saving daily data for spotID = tin_gejiu with number of data pts = 12\n"
     ]
    },
    {
     "name": "stderr",
     "output_type": "stream",
     "text": [
      "C:\\Anaconda3\\lib\\site-packages\\sqlalchemy\\sql\\base.py:299: SAWarning: Can't validate argument 'replace_string'; can't locate any SQLAlchemy dialect named 'replace'\n",
      "  util.warn(\n"
     ]
    },
    {
     "name": "stdout",
     "output_type": "stream",
     "text": [
      "saving daily data for spotID = tin_alloy with number of data pts = 12\n"
     ]
    },
    {
     "name": "stderr",
     "output_type": "stream",
     "text": [
      "C:\\Anaconda3\\lib\\site-packages\\sqlalchemy\\sql\\base.py:299: SAWarning: Can't validate argument 'replace_string'; can't locate any SQLAlchemy dialect named 'replace'\n",
      "  util.warn(\n"
     ]
    },
    {
     "name": "stdout",
     "output_type": "stream",
     "text": [
      "saving daily data for spotID = wsugar_xvzhou with number of data pts = 12\n"
     ]
    },
    {
     "name": "stderr",
     "output_type": "stream",
     "text": [
      "C:\\Anaconda3\\lib\\site-packages\\sqlalchemy\\sql\\base.py:299: SAWarning: Can't validate argument 'replace_string'; can't locate any SQLAlchemy dialect named 'replace'\n",
      "  util.warn(\n"
     ]
    },
    {
     "name": "stdout",
     "output_type": "stream",
     "text": [
      "saving daily data for spotID = wsugar_fuzhou with number of data pts = 13\n"
     ]
    },
    {
     "name": "stderr",
     "output_type": "stream",
     "text": [
      "C:\\Anaconda3\\lib\\site-packages\\sqlalchemy\\sql\\base.py:299: SAWarning: Can't validate argument 'replace_string'; can't locate any SQLAlchemy dialect named 'replace'\n",
      "  util.warn(\n"
     ]
    },
    {
     "name": "stdout",
     "output_type": "stream",
     "text": [
      "saving daily data for spotID = PTA_east with number of data pts = 13\n"
     ]
    },
    {
     "name": "stderr",
     "output_type": "stream",
     "text": [
      "C:\\Anaconda3\\lib\\site-packages\\sqlalchemy\\sql\\base.py:299: SAWarning: Can't validate argument 'replace_string'; can't locate any SQLAlchemy dialect named 'replace'\n",
      "  util.warn(\n"
     ]
    },
    {
     "name": "stdout",
     "output_type": "stream",
     "text": [
      "saving daily data for spotID = PTA_ccfei_index with number of data pts = 13\n"
     ]
    },
    {
     "name": "stderr",
     "output_type": "stream",
     "text": [
      "C:\\Anaconda3\\lib\\site-packages\\sqlalchemy\\sql\\base.py:299: SAWarning: Can't validate argument 'replace_string'; can't locate any SQLAlchemy dialect named 'replace'\n",
      "  util.warn(\n"
     ]
    },
    {
     "name": "stdout",
     "output_type": "stream",
     "text": [
      "saving daily data for spotID = PVC_low_south with number of data pts = 13\n"
     ]
    },
    {
     "name": "stderr",
     "output_type": "stream",
     "text": [
      "C:\\Anaconda3\\lib\\site-packages\\sqlalchemy\\sql\\base.py:299: SAWarning: Can't validate argument 'replace_string'; can't locate any SQLAlchemy dialect named 'replace'\n",
      "  util.warn(\n"
     ]
    },
    {
     "name": "stdout",
     "output_type": "stream",
     "text": [
      "saving daily data for spotID = PVC_mid_south with number of data pts = 13\n"
     ]
    },
    {
     "name": "stderr",
     "output_type": "stream",
     "text": [
      "C:\\Anaconda3\\lib\\site-packages\\sqlalchemy\\sql\\base.py:299: SAWarning: Can't validate argument 'replace_string'; can't locate any SQLAlchemy dialect named 'replace'\n",
      "  util.warn(\n"
     ]
    },
    {
     "name": "stdout",
     "output_type": "stream",
     "text": [
      "saving daily data for spotID = soyoil_zjg with number of data pts = 12\n"
     ]
    },
    {
     "name": "stderr",
     "output_type": "stream",
     "text": [
      "C:\\Anaconda3\\lib\\site-packages\\sqlalchemy\\sql\\base.py:299: SAWarning: Can't validate argument 'replace_string'; can't locate any SQLAlchemy dialect named 'replace'\n",
      "  util.warn(\n"
     ]
    },
    {
     "name": "stdout",
     "output_type": "stream",
     "text": [
      "saving daily data for spotID = soyoil_ningbo with number of data pts = 12\n"
     ]
    },
    {
     "name": "stderr",
     "output_type": "stream",
     "text": [
      "C:\\Anaconda3\\lib\\site-packages\\sqlalchemy\\sql\\base.py:299: SAWarning: Can't validate argument 'replace_string'; can't locate any SQLAlchemy dialect named 'replace'\n",
      "  util.warn(\n"
     ]
    },
    {
     "name": "stdout",
     "output_type": "stream",
     "text": [
      "saving daily data for spotID = thermalcoal_qhd with number of data pts = 4\n"
     ]
    },
    {
     "name": "stderr",
     "output_type": "stream",
     "text": [
      "C:\\Anaconda3\\lib\\site-packages\\sqlalchemy\\sql\\base.py:299: SAWarning: Can't validate argument 'replace_string'; can't locate any SQLAlchemy dialect named 'replace'\n",
      "  util.warn(\n"
     ]
    },
    {
     "name": "stdout",
     "output_type": "stream",
     "text": [
      "saving daily data for spotID = thermalcoal_jt with number of data pts = 4\n"
     ]
    },
    {
     "name": "stderr",
     "output_type": "stream",
     "text": [
      "C:\\Anaconda3\\lib\\site-packages\\sqlalchemy\\sql\\base.py:299: SAWarning: Can't validate argument 'replace_string'; can't locate any SQLAlchemy dialect named 'replace'\n",
      "  util.warn(\n"
     ]
    },
    {
     "name": "stdout",
     "output_type": "stream",
     "text": [
      "saving daily data for spotID = thermalcoal_tj with number of data pts = 4\n"
     ]
    },
    {
     "name": "stderr",
     "output_type": "stream",
     "text": [
      "C:\\Anaconda3\\lib\\site-packages\\sqlalchemy\\sql\\base.py:299: SAWarning: Can't validate argument 'replace_string'; can't locate any SQLAlchemy dialect named 'replace'\n",
      "  util.warn(\n"
     ]
    },
    {
     "name": "stdout",
     "output_type": "stream",
     "text": [
      "saving daily data for spotID = zinc_avg_cn with number of data pts = 12\n"
     ]
    },
    {
     "name": "stderr",
     "output_type": "stream",
     "text": [
      "C:\\Anaconda3\\lib\\site-packages\\sqlalchemy\\sql\\base.py:299: SAWarning: Can't validate argument 'replace_string'; can't locate any SQLAlchemy dialect named 'replace'\n",
      "  util.warn(\n"
     ]
    },
    {
     "name": "stdout",
     "output_type": "stream",
     "text": [
      "saving daily data for spotID = zinc_sh with number of data pts = 12\n"
     ]
    },
    {
     "name": "stderr",
     "output_type": "stream",
     "text": [
      "C:\\Anaconda3\\lib\\site-packages\\sqlalchemy\\sql\\base.py:299: SAWarning: Can't validate argument 'replace_string'; can't locate any SQLAlchemy dialect named 'replace'\n",
      "  util.warn(\n"
     ]
    },
    {
     "name": "stdout",
     "output_type": "stream",
     "text": [
      "saving daily data for spotID = cu_lme_inv_global with number of data pts = 14\n"
     ]
    },
    {
     "name": "stderr",
     "output_type": "stream",
     "text": [
      "C:\\Anaconda3\\lib\\site-packages\\sqlalchemy\\sql\\base.py:299: SAWarning: Can't validate argument 'replace_string'; can't locate any SQLAlchemy dialect named 'replace'\n",
      "  util.warn(\n"
     ]
    },
    {
     "name": "stdout",
     "output_type": "stream",
     "text": [
      "saving daily data for spotID = cu_lme_inv_asia with number of data pts = 14\n"
     ]
    },
    {
     "name": "stderr",
     "output_type": "stream",
     "text": [
      "C:\\Anaconda3\\lib\\site-packages\\sqlalchemy\\sql\\base.py:299: SAWarning: Can't validate argument 'replace_string'; can't locate any SQLAlchemy dialect named 'replace'\n",
      "  util.warn(\n"
     ]
    },
    {
     "name": "stdout",
     "output_type": "stream",
     "text": [
      "saving daily data for spotID = cu_lme_war_global with number of data pts = 14\n"
     ]
    },
    {
     "name": "stderr",
     "output_type": "stream",
     "text": [
      "C:\\Anaconda3\\lib\\site-packages\\sqlalchemy\\sql\\base.py:299: SAWarning: Can't validate argument 'replace_string'; can't locate any SQLAlchemy dialect named 'replace'\n",
      "  util.warn(\n"
     ]
    },
    {
     "name": "stdout",
     "output_type": "stream",
     "text": [
      "saving daily data for spotID = cu_lme_war_asia with number of data pts = 14\n"
     ]
    },
    {
     "name": "stderr",
     "output_type": "stream",
     "text": [
      "C:\\Anaconda3\\lib\\site-packages\\sqlalchemy\\sql\\base.py:299: SAWarning: Can't validate argument 'replace_string'; can't locate any SQLAlchemy dialect named 'replace'\n",
      "  util.warn(\n"
     ]
    },
    {
     "name": "stdout",
     "output_type": "stream",
     "text": [
      "saving daily data for spotID = cu_comex_inv with number of data pts = 14\n"
     ]
    },
    {
     "name": "stderr",
     "output_type": "stream",
     "text": [
      "C:\\Anaconda3\\lib\\site-packages\\sqlalchemy\\sql\\base.py:299: SAWarning: Can't validate argument 'replace_string'; can't locate any SQLAlchemy dialect named 'replace'\n",
      "  util.warn(\n"
     ]
    },
    {
     "name": "stdout",
     "output_type": "stream",
     "text": [
      "saving daily data for spotID = cu_shfe_inv with number of data pts = 12\n"
     ]
    },
    {
     "name": "stderr",
     "output_type": "stream",
     "text": [
      "C:\\Anaconda3\\lib\\site-packages\\sqlalchemy\\sql\\base.py:299: SAWarning: Can't validate argument 'replace_string'; can't locate any SQLAlchemy dialect named 'replace'\n",
      "  util.warn(\n"
     ]
    },
    {
     "name": "stdout",
     "output_type": "stream",
     "text": [
      "saving daily data for spotID = al_lme_inv_global with number of data pts = 14\n"
     ]
    },
    {
     "name": "stderr",
     "output_type": "stream",
     "text": [
      "C:\\Anaconda3\\lib\\site-packages\\sqlalchemy\\sql\\base.py:299: SAWarning: Can't validate argument 'replace_string'; can't locate any SQLAlchemy dialect named 'replace'\n",
      "  util.warn(\n"
     ]
    },
    {
     "name": "stdout",
     "output_type": "stream",
     "text": [
      "saving daily data for spotID = al_lme_inv_asia with number of data pts = 14\n"
     ]
    },
    {
     "name": "stderr",
     "output_type": "stream",
     "text": [
      "C:\\Anaconda3\\lib\\site-packages\\sqlalchemy\\sql\\base.py:299: SAWarning: Can't validate argument 'replace_string'; can't locate any SQLAlchemy dialect named 'replace'\n",
      "  util.warn(\n"
     ]
    },
    {
     "name": "stdout",
     "output_type": "stream",
     "text": [
      "saving daily data for spotID = al_lme_war_global with number of data pts = 14\n"
     ]
    },
    {
     "name": "stderr",
     "output_type": "stream",
     "text": [
      "C:\\Anaconda3\\lib\\site-packages\\sqlalchemy\\sql\\base.py:299: SAWarning: Can't validate argument 'replace_string'; can't locate any SQLAlchemy dialect named 'replace'\n",
      "  util.warn(\n"
     ]
    },
    {
     "name": "stdout",
     "output_type": "stream",
     "text": [
      "saving daily data for spotID = al_lme_war_asia with number of data pts = 14\n"
     ]
    },
    {
     "name": "stderr",
     "output_type": "stream",
     "text": [
      "C:\\Anaconda3\\lib\\site-packages\\sqlalchemy\\sql\\base.py:299: SAWarning: Can't validate argument 'replace_string'; can't locate any SQLAlchemy dialect named 'replace'\n",
      "  util.warn(\n"
     ]
    },
    {
     "name": "stdout",
     "output_type": "stream",
     "text": [
      "saving daily data for spotID = al_shfe_inv with number of data pts = 12\n"
     ]
    },
    {
     "name": "stderr",
     "output_type": "stream",
     "text": [
      "C:\\Anaconda3\\lib\\site-packages\\sqlalchemy\\sql\\base.py:299: SAWarning: Can't validate argument 'replace_string'; can't locate any SQLAlchemy dialect named 'replace'\n",
      "  util.warn(\n"
     ]
    },
    {
     "name": "stdout",
     "output_type": "stream",
     "text": [
      "saving daily data for spotID = zn_lme_inv_global with number of data pts = 14\n"
     ]
    },
    {
     "name": "stderr",
     "output_type": "stream",
     "text": [
      "C:\\Anaconda3\\lib\\site-packages\\sqlalchemy\\sql\\base.py:299: SAWarning: Can't validate argument 'replace_string'; can't locate any SQLAlchemy dialect named 'replace'\n",
      "  util.warn(\n"
     ]
    },
    {
     "name": "stdout",
     "output_type": "stream",
     "text": [
      "saving daily data for spotID = zn_lme_inv_asia with number of data pts = 14\n"
     ]
    },
    {
     "name": "stderr",
     "output_type": "stream",
     "text": [
      "C:\\Anaconda3\\lib\\site-packages\\sqlalchemy\\sql\\base.py:299: SAWarning: Can't validate argument 'replace_string'; can't locate any SQLAlchemy dialect named 'replace'\n",
      "  util.warn(\n"
     ]
    },
    {
     "name": "stdout",
     "output_type": "stream",
     "text": [
      "saving daily data for spotID = zn_lme_war_global with number of data pts = 14\n"
     ]
    },
    {
     "name": "stderr",
     "output_type": "stream",
     "text": [
      "C:\\Anaconda3\\lib\\site-packages\\sqlalchemy\\sql\\base.py:299: SAWarning: Can't validate argument 'replace_string'; can't locate any SQLAlchemy dialect named 'replace'\n",
      "  util.warn(\n"
     ]
    },
    {
     "name": "stdout",
     "output_type": "stream",
     "text": [
      "saving daily data for spotID = zn_lme_war_asia with number of data pts = 14\n"
     ]
    },
    {
     "name": "stderr",
     "output_type": "stream",
     "text": [
      "C:\\Anaconda3\\lib\\site-packages\\sqlalchemy\\sql\\base.py:299: SAWarning: Can't validate argument 'replace_string'; can't locate any SQLAlchemy dialect named 'replace'\n",
      "  util.warn(\n"
     ]
    },
    {
     "name": "stdout",
     "output_type": "stream",
     "text": [
      "saving daily data for spotID = zn_shfe_inv with number of data pts = 12\n"
     ]
    },
    {
     "name": "stderr",
     "output_type": "stream",
     "text": [
      "C:\\Anaconda3\\lib\\site-packages\\sqlalchemy\\sql\\base.py:299: SAWarning: Can't validate argument 'replace_string'; can't locate any SQLAlchemy dialect named 'replace'\n",
      "  util.warn(\n"
     ]
    },
    {
     "name": "stdout",
     "output_type": "stream",
     "text": [
      "saving daily data for spotID = pb_lme_inv_global with number of data pts = 14\n"
     ]
    },
    {
     "name": "stderr",
     "output_type": "stream",
     "text": [
      "C:\\Anaconda3\\lib\\site-packages\\sqlalchemy\\sql\\base.py:299: SAWarning: Can't validate argument 'replace_string'; can't locate any SQLAlchemy dialect named 'replace'\n",
      "  util.warn(\n"
     ]
    },
    {
     "name": "stdout",
     "output_type": "stream",
     "text": [
      "saving daily data for spotID = pb_lme_inv_asia with number of data pts = 14\n"
     ]
    },
    {
     "name": "stderr",
     "output_type": "stream",
     "text": [
      "C:\\Anaconda3\\lib\\site-packages\\sqlalchemy\\sql\\base.py:299: SAWarning: Can't validate argument 'replace_string'; can't locate any SQLAlchemy dialect named 'replace'\n",
      "  util.warn(\n"
     ]
    },
    {
     "name": "stdout",
     "output_type": "stream",
     "text": [
      "saving daily data for spotID = pb_lme_war_global with number of data pts = 14\n"
     ]
    },
    {
     "name": "stderr",
     "output_type": "stream",
     "text": [
      "C:\\Anaconda3\\lib\\site-packages\\sqlalchemy\\sql\\base.py:299: SAWarning: Can't validate argument 'replace_string'; can't locate any SQLAlchemy dialect named 'replace'\n",
      "  util.warn(\n"
     ]
    },
    {
     "name": "stdout",
     "output_type": "stream",
     "text": [
      "saving daily data for spotID = pb_lme_war_asia with number of data pts = 14\n"
     ]
    },
    {
     "name": "stderr",
     "output_type": "stream",
     "text": [
      "C:\\Anaconda3\\lib\\site-packages\\sqlalchemy\\sql\\base.py:299: SAWarning: Can't validate argument 'replace_string'; can't locate any SQLAlchemy dialect named 'replace'\n",
      "  util.warn(\n"
     ]
    },
    {
     "name": "stdout",
     "output_type": "stream",
     "text": [
      "saving daily data for spotID = pb_shfe_inv with number of data pts = 12\n"
     ]
    },
    {
     "name": "stderr",
     "output_type": "stream",
     "text": [
      "C:\\Anaconda3\\lib\\site-packages\\sqlalchemy\\sql\\base.py:299: SAWarning: Can't validate argument 'replace_string'; can't locate any SQLAlchemy dialect named 'replace'\n",
      "  util.warn(\n"
     ]
    },
    {
     "name": "stdout",
     "output_type": "stream",
     "text": [
      "saving daily data for spotID = ni_lme_inv_global with number of data pts = 14\n"
     ]
    },
    {
     "name": "stderr",
     "output_type": "stream",
     "text": [
      "C:\\Anaconda3\\lib\\site-packages\\sqlalchemy\\sql\\base.py:299: SAWarning: Can't validate argument 'replace_string'; can't locate any SQLAlchemy dialect named 'replace'\n",
      "  util.warn(\n"
     ]
    },
    {
     "name": "stdout",
     "output_type": "stream",
     "text": [
      "saving daily data for spotID = ni_lme_inv_asia with number of data pts = 14\n"
     ]
    },
    {
     "name": "stderr",
     "output_type": "stream",
     "text": [
      "C:\\Anaconda3\\lib\\site-packages\\sqlalchemy\\sql\\base.py:299: SAWarning: Can't validate argument 'replace_string'; can't locate any SQLAlchemy dialect named 'replace'\n",
      "  util.warn(\n"
     ]
    },
    {
     "name": "stdout",
     "output_type": "stream",
     "text": [
      "saving daily data for spotID = ni_lme_war_global with number of data pts = 14\n"
     ]
    },
    {
     "name": "stderr",
     "output_type": "stream",
     "text": [
      "C:\\Anaconda3\\lib\\site-packages\\sqlalchemy\\sql\\base.py:299: SAWarning: Can't validate argument 'replace_string'; can't locate any SQLAlchemy dialect named 'replace'\n",
      "  util.warn(\n"
     ]
    },
    {
     "name": "stdout",
     "output_type": "stream",
     "text": [
      "saving daily data for spotID = ni_lme_war_asia with number of data pts = 14\n"
     ]
    },
    {
     "name": "stderr",
     "output_type": "stream",
     "text": [
      "C:\\Anaconda3\\lib\\site-packages\\sqlalchemy\\sql\\base.py:299: SAWarning: Can't validate argument 'replace_string'; can't locate any SQLAlchemy dialect named 'replace'\n",
      "  util.warn(\n"
     ]
    },
    {
     "name": "stdout",
     "output_type": "stream",
     "text": [
      "saving daily data for spotID = ni_shfe_inv with number of data pts = 12\n"
     ]
    },
    {
     "name": "stderr",
     "output_type": "stream",
     "text": [
      "C:\\Anaconda3\\lib\\site-packages\\sqlalchemy\\sql\\base.py:299: SAWarning: Can't validate argument 'replace_string'; can't locate any SQLAlchemy dialect named 'replace'\n",
      "  util.warn(\n"
     ]
    },
    {
     "name": "stdout",
     "output_type": "stream",
     "text": [
      "saving daily data for spotID = sn_lme_inv_global with number of data pts = 14\n"
     ]
    },
    {
     "name": "stderr",
     "output_type": "stream",
     "text": [
      "C:\\Anaconda3\\lib\\site-packages\\sqlalchemy\\sql\\base.py:299: SAWarning: Can't validate argument 'replace_string'; can't locate any SQLAlchemy dialect named 'replace'\n",
      "  util.warn(\n"
     ]
    },
    {
     "name": "stdout",
     "output_type": "stream",
     "text": [
      "saving daily data for spotID = sn_lme_inv_asia with number of data pts = 14\n"
     ]
    },
    {
     "name": "stderr",
     "output_type": "stream",
     "text": [
      "C:\\Anaconda3\\lib\\site-packages\\sqlalchemy\\sql\\base.py:299: SAWarning: Can't validate argument 'replace_string'; can't locate any SQLAlchemy dialect named 'replace'\n",
      "  util.warn(\n"
     ]
    },
    {
     "name": "stdout",
     "output_type": "stream",
     "text": [
      "saving daily data for spotID = sn_lme_war_global with number of data pts = 14\n"
     ]
    },
    {
     "name": "stderr",
     "output_type": "stream",
     "text": [
      "C:\\Anaconda3\\lib\\site-packages\\sqlalchemy\\sql\\base.py:299: SAWarning: Can't validate argument 'replace_string'; can't locate any SQLAlchemy dialect named 'replace'\n",
      "  util.warn(\n"
     ]
    },
    {
     "name": "stdout",
     "output_type": "stream",
     "text": [
      "saving daily data for spotID = sn_lme_war_asia with number of data pts = 14\n"
     ]
    },
    {
     "name": "stderr",
     "output_type": "stream",
     "text": [
      "C:\\Anaconda3\\lib\\site-packages\\sqlalchemy\\sql\\base.py:299: SAWarning: Can't validate argument 'replace_string'; can't locate any SQLAlchemy dialect named 'replace'\n",
      "  util.warn(\n"
     ]
    },
    {
     "name": "stdout",
     "output_type": "stream",
     "text": [
      "saving daily data for spotID = sn_shfe_inv with number of data pts = 12\n"
     ]
    },
    {
     "name": "stderr",
     "output_type": "stream",
     "text": [
      "C:\\Anaconda3\\lib\\site-packages\\sqlalchemy\\sql\\base.py:299: SAWarning: Can't validate argument 'replace_string'; can't locate any SQLAlchemy dialect named 'replace'\n",
      "  util.warn(\n"
     ]
    },
    {
     "name": "stdout",
     "output_type": "stream",
     "text": [
      "saving daily data for spotID = ru_shfe_inv with number of data pts = 12\n"
     ]
    },
    {
     "name": "stderr",
     "output_type": "stream",
     "text": [
      "C:\\Anaconda3\\lib\\site-packages\\sqlalchemy\\sql\\base.py:299: SAWarning: Can't validate argument 'replace_string'; can't locate any SQLAlchemy dialect named 'replace'\n",
      "  util.warn(\n"
     ]
    },
    {
     "name": "stdout",
     "output_type": "stream",
     "text": [
      "saving daily data for spotID = ZC_power_plant_inv with number of data pts = 1\n"
     ]
    },
    {
     "name": "stderr",
     "output_type": "stream",
     "text": [
      "C:\\Anaconda3\\lib\\site-packages\\sqlalchemy\\sql\\base.py:299: SAWarning: Can't validate argument 'replace_string'; can't locate any SQLAlchemy dialect named 'replace'\n",
      "  util.warn(\n"
     ]
    },
    {
     "name": "stdout",
     "output_type": "stream",
     "text": [
      "saving daily data for spotID = ZC_6_power_plant_usage with number of data pts = 1\n"
     ]
    },
    {
     "name": "stderr",
     "output_type": "stream",
     "text": [
      "C:\\Anaconda3\\lib\\site-packages\\sqlalchemy\\sql\\base.py:299: SAWarning: Can't validate argument 'replace_string'; can't locate any SQLAlchemy dialect named 'replace'\n",
      "  util.warn(\n"
     ]
    },
    {
     "name": "stdout",
     "output_type": "stream",
     "text": [
      "saving daily data for spotID = ZC_qinhuangdao_port_inv with number of data pts = 21\n"
     ]
    },
    {
     "name": "stderr",
     "output_type": "stream",
     "text": [
      "C:\\Anaconda3\\lib\\site-packages\\sqlalchemy\\sql\\base.py:299: SAWarning: Can't validate argument 'replace_string'; can't locate any SQLAlchemy dialect named 'replace'\n",
      "  util.warn(\n"
     ]
    },
    {
     "name": "stdout",
     "output_type": "stream",
     "text": [
      "saving daily data for spotID = ZC_guangzhou_port_inv with number of data pts = 13\n"
     ]
    },
    {
     "name": "stderr",
     "output_type": "stream",
     "text": [
      "C:\\Anaconda3\\lib\\site-packages\\sqlalchemy\\sql\\base.py:299: SAWarning: Can't validate argument 'replace_string'; can't locate any SQLAlchemy dialect named 'replace'\n",
      "  util.warn(\n"
     ]
    },
    {
     "name": "stdout",
     "output_type": "stream",
     "text": [
      "saving daily data for spotID = ZC_caofeidian_port_inv with number of data pts = 21\n"
     ]
    },
    {
     "name": "stderr",
     "output_type": "stream",
     "text": [
      "C:\\Anaconda3\\lib\\site-packages\\sqlalchemy\\sql\\base.py:299: SAWarning: Can't validate argument 'replace_string'; can't locate any SQLAlchemy dialect named 'replace'\n",
      "  util.warn(\n"
     ]
    },
    {
     "name": "stdout",
     "output_type": "stream",
     "text": [
      "saving daily data for spotID = ZC_jingtang_port_inv with number of data pts = 21\n"
     ]
    },
    {
     "name": "stderr",
     "output_type": "stream",
     "text": [
      "C:\\Anaconda3\\lib\\site-packages\\sqlalchemy\\sql\\base.py:299: SAWarning: Can't validate argument 'replace_string'; can't locate any SQLAlchemy dialect named 'replace'\n",
      "  util.warn(\n"
     ]
    },
    {
     "name": "stdout",
     "output_type": "stream",
     "text": [
      "saving daily data for spotID = FG_production_line_inv with number of data pts = 3\n"
     ]
    },
    {
     "name": "stderr",
     "output_type": "stream",
     "text": [
      "C:\\Anaconda3\\lib\\site-packages\\sqlalchemy\\sql\\base.py:299: SAWarning: Can't validate argument 'replace_string'; can't locate any SQLAlchemy dialect named 'replace'\n",
      "  util.warn(\n"
     ]
    },
    {
     "name": "stdout",
     "output_type": "stream",
     "text": [
      "saving daily data for spotID = rb_cities_inv with number of data pts = 3\n"
     ]
    },
    {
     "name": "stderr",
     "output_type": "stream",
     "text": [
      "C:\\Anaconda3\\lib\\site-packages\\sqlalchemy\\sql\\base.py:299: SAWarning: Can't validate argument 'replace_string'; can't locate any SQLAlchemy dialect named 'replace'\n",
      "  util.warn(\n"
     ]
    },
    {
     "name": "stdout",
     "output_type": "stream",
     "text": [
      "saving daily data for spotID = wr_cities_inv with number of data pts = 3\n"
     ]
    },
    {
     "name": "stderr",
     "output_type": "stream",
     "text": [
      "C:\\Anaconda3\\lib\\site-packages\\sqlalchemy\\sql\\base.py:299: SAWarning: Can't validate argument 'replace_string'; can't locate any SQLAlchemy dialect named 'replace'\n",
      "  util.warn(\n"
     ]
    },
    {
     "name": "stdout",
     "output_type": "stream",
     "text": [
      "saving daily data for spotID = hc_cities_inv with number of data pts = 3\n"
     ]
    },
    {
     "name": "stderr",
     "output_type": "stream",
     "text": [
      "C:\\Anaconda3\\lib\\site-packages\\sqlalchemy\\sql\\base.py:299: SAWarning: Can't validate argument 'replace_string'; can't locate any SQLAlchemy dialect named 'replace'\n",
      "  util.warn(\n"
     ]
    },
    {
     "name": "stdout",
     "output_type": "stream",
     "text": [
      "saving daily data for spotID = plate_cities_inv with number of data pts = 3\n"
     ]
    },
    {
     "name": "stderr",
     "output_type": "stream",
     "text": [
      "C:\\Anaconda3\\lib\\site-packages\\sqlalchemy\\sql\\base.py:299: SAWarning: Can't validate argument 'replace_string'; can't locate any SQLAlchemy dialect named 'replace'\n",
      "  util.warn(\n"
     ]
    },
    {
     "name": "stdout",
     "output_type": "stream",
     "text": [
      "saving daily data for spotID = crc_cities_inv with number of data pts = 3\n"
     ]
    },
    {
     "name": "stderr",
     "output_type": "stream",
     "text": [
      "C:\\Anaconda3\\lib\\site-packages\\sqlalchemy\\sql\\base.py:299: SAWarning: Can't validate argument 'replace_string'; can't locate any SQLAlchemy dialect named 'replace'\n",
      "  util.warn(\n"
     ]
    },
    {
     "name": "stdout",
     "output_type": "stream",
     "text": [
      "saving daily data for spotID = i_cn_allports_inv with number of data pts = 3\n"
     ]
    },
    {
     "name": "stderr",
     "output_type": "stream",
     "text": [
      "C:\\Anaconda3\\lib\\site-packages\\sqlalchemy\\sql\\base.py:299: SAWarning: Can't validate argument 'replace_string'; can't locate any SQLAlchemy dialect named 'replace'\n",
      "  util.warn(\n"
     ]
    },
    {
     "name": "stdout",
     "output_type": "stream",
     "text": [
      "saving daily data for spotID = i_cn_41ports_inv with number of data pts = 3\n"
     ]
    },
    {
     "name": "stderr",
     "output_type": "stream",
     "text": [
      "C:\\Anaconda3\\lib\\site-packages\\sqlalchemy\\sql\\base.py:299: SAWarning: Can't validate argument 'replace_string'; can't locate any SQLAlchemy dialect named 'replace'\n",
      "  util.warn(\n"
     ]
    },
    {
     "name": "stdout",
     "output_type": "stream",
     "text": [
      "saving daily data for spotID = i_cn_30ports_inv with number of data pts = 3\n"
     ]
    },
    {
     "name": "stderr",
     "output_type": "stream",
     "text": [
      "C:\\Anaconda3\\lib\\site-packages\\sqlalchemy\\sql\\base.py:299: SAWarning: Can't validate argument 'replace_string'; can't locate any SQLAlchemy dialect named 'replace'\n",
      "  util.warn(\n"
     ]
    },
    {
     "name": "stdout",
     "output_type": "stream",
     "text": [
      "saving daily data for spotID = j_tianjin_port_inv with number of data pts = 3\n"
     ]
    },
    {
     "name": "stderr",
     "output_type": "stream",
     "text": [
      "C:\\Anaconda3\\lib\\site-packages\\sqlalchemy\\sql\\base.py:299: SAWarning: Can't validate argument 'replace_string'; can't locate any SQLAlchemy dialect named 'replace'\n",
      "  util.warn(\n"
     ]
    },
    {
     "name": "stdout",
     "output_type": "stream",
     "text": [
      "saving daily data for spotID = j_lianyungang_port_inv with number of data pts = 3\n"
     ]
    },
    {
     "name": "stderr",
     "output_type": "stream",
     "text": [
      "C:\\Anaconda3\\lib\\site-packages\\sqlalchemy\\sql\\base.py:299: SAWarning: Can't validate argument 'replace_string'; can't locate any SQLAlchemy dialect named 'replace'\n",
      "  util.warn(\n"
     ]
    },
    {
     "name": "stdout",
     "output_type": "stream",
     "text": [
      "saving daily data for spotID = j_rizhao_port_inv with number of data pts = 3\n"
     ]
    },
    {
     "name": "stderr",
     "output_type": "stream",
     "text": [
      "C:\\Anaconda3\\lib\\site-packages\\sqlalchemy\\sql\\base.py:299: SAWarning: Can't validate argument 'replace_string'; can't locate any SQLAlchemy dialect named 'replace'\n",
      "  util.warn(\n"
     ]
    },
    {
     "name": "stdout",
     "output_type": "stream",
     "text": [
      "saving daily data for spotID = j_qingdao_port_inv with number of data pts = 3\n"
     ]
    },
    {
     "name": "stderr",
     "output_type": "stream",
     "text": [
      "C:\\Anaconda3\\lib\\site-packages\\sqlalchemy\\sql\\base.py:299: SAWarning: Can't validate argument 'replace_string'; can't locate any SQLAlchemy dialect named 'replace'\n",
      "  util.warn(\n"
     ]
    },
    {
     "name": "stdout",
     "output_type": "stream",
     "text": [
      "saving daily data for spotID = j_cokery_le1M_inv with number of data pts = 3\n"
     ]
    },
    {
     "name": "stderr",
     "output_type": "stream",
     "text": [
      "C:\\Anaconda3\\lib\\site-packages\\sqlalchemy\\sql\\base.py:299: SAWarning: Can't validate argument 'replace_string'; can't locate any SQLAlchemy dialect named 'replace'\n",
      "  util.warn(\n"
     ]
    },
    {
     "name": "stdout",
     "output_type": "stream",
     "text": [
      "saving daily data for spotID = j_cokery_1M2M_inv with number of data pts = 3\n"
     ]
    },
    {
     "name": "stderr",
     "output_type": "stream",
     "text": [
      "C:\\Anaconda3\\lib\\site-packages\\sqlalchemy\\sql\\base.py:299: SAWarning: Can't validate argument 'replace_string'; can't locate any SQLAlchemy dialect named 'replace'\n",
      "  util.warn(\n"
     ]
    },
    {
     "name": "stdout",
     "output_type": "stream",
     "text": [
      "saving daily data for spotID = j_cokery_ge2M_inv with number of data pts = 3\n"
     ]
    },
    {
     "name": "stderr",
     "output_type": "stream",
     "text": [
      "C:\\Anaconda3\\lib\\site-packages\\sqlalchemy\\sql\\base.py:299: SAWarning: Can't validate argument 'replace_string'; can't locate any SQLAlchemy dialect named 'replace'\n",
      "  util.warn(\n"
     ]
    },
    {
     "name": "stdout",
     "output_type": "stream",
     "text": [
      "saving daily data for spotID = j_110mills_inv with number of data pts = 3\n"
     ]
    },
    {
     "name": "stderr",
     "output_type": "stream",
     "text": [
      "C:\\Anaconda3\\lib\\site-packages\\sqlalchemy\\sql\\base.py:299: SAWarning: Can't validate argument 'replace_string'; can't locate any SQLAlchemy dialect named 'replace'\n",
      "  util.warn(\n"
     ]
    },
    {
     "name": "stdout",
     "output_type": "stream",
     "text": [
      "saving daily data for spotID = jm_jingtang_port_inv with number of data pts = 3\n"
     ]
    },
    {
     "name": "stderr",
     "output_type": "stream",
     "text": [
      "C:\\Anaconda3\\lib\\site-packages\\sqlalchemy\\sql\\base.py:299: SAWarning: Can't validate argument 'replace_string'; can't locate any SQLAlchemy dialect named 'replace'\n",
      "  util.warn(\n"
     ]
    },
    {
     "name": "stdout",
     "output_type": "stream",
     "text": [
      "saving daily data for spotID = jm_rizhao_port_inv with number of data pts = 3\n"
     ]
    },
    {
     "name": "stderr",
     "output_type": "stream",
     "text": [
      "C:\\Anaconda3\\lib\\site-packages\\sqlalchemy\\sql\\base.py:299: SAWarning: Can't validate argument 'replace_string'; can't locate any SQLAlchemy dialect named 'replace'\n",
      "  util.warn(\n"
     ]
    },
    {
     "name": "stdout",
     "output_type": "stream",
     "text": [
      "saving daily data for spotID = jm_lianyungang_port_inv with number of data pts = 3\n"
     ]
    },
    {
     "name": "stderr",
     "output_type": "stream",
     "text": [
      "C:\\Anaconda3\\lib\\site-packages\\sqlalchemy\\sql\\base.py:299: SAWarning: Can't validate argument 'replace_string'; can't locate any SQLAlchemy dialect named 'replace'\n",
      "  util.warn(\n"
     ]
    },
    {
     "name": "stdout",
     "output_type": "stream",
     "text": [
      "saving daily data for spotID = jm_qingdao_port_inv with number of data pts = 3\n"
     ]
    },
    {
     "name": "stderr",
     "output_type": "stream",
     "text": [
      "C:\\Anaconda3\\lib\\site-packages\\sqlalchemy\\sql\\base.py:299: SAWarning: Can't validate argument 'replace_string'; can't locate any SQLAlchemy dialect named 'replace'\n",
      "  util.warn(\n"
     ]
    },
    {
     "name": "stdout",
     "output_type": "stream",
     "text": [
      "saving daily data for spotID = jm_cokery_le1M_inv with number of data pts = 3\n"
     ]
    },
    {
     "name": "stderr",
     "output_type": "stream",
     "text": [
      "C:\\Anaconda3\\lib\\site-packages\\sqlalchemy\\sql\\base.py:299: SAWarning: Can't validate argument 'replace_string'; can't locate any SQLAlchemy dialect named 'replace'\n",
      "  util.warn(\n"
     ]
    },
    {
     "name": "stdout",
     "output_type": "stream",
     "text": [
      "saving daily data for spotID = jm_cokery_1M2M_inv with number of data pts = 3\n"
     ]
    },
    {
     "name": "stderr",
     "output_type": "stream",
     "text": [
      "C:\\Anaconda3\\lib\\site-packages\\sqlalchemy\\sql\\base.py:299: SAWarning: Can't validate argument 'replace_string'; can't locate any SQLAlchemy dialect named 'replace'\n",
      "  util.warn(\n"
     ]
    },
    {
     "name": "stdout",
     "output_type": "stream",
     "text": [
      "saving daily data for spotID = jm_cokery_ge2M_inv with number of data pts = 3\n"
     ]
    },
    {
     "name": "stderr",
     "output_type": "stream",
     "text": [
      "C:\\Anaconda3\\lib\\site-packages\\sqlalchemy\\sql\\base.py:299: SAWarning: Can't validate argument 'replace_string'; can't locate any SQLAlchemy dialect named 'replace'\n",
      "  util.warn(\n"
     ]
    },
    {
     "name": "stdout",
     "output_type": "stream",
     "text": [
      "saving daily data for spotID = jm_110mills_inv with number of data pts = 3\n"
     ]
    },
    {
     "name": "stderr",
     "output_type": "stream",
     "text": [
      "C:\\Anaconda3\\lib\\site-packages\\sqlalchemy\\sql\\base.py:299: SAWarning: Can't validate argument 'replace_string'; can't locate any SQLAlchemy dialect named 'replace'\n",
      "  util.warn(\n"
     ]
    },
    {
     "name": "stdout",
     "output_type": "stream",
     "text": [
      "saving daily data for spotID = v_dce_warrant with number of data pts = 12\n"
     ]
    },
    {
     "name": "stderr",
     "output_type": "stream",
     "text": [
      "C:\\Anaconda3\\lib\\site-packages\\sqlalchemy\\sql\\base.py:299: SAWarning: Can't validate argument 'replace_string'; can't locate any SQLAlchemy dialect named 'replace'\n",
      "  util.warn(\n"
     ]
    },
    {
     "name": "stdout",
     "output_type": "stream",
     "text": [
      "saving daily data for spotID = MA_northeast_inv with number of data pts = 3\n"
     ]
    },
    {
     "name": "stderr",
     "output_type": "stream",
     "text": [
      "C:\\Anaconda3\\lib\\site-packages\\sqlalchemy\\sql\\base.py:299: SAWarning: Can't validate argument 'replace_string'; can't locate any SQLAlchemy dialect named 'replace'\n",
      "  util.warn(\n"
     ]
    },
    {
     "name": "stdout",
     "output_type": "stream",
     "text": [
      "saving daily data for spotID = MA_north_inv with number of data pts = 3\n"
     ]
    },
    {
     "name": "stderr",
     "output_type": "stream",
     "text": [
      "C:\\Anaconda3\\lib\\site-packages\\sqlalchemy\\sql\\base.py:299: SAWarning: Can't validate argument 'replace_string'; can't locate any SQLAlchemy dialect named 'replace'\n",
      "  util.warn(\n"
     ]
    },
    {
     "name": "stdout",
     "output_type": "stream",
     "text": [
      "saving daily data for spotID = MA_east_inv with number of data pts = 3\n"
     ]
    },
    {
     "name": "stderr",
     "output_type": "stream",
     "text": [
      "C:\\Anaconda3\\lib\\site-packages\\sqlalchemy\\sql\\base.py:299: SAWarning: Can't validate argument 'replace_string'; can't locate any SQLAlchemy dialect named 'replace'\n",
      "  util.warn(\n"
     ]
    },
    {
     "name": "stdout",
     "output_type": "stream",
     "text": [
      "saving daily data for spotID = MA_central_inv with number of data pts = 3\n"
     ]
    },
    {
     "name": "stderr",
     "output_type": "stream",
     "text": [
      "C:\\Anaconda3\\lib\\site-packages\\sqlalchemy\\sql\\base.py:299: SAWarning: Can't validate argument 'replace_string'; can't locate any SQLAlchemy dialect named 'replace'\n",
      "  util.warn(\n"
     ]
    },
    {
     "name": "stdout",
     "output_type": "stream",
     "text": [
      "saving daily data for spotID = MA_northwest_inv with number of data pts = 3\n"
     ]
    },
    {
     "name": "stderr",
     "output_type": "stream",
     "text": [
      "C:\\Anaconda3\\lib\\site-packages\\sqlalchemy\\sql\\base.py:299: SAWarning: Can't validate argument 'replace_string'; can't locate any SQLAlchemy dialect named 'replace'\n",
      "  util.warn(\n"
     ]
    },
    {
     "name": "stdout",
     "output_type": "stream",
     "text": [
      "saving daily data for spotID = MA_southwest_inv with number of data pts = 3\n"
     ]
    },
    {
     "name": "stderr",
     "output_type": "stream",
     "text": [
      "C:\\Anaconda3\\lib\\site-packages\\sqlalchemy\\sql\\base.py:299: SAWarning: Can't validate argument 'replace_string'; can't locate any SQLAlchemy dialect named 'replace'\n",
      "  util.warn(\n"
     ]
    },
    {
     "name": "stdout",
     "output_type": "stream",
     "text": [
      "saving daily data for spotID = MA_fujian_port_inv with number of data pts = 3\n"
     ]
    },
    {
     "name": "stderr",
     "output_type": "stream",
     "text": [
      "C:\\Anaconda3\\lib\\site-packages\\sqlalchemy\\sql\\base.py:299: SAWarning: Can't validate argument 'replace_string'; can't locate any SQLAlchemy dialect named 'replace'\n",
      "  util.warn(\n"
     ]
    },
    {
     "name": "stdout",
     "output_type": "stream",
     "text": [
      "saving daily data for spotID = MA_guangdong_port_inv with number of data pts = 3\n"
     ]
    },
    {
     "name": "stderr",
     "output_type": "stream",
     "text": [
      "C:\\Anaconda3\\lib\\site-packages\\sqlalchemy\\sql\\base.py:299: SAWarning: Can't validate argument 'replace_string'; can't locate any SQLAlchemy dialect named 'replace'\n",
      "  util.warn(\n"
     ]
    },
    {
     "name": "stdout",
     "output_type": "stream",
     "text": [
      "saving daily data for spotID = MA_jiangsu_port_inv with number of data pts = 3\n"
     ]
    },
    {
     "name": "stderr",
     "output_type": "stream",
     "text": [
      "C:\\Anaconda3\\lib\\site-packages\\sqlalchemy\\sql\\base.py:299: SAWarning: Can't validate argument 'replace_string'; can't locate any SQLAlchemy dialect named 'replace'\n",
      "  util.warn(\n"
     ]
    },
    {
     "name": "stdout",
     "output_type": "stream",
     "text": [
      "saving daily data for spotID = MA_ningbo_port_inv with number of data pts = 3\n"
     ]
    },
    {
     "name": "stderr",
     "output_type": "stream",
     "text": [
      "C:\\Anaconda3\\lib\\site-packages\\sqlalchemy\\sql\\base.py:299: SAWarning: Can't validate argument 'replace_string'; can't locate any SQLAlchemy dialect named 'replace'\n",
      "  util.warn(\n"
     ]
    },
    {
     "name": "stdout",
     "output_type": "stream",
     "text": [
      "saving daily data for spotID = ag_shfe_inv with number of data pts = 12\n"
     ]
    },
    {
     "name": "stderr",
     "output_type": "stream",
     "text": [
      "C:\\Anaconda3\\lib\\site-packages\\sqlalchemy\\sql\\base.py:299: SAWarning: Can't validate argument 'replace_string'; can't locate any SQLAlchemy dialect named 'replace'\n",
      "  util.warn(\n"
     ]
    },
    {
     "name": "stdout",
     "output_type": "stream",
     "text": [
      "saving daily data for spotID = ag_comex_inv with number of data pts = 14\n"
     ]
    },
    {
     "name": "stderr",
     "output_type": "stream",
     "text": [
      "C:\\Anaconda3\\lib\\site-packages\\sqlalchemy\\sql\\base.py:299: SAWarning: Can't validate argument 'replace_string'; can't locate any SQLAlchemy dialect named 'replace'\n",
      "  util.warn(\n"
     ]
    },
    {
     "name": "stdout",
     "output_type": "stream",
     "text": [
      "saving daily data for spotID = au_shfe_inv with number of data pts = 12\n"
     ]
    },
    {
     "name": "stderr",
     "output_type": "stream",
     "text": [
      "C:\\Anaconda3\\lib\\site-packages\\sqlalchemy\\sql\\base.py:299: SAWarning: Can't validate argument 'replace_string'; can't locate any SQLAlchemy dialect named 'replace'\n",
      "  util.warn(\n"
     ]
    },
    {
     "name": "stdout",
     "output_type": "stream",
     "text": [
      "saving daily data for spotID = au_comex_inv with number of data pts = 14\n"
     ]
    },
    {
     "name": "stderr",
     "output_type": "stream",
     "text": [
      "C:\\Anaconda3\\lib\\site-packages\\sqlalchemy\\sql\\base.py:299: SAWarning: Can't validate argument 'replace_string'; can't locate any SQLAlchemy dialect named 'replace'\n",
      "  util.warn(\n"
     ]
    },
    {
     "name": "stdout",
     "output_type": "stream",
     "text": [
      "saving daily data for spotID = c_dce_warrant with number of data pts = 12\n"
     ]
    },
    {
     "name": "stderr",
     "output_type": "stream",
     "text": [
      "C:\\Anaconda3\\lib\\site-packages\\sqlalchemy\\sql\\base.py:299: SAWarning: Can't validate argument 'replace_string'; can't locate any SQLAlchemy dialect named 'replace'\n",
      "  util.warn(\n"
     ]
    },
    {
     "name": "stdout",
     "output_type": "stream",
     "text": [
      "saving daily data for spotID = a_dce_warrant with number of data pts = 12\n"
     ]
    },
    {
     "name": "stderr",
     "output_type": "stream",
     "text": [
      "C:\\Anaconda3\\lib\\site-packages\\sqlalchemy\\sql\\base.py:299: SAWarning: Can't validate argument 'replace_string'; can't locate any SQLAlchemy dialect named 'replace'\n",
      "  util.warn(\n"
     ]
    },
    {
     "name": "stdout",
     "output_type": "stream",
     "text": [
      "saving daily data for spotID = soybean_import_port_inv with number of data pts = 13\n"
     ]
    },
    {
     "name": "stderr",
     "output_type": "stream",
     "text": [
      "C:\\Anaconda3\\lib\\site-packages\\sqlalchemy\\sql\\base.py:299: SAWarning: Can't validate argument 'replace_string'; can't locate any SQLAlchemy dialect named 'replace'\n",
      "  util.warn(\n"
     ]
    },
    {
     "name": "stdout",
     "output_type": "stream",
     "text": [
      "saving daily data for spotID = l_dce_warrant with number of data pts = 12\n"
     ]
    },
    {
     "name": "stderr",
     "output_type": "stream",
     "text": [
      "C:\\Anaconda3\\lib\\site-packages\\sqlalchemy\\sql\\base.py:299: SAWarning: Can't validate argument 'replace_string'; can't locate any SQLAlchemy dialect named 'replace'\n",
      "  util.warn(\n"
     ]
    },
    {
     "name": "stdout",
     "output_type": "stream",
     "text": [
      "saving daily data for spotID = p_port_inv with number of data pts = 2\n"
     ]
    },
    {
     "name": "stderr",
     "output_type": "stream",
     "text": [
      "C:\\Anaconda3\\lib\\site-packages\\sqlalchemy\\sql\\base.py:299: SAWarning: Can't validate argument 'replace_string'; can't locate any SQLAlchemy dialect named 'replace'\n",
      "  util.warn(\n"
     ]
    },
    {
     "name": "stdout",
     "output_type": "stream",
     "text": [
      "saving daily data for spotID = p_dce_warrant with number of data pts = 12\n"
     ]
    },
    {
     "name": "stderr",
     "output_type": "stream",
     "text": [
      "C:\\Anaconda3\\lib\\site-packages\\sqlalchemy\\sql\\base.py:299: SAWarning: Can't validate argument 'replace_string'; can't locate any SQLAlchemy dialect named 'replace'\n",
      "  util.warn(\n"
     ]
    },
    {
     "name": "stdout",
     "output_type": "stream",
     "text": [
      "saving daily data for spotID = pp_dce_warrant with number of data pts = 12\n"
     ]
    },
    {
     "name": "stderr",
     "output_type": "stream",
     "text": [
      "C:\\Anaconda3\\lib\\site-packages\\sqlalchemy\\sql\\base.py:299: SAWarning: Can't validate argument 'replace_string'; can't locate any SQLAlchemy dialect named 'replace'\n",
      "  util.warn(\n"
     ]
    },
    {
     "name": "stdout",
     "output_type": "stream",
     "text": [
      "saving daily data for spotID = bu_shfe_inv with number of data pts = 12\n"
     ]
    },
    {
     "name": "stderr",
     "output_type": "stream",
     "text": [
      "C:\\Anaconda3\\lib\\site-packages\\sqlalchemy\\sql\\base.py:299: SAWarning: Can't validate argument 'replace_string'; can't locate any SQLAlchemy dialect named 'replace'\n",
      "  util.warn(\n"
     ]
    },
    {
     "name": "stdout",
     "output_type": "stream",
     "text": [
      "saving daily data for spotID = bu_producer_inv with number of data pts = 3\n"
     ]
    },
    {
     "name": "stderr",
     "output_type": "stream",
     "text": [
      "C:\\Anaconda3\\lib\\site-packages\\sqlalchemy\\sql\\base.py:299: SAWarning: Can't validate argument 'replace_string'; can't locate any SQLAlchemy dialect named 'replace'\n",
      "  util.warn(\n"
     ]
    },
    {
     "name": "stdout",
     "output_type": "stream",
     "text": [
      "saving daily data for spotID = bu_social_inv with number of data pts = 3\n"
     ]
    },
    {
     "name": "stderr",
     "output_type": "stream",
     "text": [
      "C:\\Anaconda3\\lib\\site-packages\\sqlalchemy\\sql\\base.py:299: SAWarning: Can't validate argument 'replace_string'; can't locate any SQLAlchemy dialect named 'replace'\n",
      "  util.warn(\n"
     ]
    },
    {
     "name": "stdout",
     "output_type": "stream",
     "text": [
      "saving daily data for spotID = eg_zj_js_port_inv with number of data pts = 5\n"
     ]
    },
    {
     "name": "stderr",
     "output_type": "stream",
     "text": [
      "C:\\Anaconda3\\lib\\site-packages\\sqlalchemy\\sql\\base.py:299: SAWarning: Can't validate argument 'replace_string'; can't locate any SQLAlchemy dialect named 'replace'\n",
      "  util.warn(\n"
     ]
    },
    {
     "name": "stdout",
     "output_type": "stream",
     "text": [
      "saving daily data for spotID = sp_shfe_inv with number of data pts = 12\n"
     ]
    },
    {
     "name": "stderr",
     "output_type": "stream",
     "text": [
      "C:\\Anaconda3\\lib\\site-packages\\sqlalchemy\\sql\\base.py:299: SAWarning: Can't validate argument 'replace_string'; can't locate any SQLAlchemy dialect named 'replace'\n",
      "  util.warn(\n"
     ]
    },
    {
     "name": "stdout",
     "output_type": "stream",
     "text": [
      "saving daily data for spotID = TA_czce_warrant with number of data pts = 12\n"
     ]
    },
    {
     "name": "stderr",
     "output_type": "stream",
     "text": [
      "C:\\Anaconda3\\lib\\site-packages\\sqlalchemy\\sql\\base.py:299: SAWarning: Can't validate argument 'replace_string'; can't locate any SQLAlchemy dialect named 'replace'\n",
      "  util.warn(\n"
     ]
    },
    {
     "name": "stdout",
     "output_type": "stream",
     "text": [
      "saving daily data for spotID = TA_prediction_inv with number of data pts = 12\n"
     ]
    },
    {
     "name": "stderr",
     "output_type": "stream",
     "text": [
      "C:\\Anaconda3\\lib\\site-packages\\sqlalchemy\\sql\\base.py:299: SAWarning: Can't validate argument 'replace_string'; can't locate any SQLAlchemy dialect named 'replace'\n",
      "  util.warn(\n"
     ]
    },
    {
     "name": "stdout",
     "output_type": "stream",
     "text": [
      "saving daily data for spotID = SA_czce_warrant with number of data pts = 12\n"
     ]
    },
    {
     "name": "stderr",
     "output_type": "stream",
     "text": [
      "C:\\Anaconda3\\lib\\site-packages\\sqlalchemy\\sql\\base.py:299: SAWarning: Can't validate argument 'replace_string'; can't locate any SQLAlchemy dialect named 'replace'\n",
      "  util.warn(\n"
     ]
    },
    {
     "name": "stdout",
     "output_type": "stream",
     "text": [
      "saving daily data for spotID = SA_prediction_inv with number of data pts = 12\n"
     ]
    },
    {
     "name": "stderr",
     "output_type": "stream",
     "text": [
      "C:\\Anaconda3\\lib\\site-packages\\sqlalchemy\\sql\\base.py:299: SAWarning: Can't validate argument 'replace_string'; can't locate any SQLAlchemy dialect named 'replace'\n",
      "  util.warn(\n"
     ]
    },
    {
     "name": "stdout",
     "output_type": "stream",
     "text": [
      "saving daily data for spotID = SR_czce_warrant with number of data pts = 12\n"
     ]
    },
    {
     "name": "stderr",
     "output_type": "stream",
     "text": [
      "C:\\Anaconda3\\lib\\site-packages\\sqlalchemy\\sql\\base.py:299: SAWarning: Can't validate argument 'replace_string'; can't locate any SQLAlchemy dialect named 'replace'\n",
      "  util.warn(\n"
     ]
    },
    {
     "name": "stdout",
     "output_type": "stream",
     "text": [
      "saving daily data for spotID = SR_prediction_inv with number of data pts = 12\n"
     ]
    },
    {
     "name": "stderr",
     "output_type": "stream",
     "text": [
      "C:\\Anaconda3\\lib\\site-packages\\sqlalchemy\\sql\\base.py:299: SAWarning: Can't validate argument 'replace_string'; can't locate any SQLAlchemy dialect named 'replace'\n",
      "  util.warn(\n"
     ]
    },
    {
     "name": "stdout",
     "output_type": "stream",
     "text": [
      "saving daily data for spotID = CY_czce_warrant with number of data pts = 12\n"
     ]
    },
    {
     "name": "stderr",
     "output_type": "stream",
     "text": [
      "C:\\Anaconda3\\lib\\site-packages\\sqlalchemy\\sql\\base.py:299: SAWarning: Can't validate argument 'replace_string'; can't locate any SQLAlchemy dialect named 'replace'\n",
      "  util.warn(\n"
     ]
    },
    {
     "name": "stdout",
     "output_type": "stream",
     "text": [
      "saving daily data for spotID = y_commercial_inv with number of data pts = 2\n"
     ]
    },
    {
     "name": "stderr",
     "output_type": "stream",
     "text": [
      "C:\\Anaconda3\\lib\\site-packages\\sqlalchemy\\sql\\base.py:299: SAWarning: Can't validate argument 'replace_string'; can't locate any SQLAlchemy dialect named 'replace'\n",
      "  util.warn(\n"
     ]
    },
    {
     "name": "stdout",
     "output_type": "stream",
     "text": [
      "saving daily data for spotID = CF_commercial_inv with number of data pts = 1\n"
     ]
    },
    {
     "name": "stderr",
     "output_type": "stream",
     "text": [
      "C:\\Anaconda3\\lib\\site-packages\\sqlalchemy\\sql\\base.py:299: SAWarning: Can't validate argument 'replace_string'; can't locate any SQLAlchemy dialect named 'replace'\n",
      "  util.warn(\n"
     ]
    },
    {
     "name": "stdout",
     "output_type": "stream",
     "text": [
      "saving daily data for spotID = CF_industrial_inv with number of data pts = 1\n"
     ]
    },
    {
     "name": "stderr",
     "output_type": "stream",
     "text": [
      "C:\\Anaconda3\\lib\\site-packages\\sqlalchemy\\sql\\base.py:299: SAWarning: Can't validate argument 'replace_string'; can't locate any SQLAlchemy dialect named 'replace'\n",
      "  util.warn(\n"
     ]
    },
    {
     "name": "stdout",
     "output_type": "stream",
     "text": [
      "saving daily data for spotID = UR_yantai_mid_inv with number of data pts = 3\n"
     ]
    },
    {
     "name": "stderr",
     "output_type": "stream",
     "text": [
      "C:\\Anaconda3\\lib\\site-packages\\sqlalchemy\\sql\\base.py:299: SAWarning: Can't validate argument 'replace_string'; can't locate any SQLAlchemy dialect named 'replace'\n",
      "  util.warn(\n"
     ]
    },
    {
     "name": "stdout",
     "output_type": "stream",
     "text": [
      "saving daily data for spotID = UR_qingdao_mid_inv with number of data pts = 1\n"
     ]
    },
    {
     "name": "stderr",
     "output_type": "stream",
     "text": [
      "C:\\Anaconda3\\lib\\site-packages\\sqlalchemy\\sql\\base.py:299: SAWarning: Can't validate argument 'replace_string'; can't locate any SQLAlchemy dialect named 'replace'\n",
      "  util.warn(\n"
     ]
    },
    {
     "name": "stdout",
     "output_type": "stream",
     "text": [
      "saving daily data for spotID = UR_rizhao_mid_inv with number of data pts = 3\n"
     ]
    },
    {
     "name": "stderr",
     "output_type": "stream",
     "text": [
      "C:\\Anaconda3\\lib\\site-packages\\sqlalchemy\\sql\\base.py:299: SAWarning: Can't validate argument 'replace_string'; can't locate any SQLAlchemy dialect named 'replace'\n",
      "  util.warn(\n"
     ]
    },
    {
     "name": "stdout",
     "output_type": "stream",
     "text": [
      "saving daily data for spotID = UR_jinzhou_mid_inv with number of data pts = 3\n"
     ]
    },
    {
     "name": "stderr",
     "output_type": "stream",
     "text": [
      "C:\\Anaconda3\\lib\\site-packages\\sqlalchemy\\sql\\base.py:299: SAWarning: Can't validate argument 'replace_string'; can't locate any SQLAlchemy dialect named 'replace'\n",
      "  util.warn(\n"
     ]
    },
    {
     "name": "stdout",
     "output_type": "stream",
     "text": [
      "saving daily data for spotID = UR_qinhuangdao_mid_inv with number of data pts = 3\n"
     ]
    },
    {
     "name": "stderr",
     "output_type": "stream",
     "text": [
      "C:\\Anaconda3\\lib\\site-packages\\sqlalchemy\\sql\\base.py:299: SAWarning: Can't validate argument 'replace_string'; can't locate any SQLAlchemy dialect named 'replace'\n",
      "  util.warn(\n"
     ]
    },
    {
     "name": "stdout",
     "output_type": "stream",
     "text": [
      "saving daily data for spotID = UR_tianjin_mid_inv with number of data pts = 3\n"
     ]
    },
    {
     "name": "stderr",
     "output_type": "stream",
     "text": [
      "C:\\Anaconda3\\lib\\site-packages\\sqlalchemy\\sql\\base.py:299: SAWarning: Can't validate argument 'replace_string'; can't locate any SQLAlchemy dialect named 'replace'\n",
      "  util.warn(\n"
     ]
    },
    {
     "name": "stdout",
     "output_type": "stream",
     "text": [
      "saving daily data for spotID = UR_yantai_small_inv with number of data pts = 3\n"
     ]
    },
    {
     "name": "stderr",
     "output_type": "stream",
     "text": [
      "C:\\Anaconda3\\lib\\site-packages\\sqlalchemy\\sql\\base.py:299: SAWarning: Can't validate argument 'replace_string'; can't locate any SQLAlchemy dialect named 'replace'\n",
      "  util.warn(\n"
     ]
    },
    {
     "name": "stdout",
     "output_type": "stream",
     "text": [
      "saving daily data for spotID = UR_qingdao_small_inv with number of data pts = 1\n"
     ]
    },
    {
     "name": "stderr",
     "output_type": "stream",
     "text": [
      "C:\\Anaconda3\\lib\\site-packages\\sqlalchemy\\sql\\base.py:299: SAWarning: Can't validate argument 'replace_string'; can't locate any SQLAlchemy dialect named 'replace'\n",
      "  util.warn(\n"
     ]
    },
    {
     "name": "stdout",
     "output_type": "stream",
     "text": [
      "saving daily data for spotID = UR_rizhao_small_inv with number of data pts = 3\n"
     ]
    },
    {
     "name": "stderr",
     "output_type": "stream",
     "text": [
      "C:\\Anaconda3\\lib\\site-packages\\sqlalchemy\\sql\\base.py:299: SAWarning: Can't validate argument 'replace_string'; can't locate any SQLAlchemy dialect named 'replace'\n",
      "  util.warn(\n"
     ]
    },
    {
     "name": "stdout",
     "output_type": "stream",
     "text": [
      "saving daily data for spotID = UR_jinzhou_small_inv with number of data pts = 3\n"
     ]
    },
    {
     "name": "stderr",
     "output_type": "stream",
     "text": [
      "C:\\Anaconda3\\lib\\site-packages\\sqlalchemy\\sql\\base.py:299: SAWarning: Can't validate argument 'replace_string'; can't locate any SQLAlchemy dialect named 'replace'\n",
      "  util.warn(\n"
     ]
    },
    {
     "name": "stdout",
     "output_type": "stream",
     "text": [
      "saving daily data for spotID = UR_qinhuangdao_small_inv with number of data pts = 3\n"
     ]
    },
    {
     "name": "stderr",
     "output_type": "stream",
     "text": [
      "C:\\Anaconda3\\lib\\site-packages\\sqlalchemy\\sql\\base.py:299: SAWarning: Can't validate argument 'replace_string'; can't locate any SQLAlchemy dialect named 'replace'\n",
      "  util.warn(\n"
     ]
    },
    {
     "name": "stdout",
     "output_type": "stream",
     "text": [
      "saving daily data for spotID = UR_tianjin_small_inv with number of data pts = 3\n"
     ]
    },
    {
     "name": "stderr",
     "output_type": "stream",
     "text": [
      "C:\\Anaconda3\\lib\\site-packages\\sqlalchemy\\sql\\base.py:299: SAWarning: Can't validate argument 'replace_string'; can't locate any SQLAlchemy dialect named 'replace'\n",
      "  util.warn(\n"
     ]
    },
    {
     "name": "stdout",
     "output_type": "stream",
     "text": [
      "saving daily data for spotID = eb_east_inv with number of data pts = 3\n"
     ]
    },
    {
     "name": "stderr",
     "output_type": "stream",
     "text": [
      "C:\\Anaconda3\\lib\\site-packages\\sqlalchemy\\sql\\base.py:299: SAWarning: Can't validate argument 'replace_string'; can't locate any SQLAlchemy dialect named 'replace'\n",
      "  util.warn(\n"
     ]
    },
    {
     "name": "stdout",
     "output_type": "stream",
     "text": [
      "saving daily data for spotID = eb_dce_warrant with number of data pts = 1\n"
     ]
    },
    {
     "name": "stderr",
     "output_type": "stream",
     "text": [
      "C:\\Anaconda3\\lib\\site-packages\\sqlalchemy\\sql\\base.py:299: SAWarning: Can't validate argument 'replace_string'; can't locate any SQLAlchemy dialect named 'replace'\n",
      "  util.warn(\n"
     ]
    },
    {
     "name": "stdout",
     "output_type": "stream",
     "text": [
      "saving data for invID = cu_lme_inv with number of data pts = 14\n"
     ]
    },
    {
     "name": "stderr",
     "output_type": "stream",
     "text": [
      "C:\\Anaconda3\\lib\\site-packages\\sqlalchemy\\sql\\base.py:299: SAWarning: Can't validate argument 'replace_string'; can't locate any SQLAlchemy dialect named 'replace'\n",
      "  util.warn(\n"
     ]
    },
    {
     "name": "stdout",
     "output_type": "stream",
     "text": [
      "saving data for invID = cu_comex_inv with number of data pts = 14\n"
     ]
    },
    {
     "name": "stderr",
     "output_type": "stream",
     "text": [
      "C:\\Anaconda3\\lib\\site-packages\\sqlalchemy\\sql\\base.py:299: SAWarning: Can't validate argument 'replace_string'; can't locate any SQLAlchemy dialect named 'replace'\n",
      "  util.warn(\n"
     ]
    },
    {
     "name": "stdout",
     "output_type": "stream",
     "text": [
      "saving data for invID = cu_shfe_inv with number of data pts = 12\n"
     ]
    },
    {
     "name": "stderr",
     "output_type": "stream",
     "text": [
      "C:\\Anaconda3\\lib\\site-packages\\sqlalchemy\\sql\\base.py:299: SAWarning: Can't validate argument 'replace_string'; can't locate any SQLAlchemy dialect named 'replace'\n",
      "  util.warn(\n"
     ]
    },
    {
     "name": "stdout",
     "output_type": "stream",
     "text": [
      "saving data for invID = al_lme_inv with number of data pts = 14\n"
     ]
    },
    {
     "name": "stderr",
     "output_type": "stream",
     "text": [
      "C:\\Anaconda3\\lib\\site-packages\\sqlalchemy\\sql\\base.py:299: SAWarning: Can't validate argument 'replace_string'; can't locate any SQLAlchemy dialect named 'replace'\n",
      "  util.warn(\n"
     ]
    },
    {
     "name": "stdout",
     "output_type": "stream",
     "text": [
      "saving data for invID = al_shfe_inv with number of data pts = 12\n"
     ]
    },
    {
     "name": "stderr",
     "output_type": "stream",
     "text": [
      "C:\\Anaconda3\\lib\\site-packages\\sqlalchemy\\sql\\base.py:299: SAWarning: Can't validate argument 'replace_string'; can't locate any SQLAlchemy dialect named 'replace'\n",
      "  util.warn(\n"
     ]
    },
    {
     "name": "stdout",
     "output_type": "stream",
     "text": [
      "saving data for invID = zn_lme_inv with number of data pts = 14\n"
     ]
    },
    {
     "name": "stderr",
     "output_type": "stream",
     "text": [
      "C:\\Anaconda3\\lib\\site-packages\\sqlalchemy\\sql\\base.py:299: SAWarning: Can't validate argument 'replace_string'; can't locate any SQLAlchemy dialect named 'replace'\n",
      "  util.warn(\n"
     ]
    },
    {
     "name": "stdout",
     "output_type": "stream",
     "text": [
      "saving data for invID = zn_shfe_inv with number of data pts = 12\n"
     ]
    },
    {
     "name": "stderr",
     "output_type": "stream",
     "text": [
      "C:\\Anaconda3\\lib\\site-packages\\sqlalchemy\\sql\\base.py:299: SAWarning: Can't validate argument 'replace_string'; can't locate any SQLAlchemy dialect named 'replace'\n",
      "  util.warn(\n"
     ]
    },
    {
     "name": "stdout",
     "output_type": "stream",
     "text": [
      "saving data for invID = pb_lme_inv with number of data pts = 14\n"
     ]
    },
    {
     "name": "stderr",
     "output_type": "stream",
     "text": [
      "C:\\Anaconda3\\lib\\site-packages\\sqlalchemy\\sql\\base.py:299: SAWarning: Can't validate argument 'replace_string'; can't locate any SQLAlchemy dialect named 'replace'\n",
      "  util.warn(\n"
     ]
    },
    {
     "name": "stdout",
     "output_type": "stream",
     "text": [
      "saving data for invID = pb_shfe_inv with number of data pts = 12\n"
     ]
    },
    {
     "name": "stderr",
     "output_type": "stream",
     "text": [
      "C:\\Anaconda3\\lib\\site-packages\\sqlalchemy\\sql\\base.py:299: SAWarning: Can't validate argument 'replace_string'; can't locate any SQLAlchemy dialect named 'replace'\n",
      "  util.warn(\n"
     ]
    },
    {
     "name": "stdout",
     "output_type": "stream",
     "text": [
      "saving data for invID = ni_shfe_inv with number of data pts = 12\n"
     ]
    },
    {
     "name": "stderr",
     "output_type": "stream",
     "text": [
      "C:\\Anaconda3\\lib\\site-packages\\sqlalchemy\\sql\\base.py:299: SAWarning: Can't validate argument 'replace_string'; can't locate any SQLAlchemy dialect named 'replace'\n",
      "  util.warn(\n"
     ]
    },
    {
     "name": "stdout",
     "output_type": "stream",
     "text": [
      "saving data for invID = ni_lme_inv with number of data pts = 14\n"
     ]
    },
    {
     "name": "stderr",
     "output_type": "stream",
     "text": [
      "C:\\Anaconda3\\lib\\site-packages\\sqlalchemy\\sql\\base.py:299: SAWarning: Can't validate argument 'replace_string'; can't locate any SQLAlchemy dialect named 'replace'\n",
      "  util.warn(\n"
     ]
    },
    {
     "name": "stdout",
     "output_type": "stream",
     "text": [
      "saving data for invID = sn_shfe_inv with number of data pts = 12\n"
     ]
    },
    {
     "name": "stderr",
     "output_type": "stream",
     "text": [
      "C:\\Anaconda3\\lib\\site-packages\\sqlalchemy\\sql\\base.py:299: SAWarning: Can't validate argument 'replace_string'; can't locate any SQLAlchemy dialect named 'replace'\n",
      "  util.warn(\n"
     ]
    },
    {
     "name": "stdout",
     "output_type": "stream",
     "text": [
      "saving data for invID = sn_lme_inv with number of data pts = 14\n"
     ]
    },
    {
     "name": "stderr",
     "output_type": "stream",
     "text": [
      "C:\\Anaconda3\\lib\\site-packages\\sqlalchemy\\sql\\base.py:299: SAWarning: Can't validate argument 'replace_string'; can't locate any SQLAlchemy dialect named 'replace'\n",
      "  util.warn(\n"
     ]
    },
    {
     "name": "stdout",
     "output_type": "stream",
     "text": [
      "saving data for invID = ru_shfe_inv with number of data pts = 12\n"
     ]
    },
    {
     "name": "stderr",
     "output_type": "stream",
     "text": [
      "C:\\Anaconda3\\lib\\site-packages\\sqlalchemy\\sql\\base.py:299: SAWarning: Can't validate argument 'replace_string'; can't locate any SQLAlchemy dialect named 'replace'\n",
      "  util.warn(\n"
     ]
    },
    {
     "name": "stdout",
     "output_type": "stream",
     "text": [
      "saving data for invID = ZC_power_plant_inv with number of data pts = 1\n"
     ]
    },
    {
     "name": "stderr",
     "output_type": "stream",
     "text": [
      "C:\\Anaconda3\\lib\\site-packages\\sqlalchemy\\sql\\base.py:299: SAWarning: Can't validate argument 'replace_string'; can't locate any SQLAlchemy dialect named 'replace'\n",
      "  util.warn(\n"
     ]
    },
    {
     "name": "stdout",
     "output_type": "stream",
     "text": [
      "saving data for invID = ZC_6_power_plant_usage with number of data pts = 1\n"
     ]
    },
    {
     "name": "stderr",
     "output_type": "stream",
     "text": [
      "C:\\Anaconda3\\lib\\site-packages\\sqlalchemy\\sql\\base.py:299: SAWarning: Can't validate argument 'replace_string'; can't locate any SQLAlchemy dialect named 'replace'\n",
      "  util.warn(\n"
     ]
    },
    {
     "name": "stdout",
     "output_type": "stream",
     "text": [
      "saving data for invID = FG_production_line_inv with number of data pts = 3\n"
     ]
    },
    {
     "name": "stderr",
     "output_type": "stream",
     "text": [
      "C:\\Anaconda3\\lib\\site-packages\\sqlalchemy\\sql\\base.py:299: SAWarning: Can't validate argument 'replace_string'; can't locate any SQLAlchemy dialect named 'replace'\n",
      "  util.warn(\n"
     ]
    },
    {
     "name": "stdout",
     "output_type": "stream",
     "text": [
      "saving data for invID = rb_shanghai_inv with number of data pts = 1\n"
     ]
    },
    {
     "name": "stderr",
     "output_type": "stream",
     "text": [
      "C:\\Anaconda3\\lib\\site-packages\\sqlalchemy\\sql\\base.py:299: SAWarning: Can't validate argument 'replace_string'; can't locate any SQLAlchemy dialect named 'replace'\n",
      "  util.warn(\n"
     ]
    },
    {
     "name": "stdout",
     "output_type": "stream",
     "text": [
      "saving data for invID = rb_hangzhou_inv with number of data pts = 3\n"
     ]
    },
    {
     "name": "stderr",
     "output_type": "stream",
     "text": [
      "C:\\Anaconda3\\lib\\site-packages\\sqlalchemy\\sql\\base.py:299: SAWarning: Can't validate argument 'replace_string'; can't locate any SQLAlchemy dialect named 'replace'\n",
      "  util.warn(\n"
     ]
    },
    {
     "name": "stdout",
     "output_type": "stream",
     "text": [
      "saving data for invID = rb_hefei_inv with number of data pts = 1\n"
     ]
    },
    {
     "name": "stderr",
     "output_type": "stream",
     "text": [
      "C:\\Anaconda3\\lib\\site-packages\\sqlalchemy\\sql\\base.py:299: SAWarning: Can't validate argument 'replace_string'; can't locate any SQLAlchemy dialect named 'replace'\n",
      "  util.warn(\n"
     ]
    },
    {
     "name": "stdout",
     "output_type": "stream",
     "text": [
      "saving data for invID = rb_nanjing_inv with number of data pts = 1\n"
     ]
    },
    {
     "name": "stderr",
     "output_type": "stream",
     "text": [
      "C:\\Anaconda3\\lib\\site-packages\\sqlalchemy\\sql\\base.py:299: SAWarning: Can't validate argument 'replace_string'; can't locate any SQLAlchemy dialect named 'replace'\n",
      "  util.warn(\n"
     ]
    },
    {
     "name": "stdout",
     "output_type": "stream",
     "text": [
      "saving data for invID = rb_fuzhou_inv with number of data pts = 1\n"
     ]
    },
    {
     "name": "stderr",
     "output_type": "stream",
     "text": [
      "C:\\Anaconda3\\lib\\site-packages\\sqlalchemy\\sql\\base.py:299: SAWarning: Can't validate argument 'replace_string'; can't locate any SQLAlchemy dialect named 'replace'\n",
      "  util.warn(\n"
     ]
    },
    {
     "name": "stdout",
     "output_type": "stream",
     "text": [
      "saving data for invID = rb_nanchang_inv with number of data pts = 3\n"
     ]
    },
    {
     "name": "stderr",
     "output_type": "stream",
     "text": [
      "C:\\Anaconda3\\lib\\site-packages\\sqlalchemy\\sql\\base.py:299: SAWarning: Can't validate argument 'replace_string'; can't locate any SQLAlchemy dialect named 'replace'\n",
      "  util.warn(\n"
     ]
    },
    {
     "name": "stdout",
     "output_type": "stream",
     "text": [
      "saving data for invID = rb_changsha_inv with number of data pts = 3\n"
     ]
    },
    {
     "name": "stderr",
     "output_type": "stream",
     "text": [
      "C:\\Anaconda3\\lib\\site-packages\\sqlalchemy\\sql\\base.py:299: SAWarning: Can't validate argument 'replace_string'; can't locate any SQLAlchemy dialect named 'replace'\n",
      "  util.warn(\n"
     ]
    },
    {
     "name": "stdout",
     "output_type": "stream",
     "text": [
      "saving data for invID = rb_wuhan_inv with number of data pts = 3\n"
     ]
    },
    {
     "name": "stderr",
     "output_type": "stream",
     "text": [
      "C:\\Anaconda3\\lib\\site-packages\\sqlalchemy\\sql\\base.py:299: SAWarning: Can't validate argument 'replace_string'; can't locate any SQLAlchemy dialect named 'replace'\n",
      "  util.warn(\n"
     ]
    },
    {
     "name": "stdout",
     "output_type": "stream",
     "text": [
      "saving data for invID = rb_nanning_inv with number of data pts = 1\n"
     ]
    },
    {
     "name": "stderr",
     "output_type": "stream",
     "text": [
      "C:\\Anaconda3\\lib\\site-packages\\sqlalchemy\\sql\\base.py:299: SAWarning: Can't validate argument 'replace_string'; can't locate any SQLAlchemy dialect named 'replace'\n",
      "  util.warn(\n"
     ]
    },
    {
     "name": "stdout",
     "output_type": "stream",
     "text": [
      "saving data for invID = rb_guangzhou_inv with number of data pts = 3\n"
     ]
    },
    {
     "name": "stderr",
     "output_type": "stream",
     "text": [
      "C:\\Anaconda3\\lib\\site-packages\\sqlalchemy\\sql\\base.py:299: SAWarning: Can't validate argument 'replace_string'; can't locate any SQLAlchemy dialect named 'replace'\n",
      "  util.warn(\n"
     ]
    },
    {
     "name": "stdout",
     "output_type": "stream",
     "text": [
      "saving data for invID = rb_kuming_inv with number of data pts = 3\n"
     ]
    },
    {
     "name": "stderr",
     "output_type": "stream",
     "text": [
      "C:\\Anaconda3\\lib\\site-packages\\sqlalchemy\\sql\\base.py:299: SAWarning: Can't validate argument 'replace_string'; can't locate any SQLAlchemy dialect named 'replace'\n",
      "  util.warn(\n"
     ]
    },
    {
     "name": "stdout",
     "output_type": "stream",
     "text": [
      "saving data for invID = rb_chongqing_inv with number of data pts = 3\n"
     ]
    },
    {
     "name": "stderr",
     "output_type": "stream",
     "text": [
      "C:\\Anaconda3\\lib\\site-packages\\sqlalchemy\\sql\\base.py:299: SAWarning: Can't validate argument 'replace_string'; can't locate any SQLAlchemy dialect named 'replace'\n",
      "  util.warn(\n"
     ]
    },
    {
     "name": "stdout",
     "output_type": "stream",
     "text": [
      "saving data for invID = rb_beijing_inv with number of data pts = 3\n"
     ]
    },
    {
     "name": "stderr",
     "output_type": "stream",
     "text": [
      "C:\\Anaconda3\\lib\\site-packages\\sqlalchemy\\sql\\base.py:299: SAWarning: Can't validate argument 'replace_string'; can't locate any SQLAlchemy dialect named 'replace'\n",
      "  util.warn(\n"
     ]
    },
    {
     "name": "stdout",
     "output_type": "stream",
     "text": [
      "saving data for invID = rb_tianjin_inv with number of data pts = 3\n"
     ]
    },
    {
     "name": "stderr",
     "output_type": "stream",
     "text": [
      "C:\\Anaconda3\\lib\\site-packages\\sqlalchemy\\sql\\base.py:299: SAWarning: Can't validate argument 'replace_string'; can't locate any SQLAlchemy dialect named 'replace'\n",
      "  util.warn(\n"
     ]
    },
    {
     "name": "stdout",
     "output_type": "stream",
     "text": [
      "saving data for invID = rb_taiyuan_inv with number of data pts = 1\n"
     ]
    },
    {
     "name": "stderr",
     "output_type": "stream",
     "text": [
      "C:\\Anaconda3\\lib\\site-packages\\sqlalchemy\\sql\\base.py:299: SAWarning: Can't validate argument 'replace_string'; can't locate any SQLAlchemy dialect named 'replace'\n",
      "  util.warn(\n"
     ]
    },
    {
     "name": "stdout",
     "output_type": "stream",
     "text": [
      "saving data for invID = rb_lanzhou_inv with number of data pts = 1\n"
     ]
    },
    {
     "name": "stderr",
     "output_type": "stream",
     "text": [
      "C:\\Anaconda3\\lib\\site-packages\\sqlalchemy\\sql\\base.py:299: SAWarning: Can't validate argument 'replace_string'; can't locate any SQLAlchemy dialect named 'replace'\n",
      "  util.warn(\n"
     ]
    },
    {
     "name": "stdout",
     "output_type": "stream",
     "text": [
      "saving data for invID = rb_xian_inv with number of data pts = 3\n"
     ]
    },
    {
     "name": "stderr",
     "output_type": "stream",
     "text": [
      "C:\\Anaconda3\\lib\\site-packages\\sqlalchemy\\sql\\base.py:299: SAWarning: Can't validate argument 'replace_string'; can't locate any SQLAlchemy dialect named 'replace'\n",
      "  util.warn(\n"
     ]
    },
    {
     "name": "stdout",
     "output_type": "stream",
     "text": [
      "saving data for invID = rb_harbin_inv with number of data pts = 3\n"
     ]
    },
    {
     "name": "stderr",
     "output_type": "stream",
     "text": [
      "C:\\Anaconda3\\lib\\site-packages\\sqlalchemy\\sql\\base.py:299: SAWarning: Can't validate argument 'replace_string'; can't locate any SQLAlchemy dialect named 'replace'\n",
      "  util.warn(\n"
     ]
    },
    {
     "name": "stdout",
     "output_type": "stream",
     "text": [
      "saving data for invID = rb_changchun_inv with number of data pts = 1\n"
     ]
    },
    {
     "name": "stderr",
     "output_type": "stream",
     "text": [
      "C:\\Anaconda3\\lib\\site-packages\\sqlalchemy\\sql\\base.py:299: SAWarning: Can't validate argument 'replace_string'; can't locate any SQLAlchemy dialect named 'replace'\n",
      "  util.warn(\n"
     ]
    },
    {
     "name": "stdout",
     "output_type": "stream",
     "text": [
      "saving data for invID = rb_jincheng_inv with number of data pts = 1\n"
     ]
    },
    {
     "name": "stderr",
     "output_type": "stream",
     "text": [
      "C:\\Anaconda3\\lib\\site-packages\\sqlalchemy\\sql\\base.py:299: SAWarning: Can't validate argument 'replace_string'; can't locate any SQLAlchemy dialect named 'replace'\n",
      "  util.warn(\n"
     ]
    },
    {
     "name": "stdout",
     "output_type": "stream",
     "text": [
      "saving data for invID = rb_yuncheng_inv with number of data pts = 1\n"
     ]
    },
    {
     "name": "stderr",
     "output_type": "stream",
     "text": [
      "C:\\Anaconda3\\lib\\site-packages\\sqlalchemy\\sql\\base.py:299: SAWarning: Can't validate argument 'replace_string'; can't locate any SQLAlchemy dialect named 'replace'\n",
      "  util.warn(\n"
     ]
    },
    {
     "name": "stdout",
     "output_type": "stream",
     "text": [
      "saving data for invID = rb_baotou_inv with number of data pts = 1\n"
     ]
    },
    {
     "name": "stderr",
     "output_type": "stream",
     "text": [
      "C:\\Anaconda3\\lib\\site-packages\\sqlalchemy\\sql\\base.py:299: SAWarning: Can't validate argument 'replace_string'; can't locate any SQLAlchemy dialect named 'replace'\n",
      "  util.warn(\n"
     ]
    },
    {
     "name": "stdout",
     "output_type": "stream",
     "text": [
      "saving data for invID = rb_yinchuan_inv with number of data pts = 3\n"
     ]
    },
    {
     "name": "stderr",
     "output_type": "stream",
     "text": [
      "C:\\Anaconda3\\lib\\site-packages\\sqlalchemy\\sql\\base.py:299: SAWarning: Can't validate argument 'replace_string'; can't locate any SQLAlchemy dialect named 'replace'\n",
      "  util.warn(\n"
     ]
    },
    {
     "name": "stdout",
     "output_type": "stream",
     "text": [
      "saving data for invID = rb_dalian_inv with number of data pts = 1\n"
     ]
    },
    {
     "name": "stderr",
     "output_type": "stream",
     "text": [
      "C:\\Anaconda3\\lib\\site-packages\\sqlalchemy\\sql\\base.py:299: SAWarning: Can't validate argument 'replace_string'; can't locate any SQLAlchemy dialect named 'replace'\n",
      "  util.warn(\n"
     ]
    },
    {
     "name": "stdout",
     "output_type": "stream",
     "text": [
      "saving data for invID = rb_datong_inv with number of data pts = 1\n"
     ]
    },
    {
     "name": "stderr",
     "output_type": "stream",
     "text": [
      "C:\\Anaconda3\\lib\\site-packages\\sqlalchemy\\sql\\base.py:299: SAWarning: Can't validate argument 'replace_string'; can't locate any SQLAlchemy dialect named 'replace'\n",
      "  util.warn(\n"
     ]
    },
    {
     "name": "stdout",
     "output_type": "stream",
     "text": [
      "saving data for invID = rb_linfen_inv with number of data pts = 1\n"
     ]
    },
    {
     "name": "stderr",
     "output_type": "stream",
     "text": [
      "C:\\Anaconda3\\lib\\site-packages\\sqlalchemy\\sql\\base.py:299: SAWarning: Can't validate argument 'replace_string'; can't locate any SQLAlchemy dialect named 'replace'\n",
      "  util.warn(\n"
     ]
    },
    {
     "name": "stdout",
     "output_type": "stream",
     "text": [
      "saving data for invID = rb_chifeng_inv with number of data pts = 1\n"
     ]
    },
    {
     "name": "stderr",
     "output_type": "stream",
     "text": [
      "C:\\Anaconda3\\lib\\site-packages\\sqlalchemy\\sql\\base.py:299: SAWarning: Can't validate argument 'replace_string'; can't locate any SQLAlchemy dialect named 'replace'\n",
      "  util.warn(\n"
     ]
    },
    {
     "name": "stdout",
     "output_type": "stream",
     "text": [
      "saving data for invID = hc_shanghai_inv with number of data pts = 3\n"
     ]
    },
    {
     "name": "stderr",
     "output_type": "stream",
     "text": [
      "C:\\Anaconda3\\lib\\site-packages\\sqlalchemy\\sql\\base.py:299: SAWarning: Can't validate argument 'replace_string'; can't locate any SQLAlchemy dialect named 'replace'\n",
      "  util.warn(\n"
     ]
    },
    {
     "name": "stdout",
     "output_type": "stream",
     "text": [
      "saving data for invID = hc_fuzhou_inv with number of data pts = 3\n"
     ]
    },
    {
     "name": "stderr",
     "output_type": "stream",
     "text": [
      "C:\\Anaconda3\\lib\\site-packages\\sqlalchemy\\sql\\base.py:299: SAWarning: Can't validate argument 'replace_string'; can't locate any SQLAlchemy dialect named 'replace'\n",
      "  util.warn(\n"
     ]
    },
    {
     "name": "stdout",
     "output_type": "stream",
     "text": [
      "saving data for invID = hc_hangzhou_inv with number of data pts = 3\n"
     ]
    },
    {
     "name": "stderr",
     "output_type": "stream",
     "text": [
      "C:\\Anaconda3\\lib\\site-packages\\sqlalchemy\\sql\\base.py:299: SAWarning: Can't validate argument 'replace_string'; can't locate any SQLAlchemy dialect named 'replace'\n",
      "  util.warn(\n"
     ]
    },
    {
     "name": "stdout",
     "output_type": "stream",
     "text": [
      "saving data for invID = hc_hefei_inv with number of data pts = 3\n"
     ]
    },
    {
     "name": "stderr",
     "output_type": "stream",
     "text": [
      "C:\\Anaconda3\\lib\\site-packages\\sqlalchemy\\sql\\base.py:299: SAWarning: Can't validate argument 'replace_string'; can't locate any SQLAlchemy dialect named 'replace'\n",
      "  util.warn(\n"
     ]
    },
    {
     "name": "stdout",
     "output_type": "stream",
     "text": [
      "saving data for invID = hc_nanjing_inv with number of data pts = 1\n"
     ]
    },
    {
     "name": "stderr",
     "output_type": "stream",
     "text": [
      "C:\\Anaconda3\\lib\\site-packages\\sqlalchemy\\sql\\base.py:299: SAWarning: Can't validate argument 'replace_string'; can't locate any SQLAlchemy dialect named 'replace'\n",
      "  util.warn(\n"
     ]
    },
    {
     "name": "stdout",
     "output_type": "stream",
     "text": [
      "saving data for invID = hc_jinan_inv with number of data pts = 1\n"
     ]
    },
    {
     "name": "stderr",
     "output_type": "stream",
     "text": [
      "C:\\Anaconda3\\lib\\site-packages\\sqlalchemy\\sql\\base.py:299: SAWarning: Can't validate argument 'replace_string'; can't locate any SQLAlchemy dialect named 'replace'\n",
      "  util.warn(\n"
     ]
    },
    {
     "name": "stdout",
     "output_type": "stream",
     "text": [
      "saving data for invID = hc_wuxi_inv with number of data pts = 3\n"
     ]
    },
    {
     "name": "stderr",
     "output_type": "stream",
     "text": [
      "C:\\Anaconda3\\lib\\site-packages\\sqlalchemy\\sql\\base.py:299: SAWarning: Can't validate argument 'replace_string'; can't locate any SQLAlchemy dialect named 'replace'\n",
      "  util.warn(\n"
     ]
    },
    {
     "name": "stdout",
     "output_type": "stream",
     "text": [
      "saving data for invID = hc_changshu_inv with number of data pts = 1\n"
     ]
    },
    {
     "name": "stderr",
     "output_type": "stream",
     "text": [
      "C:\\Anaconda3\\lib\\site-packages\\sqlalchemy\\sql\\base.py:299: SAWarning: Can't validate argument 'replace_string'; can't locate any SQLAlchemy dialect named 'replace'\n",
      "  util.warn(\n"
     ]
    },
    {
     "name": "stdout",
     "output_type": "stream",
     "text": [
      "saving data for invID = hc_taicang_inv with number of data pts = 1\n"
     ]
    },
    {
     "name": "stderr",
     "output_type": "stream",
     "text": [
      "C:\\Anaconda3\\lib\\site-packages\\sqlalchemy\\sql\\base.py:299: SAWarning: Can't validate argument 'replace_string'; can't locate any SQLAlchemy dialect named 'replace'\n",
      "  util.warn(\n"
     ]
    },
    {
     "name": "stdout",
     "output_type": "stream",
     "text": [
      "saving data for invID = hc_changsha_inv with number of data pts = 3\n"
     ]
    },
    {
     "name": "stderr",
     "output_type": "stream",
     "text": [
      "C:\\Anaconda3\\lib\\site-packages\\sqlalchemy\\sql\\base.py:299: SAWarning: Can't validate argument 'replace_string'; can't locate any SQLAlchemy dialect named 'replace'\n",
      "  util.warn(\n"
     ]
    },
    {
     "name": "stdout",
     "output_type": "stream",
     "text": [
      "saving data for invID = hc_zhengzhou_inv with number of data pts = 3\n"
     ]
    },
    {
     "name": "stderr",
     "output_type": "stream",
     "text": [
      "C:\\Anaconda3\\lib\\site-packages\\sqlalchemy\\sql\\base.py:299: SAWarning: Can't validate argument 'replace_string'; can't locate any SQLAlchemy dialect named 'replace'\n",
      "  util.warn(\n"
     ]
    },
    {
     "name": "stdout",
     "output_type": "stream",
     "text": [
      "saving data for invID = hc_wuhan_inv with number of data pts = 3\n"
     ]
    },
    {
     "name": "stderr",
     "output_type": "stream",
     "text": [
      "C:\\Anaconda3\\lib\\site-packages\\sqlalchemy\\sql\\base.py:299: SAWarning: Can't validate argument 'replace_string'; can't locate any SQLAlchemy dialect named 'replace'\n",
      "  util.warn(\n"
     ]
    },
    {
     "name": "stdout",
     "output_type": "stream",
     "text": [
      "saving data for invID = hc_lecong_inv with number of data pts = 3\n"
     ]
    },
    {
     "name": "stderr",
     "output_type": "stream",
     "text": [
      "C:\\Anaconda3\\lib\\site-packages\\sqlalchemy\\sql\\base.py:299: SAWarning: Can't validate argument 'replace_string'; can't locate any SQLAlchemy dialect named 'replace'\n",
      "  util.warn(\n"
     ]
    },
    {
     "name": "stdout",
     "output_type": "stream",
     "text": [
      "saving data for invID = hc_chengdu_inv with number of data pts = 3\n"
     ]
    },
    {
     "name": "stderr",
     "output_type": "stream",
     "text": [
      "C:\\Anaconda3\\lib\\site-packages\\sqlalchemy\\sql\\base.py:299: SAWarning: Can't validate argument 'replace_string'; can't locate any SQLAlchemy dialect named 'replace'\n",
      "  util.warn(\n"
     ]
    },
    {
     "name": "stdout",
     "output_type": "stream",
     "text": [
      "saving data for invID = hc_chongqing_inv with number of data pts = 3\n"
     ]
    },
    {
     "name": "stderr",
     "output_type": "stream",
     "text": [
      "C:\\Anaconda3\\lib\\site-packages\\sqlalchemy\\sql\\base.py:299: SAWarning: Can't validate argument 'replace_string'; can't locate any SQLAlchemy dialect named 'replace'\n",
      "  util.warn(\n"
     ]
    },
    {
     "name": "stdout",
     "output_type": "stream",
     "text": [
      "saving data for invID = hc_beijing_inv with number of data pts = 3\n"
     ]
    },
    {
     "name": "stderr",
     "output_type": "stream",
     "text": [
      "C:\\Anaconda3\\lib\\site-packages\\sqlalchemy\\sql\\base.py:299: SAWarning: Can't validate argument 'replace_string'; can't locate any SQLAlchemy dialect named 'replace'\n",
      "  util.warn(\n"
     ]
    },
    {
     "name": "stdout",
     "output_type": "stream",
     "text": [
      "saving data for invID = hc_tianjin_inv with number of data pts = 3\n"
     ]
    },
    {
     "name": "stderr",
     "output_type": "stream",
     "text": [
      "C:\\Anaconda3\\lib\\site-packages\\sqlalchemy\\sql\\base.py:299: SAWarning: Can't validate argument 'replace_string'; can't locate any SQLAlchemy dialect named 'replace'\n",
      "  util.warn(\n"
     ]
    },
    {
     "name": "stdout",
     "output_type": "stream",
     "text": [
      "saving data for invID = hc_lanzhou_inv with number of data pts = 3\n"
     ]
    },
    {
     "name": "stderr",
     "output_type": "stream",
     "text": [
      "C:\\Anaconda3\\lib\\site-packages\\sqlalchemy\\sql\\base.py:299: SAWarning: Can't validate argument 'replace_string'; can't locate any SQLAlchemy dialect named 'replace'\n",
      "  util.warn(\n"
     ]
    },
    {
     "name": "stdout",
     "output_type": "stream",
     "text": [
      "saving data for invID = hc_xian_inv with number of data pts = 3\n"
     ]
    },
    {
     "name": "stderr",
     "output_type": "stream",
     "text": [
      "C:\\Anaconda3\\lib\\site-packages\\sqlalchemy\\sql\\base.py:299: SAWarning: Can't validate argument 'replace_string'; can't locate any SQLAlchemy dialect named 'replace'\n",
      "  util.warn(\n"
     ]
    },
    {
     "name": "stdout",
     "output_type": "stream",
     "text": [
      "saving data for invID = hc_harbin_inv with number of data pts = 3\n"
     ]
    },
    {
     "name": "stderr",
     "output_type": "stream",
     "text": [
      "C:\\Anaconda3\\lib\\site-packages\\sqlalchemy\\sql\\base.py:299: SAWarning: Can't validate argument 'replace_string'; can't locate any SQLAlchemy dialect named 'replace'\n",
      "  util.warn(\n"
     ]
    },
    {
     "name": "stdout",
     "output_type": "stream",
     "text": [
      "saving data for invID = hc_changchun_inv with number of data pts = 1\n"
     ]
    },
    {
     "name": "stderr",
     "output_type": "stream",
     "text": [
      "C:\\Anaconda3\\lib\\site-packages\\sqlalchemy\\sql\\base.py:299: SAWarning: Can't validate argument 'replace_string'; can't locate any SQLAlchemy dialect named 'replace'\n",
      "  util.warn(\n"
     ]
    },
    {
     "name": "stdout",
     "output_type": "stream",
     "text": [
      "saving data for invID = hc_shenyang_inv with number of data pts = 1\n"
     ]
    },
    {
     "name": "stderr",
     "output_type": "stream",
     "text": [
      "C:\\Anaconda3\\lib\\site-packages\\sqlalchemy\\sql\\base.py:299: SAWarning: Can't validate argument 'replace_string'; can't locate any SQLAlchemy dialect named 'replace'\n",
      "  util.warn(\n"
     ]
    },
    {
     "name": "stdout",
     "output_type": "stream",
     "text": [
      "saving data for invID = hc_nanchang_inv with number of data pts = 3\n"
     ]
    },
    {
     "name": "stderr",
     "output_type": "stream",
     "text": [
      "C:\\Anaconda3\\lib\\site-packages\\sqlalchemy\\sql\\base.py:299: SAWarning: Can't validate argument 'replace_string'; can't locate any SQLAlchemy dialect named 'replace'\n",
      "  util.warn(\n"
     ]
    },
    {
     "name": "stdout",
     "output_type": "stream",
     "text": [
      "saving data for invID = hc_kunming_inv with number of data pts = 3\n"
     ]
    },
    {
     "name": "stderr",
     "output_type": "stream",
     "text": [
      "C:\\Anaconda3\\lib\\site-packages\\sqlalchemy\\sql\\base.py:299: SAWarning: Can't validate argument 'replace_string'; can't locate any SQLAlchemy dialect named 'replace'\n",
      "  util.warn(\n"
     ]
    },
    {
     "name": "stdout",
     "output_type": "stream",
     "text": [
      "saving data for invID = hc_shijiazhuang_inv with number of data pts = 1\n"
     ]
    },
    {
     "name": "stderr",
     "output_type": "stream",
     "text": [
      "C:\\Anaconda3\\lib\\site-packages\\sqlalchemy\\sql\\base.py:299: SAWarning: Can't validate argument 'replace_string'; can't locate any SQLAlchemy dialect named 'replace'\n",
      "  util.warn(\n"
     ]
    },
    {
     "name": "stdout",
     "output_type": "stream",
     "text": [
      "saving data for invID = hc_tangshan_inv with number of data pts = 1\n"
     ]
    },
    {
     "name": "stderr",
     "output_type": "stream",
     "text": [
      "C:\\Anaconda3\\lib\\site-packages\\sqlalchemy\\sql\\base.py:299: SAWarning: Can't validate argument 'replace_string'; can't locate any SQLAlchemy dialect named 'replace'\n",
      "  util.warn(\n"
     ]
    },
    {
     "name": "stdout",
     "output_type": "stream",
     "text": [
      "saving data for invID = hc_handan_inv with number of data pts = 1\n"
     ]
    },
    {
     "name": "stderr",
     "output_type": "stream",
     "text": [
      "C:\\Anaconda3\\lib\\site-packages\\sqlalchemy\\sql\\base.py:299: SAWarning: Can't validate argument 'replace_string'; can't locate any SQLAlchemy dialect named 'replace'\n",
      "  util.warn(\n"
     ]
    },
    {
     "name": "stdout",
     "output_type": "stream",
     "text": [
      "saving data for invID = hc_taiyuan_inv with number of data pts = 3\n"
     ]
    },
    {
     "name": "stderr",
     "output_type": "stream",
     "text": [
      "C:\\Anaconda3\\lib\\site-packages\\sqlalchemy\\sql\\base.py:299: SAWarning: Can't validate argument 'replace_string'; can't locate any SQLAlchemy dialect named 'replace'\n",
      "  util.warn(\n"
     ]
    },
    {
     "name": "stdout",
     "output_type": "stream",
     "text": [
      "saving data for invID = hc_baotou_inv with number of data pts = 3\n"
     ]
    },
    {
     "name": "stderr",
     "output_type": "stream",
     "text": [
      "C:\\Anaconda3\\lib\\site-packages\\sqlalchemy\\sql\\base.py:299: SAWarning: Can't validate argument 'replace_string'; can't locate any SQLAlchemy dialect named 'replace'\n",
      "  util.warn(\n"
     ]
    },
    {
     "name": "stdout",
     "output_type": "stream",
     "text": [
      "saving data for invID = hc_urumqi_inv with number of data pts = 3\n"
     ]
    },
    {
     "name": "stderr",
     "output_type": "stream",
     "text": [
      "C:\\Anaconda3\\lib\\site-packages\\sqlalchemy\\sql\\base.py:299: SAWarning: Can't validate argument 'replace_string'; can't locate any SQLAlchemy dialect named 'replace'\n",
      "  util.warn(\n"
     ]
    },
    {
     "name": "stdout",
     "output_type": "stream",
     "text": [
      "saving data for invID = hc_dalian_inv with number of data pts = 1\n"
     ]
    },
    {
     "name": "stderr",
     "output_type": "stream",
     "text": [
      "C:\\Anaconda3\\lib\\site-packages\\sqlalchemy\\sql\\base.py:299: SAWarning: Can't validate argument 'replace_string'; can't locate any SQLAlchemy dialect named 'replace'\n",
      "  util.warn(\n"
     ]
    },
    {
     "name": "stdout",
     "output_type": "stream",
     "text": [
      "saving data for invID = hc_guiyang_inv with number of data pts = 3\n"
     ]
    },
    {
     "name": "stderr",
     "output_type": "stream",
     "text": [
      "C:\\Anaconda3\\lib\\site-packages\\sqlalchemy\\sql\\base.py:299: SAWarning: Can't validate argument 'replace_string'; can't locate any SQLAlchemy dialect named 'replace'\n",
      "  util.warn(\n"
     ]
    },
    {
     "name": "stdout",
     "output_type": "stream",
     "text": [
      "saving data for invID = i_CN_port0_inv with number of data pts = 3\n"
     ]
    },
    {
     "name": "stderr",
     "output_type": "stream",
     "text": [
      "C:\\Anaconda3\\lib\\site-packages\\sqlalchemy\\sql\\base.py:299: SAWarning: Can't validate argument 'replace_string'; can't locate any SQLAlchemy dialect named 'replace'\n",
      "  util.warn(\n"
     ]
    },
    {
     "name": "stdout",
     "output_type": "stream",
     "text": [
      "saving data for invID = i_CN_port1_inv with number of data pts = 3\n"
     ]
    },
    {
     "name": "stderr",
     "output_type": "stream",
     "text": [
      "C:\\Anaconda3\\lib\\site-packages\\sqlalchemy\\sql\\base.py:299: SAWarning: Can't validate argument 'replace_string'; can't locate any SQLAlchemy dialect named 'replace'\n",
      "  util.warn(\n"
     ]
    },
    {
     "name": "stdout",
     "output_type": "stream",
     "text": [
      "saving data for invID = i_CN_41_port_inv with number of data pts = 3\n"
     ]
    },
    {
     "name": "stderr",
     "output_type": "stream",
     "text": [
      "C:\\Anaconda3\\lib\\site-packages\\sqlalchemy\\sql\\base.py:299: SAWarning: Can't validate argument 'replace_string'; can't locate any SQLAlchemy dialect named 'replace'\n",
      "  util.warn(\n"
     ]
    },
    {
     "name": "stdout",
     "output_type": "stream",
     "text": [
      "saving data for invID = i_CN_36_port_inv with number of data pts = 3\n"
     ]
    },
    {
     "name": "stderr",
     "output_type": "stream",
     "text": [
      "C:\\Anaconda3\\lib\\site-packages\\sqlalchemy\\sql\\base.py:299: SAWarning: Can't validate argument 'replace_string'; can't locate any SQLAlchemy dialect named 'replace'\n",
      "  util.warn(\n"
     ]
    },
    {
     "name": "stdout",
     "output_type": "stream",
     "text": [
      "saving data for invID = j_tianjin_port_inv with number of data pts = 3\n"
     ]
    },
    {
     "name": "stderr",
     "output_type": "stream",
     "text": [
      "C:\\Anaconda3\\lib\\site-packages\\sqlalchemy\\sql\\base.py:299: SAWarning: Can't validate argument 'replace_string'; can't locate any SQLAlchemy dialect named 'replace'\n",
      "  util.warn(\n"
     ]
    },
    {
     "name": "stdout",
     "output_type": "stream",
     "text": [
      "saving data for invID = j_lianyungang_port_inv with number of data pts = 3\n"
     ]
    },
    {
     "name": "stderr",
     "output_type": "stream",
     "text": [
      "C:\\Anaconda3\\lib\\site-packages\\sqlalchemy\\sql\\base.py:299: SAWarning: Can't validate argument 'replace_string'; can't locate any SQLAlchemy dialect named 'replace'\n",
      "  util.warn(\n"
     ]
    },
    {
     "name": "stdout",
     "output_type": "stream",
     "text": [
      "saving data for invID = j_rizhao_port_inv with number of data pts = 3\n"
     ]
    },
    {
     "name": "stderr",
     "output_type": "stream",
     "text": [
      "C:\\Anaconda3\\lib\\site-packages\\sqlalchemy\\sql\\base.py:299: SAWarning: Can't validate argument 'replace_string'; can't locate any SQLAlchemy dialect named 'replace'\n",
      "  util.warn(\n"
     ]
    },
    {
     "name": "stdout",
     "output_type": "stream",
     "text": [
      "saving data for invID = j_qingdao_port_inv with number of data pts = 3\n"
     ]
    },
    {
     "name": "stderr",
     "output_type": "stream",
     "text": [
      "C:\\Anaconda3\\lib\\site-packages\\sqlalchemy\\sql\\base.py:299: SAWarning: Can't validate argument 'replace_string'; can't locate any SQLAlchemy dialect named 'replace'\n",
      "  util.warn(\n"
     ]
    },
    {
     "name": "stdout",
     "output_type": "stream",
     "text": [
      "saving data for invID = jm_jingtang_port_inv with number of data pts = 3\n"
     ]
    },
    {
     "name": "stderr",
     "output_type": "stream",
     "text": [
      "C:\\Anaconda3\\lib\\site-packages\\sqlalchemy\\sql\\base.py:299: SAWarning: Can't validate argument 'replace_string'; can't locate any SQLAlchemy dialect named 'replace'\n",
      "  util.warn(\n"
     ]
    },
    {
     "name": "stdout",
     "output_type": "stream",
     "text": [
      "saving data for invID = jm_rizhao_port_inv with number of data pts = 3\n"
     ]
    },
    {
     "name": "stderr",
     "output_type": "stream",
     "text": [
      "C:\\Anaconda3\\lib\\site-packages\\sqlalchemy\\sql\\base.py:299: SAWarning: Can't validate argument 'replace_string'; can't locate any SQLAlchemy dialect named 'replace'\n",
      "  util.warn(\n"
     ]
    },
    {
     "name": "stdout",
     "output_type": "stream",
     "text": [
      "saving data for invID = jm_lianyungang_port_inv with number of data pts = 3\n"
     ]
    },
    {
     "name": "stderr",
     "output_type": "stream",
     "text": [
      "C:\\Anaconda3\\lib\\site-packages\\sqlalchemy\\sql\\base.py:299: SAWarning: Can't validate argument 'replace_string'; can't locate any SQLAlchemy dialect named 'replace'\n",
      "  util.warn(\n"
     ]
    },
    {
     "name": "stdout",
     "output_type": "stream",
     "text": [
      "saving data for invID = jm_qingdao_port_inv with number of data pts = 3\n"
     ]
    },
    {
     "name": "stderr",
     "output_type": "stream",
     "text": [
      "C:\\Anaconda3\\lib\\site-packages\\sqlalchemy\\sql\\base.py:299: SAWarning: Can't validate argument 'replace_string'; can't locate any SQLAlchemy dialect named 'replace'\n",
      "  util.warn(\n"
     ]
    },
    {
     "name": "stdout",
     "output_type": "stream",
     "text": [
      "saving data for invID = v_dce_warrant with number of data pts = 12\n"
     ]
    },
    {
     "name": "stderr",
     "output_type": "stream",
     "text": [
      "C:\\Anaconda3\\lib\\site-packages\\sqlalchemy\\sql\\base.py:299: SAWarning: Can't validate argument 'replace_string'; can't locate any SQLAlchemy dialect named 'replace'\n",
      "  util.warn(\n"
     ]
    },
    {
     "name": "stdout",
     "output_type": "stream",
     "text": [
      "saving data for invID = MA_east_port_inv with number of data pts = 2\n"
     ]
    },
    {
     "name": "stderr",
     "output_type": "stream",
     "text": [
      "C:\\Anaconda3\\lib\\site-packages\\sqlalchemy\\sql\\base.py:299: SAWarning: Can't validate argument 'replace_string'; can't locate any SQLAlchemy dialect named 'replace'\n",
      "  util.warn(\n"
     ]
    },
    {
     "name": "stdout",
     "output_type": "stream",
     "text": [
      "saving data for invID = MA_south_port_inv with number of data pts = 2\n"
     ]
    },
    {
     "name": "stderr",
     "output_type": "stream",
     "text": [
      "C:\\Anaconda3\\lib\\site-packages\\sqlalchemy\\sql\\base.py:299: SAWarning: Can't validate argument 'replace_string'; can't locate any SQLAlchemy dialect named 'replace'\n",
      "  util.warn(\n"
     ]
    },
    {
     "name": "stdout",
     "output_type": "stream",
     "text": [
      "saving data for invID = ag_shfe_inv with number of data pts = 12\n"
     ]
    },
    {
     "name": "stderr",
     "output_type": "stream",
     "text": [
      "C:\\Anaconda3\\lib\\site-packages\\sqlalchemy\\sql\\base.py:299: SAWarning: Can't validate argument 'replace_string'; can't locate any SQLAlchemy dialect named 'replace'\n",
      "  util.warn(\n"
     ]
    },
    {
     "name": "stdout",
     "output_type": "stream",
     "text": [
      "saving data for invID = ag_comex_inv with number of data pts = 14\n"
     ]
    },
    {
     "name": "stderr",
     "output_type": "stream",
     "text": [
      "C:\\Anaconda3\\lib\\site-packages\\sqlalchemy\\sql\\base.py:299: SAWarning: Can't validate argument 'replace_string'; can't locate any SQLAlchemy dialect named 'replace'\n",
      "  util.warn(\n"
     ]
    },
    {
     "name": "stdout",
     "output_type": "stream",
     "text": [
      "saving data for invID = au_shfe_inv with number of data pts = 12\n"
     ]
    },
    {
     "name": "stderr",
     "output_type": "stream",
     "text": [
      "C:\\Anaconda3\\lib\\site-packages\\sqlalchemy\\sql\\base.py:299: SAWarning: Can't validate argument 'replace_string'; can't locate any SQLAlchemy dialect named 'replace'\n",
      "  util.warn(\n"
     ]
    },
    {
     "name": "stdout",
     "output_type": "stream",
     "text": [
      "saving data for invID = au_comex_inv with number of data pts = 14\n"
     ]
    },
    {
     "name": "stderr",
     "output_type": "stream",
     "text": [
      "C:\\Anaconda3\\lib\\site-packages\\sqlalchemy\\sql\\base.py:299: SAWarning: Can't validate argument 'replace_string'; can't locate any SQLAlchemy dialect named 'replace'\n",
      "  util.warn(\n"
     ]
    },
    {
     "name": "stdout",
     "output_type": "stream",
     "text": [
      "saving data for invID = l_dce_warrant with number of data pts = 12\n"
     ]
    },
    {
     "name": "stderr",
     "output_type": "stream",
     "text": [
      "C:\\Anaconda3\\lib\\site-packages\\sqlalchemy\\sql\\base.py:299: SAWarning: Can't validate argument 'replace_string'; can't locate any SQLAlchemy dialect named 'replace'\n",
      "  util.warn(\n"
     ]
    },
    {
     "name": "stdout",
     "output_type": "stream",
     "text": [
      "saving data for invID = p_port_inv with number of data pts = 2\n"
     ]
    },
    {
     "name": "stderr",
     "output_type": "stream",
     "text": [
      "C:\\Anaconda3\\lib\\site-packages\\sqlalchemy\\sql\\base.py:299: SAWarning: Can't validate argument 'replace_string'; can't locate any SQLAlchemy dialect named 'replace'\n",
      "  util.warn(\n"
     ]
    },
    {
     "name": "stdout",
     "output_type": "stream",
     "text": [
      "saving data for invID = pp_dce_warrant with number of data pts = 12\n"
     ]
    },
    {
     "name": "stderr",
     "output_type": "stream",
     "text": [
      "C:\\Anaconda3\\lib\\site-packages\\sqlalchemy\\sql\\base.py:299: SAWarning: Can't validate argument 'replace_string'; can't locate any SQLAlchemy dialect named 'replace'\n",
      "  util.warn(\n"
     ]
    },
    {
     "name": "stdout",
     "output_type": "stream",
     "text": [
      "saving data for invID = bu_shfe_inv with number of data pts = 12\n"
     ]
    },
    {
     "name": "stderr",
     "output_type": "stream",
     "text": [
      "C:\\Anaconda3\\lib\\site-packages\\sqlalchemy\\sql\\base.py:299: SAWarning: Can't validate argument 'replace_string'; can't locate any SQLAlchemy dialect named 'replace'\n",
      "  util.warn(\n"
     ]
    },
    {
     "name": "stdout",
     "output_type": "stream",
     "text": [
      "saving data for invID = TA_czce_warrant with number of data pts = 12\n"
     ]
    },
    {
     "name": "stderr",
     "output_type": "stream",
     "text": [
      "C:\\Anaconda3\\lib\\site-packages\\sqlalchemy\\sql\\base.py:299: SAWarning: Can't validate argument 'replace_string'; can't locate any SQLAlchemy dialect named 'replace'\n",
      "  util.warn(\n"
     ]
    },
    {
     "name": "stdout",
     "output_type": "stream",
     "text": [
      "saving data for invID = TA_prediction_inv with number of data pts = 12\n"
     ]
    },
    {
     "name": "stderr",
     "output_type": "stream",
     "text": [
      "C:\\Anaconda3\\lib\\site-packages\\sqlalchemy\\sql\\base.py:299: SAWarning: Can't validate argument 'replace_string'; can't locate any SQLAlchemy dialect named 'replace'\n",
      "  util.warn(\n"
     ]
    },
    {
     "name": "stdout",
     "output_type": "stream",
     "text": [
      "saving data for invID = y_commercial_inv with number of data pts = 2\n"
     ]
    },
    {
     "name": "stderr",
     "output_type": "stream",
     "text": [
      "C:\\Anaconda3\\lib\\site-packages\\sqlalchemy\\sql\\base.py:299: SAWarning: Can't validate argument 'replace_string'; can't locate any SQLAlchemy dialect named 'replace'\n",
      "  util.warn(\n"
     ]
    }
   ],
   "source": [
    "from pycmqlib3.data.wind import wind_data, wind_data_config\n",
    "import datetime\n",
    "start_date=datetime.date(2021,5,1)\n",
    "end_date=datetime.date(2021,5,22)\n",
    "wind_data.save_hist_data(start_date, end_date, spot_list = wind_data_config.spot_daily_list)\n",
    "wind_data.save_hist_data(start_date, end_date, inv_list = wind_data_config.inv_list)"
   ]
  },
  {
   "cell_type": "code",
   "execution_count": 9,
   "metadata": {},
   "outputs": [],
   "source": [
    "import requests, zipfile\n",
    "from io import StringIO\n",
    "zip_file_url = 'http://www.dce.com.cn/publicweb/quotesdata/exportMemberDealPosiQuotesBatchData.html?memberDealPosiQuotes.variety=all&memberDealPosiQuotes.trade_type=0&contract.contract_id=all&contract.variety_id=all&year=2020&month=6&day=17&batchExportFlag=batch'\n",
    "r = requests.get(zip_file_url)\n",
    "with open(\"C:\\\\dev\\\\data\\\\temp\\\\tmp.zip\", \"wb\") as zip:\n",
    "    zip.write(r.content)\n",
    "#z.extractall(path=\"C:\\\\dev\\\\data\\\\temp\\\\\")\n"
   ]
  },
  {
   "cell_type": "code",
   "execution_count": 21,
   "metadata": {
    "scrolled": false
   },
   "outputs": [
    {
     "name": "stdout",
     "output_type": "stream",
     "text": [
      "['大连商品交易所 成交量_买持仓_卖持仓排名']\n",
      "[]\n",
      "['合约代码：a2009', 'Date：2020-07-17']\n",
      "[]\n",
      "['期货公司会员']\n",
      "[]\n",
      "['名次', '会员简称', '成交量', '增减']\n",
      "['1', '华泰期货', '59,175', '-7,306']\n",
      "['2', '东证期货', '18,701', '-9,298']\n",
      "['3', '徽商期货', '17,013', '-4,925']\n",
      "['4', '国泰君安', '16,067', '-6,913']\n",
      "['5', '国富期货', '15,471', '-90']\n",
      "['6', '申银万国', '15,326', '-11,916']\n",
      "['7', '海通期货', '15,084', '-3,064']\n",
      "['8', '华安期货', '14,780', '-4,083']\n",
      "['9', '方正中期', '12,233', '-5,317']\n",
      "['10', '中信期货', '12,221', '-8,384']\n",
      "['11', '国投安信', '9,989', '789']\n",
      "['12', '美尔雅期货', '9,512', '225']\n",
      "['13', '东方财富', '7,924', '-3,630']\n",
      "['14', '北京首创', '7,712', '-1,797']\n",
      "['15', '兴证期货', '7,378', '-236']\n",
      "['16', '永安期货', '7,104', '-1,466']\n",
      "['17', '安粮期货', '6,508', '-1,336']\n",
      "['18', '广发期货', '6,300', '390']\n",
      "['19', '银河期货', '6,047', '-5,726']\n",
      "['20', '宏源期货', '5,554', '102']\n",
      "['总计', '270,099', '-73,981']\n",
      "[]\n",
      "['名次', '会员简称', '持买单量', '增减']\n",
      "['1', '中信期货', '7,393', '-338']\n",
      "['2', '银河期货', '6,634', '-483']\n",
      "['3', '五矿经易', '6,045', '-57']\n",
      "['4', '格林大华', '5,281', '-1,470']\n",
      "['5', '国富期货', '4,371', '265']\n",
      "['6', '南华期货', '4,186', '-155']\n",
      "['7', '海通期货', '3,983', '-725']\n",
      "['8', '华泰期货', '3,877', '59']\n",
      "['9', '国泰君安', '3,585', '-2,921']\n",
      "['10', '兴证期货', '3,419', '859']\n",
      "['11', '金石期货', '3,384', '65']\n",
      "['12', '北京首创', '3,038', '-348']\n",
      "['13', '广发期货', '2,927', '-382']\n",
      "['14', '方正中期', '2,920', '-744']\n",
      "['15', '宏源期货', '2,810', '-519']\n",
      "['16', '中粮期货', '2,618', '62']\n",
      "['17', '徽商期货', '2,507', '-324']\n",
      "['18', '申银万国', '2,337', '-209']\n",
      "['19', '天风期货', '2,229', '-47']\n",
      "['20', '广州金控', '2,181', '438']\n",
      "['总计', '75,725', '-6,974']\n",
      "[]\n",
      "['名次', '会员简称', '持卖单量', '增减']\n",
      "['1', '永安期货', '14,109', '-694']\n",
      "['2', '东证期货', '6,398', '-3,036']\n",
      "['3', '中信期货', '6,235', '-665']\n",
      "['4', '鲁证期货', '5,166', '-1,449']\n",
      "['5', '国富期货', '4,403', '408']\n",
      "['6', '国投安信', '3,989', '1,863']\n",
      "['7', '南华期货', '3,878', '-33']\n",
      "['8', '海通期货', '3,535', '-1,103']\n",
      "['9', '北京首创', '3,372', '768']\n",
      "['10', '五矿经易', '3,257', '-240']\n",
      "['11', '华泰期货', '3,164', '-2,796']\n",
      "['12', '国泰君安', '3,004', '-612']\n",
      "['13', '兴证期货', '2,891', '-845']\n",
      "['14', '一德期货', '2,601', '145']\n",
      "['15', '徽商期货', '2,521', '-515']\n",
      "['16', '广发期货', '2,516', '-1,094']\n",
      "['17', '银河期货', '2,305', '-382']\n",
      "['18', '中金期货', '2,015', '-613']\n",
      "['19', '新湖期货', '1,811', '-169']\n",
      "['20', '弘业期货', '1,794', '394']\n",
      "['总计', '78,964', '-10,668']\n",
      "[]\n",
      "[]\n",
      "[]\n",
      "['会员类别', '总成交量', '增减']\n",
      "['期货公司会员', '270,099', '-73,981']\n",
      "[]\n",
      "['会员类别', '总持买单量', '增减']\n",
      "['期货公司会员', '75,725', '-6,974']\n",
      "[]\n",
      "['会员类别', '总持卖单量', '增减']\n",
      "['期货公司会员', '78,964', '-10,668']\n",
      "[]\n"
     ]
    }
   ],
   "source": [
    "import pandas as pd\n",
    "import re\n",
    "\n",
    "txt_file = 'C:\\\\dev\\\\data\\\\temp\\\\20200717_a2009_成交量_买持仓_卖持仓排名.txt'\n",
    "with open(txt_file, 'r', encoding = \"utf8\") as f:\n",
    "    for line in f:\n",
    "        astr = [s for s in re.split('\\t', line) if len(s)>0 and s!='\\n']\n",
    "        print(astr)\n"
   ]
  },
  {
   "cell_type": "code",
   "execution_count": 2,
   "metadata": {},
   "outputs": [
    {
     "name": "stdout",
     "output_type": "stream",
     "text": [
      "[2, 27, 60, 84, 107, 127, 146, 151, 158, 176, 203, 216] [26, 59, 83, 106, 126, 142, 148, 157, 175, 193, 215, 228]\n",
      "        0         1       2     3      4     5       6     7        8   \\\n",
      "2   交割商品：铜    交割商品：铜     NaN   NaN    NaN   NaN     NaN   NaN      NaN   \n",
      "3       地区        仓库    上周库存  上周库存   本周库存  本周库存    库存增减  库存增减    可用库容量   \n",
      "4       地区        仓库      小计    期货     小计    期货      小计    期货       上周   \n",
      "5       上海      期晟公司    2367  1469   5799  1469    3432     0    58531   \n",
      "6       上海      国储天威     109     0    109     0       0     0   119925   \n",
      "7       上海     国储外高桥       0     0      0     0       0     0    20000   \n",
      "8       上海      中储吴淞   10183  2547   8555  2547   -1628     0   106266   \n",
      "9       上海      上港物流   12836    50   3674    50   -9162     0   178957   \n",
      "10      上海      上海裕强       2     0      0     0      -2     0    15000   \n",
      "11      上海      裕强闵行    2283     0    321     0   -1962     0    57405   \n",
      "12      上海      中储大场    7421     0   5683     0   -1738     0   224233   \n",
      "13      上海      同盛芦潮       0     0      0     0       0     0    60000   \n",
      "14      上海  同盛洋山(保税)   30000   548  30000   548       0     0    29452   \n",
      "15      上海  中储临港(保税)   12206    75  12206    75       0     0    29925   \n",
      "16      上海       合 计   77407  4689  66347  4689  -11060     0   899694   \n",
      "17      广东     830黄浦   25485     0  23060     0   -2425     0    30000   \n",
      "18      江苏      中储无锡    1173  1173   1173  1173       0     0    18827   \n",
      "19      江苏      无锡国联       0     0      0     0       0     0    20000   \n",
      "20      江苏       合 计    1173  1173   1173  1173       0     0    38827   \n",
      "21      浙江    国储837处       0     0      0     0       0     0    20000   \n",
      "22      浙江     宁波九龙仓       0     0      0     0       0     0    20000   \n",
      "23      浙江       合 计       0     0      0     0       0     0    40000   \n",
      "24    保税总计      保税总计   42206   623  42206   623       0     0    59377   \n",
      "25    完税总计      完税总计   61859  5239  48374  5239  -13485     0   949144   \n",
      "26     总 计       总 计  104065  5862  90580  5862  -13485     0  1008521   \n",
      "\n",
      "         9      10  \n",
      "2      单位：吨   单位：吨  \n",
      "3     可用库容量  可用库容量  \n",
      "4        本周     增减  \n",
      "5     58531      0  \n",
      "6    119925      0  \n",
      "7     20000      0  \n",
      "8    106638    372  \n",
      "9    180316   1359  \n",
      "10    15000      0  \n",
      "11    57405      0  \n",
      "12   224686    453  \n",
      "13    60000      0  \n",
      "14    29452      0  \n",
      "15    29925      0  \n",
      "16   901878   2184  \n",
      "17    30000      0  \n",
      "18    18827      0  \n",
      "19    20000      0  \n",
      "20    38827      0  \n",
      "21    20000      0  \n",
      "22    20000      0  \n",
      "23    40000      0  \n",
      "24    59377      0  \n",
      "25   951328   2184  \n",
      "26  1010705   2184  \n",
      "        0         1       2       3       4       5     6      7       8   \\\n",
      "27  交割商品：铝    交割商品：铝     NaN     NaN     NaN     NaN   NaN    NaN     NaN   \n",
      "28      地区        仓库    上周库存    上周库存    本周库存    本周库存  库存增减   库存增减   可用库容量   \n",
      "29      地区        仓库      小计      期货      小计      期货    小计     期货      上周   \n",
      "30      上海      期晟公司       0       0       0       0     0      0   19510   \n",
      "31      上海      国储天威      25      25      25      25     0      0   39975   \n",
      "32      上海     国储外高桥       0       0       0       0     0      0    6600   \n",
      "33      上海      中储吴淞   13733   11929   13583   11805  -150   -124   35422   \n",
      "34      上海      上港物流   96712   40331   99912   39878  3200   -453   59652   \n",
      "35      上海      上海裕强       0       0       0       0     0      0    5000   \n",
      "36      上海      裕强闵行   20000     865   20000     865     0      0   19135   \n",
      "37      上海      中储大场   42691   20589   44019   20438  1328   -151   74736   \n",
      "38      上海      同盛芦潮       0       0       0       0     0      0   20000   \n",
      "39      上海   外运华东张华浜       0       0       0       0     0      0   20000   \n",
      "40      上海  同盛洋山(保税)     551       0     551       0     0      0    9817   \n",
      "41      上海  中储临港(保税)       0       0       0       0     0      0    9975   \n",
      "42      上海       合 计  173712   73739  178090   73011  4378   -728  319822   \n",
      "43      广东     广储830   18000    8514   18000    8514     0      0    9486   \n",
      "44      广东      广东晟世    5850     349    5850     349     0      0    5501   \n",
      "45      广东      晟世小塘   20000   16949   20000   16824     0   -125    3051   \n",
      "46      广东      南储仓储   45240   39342   45240   38641     0   -701   10658   \n",
      "47      广东      中金圣源   20000    8122   20000    8122     0      0   11878   \n",
      "48      广东       合 计  109090   73276  109090   72450     0   -826   40574   \n",
      "49      江苏      中储无锡   60000   56032   60000   57071     0   1039    3968   \n",
      "50      江苏      无锡国联   23355   21003   23401   20501    46   -502    8997   \n",
      "51      江苏       合 计   83355   77035   83401   77572    46    537   12965   \n",
      "52      浙江      浙江康运   35000   17612   35000   17487     0   -125   17388   \n",
      "53      浙江      康运诸暨     217       0     217       0     0      0   25000   \n",
      "54      浙江    国储837处       0       0       0       0     0      0   20000   \n",
      "55      浙江     宁波九龙仓    3364    3364    3339    3339   -25    -25    9636   \n",
      "56      浙江       合 计   38581   20976   38556   20826   -25   -150   72024   \n",
      "57    保税总计      保税总计     551       0     551       0     0      0   19792   \n",
      "58    完税总计      完税总计  404187  245026  408586  243859  4399  -1167  425593   \n",
      "59     总 计       总 计  404738  245026  409137  243859  4399  -1167  445385   \n",
      "\n",
      "        9      10  \n",
      "27    单位：吨    NaN  \n",
      "28   可用库容量  可用库容量  \n",
      "29      本周     增减  \n",
      "30   19510      0  \n",
      "31   39975      0  \n",
      "32    6600      0  \n",
      "33   35546    124  \n",
      "34   60105    453  \n",
      "35    5000      0  \n",
      "36   19135      0  \n",
      "37   74887    151  \n",
      "38   20000      0  \n",
      "39   20000      0  \n",
      "40    9817      0  \n",
      "41    9975      0  \n",
      "42  320550    728  \n",
      "43    9486      0  \n",
      "44    5501      0  \n",
      "45    3176    125  \n",
      "46   11359    701  \n",
      "47   11878      0  \n",
      "48   41400    826  \n",
      "49    2929  -1039  \n",
      "50    9499    502  \n",
      "51   12428   -537  \n",
      "52   17513    125  \n",
      "53   25000      0  \n",
      "54   20000      0  \n",
      "55    9661     25  \n",
      "56   72174    150  \n",
      "57   19792      0  \n",
      "58  426760   1167  \n",
      "59  446552   1167  \n",
      "        0        1       2      3       4      5      6      7       8   \\\n",
      "60  交割商品：锌   交割商品：锌     NaN    NaN     NaN    NaN    NaN    NaN     NaN   \n",
      "61      地区       仓库    上周库存   上周库存    本周库存   本周库存   库存增减   库存增减   可用库容量   \n",
      "62      地区       仓库      小计     期货      小计     期货     小计     期货      上周   \n",
      "63      上海     期晟公司   96681  15852   93868  15228  -2813   -624   94148   \n",
      "64      上海     国储天威     736    727     736    727      0      0   54273   \n",
      "65      上海     中储吴淞    1260    101    1260    101      0      0   14899   \n",
      "66      上海     上港物流   39789   7570   37578   7544  -2211    -26   67430   \n",
      "67      上海     上海裕强   17331    600   17796    600    465      0   19400   \n",
      "68      上海     裕强闵行    3189    399    3189    324      0    -75   19601   \n",
      "69      上海     中储大场   13866   8004   13355   8004   -511      0   51996   \n",
      "70      上海     同盛芦潮       0      0       0      0      0      0   15000   \n",
      "71      上海  外运华东张华浜       0      0       0      0      0      0   20000   \n",
      "72      上海      合 计  172852  33253  167782  32528  -5070   -725  356747   \n",
      "73      广东     晟世小塘   12650   3581   12650   3280      0   -301   16419   \n",
      "74      广东     南储仓储   57108  33139   57108  31539      0  -1600   46861   \n",
      "75      广东     中金圣源       0      0       0      0      0      0   10000   \n",
      "76      广东      合 计   69758  36720   69758  34819      0  -1901   73280   \n",
      "77      江苏     无锡国联       0      0       0      0      0      0   20000   \n",
      "78      浙江     浙江康运    4926      0    4926      0      0      0   10000   \n",
      "79      浙江     康运诸暨       0      0       0      0      0      0   10000   \n",
      "80      浙江   国储837处       0      0       0      0      0      0   10000   \n",
      "81      浙江    宁波九龙仓       0      0       0      0      0      0    5000   \n",
      "82      浙江      合 计    4926      0    4926      0      0      0   35000   \n",
      "83     总 计      总 计  247536  69973  242466  67347  -5070  -2626  485027   \n",
      "\n",
      "        9      10  \n",
      "60    单位：吨    NaN  \n",
      "61   可用库容量  可用库容量  \n",
      "62      本周     增减  \n",
      "63   94772    624  \n",
      "64   54273      0  \n",
      "65   14899      0  \n",
      "66   67456     26  \n",
      "67   19400      0  \n",
      "68   19676     75  \n",
      "69   51996      0  \n",
      "70   15000      0  \n",
      "71   20000      0  \n",
      "72  357472    725  \n",
      "73   16720    301  \n",
      "74   48461   1600  \n",
      "75   10000      0  \n",
      "76   75181   1901  \n",
      "77   20000      0  \n",
      "78   10000      0  \n",
      "79   10000      0  \n",
      "80   10000      0  \n",
      "81    5000      0  \n",
      "82   35000      0  \n",
      "83  487653   2626  \n",
      "         0       1      2      3      4      5     6     7       8       9   \\\n",
      "84   交割商品：铅  交割商品：铅    NaN    NaN    NaN    NaN   NaN   NaN     NaN    单位：吨   \n",
      "85       地区      仓库   上周库存   上周库存   本周库存   本周库存  库存增减  库存增减   可用库容量   可用库容量   \n",
      "86       地区      仓库     小计     期货     小计     期货    小计    期货      上周      本周   \n",
      "87       上海    期晟公司  15000   2877  15000   2373     0  -504   12123   12627   \n",
      "88       上海    国储天威    312    252    312    252     0     0    9748    9748   \n",
      "89       上海    中储吴淞    227    226    227    226     0     0   14774   14774   \n",
      "90       上海    中储大场    180      0    156      0   -24     0   15000   15000   \n",
      "91       上海    宝钢物流      0      0      0      0     0     0   20000   20000   \n",
      "92       上海    国储临港     76     76     76     76     0     0   39924   39924   \n",
      "93       上海     合 计  15795   3431  15771   2927   -24  -504  111569  112073   \n",
      "94       广东    晟世小塘  13600   8588  13600   8588     0     0   11412   11412   \n",
      "95       广东    南储仓储  21970  17468  21970  17419     0   -49   12532   12581   \n",
      "96       广东   830黄浦  22687  22502  22538  22451  -149   -51   17498   17549   \n",
      "97       广东     合 计  58257  48558  58108  48458  -149  -100   41442   41542   \n",
      "98       江苏    中储无锡   1207     51   1548     51   341     0   19949   19949   \n",
      "99       浙江    康运诸暨    480    479    480    479     0     0   14521   14521   \n",
      "100      浙江  国储837处      0      0      0      0     0     0   10000   10000   \n",
      "101      浙江     合 计    480    479    480    479     0     0   24521   24521   \n",
      "102      天津    中储南仓    550    550    550    550     0     0   19450   19450   \n",
      "103      天津    天津全程      0      0      0      0     0     0   15000   15000   \n",
      "104      天津  国储833处      0      0      0      0     0     0   15000   15000   \n",
      "105      天津     合 计    550    550    550    550     0     0   49450   49450   \n",
      "106     总 计     总 计  76289  53069  76457  52465   168  -604  246931  247535   \n",
      "\n",
      "        10  \n",
      "84     NaN  \n",
      "85   可用库容量  \n",
      "86      增减  \n",
      "87     504  \n",
      "88       0  \n",
      "89       0  \n",
      "90       0  \n",
      "91       0  \n",
      "92       0  \n",
      "93     504  \n",
      "94       0  \n",
      "95      49  \n",
      "96      51  \n",
      "97     100  \n",
      "98       0  \n",
      "99       0  \n",
      "100      0  \n",
      "101      0  \n",
      "102      0  \n",
      "103      0  \n",
      "104      0  \n",
      "105      0  \n",
      "106    604  \n",
      "            0          1          2       3       4       5      6      7   \\\n",
      "107  交割商品：天然橡胶  交割商品：天然橡胶  交割商品：天然橡胶     NaN     NaN     NaN    NaN    NaN   \n",
      "108         地区         仓库       上周库存    上周库存    本周库存    本周库存   库存增减   库存增减   \n",
      "109         地区         仓库         小计      期货      小计      期货     小计     期货   \n",
      "110         上海       上海长桥       5217    4280    5113    4670   -104    390   \n",
      "111         上海       晶通化轻       8110    7410    8000    7300   -110   -110   \n",
      "112         上海       中储大场      16980   12930   16980   12560      0   -370   \n",
      "113         上海       中储临港      24799    8120   24799    7950      0   -170   \n",
      "114         上海        合 计      55106   32740   54892   32480   -214   -260   \n",
      "115         山东        奥润特       7530    6420    7660    6330    130    -90   \n",
      "116         山东      青岛832      17520   14300   15360   12330  -2160  -1970   \n",
      "117         山东       中远物流      16756   14980   17489   14980    733      0   \n",
      "118         山东        合 计      41806   35700   40509   33640  -1297  -2060   \n",
      "119         云南       云南储运      15000   14620   15000   14610      0    -10   \n",
      "120        NaN        海口港       6760    5570    6760    5570      0      0   \n",
      "121         海南      新思科永桂       5150    4900    4960    4900   -190      0   \n",
      "122        NaN        合 计      11910   10470   11720   10470   -190      0   \n",
      "123         天津       中储南仓      23820   18070   24731   19170    911   1100   \n",
      "124         天津       全程物流      20000   14220   20000   13920      0   -300   \n",
      "125         天津        合 计      43820   32290   44731   33090    911    800   \n",
      "126        总 计        总 计     167642  125820  166852  124290   -790  -1530   \n",
      "\n",
      "         8       9      10  \n",
      "107     NaN    单位：吨    NaN  \n",
      "108   可用库容量   可用库容量  可用库容量  \n",
      "109      上周      本周     增减  \n",
      "110   15720   15330   -390  \n",
      "111    8590    8700    110  \n",
      "112   12070   12440    370  \n",
      "113   26880   27050    170  \n",
      "114   63260   63520    260  \n",
      "115   13580   13670     90  \n",
      "116   22700   24670   1970  \n",
      "117   20020   20020      0  \n",
      "118   56300   58360   2060  \n",
      "119     380     390     10  \n",
      "120   12430   12430      0  \n",
      "121   11100   11100      0  \n",
      "122   23530   23530      0  \n",
      "123   11930   10830  -1100  \n",
      "124    5780    6080    300  \n",
      "125   17710   16910   -800  \n",
      "126  161180  162710   1530  \n",
      "           0         1      2      3      4      5     6     7       8   \\\n",
      "127  交割商品：燃料油  交割商品：燃料油    NaN    NaN    NaN    NaN   NaN   NaN     NaN   \n",
      "128        地区        仓库   上周库存   上周库存   本周库存   本周库存  库存增减  库存增减   可用库容量   \n",
      "129        地区        仓库     小计     期货     小计     期货    小计    期货      上周   \n",
      "130        上海      洋山石油      0      0      0      0     0     0   49250   \n",
      "131        上海      百联油库      0      0      0      0     0     0    9850   \n",
      "132        上海       合 计      0      0      0      0     0     0   59100   \n",
      "133        广东      碧辟南沙  38816     50  38816     50     0     0   39350   \n",
      "134        广东      中油湛江  19401  14200  19401  14200     0     0  281300   \n",
      "135        广东      中燃珠海   9850      0   9850      0     0     0    9850   \n",
      "136        广东      西基油库  11411   1250  11411   1250     0     0   28300   \n",
      "137        广东      南方南沙   3050     50   3050     50     0     0  295450   \n",
      "138        广东       合 计  82528  15550  82528  15550     0     0  654250   \n",
      "139        浙江      中化兴中    570      0    570      0     0     0   49250   \n",
      "140        浙江      海洋仓储     31      0     31      0     0     0   68950   \n",
      "141        浙江       合 计    601      0    601      0     0     0  118200   \n",
      "142       总 计       总 计  83129  15550  83129  15550     0     0  831550   \n",
      "\n",
      "         9      10  \n",
      "127    单位：吨   单位：吨  \n",
      "128   可用库容量  可用库容量  \n",
      "129      本周     增减  \n",
      "130   49250      0  \n",
      "131    9850      0  \n",
      "132   59100      0  \n",
      "133   39350      0  \n",
      "134  281300      0  \n",
      "135    9850      0  \n",
      "136   28300      0  \n",
      "137  295450      0  \n",
      "138  654250      0  \n",
      "139   49250      0  \n",
      "140   68950      0  \n",
      "141  118200      0  \n",
      "142  831550      0  \n",
      "          0        1     2     3     4     5     6     7     8      9      10\n",
      "146  交割商品：黄金  交割商品：黄金   NaN   NaN   NaN   NaN   NaN   NaN   NaN  单位：千克  单位：千克\n",
      "147     上周库存     上周库存  上周库存  上周库存  本周库存  本周库存  本周库存  本周库存  库存增减   库存增减   库存增减\n",
      "148      423      423   423   423   423   423   423   423     0      0      0\n",
      "          0        1       2       3       4       5       6     7        8   \\\n",
      "151  交割商品：白银  交割商品：白银     NaN     NaN     NaN     NaN     NaN   NaN      NaN   \n",
      "152       地区       仓库      仓库    上周期货    上周期货    本周期货    本周期货    增减    可用库容量   \n",
      "153       地区       仓库      仓库    上周期货    上周期货    本周期货    本周期货    增减       上周   \n",
      "154       上海     中储吴淞    中储吴淞  116805  116805  119679  119679  2874   383195   \n",
      "155       上海   外运华东虹桥  外运华东虹桥  129096  129096  130263  130263  1167   870904   \n",
      "156       上海      合 计     合 计  245901  245901  249942  249942  4041  1254099   \n",
      "157      总 计      总 计     总 计  245901  245901  249942  249942  4041  1254099   \n",
      "\n",
      "          9      10  \n",
      "151    单位：千克    NaN  \n",
      "152    可用库容量  可用库容量  \n",
      "153       本周     增减  \n",
      "154   380321  -2874  \n",
      "155   869737  -1167  \n",
      "156  1250058  -4041  \n",
      "157  1250058  -4041  \n",
      "           0         1      2     3     4      5      6     7        8   \\\n",
      "158  交割商品：螺纹钢  交割商品：螺纹钢    NaN   NaN   NaN    NaN    NaN   NaN      NaN   \n",
      "159        地区        仓库     仓库  上周期货  上周期货   本周期货   本周期货    增减    可用库容量   \n",
      "160        地区        仓库     仓库  上周期货  上周期货   本周期货   本周期货    增减       上周   \n",
      "161        上海      宝钢物流   宝钢物流   291   291    291    291     0   239709   \n",
      "162        上海      中农吴泾   中农吴泾     0     0      0      0     0    60000   \n",
      "163        上海       合 计    合 计   291   291    291    291     0   299709   \n",
      "164        江苏      中储无锡   中储无锡     0     0      0      0     0   120000   \n",
      "165        江苏       惠龙港    惠龙港  2997  2997   9219   9219  6222   897003   \n",
      "166        江苏      期晟万林   期晟万林     0     0   3283   3283  3283   450000   \n",
      "167        江苏       合 计    合 计  2997  2997  12502  12502  9505  1467003   \n",
      "168        浙江      浙江康运   浙江康运     0     0      0      0     0    45000   \n",
      "169        浙江     康运崇贤库  康运崇贤库     0     0      0      0     0    90000   \n",
      "170        浙江     康运宁波库  康运宁波库     0     0      0      0     0    45000   \n",
      "171        浙江        合计     合计     0     0      0      0     0   180000   \n",
      "172        天津      中储南仓   中储南仓     0     0      0      0     0   450000   \n",
      "173        天津     泰达保税仓  泰达保税仓     0     0      0      0     0   150000   \n",
      "174        天津       合 计    合 计     0     0      0      0     0   600000   \n",
      "175       总 计       总 计    总 计  3288  3288  12793  12793  9505  2546712   \n",
      "\n",
      "          9      10  \n",
      "158     单位：吨    NaN  \n",
      "159    可用库容量  可用库容量  \n",
      "160       本周     增减  \n",
      "161   239709      0  \n",
      "162    60000      0  \n",
      "163   299709      0  \n",
      "164   120000      0  \n",
      "165   890781  -6222  \n",
      "166   446717  -3283  \n",
      "167  1457498  -9505  \n",
      "168    45000      0  \n",
      "169    90000      0  \n",
      "170    45000      0  \n",
      "171   180000      0  \n",
      "172   450000      0  \n",
      "173   150000      0  \n",
      "174   600000      0  \n",
      "175  2537207  -9505  \n",
      "          0        1      2     3     4     5     6    7       8       9   \\\n",
      "176  交割商品：线材  交割商品：线材    NaN   NaN   NaN   NaN   NaN  NaN     NaN    单位：吨   \n",
      "177       地区       仓库     仓库  上周期货  上周期货  本周期货  本周期货   增减   可用库容量   可用库容量   \n",
      "178       地区       仓库     仓库  上周期货  上周期货  本周期货  本周期货   增减      上周      本周   \n",
      "179       上海     宝钢物流   宝钢物流     0     0     0     0    0   79903   79903   \n",
      "180       上海     中农吴泾   中农吴泾     0     0     0     0    0   20000   20000   \n",
      "181       上海      合 计    合 计     0     0     0     0    0   99903   99903   \n",
      "182       江苏     中储无锡   中储无锡     0     0     0     0    0   40000   40000   \n",
      "183       江苏      惠龙港    惠龙港     0     0     0     0    0  299001  296927   \n",
      "184       江苏     期晟万林   期晟万林     0     0     0     0    0  150000  148906   \n",
      "185       江苏      合 计    合 计     0     0     0     0    0  489001  485833   \n",
      "186       浙江     浙江康运   浙江康运     0     0     0     0    0   15000   15000   \n",
      "187       浙江    康运崇贤库  康运崇贤库     0     0     0     0    0   30000   30000   \n",
      "188       浙江    康运宁波库  康运宁波库     0     0     0     0    0   15000   15000   \n",
      "189       浙江       合计     合计     0     0     0     0    0   60000   60000   \n",
      "190       天津     中储南仓   中储南仓     0     0     0     0    0  150000  150000   \n",
      "191       天津    泰达保税仓  泰达保税仓     0     0     0     0    0   50000   50000   \n",
      "192       天津      合 计    合 计     0     0     0     0    0  200000  200000   \n",
      "193      总 计      总 计    总 计     0     0     0     0    0  848904  845736   \n",
      "\n",
      "        10  \n",
      "176    NaN  \n",
      "177  可用库容量  \n",
      "178     增减  \n",
      "179      0  \n",
      "180      0  \n",
      "181      0  \n",
      "182      0  \n",
      "183  -2074  \n",
      "184  -1094  \n",
      "185  -3168  \n",
      "186      0  \n",
      "187      0  \n",
      "188      0  \n",
      "189      0  \n",
      "190      0  \n",
      "191      0  \n",
      "192      0  \n",
      "193  -3168  \n",
      "       0      1      2      3      4      5     6     7       8       9   \\\n",
      "203  沥青仓库   沥青仓库    NaN    NaN    NaN    NaN   NaN   NaN     NaN    单位：吨   \n",
      "204    地区     仓库   上周库存   上周库存   本周库存   本周库存  库存增减  库存增减   可用库容量   可用库容量   \n",
      "205    地区     仓库     小计     期货     小计     期货    小计    期货      上周      本周   \n",
      "206    广东   南粤物流      0      0      0      0     0     0       0       0   \n",
      "207    江苏   三峰石化  20800      0  20800      0     0     0   20800   20800   \n",
      "208    江苏   金海宏业   1000      0   1000      0     0     0   45000   45000   \n",
      "209    江苏   恒泰沥青   5340   5340   5340   5340     0     0   34650   34650   \n",
      "210    江苏   新越沥青  30000  24130  30000  24130     0     0    5870    5870   \n",
      "211    江苏    合 计  57140  29470  57140  29470     0     0  106320  106320   \n",
      "212    浙江   富康石化   4062      0   4062      0     0     0   27300   27300   \n",
      "213    浙江  爱思开宝盈  20670  11770  20670  11770     0     0   21810   21810   \n",
      "214    浙江    合 计  24732  11770  24732  11770     0     0   49110   49110   \n",
      "215   总 计    总 计  81872  41240  81872  41240     0     0  155430  155430   \n",
      "\n",
      "        10  \n",
      "203   单位：吨  \n",
      "204  可用库容量  \n",
      "205     增减  \n",
      "206      0  \n",
      "207      0  \n",
      "208      0  \n",
      "209      0  \n",
      "210      0  \n",
      "211      0  \n",
      "212      0  \n",
      "213      0  \n",
      "214      0  \n",
      "215      0  \n",
      "       0       1       2      3      4      5      6    7       8       9   \\\n",
      "216  沥青厂库    沥青厂库     NaN    NaN    NaN    NaN    NaN  NaN     NaN    单位：吨   \n",
      "217    地区      厂库      厂库   上周期货   上周期货   本周期货   本周期货   增减   可用库容量   可用库容量   \n",
      "218    地区      厂库      厂库   上周期货   上周期货   本周期货   本周期货   增减      上周      本周   \n",
      "219    广东    中油高富    中油高富      0      0      0      0    0   50000   50000   \n",
      "220    江苏    中油江苏    中油江苏      0      0      0      0    0   50000   50000   \n",
      "221    江苏  中海泰州石化  中海泰州石化      0      0      0      0    0   10000   10000   \n",
      "222    江苏    金海宏业    金海宏业      0      0      0      0    0   30000   30000   \n",
      "223    江苏     合 计     合 计      0      0      0      0    0   90000   90000   \n",
      "224    山东    中海沥青    中海沥青      0      0      0      0    0   20000   20000   \n",
      "225    山东    中化弘润    中化弘润      0      0      0      0    0   10000   10000   \n",
      "226    山东    山东金石    山东金石  20000  20000  20000  20000    0       0       0   \n",
      "227    山东      合计      合计  20000  20000  20000  20000    0   30000   30000   \n",
      "228   总 计     总 计     总 计  20000  20000  20000  20000    0  170000  170000   \n",
      "\n",
      "        10  \n",
      "216    NaN  \n",
      "217  可用库容量  \n",
      "218     增减  \n",
      "219      0  \n",
      "220      0  \n",
      "221      0  \n",
      "222      0  \n",
      "223      0  \n",
      "224      0  \n",
      "225      0  \n",
      "226      0  \n",
      "227      0  \n",
      "228      0  \n",
      "   var var_label  spot_inventory  warrant_inventory  warehouse_stocks  \\\n",
      "0   CU         铜           90580               5862           1010705   \n",
      "1   AL         铝          409137             243859            446552   \n",
      "2   ZN         锌          242466              67347            487653   \n",
      "3   PB         铅           76457              52465            247535   \n",
      "4   RU      天然橡胶          166852             124290            162710   \n",
      "5   FU       燃料油           83129              15550            831550   \n",
      "6   AU        黄金               0                423                 0   \n",
      "7   AG        白银               0             245901            249942   \n",
      "8   RB       螺纹钢               0               3288             12793   \n",
      "9   WR        线材               0                  0                 0   \n",
      "10  BU      沥青仓库           81872              41240            155430   \n",
      "11  BU      沥青厂库               0              20000             20000   \n",
      "\n",
      "        date  \n",
      "0   20140509  \n",
      "1   20140509  \n",
      "2   20140509  \n",
      "3   20140509  \n",
      "4   20140509  \n",
      "5   20140509  \n",
      "6   20140509  \n",
      "7   20140509  \n",
      "8   20140509  \n",
      "9   20140509  \n",
      "10  20140509  \n",
      "11  20140509  \n"
     ]
    }
   ],
   "source": [
    "from akshare.futures import futures_exch_inv\n",
    "\n",
    "df = futures_exch_inv.get_shfe_inv_1(\"20140509\")\n",
    "print(df)"
   ]
  },
  {
   "cell_type": "code",
   "execution_count": 4,
   "metadata": {},
   "outputs": [
    {
     "name": "stdout",
     "output_type": "stream",
     "text": [
      "0      200760\n",
      "1      162617\n",
      "2       25840\n",
      "3           0\n",
      "4      514330\n",
      "5      243326\n",
      "6     1109100\n",
      "7      953835\n",
      "8      521131\n",
      "9      297200\n",
      "10     200306\n",
      "11     551470\n",
      "12      89700\n",
      "13    1099856\n",
      "14      10125\n",
      "15     885974\n",
      "16    1860112\n",
      "17     157485\n",
      "Name: warehouse_stocks, dtype: int64\n"
     ]
    }
   ],
   "source": [
    "print(df['warehouse_stocks'])"
   ]
  }
 ],
 "metadata": {
  "kernelspec": {
   "display_name": "Python 3",
   "language": "python",
   "name": "python3"
  },
  "language_info": {
   "codemirror_mode": {
    "name": "ipython",
    "version": 3
   },
   "file_extension": ".py",
   "mimetype": "text/x-python",
   "name": "python",
   "nbconvert_exporter": "python",
   "pygments_lexer": "ipython3",
   "version": "3.8.5"
  },
  "toc": {
   "base_numbering": 1,
   "nav_menu": {},
   "number_sections": true,
   "sideBar": true,
   "skip_h1_title": false,
   "title_cell": "Table of Contents",
   "title_sidebar": "Contents",
   "toc_cell": false,
   "toc_position": {},
   "toc_section_display": true,
   "toc_window_display": false
  }
 },
 "nbformat": 4,
 "nbformat_minor": 4
}
