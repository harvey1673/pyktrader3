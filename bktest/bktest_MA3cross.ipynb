{
 "cells": [
  {
   "cell_type": "code",
   "execution_count": 1,
   "metadata": {},
   "outputs": [
    {
     "data": {
      "text/html": [
       "        <script type=\"text/javascript\">\n",
       "        window.PlotlyConfig = {MathJaxConfig: 'local'};\n",
       "        if (window.MathJax) {MathJax.Hub.Config({SVG: {font: \"STIX-Web\"}});}\n",
       "        if (typeof require !== 'undefined') {\n",
       "        require.undef(\"plotly\");\n",
       "        requirejs.config({\n",
       "            paths: {\n",
       "                'plotly': ['https://cdn.plot.ly/plotly-latest.min']\n",
       "            }\n",
       "        });\n",
       "        require(['plotly'], function(Plotly) {\n",
       "            window._Plotly = Plotly;\n",
       "        });\n",
       "        }\n",
       "        </script>\n",
       "        "
      ]
     },
     "metadata": {},
     "output_type": "display_data"
    },
    {
     "data": {
      "text/html": [
       "        <script type=\"text/javascript\">\n",
       "        window.PlotlyConfig = {MathJaxConfig: 'local'};\n",
       "        if (window.MathJax) {MathJax.Hub.Config({SVG: {font: \"STIX-Web\"}});}\n",
       "        if (typeof require !== 'undefined') {\n",
       "        require.undef(\"plotly\");\n",
       "        requirejs.config({\n",
       "            paths: {\n",
       "                'plotly': ['https://cdn.plot.ly/plotly-latest.min']\n",
       "            }\n",
       "        });\n",
       "        require(['plotly'], function(Plotly) {\n",
       "            window._Plotly = Plotly;\n",
       "        });\n",
       "        }\n",
       "        </script>\n",
       "        "
      ]
     },
     "metadata": {},
     "output_type": "display_data"
    }
   ],
   "source": [
    "import warnings\n",
    "import sys\n",
    "import pandas as pd\n",
    "import numpy as np\n",
    "import matplotlib as mpl\n",
    "import matplotlib.dates as dates\n",
    "import matplotlib.pyplot as plt\n",
    "import datetime\n",
    "import chart_studio.plotly as py\n",
    "import plotly.graph_objs as go\n",
    "from plotly.offline import init_notebook_mode, plot, iplot\n",
    "\n",
    "init_notebook_mode(connected=True)\n",
    "sys.path.append(\"C:/dev/pycmqlib/\")\n",
    "sys.path.append(\"C:/dev/pycmqlib/scripts/\")\n",
    "\n",
    "import misc\n",
    "import data_handler as dh\n",
    "import plotly_examples\n",
    "import backtest\n",
    "%matplotlib inline"
   ]
  },
  {
   "cell_type": "code",
   "execution_count": 2,
   "metadata": {},
   "outputs": [
    {
     "data": {
      "application/vnd.jupyter.widget-view+json": {
       "model_id": "7f9591436e584fde9ef8d44222aae380",
       "version_major": 2,
       "version_minor": 0
      },
      "text/plain": [
       "RmlndXJlV2lkZ2V0KHsKICAgICdkYXRhJzogW3snY2xvc2UnOiBhcnJheShbICA5NC4gLCAgMTE3LiAsICAxMTkuICwgLi4uLCAxODUyLjUsIDE4NTcuNSwgMTg3NS4gXSksCiAgICAgICAgICDigKY=\n"
      ]
     },
     "metadata": {},
     "output_type": "display_data"
    }
   ],
   "source": [
    "start = datetime.date(2015, 1, 1)\n",
    "end = datetime.date(2020, 1, 17)\n",
    "need_shift = 1\n",
    "asset = 'j'\n",
    "freq = 'd'\n",
    "args = {'n': 1, 'roll_rule': '-35b', 'freq': freq, 'need_shift': need_shift}\n",
    "args['start_date'] = start\n",
    "args['end_date'] = end\n",
    "df = misc.nearby(asset, **args)\n",
    "\n",
    "df.index = pd.to_datetime(df.index)\n",
    "#trace = go.Scatter(x=list(df.index),\n",
    "#                   y=list(df.high))\n",
    "win_s = 10\n",
    "win_l = 40\n",
    "df['MA1'] = dh.MA(df, n = win_s)\n",
    "df['MA2'] = dh.MA(df, n = win_l)\n",
    "\n",
    "def zoom(layout, xrange):\n",
    "    in_view = df.loc[fig.layout.xaxis.range[0]:fig.layout.xaxis.range[1]]\n",
    "    fig.layout.yaxis.range = [in_view.low.min(), in_view.high.max()]\n",
    "\n",
    "win_s = 10\n",
    "win_l = 40\n",
    "df['MA1'] = dh.MA(df, n = win_s)\n",
    "df['MA2'] = dh.MA(df, n = win_l)\n",
    "\n",
    "fig = plotly_examples.plot_ohlc_with_indicators(df, ind_fields = ['MA1', 'MA2'])\n",
    "fig.layout.on_change(zoom, 'xaxis.range')\n",
    "fig"
   ]
  },
  {
   "cell_type": "code",
   "execution_count": 56,
   "metadata": {},
   "outputs": [
    {
     "name": "stdout",
     "output_type": "stream",
     "text": [
      "                    instID exch        date  min_id    open    high     low  \\\n",
      "datetime                                                                      \n",
      "2020-01-17 14:55:00  j2005  DCE  2020-01-17    2055  1877.5  1877.5  1874.5   \n",
      "2020-01-17 14:56:00  j2005  DCE  2020-01-17    2056  1875.5  1876.5  1875.0   \n",
      "2020-01-17 14:57:00  j2005  DCE  2020-01-17    2057  1875.5  1876.0  1874.0   \n",
      "2020-01-17 14:58:00  j2005  DCE  2020-01-17    2058  1874.5  1874.5  1873.5   \n",
      "2020-01-17 14:59:00  j2005  DCE  2020-01-17    2059  1874.0  1875.0  1873.5   \n",
      "\n",
      "                      close  volume  openInterest contract  shift  \n",
      "datetime                                                           \n",
      "2020-01-17 14:55:00  1876.0     598        128825    j2005    0.0  \n",
      "2020-01-17 14:56:00  1875.5     288        128844    j2005    0.0  \n",
      "2020-01-17 14:57:00  1874.0     524        128723    j2005    0.0  \n",
      "2020-01-17 14:58:00  1874.0     626        128670    j2005    0.0  \n",
      "2020-01-17 14:59:00  1875.0     958        128508    j2005    0.0  \n"
     ]
    }
   ],
   "source": [
    "start = datetime.date(2016, 1, 1)\n",
    "end = datetime.date(2020, 1, 17)\n",
    "need_shift = 1\n",
    "asset = 'j'\n",
    "freq = 'm'\n",
    "args = {'n': 1, 'roll_rule': '-35b', 'freq': freq, 'need_shift': need_shift}\n",
    "args['start_date'] = start\n",
    "args['end_date'] = end\n",
    "mdf = misc.nearby(asset, **args)\n",
    "mdf = misc.cleanup_mindata(mdf, asset)\n",
    "print mdf[-5:]\n"
   ]
  },
  {
   "cell_type": "code",
   "execution_count": 66,
   "metadata": {},
   "outputs": [],
   "source": [
    "df = dh.conv_ohlc_freq1(mdf, '10m')\n",
    "#df = mdf.copy()\n",
    "#df = dh.day_split1(mdf, [300, 1500, 1930, 2100])\n",
    "\n",
    "win_1 = 10\n",
    "win_2 = 40\n",
    "win_3 = 120\n",
    "df['MA1'] = dh.MA(df, n = win_1)\n",
    "df['MA2'] = dh.MA(df, n = win_2)\n",
    "df['MA3'] = dh.MA(df, n = win_3)\n",
    "#fig2 = plotly_examples.plot_ohlc_with_indicators(df, ind_fields = ['MA1', 'MA2', 'MA3'])\n",
    "#fig2.layout.on_change(zoom, 'xaxis.range')\n",
    "#fig2"
   ]
  },
  {
   "cell_type": "code",
   "execution_count": 67,
   "metadata": {},
   "outputs": [
    {
     "name": "stderr",
     "output_type": "stream",
     "text": [
      "C:\\dev\\anaconda2\\lib\\site-packages\\ipykernel_launcher.py:20: SettingWithCopyWarning:\n",
      "\n",
      "\n",
      "A value is trying to be set on a copy of a slice from a DataFrame\n",
      "\n",
      "See the caveats in the documentation: http://pandas.pydata.org/pandas-docs/stable/indexing.html#indexing-view-versus-copy\n",
      "\n"
     ]
    },
    {
     "data": {
      "image/png": "[encoded data removed]",
      "text/plain": [
       "<Figure size 432x288 with 1 Axes>"
      ]
     },
     "metadata": {
      "needs_background": "light"
     },
     "output_type": "display_data"
    },
    {
     "name": "stdout",
     "output_type": "stream",
     "text": [
      "{'trade_std': 54.93250637853797, 'win_ratio': 0.376, 'win_std': 59.17828129770855, 'loss_25pct': -28.625, 'loss_75pct': -10.0, 'loss_mean': -21.73076923076923, 'trade_50pct': -7.5, 'win_50pct': 31.25, 'trade_max': 227.0, 'loss_sum': -3390.0, 'trade_75pct': 18.875, 'win_75pct': 95.125, 'win_max': 227.0, 'win_min': 0.5, 'win_sum': 5513.0, 'trade_sum': 2123.0, 'trade_count': 250.0, 'trade_min': -94.5, 'win_count': 94.0, 'trade_25pct': -21.75, 'win_25pct': 12.0, 'trade_mean': 8.492, 'win_mean': 58.648936170212764, 'loss_50pct': -17.25, 'loss_max': -0.5, 'loss_std': 17.360446758725164, 'loss_min': -94.5, 'loss_count': 156.0}\n",
      "                              0\n",
      "avg_pnl_1y             0.622449\n",
      "avg_pnl_2y             2.151639\n",
      "avg_pnl_3y             1.967940\n",
      "avg_pnl_4y             2.179632\n",
      "max_dd_period_1y     -80.000000\n",
      "max_dd_period_2y     -80.000000\n",
      "max_dd_period_3y     -80.000000\n",
      "max_dd_period_4y    -184.000000\n",
      "max_drawdown_1y     -308.500000\n",
      "max_drawdown_2y     -308.500000\n",
      "max_drawdown_3y     -308.500000\n",
      "max_drawdown_4y     -515.000000\n",
      "num_days_1y          245.000000\n",
      "num_days_2y          488.000000\n",
      "num_days_3y          733.000000\n",
      "num_days_4y          977.000000\n",
      "profit_dd_ratio_1y     0.494327\n",
      "profit_dd_ratio_2y     3.403566\n",
      "profit_dd_ratio_3y     4.675851\n",
      "profit_dd_ratio_4y     4.134951\n",
      "sharp_ratio_1y         0.416508\n",
      "sharp_ratio_2y         1.202948\n",
      "sharp_ratio_3y         1.005428\n",
      "sharp_ratio_4y         1.146779\n",
      "std_pnl_1y            23.723590\n",
      "std_pnl_2y            28.393765\n",
      "std_pnl_3y            31.071408\n",
      "std_pnl_4y            30.171967\n",
      "tot_cost_1y            0.000000\n",
      "tot_cost_2y            0.000000\n",
      "tot_cost_3y            0.000000\n",
      "tot_cost_4y            0.000000\n",
      "tot_pnl_1y           152.500000\n",
      "tot_pnl_2y          1050.000000\n",
      "tot_pnl_3y          1442.500000\n",
      "tot_pnl_4y          2129.500000\n"
     ]
    }
   ],
   "source": [
    "margin_rate = [0.08, 0.08]\n",
    "pnl_tenors = ['1y', '2y', '3y', '4y']\n",
    "cost_ratio = 1.0\n",
    "offset = 0.0\n",
    "start_capital = 0.0\n",
    "\n",
    "long_signal = pd.Series(np.nan, index = df.index)\n",
    "long_flag = dh.CROSSOVER2(df['MA1'],  df['MA2'], direction = 1) & (df['MA2'] >= df['MA3'])\n",
    "long_signal[long_flag] = 1\n",
    "cover_flag = dh.CROSSOVER2(df['MA1'],  df['MA3'], direction = -1) \n",
    "long_signal[cover_flag] = 0\n",
    "long_signal = long_signal.shift(1).fillna(method='ffill').fillna(0)\n",
    "short_signal = pd.Series(np.nan, index = df.index)\n",
    "short_flag = dh.CROSSOVER2(df['MA1'],  df['MA2'], direction = -1) & (df['MA2'] <= df['MA3'])\n",
    "short_signal[short_flag] = -1\n",
    "cover_flag = dh.CROSSOVER2(df['MA1'],  df['MA3'], direction = 1)\n",
    "short_signal[cover_flag] = 0\n",
    "short_signal = short_signal.shift(1).fillna(method='ffill').fillna(0)\n",
    "df['pos'] = (long_signal + short_signal)\n",
    "df['pos'][-1] = 0.0\n",
    "df['cost'] = abs(df['pos'] - df['pos'].shift(1)) * offset\n",
    "df['cost'] = df['cost'].fillna(0.0)\n",
    "df['traded_price'] = df.open\n",
    "closed_trades = backtest.simdf_to_trades1(df, slippage = offset)\n",
    "res_trade = backtest.get_trade_stats(closed_trades)\n",
    "(res_pnl, ts) = backtest.get_pnl_stats([df], margin_rate, 'm', tenors = pnl_tenors, start_capital = start_capital, cost_ratio = cost_ratio)\n",
    "ts[['cum_pnl']].plot()\n",
    "plt.show()\n",
    "print res_trade\n",
    "pnl_df = pd.DataFrame.from_dict(res_pnl, orient='index').sort_index()\n",
    "print pnl_df"
   ]
  }
 ],
 "metadata": {
  "kernelspec": {
   "display_name": "Python 3",
   "language": "python",
   "name": "python3"
  },
  "language_info": {
   "codemirror_mode": {
    "name": "ipython",
    "version": 3
   },
   "file_extension": ".py",
   "mimetype": "text/x-python",
   "name": "python",
   "nbconvert_exporter": "python",
   "pygments_lexer": "ipython3",
   "version": "3.7.6"
  }
 },
 "nbformat": 4,
 "nbformat_minor": 2
}
