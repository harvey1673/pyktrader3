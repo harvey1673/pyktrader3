{
 "cells": [
  {
   "cell_type": "code",
   "execution_count": 1,
   "metadata": {},
   "outputs": [],
   "source": [
    "import pandas as pd\n",
    "import datetime\n"
   ]
  },
  {
   "cell_type": "code",
   "execution_count": 3,
   "metadata": {},
   "outputs": [
    {
     "name": "stdout",
     "output_type": "stream",
     "text": [
      "  instID  exch        date  open  close  high   low   volume  openInterest\n",
      "0  FG009  CZCE  2020-09-14  1940   1900  1940  1900       21             0\n",
      "1  FG101  CZCE  2020-09-14  1728   1680  1734  1676  2127146        737508\n",
      "2  FG101  CZCE  2020-09-15  1681   1646  1697  1626  2830992        680654\n",
      "3  FG101  CZCE  2020-09-16  1648   1653  1666  1632  1913995        675358\n",
      "4  FG101  CZCE  2020-09-17  1654   1642  1662  1628  1178626        692886\n"
     ]
    }
   ],
   "source": [
    "df = pd.read_csv(\"E:\\\\data\\\\FG_daily_200919.csv\")\n",
    "df['date'] = pd.to_datetime(df['date']).apply(lambda x: x.date())\n",
    "xdf = df[['instID', 'exch', 'date', 'open', 'close', 'high', 'low', 'volume', 'openInterest']]\n",
    "print(xdf.head())\n",
    "xdf.to_csv(\"E:\\\\data\\\\FG_daily_200919.csv\", index = False)"
   ]
  },
  {
   "cell_type": "code",
   "execution_count": 3,
   "metadata": {},
   "outputs": [
    {
     "name": "stdout",
     "output_type": "stream",
     "text": [
      "   instID  exch            datetime        date  min_id      open     close  \\\n",
      "0  ni2107  SHFE 2020-12-16 00:04:00  2020-12-16     604  130780.0  130780.0   \n",
      "1  ni2107  SHFE 2020-12-16 00:35:00  2020-12-16     635  130780.0  130780.0   \n",
      "2   i2102   DCE 2020-12-14 21:00:00  2020-12-14     300    1050.0    1047.5   \n",
      "3   i2102   DCE 2020-12-14 21:01:00  2020-12-14     301    1047.5    1051.5   \n",
      "4   i2102   DCE 2020-12-14 21:02:00  2020-12-14     302    1051.5    1051.5   \n",
      "\n",
      "       high       low  volume  openInterest  \n",
      "0  130780.0  130780.0       1           176  \n",
      "1  130780.0  130780.0       1           177  \n",
      "2    1052.5    1047.0     665         55850  \n",
      "3    1052.5    1047.5     455         55878  \n",
      "4    1052.0    1050.0     644         55943  \n"
     ]
    }
   ],
   "source": [
    "df = pd.read_csv(\"F:\\\\data\\\\fut_min_201222.csv\")\n",
    "df['datetime'] = pd.to_datetime(df['datetime'])\n",
    "df['date'] = pd.to_datetime(df['date']).apply(lambda x: x.date())\n",
    "df['datetime'] = df.apply(lambda x: datetime.datetime.combine(x['date'], x['datetime'].time()), axis = 1)\n",
    "xdf = df[['instID', 'exch', 'datetime', 'date', 'min_id', 'open', 'close', 'high', 'low', 'volume', 'openInterest']]\n",
    "print(xdf.head())\n",
    "xdf.to_csv(\"F:\\\\data\\\\fut_min_updated.csv\", index = False)"
   ]
  }
 ],
 "metadata": {
  "kernelspec": {
   "display_name": "Python 3",
   "language": "python",
   "name": "python3"
  },
  "language_info": {
   "codemirror_mode": {
    "name": "ipython",
    "version": 3
   },
   "file_extension": ".py",
   "mimetype": "text/x-python",
   "name": "python",
   "nbconvert_exporter": "python",
   "pygments_lexer": "ipython3",
   "version": "3.8.5"
  }
 },
 "nbformat": 4,
 "nbformat_minor": 4
}
