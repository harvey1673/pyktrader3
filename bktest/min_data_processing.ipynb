{
 "cells": [
  {
   "cell_type": "code",
   "execution_count": 1,
   "metadata": {},
   "outputs": [],
   "source": [
    "import sys\n",
    "import pandas as pd\n",
    "import numpy as np\n",
    "import matplotlib as mpl\n",
    "import matplotlib.dates as dates\n",
    "import matplotlib.pyplot as plt\n",
    "import datetime\n",
    "import itertools\n",
    "import copy\n",
    "sys.path.append(\"C:/dev/pyktrader3/\")\n",
    "from pycmqlib3.utility import misc\n",
    "from bktest import backtest\n",
    "import pycmqlib3.analytics.data_handler as dh"
   ]
  },
  {
   "cell_type": "code",
   "execution_count": 2,
   "metadata": {},
   "outputs": [],
   "source": [
    "ferrous_products_mkts = ['rb', 'hc', 'i', 'j', 'jm']\n",
    "ferrous_mixed_mkts = ['ru', 'FG', 'ZC', 'SM', \"SF\"]\n",
    "base_metal_mkts = ['cu', 'al', 'zn', 'pb', 'ni', 'sn']\n",
    "precious_metal_mkts = ['au', 'ag']\n",
    "ind_metal_mkts = ferrous_products_mkts + ferrous_mixed_mkts + base_metal_mkts  \n",
    "petro_chem_mkts = ['l', 'pp', 'v', 'TA', 'MA', 'bu', 'sc', 'fu', 'eg']\n",
    "ind_all_mkts = ind_metal_mkts + petro_chem_mkts\n",
    "ags_oil_mkts = ['m', 'RM', 'y', 'p', 'OI', 'a', 'c', 'cs'] #, 'b']\n",
    "ags_soft_mkts = ['CF', 'SR', 'jd', 'AP'] #, 'sp', 'CJ', 'UR']\n",
    "ags_all_mkts = ags_oil_mkts + ags_soft_mkts\n",
    "eq_fut_mkts = ['IF', 'IH', 'IC']\n",
    "bond_fut_mkts = ['T', 'TF']\n",
    "fin_all_mkts = eq_fut_mkts + bond_fut_mkts\n",
    "commod_all_mkts = ind_all_mkts + ags_all_mkts + precious_metal_mkts\n",
    "all_markets = commod_all_mkts + fin_all_mkts\n",
    "daily_start_dict = { 'c': datetime.date(2011,1,1), 'm': datetime.date(2011,1,1),\n",
    "    'y': datetime.date(2011,1,1), 'l': datetime.date(2011,1,1), 'rb':datetime.date(2011,1,1),\n",
    "    'p': datetime.date(2011,1,1), 'cu':datetime.date(2011,1,1), 'al':datetime.date(2011,1,1),\n",
    "    'zn':datetime.date(2011,1,1), 'au':datetime.date(2011,1,1), 'v': datetime.date(2011,1,1),\n",
    "    'a': datetime.date(2011,1,1), 'ru':datetime.date(2011,1,1), 'ag':datetime.date(2012,6,1),\n",
    "    'i': datetime.date(2014,1,1), 'j': datetime.date(2012,6,1), 'jm':datetime.date(2013,7,1),\n",
    "    'CF':datetime.date(2012,5,1),  'TA':datetime.date(2012,4,15),\n",
    "    'PM':datetime.date(2013,10,1), 'RM':datetime.date(2013,1,1),  'SR':datetime.date(2013,1,1),\n",
    "    'FG':datetime.date(2013,1,1),  'OI':datetime.date(2013,5,1),  'RI':datetime.date(2013,1,1),\n",
    "    'WH':datetime.date(2014,5,1),  'pp':datetime.date(2014,5,1),\n",
    "    'IF':datetime.date(2010,5,1),  'MA':datetime.date(2012,1,1),  'TF':datetime.date(2014,6,1),\n",
    "    'IH':datetime.date(2015,5,1),  'IC':datetime.date(2015,5,1),  'cs':datetime.date(2015,2,1),\n",
    "    'jd':datetime.date(2014,5,1),  'ni':datetime.date(2015,5,1),  'sn':datetime.date(2017,4,1),\n",
    "    'ZC':datetime.date(2013,11,1), 'hc':datetime.date(2016, 4, 1), 'SM': datetime.date(2017,1,1),\n",
    "    'SF': datetime.date(2017,9,1), 'CY': datetime.date(2017, 9, 1), 'AP': datetime.date(2018, 1, 1),\n",
    "    'TS': datetime.date(2018, 9, 1), 'fu': datetime.date(2018, 9, 1), 'sc': datetime.date(2018, 8, 1),\n",
    "    'b': datetime.date(2018, 1, 1), 'pb': datetime.date(2016, 7, 1), 'bu': datetime.date(2015,9,15),\n",
    "    'T':datetime.date(2015,6,1), 'ss': datetime.date(2020, 5, 1), 'sp': datetime.date(2019, 5, 1),\n",
    "    'CJ': datetime.date(2019, 8, 9), 'UR': datetime.date(2019, 8, 9), 'SA': datetime.date(2020, 1, 1),\n",
    "    'eb': datetime.date(2020, 1, 1), 'eg': datetime.date(2019, 5, 1), 'rr': datetime.date(2019, 9, 1),\n",
    "    'pg': datetime.date(2020, 9, 1), 'lu': datetime.date(2020, 8, 1),}\n",
    "min_start_dict = { 'c': datetime.date(2011,1,1), 'm': datetime.date(2011,1,1),\n",
    "    'y': datetime.date(2011,1,1), 'l': datetime.date(2011,1,1), 'rb':datetime.date(2011,1,1),\n",
    "    'p': datetime.date(2011,1,1), 'cu':datetime.date(2011,1,1), 'al':datetime.date(2011,1,1),\n",
    "    'zn':datetime.date(2011,1,1), 'au':datetime.date(2011,1,1), 'v': datetime.date(2011,1,1),\n",
    "    'a': datetime.date(2011,1,1), 'ru':datetime.date(2011,1,1), 'ag':datetime.date(2012,6,1),\n",
    "    'i': datetime.date(2014,1,1), 'j': datetime.date(2012,6,1), 'jm':datetime.date(2013,7,1),\n",
    "    'CF':datetime.date(2012,5,1),  'TA':datetime.date(2012,4,15),\n",
    "    'PM':datetime.date(2013,10,1), 'RM':datetime.date(2013,1,1),  'SR':datetime.date(2013,1,1),\n",
    "    'FG':datetime.date(2013,1,1),  'OI':datetime.date(2013,5,1),  'RI':datetime.date(2013,1,1),\n",
    "    'WH':datetime.date(2014,5,1),  'pp':datetime.date(2014,5,1),\n",
    "    'IF':datetime.date(2010,5,1),  'MA':datetime.date(2012,1,1),  'TF':datetime.date(2014,6,1),\n",
    "    'IH':datetime.date(2015,5,1),  'IC':datetime.date(2015,5,1),  'cs':datetime.date(2015,2,1),\n",
    "    'jd':datetime.date(2014,5,1),  'ni':datetime.date(2015,5,1),  'sn':datetime.date(2017,4,1),\n",
    "    'ZC':datetime.date(2013,11,1), 'hc':datetime.date(2016, 4, 1), 'SM': datetime.date(2017,1,1),\n",
    "    'SF': datetime.date(2017,9,1), 'CY': datetime.date(2017, 9, 1), 'AP': datetime.date(2018, 1, 1),\n",
    "    'TS': datetime.date(2018, 9, 1), 'fu': datetime.date(2018, 9, 1), 'sc': datetime.date(2018, 8, 1),\n",
    "    'b': datetime.date(2018, 1, 1), 'pb': datetime.date(2016, 7, 1), 'bu': datetime.date(2015,9,15),\n",
    "    'T':datetime.date(2015,6,1), 'ss': datetime.date(2020, 5, 1), 'sp': datetime.date(2019, 5, 1),\n",
    "    'CJ': datetime.date(2019, 8, 9), 'UR': datetime.date(2019, 8, 9), 'SA': datetime.date(2020, 1, 1),\n",
    "    'eb': datetime.date(2020, 1, 1), 'eg': datetime.date(2019, 5, 1), 'rr': datetime.date(2019, 9, 1),\n",
    "    'pg': datetime.date(2020, 9, 1), 'lu': datetime.date(2020, 8, 1),}"
   ]
  },
  {
   "cell_type": "code",
   "execution_count": 3,
   "metadata": {},
   "outputs": [],
   "source": [
    "def minbar_agg(df, minlist = [1500, 1930], index_col = 'datetime', field_funcs = {}):\n",
    "    from collections import OrderedDict\n",
    "    if index_col != None:\n",
    "        adf = df.reset_index().copy()\n",
    "    else:\n",
    "        adf = df.copy()\n",
    "    adf['split_idx'] = 0\n",
    "    func_dict = OrderedDict()\n",
    "    for col_name in adf.columns:\n",
    "        if type(col_name).__name__ in ['str', 'unicode']:\n",
    "            col = str(col_name.strip())\n",
    "        else:\n",
    "            col = col_name\n",
    "        if col in ['split_idx', 'instID', 'exch', 'contract', 'open', 'date', 'datetime']:\n",
    "            func_dict[col] = 'first'\n",
    "        elif (col in ['volume', 'lr', 'lr2', 'lr3', 'lr4', 'lr2_up']):\n",
    "            func_dict[col] = 'sum'\n",
    "        elif (col in ['close', 'openInterest', 'min_id', 'shift']):\n",
    "            func_dict[col] = 'last'\n",
    "        elif (col in ['high']):\n",
    "            func_dict[col] = 'max'\n",
    "        elif (col in ['low']):\n",
    "            func_dict[col] = 'min'\n",
    "        elif col in field_funcs:\n",
    "            func_dict[col] = field_funcs[col]\n",
    "    adf['min_idx'] = 0\n",
    "    for idx, mid in enumerate(minlist):\n",
    "        flag = (adf['min_id']>=mid) & ((adf['min_id'].shift(1) < mid) | (adf['date'].shift(1) < adf['date']))  \n",
    "        adf.loc[flag, 'min_idx'] = 1\n",
    "        adf.loc[flag, 'split_idx'] = idx\n",
    "    adf['cum_idx'] = adf['min_idx'].cumsum()\n",
    "    adf['split_idx'] = adf['split_idx'].fillna(method='ffill')\n",
    "    xdf = adf.groupby([adf['cum_idx']]).aggregate(func_dict)\n",
    "    for idx in ['min_idx', 'cum_idx']:\n",
    "        if idx in xdf.columns:\n",
    "            xdf.drop(idx, axis = 1, inplace=True)\n",
    "    xdf = xdf.reset_index()\n",
    "    if index_col != None:\n",
    "        xdf = xdf.set_index(index_col)\n",
    "    #xdf = xdf.sort_values(by=['date', 'min_id'])\n",
    "    return xdf\n"
   ]
  },
  {
   "cell_type": "code",
   "execution_count": 4,
   "metadata": {},
   "outputs": [
    {
     "name": "stdout",
     "output_type": "stream",
     "text": [
      "loading mkt = rb, nb = 1, args = {'roll_rule': '-30b', 'freq': 'm', 'need_shift': 1, 'dbtbl_prefix': '', 'start_date': datetime.date(2015, 1, 1), 'end_date': datetime.date(2021, 4, 7), 'n': 1}\n"
     ]
    },
    {
     "name": "stderr",
     "output_type": "stream",
     "text": [
      "C:\\Anaconda3\\lib\\site-packages\\pandas\\core\\indexing.py:1745: SettingWithCopyWarning: \n",
      "A value is trying to be set on a copy of a slice from a DataFrame.\n",
      "Try using .loc[row_indexer,col_indexer] = value instead\n",
      "\n",
      "See the caveats in the documentation: https://pandas.pydata.org/pandas-docs/stable/user_guide/indexing.html#returning-a-view-versus-a-copy\n",
      "  isetter(ilocs[0], value)\n"
     ]
    },
    {
     "name": "stdout",
     "output_type": "stream",
     "text": [
      "loading mkt = rb, nb = 2, args = {'roll_rule': '-30b', 'freq': 'm', 'need_shift': 1, 'dbtbl_prefix': '', 'start_date': datetime.date(2015, 1, 1), 'end_date': datetime.date(2021, 4, 7), 'n': 2}\n"
     ]
    },
    {
     "name": "stderr",
     "output_type": "stream",
     "text": [
      "C:\\Anaconda3\\lib\\site-packages\\pandas\\core\\indexing.py:1745: SettingWithCopyWarning: \n",
      "A value is trying to be set on a copy of a slice from a DataFrame.\n",
      "Try using .loc[row_indexer,col_indexer] = value instead\n",
      "\n",
      "See the caveats in the documentation: https://pandas.pydata.org/pandas-docs/stable/user_guide/indexing.html#returning-a-view-versus-a-copy\n",
      "  isetter(ilocs[0], value)\n"
     ]
    },
    {
     "name": "stdout",
     "output_type": "stream",
     "text": [
      "loading mkt = hc, nb = 1, args = {'roll_rule': '-30b', 'freq': 'm', 'need_shift': 1, 'dbtbl_prefix': '', 'start_date': datetime.date(2016, 4, 1), 'end_date': datetime.date(2021, 4, 7), 'n': 1}\n"
     ]
    },
    {
     "name": "stderr",
     "output_type": "stream",
     "text": [
      "C:\\Anaconda3\\lib\\site-packages\\pandas\\core\\indexing.py:1745: SettingWithCopyWarning: \n",
      "A value is trying to be set on a copy of a slice from a DataFrame.\n",
      "Try using .loc[row_indexer,col_indexer] = value instead\n",
      "\n",
      "See the caveats in the documentation: https://pandas.pydata.org/pandas-docs/stable/user_guide/indexing.html#returning-a-view-versus-a-copy\n",
      "  isetter(ilocs[0], value)\n"
     ]
    },
    {
     "name": "stdout",
     "output_type": "stream",
     "text": [
      "loading mkt = hc, nb = 2, args = {'roll_rule': '-30b', 'freq': 'm', 'need_shift': 1, 'dbtbl_prefix': '', 'start_date': datetime.date(2016, 4, 1), 'end_date': datetime.date(2021, 4, 7), 'n': 2}\n"
     ]
    },
    {
     "name": "stderr",
     "output_type": "stream",
     "text": [
      "C:\\Anaconda3\\lib\\site-packages\\pandas\\core\\indexing.py:1745: SettingWithCopyWarning: \n",
      "A value is trying to be set on a copy of a slice from a DataFrame.\n",
      "Try using .loc[row_indexer,col_indexer] = value instead\n",
      "\n",
      "See the caveats in the documentation: https://pandas.pydata.org/pandas-docs/stable/user_guide/indexing.html#returning-a-view-versus-a-copy\n",
      "  isetter(ilocs[0], value)\n"
     ]
    },
    {
     "name": "stdout",
     "output_type": "stream",
     "text": [
      "loading mkt = i, nb = 1, args = {'roll_rule': '-30b', 'freq': 'm', 'need_shift': 1, 'dbtbl_prefix': '', 'start_date': datetime.date(2015, 1, 1), 'end_date': datetime.date(2021, 4, 7), 'n': 1}\n"
     ]
    },
    {
     "name": "stderr",
     "output_type": "stream",
     "text": [
      "C:\\Anaconda3\\lib\\site-packages\\pandas\\core\\indexing.py:1745: SettingWithCopyWarning: \n",
      "A value is trying to be set on a copy of a slice from a DataFrame.\n",
      "Try using .loc[row_indexer,col_indexer] = value instead\n",
      "\n",
      "See the caveats in the documentation: https://pandas.pydata.org/pandas-docs/stable/user_guide/indexing.html#returning-a-view-versus-a-copy\n",
      "  isetter(ilocs[0], value)\n"
     ]
    },
    {
     "name": "stdout",
     "output_type": "stream",
     "text": [
      "loading mkt = i, nb = 2, args = {'roll_rule': '-30b', 'freq': 'm', 'need_shift': 1, 'dbtbl_prefix': '', 'start_date': datetime.date(2015, 1, 1), 'end_date': datetime.date(2021, 4, 7), 'n': 2}\n"
     ]
    },
    {
     "name": "stderr",
     "output_type": "stream",
     "text": [
      "C:\\Anaconda3\\lib\\site-packages\\pandas\\core\\indexing.py:1745: SettingWithCopyWarning: \n",
      "A value is trying to be set on a copy of a slice from a DataFrame.\n",
      "Try using .loc[row_indexer,col_indexer] = value instead\n",
      "\n",
      "See the caveats in the documentation: https://pandas.pydata.org/pandas-docs/stable/user_guide/indexing.html#returning-a-view-versus-a-copy\n",
      "  isetter(ilocs[0], value)\n"
     ]
    },
    {
     "name": "stdout",
     "output_type": "stream",
     "text": [
      "loading mkt = j, nb = 1, args = {'roll_rule': '-30b', 'freq': 'm', 'need_shift': 1, 'dbtbl_prefix': '', 'start_date': datetime.date(2015, 1, 1), 'end_date': datetime.date(2021, 4, 7), 'n': 1}\n"
     ]
    },
    {
     "name": "stderr",
     "output_type": "stream",
     "text": [
      "C:\\Anaconda3\\lib\\site-packages\\pandas\\core\\indexing.py:1745: SettingWithCopyWarning: \n",
      "A value is trying to be set on a copy of a slice from a DataFrame.\n",
      "Try using .loc[row_indexer,col_indexer] = value instead\n",
      "\n",
      "See the caveats in the documentation: https://pandas.pydata.org/pandas-docs/stable/user_guide/indexing.html#returning-a-view-versus-a-copy\n",
      "  isetter(ilocs[0], value)\n"
     ]
    },
    {
     "name": "stdout",
     "output_type": "stream",
     "text": [
      "loading mkt = j, nb = 2, args = {'roll_rule': '-30b', 'freq': 'm', 'need_shift': 1, 'dbtbl_prefix': '', 'start_date': datetime.date(2015, 1, 1), 'end_date': datetime.date(2021, 4, 7), 'n': 2}\n"
     ]
    },
    {
     "name": "stderr",
     "output_type": "stream",
     "text": [
      "C:\\Anaconda3\\lib\\site-packages\\pandas\\core\\indexing.py:1745: SettingWithCopyWarning: \n",
      "A value is trying to be set on a copy of a slice from a DataFrame.\n",
      "Try using .loc[row_indexer,col_indexer] = value instead\n",
      "\n",
      "See the caveats in the documentation: https://pandas.pydata.org/pandas-docs/stable/user_guide/indexing.html#returning-a-view-versus-a-copy\n",
      "  isetter(ilocs[0], value)\n"
     ]
    },
    {
     "name": "stdout",
     "output_type": "stream",
     "text": [
      "loading mkt = jm, nb = 1, args = {'roll_rule': '-30b', 'freq': 'm', 'need_shift': 1, 'dbtbl_prefix': '', 'start_date': datetime.date(2015, 1, 1), 'end_date': datetime.date(2021, 4, 7), 'n': 1}\n"
     ]
    },
    {
     "name": "stderr",
     "output_type": "stream",
     "text": [
      "C:\\Anaconda3\\lib\\site-packages\\pandas\\core\\indexing.py:1745: SettingWithCopyWarning: \n",
      "A value is trying to be set on a copy of a slice from a DataFrame.\n",
      "Try using .loc[row_indexer,col_indexer] = value instead\n",
      "\n",
      "See the caveats in the documentation: https://pandas.pydata.org/pandas-docs/stable/user_guide/indexing.html#returning-a-view-versus-a-copy\n",
      "  isetter(ilocs[0], value)\n"
     ]
    },
    {
     "name": "stdout",
     "output_type": "stream",
     "text": [
      "loading mkt = jm, nb = 2, args = {'roll_rule': '-30b', 'freq': 'm', 'need_shift': 1, 'dbtbl_prefix': '', 'start_date': datetime.date(2015, 1, 1), 'end_date': datetime.date(2021, 4, 7), 'n': 2}\n"
     ]
    },
    {
     "name": "stderr",
     "output_type": "stream",
     "text": [
      "C:\\Anaconda3\\lib\\site-packages\\pandas\\core\\indexing.py:1745: SettingWithCopyWarning: \n",
      "A value is trying to be set on a copy of a slice from a DataFrame.\n",
      "Try using .loc[row_indexer,col_indexer] = value instead\n",
      "\n",
      "See the caveats in the documentation: https://pandas.pydata.org/pandas-docs/stable/user_guide/indexing.html#returning-a-view-versus-a-copy\n",
      "  isetter(ilocs[0], value)\n"
     ]
    },
    {
     "name": "stdout",
     "output_type": "stream",
     "text": [
      "loading mkt = ru, nb = 1, args = {'roll_rule': '-30b', 'freq': 'm', 'need_shift': 1, 'dbtbl_prefix': '', 'start_date': datetime.date(2015, 1, 1), 'end_date': datetime.date(2021, 4, 7), 'n': 1}\n"
     ]
    },
    {
     "name": "stderr",
     "output_type": "stream",
     "text": [
      "C:\\Anaconda3\\lib\\site-packages\\pandas\\core\\indexing.py:1745: SettingWithCopyWarning: \n",
      "A value is trying to be set on a copy of a slice from a DataFrame.\n",
      "Try using .loc[row_indexer,col_indexer] = value instead\n",
      "\n",
      "See the caveats in the documentation: https://pandas.pydata.org/pandas-docs/stable/user_guide/indexing.html#returning-a-view-versus-a-copy\n",
      "  isetter(ilocs[0], value)\n"
     ]
    },
    {
     "name": "stdout",
     "output_type": "stream",
     "text": [
      "loading mkt = ru, nb = 2, args = {'roll_rule': '-30b', 'freq': 'm', 'need_shift': 1, 'dbtbl_prefix': '', 'start_date': datetime.date(2015, 1, 1), 'end_date': datetime.date(2021, 4, 7), 'n': 2}\n"
     ]
    },
    {
     "name": "stderr",
     "output_type": "stream",
     "text": [
      "C:\\Anaconda3\\lib\\site-packages\\pandas\\core\\indexing.py:1745: SettingWithCopyWarning: \n",
      "A value is trying to be set on a copy of a slice from a DataFrame.\n",
      "Try using .loc[row_indexer,col_indexer] = value instead\n",
      "\n",
      "See the caveats in the documentation: https://pandas.pydata.org/pandas-docs/stable/user_guide/indexing.html#returning-a-view-versus-a-copy\n",
      "  isetter(ilocs[0], value)\n"
     ]
    },
    {
     "name": "stdout",
     "output_type": "stream",
     "text": [
      "loading mkt = FG, nb = 1, args = {'roll_rule': '-30b', 'freq': 'm', 'need_shift': 1, 'dbtbl_prefix': '', 'start_date': datetime.date(2015, 1, 1), 'end_date': datetime.date(2021, 4, 7), 'n': 1}\n"
     ]
    },
    {
     "name": "stderr",
     "output_type": "stream",
     "text": [
      "C:\\Anaconda3\\lib\\site-packages\\pandas\\core\\indexing.py:1745: SettingWithCopyWarning: \n",
      "A value is trying to be set on a copy of a slice from a DataFrame.\n",
      "Try using .loc[row_indexer,col_indexer] = value instead\n",
      "\n",
      "See the caveats in the documentation: https://pandas.pydata.org/pandas-docs/stable/user_guide/indexing.html#returning-a-view-versus-a-copy\n",
      "  isetter(ilocs[0], value)\n"
     ]
    },
    {
     "name": "stdout",
     "output_type": "stream",
     "text": [
      "loading mkt = FG, nb = 2, args = {'roll_rule': '-30b', 'freq': 'm', 'need_shift': 1, 'dbtbl_prefix': '', 'start_date': datetime.date(2015, 1, 1), 'end_date': datetime.date(2021, 4, 7), 'n': 2}\n"
     ]
    },
    {
     "name": "stderr",
     "output_type": "stream",
     "text": [
      "C:\\Anaconda3\\lib\\site-packages\\pandas\\core\\indexing.py:1745: SettingWithCopyWarning: \n",
      "A value is trying to be set on a copy of a slice from a DataFrame.\n",
      "Try using .loc[row_indexer,col_indexer] = value instead\n",
      "\n",
      "See the caveats in the documentation: https://pandas.pydata.org/pandas-docs/stable/user_guide/indexing.html#returning-a-view-versus-a-copy\n",
      "  isetter(ilocs[0], value)\n"
     ]
    },
    {
     "name": "stdout",
     "output_type": "stream",
     "text": [
      "loading mkt = ZC, nb = 1, args = {'roll_rule': '-30b', 'freq': 'm', 'need_shift': 1, 'dbtbl_prefix': '', 'start_date': datetime.date(2015, 1, 1), 'end_date': datetime.date(2021, 4, 7), 'n': 1}\n"
     ]
    },
    {
     "name": "stderr",
     "output_type": "stream",
     "text": [
      "C:\\Anaconda3\\lib\\site-packages\\pandas\\core\\indexing.py:1745: SettingWithCopyWarning: \n",
      "A value is trying to be set on a copy of a slice from a DataFrame.\n",
      "Try using .loc[row_indexer,col_indexer] = value instead\n",
      "\n",
      "See the caveats in the documentation: https://pandas.pydata.org/pandas-docs/stable/user_guide/indexing.html#returning-a-view-versus-a-copy\n",
      "  isetter(ilocs[0], value)\n"
     ]
    },
    {
     "name": "stdout",
     "output_type": "stream",
     "text": [
      "loading mkt = ZC, nb = 2, args = {'roll_rule': '-30b', 'freq': 'm', 'need_shift': 1, 'dbtbl_prefix': '', 'start_date': datetime.date(2015, 1, 1), 'end_date': datetime.date(2021, 4, 7), 'n': 2}\n"
     ]
    },
    {
     "name": "stderr",
     "output_type": "stream",
     "text": [
      "C:\\Anaconda3\\lib\\site-packages\\pandas\\core\\indexing.py:1745: SettingWithCopyWarning: \n",
      "A value is trying to be set on a copy of a slice from a DataFrame.\n",
      "Try using .loc[row_indexer,col_indexer] = value instead\n",
      "\n",
      "See the caveats in the documentation: https://pandas.pydata.org/pandas-docs/stable/user_guide/indexing.html#returning-a-view-versus-a-copy\n",
      "  isetter(ilocs[0], value)\n"
     ]
    },
    {
     "name": "stdout",
     "output_type": "stream",
     "text": [
      "loading mkt = SM, nb = 1, args = {'roll_rule': '-30b', 'freq': 'm', 'need_shift': 1, 'dbtbl_prefix': '', 'start_date': datetime.date(2017, 1, 1), 'end_date': datetime.date(2021, 4, 7), 'n': 1}\n",
      "loading mkt = SM, nb = 2, args = {'roll_rule': '-30b', 'freq': 'm', 'need_shift': 1, 'dbtbl_prefix': '', 'start_date': datetime.date(2017, 1, 1), 'end_date': datetime.date(2021, 4, 7), 'n': 2}\n",
      "loading mkt = SF, nb = 1, args = {'roll_rule': '-30b', 'freq': 'm', 'need_shift': 1, 'dbtbl_prefix': '', 'start_date': datetime.date(2017, 9, 1), 'end_date': datetime.date(2021, 4, 7), 'n': 1}\n",
      "loading mkt = SF, nb = 2, args = {'roll_rule': '-30b', 'freq': 'm', 'need_shift': 1, 'dbtbl_prefix': '', 'start_date': datetime.date(2017, 9, 1), 'end_date': datetime.date(2021, 4, 7), 'n': 2}\n",
      "loading mkt = cu, nb = 1, args = {'roll_rule': '-30b', 'freq': 'm', 'need_shift': 1, 'dbtbl_prefix': '', 'start_date': datetime.date(2015, 1, 1), 'end_date': datetime.date(2021, 4, 7), 'n': 1}\n"
     ]
    },
    {
     "name": "stderr",
     "output_type": "stream",
     "text": [
      "C:\\Anaconda3\\lib\\site-packages\\pandas\\core\\indexing.py:1745: SettingWithCopyWarning: \n",
      "A value is trying to be set on a copy of a slice from a DataFrame.\n",
      "Try using .loc[row_indexer,col_indexer] = value instead\n",
      "\n",
      "See the caveats in the documentation: https://pandas.pydata.org/pandas-docs/stable/user_guide/indexing.html#returning-a-view-versus-a-copy\n",
      "  isetter(ilocs[0], value)\n"
     ]
    },
    {
     "name": "stdout",
     "output_type": "stream",
     "text": [
      "loading mkt = cu, nb = 2, args = {'roll_rule': '-30b', 'freq': 'm', 'need_shift': 1, 'dbtbl_prefix': '', 'start_date': datetime.date(2015, 1, 1), 'end_date': datetime.date(2021, 4, 7), 'n': 2}\n"
     ]
    },
    {
     "name": "stderr",
     "output_type": "stream",
     "text": [
      "C:\\Anaconda3\\lib\\site-packages\\pandas\\core\\indexing.py:1745: SettingWithCopyWarning: \n",
      "A value is trying to be set on a copy of a slice from a DataFrame.\n",
      "Try using .loc[row_indexer,col_indexer] = value instead\n",
      "\n",
      "See the caveats in the documentation: https://pandas.pydata.org/pandas-docs/stable/user_guide/indexing.html#returning-a-view-versus-a-copy\n",
      "  isetter(ilocs[0], value)\n"
     ]
    },
    {
     "name": "stdout",
     "output_type": "stream",
     "text": [
      "loading mkt = al, nb = 1, args = {'roll_rule': '-30b', 'freq': 'm', 'need_shift': 1, 'dbtbl_prefix': '', 'start_date': datetime.date(2015, 1, 1), 'end_date': datetime.date(2021, 4, 7), 'n': 1}\n"
     ]
    },
    {
     "name": "stderr",
     "output_type": "stream",
     "text": [
      "C:\\Anaconda3\\lib\\site-packages\\pandas\\core\\indexing.py:1745: SettingWithCopyWarning: \n",
      "A value is trying to be set on a copy of a slice from a DataFrame.\n",
      "Try using .loc[row_indexer,col_indexer] = value instead\n",
      "\n",
      "See the caveats in the documentation: https://pandas.pydata.org/pandas-docs/stable/user_guide/indexing.html#returning-a-view-versus-a-copy\n",
      "  isetter(ilocs[0], value)\n"
     ]
    },
    {
     "name": "stdout",
     "output_type": "stream",
     "text": [
      "loading mkt = al, nb = 2, args = {'roll_rule': '-30b', 'freq': 'm', 'need_shift': 1, 'dbtbl_prefix': '', 'start_date': datetime.date(2015, 1, 1), 'end_date': datetime.date(2021, 4, 7), 'n': 2}\n"
     ]
    },
    {
     "name": "stderr",
     "output_type": "stream",
     "text": [
      "C:\\Anaconda3\\lib\\site-packages\\pandas\\core\\indexing.py:1745: SettingWithCopyWarning: \n",
      "A value is trying to be set on a copy of a slice from a DataFrame.\n",
      "Try using .loc[row_indexer,col_indexer] = value instead\n",
      "\n",
      "See the caveats in the documentation: https://pandas.pydata.org/pandas-docs/stable/user_guide/indexing.html#returning-a-view-versus-a-copy\n",
      "  isetter(ilocs[0], value)\n"
     ]
    },
    {
     "name": "stdout",
     "output_type": "stream",
     "text": [
      "loading mkt = zn, nb = 1, args = {'roll_rule': '-30b', 'freq': 'm', 'need_shift': 1, 'dbtbl_prefix': '', 'start_date': datetime.date(2015, 1, 1), 'end_date': datetime.date(2021, 4, 7), 'n': 1}\n"
     ]
    },
    {
     "name": "stderr",
     "output_type": "stream",
     "text": [
      "C:\\Anaconda3\\lib\\site-packages\\pandas\\core\\indexing.py:1745: SettingWithCopyWarning: \n",
      "A value is trying to be set on a copy of a slice from a DataFrame.\n",
      "Try using .loc[row_indexer,col_indexer] = value instead\n",
      "\n",
      "See the caveats in the documentation: https://pandas.pydata.org/pandas-docs/stable/user_guide/indexing.html#returning-a-view-versus-a-copy\n",
      "  isetter(ilocs[0], value)\n"
     ]
    },
    {
     "name": "stdout",
     "output_type": "stream",
     "text": [
      "loading mkt = zn, nb = 2, args = {'roll_rule': '-30b', 'freq': 'm', 'need_shift': 1, 'dbtbl_prefix': '', 'start_date': datetime.date(2015, 1, 1), 'end_date': datetime.date(2021, 4, 7), 'n': 2}\n"
     ]
    },
    {
     "name": "stderr",
     "output_type": "stream",
     "text": [
      "C:\\Anaconda3\\lib\\site-packages\\pandas\\core\\indexing.py:1745: SettingWithCopyWarning: \n",
      "A value is trying to be set on a copy of a slice from a DataFrame.\n",
      "Try using .loc[row_indexer,col_indexer] = value instead\n",
      "\n",
      "See the caveats in the documentation: https://pandas.pydata.org/pandas-docs/stable/user_guide/indexing.html#returning-a-view-versus-a-copy\n",
      "  isetter(ilocs[0], value)\n"
     ]
    },
    {
     "name": "stdout",
     "output_type": "stream",
     "text": [
      "loading mkt = pb, nb = 1, args = {'roll_rule': '-30b', 'freq': 'm', 'need_shift': 1, 'dbtbl_prefix': '', 'start_date': datetime.date(2016, 7, 1), 'end_date': datetime.date(2021, 4, 7), 'n': 1}\n"
     ]
    },
    {
     "name": "stderr",
     "output_type": "stream",
     "text": [
      "C:\\Anaconda3\\lib\\site-packages\\pandas\\core\\indexing.py:1745: SettingWithCopyWarning: \n",
      "A value is trying to be set on a copy of a slice from a DataFrame.\n",
      "Try using .loc[row_indexer,col_indexer] = value instead\n",
      "\n",
      "See the caveats in the documentation: https://pandas.pydata.org/pandas-docs/stable/user_guide/indexing.html#returning-a-view-versus-a-copy\n",
      "  isetter(ilocs[0], value)\n"
     ]
    },
    {
     "name": "stdout",
     "output_type": "stream",
     "text": [
      "loading mkt = pb, nb = 2, args = {'roll_rule': '-30b', 'freq': 'm', 'need_shift': 1, 'dbtbl_prefix': '', 'start_date': datetime.date(2016, 7, 1), 'end_date': datetime.date(2021, 4, 7), 'n': 2}\n"
     ]
    },
    {
     "name": "stderr",
     "output_type": "stream",
     "text": [
      "C:\\Anaconda3\\lib\\site-packages\\pandas\\core\\indexing.py:1745: SettingWithCopyWarning: \n",
      "A value is trying to be set on a copy of a slice from a DataFrame.\n",
      "Try using .loc[row_indexer,col_indexer] = value instead\n",
      "\n",
      "See the caveats in the documentation: https://pandas.pydata.org/pandas-docs/stable/user_guide/indexing.html#returning-a-view-versus-a-copy\n",
      "  isetter(ilocs[0], value)\n"
     ]
    },
    {
     "name": "stdout",
     "output_type": "stream",
     "text": [
      "loading mkt = ni, nb = 1, args = {'roll_rule': '-40b', 'freq': 'm', 'need_shift': 1, 'dbtbl_prefix': '', 'start_date': datetime.date(2015, 5, 1), 'end_date': datetime.date(2021, 4, 7), 'n': 1}\n"
     ]
    },
    {
     "name": "stderr",
     "output_type": "stream",
     "text": [
      "C:\\Anaconda3\\lib\\site-packages\\pandas\\core\\indexing.py:1745: SettingWithCopyWarning: \n",
      "A value is trying to be set on a copy of a slice from a DataFrame.\n",
      "Try using .loc[row_indexer,col_indexer] = value instead\n",
      "\n",
      "See the caveats in the documentation: https://pandas.pydata.org/pandas-docs/stable/user_guide/indexing.html#returning-a-view-versus-a-copy\n",
      "  isetter(ilocs[0], value)\n"
     ]
    },
    {
     "name": "stdout",
     "output_type": "stream",
     "text": [
      "loading mkt = ni, nb = 2, args = {'roll_rule': '-40b', 'freq': 'm', 'need_shift': 1, 'dbtbl_prefix': '', 'start_date': datetime.date(2015, 5, 1), 'end_date': datetime.date(2021, 4, 7), 'n': 2}\n"
     ]
    },
    {
     "name": "stderr",
     "output_type": "stream",
     "text": [
      "C:\\Anaconda3\\lib\\site-packages\\pandas\\core\\indexing.py:1745: SettingWithCopyWarning: \n",
      "A value is trying to be set on a copy of a slice from a DataFrame.\n",
      "Try using .loc[row_indexer,col_indexer] = value instead\n",
      "\n",
      "See the caveats in the documentation: https://pandas.pydata.org/pandas-docs/stable/user_guide/indexing.html#returning-a-view-versus-a-copy\n",
      "  isetter(ilocs[0], value)\n"
     ]
    },
    {
     "name": "stdout",
     "output_type": "stream",
     "text": [
      "loading mkt = sn, nb = 1, args = {'roll_rule': '-30b', 'freq': 'm', 'need_shift': 1, 'dbtbl_prefix': '', 'start_date': datetime.date(2017, 4, 1), 'end_date': datetime.date(2021, 4, 7), 'n': 1}\n",
      "continuous contract stopped at sn2005 for start = 2019-12-27, expiry= 2019-12-23\n"
     ]
    },
    {
     "name": "stderr",
     "output_type": "stream",
     "text": [
      "C:\\Anaconda3\\lib\\site-packages\\pandas\\core\\indexing.py:1745: SettingWithCopyWarning: \n",
      "A value is trying to be set on a copy of a slice from a DataFrame.\n",
      "Try using .loc[row_indexer,col_indexer] = value instead\n",
      "\n",
      "See the caveats in the documentation: https://pandas.pydata.org/pandas-docs/stable/user_guide/indexing.html#returning-a-view-versus-a-copy\n",
      "  isetter(ilocs[0], value)\n"
     ]
    },
    {
     "name": "stdout",
     "output_type": "stream",
     "text": [
      "loading mkt = sn, nb = 2, args = {'roll_rule': '-30b', 'freq': 'm', 'need_shift': 1, 'dbtbl_prefix': '', 'start_date': datetime.date(2017, 4, 1), 'end_date': datetime.date(2021, 4, 7), 'n': 2}\n",
      "continuous contract stopped at sn2006 for start = 2019-12-27, expiry= 2019-12-23\n"
     ]
    },
    {
     "name": "stderr",
     "output_type": "stream",
     "text": [
      "C:\\Anaconda3\\lib\\site-packages\\pandas\\core\\indexing.py:1745: SettingWithCopyWarning: \n",
      "A value is trying to be set on a copy of a slice from a DataFrame.\n",
      "Try using .loc[row_indexer,col_indexer] = value instead\n",
      "\n",
      "See the caveats in the documentation: https://pandas.pydata.org/pandas-docs/stable/user_guide/indexing.html#returning-a-view-versus-a-copy\n",
      "  isetter(ilocs[0], value)\n"
     ]
    },
    {
     "name": "stdout",
     "output_type": "stream",
     "text": [
      "loading mkt = l, nb = 1, args = {'roll_rule': '-30b', 'freq': 'm', 'need_shift': 1, 'dbtbl_prefix': '', 'start_date': datetime.date(2015, 1, 1), 'end_date': datetime.date(2021, 4, 7), 'n': 1}\n"
     ]
    },
    {
     "name": "stderr",
     "output_type": "stream",
     "text": [
      "C:\\Anaconda3\\lib\\site-packages\\pandas\\core\\indexing.py:1745: SettingWithCopyWarning: \n",
      "A value is trying to be set on a copy of a slice from a DataFrame.\n",
      "Try using .loc[row_indexer,col_indexer] = value instead\n",
      "\n",
      "See the caveats in the documentation: https://pandas.pydata.org/pandas-docs/stable/user_guide/indexing.html#returning-a-view-versus-a-copy\n",
      "  isetter(ilocs[0], value)\n"
     ]
    },
    {
     "name": "stdout",
     "output_type": "stream",
     "text": [
      "loading mkt = l, nb = 2, args = {'roll_rule': '-30b', 'freq': 'm', 'need_shift': 1, 'dbtbl_prefix': '', 'start_date': datetime.date(2015, 1, 1), 'end_date': datetime.date(2021, 4, 7), 'n': 2}\n"
     ]
    },
    {
     "name": "stderr",
     "output_type": "stream",
     "text": [
      "C:\\Anaconda3\\lib\\site-packages\\pandas\\core\\indexing.py:1745: SettingWithCopyWarning: \n",
      "A value is trying to be set on a copy of a slice from a DataFrame.\n",
      "Try using .loc[row_indexer,col_indexer] = value instead\n",
      "\n",
      "See the caveats in the documentation: https://pandas.pydata.org/pandas-docs/stable/user_guide/indexing.html#returning-a-view-versus-a-copy\n",
      "  isetter(ilocs[0], value)\n"
     ]
    },
    {
     "name": "stdout",
     "output_type": "stream",
     "text": [
      "loading mkt = pp, nb = 1, args = {'roll_rule': '-30b', 'freq': 'm', 'need_shift': 1, 'dbtbl_prefix': '', 'start_date': datetime.date(2015, 1, 1), 'end_date': datetime.date(2021, 4, 7), 'n': 1}\n"
     ]
    },
    {
     "name": "stderr",
     "output_type": "stream",
     "text": [
      "C:\\Anaconda3\\lib\\site-packages\\pandas\\core\\indexing.py:1745: SettingWithCopyWarning: \n",
      "A value is trying to be set on a copy of a slice from a DataFrame.\n",
      "Try using .loc[row_indexer,col_indexer] = value instead\n",
      "\n",
      "See the caveats in the documentation: https://pandas.pydata.org/pandas-docs/stable/user_guide/indexing.html#returning-a-view-versus-a-copy\n",
      "  isetter(ilocs[0], value)\n"
     ]
    },
    {
     "name": "stdout",
     "output_type": "stream",
     "text": [
      "loading mkt = pp, nb = 2, args = {'roll_rule': '-30b', 'freq': 'm', 'need_shift': 1, 'dbtbl_prefix': '', 'start_date': datetime.date(2015, 1, 1), 'end_date': datetime.date(2021, 4, 7), 'n': 2}\n"
     ]
    },
    {
     "name": "stderr",
     "output_type": "stream",
     "text": [
      "C:\\Anaconda3\\lib\\site-packages\\pandas\\core\\indexing.py:1745: SettingWithCopyWarning: \n",
      "A value is trying to be set on a copy of a slice from a DataFrame.\n",
      "Try using .loc[row_indexer,col_indexer] = value instead\n",
      "\n",
      "See the caveats in the documentation: https://pandas.pydata.org/pandas-docs/stable/user_guide/indexing.html#returning-a-view-versus-a-copy\n",
      "  isetter(ilocs[0], value)\n"
     ]
    },
    {
     "name": "stdout",
     "output_type": "stream",
     "text": [
      "loading mkt = v, nb = 1, args = {'roll_rule': '-28b', 'freq': 'm', 'need_shift': 1, 'dbtbl_prefix': '', 'start_date': datetime.date(2015, 1, 1), 'end_date': datetime.date(2021, 4, 7), 'n': 1}\n"
     ]
    },
    {
     "name": "stderr",
     "output_type": "stream",
     "text": [
      "C:\\Anaconda3\\lib\\site-packages\\pandas\\core\\indexing.py:1745: SettingWithCopyWarning: \n",
      "A value is trying to be set on a copy of a slice from a DataFrame.\n",
      "Try using .loc[row_indexer,col_indexer] = value instead\n",
      "\n",
      "See the caveats in the documentation: https://pandas.pydata.org/pandas-docs/stable/user_guide/indexing.html#returning-a-view-versus-a-copy\n",
      "  isetter(ilocs[0], value)\n"
     ]
    },
    {
     "name": "stdout",
     "output_type": "stream",
     "text": [
      "loading mkt = v, nb = 2, args = {'roll_rule': '-28b', 'freq': 'm', 'need_shift': 1, 'dbtbl_prefix': '', 'start_date': datetime.date(2015, 1, 1), 'end_date': datetime.date(2021, 4, 7), 'n': 2}\n"
     ]
    },
    {
     "name": "stderr",
     "output_type": "stream",
     "text": [
      "C:\\Anaconda3\\lib\\site-packages\\pandas\\core\\indexing.py:1745: SettingWithCopyWarning: \n",
      "A value is trying to be set on a copy of a slice from a DataFrame.\n",
      "Try using .loc[row_indexer,col_indexer] = value instead\n",
      "\n",
      "See the caveats in the documentation: https://pandas.pydata.org/pandas-docs/stable/user_guide/indexing.html#returning-a-view-versus-a-copy\n",
      "  isetter(ilocs[0], value)\n"
     ]
    },
    {
     "name": "stdout",
     "output_type": "stream",
     "text": [
      "loading mkt = TA, nb = 1, args = {'roll_rule': '-30b', 'freq': 'm', 'need_shift': 1, 'dbtbl_prefix': '', 'start_date': datetime.date(2015, 1, 1), 'end_date': datetime.date(2021, 4, 7), 'n': 1}\n"
     ]
    },
    {
     "name": "stderr",
     "output_type": "stream",
     "text": [
      "C:\\Anaconda3\\lib\\site-packages\\pandas\\core\\indexing.py:1745: SettingWithCopyWarning: \n",
      "A value is trying to be set on a copy of a slice from a DataFrame.\n",
      "Try using .loc[row_indexer,col_indexer] = value instead\n",
      "\n",
      "See the caveats in the documentation: https://pandas.pydata.org/pandas-docs/stable/user_guide/indexing.html#returning-a-view-versus-a-copy\n",
      "  isetter(ilocs[0], value)\n"
     ]
    },
    {
     "name": "stdout",
     "output_type": "stream",
     "text": [
      "loading mkt = TA, nb = 2, args = {'roll_rule': '-30b', 'freq': 'm', 'need_shift': 1, 'dbtbl_prefix': '', 'start_date': datetime.date(2015, 1, 1), 'end_date': datetime.date(2021, 4, 7), 'n': 2}\n"
     ]
    },
    {
     "name": "stderr",
     "output_type": "stream",
     "text": [
      "C:\\Anaconda3\\lib\\site-packages\\pandas\\core\\indexing.py:1745: SettingWithCopyWarning: \n",
      "A value is trying to be set on a copy of a slice from a DataFrame.\n",
      "Try using .loc[row_indexer,col_indexer] = value instead\n",
      "\n",
      "See the caveats in the documentation: https://pandas.pydata.org/pandas-docs/stable/user_guide/indexing.html#returning-a-view-versus-a-copy\n",
      "  isetter(ilocs[0], value)\n"
     ]
    },
    {
     "name": "stdout",
     "output_type": "stream",
     "text": [
      "loading mkt = MA, nb = 1, args = {'roll_rule': '-30b', 'freq': 'm', 'need_shift': 1, 'dbtbl_prefix': '', 'start_date': datetime.date(2015, 1, 1), 'end_date': datetime.date(2021, 4, 7), 'n': 1}\n"
     ]
    },
    {
     "name": "stderr",
     "output_type": "stream",
     "text": [
      "C:\\Anaconda3\\lib\\site-packages\\pandas\\core\\indexing.py:1745: SettingWithCopyWarning: \n",
      "A value is trying to be set on a copy of a slice from a DataFrame.\n",
      "Try using .loc[row_indexer,col_indexer] = value instead\n",
      "\n",
      "See the caveats in the documentation: https://pandas.pydata.org/pandas-docs/stable/user_guide/indexing.html#returning-a-view-versus-a-copy\n",
      "  isetter(ilocs[0], value)\n"
     ]
    },
    {
     "name": "stdout",
     "output_type": "stream",
     "text": [
      "loading mkt = MA, nb = 2, args = {'roll_rule': '-30b', 'freq': 'm', 'need_shift': 1, 'dbtbl_prefix': '', 'start_date': datetime.date(2015, 1, 1), 'end_date': datetime.date(2021, 4, 7), 'n': 2}\n"
     ]
    },
    {
     "name": "stderr",
     "output_type": "stream",
     "text": [
      "C:\\Anaconda3\\lib\\site-packages\\pandas\\core\\indexing.py:1745: SettingWithCopyWarning: \n",
      "A value is trying to be set on a copy of a slice from a DataFrame.\n",
      "Try using .loc[row_indexer,col_indexer] = value instead\n",
      "\n",
      "See the caveats in the documentation: https://pandas.pydata.org/pandas-docs/stable/user_guide/indexing.html#returning-a-view-versus-a-copy\n",
      "  isetter(ilocs[0], value)\n"
     ]
    },
    {
     "name": "stdout",
     "output_type": "stream",
     "text": [
      "loading mkt = bu, nb = 1, args = {'roll_rule': '-30b', 'freq': 'm', 'need_shift': 1, 'dbtbl_prefix': '', 'start_date': datetime.date(2015, 9, 15), 'end_date': datetime.date(2021, 4, 7), 'n': 1}\n"
     ]
    },
    {
     "name": "stderr",
     "output_type": "stream",
     "text": [
      "C:\\Anaconda3\\lib\\site-packages\\pandas\\core\\indexing.py:1745: SettingWithCopyWarning: \n",
      "A value is trying to be set on a copy of a slice from a DataFrame.\n",
      "Try using .loc[row_indexer,col_indexer] = value instead\n",
      "\n",
      "See the caveats in the documentation: https://pandas.pydata.org/pandas-docs/stable/user_guide/indexing.html#returning-a-view-versus-a-copy\n",
      "  isetter(ilocs[0], value)\n"
     ]
    },
    {
     "name": "stdout",
     "output_type": "stream",
     "text": [
      "loading mkt = bu, nb = 2, args = {'roll_rule': '-30b', 'freq': 'm', 'need_shift': 1, 'dbtbl_prefix': '', 'start_date': datetime.date(2015, 9, 15), 'end_date': datetime.date(2021, 4, 7), 'n': 2}\n"
     ]
    },
    {
     "name": "stderr",
     "output_type": "stream",
     "text": [
      "C:\\Anaconda3\\lib\\site-packages\\pandas\\core\\indexing.py:1745: SettingWithCopyWarning: \n",
      "A value is trying to be set on a copy of a slice from a DataFrame.\n",
      "Try using .loc[row_indexer,col_indexer] = value instead\n",
      "\n",
      "See the caveats in the documentation: https://pandas.pydata.org/pandas-docs/stable/user_guide/indexing.html#returning-a-view-versus-a-copy\n",
      "  isetter(ilocs[0], value)\n"
     ]
    },
    {
     "name": "stdout",
     "output_type": "stream",
     "text": [
      "loading mkt = sc, nb = 1, args = {'roll_rule': '-20b', 'freq': 'm', 'need_shift': 1, 'dbtbl_prefix': '', 'start_date': datetime.date(2018, 8, 1), 'end_date': datetime.date(2021, 4, 7), 'n': 1}\n"
     ]
    },
    {
     "name": "stderr",
     "output_type": "stream",
     "text": [
      "C:\\Anaconda3\\lib\\site-packages\\pandas\\core\\indexing.py:1745: SettingWithCopyWarning: \n",
      "A value is trying to be set on a copy of a slice from a DataFrame.\n",
      "Try using .loc[row_indexer,col_indexer] = value instead\n",
      "\n",
      "See the caveats in the documentation: https://pandas.pydata.org/pandas-docs/stable/user_guide/indexing.html#returning-a-view-versus-a-copy\n",
      "  isetter(ilocs[0], value)\n"
     ]
    },
    {
     "name": "stdout",
     "output_type": "stream",
     "text": [
      "loading mkt = sc, nb = 2, args = {'roll_rule': '-20b', 'freq': 'm', 'need_shift': 1, 'dbtbl_prefix': '', 'start_date': datetime.date(2018, 8, 1), 'end_date': datetime.date(2021, 4, 7), 'n': 2}\n"
     ]
    },
    {
     "name": "stderr",
     "output_type": "stream",
     "text": [
      "C:\\Anaconda3\\lib\\site-packages\\pandas\\core\\indexing.py:1745: SettingWithCopyWarning: \n",
      "A value is trying to be set on a copy of a slice from a DataFrame.\n",
      "Try using .loc[row_indexer,col_indexer] = value instead\n",
      "\n",
      "See the caveats in the documentation: https://pandas.pydata.org/pandas-docs/stable/user_guide/indexing.html#returning-a-view-versus-a-copy\n",
      "  isetter(ilocs[0], value)\n"
     ]
    },
    {
     "name": "stdout",
     "output_type": "stream",
     "text": [
      "loading mkt = fu, nb = 1, args = {'roll_rule': '-30b', 'freq': 'm', 'need_shift': 1, 'dbtbl_prefix': '', 'start_date': datetime.date(2018, 9, 1), 'end_date': datetime.date(2021, 4, 7), 'n': 1}\n"
     ]
    },
    {
     "name": "stderr",
     "output_type": "stream",
     "text": [
      "C:\\Anaconda3\\lib\\site-packages\\pandas\\core\\indexing.py:1745: SettingWithCopyWarning: \n",
      "A value is trying to be set on a copy of a slice from a DataFrame.\n",
      "Try using .loc[row_indexer,col_indexer] = value instead\n",
      "\n",
      "See the caveats in the documentation: https://pandas.pydata.org/pandas-docs/stable/user_guide/indexing.html#returning-a-view-versus-a-copy\n",
      "  isetter(ilocs[0], value)\n"
     ]
    },
    {
     "name": "stdout",
     "output_type": "stream",
     "text": [
      "loading mkt = fu, nb = 2, args = {'roll_rule': '-30b', 'freq': 'm', 'need_shift': 1, 'dbtbl_prefix': '', 'start_date': datetime.date(2018, 9, 1), 'end_date': datetime.date(2021, 4, 7), 'n': 2}\n"
     ]
    },
    {
     "name": "stderr",
     "output_type": "stream",
     "text": [
      "C:\\Anaconda3\\lib\\site-packages\\pandas\\core\\indexing.py:1745: SettingWithCopyWarning: \n",
      "A value is trying to be set on a copy of a slice from a DataFrame.\n",
      "Try using .loc[row_indexer,col_indexer] = value instead\n",
      "\n",
      "See the caveats in the documentation: https://pandas.pydata.org/pandas-docs/stable/user_guide/indexing.html#returning-a-view-versus-a-copy\n",
      "  isetter(ilocs[0], value)\n"
     ]
    },
    {
     "name": "stdout",
     "output_type": "stream",
     "text": [
      "loading mkt = eg, nb = 1, args = {'roll_rule': '-30b', 'freq': 'm', 'need_shift': 1, 'dbtbl_prefix': '', 'start_date': datetime.date(2019, 5, 1), 'end_date': datetime.date(2021, 4, 7), 'n': 1}\n"
     ]
    },
    {
     "name": "stderr",
     "output_type": "stream",
     "text": [
      "C:\\Anaconda3\\lib\\site-packages\\pandas\\core\\indexing.py:1745: SettingWithCopyWarning: \n",
      "A value is trying to be set on a copy of a slice from a DataFrame.\n",
      "Try using .loc[row_indexer,col_indexer] = value instead\n",
      "\n",
      "See the caveats in the documentation: https://pandas.pydata.org/pandas-docs/stable/user_guide/indexing.html#returning-a-view-versus-a-copy\n",
      "  isetter(ilocs[0], value)\n"
     ]
    },
    {
     "name": "stdout",
     "output_type": "stream",
     "text": [
      "loading mkt = eg, nb = 2, args = {'roll_rule': '-30b', 'freq': 'm', 'need_shift': 1, 'dbtbl_prefix': '', 'start_date': datetime.date(2019, 5, 1), 'end_date': datetime.date(2021, 4, 7), 'n': 2}\n"
     ]
    },
    {
     "name": "stderr",
     "output_type": "stream",
     "text": [
      "C:\\Anaconda3\\lib\\site-packages\\pandas\\core\\indexing.py:1745: SettingWithCopyWarning: \n",
      "A value is trying to be set on a copy of a slice from a DataFrame.\n",
      "Try using .loc[row_indexer,col_indexer] = value instead\n",
      "\n",
      "See the caveats in the documentation: https://pandas.pydata.org/pandas-docs/stable/user_guide/indexing.html#returning-a-view-versus-a-copy\n",
      "  isetter(ilocs[0], value)\n"
     ]
    },
    {
     "name": "stdout",
     "output_type": "stream",
     "text": [
      "loading mkt = m, nb = 1, args = {'roll_rule': '-30b', 'freq': 'm', 'need_shift': 1, 'dbtbl_prefix': '', 'start_date': datetime.date(2015, 1, 1), 'end_date': datetime.date(2021, 4, 7), 'n': 1}\n"
     ]
    },
    {
     "name": "stderr",
     "output_type": "stream",
     "text": [
      "C:\\Anaconda3\\lib\\site-packages\\pandas\\core\\indexing.py:1745: SettingWithCopyWarning: \n",
      "A value is trying to be set on a copy of a slice from a DataFrame.\n",
      "Try using .loc[row_indexer,col_indexer] = value instead\n",
      "\n",
      "See the caveats in the documentation: https://pandas.pydata.org/pandas-docs/stable/user_guide/indexing.html#returning-a-view-versus-a-copy\n",
      "  isetter(ilocs[0], value)\n"
     ]
    },
    {
     "name": "stdout",
     "output_type": "stream",
     "text": [
      "loading mkt = m, nb = 2, args = {'roll_rule': '-30b', 'freq': 'm', 'need_shift': 1, 'dbtbl_prefix': '', 'start_date': datetime.date(2015, 1, 1), 'end_date': datetime.date(2021, 4, 7), 'n': 2}\n"
     ]
    },
    {
     "name": "stderr",
     "output_type": "stream",
     "text": [
      "C:\\Anaconda3\\lib\\site-packages\\pandas\\core\\indexing.py:1745: SettingWithCopyWarning: \n",
      "A value is trying to be set on a copy of a slice from a DataFrame.\n",
      "Try using .loc[row_indexer,col_indexer] = value instead\n",
      "\n",
      "See the caveats in the documentation: https://pandas.pydata.org/pandas-docs/stable/user_guide/indexing.html#returning-a-view-versus-a-copy\n",
      "  isetter(ilocs[0], value)\n"
     ]
    },
    {
     "name": "stdout",
     "output_type": "stream",
     "text": [
      "loading mkt = RM, nb = 1, args = {'roll_rule': '-30b', 'freq': 'm', 'need_shift': 1, 'dbtbl_prefix': '', 'start_date': datetime.date(2015, 1, 1), 'end_date': datetime.date(2021, 4, 7), 'n': 1}\n"
     ]
    },
    {
     "name": "stderr",
     "output_type": "stream",
     "text": [
      "C:\\Anaconda3\\lib\\site-packages\\pandas\\core\\indexing.py:1745: SettingWithCopyWarning: \n",
      "A value is trying to be set on a copy of a slice from a DataFrame.\n",
      "Try using .loc[row_indexer,col_indexer] = value instead\n",
      "\n",
      "See the caveats in the documentation: https://pandas.pydata.org/pandas-docs/stable/user_guide/indexing.html#returning-a-view-versus-a-copy\n",
      "  isetter(ilocs[0], value)\n"
     ]
    },
    {
     "name": "stdout",
     "output_type": "stream",
     "text": [
      "loading mkt = RM, nb = 2, args = {'roll_rule': '-30b', 'freq': 'm', 'need_shift': 1, 'dbtbl_prefix': '', 'start_date': datetime.date(2015, 1, 1), 'end_date': datetime.date(2021, 4, 7), 'n': 2}\n"
     ]
    },
    {
     "name": "stderr",
     "output_type": "stream",
     "text": [
      "C:\\Anaconda3\\lib\\site-packages\\pandas\\core\\indexing.py:1745: SettingWithCopyWarning: \n",
      "A value is trying to be set on a copy of a slice from a DataFrame.\n",
      "Try using .loc[row_indexer,col_indexer] = value instead\n",
      "\n",
      "See the caveats in the documentation: https://pandas.pydata.org/pandas-docs/stable/user_guide/indexing.html#returning-a-view-versus-a-copy\n",
      "  isetter(ilocs[0], value)\n"
     ]
    },
    {
     "name": "stdout",
     "output_type": "stream",
     "text": [
      "loading mkt = y, nb = 1, args = {'roll_rule': '-30b', 'freq': 'm', 'need_shift': 1, 'dbtbl_prefix': '', 'start_date': datetime.date(2015, 1, 1), 'end_date': datetime.date(2021, 4, 7), 'n': 1}\n"
     ]
    },
    {
     "name": "stderr",
     "output_type": "stream",
     "text": [
      "C:\\Anaconda3\\lib\\site-packages\\pandas\\core\\indexing.py:1745: SettingWithCopyWarning: \n",
      "A value is trying to be set on a copy of a slice from a DataFrame.\n",
      "Try using .loc[row_indexer,col_indexer] = value instead\n",
      "\n",
      "See the caveats in the documentation: https://pandas.pydata.org/pandas-docs/stable/user_guide/indexing.html#returning-a-view-versus-a-copy\n",
      "  isetter(ilocs[0], value)\n"
     ]
    },
    {
     "name": "stdout",
     "output_type": "stream",
     "text": [
      "loading mkt = y, nb = 2, args = {'roll_rule': '-30b', 'freq': 'm', 'need_shift': 1, 'dbtbl_prefix': '', 'start_date': datetime.date(2015, 1, 1), 'end_date': datetime.date(2021, 4, 7), 'n': 2}\n"
     ]
    },
    {
     "name": "stderr",
     "output_type": "stream",
     "text": [
      "C:\\Anaconda3\\lib\\site-packages\\pandas\\core\\indexing.py:1745: SettingWithCopyWarning: \n",
      "A value is trying to be set on a copy of a slice from a DataFrame.\n",
      "Try using .loc[row_indexer,col_indexer] = value instead\n",
      "\n",
      "See the caveats in the documentation: https://pandas.pydata.org/pandas-docs/stable/user_guide/indexing.html#returning-a-view-versus-a-copy\n",
      "  isetter(ilocs[0], value)\n"
     ]
    },
    {
     "name": "stdout",
     "output_type": "stream",
     "text": [
      "loading mkt = p, nb = 1, args = {'roll_rule': '-30b', 'freq': 'm', 'need_shift': 1, 'dbtbl_prefix': '', 'start_date': datetime.date(2015, 1, 1), 'end_date': datetime.date(2021, 4, 7), 'n': 1}\n"
     ]
    },
    {
     "name": "stderr",
     "output_type": "stream",
     "text": [
      "C:\\Anaconda3\\lib\\site-packages\\pandas\\core\\indexing.py:1745: SettingWithCopyWarning: \n",
      "A value is trying to be set on a copy of a slice from a DataFrame.\n",
      "Try using .loc[row_indexer,col_indexer] = value instead\n",
      "\n",
      "See the caveats in the documentation: https://pandas.pydata.org/pandas-docs/stable/user_guide/indexing.html#returning-a-view-versus-a-copy\n",
      "  isetter(ilocs[0], value)\n"
     ]
    },
    {
     "name": "stdout",
     "output_type": "stream",
     "text": [
      "loading mkt = p, nb = 2, args = {'roll_rule': '-30b', 'freq': 'm', 'need_shift': 1, 'dbtbl_prefix': '', 'start_date': datetime.date(2015, 1, 1), 'end_date': datetime.date(2021, 4, 7), 'n': 2}\n"
     ]
    },
    {
     "name": "stderr",
     "output_type": "stream",
     "text": [
      "C:\\Anaconda3\\lib\\site-packages\\pandas\\core\\indexing.py:1745: SettingWithCopyWarning: \n",
      "A value is trying to be set on a copy of a slice from a DataFrame.\n",
      "Try using .loc[row_indexer,col_indexer] = value instead\n",
      "\n",
      "See the caveats in the documentation: https://pandas.pydata.org/pandas-docs/stable/user_guide/indexing.html#returning-a-view-versus-a-copy\n",
      "  isetter(ilocs[0], value)\n"
     ]
    },
    {
     "name": "stdout",
     "output_type": "stream",
     "text": [
      "loading mkt = OI, nb = 1, args = {'roll_rule': '-30b', 'freq': 'm', 'need_shift': 1, 'dbtbl_prefix': '', 'start_date': datetime.date(2015, 1, 1), 'end_date': datetime.date(2021, 4, 7), 'n': 1}\n"
     ]
    },
    {
     "name": "stderr",
     "output_type": "stream",
     "text": [
      "C:\\Anaconda3\\lib\\site-packages\\pandas\\core\\indexing.py:1745: SettingWithCopyWarning: \n",
      "A value is trying to be set on a copy of a slice from a DataFrame.\n",
      "Try using .loc[row_indexer,col_indexer] = value instead\n",
      "\n",
      "See the caveats in the documentation: https://pandas.pydata.org/pandas-docs/stable/user_guide/indexing.html#returning-a-view-versus-a-copy\n",
      "  isetter(ilocs[0], value)\n"
     ]
    },
    {
     "name": "stdout",
     "output_type": "stream",
     "text": [
      "loading mkt = OI, nb = 2, args = {'roll_rule': '-30b', 'freq': 'm', 'need_shift': 1, 'dbtbl_prefix': '', 'start_date': datetime.date(2015, 1, 1), 'end_date': datetime.date(2021, 4, 7), 'n': 2}\n"
     ]
    },
    {
     "name": "stderr",
     "output_type": "stream",
     "text": [
      "C:\\Anaconda3\\lib\\site-packages\\pandas\\core\\indexing.py:1745: SettingWithCopyWarning: \n",
      "A value is trying to be set on a copy of a slice from a DataFrame.\n",
      "Try using .loc[row_indexer,col_indexer] = value instead\n",
      "\n",
      "See the caveats in the documentation: https://pandas.pydata.org/pandas-docs/stable/user_guide/indexing.html#returning-a-view-versus-a-copy\n",
      "  isetter(ilocs[0], value)\n"
     ]
    },
    {
     "name": "stdout",
     "output_type": "stream",
     "text": [
      "loading mkt = a, nb = 1, args = {'roll_rule': '-30b', 'freq': 'm', 'need_shift': 1, 'dbtbl_prefix': '', 'start_date': datetime.date(2015, 1, 1), 'end_date': datetime.date(2021, 4, 7), 'n': 1}\n"
     ]
    },
    {
     "name": "stderr",
     "output_type": "stream",
     "text": [
      "C:\\Anaconda3\\lib\\site-packages\\pandas\\core\\indexing.py:1745: SettingWithCopyWarning: \n",
      "A value is trying to be set on a copy of a slice from a DataFrame.\n",
      "Try using .loc[row_indexer,col_indexer] = value instead\n",
      "\n",
      "See the caveats in the documentation: https://pandas.pydata.org/pandas-docs/stable/user_guide/indexing.html#returning-a-view-versus-a-copy\n",
      "  isetter(ilocs[0], value)\n"
     ]
    },
    {
     "name": "stdout",
     "output_type": "stream",
     "text": [
      "loading mkt = a, nb = 2, args = {'roll_rule': '-30b', 'freq': 'm', 'need_shift': 1, 'dbtbl_prefix': '', 'start_date': datetime.date(2015, 1, 1), 'end_date': datetime.date(2021, 4, 7), 'n': 2}\n"
     ]
    },
    {
     "name": "stderr",
     "output_type": "stream",
     "text": [
      "C:\\Anaconda3\\lib\\site-packages\\pandas\\core\\indexing.py:1745: SettingWithCopyWarning: \n",
      "A value is trying to be set on a copy of a slice from a DataFrame.\n",
      "Try using .loc[row_indexer,col_indexer] = value instead\n",
      "\n",
      "See the caveats in the documentation: https://pandas.pydata.org/pandas-docs/stable/user_guide/indexing.html#returning-a-view-versus-a-copy\n",
      "  isetter(ilocs[0], value)\n"
     ]
    },
    {
     "name": "stdout",
     "output_type": "stream",
     "text": [
      "loading mkt = c, nb = 1, args = {'roll_rule': '-30b', 'freq': 'm', 'need_shift': 1, 'dbtbl_prefix': '', 'start_date': datetime.date(2015, 1, 1), 'end_date': datetime.date(2021, 4, 7), 'n': 1}\n"
     ]
    },
    {
     "name": "stderr",
     "output_type": "stream",
     "text": [
      "C:\\Anaconda3\\lib\\site-packages\\pandas\\core\\indexing.py:1745: SettingWithCopyWarning: \n",
      "A value is trying to be set on a copy of a slice from a DataFrame.\n",
      "Try using .loc[row_indexer,col_indexer] = value instead\n",
      "\n",
      "See the caveats in the documentation: https://pandas.pydata.org/pandas-docs/stable/user_guide/indexing.html#returning-a-view-versus-a-copy\n",
      "  isetter(ilocs[0], value)\n"
     ]
    },
    {
     "name": "stdout",
     "output_type": "stream",
     "text": [
      "loading mkt = c, nb = 2, args = {'roll_rule': '-30b', 'freq': 'm', 'need_shift': 1, 'dbtbl_prefix': '', 'start_date': datetime.date(2015, 1, 1), 'end_date': datetime.date(2021, 4, 7), 'n': 2}\n"
     ]
    },
    {
     "name": "stderr",
     "output_type": "stream",
     "text": [
      "C:\\Anaconda3\\lib\\site-packages\\pandas\\core\\indexing.py:1745: SettingWithCopyWarning: \n",
      "A value is trying to be set on a copy of a slice from a DataFrame.\n",
      "Try using .loc[row_indexer,col_indexer] = value instead\n",
      "\n",
      "See the caveats in the documentation: https://pandas.pydata.org/pandas-docs/stable/user_guide/indexing.html#returning-a-view-versus-a-copy\n",
      "  isetter(ilocs[0], value)\n"
     ]
    },
    {
     "name": "stdout",
     "output_type": "stream",
     "text": [
      "loading mkt = cs, nb = 1, args = {'roll_rule': '-30b', 'freq': 'm', 'need_shift': 1, 'dbtbl_prefix': '', 'start_date': datetime.date(2015, 2, 1), 'end_date': datetime.date(2021, 4, 7), 'n': 1}\n"
     ]
    },
    {
     "name": "stderr",
     "output_type": "stream",
     "text": [
      "C:\\Anaconda3\\lib\\site-packages\\pandas\\core\\indexing.py:1745: SettingWithCopyWarning: \n",
      "A value is trying to be set on a copy of a slice from a DataFrame.\n",
      "Try using .loc[row_indexer,col_indexer] = value instead\n",
      "\n",
      "See the caveats in the documentation: https://pandas.pydata.org/pandas-docs/stable/user_guide/indexing.html#returning-a-view-versus-a-copy\n",
      "  isetter(ilocs[0], value)\n"
     ]
    },
    {
     "name": "stdout",
     "output_type": "stream",
     "text": [
      "loading mkt = cs, nb = 2, args = {'roll_rule': '-30b', 'freq': 'm', 'need_shift': 1, 'dbtbl_prefix': '', 'start_date': datetime.date(2015, 2, 1), 'end_date': datetime.date(2021, 4, 7), 'n': 2}\n"
     ]
    },
    {
     "name": "stderr",
     "output_type": "stream",
     "text": [
      "C:\\Anaconda3\\lib\\site-packages\\pandas\\core\\indexing.py:1745: SettingWithCopyWarning: \n",
      "A value is trying to be set on a copy of a slice from a DataFrame.\n",
      "Try using .loc[row_indexer,col_indexer] = value instead\n",
      "\n",
      "See the caveats in the documentation: https://pandas.pydata.org/pandas-docs/stable/user_guide/indexing.html#returning-a-view-versus-a-copy\n",
      "  isetter(ilocs[0], value)\n"
     ]
    },
    {
     "name": "stdout",
     "output_type": "stream",
     "text": [
      "loading mkt = CF, nb = 1, args = {'roll_rule': '-30b', 'freq': 'm', 'need_shift': 1, 'dbtbl_prefix': '', 'start_date': datetime.date(2015, 1, 1), 'end_date': datetime.date(2021, 4, 7), 'n': 1}\n"
     ]
    },
    {
     "name": "stderr",
     "output_type": "stream",
     "text": [
      "C:\\Anaconda3\\lib\\site-packages\\pandas\\core\\indexing.py:1745: SettingWithCopyWarning: \n",
      "A value is trying to be set on a copy of a slice from a DataFrame.\n",
      "Try using .loc[row_indexer,col_indexer] = value instead\n",
      "\n",
      "See the caveats in the documentation: https://pandas.pydata.org/pandas-docs/stable/user_guide/indexing.html#returning-a-view-versus-a-copy\n",
      "  isetter(ilocs[0], value)\n"
     ]
    },
    {
     "name": "stdout",
     "output_type": "stream",
     "text": [
      "loading mkt = CF, nb = 2, args = {'roll_rule': '-30b', 'freq': 'm', 'need_shift': 1, 'dbtbl_prefix': '', 'start_date': datetime.date(2015, 1, 1), 'end_date': datetime.date(2021, 4, 7), 'n': 2}\n"
     ]
    },
    {
     "name": "stderr",
     "output_type": "stream",
     "text": [
      "C:\\Anaconda3\\lib\\site-packages\\pandas\\core\\indexing.py:1745: SettingWithCopyWarning: \n",
      "A value is trying to be set on a copy of a slice from a DataFrame.\n",
      "Try using .loc[row_indexer,col_indexer] = value instead\n",
      "\n",
      "See the caveats in the documentation: https://pandas.pydata.org/pandas-docs/stable/user_guide/indexing.html#returning-a-view-versus-a-copy\n",
      "  isetter(ilocs[0], value)\n"
     ]
    },
    {
     "name": "stdout",
     "output_type": "stream",
     "text": [
      "loading mkt = SR, nb = 1, args = {'roll_rule': '-30b', 'freq': 'm', 'need_shift': 1, 'dbtbl_prefix': '', 'start_date': datetime.date(2015, 1, 1), 'end_date': datetime.date(2021, 4, 7), 'n': 1}\n"
     ]
    },
    {
     "name": "stderr",
     "output_type": "stream",
     "text": [
      "C:\\Anaconda3\\lib\\site-packages\\pandas\\core\\indexing.py:1745: SettingWithCopyWarning: \n",
      "A value is trying to be set on a copy of a slice from a DataFrame.\n",
      "Try using .loc[row_indexer,col_indexer] = value instead\n",
      "\n",
      "See the caveats in the documentation: https://pandas.pydata.org/pandas-docs/stable/user_guide/indexing.html#returning-a-view-versus-a-copy\n",
      "  isetter(ilocs[0], value)\n"
     ]
    },
    {
     "name": "stdout",
     "output_type": "stream",
     "text": [
      "loading mkt = SR, nb = 2, args = {'roll_rule': '-30b', 'freq': 'm', 'need_shift': 1, 'dbtbl_prefix': '', 'start_date': datetime.date(2015, 1, 1), 'end_date': datetime.date(2021, 4, 7), 'n': 2}\n"
     ]
    },
    {
     "name": "stderr",
     "output_type": "stream",
     "text": [
      "C:\\Anaconda3\\lib\\site-packages\\pandas\\core\\indexing.py:1745: SettingWithCopyWarning: \n",
      "A value is trying to be set on a copy of a slice from a DataFrame.\n",
      "Try using .loc[row_indexer,col_indexer] = value instead\n",
      "\n",
      "See the caveats in the documentation: https://pandas.pydata.org/pandas-docs/stable/user_guide/indexing.html#returning-a-view-versus-a-copy\n",
      "  isetter(ilocs[0], value)\n"
     ]
    },
    {
     "name": "stdout",
     "output_type": "stream",
     "text": [
      "loading mkt = jd, nb = 1, args = {'roll_rule': '-30b', 'freq': 'm', 'need_shift': 1, 'dbtbl_prefix': '', 'start_date': datetime.date(2015, 1, 1), 'end_date': datetime.date(2021, 4, 7), 'n': 1}\n"
     ]
    },
    {
     "name": "stderr",
     "output_type": "stream",
     "text": [
      "C:\\Anaconda3\\lib\\site-packages\\pandas\\core\\indexing.py:1745: SettingWithCopyWarning: \n",
      "A value is trying to be set on a copy of a slice from a DataFrame.\n",
      "Try using .loc[row_indexer,col_indexer] = value instead\n",
      "\n",
      "See the caveats in the documentation: https://pandas.pydata.org/pandas-docs/stable/user_guide/indexing.html#returning-a-view-versus-a-copy\n",
      "  isetter(ilocs[0], value)\n"
     ]
    },
    {
     "name": "stdout",
     "output_type": "stream",
     "text": [
      "loading mkt = jd, nb = 2, args = {'roll_rule': '-30b', 'freq': 'm', 'need_shift': 1, 'dbtbl_prefix': '', 'start_date': datetime.date(2015, 1, 1), 'end_date': datetime.date(2021, 4, 7), 'n': 2}\n"
     ]
    },
    {
     "name": "stderr",
     "output_type": "stream",
     "text": [
      "C:\\Anaconda3\\lib\\site-packages\\pandas\\core\\indexing.py:1745: SettingWithCopyWarning: \n",
      "A value is trying to be set on a copy of a slice from a DataFrame.\n",
      "Try using .loc[row_indexer,col_indexer] = value instead\n",
      "\n",
      "See the caveats in the documentation: https://pandas.pydata.org/pandas-docs/stable/user_guide/indexing.html#returning-a-view-versus-a-copy\n",
      "  isetter(ilocs[0], value)\n"
     ]
    },
    {
     "name": "stdout",
     "output_type": "stream",
     "text": [
      "loading mkt = AP, nb = 1, args = {'roll_rule': '-30b', 'freq': 'm', 'need_shift': 1, 'dbtbl_prefix': '', 'start_date': datetime.date(2018, 1, 1), 'end_date': datetime.date(2021, 4, 7), 'n': 1}\n",
      "loading mkt = AP, nb = 2, args = {'roll_rule': '-30b', 'freq': 'm', 'need_shift': 1, 'dbtbl_prefix': '', 'start_date': datetime.date(2018, 1, 1), 'end_date': datetime.date(2021, 4, 7), 'n': 2}\n"
     ]
    }
   ],
   "source": [
    "field_list = ['open', 'high', 'low', 'close', 'volume', 'openInterest', 'contract', 'shift']\n",
    "mfield_list = ['open', 'high', 'low', 'close', 'volume', 'openInterest', 'contract', 'shift', 'datetime']\n",
    "commod_mkts = ['rb', 'hc', 'i', 'j', 'jm', 'ru', 'FG', 'ZC', 'cu', 'al', 'zn', 'pb', 'ni', 'sn', \\\n",
    "               'l', 'pp', 'v', 'TA', 'MA', 'bu', 'sc', 'm', 'RM', 'y', 'p', 'OI', 'a', 'c', 'cs', 'CF', 'SR', 'jd']\n",
    "\n",
    "start_date = datetime.date(2015, 1, 1)\n",
    "end_date = datetime.date(2021, 4, 7)\n",
    "pnl_tenors = ['1y', '2y', '3y', '4y', '5y', '6y', '8y', '10y']\n",
    "\n",
    "sim_products = ind_all_mkts + ags_all_mkts\n",
    "\n",
    "need_shift = 1\n",
    "freq = 'm'\n",
    "delim = '-'\n",
    "file_folder = \"C:\\\\dev\\\\data\\\\data_cache\\\\\"\n",
    "\n",
    "if freq == 'd':\n",
    "    sim_start_dict = daily_start_dict\n",
    "else:\n",
    "    sim_start_dict = min_start_dict\n",
    "\n",
    "dbtbl_prefix = ''\n",
    "\n",
    "args = {'roll_rule': '-30b', 'freq': freq, 'need_shift': need_shift, 'dbtbl_prefix': dbtbl_prefix}\n",
    "ferrous_products_args = args\n",
    "ferro_mixed_mkt_args = args\n",
    "base_args = {'roll_rule': '-30b', 'freq': freq, 'need_shift': need_shift, 'dbtbl_prefix': dbtbl_prefix}\n",
    "base2_args = {'roll_rule': '-40b', 'freq': freq, 'need_shift': need_shift, 'dbtbl_prefix': dbtbl_prefix}\n",
    "v_args  = {'roll_rule': '-28b', 'freq': freq, 'need_shift': need_shift, 'dbtbl_prefix': dbtbl_prefix}\n",
    "sc_args = {'roll_rule': '-20b', 'freq': freq, 'need_shift': need_shift, 'dbtbl_prefix': dbtbl_prefix}\n",
    "eq_args = {'roll_rule': '-1b', 'freq': freq, 'need_shift': need_shift, 'dbtbl_prefix': dbtbl_prefix}\n",
    "bond_args = {'roll_rule': '-30b', 'freq': freq, 'need_shift': need_shift, 'dbtbl_prefix': dbtbl_prefix}\n",
    "precious_args = {'roll_rule': '-25b', 'freq': freq, 'need_shift': need_shift, 'dbtbl_prefix': dbtbl_prefix}\n",
    "\n",
    "\n",
    "df_list = []\n",
    "bar_split_setup = {\"s2\": {\"split_dict\": [300, 1500], \n",
    "                          \"extra_fields\": {\"exec_price1\": ['open', 'mean', [(305, 307), (1505, 1507)]],\n",
    "                                           \"exec_price2\": ['open', 'mean', [(310, 312), (1510, 1512)]],\n",
    "                                           \"exec_price3\": ['open', 'mean', [(315, 320), (1515, 1520)]],\n",
    "                                           \"exec_price4\": ['open', 'mean', [(320, 325), (1520, 1525)]],\n",
    "                                           \"lr_mean\": ['lr', 'mean', []],\n",
    "                                           \"lr_std\": ['lr2', 'mean', []],\n",
    "                                           \"up_std\": ['lr2_up', 'mean', []],\n",
    "                                           \"lr_skew\": ['lr3', 'mean', []],\n",
    "                                           \"lr_kurt\": ['lr4', 'mean', []],\n",
    "                                           \"min_cnt\": ['lr', 'count', []],\n",
    "                                           \"lr_abs\": [\"lr_abs\", 'mean', []],\n",
    "                                           \"vol_amt\": ['vol_amt', 'sum', []],\n",
    "                                           \"vol_mf\": ['signed_volamt', 'sum', []],\n",
    "                                           \"oi_mf\": ['oi_amt', 'sum', []],\n",
    "                                          }},\n",
    "                   \"s21\": {\"split_dict\": [1500, 1930], \n",
    "                          \"extra_fields\": {\"exec_price1\": ['open', 'mean', [(1505, 1507), (1935, 1937)]],\n",
    "                                           \"exec_price2\": ['open', 'mean', [(1510, 1512), (1940, 1942)]],\n",
    "                                           \"exec_price3\": ['open', 'mean', [(1515, 1520), (1945, 1950)]],\n",
    "                                           \"exec_price4\": ['open', 'mean', [(1520, 1525), (1950, 1955)]],\n",
    "                                           \"lr_mean\": ['lr', 'mean', []],\n",
    "                                           \"lr_std\": ['lr2', 'mean', []],\n",
    "                                           \"up_std\": ['lr2_up', 'mean', []],\n",
    "                                           \"lr_skew\": ['lr3', 'mean', []],\n",
    "                                           \"lr_kurt\": ['lr4', 'mean', []],\n",
    "                                           \"min_cnt\": ['lr', 'count', []],\n",
    "                                           \"lr_abs\": [\"lr_abs\", 'mean', []],\n",
    "                                           \"vol_amt\": ['vol_amt', 'sum', []],\n",
    "                                           \"vol_mf\": ['signed_volamt', 'sum', []],\n",
    "                                           \"oi_mf\": ['oi_amt', 'sum', []],\n",
    "                                          }},\n",
    "                   \"s1\": {\"split_dict\": [1500], \n",
    "                          \"extra_fields\": {\"exec_price1\": ['open', 'mean', [(1505, 1507)]],\n",
    "                                           \"exec_price2\": ['open', 'mean', [(1510, 1512)]],\n",
    "                                           \"exec_price3\": ['open', 'mean', [(1515, 1520)]],\n",
    "                                           \"exec_price4\": ['open', 'mean', [(1520, 1525)]],\n",
    "                                           \"lr_mean\": ['lr', 'mean', []],\n",
    "                                           \"lr_std\": ['lr2', 'mean', []],\n",
    "                                           \"up_std\": ['lr2_up', 'mean', []],\n",
    "                                           \"lr_skew\": ['lr3', 'mean', []],\n",
    "                                           \"lr_kurt\": ['lr4', 'mean', []],\n",
    "                                           \"min_cnt\": ['lr', 'count', []],\n",
    "                                           \"lr_abs\": [\"lr_abs\", 'mean', []],\n",
    "                                           \"vol_amt\": ['vol_amt', 'sum', []],\n",
    "                                           \"vol_mf\": ['signed_volamt', 'sum', []],\n",
    "                                           \"oi_mf\": ['oi_amt', 'sum', []],\n",
    "                                          }},\n",
    "                   \"s11\": {\"split_dict\": [300], \n",
    "                          \"extra_fields\": {\"exec_price1\": ['open', 'mean', [(1505, 1507)]],\n",
    "                                           \"exec_price2\": ['open', 'mean', [(1510, 1512)]],\n",
    "                                           \"exec_price3\": ['open', 'mean', [(1515, 1520)]],\n",
    "                                           \"exec_price4\": ['open', 'mean', [(1520, 1525)]],\n",
    "                                           \"lr_mean\": ['lr', 'mean', []],\n",
    "                                           \"lr_std\": ['lr2', 'mean', []],\n",
    "                                           \"up_std\": ['lr2_up', 'mean', []],\n",
    "                                           \"lr_skew\": ['lr3', 'mean', []],\n",
    "                                           \"lr_kurt\": ['lr4', 'mean', []],\n",
    "                                           \"min_cnt\": ['lr', 'count', []],\n",
    "                                           \"lr_abs\": [\"lr_abs\", 'mean', []],\n",
    "                                           \"vol_amt\": ['vol_amt', 'sum', []],\n",
    "                                           \"vol_mf\": ['signed_volamt', 'sum', []],\n",
    "                                           \"oi_mf\": ['oi_amt', 'sum', []],\n",
    "                                          }},\n",
    "                  }\n",
    "                                                                 \n",
    "for idx, asset in enumerate(sim_products):\n",
    "    use_args = args\n",
    "    if asset in eq_fut_mkts:\n",
    "        use_args = eq_args\n",
    "    elif asset in ['cu', 'al', 'zn', 'pb', 'sn']:\n",
    "        use_args = base_args\n",
    "    elif asset in ['ni']:\n",
    "        use_args = base2_args\n",
    "    elif asset in ['sc']:\n",
    "        use_args = sc_args\n",
    "    elif asset in ['v']:\n",
    "        use_args = v_args\n",
    "    elif asset in bond_fut_mkts:\n",
    "        use_args = bond_args\n",
    "    elif asset in precious_metal_mkts:\n",
    "        use_args = precious_args\n",
    "    use_args = copy.copy(use_args)\n",
    "    use_args['start_date'] = max(sim_start_dict[asset], start_date)\n",
    "    use_args['end_date'] = end_date\n",
    "    for idy, nb in enumerate([1, 2]):\n",
    "        use_args['n'] = nb\n",
    "        print(\"loading mkt = %s, nb = %s, args = %s\" % (asset, nb, use_args))\n",
    "        df = misc.nearby(asset, **use_args)\n",
    "        df = misc.cleanup_mindata(df, asset)\n",
    "        if need_shift == 1:\n",
    "            df['lr'] = np.log(df['close']-df['shift']) - np.log(df['close'].shift(1)-df['shift'])\n",
    "        elif need_shift == 2:\n",
    "            df['lr'] = np.log(df['close']) - np.log(df['close'].shift(1))\n",
    "        else:\n",
    "            df['lr'] = np.log(df['close']) - np.log(df['close'].shift(1))\n",
    "        for pwr in [2, 3, 4]:\n",
    "            df['lr%s' % str(pwr)] = df['lr']**pwr\n",
    "        df['lr2_up'] = (df['lr']**2)*(df['lr']>0) \n",
    "        df['lr_abs'] = df['lr'].abs()\n",
    "        df['vol_amt'] = df['close'] * df['volume']\n",
    "        df['signed_volamt'] = ((df['lr'] > 0)*1.0-(df['lr'] <0)*1.0) * df['vol_amt']\n",
    "        df['oi_amt'] = (df['openInterest'] - df['openInterest'].shift()).abs() * ((df['lr'] > 0)*1.0-(df['lr'] < 0)*1.0) * df['close']\n",
    "        for sfreq in bar_split_setup:\n",
    "            adf = df.reset_index().copy()\n",
    "            for f in bar_split_setup[sfreq]['extra_fields']:\n",
    "                field_setup = bar_split_setup[sfreq]['extra_fields'][f]\n",
    "                if len(field_setup[2]) > 0:\n",
    "                    adf[f] = np.nan\n",
    "                    for min_range in field_setup[2]:\n",
    "                        f_flag = (adf['min_id']>=min_range[0]) & (adf['min_id']<=min_range[1])\n",
    "                        adf.loc[f_flag, f] = adf.loc[f_flag, field_setup[0]]\n",
    "                else:\n",
    "                    adf[f] = adf[field_setup[0]]\n",
    "            adf = adf.set_index(['date', 'min_id'])\n",
    "            field_funcs = {}\n",
    "            for f in bar_split_setup[sfreq]['extra_fields']:\n",
    "                field_setup = bar_split_setup[sfreq]['extra_fields'][f]\n",
    "                field_funcs[f] = field_setup[1]\n",
    "            xdf = minbar_agg(adf, bar_split_setup[sfreq]['split_dict'], \\\n",
    "                             index_col = ['date','min_id'], \\\n",
    "                             field_funcs = field_funcs)\n",
    "            xdf['lr_kurt'] = xdf['lr_kurt']/(xdf['lr_std']**2)\n",
    "            xdf['lr_skew'] = xdf['lr_skew']/(xdf['lr_std']**1.5)\n",
    "            xdf['up_std'] = xdf['up_std']/xdf['lr_std']\n",
    "            xdf['lr_std'] = xdf['lr_std'] * xdf['min_cnt']\n",
    "            xdf['trd_str'] = xdf['lr_mean']/xdf['lr_abs']\n",
    "            xdf['vol_mfratio'] = xdf['vol_mf']/xdf['vol_amt']\n",
    "            filename = \"%s_%s_%s_%s.csv\" % (asset, use_args['n'], sfreq, end_date.strftime(\"%Y%m%d\"))\n",
    "            xdf = xdf.reset_index()\n",
    "            xdf = xdf.drop_duplicates(subset=['date', 'split_idx'], keep='last')\n",
    "            xdf.to_csv(file_folder + filename)\n"
   ]
  },
  {
   "cell_type": "code",
   "execution_count": null,
   "metadata": {},
   "outputs": [],
   "source": [
    "bar_split_setup = {\"s2\": {\"split_dict\": [300, 1500], \n",
    "                          \"extra_fields\": {\"exec_price1\": [(305, 307), (1505, 1507)],\n",
    "                                           \"exec_price2\": [(310, 312), (1510, 1512)],\n",
    "                                           \"exec_price3\": [(315, 320), (1515, 1520)],}},\n",
    "                   \"s21\": {\"split_dict\": [1500, 1930], \n",
    "                          \"extra_fields\": {\"exec_price1\": [(1509, 1510), (1939, 1940)],}},\n",
    "                   \"s1\": {\"split_dict\": [1500], \n",
    "                          \"extra_fields\": {\"exec_price1\": [(1505, 1507)],\n",
    "                                           \"exec_price2\": [(1510, 1512)],\n",
    "                                           \"exec_price3\": [(1515, 1520)],\n",
    "                                           \"exec_price4\": [(1520, 1530)],}},\n",
    "                   \n",
    "                  }\n",
    "file_folder = \"C:\\\\dev\\\\data\\\\data_cache\\\\\"\n",
    "for idx, asset in enumerate(sim_products):\n",
    "    use_args = args\n",
    "    if asset in eq_fut_mkts:\n",
    "        use_args = eq_args\n",
    "    elif asset in ['cu', 'al', 'zn', 'pb', 'sn']:\n",
    "        use_args = base_args\n",
    "    elif asset in ['ni']:\n",
    "        use_args = base2_args\n",
    "    elif asset in ['sc']:\n",
    "        use_args = sc_args\n",
    "    elif asset in ['v']:\n",
    "        use_args = v_args\n",
    "    elif asset in bond_fut_mkts:\n",
    "        use_args = bond_args\n",
    "    elif asset in precious_metal_mkts:\n",
    "        use_args = precious_args\n",
    "    use_args = copy.copy(use_args)\n",
    "    use_args['start_date'] = max(sim_start_dict[asset], start_date)\n",
    "    use_args['end_date'] = end_date\n",
    "    for idy, nb in enumerate([1, 2]):\n",
    "        use_args['n'] = nb\n",
    "        print(\"loading mkt = %s, nb = %s, args = %s\" % (asset, nb, use_args))\n",
    "        df = misc.nearby(asset, **use_args)\n",
    "        df = misc.cleanup_mindata(df, asset)\n",
    "        for sfreq in bar_split_setup:\n",
    "            adf = df.reset_index().copy()\n",
    "            for f in bar_split_setup[sfreq]['extra_fields']:\n",
    "                adf[f] = np.nan\n",
    "                for min_range in bar_split_setup[sfreq]['extra_fields'][f]:\n",
    "                    f_flag = (adf['min_id']>=min_range[0]) & (adf['min_id']<=min_range[1])\n",
    "                    adf.loc[f_flag, f] = adf.loc[f_flag, 'open']\n",
    "            adf = adf.set_index(['date', 'min_id'])\n",
    "            field_funcs = {}\n",
    "            for f in bar_split_setup[sfreq]['extra_fields']:\n",
    "                field_funcs[f] = 'mean'\n",
    "            xdf = minbar_agg(adf, bar_split_setup[sfreq]['split_dict'], \\\n",
    "                             index_col = ['date','min_id'], \\\n",
    "                             field_funcs = field_funcs)\n",
    "            filename = \"%s_%s_%s_%s.csv\" % (asset, use_args['n'], sfreq, end_date.strftime(\"%Y%m%d\"))\n",
    "            xdf = xdf.reset_index()\n",
    "            xdf.to_csv(file_folder + filename)"
   ]
  },
  {
   "cell_type": "code",
   "execution_count": 25,
   "metadata": {},
   "outputs": [
    {
     "name": "stdout",
     "output_type": "stream",
     "text": [
      "                   rb-open  rb-high  rb-low  rb-close  rb-volume  \\\n",
      "date       min_id                                                  \n",
      "2021-04-02 2040     5121.0   5121.0  5114.0    5114.0     4035.0   \n",
      "           2041     5114.0   5119.0  5114.0    5117.0     2692.0   \n",
      "           2042     5118.0   5120.0  5117.0    5119.0     1685.0   \n",
      "           2043     5119.0   5120.0  5116.0    5117.0     2026.0   \n",
      "           2044     5117.0   5119.0  5116.0    5119.0     1651.0   \n",
      "           2045     5119.0   5124.0  5118.0    5121.0     5466.0   \n",
      "           2046     5121.0   5124.0  5118.0    5123.0     3556.0   \n",
      "           2047     5123.0   5126.0  5122.0    5123.0     4125.0   \n",
      "           2048     5123.0   5124.0  5120.0    5121.0     2954.0   \n",
      "           2049     5121.0   5125.0  5120.0    5124.0     2799.0   \n",
      "           2050     5124.0   5125.0  5122.0    5123.0     2337.0   \n",
      "           2051     5123.0   5141.0  5122.0    5134.0    11951.0   \n",
      "           2052     5133.0   5139.0  5130.0    5138.0     8850.0   \n",
      "           2053     5138.0   5145.0  5137.0    5143.0    10235.0   \n",
      "           2054     5142.0   5143.0  5138.0    5141.0     7390.0   \n",
      "           2055     5141.0   5141.0  5133.0    5135.0     7182.0   \n",
      "           2056     5136.0   5143.0  5135.0    5143.0     5174.0   \n",
      "           2057     5143.0   5145.0  5140.0    5144.0     7911.0   \n",
      "           2058     5144.0   5157.0  5143.0    5154.0    11898.0   \n",
      "           2059     5154.0   5160.0  5151.0    5157.0    15091.0   \n",
      "\n",
      "                   rb-openInterest rb-contract  rb-shift         rb-datetime  \\\n",
      "date       min_id                                                              \n",
      "2021-04-02 2040           733589.0      rb2105       0.0 2021-04-02 14:40:00   \n",
      "           2041           733202.0      rb2105       0.0 2021-04-02 14:41:00   \n",
      "           2042           733210.0      rb2105       0.0 2021-04-02 14:42:00   \n",
      "           2043           732797.0      rb2105       0.0 2021-04-02 14:43:00   \n",
      "           2044           732445.0      rb2105       0.0 2021-04-02 14:44:00   \n",
      "           2045           732825.0      rb2105       0.0 2021-04-02 14:45:00   \n",
      "           2046           732196.0      rb2105       0.0 2021-04-02 14:46:00   \n",
      "           2047           732285.0      rb2105       0.0 2021-04-02 14:47:00   \n",
      "           2048           732678.0      rb2105       0.0 2021-04-02 14:48:00   \n",
      "           2049           732409.0      rb2105       0.0 2021-04-02 14:49:00   \n",
      "           2050           732416.0      rb2105       0.0 2021-04-02 14:50:00   \n",
      "           2051           731872.0      rb2105       0.0 2021-04-02 14:51:00   \n",
      "           2052           731121.0      rb2105       0.0 2021-04-02 14:52:00   \n",
      "           2053           729831.0      rb2105       0.0 2021-04-02 14:53:00   \n",
      "           2054           729485.0      rb2105       0.0 2021-04-02 14:54:00   \n",
      "           2055           727544.0      rb2105       0.0 2021-04-02 14:55:00   \n",
      "           2056           726191.0      rb2105       0.0 2021-04-02 14:56:00   \n",
      "           2057           723457.0      rb2105       0.0 2021-04-02 14:57:00   \n",
      "           2058           722087.0      rb2105       0.0 2021-04-02 14:58:00   \n",
      "           2059           714845.0      rb2105       0.0 2021-04-02 14:59:00   \n",
      "\n",
      "                   rb-exec_price1  ...  jm-high  jm-low  jm-close  jm-volume  \\\n",
      "date       min_id                  ...                                         \n",
      "2021-04-02 2040               NaN  ...   1577.0  1572.5    1573.5      480.0   \n",
      "           2041               NaN  ...   1574.5  1572.5    1573.0      307.0   \n",
      "           2042               NaN  ...   1575.0  1573.0    1575.0      215.0   \n",
      "           2043               NaN  ...   1575.5  1574.0    1574.0      171.0   \n",
      "           2044               NaN  ...   1575.5  1574.0    1575.5      122.0   \n",
      "           2045               NaN  ...   1577.5  1575.5    1576.0      477.0   \n",
      "           2046               NaN  ...   1576.5  1573.5    1575.0      349.0   \n",
      "           2047               NaN  ...   1576.0  1574.5    1574.5      283.0   \n",
      "           2048               NaN  ...   1575.5  1574.0    1574.0      148.0   \n",
      "           2049               NaN  ...   1575.0  1574.0    1574.0      112.0   \n",
      "           2050               NaN  ...   1575.5  1574.0    1575.5      267.0   \n",
      "           2051               NaN  ...   1575.5  1573.5    1574.5      388.0   \n",
      "           2052               NaN  ...   1575.0  1572.5    1572.5      426.0   \n",
      "           2053               NaN  ...   1574.5  1572.5    1574.0      281.0   \n",
      "           2054               NaN  ...   1574.5  1570.0    1570.0      532.0   \n",
      "           2055               NaN  ...   1571.0  1568.5    1569.0      808.0   \n",
      "           2056               NaN  ...   1572.0  1568.5    1571.5      697.0   \n",
      "           2057               NaN  ...   1571.5  1566.0    1567.0     1082.0   \n",
      "           2058               NaN  ...   1573.5  1566.0    1571.5      712.0   \n",
      "           2059               NaN  ...   1572.5  1570.0    1570.0      985.0   \n",
      "\n",
      "                   jm-openInterest  jm-contract  jm-shift         jm-datetime  \\\n",
      "date       min_id                                                               \n",
      "2021-04-02 2040            96585.0       jm2105       0.0 2021-04-02 14:40:00   \n",
      "           2041            96600.0       jm2105       0.0 2021-04-02 14:41:00   \n",
      "           2042            96549.0       jm2105       0.0 2021-04-02 14:42:00   \n",
      "           2043            96520.0       jm2105       0.0 2021-04-02 14:43:00   \n",
      "           2044            96545.0       jm2105       0.0 2021-04-02 14:44:00   \n",
      "           2045            96492.0       jm2105       0.0 2021-04-02 14:45:00   \n",
      "           2046            96435.0       jm2105       0.0 2021-04-02 14:46:00   \n",
      "           2047            96449.0       jm2105       0.0 2021-04-02 14:47:00   \n",
      "           2048            96439.0       jm2105       0.0 2021-04-02 14:48:00   \n",
      "           2049            96407.0       jm2105       0.0 2021-04-02 14:49:00   \n",
      "           2050            96357.0       jm2105       0.0 2021-04-02 14:50:00   \n",
      "           2051            96344.0       jm2105       0.0 2021-04-02 14:51:00   \n",
      "           2052            96303.0       jm2105       0.0 2021-04-02 14:52:00   \n",
      "           2053            96194.0       jm2105       0.0 2021-04-02 14:53:00   \n",
      "           2054            96047.0       jm2105       0.0 2021-04-02 14:54:00   \n",
      "           2055            95974.0       jm2105       0.0 2021-04-02 14:55:00   \n",
      "           2056            95891.0       jm2105       0.0 2021-04-02 14:56:00   \n",
      "           2057            95774.0       jm2105       0.0 2021-04-02 14:57:00   \n",
      "           2058            95620.0       jm2105       0.0 2021-04-02 14:58:00   \n",
      "           2059            95128.0       jm2105       0.0 2021-04-02 14:59:00   \n",
      "\n",
      "                   jm-exec_price1 jm-exec_price2  \n",
      "date       min_id                                 \n",
      "2021-04-02 2040               NaN            NaN  \n",
      "           2041               NaN            NaN  \n",
      "           2042               NaN            NaN  \n",
      "           2043               NaN            NaN  \n",
      "           2044               NaN            NaN  \n",
      "           2045               NaN            NaN  \n",
      "           2046               NaN            NaN  \n",
      "           2047               NaN            NaN  \n",
      "           2048               NaN            NaN  \n",
      "           2049               NaN            NaN  \n",
      "           2050               NaN            NaN  \n",
      "           2051               NaN            NaN  \n",
      "           2052               NaN            NaN  \n",
      "           2053               NaN            NaN  \n",
      "           2054               NaN            NaN  \n",
      "           2055               NaN            NaN  \n",
      "           2056               NaN            NaN  \n",
      "           2057               NaN            NaN  \n",
      "           2058               NaN            NaN  \n",
      "           2059               NaN            NaN  \n",
      "\n",
      "[20 rows x 55 columns]\n"
     ]
    }
   ],
   "source": [
    "print(df.tail(20))"
   ]
  },
  {
   "cell_type": "code",
   "execution_count": 6,
   "metadata": {},
   "outputs": [
    {
     "name": "stdout",
     "output_type": "stream",
     "text": [
      "                      min_id             datetime  instID  exch    open  \\\n",
      "date       split_idx                                                      \n",
      "2021-03-22 0            2059  2021-03-22 21:00:00  rb2105  SHFE  4763.0   \n",
      "2021-03-23 0            2059  2021-03-23 21:00:00  rb2105  SHFE  4762.0   \n",
      "2021-03-24 0            2059  2021-03-24 21:00:00  rb2105  SHFE  4703.0   \n",
      "2021-03-25 0            2059  2021-03-25 21:01:00  rb2105  SHFE  4810.0   \n",
      "2021-03-26 0            2059  2021-03-26 21:01:00  rb2105  SHFE  4789.0   \n",
      "2021-03-29 0            2059  2021-03-29 21:00:00  rb2105  SHFE  4940.0   \n",
      "2021-03-30 0            2059  2021-03-30 21:01:00  rb2105  SHFE  4973.0   \n",
      "2021-03-31 0            2059  2021-03-31 21:01:00  rb2105  SHFE  4956.0   \n",
      "2021-04-01 0            2059  2021-04-01 21:01:00  rb2105  SHFE  4938.0   \n",
      "2021-04-02 0            2059  2021-04-02 21:01:00  rb2105  SHFE  5039.0   \n",
      "\n",
      "                        high     low   close     volume  openInterest  ...  \\\n",
      "date       split_idx                                                   ...   \n",
      "2021-03-22 0          4899.0  4739.0  4762.0  2902628.0      984323.0  ...   \n",
      "2021-03-23 0          4779.0  4644.0  4716.0  -343824.0      957412.0  ...   \n",
      "2021-03-24 0          4819.0  4657.0  4816.0  2729392.0      996576.0  ...   \n",
      "2021-03-25 0          4842.0  4777.0  4796.0  1848590.0      937558.0  ...   \n",
      "2021-03-26 0          4941.0  4778.0  4934.0  2097149.0     1038240.0  ...   \n",
      "2021-03-29 0          5017.0  4920.0  4969.0  2487464.0      978228.0  ...   \n",
      "2021-03-30 0          4995.0  4937.0  4963.0  1543369.0      859252.0  ...   \n",
      "2021-03-31 0          5031.0  4910.0  4936.0  2154794.0      754320.0  ...   \n",
      "2021-04-01 0          5042.0  4905.0  5003.0  1358110.0      751541.0  ...   \n",
      "2021-04-02 0          5160.0  5012.0  5157.0  1593683.0      714845.0  ...   \n",
      "\n",
      "                       lr_mean    lr_std    up_std   lr_skew    lr_kurt  \\\n",
      "date       split_idx                                                      \n",
      "2021-03-22 0          0.000010  0.000418  0.486160 -0.580795   9.803098   \n",
      "2021-03-23 0         -0.000028  0.000266  0.501340  0.379299   7.198234   \n",
      "2021-03-24 0          0.000061  0.000223  0.574727  0.285998   3.832857   \n",
      "2021-03-25 0         -0.000012  0.000228  0.417627 -0.850233  10.577437   \n",
      "2021-03-26 0          0.000082  0.000189  0.604369  0.489985   5.079617   \n",
      "2021-03-29 0          0.000020  0.000324  0.462394 -0.460339   7.362723   \n",
      "2021-03-30 0         -0.000004  0.000133  0.501368  0.010000   3.455178   \n",
      "2021-03-31 0         -0.000016  0.000271  0.468197 -0.302968   5.468710   \n",
      "2021-04-01 0          0.000039  0.000187  0.543340  0.168988   3.531967   \n",
      "2021-04-02 0          0.000088  0.000282  0.701235  2.729445  23.691223   \n",
      "\n",
      "                      min_cnt        vol_mf        oi_mf   trd_str  \\\n",
      "date       split_idx                                                 \n",
      "2021-03-22 0              345 -6.809559e+08  126359076.0  0.013537   \n",
      "2021-03-23 0              345 -1.406119e+10   45554880.0 -0.043689   \n",
      "2021-03-24 0              345 -8.333450e+08  133281863.0  0.099303   \n",
      "2021-03-25 0              344 -2.224374e+08  -76588000.0 -0.021767   \n",
      "2021-03-26 0              344  1.651868e+09  257752417.0  0.147298   \n",
      "2021-03-29 0              345  5.142505e+08   16311341.0  0.029925   \n",
      "2021-03-30 0              344 -4.087298e+08 -232246912.0 -0.007302   \n",
      "2021-03-31 0              344 -5.784529e+08 -148053913.0 -0.024113   \n",
      "2021-04-01 0              344  3.360810e+08   20060531.0  0.067065   \n",
      "2021-04-02 0              344  6.662966e+08   59687903.0  0.141985   \n",
      "\n",
      "                      vol_mfratio  \n",
      "date       split_idx               \n",
      "2021-03-22 0            -0.048878  \n",
      "2021-03-23 0             8.001705  \n",
      "2021-03-24 0            -0.064552  \n",
      "2021-03-25 0            -0.025057  \n",
      "2021-03-26 0             0.162453  \n",
      "2021-03-29 0             0.041584  \n",
      "2021-03-30 0            -0.053315  \n",
      "2021-03-31 0            -0.054155  \n",
      "2021-04-01 0             0.049750  \n",
      "2021-04-02 0             0.082340  \n",
      "\n",
      "[10 rows x 31 columns]\n"
     ]
    }
   ],
   "source": [
    "import pandas as pd\n",
    "file_folder = \"C:\\\\dev\\\\data\\\\data_cache\\\\\"\n",
    "asset = 'rb'\n",
    "nb = 1\n",
    "freq='s11'\n",
    "end_date= '20210402'\n",
    "filename = \"%s_%s_%s_%s.csv\" % (asset, nb, freq, end_date)\n",
    "df = pd.read_csv(file_folder + filename, index_col=0).set_index(['date', 'split_idx'])\n",
    "df = df.drop(['cum_idx'], axis=1)\n",
    "print(df.tail(10))"
   ]
  },
  {
   "cell_type": "code",
   "execution_count": null,
   "metadata": {},
   "outputs": [],
   "source": []
  }
 ],
 "metadata": {
  "kernelspec": {
   "display_name": "Python 3",
   "language": "python",
   "name": "python3"
  },
  "language_info": {
   "codemirror_mode": {
    "name": "ipython",
    "version": 3
   },
   "file_extension": ".py",
   "mimetype": "text/x-python",
   "name": "python",
   "nbconvert_exporter": "python",
   "pygments_lexer": "ipython3",
   "version": "3.8.5"
  }
 },
 "nbformat": 4,
 "nbformat_minor": 4
}
