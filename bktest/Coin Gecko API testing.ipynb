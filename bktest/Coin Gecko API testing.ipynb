{
 "cells": [
  {
   "cell_type": "code",
   "execution_count": 1,
   "metadata": {},
   "outputs": [],
   "source": [
    "from pycoingecko import CoinGeckoAPI\n",
    "import matplotlib.pyplot as plt\n",
    "import pandas as pd\n",
    "import numpy as np\n",
    "import scipy as sp"
   ]
  },
  {
   "cell_type": "code",
   "execution_count": 5,
   "metadata": {},
   "outputs": [],
   "source": [
    "coingecko = CoinGeckoAPI()"
   ]
  },
  {
   "cell_type": "code",
   "execution_count": 7,
   "metadata": {},
   "outputs": [],
   "source": [
    "def get_data(cryptocurrency):\n",
    "    cryptocurrency_data = coingecko.get_coin_by_id(cryptocurrency, market_data='true', sparkline='true')\n",
    "    df = pd.DataFrame.from_dict(cryptocurrency_data, orient='index')\n",
    "    df.to_csv(r'cryptocurrency_data.csv')\n",
    "    return df"
   ]
  },
  {
   "cell_type": "code",
   "execution_count": 9,
   "metadata": {},
   "outputs": [],
   "source": [
    "def get_historical_data(cryptocurrency, fiat_currency, number_of_days):\n",
    "    historic_price = coingecko.get_coin_market_chart_by_id(cryptocurrency, fiat_currency, number_of_days)\n",
    "    prices = [price[1] for price in historic_price['prices']]\n",
    "    return prices\n"
   ]
  },
  {
   "cell_type": "code",
   "execution_count": 14,
   "metadata": {},
   "outputs": [
    {
     "data": {
      "text/plain": [
       "121"
      ]
     },
     "execution_count": 14,
     "metadata": {},
     "output_type": "execute_result"
    }
   ],
   "source": [
    "#hist_price = coingecko.get_coin_market_chart_by_id('bitcoin', 'USD', 5)\n",
    "len(hist_price['prices'])"
   ]
  },
  {
   "cell_type": "code",
   "execution_count": 28,
   "metadata": {},
   "outputs": [
    {
     "ename": "HTTPError",
     "evalue": "400 Client Error: Bad Request for url: https://api.coingecko.com/api/v3/coins/btc/ohlc?vs_currency=USD&days=3",
     "output_type": "error",
     "traceback": [
      "\u001b[1;31m---------------------------------------------------------------------------\u001b[0m",
      "\u001b[1;31mHTTPError\u001b[0m                                 Traceback (most recent call last)",
      "\u001b[1;32m<ipython-input-28-82ef28f84f11>\u001b[0m in \u001b[0;36m<module>\u001b[1;34m\u001b[0m\n\u001b[0;32m      4\u001b[0m \u001b[1;33m\u001b[0m\u001b[0m\n\u001b[0;32m      5\u001b[0m \u001b[1;31m#print(coingecko.get_coin_history_by_id('bitcoin', '27-08-2018'))\u001b[0m\u001b[1;33m\u001b[0m\u001b[1;33m\u001b[0m\u001b[1;33m\u001b[0m\u001b[0m\n\u001b[1;32m----> 6\u001b[1;33m \u001b[0mcoingecko\u001b[0m\u001b[1;33m.\u001b[0m\u001b[0mget_coin_ohlc_by_id\u001b[0m\u001b[1;33m(\u001b[0m\u001b[1;34m'btc'\u001b[0m\u001b[1;33m,\u001b[0m \u001b[1;34m'USD'\u001b[0m\u001b[1;33m,\u001b[0m \u001b[1;36m3\u001b[0m\u001b[1;33m)\u001b[0m\u001b[1;33m\u001b[0m\u001b[1;33m\u001b[0m\u001b[0m\n\u001b[0m",
      "\u001b[1;32mC:\\Anaconda3\\lib\\site-packages\\pycoingecko\\utils.py\u001b[0m in \u001b[0;36minput_args\u001b[1;34m(*args, **kwargs)\u001b[0m\n\u001b[0;32m     10\u001b[0m         \u001b[0margs\u001b[0m \u001b[1;33m=\u001b[0m \u001b[1;33m[\u001b[0m\u001b[0marg_preprocessing\u001b[0m\u001b[1;33m(\u001b[0m\u001b[0mv\u001b[0m\u001b[1;33m)\u001b[0m \u001b[1;32mfor\u001b[0m \u001b[0mv\u001b[0m \u001b[1;32min\u001b[0m \u001b[0margs\u001b[0m\u001b[1;33m]\u001b[0m\u001b[1;33m\u001b[0m\u001b[1;33m\u001b[0m\u001b[0m\n\u001b[0;32m     11\u001b[0m \u001b[1;33m\u001b[0m\u001b[0m\n\u001b[1;32m---> 12\u001b[1;33m         \u001b[1;32mreturn\u001b[0m \u001b[0mfunc\u001b[0m\u001b[1;33m(\u001b[0m\u001b[1;33m*\u001b[0m\u001b[0margs\u001b[0m\u001b[1;33m,\u001b[0m \u001b[1;33m**\u001b[0m\u001b[0mkwargs\u001b[0m\u001b[1;33m)\u001b[0m\u001b[1;33m\u001b[0m\u001b[1;33m\u001b[0m\u001b[0m\n\u001b[0m\u001b[0;32m     13\u001b[0m \u001b[1;33m\u001b[0m\u001b[0m\n\u001b[0;32m     14\u001b[0m     \u001b[1;32mreturn\u001b[0m \u001b[0minput_args\u001b[0m\u001b[1;33m\u001b[0m\u001b[1;33m\u001b[0m\u001b[0m\n",
      "\u001b[1;32mC:\\Anaconda3\\lib\\site-packages\\pycoingecko\\api.py\u001b[0m in \u001b[0;36mget_coin_ohlc_by_id\u001b[1;34m(self, id, vs_currency, days, **kwargs)\u001b[0m\n\u001b[0;32m    196\u001b[0m         \u001b[0mapi_url\u001b[0m \u001b[1;33m=\u001b[0m \u001b[0mself\u001b[0m\u001b[1;33m.\u001b[0m\u001b[0m__api_url_params\u001b[0m\u001b[1;33m(\u001b[0m\u001b[0mapi_url\u001b[0m\u001b[1;33m,\u001b[0m \u001b[0mkwargs\u001b[0m\u001b[1;33m,\u001b[0m \u001b[0mapi_url_has_params\u001b[0m\u001b[1;33m=\u001b[0m\u001b[1;32mTrue\u001b[0m\u001b[1;33m)\u001b[0m\u001b[1;33m\u001b[0m\u001b[1;33m\u001b[0m\u001b[0m\n\u001b[0;32m    197\u001b[0m \u001b[1;33m\u001b[0m\u001b[0m\n\u001b[1;32m--> 198\u001b[1;33m         \u001b[1;32mreturn\u001b[0m \u001b[0mself\u001b[0m\u001b[1;33m.\u001b[0m\u001b[0m__request\u001b[0m\u001b[1;33m(\u001b[0m\u001b[0mapi_url\u001b[0m\u001b[1;33m)\u001b[0m\u001b[1;33m\u001b[0m\u001b[1;33m\u001b[0m\u001b[0m\n\u001b[0m\u001b[0;32m    199\u001b[0m \u001b[1;33m\u001b[0m\u001b[0m\n\u001b[0;32m    200\u001b[0m     \u001b[1;31m# ---------- Contract ----------#\u001b[0m\u001b[1;33m\u001b[0m\u001b[1;33m\u001b[0m\u001b[1;33m\u001b[0m\u001b[0m\n",
      "\u001b[1;32mC:\\Anaconda3\\lib\\site-packages\\pycoingecko\\api.py\u001b[0m in \u001b[0;36m__request\u001b[1;34m(self, url)\u001b[0m\n\u001b[0;32m     27\u001b[0m \u001b[1;33m\u001b[0m\u001b[0m\n\u001b[0;32m     28\u001b[0m         \u001b[1;32mtry\u001b[0m\u001b[1;33m:\u001b[0m\u001b[1;33m\u001b[0m\u001b[1;33m\u001b[0m\u001b[0m\n\u001b[1;32m---> 29\u001b[1;33m             \u001b[0mresponse\u001b[0m\u001b[1;33m.\u001b[0m\u001b[0mraise_for_status\u001b[0m\u001b[1;33m(\u001b[0m\u001b[1;33m)\u001b[0m\u001b[1;33m\u001b[0m\u001b[1;33m\u001b[0m\u001b[0m\n\u001b[0m\u001b[0;32m     30\u001b[0m             \u001b[0mcontent\u001b[0m \u001b[1;33m=\u001b[0m \u001b[0mjson\u001b[0m\u001b[1;33m.\u001b[0m\u001b[0mloads\u001b[0m\u001b[1;33m(\u001b[0m\u001b[0mresponse\u001b[0m\u001b[1;33m.\u001b[0m\u001b[0mcontent\u001b[0m\u001b[1;33m.\u001b[0m\u001b[0mdecode\u001b[0m\u001b[1;33m(\u001b[0m\u001b[1;34m'utf-8'\u001b[0m\u001b[1;33m)\u001b[0m\u001b[1;33m)\u001b[0m\u001b[1;33m\u001b[0m\u001b[1;33m\u001b[0m\u001b[0m\n\u001b[0;32m     31\u001b[0m             \u001b[1;32mreturn\u001b[0m \u001b[0mcontent\u001b[0m\u001b[1;33m\u001b[0m\u001b[1;33m\u001b[0m\u001b[0m\n",
      "\u001b[1;32mC:\\Anaconda3\\lib\\site-packages\\requests\\models.py\u001b[0m in \u001b[0;36mraise_for_status\u001b[1;34m(self)\u001b[0m\n\u001b[0;32m    939\u001b[0m \u001b[1;33m\u001b[0m\u001b[0m\n\u001b[0;32m    940\u001b[0m         \u001b[1;32mif\u001b[0m \u001b[0mhttp_error_msg\u001b[0m\u001b[1;33m:\u001b[0m\u001b[1;33m\u001b[0m\u001b[1;33m\u001b[0m\u001b[0m\n\u001b[1;32m--> 941\u001b[1;33m             \u001b[1;32mraise\u001b[0m \u001b[0mHTTPError\u001b[0m\u001b[1;33m(\u001b[0m\u001b[0mhttp_error_msg\u001b[0m\u001b[1;33m,\u001b[0m \u001b[0mresponse\u001b[0m\u001b[1;33m=\u001b[0m\u001b[0mself\u001b[0m\u001b[1;33m)\u001b[0m\u001b[1;33m\u001b[0m\u001b[1;33m\u001b[0m\u001b[0m\n\u001b[0m\u001b[0;32m    942\u001b[0m \u001b[1;33m\u001b[0m\u001b[0m\n\u001b[0;32m    943\u001b[0m     \u001b[1;32mdef\u001b[0m \u001b[0mclose\u001b[0m\u001b[1;33m(\u001b[0m\u001b[0mself\u001b[0m\u001b[1;33m)\u001b[0m\u001b[1;33m:\u001b[0m\u001b[1;33m\u001b[0m\u001b[1;33m\u001b[0m\u001b[0m\n",
      "\u001b[1;31mHTTPError\u001b[0m: 400 Client Error: Bad Request for url: https://api.coingecko.com/api/v3/coins/btc/ohlc?vs_currency=USD&days=3"
     ]
    }
   ],
   "source": [
    "#print(coingecko.get_price('bitcoin', 'usd'))\n",
    "\n",
    "#print(coingecko.get_token_price('ethereum', '0xB8c77482e45F1F44dE1745F52C74426C631bDD52', 'bnb', include_market_cap='true', include_24hr_vol='true', include_last_updated_at='true'))\n",
    "\n",
    "#print(coingecko.get_coin_history_by_id('bitcoin', '27-08-2018'))\n",
    "coingecko.get_coin_ohlc_by_id('btc', 'USD', 3)"
   ]
  },
  {
   "cell_type": "code",
   "execution_count": 35,
   "metadata": {},
   "outputs": [],
   "source": [
    "coin_list = coingecko.get_coins_list()\n",
    "d = {}\n",
    "for coin in coin_list:\n",
    "    d[coin['symbol']] = coin['id']\n",
    "\n",
    "# now use d['btc'] to search\n",
    "prices = {}\n",
    "prices['BTC'] = coingecko.get_price(ids=d['btc'], vs_currencies='usd')['bitcoin']['usd']\n",
    "prices['ETH'] = coingecko.get_price(ids=d['eth'], vs_currencies='usd')['ethereum-wormhole']['usd']"
   ]
  },
  {
   "cell_type": "code",
   "execution_count": 52,
   "metadata": {},
   "outputs": [
    {
     "name": "stdout",
     "output_type": "stream",
     "text": [
      "                0         1         2         3         4                date\n",
      "0   1650117600000  40450.31  40450.31  40436.21  40445.05 2022-04-16 22:00:00\n",
      "1   1650119400000  40482.25  40496.61  40443.20  40475.50 2022-04-16 22:30:00\n",
      "2   1650121200000  40539.20  40539.20  40500.18  40505.71 2022-04-16 23:00:00\n",
      "3   1650123000000  40519.90  40529.38  40336.80  40345.89 2022-04-16 23:30:00\n",
      "4   1650124800000  40320.61  40320.61  40086.11  40086.11 2022-04-17 00:00:00\n",
      "5   1650126600000  40098.00  40213.55  40098.00  40213.55 2022-04-17 00:30:00\n",
      "6   1650128400000  40208.27  40233.54  40190.14  40233.54 2022-04-17 01:00:00\n",
      "7   1650130200000  40284.30  40284.30  40212.75  40212.75 2022-04-17 01:30:00\n",
      "8   1650132000000  40215.39  40235.94  40167.98  40182.14 2022-04-17 02:00:00\n",
      "9   1650133800000  40180.84  40236.31  40180.84  40184.71 2022-04-17 02:30:00\n",
      "10  1650135600000  40207.15  40224.72  40167.47  40224.72 2022-04-17 03:00:00\n",
      "11  1650137400000  40221.20  40278.13  40221.20  40241.06 2022-04-17 03:30:00\n",
      "12  1650139200000  40264.07  40268.66  40248.96  40248.96 2022-04-17 04:00:00\n",
      "13  1650141000000  40256.40  40256.40  40236.69  40246.35 2022-04-17 04:30:00\n",
      "14  1650142800000  40247.41  40362.36  40247.41  40362.36 2022-04-17 05:00:00\n",
      "15  1650144600000  40375.59  40375.59  40342.11  40355.52 2022-04-17 05:30:00\n",
      "16  1650146400000  40390.32  40544.76  40390.32  40518.75 2022-04-17 06:00:00\n",
      "17  1650148200000  40590.43  40675.77  40590.43  40595.99 2022-04-17 06:30:00\n",
      "18  1650150000000  40569.81  40569.81  40465.07  40465.07 2022-04-17 07:00:00\n",
      "19  1650151800000  40447.16  40481.23  40447.16  40481.23 2022-04-17 07:30:00\n",
      "20  1650153600000  40496.86  40520.35  40442.93  40450.38 2022-04-17 08:00:00\n",
      "21  1650155400000  40443.36  40443.36  40415.26  40426.84 2022-04-17 08:30:00\n",
      "22  1650157200000  40373.83  40424.84  40373.83  40424.84 2022-04-17 09:00:00\n",
      "23  1650159000000  40421.85  40421.85  40373.85  40420.31 2022-04-17 09:30:00\n",
      "24  1650160800000  40409.49  40437.36  40409.49  40425.23 2022-04-17 10:00:00\n",
      "25  1650162600000  40424.27  40424.27  40380.59  40380.59 2022-04-17 10:30:00\n",
      "26  1650164400000  40306.54  40306.54  40229.35  40229.35 2022-04-17 11:00:00\n",
      "27  1650166200000  40222.10  40272.87  40188.36  40272.87 2022-04-17 11:30:00\n",
      "28  1650168000000  40254.20  40334.94  40254.20  40311.20 2022-04-17 12:00:00\n",
      "29  1650169800000  40306.99  40349.85  40306.67  40349.79 2022-04-17 12:30:00\n",
      "30  1650171600000  40336.07  40344.94  40335.60  40336.21 2022-04-17 13:00:00\n",
      "31  1650173400000  40328.16  40333.79  40298.72  40333.79 2022-04-17 13:30:00\n",
      "32  1650175200000  40353.60  40363.05  40343.68  40359.26 2022-04-17 14:00:00\n",
      "33  1650177000000  40418.82  40418.82  40359.18  40359.18 2022-04-17 14:30:00\n",
      "34  1650178800000  40366.53  40413.88  40358.29  40358.29 2022-04-17 15:00:00\n",
      "35  1650180600000  40351.22  40389.06  40351.22  40370.66 2022-04-17 15:30:00\n",
      "36  1650182400000  40353.08  40353.08  40286.02  40311.95 2022-04-17 16:00:00\n",
      "37  1650184200000  40314.62  40425.33  40314.62  40425.33 2022-04-17 16:30:00\n",
      "38  1650186000000  40406.81  40406.81  40388.94  40395.60 2022-04-17 17:00:00\n",
      "39  1650187800000  40485.69  40511.11  40485.69  40511.11 2022-04-17 17:30:00\n",
      "40  1650189600000  40501.59  40501.59  40458.92  40458.92 2022-04-17 18:00:00\n",
      "41  1650191400000  40462.54  40478.80  40462.54  40469.64 2022-04-17 18:30:00\n",
      "42  1650193200000  40471.23  40473.96  40420.67  40448.18 2022-04-17 19:00:00\n",
      "43  1650195000000  40456.40  40456.40  40394.91  40408.32 2022-04-17 19:30:00\n",
      "44  1650196800000  40442.59  40478.29  40442.59  40458.59 2022-04-17 20:00:00\n",
      "45  1650198600000  40479.02  40479.02  40438.06  40438.06 2022-04-17 20:30:00\n",
      "46  1650200400000  40424.55  40472.79  40424.55  40455.24 2022-04-17 21:00:00\n",
      "47  1650202200000  40438.62  40536.36  40438.62  40503.42 2022-04-17 21:30:00\n",
      "48  1650204000000  40450.49  40450.49  40450.49  40450.49 2022-04-17 22:00:00\n"
     ]
    }
   ],
   "source": [
    "import datetime\n",
    "data = coingecko.get_coin_ohlc_by_id(id=\"bitcoin\", vs_currency=\"usd\", days=1)\n",
    "adf = pd.DataFrame.from_records(data)\n",
    "adf['date'] = adf[0].apply(lambda x: datetime.datetime.fromtimestamp(x / 1e3))\n",
    "print(adf)"
   ]
  },
  {
   "cell_type": "code",
   "execution_count": 51,
   "metadata": {},
   "outputs": [
    {
     "data": {
      "text/plain": [
       "[{'id': 'binance_futures', 'name': 'Binance (Futures)'},\n",
       " {'id': 'ftx', 'name': 'FTX (Derivatives)'},\n",
       " {'id': 'btcc_futures', 'name': 'BTCC Futures'},\n",
       " {'id': 'okex_swap', 'name': 'OKX (Futures)'},\n",
       " {'id': 'bitget_futures', 'name': 'Bitget Futures'},\n",
       " {'id': 'bybit', 'name': 'Bybit'},\n",
       " {'id': 'gate_futures', 'name': 'Gate.io (Futures)'},\n",
       " {'id': 'prime_xbt', 'name': 'Prime XBT'},\n",
       " {'id': 'c_trade', 'name': 'C-Trade'},\n",
       " {'id': 'phemex_futures', 'name': 'Phemex (Futures)'},\n",
       " {'id': 'bitfinex_futures', 'name': 'Bitfinex (Futures)'},\n",
       " {'id': 'deribit', 'name': 'Deribit'},\n",
       " {'id': 'kumex', 'name': 'KuCoin Futures'},\n",
       " {'id': 'btse_futures', 'name': 'BTSE (Futures)'},\n",
       " {'id': 'aax_futures', 'name': 'AAX Futures'},\n",
       " {'id': 'dydx_perpetual', 'name': 'dYdX Perpetual'},\n",
       " {'id': 'bitmex', 'name': 'BitMEX'},\n",
       " {'id': 'mxc_futures', 'name': 'MEXC Global (Futures)'},\n",
       " {'id': 'crypto_com_futures', 'name': 'Crypto.com Exchange (Futures)'},\n",
       " {'id': 'huobi_dm', 'name': 'Huobi Futures'},\n",
       " {'id': 'zbg_futures', 'name': 'ZBG Futures'},\n",
       " {'id': 'hopex', 'name': 'Hopex'},\n",
       " {'id': 'coinflex_futures', 'name': 'CoinFLEX (Futures)'},\n",
       " {'id': 'delta_futures', 'name': 'Delta Exchange (Futures)'},\n",
       " {'id': 'mycoinstory', 'name': 'MCS'},\n",
       " {'id': 'kraken_futures', 'name': 'Kraken (Futures)'},\n",
       " {'id': 'bitforex_futures', 'name': 'Bitforex (Futures)'},\n",
       " {'id': 'coinex_futures', 'name': 'CoinEx (Futures)'},\n",
       " {'id': 'perpetual_protocol', 'name': 'Perpetual Protocol'},\n",
       " {'id': 'drift_protocol', 'name': 'Drift Protocol'},\n",
       " {'id': 'bitmax_futures', 'name': 'AscendEX  (BitMax) (Futures)'},\n",
       " {'id': 'poloniex_futures', 'name': 'Poloniex Futures'},\n",
       " {'id': 'bit_com_futures', 'name': 'Bit.com (Futures)'},\n",
       " {'id': 'bigone_futures', 'name': 'BigONE Futures'},\n",
       " {'id': 'mcdex', 'name': 'MCDEX (Arbitrum)'},\n",
       " {'id': 'mcdex_bsc', 'name': 'MCDEX (BSC)'},\n",
       " {'id': 'powertrade_derivatives', 'name': 'Powertrade (Derivatives)'},\n",
       " {'id': 'bithumb_futures', 'name': 'Bithumb (Futures)'},\n",
       " {'id': 'basefex', 'name': 'BaseFEX'},\n",
       " {'id': 'cointiger_futures', 'name': 'CoinTiger (Futures)'},\n",
       " {'id': 'dydx_perpetual_l1', 'name': 'dYdX Perpetual (L1)'},\n",
       " {'id': 'acdx_futures', 'name': 'ACDX Futures'},\n",
       " {'id': 'stormgain_futures', 'name': 'Stormgain Futures'},\n",
       " {'id': 'biki_futures', 'name': 'Biki (Futures)'},\n",
       " {'id': 'bitz_futures', 'name': 'BitZ (Futures)'},\n",
       " {'id': 'futureswap', 'name': 'Futureswap'},\n",
       " {'id': 'liquid_derivatives', 'name': 'Liquid Perpetuals'},\n",
       " {'id': 'bibox_futures', 'name': 'Bibox (Futures)'},\n",
       " {'id': 'jex_futures', 'name': 'Binance JEX (Futures)'},\n",
       " {'id': 'leverj', 'name': 'Leverj'},\n",
       " {'id': 'hbtc_futures', 'name': 'BHEX (Futures)'},\n",
       " {'id': 'btcex_futures', 'name': 'BTCEX (Futures)'},\n",
       " {'id': 'gmo_japan_futures', 'name': 'GMO Japan (Futures)'},\n",
       " {'id': 'cme_futures', 'name': 'CME Group'},\n",
       " {'id': 'injective_futures', 'name': 'Injective Pro (Futures)'},\n",
       " {'id': 'equos_perpetual', 'name': 'EQONEX (Perpetual)'},\n",
       " {'id': 'alpha_five', 'name': 'Alpha5'},\n",
       " {'id': 'btcmex', 'name': 'BTCMEX'},\n",
       " {'id': 'bitflyer_futures', 'name': 'Bitflyer (Futures)'},\n",
       " {'id': 'bitmart_futures', 'name': 'Bitmart Futures'},\n",
       " {'id': 'duedex', 'name': 'DueDEX'},\n",
       " {'id': 'bakkt', 'name': 'Bakkt'},\n",
       " {'id': 'fmex', 'name': 'FMex'}]"
      ]
     },
     "execution_count": 51,
     "metadata": {},
     "output_type": "execute_result"
    }
   ],
   "source": [
    "coingecko.get_derivatives_exchanges_list()"
   ]
  }
 ],
 "metadata": {
  "kernelspec": {
   "display_name": "Python 3",
   "language": "python",
   "name": "python3"
  },
  "language_info": {
   "codemirror_mode": {
    "name": "ipython",
    "version": 3
   },
   "file_extension": ".py",
   "mimetype": "text/x-python",
   "name": "python",
   "nbconvert_exporter": "python",
   "pygments_lexer": "ipython3",
   "version": "3.8.5"
  },
  "toc": {
   "base_numbering": 1,
   "nav_menu": {},
   "number_sections": true,
   "sideBar": true,
   "skip_h1_title": false,
   "title_cell": "Table of Contents",
   "title_sidebar": "Contents",
   "toc_cell": false,
   "toc_position": {},
   "toc_section_display": true,
   "toc_window_display": false
  }
 },
 "nbformat": 4,
 "nbformat_minor": 4
}
