{
 "cells": [
  {
   "cell_type": "code",
   "execution_count": 1,
   "metadata": {},
   "outputs": [],
   "source": [
    "import sys\n",
    "import pandas as pd\n",
    "import numpy as np\n",
    "import matplotlib as mpl\n",
    "import matplotlib.dates as dates\n",
    "import matplotlib.pyplot as plt\n",
    "import datetime\n",
    "import itertools\n",
    "sys.path.append(\"C:/dev/pyktrader3/\")\n",
    "from pycmqlib3.utility import misc\n",
    "from bktest import backtest\n",
    "import pycmqlib3.analytics.data_handler as dh"
   ]
  },
  {
   "cell_type": "code",
   "execution_count": 2,
   "metadata": {},
   "outputs": [],
   "source": [
    "ferrous_products_mkts = ['rb', 'hc', 'i', 'j', 'jm']\n",
    "ferrous_mixed_mkts = ['ru', 'FG', 'ZC', 'SM', \"SF\"]\n",
    "base_metal_mkts = ['cu', 'al', 'zn', 'pb', 'ni', 'sn']\n",
    "precious_metal_mkts = ['au', 'ag']\n",
    "ind_metal_mkts = ferrous_products_mkts + ferrous_mixed_mkts + base_metal_mkts  \n",
    "petro_chem_mkts = ['l', 'pp', 'v', 'TA', 'MA', 'bu', 'sc', 'fu', 'eg']\n",
    "ind_all_mkts = ind_metal_mkts + petro_chem_mkts\n",
    "ags_oil_mkts = ['m', 'RM', 'y', 'p', 'OI', 'a', 'c', 'cs', 'b']\n",
    "ags_soft_mkts = ['CF', 'SR', 'jd', 'AP', 'sp', 'CJ', 'UR']\n",
    "ags_all_mkts = ags_oil_mkts + ags_soft_mkts\n",
    "eq_fut_mkts = ['IF', 'IH', 'IC']\n",
    "bond_fut_mkts = ['T', 'TF']\n",
    "fin_all_mkts = eq_fut_mkts + bond_fut_mkts\n",
    "commod_all_mkts = ind_all_mkts + ags_all_mkts + precious_metal_mkts\n",
    "all_markets = commod_all_mkts + fin_all_mkts\n",
    "daily_start_dict = { 'c': datetime.date(2011,1,1), 'm': datetime.date(2011,1,1),\n",
    "    'y': datetime.date(2011,1,1), 'l': datetime.date(2011,1,1), 'rb':datetime.date(2011,1,1),\n",
    "    'p': datetime.date(2011,1,1), 'cu':datetime.date(2011,1,1), 'al':datetime.date(2011,1,1),\n",
    "    'zn':datetime.date(2011,1,1), 'au':datetime.date(2011,1,1), 'v': datetime.date(2011,1,1),\n",
    "    'a': datetime.date(2011,1,1), 'ru':datetime.date(2011,1,1), 'ag':datetime.date(2012,6,1),\n",
    "    'i': datetime.date(2014,1,1), 'j': datetime.date(2012,1,1), 'jm':datetime.date(2013,7,1),\n",
    "    'CF':datetime.date(2012,5,1),  'TA':datetime.date(2012,4,15),\n",
    "    'PM':datetime.date(2013,10,1), 'RM':datetime.date(2013,1,1),  'SR':datetime.date(2013,1,1),\n",
    "    'FG':datetime.date(2013,1,1),  'OI':datetime.date(2013,5,1),  'RI':datetime.date(2013,1,1),\n",
    "    'WH':datetime.date(2014,5,1),  'pp':datetime.date(2014,5,1),\n",
    "    'IF':datetime.date(2010,5,1),  'MA':datetime.date(2012,1,1),  'TF':datetime.date(2014,6,1),\n",
    "    'IH':datetime.date(2015,5,1),  'IC':datetime.date(2015,5,1),  'cs':datetime.date(2015,2,1),\n",
    "    'jd':datetime.date(2014,5,1),  'ni':datetime.date(2015,5,1),  'sn':datetime.date(2016,5,1),\n",
    "    'ZC':datetime.date(2013,11,1), 'hc':datetime.date(2014, 5, 1), 'SM': datetime.date(2017,1,1),\n",
    "    'SF': datetime.date(2017,9,1), 'CY': datetime.date(2017, 9, 1), 'AP': datetime.date(2018, 1, 1),\n",
    "    'TS': datetime.date(2018, 9, 1), 'fu': datetime.date(2018, 9, 1), 'sc': datetime.date(2018, 8, 1),\n",
    "    'b': datetime.date(2018, 1, 1), 'pb': datetime.date(2011, 10, 1), 'bu': datetime.date(2015,9,15),\n",
    "    'T':datetime.date(2015,6,1), 'ss': datetime.date(2020, 5, 1), 'sp': datetime.date(2019, 5, 1),\n",
    "    'CJ': datetime.date(2019, 8, 9), 'UR': datetime.date(2019, 8, 9), 'SA': datetime.date(2020, 1, 1),\n",
    "    'eb': datetime.date(2020, 1, 1), 'eg': datetime.date(2019, 5, 1), 'rr': datetime.date(2019, 9, 1),\n",
    "    'pg': datetime.date(2020, 9, 1), 'lu': datetime.date(2020, 8, 1),}\n",
    "min_start_dict = { 'c': datetime.date(2011,1,1), 'm': datetime.date(2011,1,1),\n",
    "    'y': datetime.date(2011,1,1), 'l': datetime.date(2011,1,1), 'rb':datetime.date(2011,1,1),\n",
    "    'p': datetime.date(2011,1,1), 'cu':datetime.date(2011,1,1), 'al':datetime.date(2011,1,1),\n",
    "    'zn':datetime.date(2011,1,1), 'au':datetime.date(2011,1,1), 'v': datetime.date(2011,1,1),\n",
    "    'a': datetime.date(2011,1,1), 'ru':datetime.date(2011,1,1), 'ag':datetime.date(2012,6,1),\n",
    "    'i': datetime.date(2014,1,1), 'j': datetime.date(2012,1,1), 'jm':datetime.date(2013,7,1),\n",
    "    'CF':datetime.date(2012,5,1),  'TA':datetime.date(2012,4,15),\n",
    "    'PM':datetime.date(2013,10,1), 'RM':datetime.date(2013,1,1),  'SR':datetime.date(2013,1,1),\n",
    "    'FG':datetime.date(2013,1,1),  'OI':datetime.date(2013,5,1),  'RI':datetime.date(2013,1,1),\n",
    "    'WH':datetime.date(2014,5,1),  'pp':datetime.date(2014,5,1),\n",
    "    'IF':datetime.date(2010,5,1),  'MA':datetime.date(2012,1,1),  'TF':datetime.date(2014,6,1),\n",
    "    'IH':datetime.date(2015,5,1),  'IC':datetime.date(2015,5,1),  'cs':datetime.date(2015,2,1),\n",
    "    'jd':datetime.date(2014,5,1),  'ni':datetime.date(2015,5,1),  'sn':datetime.date(2016,5,1),\n",
    "    'ZC':datetime.date(2013,11,1), 'hc':datetime.date(2014, 5, 1), 'SM': datetime.date(2017,1,1),\n",
    "    'SF': datetime.date(2017,9,1), 'CY': datetime.date(2017, 9, 1), 'AP': datetime.date(2018, 1, 1),\n",
    "    'TS': datetime.date(2018, 9, 1), 'fu': datetime.date(2018, 9, 1), 'sc': datetime.date(2018, 8, 1),\n",
    "    'b': datetime.date(2018, 1, 1), 'pb': datetime.date(2011, 10, 1), 'bu': datetime.date(2015,9,15),\n",
    "    'T':datetime.date(2015,6,1), 'ss': datetime.date(2020, 5, 1), 'sp': datetime.date(2019, 5, 1),\n",
    "    'CJ': datetime.date(2019, 8, 9), 'UR': datetime.date(2019, 8, 9), 'SA': datetime.date(2020, 1, 1),\n",
    "    'eb': datetime.date(2020, 1, 1), 'eg': datetime.date(2019, 5, 1), 'rr': datetime.date(2019, 9, 1),\n",
    "    'pg': datetime.date(2020, 9, 1), 'lu': datetime.date(2020, 8, 1),}"
   ]
  },
  {
   "cell_type": "code",
   "execution_count": 3,
   "metadata": {},
   "outputs": [
    {
     "name": "stdout",
     "output_type": "stream",
     "text": [
      "loading mkt = rb, args = {'n': 1, 'roll_rule': '-30b', 'freq': 'm', 'need_shift': 1, 'dbtbl_prefix': '', 'start_date': datetime.date(2016, 1, 1), 'end_date': datetime.date(2021, 3, 26)}\n"
     ]
    },
    {
     "name": "stderr",
     "output_type": "stream",
     "text": [
      "C:\\Anaconda3\\lib\\site-packages\\pandas\\core\\indexing.py:1745: SettingWithCopyWarning: \n",
      "A value is trying to be set on a copy of a slice from a DataFrame.\n",
      "Try using .loc[row_indexer,col_indexer] = value instead\n",
      "\n",
      "See the caveats in the documentation: https://pandas.pydata.org/pandas-docs/stable/user_guide/indexing.html#returning-a-view-versus-a-copy\n",
      "  isetter(ilocs[0], value)\n"
     ]
    },
    {
     "name": "stdout",
     "output_type": "stream",
     "text": [
      "loading mkt = hc, args = {'n': 1, 'roll_rule': '-30b', 'freq': 'm', 'need_shift': 1, 'dbtbl_prefix': '', 'start_date': datetime.date(2016, 1, 1), 'end_date': datetime.date(2021, 3, 26)}\n"
     ]
    },
    {
     "name": "stderr",
     "output_type": "stream",
     "text": [
      "C:\\Anaconda3\\lib\\site-packages\\pandas\\core\\indexing.py:1745: SettingWithCopyWarning: \n",
      "A value is trying to be set on a copy of a slice from a DataFrame.\n",
      "Try using .loc[row_indexer,col_indexer] = value instead\n",
      "\n",
      "See the caveats in the documentation: https://pandas.pydata.org/pandas-docs/stable/user_guide/indexing.html#returning-a-view-versus-a-copy\n",
      "  isetter(ilocs[0], value)\n"
     ]
    },
    {
     "name": "stdout",
     "output_type": "stream",
     "text": [
      "loading mkt = i, args = {'n': 1, 'roll_rule': '-30b', 'freq': 'm', 'need_shift': 1, 'dbtbl_prefix': '', 'start_date': datetime.date(2016, 1, 1), 'end_date': datetime.date(2021, 3, 26)}\n"
     ]
    },
    {
     "name": "stderr",
     "output_type": "stream",
     "text": [
      "C:\\Anaconda3\\lib\\site-packages\\pandas\\core\\indexing.py:1745: SettingWithCopyWarning: \n",
      "A value is trying to be set on a copy of a slice from a DataFrame.\n",
      "Try using .loc[row_indexer,col_indexer] = value instead\n",
      "\n",
      "See the caveats in the documentation: https://pandas.pydata.org/pandas-docs/stable/user_guide/indexing.html#returning-a-view-versus-a-copy\n",
      "  isetter(ilocs[0], value)\n"
     ]
    },
    {
     "name": "stdout",
     "output_type": "stream",
     "text": [
      "loading mkt = j, args = {'n': 1, 'roll_rule': '-30b', 'freq': 'm', 'need_shift': 1, 'dbtbl_prefix': '', 'start_date': datetime.date(2016, 1, 1), 'end_date': datetime.date(2021, 3, 26)}\n"
     ]
    },
    {
     "name": "stderr",
     "output_type": "stream",
     "text": [
      "C:\\Anaconda3\\lib\\site-packages\\pandas\\core\\indexing.py:1745: SettingWithCopyWarning: \n",
      "A value is trying to be set on a copy of a slice from a DataFrame.\n",
      "Try using .loc[row_indexer,col_indexer] = value instead\n",
      "\n",
      "See the caveats in the documentation: https://pandas.pydata.org/pandas-docs/stable/user_guide/indexing.html#returning-a-view-versus-a-copy\n",
      "  isetter(ilocs[0], value)\n"
     ]
    },
    {
     "name": "stdout",
     "output_type": "stream",
     "text": [
      "loading mkt = jm, args = {'n': 1, 'roll_rule': '-30b', 'freq': 'm', 'need_shift': 1, 'dbtbl_prefix': '', 'start_date': datetime.date(2016, 1, 1), 'end_date': datetime.date(2021, 3, 26)}\n"
     ]
    },
    {
     "name": "stderr",
     "output_type": "stream",
     "text": [
      "C:\\Anaconda3\\lib\\site-packages\\pandas\\core\\indexing.py:1745: SettingWithCopyWarning: \n",
      "A value is trying to be set on a copy of a slice from a DataFrame.\n",
      "Try using .loc[row_indexer,col_indexer] = value instead\n",
      "\n",
      "See the caveats in the documentation: https://pandas.pydata.org/pandas-docs/stable/user_guide/indexing.html#returning-a-view-versus-a-copy\n",
      "  isetter(ilocs[0], value)\n"
     ]
    },
    {
     "name": "stdout",
     "output_type": "stream",
     "text": [
      "loading mkt = ru, args = {'n': 1, 'roll_rule': '-30b', 'freq': 'm', 'need_shift': 1, 'dbtbl_prefix': '', 'start_date': datetime.date(2016, 1, 1), 'end_date': datetime.date(2021, 3, 26)}\n"
     ]
    },
    {
     "name": "stderr",
     "output_type": "stream",
     "text": [
      "C:\\Anaconda3\\lib\\site-packages\\pandas\\core\\indexing.py:1745: SettingWithCopyWarning: \n",
      "A value is trying to be set on a copy of a slice from a DataFrame.\n",
      "Try using .loc[row_indexer,col_indexer] = value instead\n",
      "\n",
      "See the caveats in the documentation: https://pandas.pydata.org/pandas-docs/stable/user_guide/indexing.html#returning-a-view-versus-a-copy\n",
      "  isetter(ilocs[0], value)\n"
     ]
    },
    {
     "name": "stdout",
     "output_type": "stream",
     "text": [
      "loading mkt = FG, args = {'n': 1, 'roll_rule': '-30b', 'freq': 'm', 'need_shift': 1, 'dbtbl_prefix': '', 'start_date': datetime.date(2016, 1, 1), 'end_date': datetime.date(2021, 3, 26)}\n"
     ]
    },
    {
     "name": "stderr",
     "output_type": "stream",
     "text": [
      "C:\\Anaconda3\\lib\\site-packages\\pandas\\core\\indexing.py:1745: SettingWithCopyWarning: \n",
      "A value is trying to be set on a copy of a slice from a DataFrame.\n",
      "Try using .loc[row_indexer,col_indexer] = value instead\n",
      "\n",
      "See the caveats in the documentation: https://pandas.pydata.org/pandas-docs/stable/user_guide/indexing.html#returning-a-view-versus-a-copy\n",
      "  isetter(ilocs[0], value)\n"
     ]
    },
    {
     "name": "stdout",
     "output_type": "stream",
     "text": [
      "loading mkt = ZC, args = {'n': 1, 'roll_rule': '-30b', 'freq': 'm', 'need_shift': 1, 'dbtbl_prefix': '', 'start_date': datetime.date(2016, 1, 1), 'end_date': datetime.date(2021, 3, 26)}\n"
     ]
    },
    {
     "name": "stderr",
     "output_type": "stream",
     "text": [
      "C:\\Anaconda3\\lib\\site-packages\\pandas\\core\\indexing.py:1745: SettingWithCopyWarning: \n",
      "A value is trying to be set on a copy of a slice from a DataFrame.\n",
      "Try using .loc[row_indexer,col_indexer] = value instead\n",
      "\n",
      "See the caveats in the documentation: https://pandas.pydata.org/pandas-docs/stable/user_guide/indexing.html#returning-a-view-versus-a-copy\n",
      "  isetter(ilocs[0], value)\n"
     ]
    },
    {
     "name": "stdout",
     "output_type": "stream",
     "text": [
      "loading mkt = cu, args = {'n': 1, 'roll_rule': '-30b', 'freq': 'm', 'need_shift': 1, 'dbtbl_prefix': '', 'start_date': datetime.date(2016, 1, 1), 'end_date': datetime.date(2021, 3, 26)}\n"
     ]
    },
    {
     "name": "stderr",
     "output_type": "stream",
     "text": [
      "C:\\Anaconda3\\lib\\site-packages\\pandas\\core\\indexing.py:1745: SettingWithCopyWarning: \n",
      "A value is trying to be set on a copy of a slice from a DataFrame.\n",
      "Try using .loc[row_indexer,col_indexer] = value instead\n",
      "\n",
      "See the caveats in the documentation: https://pandas.pydata.org/pandas-docs/stable/user_guide/indexing.html#returning-a-view-versus-a-copy\n",
      "  isetter(ilocs[0], value)\n"
     ]
    },
    {
     "name": "stdout",
     "output_type": "stream",
     "text": [
      "loading mkt = al, args = {'n': 1, 'roll_rule': '-30b', 'freq': 'm', 'need_shift': 1, 'dbtbl_prefix': '', 'start_date': datetime.date(2016, 1, 1), 'end_date': datetime.date(2021, 3, 26)}\n"
     ]
    },
    {
     "name": "stderr",
     "output_type": "stream",
     "text": [
      "C:\\Anaconda3\\lib\\site-packages\\pandas\\core\\indexing.py:1745: SettingWithCopyWarning: \n",
      "A value is trying to be set on a copy of a slice from a DataFrame.\n",
      "Try using .loc[row_indexer,col_indexer] = value instead\n",
      "\n",
      "See the caveats in the documentation: https://pandas.pydata.org/pandas-docs/stable/user_guide/indexing.html#returning-a-view-versus-a-copy\n",
      "  isetter(ilocs[0], value)\n"
     ]
    },
    {
     "name": "stdout",
     "output_type": "stream",
     "text": [
      "loading mkt = zn, args = {'n': 1, 'roll_rule': '-30b', 'freq': 'm', 'need_shift': 1, 'dbtbl_prefix': '', 'start_date': datetime.date(2016, 1, 1), 'end_date': datetime.date(2021, 3, 26)}\n"
     ]
    },
    {
     "name": "stderr",
     "output_type": "stream",
     "text": [
      "C:\\Anaconda3\\lib\\site-packages\\pandas\\core\\indexing.py:1745: SettingWithCopyWarning: \n",
      "A value is trying to be set on a copy of a slice from a DataFrame.\n",
      "Try using .loc[row_indexer,col_indexer] = value instead\n",
      "\n",
      "See the caveats in the documentation: https://pandas.pydata.org/pandas-docs/stable/user_guide/indexing.html#returning-a-view-versus-a-copy\n",
      "  isetter(ilocs[0], value)\n"
     ]
    },
    {
     "name": "stdout",
     "output_type": "stream",
     "text": [
      "loading mkt = pb, args = {'n': 1, 'roll_rule': '-30b', 'freq': 'm', 'need_shift': 1, 'dbtbl_prefix': '', 'start_date': datetime.date(2016, 1, 1), 'end_date': datetime.date(2021, 3, 26)}\n"
     ]
    },
    {
     "name": "stderr",
     "output_type": "stream",
     "text": [
      "C:\\Anaconda3\\lib\\site-packages\\pandas\\core\\indexing.py:1745: SettingWithCopyWarning: \n",
      "A value is trying to be set on a copy of a slice from a DataFrame.\n",
      "Try using .loc[row_indexer,col_indexer] = value instead\n",
      "\n",
      "See the caveats in the documentation: https://pandas.pydata.org/pandas-docs/stable/user_guide/indexing.html#returning-a-view-versus-a-copy\n",
      "  isetter(ilocs[0], value)\n"
     ]
    },
    {
     "name": "stdout",
     "output_type": "stream",
     "text": [
      "loading mkt = ni, args = {'n': 1, 'roll_rule': '-30b', 'freq': 'm', 'need_shift': 1, 'dbtbl_prefix': '', 'start_date': datetime.date(2016, 1, 1), 'end_date': datetime.date(2021, 3, 26)}\n"
     ]
    },
    {
     "name": "stderr",
     "output_type": "stream",
     "text": [
      "C:\\Anaconda3\\lib\\site-packages\\pandas\\core\\indexing.py:1745: SettingWithCopyWarning: \n",
      "A value is trying to be set on a copy of a slice from a DataFrame.\n",
      "Try using .loc[row_indexer,col_indexer] = value instead\n",
      "\n",
      "See the caveats in the documentation: https://pandas.pydata.org/pandas-docs/stable/user_guide/indexing.html#returning-a-view-versus-a-copy\n",
      "  isetter(ilocs[0], value)\n"
     ]
    },
    {
     "name": "stdout",
     "output_type": "stream",
     "text": [
      "loading mkt = sn, args = {'n': 1, 'roll_rule': '-30b', 'freq': 'm', 'need_shift': 1, 'dbtbl_prefix': '', 'start_date': datetime.date(2016, 5, 1), 'end_date': datetime.date(2021, 3, 26)}\n"
     ]
    },
    {
     "name": "stderr",
     "output_type": "stream",
     "text": [
      "C:\\Anaconda3\\lib\\site-packages\\pandas\\core\\indexing.py:1745: SettingWithCopyWarning: \n",
      "A value is trying to be set on a copy of a slice from a DataFrame.\n",
      "Try using .loc[row_indexer,col_indexer] = value instead\n",
      "\n",
      "See the caveats in the documentation: https://pandas.pydata.org/pandas-docs/stable/user_guide/indexing.html#returning-a-view-versus-a-copy\n",
      "  isetter(ilocs[0], value)\n"
     ]
    },
    {
     "name": "stdout",
     "output_type": "stream",
     "text": [
      "loading mkt = l, args = {'n': 1, 'roll_rule': '-30b', 'freq': 'm', 'need_shift': 1, 'dbtbl_prefix': '', 'start_date': datetime.date(2016, 1, 1), 'end_date': datetime.date(2021, 3, 26)}\n"
     ]
    },
    {
     "name": "stderr",
     "output_type": "stream",
     "text": [
      "C:\\Anaconda3\\lib\\site-packages\\pandas\\core\\indexing.py:1745: SettingWithCopyWarning: \n",
      "A value is trying to be set on a copy of a slice from a DataFrame.\n",
      "Try using .loc[row_indexer,col_indexer] = value instead\n",
      "\n",
      "See the caveats in the documentation: https://pandas.pydata.org/pandas-docs/stable/user_guide/indexing.html#returning-a-view-versus-a-copy\n",
      "  isetter(ilocs[0], value)\n"
     ]
    },
    {
     "name": "stdout",
     "output_type": "stream",
     "text": [
      "loading mkt = pp, args = {'n': 1, 'roll_rule': '-30b', 'freq': 'm', 'need_shift': 1, 'dbtbl_prefix': '', 'start_date': datetime.date(2016, 1, 1), 'end_date': datetime.date(2021, 3, 26)}\n"
     ]
    },
    {
     "name": "stderr",
     "output_type": "stream",
     "text": [
      "C:\\Anaconda3\\lib\\site-packages\\pandas\\core\\indexing.py:1745: SettingWithCopyWarning: \n",
      "A value is trying to be set on a copy of a slice from a DataFrame.\n",
      "Try using .loc[row_indexer,col_indexer] = value instead\n",
      "\n",
      "See the caveats in the documentation: https://pandas.pydata.org/pandas-docs/stable/user_guide/indexing.html#returning-a-view-versus-a-copy\n",
      "  isetter(ilocs[0], value)\n"
     ]
    },
    {
     "name": "stdout",
     "output_type": "stream",
     "text": [
      "loading mkt = v, args = {'n': 1, 'roll_rule': '-30b', 'freq': 'm', 'need_shift': 1, 'dbtbl_prefix': '', 'start_date': datetime.date(2016, 1, 1), 'end_date': datetime.date(2021, 3, 26)}\n"
     ]
    },
    {
     "name": "stderr",
     "output_type": "stream",
     "text": [
      "C:\\Anaconda3\\lib\\site-packages\\pandas\\core\\indexing.py:1745: SettingWithCopyWarning: \n",
      "A value is trying to be set on a copy of a slice from a DataFrame.\n",
      "Try using .loc[row_indexer,col_indexer] = value instead\n",
      "\n",
      "See the caveats in the documentation: https://pandas.pydata.org/pandas-docs/stable/user_guide/indexing.html#returning-a-view-versus-a-copy\n",
      "  isetter(ilocs[0], value)\n"
     ]
    },
    {
     "name": "stdout",
     "output_type": "stream",
     "text": [
      "loading mkt = TA, args = {'n': 1, 'roll_rule': '-30b', 'freq': 'm', 'need_shift': 1, 'dbtbl_prefix': '', 'start_date': datetime.date(2016, 1, 1), 'end_date': datetime.date(2021, 3, 26)}\n"
     ]
    },
    {
     "name": "stderr",
     "output_type": "stream",
     "text": [
      "C:\\Anaconda3\\lib\\site-packages\\pandas\\core\\indexing.py:1745: SettingWithCopyWarning: \n",
      "A value is trying to be set on a copy of a slice from a DataFrame.\n",
      "Try using .loc[row_indexer,col_indexer] = value instead\n",
      "\n",
      "See the caveats in the documentation: https://pandas.pydata.org/pandas-docs/stable/user_guide/indexing.html#returning-a-view-versus-a-copy\n",
      "  isetter(ilocs[0], value)\n"
     ]
    },
    {
     "name": "stdout",
     "output_type": "stream",
     "text": [
      "loading mkt = MA, args = {'n': 1, 'roll_rule': '-30b', 'freq': 'm', 'need_shift': 1, 'dbtbl_prefix': '', 'start_date': datetime.date(2016, 1, 1), 'end_date': datetime.date(2021, 3, 26)}\n"
     ]
    },
    {
     "name": "stderr",
     "output_type": "stream",
     "text": [
      "C:\\Anaconda3\\lib\\site-packages\\pandas\\core\\indexing.py:1745: SettingWithCopyWarning: \n",
      "A value is trying to be set on a copy of a slice from a DataFrame.\n",
      "Try using .loc[row_indexer,col_indexer] = value instead\n",
      "\n",
      "See the caveats in the documentation: https://pandas.pydata.org/pandas-docs/stable/user_guide/indexing.html#returning-a-view-versus-a-copy\n",
      "  isetter(ilocs[0], value)\n"
     ]
    },
    {
     "name": "stdout",
     "output_type": "stream",
     "text": [
      "loading mkt = bu, args = {'n': 1, 'roll_rule': '-30b', 'freq': 'm', 'need_shift': 1, 'dbtbl_prefix': '', 'start_date': datetime.date(2016, 1, 1), 'end_date': datetime.date(2021, 3, 26)}\n"
     ]
    },
    {
     "name": "stderr",
     "output_type": "stream",
     "text": [
      "C:\\Anaconda3\\lib\\site-packages\\pandas\\core\\indexing.py:1745: SettingWithCopyWarning: \n",
      "A value is trying to be set on a copy of a slice from a DataFrame.\n",
      "Try using .loc[row_indexer,col_indexer] = value instead\n",
      "\n",
      "See the caveats in the documentation: https://pandas.pydata.org/pandas-docs/stable/user_guide/indexing.html#returning-a-view-versus-a-copy\n",
      "  isetter(ilocs[0], value)\n"
     ]
    },
    {
     "name": "stdout",
     "output_type": "stream",
     "text": [
      "loading mkt = sc, args = {'n': 1, 'roll_rule': '-20b', 'freq': 'm', 'need_shift': 1, 'dbtbl_prefix': '', 'start_date': datetime.date(2018, 8, 1), 'end_date': datetime.date(2021, 3, 26)}\n"
     ]
    },
    {
     "name": "stderr",
     "output_type": "stream",
     "text": [
      "C:\\Anaconda3\\lib\\site-packages\\pandas\\core\\indexing.py:1745: SettingWithCopyWarning: \n",
      "A value is trying to be set on a copy of a slice from a DataFrame.\n",
      "Try using .loc[row_indexer,col_indexer] = value instead\n",
      "\n",
      "See the caveats in the documentation: https://pandas.pydata.org/pandas-docs/stable/user_guide/indexing.html#returning-a-view-versus-a-copy\n",
      "  isetter(ilocs[0], value)\n"
     ]
    },
    {
     "name": "stdout",
     "output_type": "stream",
     "text": [
      "loading mkt = m, args = {'n': 1, 'roll_rule': '-30b', 'freq': 'm', 'need_shift': 1, 'dbtbl_prefix': '', 'start_date': datetime.date(2016, 1, 1), 'end_date': datetime.date(2021, 3, 26)}\n"
     ]
    },
    {
     "name": "stderr",
     "output_type": "stream",
     "text": [
      "C:\\Anaconda3\\lib\\site-packages\\pandas\\core\\indexing.py:1745: SettingWithCopyWarning: \n",
      "A value is trying to be set on a copy of a slice from a DataFrame.\n",
      "Try using .loc[row_indexer,col_indexer] = value instead\n",
      "\n",
      "See the caveats in the documentation: https://pandas.pydata.org/pandas-docs/stable/user_guide/indexing.html#returning-a-view-versus-a-copy\n",
      "  isetter(ilocs[0], value)\n"
     ]
    },
    {
     "name": "stdout",
     "output_type": "stream",
     "text": [
      "loading mkt = RM, args = {'n': 1, 'roll_rule': '-30b', 'freq': 'm', 'need_shift': 1, 'dbtbl_prefix': '', 'start_date': datetime.date(2016, 1, 1), 'end_date': datetime.date(2021, 3, 26)}\n"
     ]
    },
    {
     "name": "stderr",
     "output_type": "stream",
     "text": [
      "C:\\Anaconda3\\lib\\site-packages\\pandas\\core\\indexing.py:1745: SettingWithCopyWarning: \n",
      "A value is trying to be set on a copy of a slice from a DataFrame.\n",
      "Try using .loc[row_indexer,col_indexer] = value instead\n",
      "\n",
      "See the caveats in the documentation: https://pandas.pydata.org/pandas-docs/stable/user_guide/indexing.html#returning-a-view-versus-a-copy\n",
      "  isetter(ilocs[0], value)\n"
     ]
    },
    {
     "name": "stdout",
     "output_type": "stream",
     "text": [
      "loading mkt = y, args = {'n': 1, 'roll_rule': '-30b', 'freq': 'm', 'need_shift': 1, 'dbtbl_prefix': '', 'start_date': datetime.date(2016, 1, 1), 'end_date': datetime.date(2021, 3, 26)}\n"
     ]
    },
    {
     "name": "stderr",
     "output_type": "stream",
     "text": [
      "C:\\Anaconda3\\lib\\site-packages\\pandas\\core\\indexing.py:1745: SettingWithCopyWarning: \n",
      "A value is trying to be set on a copy of a slice from a DataFrame.\n",
      "Try using .loc[row_indexer,col_indexer] = value instead\n",
      "\n",
      "See the caveats in the documentation: https://pandas.pydata.org/pandas-docs/stable/user_guide/indexing.html#returning-a-view-versus-a-copy\n",
      "  isetter(ilocs[0], value)\n"
     ]
    },
    {
     "name": "stdout",
     "output_type": "stream",
     "text": [
      "loading mkt = p, args = {'n': 1, 'roll_rule': '-30b', 'freq': 'm', 'need_shift': 1, 'dbtbl_prefix': '', 'start_date': datetime.date(2016, 1, 1), 'end_date': datetime.date(2021, 3, 26)}\n"
     ]
    },
    {
     "name": "stderr",
     "output_type": "stream",
     "text": [
      "C:\\Anaconda3\\lib\\site-packages\\pandas\\core\\indexing.py:1745: SettingWithCopyWarning: \n",
      "A value is trying to be set on a copy of a slice from a DataFrame.\n",
      "Try using .loc[row_indexer,col_indexer] = value instead\n",
      "\n",
      "See the caveats in the documentation: https://pandas.pydata.org/pandas-docs/stable/user_guide/indexing.html#returning-a-view-versus-a-copy\n",
      "  isetter(ilocs[0], value)\n"
     ]
    },
    {
     "name": "stdout",
     "output_type": "stream",
     "text": [
      "loading mkt = OI, args = {'n': 1, 'roll_rule': '-30b', 'freq': 'm', 'need_shift': 1, 'dbtbl_prefix': '', 'start_date': datetime.date(2016, 1, 1), 'end_date': datetime.date(2021, 3, 26)}\n"
     ]
    },
    {
     "name": "stderr",
     "output_type": "stream",
     "text": [
      "C:\\Anaconda3\\lib\\site-packages\\pandas\\core\\indexing.py:1745: SettingWithCopyWarning: \n",
      "A value is trying to be set on a copy of a slice from a DataFrame.\n",
      "Try using .loc[row_indexer,col_indexer] = value instead\n",
      "\n",
      "See the caveats in the documentation: https://pandas.pydata.org/pandas-docs/stable/user_guide/indexing.html#returning-a-view-versus-a-copy\n",
      "  isetter(ilocs[0], value)\n"
     ]
    },
    {
     "name": "stdout",
     "output_type": "stream",
     "text": [
      "loading mkt = a, args = {'n': 1, 'roll_rule': '-30b', 'freq': 'm', 'need_shift': 1, 'dbtbl_prefix': '', 'start_date': datetime.date(2016, 1, 1), 'end_date': datetime.date(2021, 3, 26)}\n"
     ]
    },
    {
     "name": "stderr",
     "output_type": "stream",
     "text": [
      "C:\\Anaconda3\\lib\\site-packages\\pandas\\core\\indexing.py:1745: SettingWithCopyWarning: \n",
      "A value is trying to be set on a copy of a slice from a DataFrame.\n",
      "Try using .loc[row_indexer,col_indexer] = value instead\n",
      "\n",
      "See the caveats in the documentation: https://pandas.pydata.org/pandas-docs/stable/user_guide/indexing.html#returning-a-view-versus-a-copy\n",
      "  isetter(ilocs[0], value)\n"
     ]
    },
    {
     "name": "stdout",
     "output_type": "stream",
     "text": [
      "loading mkt = c, args = {'n': 1, 'roll_rule': '-30b', 'freq': 'm', 'need_shift': 1, 'dbtbl_prefix': '', 'start_date': datetime.date(2016, 1, 1), 'end_date': datetime.date(2021, 3, 26)}\n"
     ]
    },
    {
     "name": "stderr",
     "output_type": "stream",
     "text": [
      "C:\\Anaconda3\\lib\\site-packages\\pandas\\core\\indexing.py:1745: SettingWithCopyWarning: \n",
      "A value is trying to be set on a copy of a slice from a DataFrame.\n",
      "Try using .loc[row_indexer,col_indexer] = value instead\n",
      "\n",
      "See the caveats in the documentation: https://pandas.pydata.org/pandas-docs/stable/user_guide/indexing.html#returning-a-view-versus-a-copy\n",
      "  isetter(ilocs[0], value)\n"
     ]
    },
    {
     "name": "stdout",
     "output_type": "stream",
     "text": [
      "loading mkt = cs, args = {'n': 1, 'roll_rule': '-30b', 'freq': 'm', 'need_shift': 1, 'dbtbl_prefix': '', 'start_date': datetime.date(2016, 1, 1), 'end_date': datetime.date(2021, 3, 26)}\n"
     ]
    },
    {
     "name": "stderr",
     "output_type": "stream",
     "text": [
      "C:\\Anaconda3\\lib\\site-packages\\pandas\\core\\indexing.py:1745: SettingWithCopyWarning: \n",
      "A value is trying to be set on a copy of a slice from a DataFrame.\n",
      "Try using .loc[row_indexer,col_indexer] = value instead\n",
      "\n",
      "See the caveats in the documentation: https://pandas.pydata.org/pandas-docs/stable/user_guide/indexing.html#returning-a-view-versus-a-copy\n",
      "  isetter(ilocs[0], value)\n"
     ]
    },
    {
     "name": "stdout",
     "output_type": "stream",
     "text": [
      "loading mkt = CF, args = {'n': 1, 'roll_rule': '-30b', 'freq': 'm', 'need_shift': 1, 'dbtbl_prefix': '', 'start_date': datetime.date(2016, 1, 1), 'end_date': datetime.date(2021, 3, 26)}\n"
     ]
    },
    {
     "name": "stderr",
     "output_type": "stream",
     "text": [
      "C:\\Anaconda3\\lib\\site-packages\\pandas\\core\\indexing.py:1745: SettingWithCopyWarning: \n",
      "A value is trying to be set on a copy of a slice from a DataFrame.\n",
      "Try using .loc[row_indexer,col_indexer] = value instead\n",
      "\n",
      "See the caveats in the documentation: https://pandas.pydata.org/pandas-docs/stable/user_guide/indexing.html#returning-a-view-versus-a-copy\n",
      "  isetter(ilocs[0], value)\n"
     ]
    },
    {
     "name": "stdout",
     "output_type": "stream",
     "text": [
      "loading mkt = SR, args = {'n': 1, 'roll_rule': '-30b', 'freq': 'm', 'need_shift': 1, 'dbtbl_prefix': '', 'start_date': datetime.date(2016, 1, 1), 'end_date': datetime.date(2021, 3, 26)}\n"
     ]
    },
    {
     "name": "stderr",
     "output_type": "stream",
     "text": [
      "C:\\Anaconda3\\lib\\site-packages\\pandas\\core\\indexing.py:1745: SettingWithCopyWarning: \n",
      "A value is trying to be set on a copy of a slice from a DataFrame.\n",
      "Try using .loc[row_indexer,col_indexer] = value instead\n",
      "\n",
      "See the caveats in the documentation: https://pandas.pydata.org/pandas-docs/stable/user_guide/indexing.html#returning-a-view-versus-a-copy\n",
      "  isetter(ilocs[0], value)\n"
     ]
    },
    {
     "name": "stdout",
     "output_type": "stream",
     "text": [
      "loading mkt = jd, args = {'n': 1, 'roll_rule': '-30b', 'freq': 'm', 'need_shift': 1, 'dbtbl_prefix': '', 'start_date': datetime.date(2016, 1, 1), 'end_date': datetime.date(2021, 3, 26)}\n"
     ]
    },
    {
     "name": "stderr",
     "output_type": "stream",
     "text": [
      "C:\\Anaconda3\\lib\\site-packages\\pandas\\core\\indexing.py:1745: SettingWithCopyWarning: \n",
      "A value is trying to be set on a copy of a slice from a DataFrame.\n",
      "Try using .loc[row_indexer,col_indexer] = value instead\n",
      "\n",
      "See the caveats in the documentation: https://pandas.pydata.org/pandas-docs/stable/user_guide/indexing.html#returning-a-view-versus-a-copy\n",
      "  isetter(ilocs[0], value)\n"
     ]
    }
   ],
   "source": [
    "field_list = ['open', 'high', 'low', 'close', 'volume', 'openInterest', 'contract', 'shift']\n",
    "mfield_list = ['open', 'high', 'low', 'close', 'volume', 'openInterest', 'contract', 'shift', 'datetime']\n",
    "commod_mkts = ['rb', 'hc', 'i', 'j', 'jm', 'ru', 'FG', 'ZC', 'cu', 'al', 'zn', 'pb', 'ni', 'sn', \\\n",
    "               'l', 'pp', 'v', 'TA', 'MA', 'bu', 'sc', 'm', 'RM', 'y', 'p', 'OI', 'a', 'c', 'cs', 'CF', 'SR', 'jd']\n",
    "start_date = datetime.date(2016, 1, 1)\n",
    "end_date = datetime.date(2021, 3, 26)\n",
    "pnl_tenors = ['1y', '2y', '3y', '4y', '5y', '6y', '8y', '10y']\n",
    "\n",
    "sim_products = commod_mkts\n",
    "need_shift = 1\n",
    "freq = 'm'\n",
    "delim = '-'\n",
    "\n",
    "if freq == 'd':\n",
    "    sim_start_dict = daily_start_dict\n",
    "else:\n",
    "    sim_start_dict = min_start_dict\n",
    "\n",
    "dbtbl_prefix = ''\n",
    "args = {'n': 1, 'roll_rule': '-30b', 'freq': freq, 'need_shift': need_shift, 'dbtbl_prefix': dbtbl_prefix}\n",
    "ferrous_products_args = args\n",
    "ferro_mixed_mkt_args = args\n",
    "base_args = {'n': 1, 'roll_rule': '-30b', 'freq': freq, 'need_shift': need_shift, 'dbtbl_prefix': dbtbl_prefix}\n",
    "sc_args = {'n': 1, 'roll_rule': '-20b', 'freq': freq, 'need_shift': need_shift, 'dbtbl_prefix': dbtbl_prefix}\n",
    "eq_args = {'n': 1, 'roll_rule': '-1b', 'freq': freq, 'need_shift': need_shift, 'dbtbl_prefix': dbtbl_prefix}\n",
    "bond_args = {'n': 1, 'roll_rule': '-30b', 'freq': freq, 'need_shift': need_shift, 'dbtbl_prefix': dbtbl_prefix}\n",
    "precious_args = {'n': 1, 'roll_rule': '-25b', 'freq': freq, 'need_shift': need_shift, 'dbtbl_prefix': dbtbl_prefix}\n",
    "\n",
    "df_list = []\n",
    "for idx, asset in enumerate(sim_products):\n",
    "    use_args = args\n",
    "    if asset in eq_fut_mkts:\n",
    "        use_args = eq_args\n",
    "    elif asset in ['cu', 'al', 'zn', 'pb', 'sn']:\n",
    "        use_args = base_args\n",
    "    elif asset in ['sc']:\n",
    "        use_args = sc_args    \n",
    "    elif asset in bond_fut_mkts:\n",
    "        use_args = bond_args\n",
    "    elif asset in precious_metal_mkts:\n",
    "        use_args = precious_args\n",
    "    use_args['start_date'] = max(sim_start_dict[asset], start_date)\n",
    "    use_args['end_date'] = end_date\n",
    "    print(\"loading mkt = %s, args = %s\" % (asset, use_args))\n",
    "    df = misc.nearby(asset, **use_args)\n",
    "    xfield = field_list\n",
    "    if freq == 'm':\n",
    "        df = misc.cleanup_mindata(df, asset)        \n",
    "        df = df.reset_index().set_index(['date', 'min_id'])\n",
    "        xfield_list = mfield_list\n",
    "    #if (idx == 0) and (freq == 'm'):\n",
    "    #    df_list.append(df[['date', 'min_id']])\n",
    "    xdf = df[xfield_list]\n",
    "    xdf.columns = [delim.join((asset, col)) for col in xdf.columns]\n",
    "    df_list.append(xdf)\n",
    "\n",
    "df = pd.concat(df_list, axis = 1, sort = False)"
   ]
  },
  {
   "cell_type": "code",
   "execution_count": 5,
   "metadata": {},
   "outputs": [
    {
     "name": "stdout",
     "output_type": "stream",
     "text": [
      "Index(['rb-open', 'rb-high', 'rb-low', 'rb-close', 'rb-volume',\n",
      "       'rb-openInterest', 'rb-contract', 'rb-shift', 'rb-datetime', 'hc-open',\n",
      "       ...\n",
      "       'jd-datetime', 'jd-datetime', 'jd-datetime', 'jd-datetime',\n",
      "       'jd-datetime', 'jd-datetime', 'jd-datetime', 'jd-datetime',\n",
      "       'jd-datetime', 'jd-datetime'],\n",
      "      dtype='object', length=784)\n",
      "                          date  min_id  rb-open  rb-high  rb-low  rb-close  \\\n",
      "rb-datetime                                                                  \n",
      "2021-03-26 14:50:00 2021-03-26    2050   4926.0   4933.0  4918.0    4929.0   \n",
      "2021-03-26 14:51:00 2021-03-26    2051   4929.0   4934.0  4926.0    4928.0   \n",
      "2021-03-26 14:52:00 2021-03-26    2052   4927.0   4931.0  4922.0    4931.0   \n",
      "2021-03-26 14:53:00 2021-03-26    2053   4930.0   4930.0  4924.0    4927.0   \n",
      "2021-03-26 14:54:00 2021-03-26    2054   4927.0   4927.0  4921.0    4927.0   \n",
      "2021-03-26 14:55:00 2021-03-26    2055   4926.0   4929.0  4922.0    4924.0   \n",
      "2021-03-26 14:56:00 2021-03-26    2056   4925.0   4925.0  4918.0    4922.0   \n",
      "2021-03-26 14:57:00 2021-03-26    2057   4922.0   4928.0  4921.0    4928.0   \n",
      "2021-03-26 14:58:00 2021-03-26    2058   4928.0   4932.0  4928.0    4931.0   \n",
      "2021-03-26 14:59:00 2021-03-26    2059   4931.0   4940.0  4930.0    4934.0   \n",
      "\n",
      "                     rb-volume  rb-openInterest rb-contract  rb-shift  ...  \\\n",
      "rb-datetime                                                            ...   \n",
      "2021-03-26 14:50:00    18374.0        1040667.0      rb2105       0.0  ...   \n",
      "2021-03-26 14:51:00     9160.0        1041171.0      rb2105       0.0  ...   \n",
      "2021-03-26 14:52:00    10642.0        1043133.0      rb2105       0.0  ...   \n",
      "2021-03-26 14:53:00     9234.0        1043923.0      rb2105       0.0  ...   \n",
      "2021-03-26 14:54:00    10265.0        1043481.0      rb2105       0.0  ...   \n",
      "2021-03-26 14:55:00     9990.0        1043582.0      rb2105       0.0  ...   \n",
      "2021-03-26 14:56:00     9995.0        1041988.0      rb2105       0.0  ...   \n",
      "2021-03-26 14:57:00     8676.0        1041647.0      rb2105       0.0  ...   \n",
      "2021-03-26 14:58:00    11963.0        1041115.0      rb2105       0.0  ...   \n",
      "2021-03-26 14:59:00    24488.0        1038240.0      rb2105       0.0  ...   \n",
      "\n",
      "                            jd-datetime         jd-datetime  \\\n",
      "rb-datetime                                                   \n",
      "2021-03-26 14:50:00 2021-03-26 14:50:00 2021-03-26 14:50:00   \n",
      "2021-03-26 14:51:00 2021-03-26 14:51:00 2021-03-26 14:51:00   \n",
      "2021-03-26 14:52:00 2021-03-26 14:52:00 2021-03-26 14:52:00   \n",
      "2021-03-26 14:53:00 2021-03-26 14:53:00 2021-03-26 14:53:00   \n",
      "2021-03-26 14:54:00 2021-03-26 14:54:00 2021-03-26 14:54:00   \n",
      "2021-03-26 14:55:00 2021-03-26 14:55:00 2021-03-26 14:55:00   \n",
      "2021-03-26 14:56:00 2021-03-26 14:56:00 2021-03-26 14:56:00   \n",
      "2021-03-26 14:57:00 2021-03-26 14:57:00 2021-03-26 14:57:00   \n",
      "2021-03-26 14:58:00 2021-03-26 14:58:00 2021-03-26 14:58:00   \n",
      "2021-03-26 14:59:00 2021-03-26 14:59:00 2021-03-26 14:59:00   \n",
      "\n",
      "                            jd-datetime         jd-datetime  \\\n",
      "rb-datetime                                                   \n",
      "2021-03-26 14:50:00 2021-03-26 14:50:00 2021-03-26 14:50:00   \n",
      "2021-03-26 14:51:00 2021-03-26 14:51:00 2021-03-26 14:51:00   \n",
      "2021-03-26 14:52:00 2021-03-26 14:52:00 2021-03-26 14:52:00   \n",
      "2021-03-26 14:53:00 2021-03-26 14:53:00 2021-03-26 14:53:00   \n",
      "2021-03-26 14:54:00 2021-03-26 14:54:00 2021-03-26 14:54:00   \n",
      "2021-03-26 14:55:00 2021-03-26 14:55:00 2021-03-26 14:55:00   \n",
      "2021-03-26 14:56:00 2021-03-26 14:56:00 2021-03-26 14:56:00   \n",
      "2021-03-26 14:57:00 2021-03-26 14:57:00 2021-03-26 14:57:00   \n",
      "2021-03-26 14:58:00 2021-03-26 14:58:00 2021-03-26 14:58:00   \n",
      "2021-03-26 14:59:00 2021-03-26 14:59:00 2021-03-26 14:59:00   \n",
      "\n",
      "                            jd-datetime         jd-datetime  \\\n",
      "rb-datetime                                                   \n",
      "2021-03-26 14:50:00 2021-03-26 14:50:00 2021-03-26 14:50:00   \n",
      "2021-03-26 14:51:00 2021-03-26 14:51:00 2021-03-26 14:51:00   \n",
      "2021-03-26 14:52:00 2021-03-26 14:52:00 2021-03-26 14:52:00   \n",
      "2021-03-26 14:53:00 2021-03-26 14:53:00 2021-03-26 14:53:00   \n",
      "2021-03-26 14:54:00 2021-03-26 14:54:00 2021-03-26 14:54:00   \n",
      "2021-03-26 14:55:00 2021-03-26 14:55:00 2021-03-26 14:55:00   \n",
      "2021-03-26 14:56:00 2021-03-26 14:56:00 2021-03-26 14:56:00   \n",
      "2021-03-26 14:57:00 2021-03-26 14:57:00 2021-03-26 14:57:00   \n",
      "2021-03-26 14:58:00 2021-03-26 14:58:00 2021-03-26 14:58:00   \n",
      "2021-03-26 14:59:00 2021-03-26 14:59:00 2021-03-26 14:59:00   \n",
      "\n",
      "                            jd-datetime         jd-datetime  \\\n",
      "rb-datetime                                                   \n",
      "2021-03-26 14:50:00 2021-03-26 14:50:00 2021-03-26 14:50:00   \n",
      "2021-03-26 14:51:00 2021-03-26 14:51:00 2021-03-26 14:51:00   \n",
      "2021-03-26 14:52:00 2021-03-26 14:52:00 2021-03-26 14:52:00   \n",
      "2021-03-26 14:53:00 2021-03-26 14:53:00 2021-03-26 14:53:00   \n",
      "2021-03-26 14:54:00 2021-03-26 14:54:00 2021-03-26 14:54:00   \n",
      "2021-03-26 14:55:00 2021-03-26 14:55:00 2021-03-26 14:55:00   \n",
      "2021-03-26 14:56:00 2021-03-26 14:56:00 2021-03-26 14:56:00   \n",
      "2021-03-26 14:57:00 2021-03-26 14:57:00 2021-03-26 14:57:00   \n",
      "2021-03-26 14:58:00 2021-03-26 14:58:00 2021-03-26 14:58:00   \n",
      "2021-03-26 14:59:00 2021-03-26 14:59:00 2021-03-26 14:59:00   \n",
      "\n",
      "                            jd-datetime         jd-datetime  \n",
      "rb-datetime                                                  \n",
      "2021-03-26 14:50:00 2021-03-26 14:50:00 2021-03-26 14:50:00  \n",
      "2021-03-26 14:51:00 2021-03-26 14:51:00 2021-03-26 14:51:00  \n",
      "2021-03-26 14:52:00 2021-03-26 14:52:00 2021-03-26 14:52:00  \n",
      "2021-03-26 14:53:00 2021-03-26 14:53:00 2021-03-26 14:53:00  \n",
      "2021-03-26 14:54:00 2021-03-26 14:54:00 2021-03-26 14:54:00  \n",
      "2021-03-26 14:55:00 2021-03-26 14:55:00 2021-03-26 14:55:00  \n",
      "2021-03-26 14:56:00 2021-03-26 14:56:00 2021-03-26 14:56:00  \n",
      "2021-03-26 14:57:00 2021-03-26 14:57:00 2021-03-26 14:57:00  \n",
      "2021-03-26 14:58:00 2021-03-26 14:58:00 2021-03-26 14:58:00  \n",
      "2021-03-26 14:59:00 2021-03-26 14:59:00 2021-03-26 14:59:00  \n",
      "\n",
      "[10 rows x 785 columns]\n"
     ]
    }
   ],
   "source": [
    "print(df.columns)\n",
    "wdf = df.reset_index().set_index('rb-datetime')\n",
    "print(wdf.tail(10))\n"
   ]
  },
  {
   "cell_type": "code",
   "execution_count": 4,
   "metadata": {},
   "outputs": [],
   "source": [
    "def run_ts_test(input_args):\n",
    "    product_list = input_args['product_list']\n",
    "    mom_win = input_args['win']\n",
    "    ma_win = input_args['ma_win']\n",
    "    vol_win = input_args['std_win']\n",
    "    pos_std = input_args['pos_std']\n",
    "    rebal_freq = input_args['rebal_freq']\n",
    "    cost_ratio = input_args.get('cost_ratio', 0.5)\n",
    "    run_mode = input_args.get('run_mode', \"momma\")\n",
    "    params = input_args.get('params', [0.2])\n",
    "    prefix = input_args.get('prefix', \"\")\n",
    "    run_name = input_args.get('run_name', 'test')\n",
    "    start_date = input_args.get('start_date', None)\n",
    "    end_date = input_args.get('end_date', None)\n",
    "    select_cols = []\n",
    "    for col in df.columns:\n",
    "        col_split = col.split(delim)\n",
    "        if col_split[0] in product_list:\n",
    "            select_cols.append(col)\n",
    "    xdf= df[select_cols].sort_index().fillna(method='ffill').copy()\n",
    "    if start_date:\n",
    "        xdf = xdf[xdf.index>= start_date]\n",
    "    if end_date:\n",
    "        xdf = xdf[xdf.index<= end_date]\n",
    "    for asset in product_list:\n",
    "        if need_shift == 1:\n",
    "            xdf[delim.join((asset, 'lr'))] = np.log(xdf[delim.join((asset, 'close'))] \\\n",
    "                                                        -xdf[delim.join((asset, 'shift'))]) \\\n",
    "                                            - np.log(xdf[delim.join((asset, 'close'))].shift(1) \\\n",
    "                                                        -xdf[delim.join((asset, 'shift'))])\n",
    "        else:\n",
    "            xdf[delim.join((asset, 'lr'))] = \\\n",
    "                np.log(xdf[delim.join((asset, 'close'))])- np.log(xdf[delim.join((asset, 'close'))].shift(1))\n",
    "        xdf[delim.join((asset, 'mom'))] = xdf[delim.join((asset, 'lr'))].rolling(mom_win).sum()\n",
    "        if run_mode == 'momma':\n",
    "            xdf[delim.join((asset, 'momma'))] = xdf[delim.join((asset, 'mom'))].rolling(ma_win).mean()\n",
    "        elif run_mode == 'mixedmom':       \n",
    "            xdf[delim.join((asset, 'tmpos'))] = xdf[delim.join((asset, 'lr'))].rolling(mom_win).agg(lambda x: (x>0).sum()/mom_win)\n",
    "            xdf[delim.join((asset, 'tmneg'))] = xdf[delim.join((asset, 'lr'))].rolling(mom_win).agg(lambda x: (x<0).sum()/mom_win)        \n",
    "        elif run_mode == 'rsi':\n",
    "            rsi_output = dh.RSI_F(xdf, mom_win, prefix = asset + delim)\n",
    "            xdf[delim.join((asset, 'rsi'))] = rsi_output[asset + delim + 'RSI' + str(mom_win)]\n",
    "        elif run_mode == 'rsima':\n",
    "            rsi_output = dh.RSI_F(xdf, mom_win, prefix = asset + delim)\n",
    "            xdf[delim.join((asset, 'rsi'))] = rsi_output[asset + delim + 'RSI' + str(mom_win)]\n",
    "            xdf[delim.join((asset, 'rsima'))] = dh.EMA(xdf, ma_win, field = 'rsi', prefix = asset + delim)\n",
    "        elif run_mode == 'madist':\n",
    "            xdf[delim.join((asset, 'ema1'))] = dh.EMA(xdf, mom_win, field = 'close', prefix = asset + delim)\n",
    "            xdf[delim.join((asset, 'ema2'))] = dh.EMA(xdf, int(mom_win * params[0]), field = 'close', prefix = asset + delim)\n",
    "            xdf[delim.join((asset, 'std'))] = dh.STDEV(xdf, ma_win, field = 'close', prefix = asset + delim)\n",
    "            xdf[delim.join((asset, 'madist'))] = (xdf[delim.join((asset, 'ema1'))] - xdf[delim.join((asset, 'ema2'))])/xdf[delim.join((asset, 'std'))]\n",
    "            xdf[delim.join((asset, 'nmadist'))] = xdf[delim.join((asset, 'madist'))]/dh.STDEV(xdf, int(ma_win * params[1]), field = 'madist', prefix = asset + delim)\n",
    "            xdf[delim.join((asset, 'sig'))] = xdf[delim.join((asset, 'nmadist'))].apply(lambda x: dh.response_curve(x, \"reverting\", param = 2.0))\n",
    "        if need_shift == 1:        \n",
    "            orig_close = xdf[delim.join((asset, 'close'))] -xdf[delim.join((asset, 'shift'))]\n",
    "            if pos_std == 1:\n",
    "                xdf[delim.join((asset, 'std'))] = dh.ATR(df, vol_win, prefix = asset + delim).fillna(method='bfill') * 10.0\n",
    "            else:\n",
    "                xdf[delim.join((asset, 'std'))] = orig_close\n",
    "        elif need_shift == 2:\n",
    "            orig_close = xdf[delim.join((asset, 'close'))] * np.exp(-xdf[delim.join((asset, 'shift'))])\n",
    "            if pos_std == 1:\n",
    "                xdf[delim.join((asset, 'std'))] = (np.log(xdf[delim.join((asset, 'close'))]) \\\n",
    "                                - np.log(xdf[delim.join((asset, 'close'))].shift(1))).rolling(vol_win).std() \\\n",
    "                                * orig_close * 10\n",
    "            else:\n",
    "                xdf[delim.join((asset, 'std'))] = orig_close\n",
    "        else:\n",
    "            orig_close = xdf[delim.join((asset, 'close'))]\n",
    "            xdf[delim.join((asset, 'std'))] = orig_close\n",
    "        \n",
    "    total_risk = 5000000.0\n",
    "    margin_rate = [0.08, 0.08]\n",
    "    \n",
    "    offset_list = [ backtest.trade_offset_dict.get(asset, 0.0) for asset in product_list]\n",
    "    offset_list = [ offset * cost_ratio for offset in offset_list]\n",
    "    start_capital = 0.0\n",
    "    \n",
    "    mom_df = xdf[[delim.join((asset, 'mom')) for asset in product_list]]\n",
    "    mom_df.columns = product_list\n",
    "    \n",
    "    xdf['prod_count'] = mom_df.apply(lambda x: x.count() if x.count() > 0 else np.nan, axis=1)\n",
    "    xdf['rebal_seqno'] = range(len(xdf.index))\n",
    "\n",
    "    long_pos = pd.DataFrame(0, columns = product_list, index = xdf.index)\n",
    "    short_pos = pd.DataFrame(0, columns = product_list, index = xdf.index)\n",
    "\n",
    "    for rebal_idx in range(rebal_freq):\n",
    "        long_tmp = pd.DataFrame(columns=product_list, index = xdf.index)\n",
    "        short_tmp = pd.DataFrame(columns=product_list, index = xdf.index)\n",
    "        rebal_flag = xdf['rebal_seqno'].apply(lambda x: (x % rebal_freq) == rebal_idx)\n",
    "        for asset in product_list:\n",
    "            if run_mode == 'momma':\n",
    "                long_tmp.loc[(xdf[delim.join((asset, 'mom'))] > xdf[delim.join((asset, 'momma'))]) & rebal_flag, asset] = 1.0\n",
    "                long_tmp.loc[(xdf[delim.join((asset, 'mom'))] < xdf[delim.join((asset, 'momma'))]) & rebal_flag, asset] = 0.0\n",
    "                short_tmp.loc[(xdf[delim.join((asset, 'mom'))] < xdf[delim.join((asset, 'momma'))]) & rebal_flag, asset] = 1.0\n",
    "                short_tmp.loc[(xdf[delim.join((asset, 'mom'))] > xdf[delim.join((asset, 'momma'))]) & rebal_flag, asset] = 0.0            \n",
    "            elif run_mode == 'mixedmom':\n",
    "                long_tmp.loc[(xdf[delim.join((asset, 'mom'))] > 0.0) & (xdf[delim.join((asset, 'tmpos'))] > 0.5) & rebal_flag, asset] = 1.0\n",
    "                long_tmp.loc[((xdf[delim.join((asset, 'mom'))] <= 0.0) | (xdf[delim.join((asset, 'tmpos'))] <= 0.5)) & rebal_flag, asset] = 0.0            \n",
    "                short_tmp.loc[(xdf[delim.join((asset, 'mom'))] < 0.0) & (xdf[delim.join((asset, 'tmneg'))] > 0.5) & rebal_flag, asset] = 1.0\n",
    "                short_tmp.loc[((xdf[delim.join((asset, 'mom'))] >= 0.0) | (xdf[delim.join((asset, 'tmneg'))]<= 0.5)) & rebal_flag, asset] = 0.0\n",
    "            elif run_mode == 'rsi':\n",
    "                long_tmp.loc[(xdf[delim.join((asset, 'rsi'))] > 50 + params[0] * 100) & rebal_flag, asset] = 1.0\n",
    "                long_tmp.loc[(xdf[delim.join((asset, 'rsi'))] <= 50 - params[0] * 100)  & rebal_flag, asset] = 0.0            \n",
    "                short_tmp.loc[(xdf[delim.join((asset, 'rsi'))] < 50.0 - params[0] * 100) & rebal_flag, asset] = 1.0\n",
    "                short_tmp.loc[(xdf[delim.join((asset, 'rsi'))] >= 50.0 + params[0] * 100) & rebal_flag, asset] = 0.0\n",
    "            elif run_mode == 'rsima':\n",
    "                long_tmp.loc[(xdf[delim.join((asset, 'rsi'))] > xdf[delim.join((asset, 'rsima'))]) & rebal_flag, asset] = 1.0\n",
    "                long_tmp.loc[(xdf[delim.join((asset, 'rsi'))] <= xdf[delim.join((asset, 'rsima'))])  & rebal_flag, asset] = 0.0            \n",
    "                short_tmp.loc[(xdf[delim.join((asset, 'rsi'))] < xdf[delim.join((asset, 'rsima'))]) & rebal_flag, asset] = 1.0\n",
    "                short_tmp.loc[(xdf[delim.join((asset, 'rsi'))] >= xdf[delim.join((asset, 'rsima'))]) & rebal_flag, asset] = 0.0\n",
    "            elif run_mode == 'madist':\n",
    "                long_tmp.loc[(xdf[delim.join((asset, 'sig'))] > 0.0) & rebal_flag, asset] = xdf[delim.join((asset, 'sig'))]\n",
    "                long_tmp.loc[(xdf[delim.join((asset, 'sig'))] <= 0.0)  & rebal_flag, asset] = 0.0\n",
    "                short_tmp.loc[(xdf[delim.join((asset, 'sig'))] < 0.0) & rebal_flag, asset] = -xdf[delim.join((asset, 'sig'))]\n",
    "                short_tmp.loc[(xdf[delim.join((asset, 'sig'))] >= 0.0) & rebal_flag, asset] = 0.0\n",
    "\n",
    "        long_tmp = long_tmp.fillna(method='ffill').fillna(0)\n",
    "        short_tmp = short_tmp.fillna(method='ffill').fillna(0)\n",
    "        long_pos = long_pos + long_tmp\n",
    "        short_pos = short_pos + short_tmp\n",
    "    extract_fields = ['open', 'close', 'traded_price', 'contract', 'cost', 'pos']\n",
    "    df_list = []\n",
    "\n",
    "    for asset, offset in zip(product_list, offset_list):\n",
    "        long_pos[asset] = (long_pos[asset] * total_risk \\\n",
    "                    /(xdf['prod_count'] * rebal_freq * xdf[delim.join((asset,'std'))].astype('float'))).shift(1).fillna(method='ffill') \n",
    "        short_pos[asset] = (short_pos[asset] * total_risk \\\n",
    "                    /(xdf['prod_count'] * rebal_freq * xdf[delim.join((asset,'std'))].astype('float'))).shift(1).fillna(method='ffill')\n",
    "        xdf[delim.join((asset, 'pos'))] = long_pos[asset].fillna(0.0) - short_pos[asset].fillna(0.0)\n",
    "        xdf[delim.join((asset, 'traded_price'))] = xdf[delim.join((asset, 'open'))]\n",
    "        xdf[delim.join((asset, 'pos'))].iloc[-1] = 0\n",
    "        xdf[delim.join((asset, 'cost'))] = \\\n",
    "                abs(xdf[delim.join((asset, 'pos'))] \\\n",
    "                - xdf[delim.join((asset, 'pos'))].shift(1)) * offset\n",
    "        xdf[delim.join((asset, 'cost'))] = xdf[delim.join((asset, 'cost'))].fillna(0.0)\n",
    "        fields = [delim.join((asset, field)) for field in extract_fields] \n",
    "        tdf = xdf[fields]\n",
    "        tdf.columns = extract_fields\n",
    "        tdf.index.name = 'date'    \n",
    "        if freq == 'm':\n",
    "            tdf['date'] = xdf['date']\n",
    "            tdf['min_id'] = xdf['min_id']\n",
    "        #closed_trades = backtest.simdf_to_trades1(tdf, slippage = offset)\n",
    "        df_list.append(tdf)\n",
    "        (res_pnl, ts) = backtest.get_pnl_stats([tdf], margin_rate, freq, tenors = pnl_tenors, start_capital = start_capital, cost_ratio = 1.0)\n",
    "        \n",
    "    (res_pnl, ts) = backtest.get_pnl_stats(df_list, margin_rate, freq, tenors = pnl_tenors, start_capital = start_capital, cost_ratio = 1.0)\n",
    "    pos_df  = xdf[[delim.join((asset, 'pos')) for asset in product_list]]\n",
    "    cum_pnl = ts['cum_pnl']\n",
    "    cum_pnl.name = run_name\n",
    "    pnl_df = pd.DataFrame.from_dict(res_pnl, orient='index').sort_index()\n",
    "    pnl_df.columns = [run_name]\n",
    "    res = {'cum_pnl': ts['cum_pnl'], 'name': run_name, 'pnl_stats': pnl_df, 'pos_df': pos_df}\n",
    "    return res"
   ]
  },
  {
   "cell_type": "code",
   "execution_count": 6,
   "metadata": {
    "scrolled": true
   },
   "outputs": [
    {
     "name": "stderr",
     "output_type": "stream",
     "text": [
      "<ipython-input-6-bf25e2c5ca94>:53: DeprecationWarning: The default dtype for empty Series will be 'object' instead of 'float64' in a future version. Specify a dtype explicitly to silence this warning.\n",
      "  port_pnl = pd.Series()\n",
      "C:\\Anaconda3\\lib\\site-packages\\pandas\\core\\indexing.py:670: SettingWithCopyWarning: \n",
      "A value is trying to be set on a copy of a slice from a DataFrame\n",
      "\n",
      "See the caveats in the documentation: https://pandas.pydata.org/pandas-docs/stable/user_guide/indexing.html#returning-a-view-versus-a-copy\n",
      "  iloc._setitem_with_indexer(indexer, value)\n"
     ]
    },
    {
     "data": {
      "image/png": "[encoded data removed]",
      "text/plain": [
       "<Figure size 432x288 with 1 Axes>"
      ]
     },
     "metadata": {
      "needs_background": "light"
     },
     "output_type": "display_data"
    },
    {
     "name": "stdout",
     "output_type": "stream",
     "text": [
      "                 momma-commod_mkts-40-30-5\n",
      "sharp_ratio_10y                   1.215293\n",
      "sharp_ratio_1y                    0.636494\n",
      "sharp_ratio_2y                    0.727866\n",
      "sharp_ratio_3y                    1.001874\n",
      "sharp_ratio_4y                    1.117234\n",
      "sharp_ratio_5y                    1.110484\n",
      "sharp_ratio_6y                    0.968171\n",
      "sharp_ratio_8y                    0.904849\n",
      "std_pnl_10y                  144682.260634\n",
      "std_pnl_1y                   112769.355029\n",
      "std_pnl_2y                   116246.530416\n",
      "std_pnl_3y                   115162.124042\n",
      "std_pnl_4y                   118064.252009\n",
      "std_pnl_5y                   125268.444648\n",
      "std_pnl_6y                   133332.463447\n",
      "std_pnl_8y                   131929.519984\n"
     ]
    },
    {
     "name": "stderr",
     "output_type": "stream",
     "text": [
      "C:\\Anaconda3\\lib\\site-packages\\pandas\\core\\indexing.py:670: SettingWithCopyWarning: \n",
      "A value is trying to be set on a copy of a slice from a DataFrame\n",
      "\n",
      "See the caveats in the documentation: https://pandas.pydata.org/pandas-docs/stable/user_guide/indexing.html#returning-a-view-versus-a-copy\n",
      "  iloc._setitem_with_indexer(indexer, value)\n"
     ]
    },
    {
     "data": {
      "image/png": "[encoded data removed]",
      "text/plain": [
       "<Figure size 432x288 with 1 Axes>"
      ]
     },
     "metadata": {
      "needs_background": "light"
     },
     "output_type": "display_data"
    },
    {
     "name": "stdout",
     "output_type": "stream",
     "text": [
      "                 momma-commod_mkts-40-80-5\n",
      "sharp_ratio_10y                   1.111786\n",
      "sharp_ratio_1y                    0.504664\n",
      "sharp_ratio_2y                    0.686016\n",
      "sharp_ratio_3y                    0.606783\n",
      "sharp_ratio_4y                    0.671653\n",
      "sharp_ratio_5y                    0.562497\n",
      "sharp_ratio_6y                    0.691680\n",
      "sharp_ratio_8y                    0.822996\n",
      "std_pnl_10y                  159163.681144\n",
      "std_pnl_1y                   130684.074936\n",
      "std_pnl_2y                   137012.647733\n",
      "std_pnl_3y                   133551.416646\n",
      "std_pnl_4y                   134971.881248\n",
      "std_pnl_5y                   137089.105619\n",
      "std_pnl_6y                   143026.290279\n",
      "std_pnl_8y                   141638.379945\n"
     ]
    },
    {
     "name": "stderr",
     "output_type": "stream",
     "text": [
      "C:\\Anaconda3\\lib\\site-packages\\pandas\\core\\indexing.py:670: SettingWithCopyWarning: \n",
      "A value is trying to be set on a copy of a slice from a DataFrame\n",
      "\n",
      "See the caveats in the documentation: https://pandas.pydata.org/pandas-docs/stable/user_guide/indexing.html#returning-a-view-versus-a-copy\n",
      "  iloc._setitem_with_indexer(indexer, value)\n"
     ]
    },
    {
     "data": {
      "image/png": "[encoded data removed]",
      "text/plain": [
       "<Figure size 432x288 with 1 Axes>"
      ]
     },
     "metadata": {
      "needs_background": "light"
     },
     "output_type": "display_data"
    },
    {
     "name": "stdout",
     "output_type": "stream",
     "text": [
      "                 mixedmom-commod_mkts-10-1-10\n",
      "sharp_ratio_10y                      1.747540\n",
      "sharp_ratio_1y                       2.280832\n",
      "sharp_ratio_2y                       1.457502\n",
      "sharp_ratio_3y                       1.250058\n",
      "sharp_ratio_4y                       1.243521\n",
      "sharp_ratio_5y                       1.427570\n",
      "sharp_ratio_6y                       1.515567\n",
      "sharp_ratio_8y                       1.652547\n",
      "std_pnl_10y                      92223.314063\n",
      "std_pnl_1y                       84136.827578\n",
      "std_pnl_2y                       79566.830317\n",
      "std_pnl_3y                       75782.392476\n",
      "std_pnl_4y                       76605.950865\n",
      "std_pnl_5y                       80031.820961\n",
      "std_pnl_6y                       84099.329142\n",
      "std_pnl_8y                       85243.684107\n"
     ]
    },
    {
     "name": "stderr",
     "output_type": "stream",
     "text": [
      "C:\\Anaconda3\\lib\\site-packages\\pandas\\core\\indexing.py:670: SettingWithCopyWarning: \n",
      "A value is trying to be set on a copy of a slice from a DataFrame\n",
      "\n",
      "See the caveats in the documentation: https://pandas.pydata.org/pandas-docs/stable/user_guide/indexing.html#returning-a-view-versus-a-copy\n",
      "  iloc._setitem_with_indexer(indexer, value)\n"
     ]
    },
    {
     "data": {
      "image/png": "[encoded data removed]",
      "text/plain": [
       "<Figure size 432x288 with 1 Axes>"
      ]
     },
     "metadata": {
      "needs_background": "light"
     },
     "output_type": "display_data"
    },
    {
     "name": "stdout",
     "output_type": "stream",
     "text": [
      "                 mixedmom-commod_mkts-20-1-10\n",
      "sharp_ratio_10y                      1.327006\n",
      "sharp_ratio_1y                       2.478759\n",
      "sharp_ratio_2y                       1.115635\n",
      "sharp_ratio_3y                       1.030260\n",
      "sharp_ratio_4y                       0.994848\n",
      "sharp_ratio_5y                       1.162180\n",
      "sharp_ratio_6y                       1.273157\n",
      "sharp_ratio_8y                       1.435880\n",
      "std_pnl_10y                     112953.205155\n",
      "std_pnl_1y                      100977.489459\n",
      "std_pnl_2y                      103332.920126\n",
      "std_pnl_3y                       95366.356738\n",
      "std_pnl_4y                       96819.947208\n",
      "std_pnl_5y                      100994.940817\n",
      "std_pnl_6y                      104740.889360\n",
      "std_pnl_8y                      106248.286998\n"
     ]
    },
    {
     "name": "stderr",
     "output_type": "stream",
     "text": [
      "C:\\Anaconda3\\lib\\site-packages\\pandas\\core\\indexing.py:670: SettingWithCopyWarning: \n",
      "A value is trying to be set on a copy of a slice from a DataFrame\n",
      "\n",
      "See the caveats in the documentation: https://pandas.pydata.org/pandas-docs/stable/user_guide/indexing.html#returning-a-view-versus-a-copy\n",
      "  iloc._setitem_with_indexer(indexer, value)\n"
     ]
    },
    {
     "data": {
      "image/png": "[encoded data removed]",
      "text/plain": [
       "<Figure size 432x288 with 1 Axes>"
      ]
     },
     "metadata": {
      "needs_background": "light"
     },
     "output_type": "display_data"
    },
    {
     "name": "stdout",
     "output_type": "stream",
     "text": [
      "                 mixedmom-commod_mkts-220-1-10\n",
      "sharp_ratio_10y                       0.989272\n",
      "sharp_ratio_1y                        2.872795\n",
      "sharp_ratio_2y                        2.324970\n",
      "sharp_ratio_3y                        1.767693\n",
      "sharp_ratio_4y                        1.345786\n",
      "sharp_ratio_5y                        1.258198\n",
      "sharp_ratio_6y                        1.188087\n",
      "sharp_ratio_8y                        1.511679\n",
      "std_pnl_10y                      119747.656685\n",
      "std_pnl_1y                       113109.039662\n",
      "std_pnl_2y                        93355.526021\n",
      "std_pnl_3y                        86068.299383\n",
      "std_pnl_4y                        90409.477425\n",
      "std_pnl_5y                       101962.952484\n",
      "std_pnl_6y                       114524.812339\n",
      "std_pnl_8y                       110893.952284\n"
     ]
    },
    {
     "name": "stderr",
     "output_type": "stream",
     "text": [
      "C:\\Anaconda3\\lib\\site-packages\\pandas\\core\\indexing.py:670: SettingWithCopyWarning: \n",
      "A value is trying to be set on a copy of a slice from a DataFrame\n",
      "\n",
      "See the caveats in the documentation: https://pandas.pydata.org/pandas-docs/stable/user_guide/indexing.html#returning-a-view-versus-a-copy\n",
      "  iloc._setitem_with_indexer(indexer, value)\n"
     ]
    },
    {
     "data": {
      "image/png": "[encoded data removed]",
      "text/plain": [
       "<Figure size 432x288 with 1 Axes>"
      ]
     },
     "metadata": {
      "needs_background": "light"
     },
     "output_type": "display_data"
    },
    {
     "name": "stdout",
     "output_type": "stream",
     "text": [
      "                 rsima-commod_mkts-30-40-5\n",
      "sharp_ratio_10y                   1.456586\n",
      "sharp_ratio_1y                    1.731935\n",
      "sharp_ratio_2y                    1.530453\n",
      "sharp_ratio_3y                    1.195439\n",
      "sharp_ratio_4y                    0.976183\n",
      "sharp_ratio_5y                    0.911014\n",
      "sharp_ratio_6y                    1.077408\n",
      "sharp_ratio_8y                    1.198855\n",
      "std_pnl_10y                  145431.022205\n",
      "std_pnl_1y                   120337.365041\n",
      "std_pnl_2y                   114832.950011\n",
      "std_pnl_3y                   112741.135384\n",
      "std_pnl_4y                   114663.880031\n",
      "std_pnl_5y                   120222.022472\n",
      "std_pnl_6y                   129219.965452\n",
      "std_pnl_8y                   128835.957660\n"
     ]
    },
    {
     "name": "stderr",
     "output_type": "stream",
     "text": [
      "C:\\Anaconda3\\lib\\site-packages\\pandas\\core\\indexing.py:670: SettingWithCopyWarning: \n",
      "A value is trying to be set on a copy of a slice from a DataFrame\n",
      "\n",
      "See the caveats in the documentation: https://pandas.pydata.org/pandas-docs/stable/user_guide/indexing.html#returning-a-view-versus-a-copy\n",
      "  iloc._setitem_with_indexer(indexer, value)\n"
     ]
    },
    {
     "data": {
      "image/png": "[encoded data removed]",
      "text/plain": [
       "<Figure size 432x288 with 1 Axes>"
      ]
     },
     "metadata": {
      "needs_background": "light"
     },
     "output_type": "display_data"
    },
    {
     "name": "stdout",
     "output_type": "stream",
     "text": [
      "                 rsima-commod_mkts-30-110-5\n",
      "sharp_ratio_10y                    1.381518\n",
      "sharp_ratio_1y                     1.810758\n",
      "sharp_ratio_2y                     1.407035\n",
      "sharp_ratio_3y                     1.032922\n",
      "sharp_ratio_4y                     0.785437\n",
      "sharp_ratio_5y                     0.843703\n",
      "sharp_ratio_6y                     1.032501\n",
      "sharp_ratio_8y                     1.152915\n",
      "std_pnl_10y                   153032.241684\n",
      "std_pnl_1y                    129016.684435\n",
      "std_pnl_2y                    124350.873712\n",
      "std_pnl_3y                    120007.171965\n",
      "std_pnl_4y                    123654.770506\n",
      "std_pnl_5y                    128587.825365\n",
      "std_pnl_6y                    135958.786289\n",
      "std_pnl_8y                    136206.240943\n"
     ]
    },
    {
     "name": "stderr",
     "output_type": "stream",
     "text": [
      "C:\\Anaconda3\\lib\\site-packages\\pandas\\core\\indexing.py:670: SettingWithCopyWarning: \n",
      "A value is trying to be set on a copy of a slice from a DataFrame\n",
      "\n",
      "See the caveats in the documentation: https://pandas.pydata.org/pandas-docs/stable/user_guide/indexing.html#returning-a-view-versus-a-copy\n",
      "  iloc._setitem_with_indexer(indexer, value)\n"
     ]
    },
    {
     "data": {
      "image/png": "[encoded data removed]",
      "text/plain": [
       "<Figure size 432x288 with 1 Axes>"
      ]
     },
     "metadata": {
      "needs_background": "light"
     },
     "output_type": "display_data"
    },
    {
     "name": "stdout",
     "output_type": "stream",
     "text": [
      "                 madist-commod_mkts-8-80-5\n",
      "sharp_ratio_10y                   1.608114\n",
      "sharp_ratio_1y                    2.846693\n",
      "sharp_ratio_2y                    2.169121\n",
      "sharp_ratio_3y                    1.593200\n",
      "sharp_ratio_4y                    1.288709\n",
      "sharp_ratio_5y                    1.361715\n",
      "sharp_ratio_6y                    1.420750\n",
      "sharp_ratio_8y                    1.507581\n",
      "std_pnl_10y                  153857.678404\n",
      "std_pnl_1y                   141777.332053\n",
      "std_pnl_2y                   134111.961988\n",
      "std_pnl_3y                   131036.355455\n",
      "std_pnl_4y                   132282.504898\n",
      "std_pnl_5y                   141786.722871\n",
      "std_pnl_6y                   147129.130780\n",
      "std_pnl_8y                   142281.886853\n"
     ]
    },
    {
     "name": "stderr",
     "output_type": "stream",
     "text": [
      "C:\\Anaconda3\\lib\\site-packages\\pandas\\core\\indexing.py:670: SettingWithCopyWarning: \n",
      "A value is trying to be set on a copy of a slice from a DataFrame\n",
      "\n",
      "See the caveats in the documentation: https://pandas.pydata.org/pandas-docs/stable/user_guide/indexing.html#returning-a-view-versus-a-copy\n",
      "  iloc._setitem_with_indexer(indexer, value)\n"
     ]
    },
    {
     "data": {
      "image/png": "[encoded data removed]",
      "text/plain": [
       "<Figure size 432x288 with 1 Axes>"
      ]
     },
     "metadata": {
      "needs_background": "light"
     },
     "output_type": "display_data"
    },
    {
     "name": "stdout",
     "output_type": "stream",
     "text": [
      "                 madist-commod_mkts-16-80-5\n",
      "sharp_ratio_10y                    1.492119\n",
      "sharp_ratio_1y                     2.998271\n",
      "sharp_ratio_2y                     1.888743\n",
      "sharp_ratio_3y                     1.443433\n",
      "sharp_ratio_4y                     1.197108\n",
      "sharp_ratio_5y                     1.228336\n",
      "sharp_ratio_6y                     1.349375\n",
      "sharp_ratio_8y                     1.487157\n",
      "std_pnl_10y                   182646.434226\n",
      "std_pnl_1y                    172023.696624\n",
      "std_pnl_2y                    178228.131406\n",
      "std_pnl_3y                    166075.614088\n",
      "std_pnl_4y                    164273.800560\n",
      "std_pnl_5y                    170669.178643\n",
      "std_pnl_6y                    175024.039771\n",
      "std_pnl_8y                    170979.617951\n"
     ]
    },
    {
     "name": "stderr",
     "output_type": "stream",
     "text": [
      "C:\\Anaconda3\\lib\\site-packages\\pandas\\core\\indexing.py:670: SettingWithCopyWarning: \n",
      "A value is trying to be set on a copy of a slice from a DataFrame\n",
      "\n",
      "See the caveats in the documentation: https://pandas.pydata.org/pandas-docs/stable/user_guide/indexing.html#returning-a-view-versus-a-copy\n",
      "  iloc._setitem_with_indexer(indexer, value)\n"
     ]
    },
    {
     "data": {
      "image/png": "[encoded data removed]",
      "text/plain": [
       "<Figure size 432x288 with 1 Axes>"
      ]
     },
     "metadata": {
      "needs_background": "light"
     },
     "output_type": "display_data"
    },
    {
     "name": "stdout",
     "output_type": "stream",
     "text": [
      "                 madist-commod_mkts-24-80-5\n",
      "sharp_ratio_10y                    1.374795\n",
      "sharp_ratio_1y                     3.207101\n",
      "sharp_ratio_2y                     1.870137\n",
      "sharp_ratio_3y                     1.352211\n",
      "sharp_ratio_4y                     1.046207\n",
      "sharp_ratio_5y                     1.073649\n",
      "sharp_ratio_6y                     1.227141\n",
      "sharp_ratio_8y                     1.433825\n",
      "std_pnl_10y                   195392.895618\n",
      "std_pnl_1y                    193917.952222\n",
      "std_pnl_2y                    200384.273443\n",
      "std_pnl_3y                    183434.135342\n",
      "std_pnl_4y                    178920.033237\n",
      "std_pnl_5y                    184132.070243\n",
      "std_pnl_6y                    187323.964751\n",
      "std_pnl_8y                    185013.516750\n"
     ]
    },
    {
     "data": {
      "image/png": "[encoded data removed]",
      "text/plain": [
       "<Figure size 432x288 with 1 Axes>"
      ]
     },
     "metadata": {
      "needs_background": "light"
     },
     "output_type": "display_data"
    },
    {
     "name": "stdout",
     "output_type": "stream",
     "text": [
      "date\n",
      "2021-02-08    3.378327e+08\n",
      "2021-02-09    3.373995e+08\n",
      "2021-02-10    3.367497e+08\n",
      "2021-02-18    3.377824e+08\n",
      "2021-02-19    3.387487e+08\n",
      "2021-02-22    3.394964e+08\n",
      "2021-02-23    3.415462e+08\n",
      "2021-02-24    3.423483e+08\n",
      "2021-02-25    3.433948e+08\n",
      "2021-02-26    3.465638e+08\n",
      "2021-03-01    3.428306e+08\n",
      "2021-03-02    3.427326e+08\n",
      "2021-03-03    3.424266e+08\n",
      "2021-03-04    3.427948e+08\n",
      "2021-03-05    3.413703e+08\n",
      "2021-03-08    3.428336e+08\n",
      "2021-03-09    3.439067e+08\n",
      "2021-03-10    3.422917e+08\n",
      "2021-03-11    3.411852e+08\n",
      "2021-03-12    3.420254e+08\n",
      "2021-03-15    3.423134e+08\n",
      "2021-03-16    3.428327e+08\n",
      "2021-03-17    3.415224e+08\n",
      "2021-03-18    3.416039e+08\n",
      "2021-03-19    3.409669e+08\n",
      "2021-03-22    3.397367e+08\n",
      "2021-03-23    3.404470e+08\n",
      "2021-03-24    3.399168e+08\n",
      "2021-03-25    3.400622e+08\n",
      "2021-03-26    3.399022e+08\n",
      "Name: daily_pnl, dtype: float64\n",
      "                            0\n",
      "sharp_ratio_10y  1.652819e+00\n",
      "sharp_ratio_1y   2.686359e+00\n",
      "sharp_ratio_2y   1.874967e+00\n",
      "sharp_ratio_3y   1.481366e+00\n",
      "sharp_ratio_4y   1.267925e+00\n",
      "sharp_ratio_5y   1.305037e+00\n",
      "sharp_ratio_6y   1.395440e+00\n",
      "sharp_ratio_8y   1.562026e+00\n",
      "std_pnl_10y      1.206502e+06\n",
      "std_pnl_1y       1.075131e+06\n",
      "std_pnl_2y       1.055963e+06\n",
      "std_pnl_3y       1.010421e+06\n",
      "std_pnl_4y       1.024654e+06\n",
      "std_pnl_5y       1.068594e+06\n",
      "std_pnl_6y       1.131953e+06\n",
      "std_pnl_8y       1.115571e+06\n",
      "                rb-pos       hc-pos        i-pos        j-pos      jm-pos  \\\n",
      "date                                                                        \n",
      "2010-01-04    0.000000     0.000000     0.000000     0.000000    0.000000   \n",
      "2010-01-05    0.000000     0.000000     0.000000     0.000000    0.000000   \n",
      "2010-01-06    0.000000     0.000000     0.000000     0.000000    0.000000   \n",
      "2010-01-07    0.000000     0.000000     0.000000     0.000000    0.000000   \n",
      "2010-01-08    0.000000     0.000000     0.000000     0.000000    0.000000   \n",
      "...                ...          ...          ...          ...         ...   \n",
      "2021-03-22  775.886664   781.122200  -562.779006 -1909.388772 -364.401548   \n",
      "2021-03-23  594.823026   685.117640  -747.868364 -1769.923280 -209.653129   \n",
      "2021-03-24  562.917596   914.540317  -897.035046 -1856.136695   82.496470   \n",
      "2021-03-25  570.878753  1180.467154 -1072.679086 -1889.239276  -15.424771   \n",
      "2021-03-26    0.000000     0.000000     0.000000     0.000000    0.000000   \n",
      "\n",
      "                ru-pos       FG-pos       ZC-pos     cu-pos      al-pos  ...  \\\n",
      "date                                                                     ...   \n",
      "2010-01-04    0.000000     0.000000     0.000000   0.000000    0.000000  ...   \n",
      "2010-01-05    0.000000     0.000000     0.000000   0.000000    0.000000  ...   \n",
      "2010-01-06    0.000000     0.000000     0.000000   0.000000    0.000000  ...   \n",
      "2010-01-07    0.000000     0.000000     0.000000   0.000000    0.000000  ...   \n",
      "2010-01-08    0.000000     0.000000     0.000000   0.000000    0.000000  ...   \n",
      "...                ...          ...          ...        ...         ...  ...   \n",
      "2021-03-22   64.591777  2495.523629  1469.255270  74.926365  427.403234  ...   \n",
      "2021-03-23    9.753327  2552.338124  2245.517576  62.604684  428.524587  ...   \n",
      "2021-03-24  -53.684279  2968.636121  3610.293032  57.443795  328.298837  ...   \n",
      "2021-03-25 -125.911229  2557.046336  4852.938442  51.490305  306.435229  ...   \n",
      "2021-03-26    0.000000     0.000000     0.000000   0.000000    0.000000  ...   \n",
      "\n",
      "                 RM-pos       y-pos       p-pos      OI-pos       a-pos  \\\n",
      "date                                                                      \n",
      "2010-01-04     0.000000    0.000000    0.000000    0.000000    0.000000   \n",
      "2010-01-05     0.000000    0.000000    0.000000    0.000000    0.000000   \n",
      "2010-01-06     0.000000    0.000000    0.000000    0.000000    0.000000   \n",
      "2010-01-07     0.000000    0.000000    0.000000    0.000000    0.000000   \n",
      "2010-01-08     0.000000    0.000000    0.000000    0.000000    0.000000   \n",
      "...                 ...         ...         ...         ...         ...   \n",
      "2021-03-22 -1258.392783  596.108736  741.845106  151.541990 -136.742538   \n",
      "2021-03-23 -1250.741473  529.773590  742.605183   51.514703 -284.802697   \n",
      "2021-03-24 -1155.537894  428.712313  649.630414   14.755455 -416.329591   \n",
      "2021-03-25 -1092.844838  417.081712  674.111592   63.292987 -530.279346   \n",
      "2021-03-26     0.000000    0.000000    0.000000    0.000000    0.000000   \n",
      "\n",
      "                  c-pos      cs-pos      CF-pos      SR-pos       jd-pos  \n",
      "date                                                                      \n",
      "2010-01-04     0.000000    0.000000    0.000000    0.000000     0.000000  \n",
      "2010-01-05     0.000000    0.000000    0.000000    0.000000     0.000000  \n",
      "2010-01-06     0.000000    0.000000    0.000000    0.000000     0.000000  \n",
      "2010-01-07     0.000000    0.000000    0.000000    0.000000     0.000000  \n",
      "2010-01-08     0.000000    0.000000    0.000000    0.000000     0.000000  \n",
      "...                 ...         ...         ...         ...          ...  \n",
      "2021-03-22 -3315.609668  -45.350627 -116.599512 -136.713432  -862.781712  \n",
      "2021-03-23 -3549.159365  -35.050805 -156.943724 -341.721438  -889.365085  \n",
      "2021-03-24 -3935.684538  209.847416 -195.322073 -514.636564  -988.997906  \n",
      "2021-03-25 -4081.291508  274.804507 -221.563920 -675.023958 -1059.342599  \n",
      "2021-03-26     0.000000    0.000000    0.000000    0.000000     0.000000  \n",
      "\n",
      "[2727 rows x 32 columns]\n"
     ]
    }
   ],
   "source": [
    "res = {}\n",
    "stats_list = []\n",
    "cum_list = []\n",
    "sratio_years = [int(ten[:-1]) for ten in pnl_tenors]\n",
    "\n",
    "metal_all_mkts = ['rb', 'hc', 'i', 'j', 'jm', 'ru', 'FG', 'ZC', 'cu', 'al', 'zn', 'ni']\n",
    "mixed_metal_mkts = ['rb', 'hc', 'i', 'j', 'jm', 'ru', 'FG', 'ZC', 'cu', 'al', 'zn', 'ni', 'sn', 'SM', 'SF', 'pb']\n",
    "commod_mkts = ['rb', 'hc', 'i', 'j', 'jm', 'ru', 'FG', 'ZC', 'cu', 'al', 'zn', 'pb', 'ni', 'sn', \\\n",
    "               'l', 'pp', 'v', 'TA', 'MA', 'bu', 'sc', 'm', 'RM', 'y', 'p', 'OI', 'a', 'c', 'cs', 'CF', 'SR', 'jd'] \n",
    "product_list = commod_mkts # metal_all_mkts # mixed_metal_mkts #  \n",
    "#mixed_metal_mkts # commod_all_mkts #  ferrous_products_mkts #+ ferrous_mixed_mkts + base_metal_mkts  \n",
    "product_name = 'commod_mkts'\n",
    "run_mode = 'madist'\n",
    "start_date = datetime.date(2010,1,1)\n",
    "end_date = datetime.date(2021,3,26)\n",
    "cost_ratio = 0.5\n",
    "#save_loc = \"C:\\\\dev\\\\data\\\\selected_ts_\" + run_mode + \"_\" + product_name + \"_\" + str(end_date) + '_'\n",
    "save_loc = \"C:\\\\dev\\\\data\\\\combined_tsmom_\" + product_name + \"_\" + str(end_date) + '_'\n",
    "pos_std = 1\n",
    "std_win = 20\n",
    "ma_win = 120\n",
    "rebal = 5\n",
    "#index_list = range(8, 88, 8) # range(10, 110, 10) #range(10, 250, 10) # \n",
    "#column_list = [60, 80, 100, 120, 140, 160] #range(10, 130, 10) #[1, 3, 5, 10, 15, 20] #range(10, 90, 10) #[i * 0.01 for i in range(0, 32, 4)] #\n",
    "sratio = {}\n",
    "run_sratio = False\n",
    "run_pos_sum = True\n",
    "pos_sum = pd.DataFrame()\n",
    "pos_list = []\n",
    "#scenarios = list(itertools.product(index_list, column_list))\n",
    "#ind_metal_mkts\n",
    "#scenarios = [('momma', 1.0, 20, 50, 5, [0.0]), ('momma', 1.0, 30, 120, 5, [0.0]), ('momma', 1.0, 40, 30, 5, [0.0]), \\\n",
    "#            ('mixedmom', 1.0, 10, 1, 10, [0.0]), ('mixedmom', 1.0, 20, 1, 10, [0.0]), \\\n",
    "#            #('rsi', 1.0, 10, 1, 5, [0.08]), ('rsi', 1.0, 20, 1, 5, [0.0]), \\\n",
    "#            ('rsima', 1.0, 20, 30, 5, [0.0]), ('rsima', 1.0, 40, 30, 5, [0.0]), ('rsima', 1.0, 60, 30, 5, [0.0]), \\\n",
    "#            ('madist', 1.0, 8, 80, 5, [1.5, 2.0]), ('madist', 1.0, 16, 80, 5, [1.5, 2.0]), ('madist', 1.0, 24, 80, 5, [1.5, 2.0]),]\n",
    "#commod_mkts\n",
    "scenarios = [('momma', 1.0, 40, 30, 5, [0.0]), \\\n",
    "            ('momma', 1.0, 40, 80, 5, [0.0]), \\\n",
    "            ('mixedmom', 1.0, 10, 1, 10, [0.0]), \\\n",
    "            ('mixedmom', 1.0, 20, 1, 10, [0.0]), \\\n",
    "            ('mixedmom', 1.0, 220, 1, 10, [0.0]), \\\n",
    "            ('rsima', 1.0, 30, 40, 5, [0.0]), \\\n",
    "            ('rsima', 1.0, 30, 110, 5, [0.0]), \\\n",
    "            ('madist', 1.0, 8, 80, 5, [1.5, 2.0]), \\\n",
    "            ('madist', 1.0, 16, 80, 5, [1.5, 2.0]), \\\n",
    "            ('madist', 1.0, 24, 80, 5, [1.5, 2.0]),]\n",
    "\n",
    "if run_sratio:\n",
    "    for yr in sratio_years:\n",
    "        sratio[yr] = pd.DataFrame(0, index = index_list, columns = column_list)\n",
    "\n",
    "port_pnl = pd.Series()\n",
    "weight = 1.0\n",
    "\n",
    "for scen in scenarios:\n",
    "    if len(scen) == 2:\n",
    "        scen_x = scen[0]\n",
    "        scen_y = scen[1]\n",
    "        if run_mode in ['mixedmom']:\n",
    "            win = scen_x\n",
    "            ma_win = 1\n",
    "            rebal = scen_y\n",
    "            params = [0.0]\n",
    "        elif run_mode == 'rsi':\n",
    "            win = scen_x\n",
    "            rebal = 5\n",
    "            ma_win = 1\n",
    "            params = [scen_y * 0.01]\n",
    "        elif run_mode in ['momma', 'rsima', 'madist']:\n",
    "            win = scen_x\n",
    "            ma_win = scen_y\n",
    "            rebal = 5\n",
    "            params = [1.5, 2.0]\n",
    "        else:\n",
    "            print(\"unsupported run_mode\")\n",
    "            continue\n",
    "    elif len(scen) >= 6:\n",
    "        run_mode = scen[0]        \n",
    "        weight = scen[1]\n",
    "        win = scen[2]\n",
    "        ma_win = scen[3]\n",
    "        rebal = scen[4]\n",
    "        params = scen[5]\n",
    "    else:\n",
    "        print(\"unsupported scenarios\")\n",
    "        continue\n",
    "    run_args = {}        \n",
    "    run_args['run_name'] = run_name = '-'.join([run_mode, product_name, str(win), str(ma_win), str(rebal)])\n",
    "    run_args['cost_ratio'] = cost_ratio\n",
    "    run_args['product_list'] = product_list\n",
    "    run_args['start_date'] = start_date\n",
    "    run_args['end_date'] = end_date\n",
    "    run_args['win'] = win\n",
    "    run_args['ma_win'] = ma_win\n",
    "    run_args['std_win'] = std_win\n",
    "    run_args['prefix'] = save_loc        \n",
    "    run_args['rebal_freq'] = rebal\n",
    "    run_args['pos_std'] = pos_std\n",
    "    run_args['params'] = params\n",
    "    run_args['run_mode'] = run_mode\n",
    "    res = run_ts_test(run_args)\n",
    "    res['cum_pnl'].plot()\n",
    "    plt.show()\n",
    "    cum_list.append(res['cum_pnl'])\n",
    "    stats_list.append(res['pnl_stats'])\n",
    "    vdf = res['pnl_stats']\n",
    "    vdf = vdf.loc[[idx for idx in vdf.index if ('sharp' in idx) or ('std' in idx)], :]\n",
    "    print(vdf)\n",
    "    if run_pos_sum:\n",
    "        pos_list.append(res['pos_df'])\n",
    "        pos_sum = pos_sum.add(res['pos_df'] * weight, fill_value = 0)     \n",
    "        port_pnl = port_pnl.add(res['cum_pnl'] * weight, fill_value = 0)\n",
    "    if run_sratio:\n",
    "        for yr in sratio_years:\n",
    "            lbl = 'sharp_ratio_' + str(yr) + 'y'\n",
    "            sratio[yr][scen_y].loc[scen_x] = res['pnl_stats'][run_name][lbl]\n",
    "\n",
    "port_pnl.plot()\n",
    "port_pnl.name = 'daily_pnl'\n",
    "plt.show()\n",
    "res_pnl = backtest.pnl_stats_by_tenor(port_pnl.diff().dropna(), tenors = pnl_tenors, field = None)\n",
    "vdf = pd.DataFrame.from_dict(res_pnl, orient='index').sort_index()\n",
    "vdf = vdf.loc[[idx for idx in vdf.index if ('sharp' in idx) or ('std' in idx)], :]\n",
    "print(port_pnl[-30:])\n",
    "print(vdf)\n",
    "\n",
    "cum_df = pd.concat(cum_list, axis = 1)\n",
    "cum_df.to_csv(save_loc + 'pnl.csv')\n",
    "stats_df = pd.concat(stats_list, axis = 1)\n",
    "stats_df.T.to_csv(save_loc + 'stats.csv')\n",
    "if run_pos_sum:\n",
    "    print(pos_sum)\n",
    "if run_sratio:\n",
    "    for yr in sratio_years:\n",
    "        print(sratio[yr])\n"
   ]
  },
  {
   "cell_type": "code",
   "execution_count": 6,
   "metadata": {},
   "outputs": [],
   "source": [
    "save_xl = True\n",
    "if run_pos_sum and save_xl:\n",
    "    xlfile = save_loc + \"pos_data.xlsx\"\n",
    "    writer = pd.ExcelWriter(xlfile)\n",
    "    for idx in range(len(pos_list)):            \n",
    "        pos_list[idx].to_excel(writer, str(idx), startcol= 0, startrow=1)\n",
    "    pos_sum.to_excel(writer, \"sum\", startcol= 0, startrow=1)\n",
    "    writer.save()    \n",
    "if run_sratio and save_xl:\n",
    "    xlfile = save_loc + \"sratio_heatmap.xlsx\"\n",
    "    writer = pd.ExcelWriter(xlfile)\n",
    "    for yr in sratio_years:\n",
    "        lbl = 'sharp_ratio_' + str(yr) + 'y'\n",
    "        sratio[yr].to_excel(writer, lbl, startcol= 0, startrow=1)\n",
    "    writer.save()    "
   ]
  }
 ],
 "metadata": {
  "kernelspec": {
   "display_name": "Python 3",
   "language": "python",
   "name": "python3"
  },
  "language_info": {
   "codemirror_mode": {
    "name": "ipython",
    "version": 3
   },
   "file_extension": ".py",
   "mimetype": "text/x-python",
   "name": "python",
   "nbconvert_exporter": "python",
   "pygments_lexer": "ipython3",
   "version": "3.8.5"
  }
 },
 "nbformat": 4,
 "nbformat_minor": 2
}
