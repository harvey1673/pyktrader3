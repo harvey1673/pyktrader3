{
 "cells": [
  {
   "cell_type": "code",
   "execution_count": 1,
   "metadata": {},
   "outputs": [],
   "source": [
    "from QuantLib import *\n",
    "today = Date(2, May, 2016)\n",
    "Settings.instance().evaluationDate = today\n"
   ]
  },
  {
   "cell_type": "code",
   "execution_count": 2,
   "metadata": {},
   "outputs": [],
   "source": [
    "%%capture\n",
    "%pylab inline --no-import-all\n",
    "from matplotlib.ticker import FuncFormatter\n",
    "import matplotlib.pyplot as plt\n",
    "\n",
    "def plot_curves(*curves):\n",
    "    fig, ax = plt.subplots()\n",
    "    ax.yaxis.set_major_formatter(FuncFormatter(lambda r,pos: r))\n",
    "    ax.set_xlim(0,15)\n",
    "    ax.set_xticks([0,5,10,15])\n",
    "    times = numpy.linspace(0.0, 15.0, 400)\n",
    "    for curve, style in curves:\n",
    "        rates = [ curve.zeroRate(t, Continuous).rate() for t in times ]\n",
    "        plt.plot(times, rates, style)\n",
    "        \n",
    "def plot_curve(curve):\n",
    "    plot_curves((curve,'-'))"
   ]
  },
  {
   "cell_type": "code",
   "execution_count": 3,
   "metadata": {},
   "outputs": [],
   "source": [
    "quotes = [ SimpleQuote(0.312/100) ]\n",
    "helpers = [ DepositRateHelper(QuoteHandle(quotes[0]),\n",
    "                              Period(6,Months), 3,\n",
    "                              TARGET(), Following, False, Actual360()) ]\n",
    "for rate, months_to_start in [(0.293, 1), (0.272, 2), (0.260, 3),\n",
    "                              (0.256, 4), (0.252, 5), (0.248, 6),\n",
    "                              (0.254, 7), (0.261, 8), (0.267, 9),\n",
    "                              (0.279, 10), (0.291, 11), (0.303, 12),\n",
    "                              (0.318, 13), (0.335, 14), (0.352, 15),\n",
    "                              (0.371, 16), (0.389, 17), (0.409, 18)]:\n",
    "    quotes.append(SimpleQuote(rate/100))\n",
    "    helpers.append(FraRateHelper(QuoteHandle(quotes[-1]), months_to_start, Euribor6M()))\n",
    "    \n",
    "for rate, tenor in [(0.424, 3), (0.576, 4), (0.762, 5), (0.954, 6),\n",
    "                    (1.135, 7), (1.303, 8), (1.452, 9), (1.584, 10),\n",
    "                    (1.809, 12), (2.037, 15), (2.187, 20), (2.234, 25),\n",
    "                    (2.256, 30), (2.295, 35), (2.348, 40), (2.421, 50),\n",
    "                    (2.463, 60)]:\n",
    "    quotes.append(SimpleQuote(rate/100))\n",
    "    helpers.append(SwapRateHelper(QuoteHandle(quotes[-1]), \n",
    "                                  Period(tenor, Years), TARGET(),\n",
    "                                  Annual, Unadjusted, Thirty360(Thirty360.BondBasis),\n",
    "                                  Euribor6M()))\n",
    "    \n",
    "rate_curve = PiecewiseLogCubicDiscount(2, TARGET(), helpers, Actual365Fixed())\n",
    "curve_handle = RelinkableYieldTermStructureHandle(rate_curve)\n"
   ]
  },
  {
   "cell_type": "code",
   "execution_count": 4,
   "metadata": {},
   "outputs": [
    {
     "data": {
      "image/png": "[encoded data removed]",
      "text/plain": [
       "<Figure size 432x288 with 1 Axes>"
      ]
     },
     "metadata": {
      "needs_background": "light"
     },
     "output_type": "display_data"
    }
   ],
   "source": [
    "plot_curve(rate_curve)"
   ]
  },
  {
   "cell_type": "code",
   "execution_count": 5,
   "metadata": {},
   "outputs": [],
   "source": [
    "fixed_schedule = Schedule(Date(9, May, 2022), Date(9, May, 2032),\n",
    "                          Period(1, Years), TARGET(), Following, Following,\n",
    "                          DateGeneration.Forward, False)\n",
    "floating_schedule = Schedule(Date(9, May, 2022), Date(9, May, 2032),\n",
    "                             Period(6, Months), TARGET(), Following, Following,\n",
    "                             DateGeneration.Forward, False)\n",
    "index = Euribor6M(curve_handle)\n",
    "swap = VanillaSwap(VanillaSwap.Payer, 10000.0,\n",
    "                   fixed_schedule, 0.02, Thirty360(),\n",
    "                   floating_schedule, index, 0.0, Actual360())\n",
    "swap.setPricingEngine(DiscountingSwapEngine(curve_handle))"
   ]
  },
  {
   "cell_type": "code",
   "execution_count": 9,
   "metadata": {},
   "outputs": [
    {
     "name": "stdout",
     "output_type": "stream",
     "text": [
      "731.7068190529744 -0.008795847662862387 0.028989919487710618 -8.139192125727387 8.318775484736612\n"
     ]
    }
   ],
   "source": [
    "npv = swap.NPV()\n",
    "fair_spd = swap.fairSpread()\n",
    "fair_rate = swap.fairRate()\n",
    "fix_bps = swap.fixedLegBPS()\n",
    "float_bps = swap.floatingLegBPS()\n",
    "print(npv, fair_spd, fair_rate, fix_bps, float_bps)"
   ]
  },
  {
   "cell_type": "code",
   "execution_count": 7,
   "metadata": {},
   "outputs": [
    {
     "name": "stdout",
     "output_type": "stream",
     "text": [
      " 1    May 9th, 2023          200.00\n",
      " 2    May 9th, 2024          200.00\n",
      " 3    May 9th, 2025          200.00\n",
      " 4    May 11th, 2026         201.11\n",
      " 5    May 10th, 2027         199.44\n",
      " 6    May 9th, 2028          199.44\n",
      " 7    May 9th, 2029          200.00\n",
      " 8    May 9th, 2030          200.00\n",
      " 9    May 9th, 2031          200.00\n",
      "10    May 10th, 2032         200.56\n"
     ]
    }
   ],
   "source": [
    "for i, cf in enumerate(swap.leg(0)):\n",
    "    print(\"%2d    %-18s %10.2f\" % (i+1, cf.date(), cf.amount()))\n"
   ]
  },
  {
   "cell_type": "code",
   "execution_count": 8,
   "metadata": {},
   "outputs": [
    {
     "name": "stdout",
     "output_type": "stream",
     "text": [
      " 1    November 9th, 2022     111.15\n",
      " 2    May 9th, 2023          116.41\n",
      " 3    November 9th, 2023     124.79\n",
      " 4    May 9th, 2024          129.42\n",
      " 5    November 11th, 2024     137.93\n",
      " 6    May 9th, 2025          137.07\n",
      " 7    November 10th, 2025     145.26\n",
      " 8    May 11th, 2026         146.46\n",
      " 9    November 9th, 2026     150.07\n",
      "10    May 10th, 2027         153.08\n",
      "11    November 9th, 2027     156.22\n",
      "12    May 9th, 2028          156.90\n",
      "13    November 9th, 2028     159.45\n",
      "14    May 9th, 2029          156.95\n",
      "15    November 9th, 2029     159.00\n",
      "16    May 9th, 2030          155.15\n",
      "17    November 11th, 2030     157.48\n",
      "18    May 9th, 2031          148.95\n",
      "19    November 10th, 2031     150.82\n",
      "20    May 10th, 2032         145.30\n"
     ]
    }
   ],
   "source": [
    "for i, cf in enumerate(swap.leg(1)):\n",
    "    print(\"%2d    %-18s %10.2f\" % (i+1, cf.date(), cf.amount()))"
   ]
  },
  {
   "cell_type": "code",
   "execution_count": 10,
   "metadata": {},
   "outputs": [
    {
     "name": "stdout",
     "output_type": "stream",
     "text": [
      "-190.1069970119836\n"
     ]
    }
   ],
   "source": [
    "bp = 1.0e-4\n",
    "ref = quotes[0].value()\n",
    "quotes[0].setValue(ref+1*bp)\n",
    "print(swap.NPV())\n",
    "quotes[0].setValue(ref)"
   ]
  },
  {
   "cell_type": "code",
   "execution_count": 11,
   "metadata": {},
   "outputs": [
    {
     "name": "stdout",
     "output_type": "stream",
     "text": [
      "-178.68820577843803\n"
     ]
    }
   ],
   "source": [
    "for q in quotes:\n",
    "    q.setValue(q.value()+1*bp)\n",
    "print(swap.NPV())\n",
    "for q in quotes:\n",
    "    q.setValue(q.value()-1*bp)"
   ]
  },
  {
   "cell_type": "code",
   "execution_count": 12,
   "metadata": {},
   "outputs": [
    {
     "name": "stdout",
     "output_type": "stream",
     "text": [
      "-178.8676404436858\n"
     ]
    }
   ],
   "source": [
    "base_curve = YieldTermStructureHandle(rate_curve)\n",
    "spread = SimpleQuote(1*bp)\n",
    "curve_handle.linkTo(ZeroSpreadedTermStructure(base_curve, QuoteHandle(spread)))\n",
    "print(swap.NPV())"
   ]
  },
  {
   "cell_type": "code",
   "execution_count": 13,
   "metadata": {},
   "outputs": [
    {
     "data": {
      "image/png": "[encoded data removed]",
      "text/plain": [
       "<Figure size 432x288 with 1 Axes>"
      ]
     },
     "metadata": {
      "needs_background": "light"
     },
     "output_type": "display_data"
    }
   ],
   "source": [
    "spread.setValue(5*bp)\n",
    "plot_curves((rate_curve,'-'), (curve_handle,'--'))"
   ]
  },
  {
   "cell_type": "code",
   "execution_count": 14,
   "metadata": {},
   "outputs": [
    {
     "name": "stdout",
     "output_type": "stream",
     "text": [
      "-138.69485276964406\n"
     ]
    },
    {
     "data": {
      "image/png": "[encoded data removed]",
      "text/plain": [
       "<Figure size 432x288 with 1 Axes>"
      ]
     },
     "metadata": {
      "needs_background": "light"
     },
     "output_type": "display_data"
    }
   ],
   "source": [
    "spot = rate_curve.referenceDate()\n",
    "dates = [ spot + Period(n,Years) for n in range(21)]\n",
    "spreads = [ QuoteHandle(SimpleQuote((n-7)*bp)) for n in range(21) ]\n",
    "curve_handle.linkTo(SpreadedLinearZeroInterpolatedTermStructure(base_curve, spreads, dates))\n",
    "plot_curves((rate_curve,'-'), (curve_handle,'--'))\n",
    "print(swap.NPV())"
   ]
  },
  {
   "cell_type": "code",
   "execution_count": 15,
   "metadata": {},
   "outputs": [
    {
     "name": "stdout",
     "output_type": "stream",
     "text": [
      "-189.83267949204537\n"
     ]
    }
   ],
   "source": [
    "curve_handle.linkTo(rate_curve)\n",
    "print(swap.NPV())"
   ]
  }
 ],
 "metadata": {
  "kernelspec": {
   "display_name": "Python 3",
   "language": "python",
   "name": "python3"
  },
  "language_info": {
   "codemirror_mode": {
    "name": "ipython",
    "version": 3
   },
   "file_extension": ".py",
   "mimetype": "text/x-python",
   "name": "python",
   "nbconvert_exporter": "python",
   "pygments_lexer": "ipython3",
   "version": "3.8.5"
  },
  "toc": {
   "base_numbering": 1,
   "nav_menu": {},
   "number_sections": true,
   "sideBar": true,
   "skip_h1_title": false,
   "title_cell": "Table of Contents",
   "title_sidebar": "Contents",
   "toc_cell": false,
   "toc_position": {},
   "toc_section_display": true,
   "toc_window_display": false
  }
 },
 "nbformat": 4,
 "nbformat_minor": 4
}
