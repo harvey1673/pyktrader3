{
 "cells": [
  {
   "cell_type": "code",
   "execution_count": 1,
   "metadata": {},
   "outputs": [
    {
     "data": {
      "text/html": [
       "        <script type=\"text/javascript\">\n",
       "        window.PlotlyConfig = {MathJaxConfig: 'local'};\n",
       "        if (window.MathJax) {MathJax.Hub.Config({SVG: {font: \"STIX-Web\"}});}\n",
       "        if (typeof require !== 'undefined') {\n",
       "        require.undef(\"plotly\");\n",
       "        requirejs.config({\n",
       "            paths: {\n",
       "                'plotly': ['https://cdn.plot.ly/plotly-latest.min']\n",
       "            }\n",
       "        });\n",
       "        require(['plotly'], function(Plotly) {\n",
       "            window._Plotly = Plotly;\n",
       "        });\n",
       "        }\n",
       "        </script>\n",
       "        "
      ]
     },
     "metadata": {},
     "output_type": "display_data"
    },
    {
     "data": {
      "text/html": [
       "        <script type=\"text/javascript\">\n",
       "        window.PlotlyConfig = {MathJaxConfig: 'local'};\n",
       "        if (window.MathJax) {MathJax.Hub.Config({SVG: {font: \"STIX-Web\"}});}\n",
       "        if (typeof require !== 'undefined') {\n",
       "        require.undef(\"plotly\");\n",
       "        requirejs.config({\n",
       "            paths: {\n",
       "                'plotly': ['https://cdn.plot.ly/plotly-latest.min']\n",
       "            }\n",
       "        });\n",
       "        require(['plotly'], function(Plotly) {\n",
       "            window._Plotly = Plotly;\n",
       "        });\n",
       "        }\n",
       "        </script>\n",
       "        "
      ]
     },
     "metadata": {},
     "output_type": "display_data"
    }
   ],
   "source": [
    "import warnings\n",
    "import sys\n",
    "import pandas as pd\n",
    "import numpy as np\n",
    "import matplotlib as mpl\n",
    "import matplotlib.dates as dates\n",
    "import matplotlib.pyplot as plt\n",
    "import datetime\n",
    "import chart_studio.plotly as py\n",
    "import plotly.graph_objs as go\n",
    "from plotly.offline import init_notebook_mode, plot, iplot\n",
    "\n",
    "init_notebook_mode(connected=True)\n",
    "sys.path.append(\"C:/dev/pycmqlib3/\")\n",
    "sys.path.append(\"C:/dev/pycmqlib3/misc_scripts/\")\n",
    "\n",
    "import misc\n",
    "import data_handler as dh\n",
    "import plotly_examples\n",
    "import backtest\n",
    "%matplotlib inline"
   ]
  },
  {
   "cell_type": "code",
   "execution_count": 2,
   "metadata": {},
   "outputs": [],
   "source": [
    "start = datetime.date(2016, 1, 1)\n",
    "end = datetime.date(2020, 5, 20)\n",
    "need_shift = 1\n",
    "asset = 'i'\n",
    "freq = 'd'\n",
    "args = {'n': 1, 'roll_rule': '-35b', 'freq': freq, 'need_shift': need_shift}\n",
    "args['start_date'] = start\n",
    "args['end_date'] = end\n",
    "win_ratio_s = 0.35\n",
    "win_ratio_l = 2.0\n",
    "win_m = 26\n",
    "df = misc.nearby(asset, **args)\n",
    "kumo_cloud = dh.KUMO_CLOUD(df, n = win_m, short_ratio = win_ratio_s, long_ratio = win_ratio_l)\n",
    "for key in kumo_cloud.columns:\n",
    "    df[key] = kumo_cloud[key]\n",
    "#plotly_examples.plot_ichimoku_cloud(df, win_m)"
   ]
  },
  {
   "cell_type": "code",
   "execution_count": 17,
   "metadata": {
    "scrolled": false
   },
   "outputs": [
    {
     "name": "stdout",
     "output_type": "stream",
     "text": [
      "                    instID exch        date  min_id   open   high    low  \\\n",
      "datetime                                                                   \n",
      "2020-05-20 14:55:00  i2009  DCE  2020-05-20    2055  707.0  707.0  705.5   \n",
      "2020-05-20 14:56:00  i2009  DCE  2020-05-20    2056  705.5  706.0  705.0   \n",
      "2020-05-20 14:57:00  i2009  DCE  2020-05-20    2057  705.0  705.5  705.0   \n",
      "2020-05-20 14:58:00  i2009  DCE  2020-05-20    2058  705.0  706.0  705.0   \n",
      "2020-05-20 14:59:00  i2009  DCE  2020-05-20    2059  705.5  706.0  704.5   \n",
      "\n",
      "                     close  volume  openInterest contract  shift  \n",
      "datetime                                                          \n",
      "2020-05-20 14:55:00  705.5  3962.0      898269.0    i2009    0.0  \n",
      "2020-05-20 14:56:00  705.0  2750.0      897671.0    i2009    0.0  \n",
      "2020-05-20 14:57:00  705.0  3569.0      896598.0    i2009    0.0  \n",
      "2020-05-20 14:58:00  705.5  2759.0      895804.0    i2009    0.0  \n",
      "2020-05-20 14:59:00  704.5  8709.0      894381.0    i2009    0.0  \n"
     ]
    },
    {
     "name": "stderr",
     "output_type": "stream",
     "text": [
      "C:\\Anaconda3\\lib\\site-packages\\pandas\\core\\indexing.py:543: SettingWithCopyWarning:\n",
      "\n",
      "\n",
      "A value is trying to be set on a copy of a slice from a DataFrame.\n",
      "Try using .loc[row_indexer,col_indexer] = value instead\n",
      "\n",
      "See the caveats in the documentation: http://pandas.pydata.org/pandas-docs/stable/indexing.html#indexing-view-versus-copy\n",
      "\n"
     ]
    }
   ],
   "source": [
    "start = datetime.date(2016, 1, 1)\n",
    "end = datetime.date(2020, 5, 20)\n",
    "need_shift = 1\n",
    "asset = 'i'\n",
    "freq = 'm'\n",
    "args = {'n': 1, 'roll_rule': '-35b', 'freq': freq, 'need_shift': need_shift}\n",
    "args['start_date'] = start\n",
    "args['end_date'] = end\n",
    "mdf = misc.nearby(asset, **args)\n",
    "mdf = misc.cleanup_mindata(mdf, asset)\n",
    "print(mdf[-5:])"
   ]
  },
  {
   "cell_type": "code",
   "execution_count": 18,
   "metadata": {},
   "outputs": [
    {
     "name": "stdout",
     "output_type": "stream",
     "text": [
      "                           date instID exch  min_id   open   high    low  \\\n",
      "datetime                                                                   \n",
      "2020-05-20 14:45:00  2020-05-20  i2009  DCE    2047  705.5  707.5  705.5   \n",
      "2020-05-20 14:48:00  2020-05-20  i2009  DCE    2050  707.5  707.5  706.5   \n",
      "2020-05-20 14:51:00  2020-05-20  i2009  DCE    2053  707.5  707.5  706.5   \n",
      "2020-05-20 14:54:00  2020-05-20  i2009  DCE    2056  706.5  707.0  705.0   \n",
      "2020-05-20 14:57:00  2020-05-20  i2009  DCE    2059  705.0  706.0  704.5   \n",
      "\n",
      "                     close   volume  openInterest contract  shift  KUMO_TK  \\\n",
      "datetime                                                                     \n",
      "2020-05-20 14:45:00  707.0   9812.0      903821.0    i2009    0.0   706.25   \n",
      "2020-05-20 14:48:00  707.5   6142.0      900468.0    i2009    0.0   706.25   \n",
      "2020-05-20 14:51:00  706.5   2858.0      899256.0    i2009    0.0   706.25   \n",
      "2020-05-20 14:54:00  705.0   7581.0      897671.0    i2009    0.0   705.75   \n",
      "2020-05-20 14:57:00  704.5  15037.0      894381.0    i2009    0.0   705.75   \n",
      "\n",
      "                     KUMO_KJ  KUMO_SKA  KUMO_SKB  KUMO_CK  \n",
      "datetime                                                   \n",
      "2020-05-20 14:45:00    708.0     705.0     701.5      NaN  \n",
      "2020-05-20 14:48:00    708.0     705.0     701.5      NaN  \n",
      "2020-05-20 14:51:00    708.0     705.0     701.5      NaN  \n",
      "2020-05-20 14:54:00    708.0     705.0     701.5      NaN  \n",
      "2020-05-20 14:57:00    708.0     705.0     701.5      NaN  \n"
     ]
    }
   ],
   "source": [
    "df = dh.conv_ohlc_freq1(mdf, '3m')\n",
    "#df = mdf.copy()\n",
    "#df = dh.day_split1(mdf, [300, 1500, 1930, 2100])\n",
    "win_ratio_s = 0.35\n",
    "win_ratio_l = 2.0\n",
    "win_m = 80\n",
    "win_s = round(win_ratio_s * win_m)\n",
    "win_l = round(win_ratio_l * win_m)\n",
    "\n",
    "kumo_cloud = dh.KUMO_CLOUD(df, n = win_m, short_ratio = win_ratio_s, long_ratio = win_ratio_l)\n",
    "\n",
    "df['KUMO_TK'] = kumo_cloud['KUMO_TK_%s' % str(win_m)]\n",
    "df['KUMO_KJ'] = kumo_cloud['KUMO_KJ_%s' % str(win_m)]\n",
    "df['KUMO_SKA'] = kumo_cloud['KUMO_SKA_%s' % str(win_m)].shift(win_m)\n",
    "df['KUMO_SKB'] = kumo_cloud['KUMO_SKB_%s' % str(win_m)].shift(win_m)\n",
    "# The most current closing price plotted 26 time periods behind (optional)\n",
    "df['KUMO_CK'] = df['close'].shift(-win_m)\n",
    "print(df[-5:])\n",
    "#plotly_examples.plot_ichimoku_cloud(df, win_s, win_m, win_l)"
   ]
  },
  {
   "cell_type": "code",
   "execution_count": 19,
   "metadata": {},
   "outputs": [
    {
     "name": "stderr",
     "output_type": "stream",
     "text": [
      "C:\\Anaconda3\\lib\\site-packages\\ipykernel_launcher.py:24: SettingWithCopyWarning:\n",
      "\n",
      "\n",
      "A value is trying to be set on a copy of a slice from a DataFrame\n",
      "\n",
      "See the caveats in the documentation: http://pandas.pydata.org/pandas-docs/stable/indexing.html#indexing-view-versus-copy\n",
      "\n"
     ]
    },
    {
     "data": {
      "image/png": "[encoded data removed]",
      "text/plain": [
       "<Figure size 432x288 with 1 Axes>"
      ]
     },
     "metadata": {
      "needs_background": "light"
     },
     "output_type": "display_data"
    },
    {
     "name": "stdout",
     "output_type": "stream",
     "text": [
      "                              0\n",
      "avg_pnl_1y             0.800000\n",
      "avg_pnl_2y            -0.366530\n",
      "avg_pnl_3y            -0.523288\n",
      "avg_pnl_4y            -0.883350\n",
      "max_dd_period_1y     -48.000000\n",
      "max_dd_period_2y    -346.000000\n",
      "max_dd_period_3y    -704.000000\n",
      "max_dd_period_4y    -880.000000\n",
      "max_drawdown_1y     -174.000000\n",
      "max_drawdown_2y     -459.000000\n",
      "max_drawdown_3y     -709.500000\n",
      "max_drawdown_4y    -1130.000000\n",
      "num_days_1y          245.000000\n",
      "num_days_2y          487.000000\n",
      "num_days_3y          730.000000\n",
      "num_days_4y          973.000000\n",
      "profit_dd_ratio_1y     1.126437\n",
      "profit_dd_ratio_2y    -0.388889\n",
      "profit_dd_ratio_3y    -0.538407\n",
      "profit_dd_ratio_4y    -0.760619\n",
      "sharp_ratio_1y         0.860262\n",
      "sharp_ratio_2y        -0.452579\n",
      "sharp_ratio_3y        -0.655979\n",
      "sharp_ratio_4y        -1.013334\n",
      "std_pnl_1y            14.762491\n",
      "std_pnl_2y            12.856267\n",
      "std_pnl_3y            12.663423\n",
      "std_pnl_4y            13.838241\n",
      "tot_cost_1y          234.500000\n",
      "tot_cost_2y          618.500000\n",
      "tot_cost_3y          954.500000\n",
      "tot_cost_4y         1356.500000\n",
      "tot_pnl_1y           196.000000\n",
      "tot_pnl_2y          -178.500000\n",
      "tot_pnl_3y          -382.000000\n",
      "tot_pnl_4y          -859.500000\n"
     ]
    }
   ],
   "source": [
    "margin_rate = [0.08, 0.08]\n",
    "pnl_tenors = ['1y', '2y', '3y', '4y']\n",
    "cost_ratio = 1.0\n",
    "offset = 0.5\n",
    "start_capital = 0.0\n",
    "\n",
    "long_signal = pd.Series(np.nan, index = df.index)\n",
    "long_flag = (df['close'] > df['KUMO_SKA']) & (df['close'] > df['KUMO_SKB']) \\\n",
    "            #& (df['KUMO_TK'] >= df['KUMO_SKA']) & (df['KUMO_TK'] >= df['KUMO_SKB'])                         \n",
    "long_signal[long_flag] = 1\n",
    "cover_flag = ((df['close'] <= df['KUMO_SKA']) & (df['close'] <= df['KUMO_SKB'])) \\\n",
    "            #| ((df['KUMO_TK'] <= df['KUMO_SKA']) & (df['KUMO_TK'] <= df['KUMO_SKB']))\n",
    "long_signal[cover_flag] = 0\n",
    "long_signal = long_signal.shift(1).fillna(method='ffill').fillna(0)\n",
    "short_signal = pd.Series(np.nan, index = df.index)\n",
    "short_flag = (df['close'] < df['KUMO_SKA']) & (df['close'] < df['KUMO_SKB']) \\\n",
    "            #& (df['KUMO_TK'] <= df['KUMO_SKA']) & (df['KUMO_TK'] <= df['KUMO_SKB'])             \n",
    "short_signal[short_flag] = -1\n",
    "cover_flag = ((df['close'] >= df['KUMO_SKA']) & (df['close'] >= df['KUMO_SKB'])) \\\n",
    "            #| ((df['KUMO_TK'] >= df['KUMO_SKA']) & (df['KUMO_TK'] >= df['KUMO_SKB']))\n",
    "short_signal[cover_flag] = 0\n",
    "short_signal = short_signal.shift(1).fillna(method='ffill').fillna(0)\n",
    "df['pos'] = (long_signal + short_signal)\n",
    "df['pos'][-1] = 0.0\n",
    "df['cost'] = abs(df['pos'] - df['pos'].shift(1)) * offset\n",
    "df['cost'] = df['cost'].fillna(0.0)\n",
    "df['traded_price'] = df.open\n",
    "closed_trades = backtest.simdf_to_trades1(df, slippage = offset)\n",
    "res_trade = backtest.get_trade_stats(closed_trades)\n",
    "(res_pnl, ts) = backtest.get_pnl_stats([df], margin_rate, 'm', tenors = pnl_tenors, start_capital = start_capital, cost_ratio = cost_ratio)\n",
    "ts[['cum_pnl']].plot()\n",
    "plt.show()\n",
    "pnl_df = pd.DataFrame.from_dict(res_pnl, orient='index').sort_index()\n",
    "print(pnl_df)"
   ]
  }
 ],
 "metadata": {
  "kernelspec": {
   "display_name": "Python 3",
   "language": "python",
   "name": "python3"
  },
  "language_info": {
   "codemirror_mode": {
    "name": "ipython",
    "version": 3
   },
   "file_extension": ".py",
   "mimetype": "text/x-python",
   "name": "python",
   "nbconvert_exporter": "python",
   "pygments_lexer": "ipython3",
   "version": "3.7.6"
  }
 },
 "nbformat": 4,
 "nbformat_minor": 2
}
