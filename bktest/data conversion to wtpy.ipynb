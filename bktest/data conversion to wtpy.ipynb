{
 "cells": [
  {
   "cell_type": "code",
   "execution_count": 2,
   "id": "c4e6f94a",
   "metadata": {},
   "outputs": [
    {
     "name": "stdout",
     "output_type": "stream",
     "text": [
      "The autoreload extension is already loaded. To reload it, use:\n",
      "  %reload_ext autoreload\n"
     ]
    },
    {
     "data": {
      "text/plain": [
       "1"
      ]
     },
     "execution_count": 2,
     "metadata": {},
     "output_type": "execute_result"
    }
   ],
   "source": [
    "%matplotlib inline\n",
    "import os\n",
    "os.environ['PY3_PROD'] = '1'\n",
    "%load_ext autoreload\n",
    "%autoreload 2\n",
    "os.system('kinit')"
   ]
  },
  {
   "cell_type": "code",
   "execution_count": 3,
   "id": "e3baa445",
   "metadata": {},
   "outputs": [],
   "source": [
    "import numpy as np\n",
    "import math\n",
    "import pandas as pd\n",
    "from typing import Union, List\n",
    "import datetime\n",
    "from pycmqlib3.utility import misc\n",
    "from pycmqlib3.utility.dbaccess import *\n",
    "import pycmqlib3.analytics.data_handler as dh\n",
    "import pathlib\n",
    "from pycmqlib3.utility.process_wt_data import *\n",
    "from wtpy.wrapper import WtDataHelper\n",
    "# from pycmqlib3.utility import dataseries\n",
    "# from pycmqlib3.analytics.tstool import *\n",
    "# from pycmqlib3.analytics.btmetrics import *\n"
   ]
  },
  {
   "cell_type": "code",
   "execution_count": 4,
   "id": "d3dc730d",
   "metadata": {},
   "outputs": [],
   "source": [
    "pd.set_option('display.max_rows', 150)\n",
    "pd.set_option('display.max_columns', 150)"
   ]
  },
  {
   "cell_type": "code",
   "execution_count": 6,
   "id": "85f71ada",
   "metadata": {},
   "outputs": [
    {
     "name": "stdout",
     "output_type": "stream",
     "text": [
      "saving data for ifind_data.xlsx:const, total cols:27\n"
     ]
    },
    {
     "name": "stderr",
     "output_type": "stream",
     "text": [
      "C:\\dev\\pyktrader3\\pycmqlib3\\utility\\dbaccess.py:76: SAWarning: Can't validate argument 'replace_string'; can't locate any SQLAlchemy dialect named 'replace'\n",
      "  conn.execute(table.table.insert(replace_string=\"\"), data)\n"
     ]
    },
    {
     "name": "stdout",
     "output_type": "stream",
     "text": [
      "saving data for ifind_data.xlsx:daily, total cols:139\n",
      "saving data for ifind_data.xlsx:weekly, total cols:139\n",
      "saving data for ifind_data.xlsx:sector, total cols:38\n"
     ]
    }
   ],
   "source": [
    "from misc_scripts.daily_update_job import update_data_from_xl\n",
    "update_data_from_xl()"
   ]
  },
  {
   "cell_type": "code",
   "execution_count": 9,
   "id": "8cd87795",
   "metadata": {},
   "outputs": [],
   "source": [
    "base_folder = \"C:/dev/wtdev/storage/his\"\n",
    "\n",
    "zip_wt_dir(base_folder, 'C:/dev/data/wt_data_230626.zip', cutoff=datetime.date(2023,6,20))"
   ]
  },
  {
   "cell_type": "code",
   "execution_count": null,
   "id": "de208103",
   "metadata": {},
   "outputs": [
    {
     "name": "stdout",
     "output_type": "stream",
     "text": [
      "day-CFFEX\n",
      "day-DCE\n",
      "day-CZCE\n",
      "day-SHFE\n",
      "day-INE\n",
      "day-GFEX\n",
      "min1-CFFEX\n",
      "min1-DCE\n"
     ]
    }
   ],
   "source": [
    "base_folder = \"C:/dev/wtdev/storage/his\"\n",
    "update_folder = \"C:/dev/data/his\"\n",
    "cutoff = datetime.date(2023,6,20)\n",
    "update_wt_store(base_folder=base_folder, update_folder = update_folder, cutoff=cutoff)"
   ]
  },
  {
   "cell_type": "code",
   "execution_count": null,
   "id": "b371da3d",
   "metadata": {},
   "outputs": [],
   "source": []
  },
  {
   "cell_type": "code",
   "execution_count": null,
   "id": "79bd85bb",
   "metadata": {},
   "outputs": [],
   "source": [
    "start_date = datetime.date(2022,12,22)\n",
    "end_date = datetime.date(2022,12,23)\n",
    "src_folder = \"C:/dev/wtdev/storage/his\"\n",
    "dst_folder = \"C:/dev/wtdev/storage/his\"\n",
    "cutoff_date = 20221223\n",
    "\n",
    "save_bars_to_wt_store(exchange_list=['GFEX'],\n",
    "                        start_date=start_date,\n",
    "                        end_date=end_date,\n",
    "                        cutoff_date=cutoff_date,\n",
    "                        process_min=True,\n",
    "                        process_day=True,\n",
    "                        src_folder=src_folder,\n",
    "                        dst_folder=dst_folder)"
   ]
  },
  {
   "cell_type": "code",
   "execution_count": null,
   "id": "fceacbed",
   "metadata": {},
   "outputs": [],
   "source": []
  },
  {
   "cell_type": "code",
   "execution_count": null,
   "id": "0ac1eeb5",
   "metadata": {},
   "outputs": [],
   "source": [
    "start_date = datetime.date(2022,12,22)\n",
    "end_date = datetime.date(2022,12,22)\n",
    "dst_folder = \"C:/dev/wtdev/storage/his\"\n",
    "\n",
    "save_ticks_to_wt_store(\n",
    "        exchange_list=['GFEX'],\n",
    "        start_date=start_date,\n",
    "        end_date=end_date,\n",
    "        dst_folder=dst_folder,\n",
    "        exclusion_list=[])"
   ]
  },
  {
   "cell_type": "code",
   "execution_count": null,
   "id": "41970cea",
   "metadata": {},
   "outputs": [],
   "source": []
  },
  {
   "cell_type": "code",
   "execution_count": 7,
   "id": "0c40928d",
   "metadata": {},
   "outputs": [
    {
     "data": {
      "text/html": [
       "<div>\n",
       "<style scoped>\n",
       "    .dataframe tbody tr th:only-of-type {\n",
       "        vertical-align: middle;\n",
       "    }\n",
       "\n",
       "    .dataframe tbody tr th {\n",
       "        vertical-align: top;\n",
       "    }\n",
       "\n",
       "    .dataframe thead th {\n",
       "        text-align: right;\n",
       "    }\n",
       "</style>\n",
       "<table border=\"1\" class=\"dataframe\">\n",
       "  <thead>\n",
       "    <tr style=\"text-align: right;\">\n",
       "      <th></th>\n",
       "      <th>date</th>\n",
       "      <th>bartime</th>\n",
       "      <th>open</th>\n",
       "      <th>high</th>\n",
       "      <th>low</th>\n",
       "      <th>close</th>\n",
       "      <th>settle</th>\n",
       "      <th>money</th>\n",
       "      <th>volume</th>\n",
       "      <th>hold</th>\n",
       "      <th>diff</th>\n",
       "    </tr>\n",
       "  </thead>\n",
       "  <tbody>\n",
       "    <tr>\n",
       "      <th>199000000000</th>\n",
       "      <td>20230609</td>\n",
       "      <td>199000000000</td>\n",
       "      <td>793.5</td>\n",
       "      <td>812.5</td>\n",
       "      <td>791.5</td>\n",
       "      <td>812.0</td>\n",
       "      <td>800.0</td>\n",
       "      <td>8.100004e+10</td>\n",
       "      <td>1012242.0</td>\n",
       "      <td>926918.0</td>\n",
       "      <td>14605.0</td>\n",
       "    </tr>\n",
       "    <tr>\n",
       "      <th>199000000000</th>\n",
       "      <td>20230612</td>\n",
       "      <td>199000000000</td>\n",
       "      <td>810.0</td>\n",
       "      <td>811.0</td>\n",
       "      <td>782.0</td>\n",
       "      <td>785.5</td>\n",
       "      <td>796.0</td>\n",
       "      <td>8.156051e+10</td>\n",
       "      <td>1024567.0</td>\n",
       "      <td>865473.0</td>\n",
       "      <td>-61445.0</td>\n",
       "    </tr>\n",
       "    <tr>\n",
       "      <th>199000000000</th>\n",
       "      <td>20230613</td>\n",
       "      <td>199000000000</td>\n",
       "      <td>784.5</td>\n",
       "      <td>803.0</td>\n",
       "      <td>781.0</td>\n",
       "      <td>801.5</td>\n",
       "      <td>792.5</td>\n",
       "      <td>7.826362e+10</td>\n",
       "      <td>987231.0</td>\n",
       "      <td>849235.0</td>\n",
       "      <td>-16238.0</td>\n",
       "    </tr>\n",
       "    <tr>\n",
       "      <th>199000000000</th>\n",
       "      <td>20230614</td>\n",
       "      <td>199000000000</td>\n",
       "      <td>804.5</td>\n",
       "      <td>811.0</td>\n",
       "      <td>797.5</td>\n",
       "      <td>804.5</td>\n",
       "      <td>804.0</td>\n",
       "      <td>6.460089e+10</td>\n",
       "      <td>803202.0</td>\n",
       "      <td>856715.0</td>\n",
       "      <td>7480.0</td>\n",
       "    </tr>\n",
       "    <tr>\n",
       "      <th>199000000000</th>\n",
       "      <td>20230615</td>\n",
       "      <td>199000000000</td>\n",
       "      <td>809.5</td>\n",
       "      <td>820.5</td>\n",
       "      <td>804.5</td>\n",
       "      <td>815.5</td>\n",
       "      <td>814.0</td>\n",
       "      <td>6.655331e+10</td>\n",
       "      <td>817467.0</td>\n",
       "      <td>852864.0</td>\n",
       "      <td>-3851.0</td>\n",
       "    </tr>\n",
       "    <tr>\n",
       "      <th>199000000000</th>\n",
       "      <td>20230616</td>\n",
       "      <td>199000000000</td>\n",
       "      <td>814.5</td>\n",
       "      <td>818.5</td>\n",
       "      <td>802.0</td>\n",
       "      <td>815.0</td>\n",
       "      <td>810.5</td>\n",
       "      <td>6.736205e+10</td>\n",
       "      <td>830930.0</td>\n",
       "      <td>840351.0</td>\n",
       "      <td>-12513.0</td>\n",
       "    </tr>\n",
       "    <tr>\n",
       "      <th>199000000000</th>\n",
       "      <td>20230619</td>\n",
       "      <td>199000000000</td>\n",
       "      <td>815.0</td>\n",
       "      <td>825.0</td>\n",
       "      <td>805.0</td>\n",
       "      <td>809.5</td>\n",
       "      <td>814.0</td>\n",
       "      <td>7.341365e+10</td>\n",
       "      <td>901580.0</td>\n",
       "      <td>828825.0</td>\n",
       "      <td>-11526.0</td>\n",
       "    </tr>\n",
       "    <tr>\n",
       "      <th>199000000000</th>\n",
       "      <td>20230620</td>\n",
       "      <td>199000000000</td>\n",
       "      <td>810.0</td>\n",
       "      <td>812.5</td>\n",
       "      <td>799.0</td>\n",
       "      <td>806.5</td>\n",
       "      <td>805.5</td>\n",
       "      <td>5.483830e+10</td>\n",
       "      <td>680595.0</td>\n",
       "      <td>825941.0</td>\n",
       "      <td>-2884.0</td>\n",
       "    </tr>\n",
       "    <tr>\n",
       "      <th>199000000000</th>\n",
       "      <td>20230621</td>\n",
       "      <td>199000000000</td>\n",
       "      <td>803.5</td>\n",
       "      <td>810.5</td>\n",
       "      <td>791.5</td>\n",
       "      <td>797.5</td>\n",
       "      <td>800.5</td>\n",
       "      <td>7.189717e+10</td>\n",
       "      <td>898145.0</td>\n",
       "      <td>804577.0</td>\n",
       "      <td>-21364.0</td>\n",
       "    </tr>\n",
       "    <tr>\n",
       "      <th>199000000000</th>\n",
       "      <td>20230626</td>\n",
       "      <td>199000000000</td>\n",
       "      <td>785.0</td>\n",
       "      <td>799.5</td>\n",
       "      <td>784.0</td>\n",
       "      <td>797.0</td>\n",
       "      <td>791.5</td>\n",
       "      <td>4.143554e+10</td>\n",
       "      <td>523391.0</td>\n",
       "      <td>833933.0</td>\n",
       "      <td>29356.0</td>\n",
       "    </tr>\n",
       "  </tbody>\n",
       "</table>\n",
       "</div>"
      ],
      "text/plain": [
       "                  date       bartime   open   high    low  close  settle  \\\n",
       "199000000000  20230609  199000000000  793.5  812.5  791.5  812.0   800.0   \n",
       "199000000000  20230612  199000000000  810.0  811.0  782.0  785.5   796.0   \n",
       "199000000000  20230613  199000000000  784.5  803.0  781.0  801.5   792.5   \n",
       "199000000000  20230614  199000000000  804.5  811.0  797.5  804.5   804.0   \n",
       "199000000000  20230615  199000000000  809.5  820.5  804.5  815.5   814.0   \n",
       "199000000000  20230616  199000000000  814.5  818.5  802.0  815.0   810.5   \n",
       "199000000000  20230619  199000000000  815.0  825.0  805.0  809.5   814.0   \n",
       "199000000000  20230620  199000000000  810.0  812.5  799.0  806.5   805.5   \n",
       "199000000000  20230621  199000000000  803.5  810.5  791.5  797.5   800.5   \n",
       "199000000000  20230626  199000000000  785.0  799.5  784.0  797.0   791.5   \n",
       "\n",
       "                     money     volume      hold     diff  \n",
       "199000000000  8.100004e+10  1012242.0  926918.0  14605.0  \n",
       "199000000000  8.156051e+10  1024567.0  865473.0 -61445.0  \n",
       "199000000000  7.826362e+10   987231.0  849235.0 -16238.0  \n",
       "199000000000  6.460089e+10   803202.0  856715.0   7480.0  \n",
       "199000000000  6.655331e+10   817467.0  852864.0  -3851.0  \n",
       "199000000000  6.736205e+10   830930.0  840351.0 -12513.0  \n",
       "199000000000  7.341365e+10   901580.0  828825.0 -11526.0  \n",
       "199000000000  5.483830e+10   680595.0  825941.0  -2884.0  \n",
       "199000000000  7.189717e+10   898145.0  804577.0 -21364.0  \n",
       "199000000000  4.143554e+10   523391.0  833933.0  29356.0  "
      ]
     },
     "execution_count": 7,
     "metadata": {},
     "output_type": "execute_result"
    }
   ],
   "source": [
    "period = 'day'\n",
    "exch = 'DCE'\n",
    "cont = 'i2309'\n",
    "src_folder = 'c:/dev/wtdev/storage/his'\n",
    "filename = '%s/%s/%s/%s.dsb' % (src_folder, period, exch, cont)\n",
    "dtHelper = WtDataHelper()\n",
    "curr_df = dtHelper.read_dsb_bars(filename).to_df()\n",
    "curr_df.tail(10)"
   ]
  },
  {
   "cell_type": "code",
   "execution_count": null,
   "id": "c2cfea6b",
   "metadata": {},
   "outputs": [],
   "source": []
  },
  {
   "cell_type": "code",
   "execution_count": null,
   "id": "d7f8a64a",
   "metadata": {},
   "outputs": [],
   "source": [
    "sdate = datetime.date(2000,1,1)\n",
    "edate = datetime.date(2022,9,30)\n",
    "\n",
    "cnx = connect(**dbconfig)\n",
    "cont = 'TA301'\n",
    "mdf = load_min_data_to_df(cnx, 'fut_min', cont, sdate, edate, index_col = None, shift_datetime = True)\n",
    "\n",
    "# mdf['rdate'] = mdf['date'].astype('datetime64').dt.strftime('%Y%m%d').astype('int64')\n",
    "# mdf['time'] = 0\n",
    "# mdf['hold'] = mdf['openInterest']\n",
    "# mdf['diff'] = mdf['hold'].diff().fillna(0)\n",
    "# mdf['money'] = mdf['close'] * mdf['volume']\n",
    "# mdf['vol'] = mdf['volume']\n",
    "col_list = ['date', 'time', 'open', 'high', 'low', 'close', 'money', 'vol', 'hold', 'diff']\n",
    "# mdf = mdf[col_list]            \n",
    "mdf = conv_min_data(mdf)\n",
    "print(mdf[col_list])"
   ]
  },
  {
   "cell_type": "code",
   "execution_count": null,
   "id": "819ea5bd",
   "metadata": {},
   "outputs": [],
   "source": []
  },
  {
   "cell_type": "code",
   "execution_count": null,
   "id": "c892d284",
   "metadata": {},
   "outputs": [],
   "source": []
  },
  {
   "cell_type": "code",
   "execution_count": 14,
   "id": "5cd10188",
   "metadata": {},
   "outputs": [
    {
     "name": "stdout",
     "output_type": "stream",
     "text": [
      "           date        time    open    high     low   close     money  vol  \\\n",
      "0      20120120  2201201015  8780.0  8780.0  8780.0  8780.0   17560.0    2   \n",
      "1      20120130  2201300901  8824.0  8824.0  8824.0  8824.0   17648.0    2   \n",
      "2      20120131  2201311008  9016.0  9016.0  9016.0  9016.0   18032.0    2   \n",
      "3      20120131  2201311046  9016.0  9070.0  9016.0  9070.0   18140.0    2   \n",
      "4      20120131  2201311055  9070.0  9070.0  9066.0  9066.0   18132.0    2   \n",
      "...         ...         ...     ...     ...     ...     ...       ...  ...   \n",
      "38845  20130115  2301151001  8874.0  9000.0  8874.0  9000.0   36000.0    4   \n",
      "38846  20130115  2301151103  9000.0  9022.0  9000.0  9022.0   36088.0    4   \n",
      "38847  20130116  2301161500  9022.0  9022.0  8850.0  8850.0  141600.0   16   \n",
      "38848  20130117  2301170929  9078.0  9078.0  9078.0  9078.0  108936.0   12   \n",
      "38849  20130117  2301171037  9078.0  9078.0  8906.0  8906.0   35624.0    4   \n",
      "\n",
      "       hold   diff  \n",
      "0         2    0.0  \n",
      "1         2    0.0  \n",
      "2         2    0.0  \n",
      "3         4    2.0  \n",
      "4         6    2.0  \n",
      "...     ...    ...  \n",
      "38845  3230    0.0  \n",
      "38846  3230    0.0  \n",
      "38847  2794 -436.0  \n",
      "38848  2794    0.0  \n",
      "38849  2798    4.0  \n",
      "\n",
      "[38850 rows x 10 columns]\n"
     ]
    }
   ],
   "source": [
    "sdate = datetime.date(2000,1,1)\n",
    "edate = datetime.date(2022,9,30)\n",
    "\n",
    "cnx = connect(**dbconfig)\n",
    "cont = 'TA301'\n",
    "mdf = load_min_data_to_df(cnx, 'fut_min', cont, sdate, edate, index_col = None, shift_datetime = True)\n",
    "\n",
    "# mdf['rdate'] = mdf['date'].astype('datetime64').dt.strftime('%Y%m%d').astype('int64')\n",
    "# mdf['time'] = 0\n",
    "# mdf['hold'] = mdf['openInterest']\n",
    "# mdf['diff'] = mdf['hold'].diff().fillna(0)\n",
    "# mdf['money'] = mdf['close'] * mdf['volume']\n",
    "# mdf['vol'] = mdf['volume']\n",
    "col_list = ['date', 'time', 'open', 'high', 'low', 'close', 'money', 'vol', 'hold', 'diff']\n",
    "# mdf = mdf[col_list]            \n",
    "mdf = conv_min_data(mdf)\n",
    "print(mdf[col_list])"
   ]
  },
  {
   "cell_type": "code",
   "execution_count": null,
   "id": "1e6a3291",
   "metadata": {},
   "outputs": [],
   "source": [
    "ddf = load_daily_data_to_df(cnx, 'fut_daily', cont, datetime.date(2000,1,1), edate, index_col='date', field = 'instID', date_as_str = False)\n",
    "ddf = ddf.rename(columns = {'openInterest': 'open_interest'}).reset_index()\n",
    "ddf['pre_settle'] = ddf['settle'].shift(1)\n",
    "ddf['pre_interest'] = ddf['open_interest'].shift(1)\n",
    "ddf['pre_close'] = ddf['close'].shift(1)\n",
    "ddf['date'] = ddf['date'].astype('datetime64').dt.strftime('%Y%m%d').astype('int64')\n",
    "ddf = ddf.set_index('date')"
   ]
  },
  {
   "cell_type": "code",
   "execution_count": null,
   "id": "4e933cb7",
   "metadata": {},
   "outputs": [],
   "source": []
  }
 ],
 "metadata": {
  "kernelspec": {
   "display_name": "Python 3 (ipykernel)",
   "language": "python",
   "name": "python3"
  },
  "language_info": {
   "codemirror_mode": {
    "name": "ipython",
    "version": 3
   },
   "file_extension": ".py",
   "mimetype": "text/x-python",
   "name": "python",
   "nbconvert_exporter": "python",
   "pygments_lexer": "ipython3",
   "version": "3.9.7"
  },
  "toc": {
   "base_numbering": 1,
   "nav_menu": {},
   "number_sections": true,
   "sideBar": true,
   "skip_h1_title": false,
   "title_cell": "Table of Contents",
   "title_sidebar": "Contents",
   "toc_cell": false,
   "toc_position": {},
   "toc_section_display": true,
   "toc_window_display": false
  }
 },
 "nbformat": 4,
 "nbformat_minor": 5
}
