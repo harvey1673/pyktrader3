{
 "cells": [
  {
   "cell_type": "code",
   "execution_count": 1,
   "metadata": {},
   "outputs": [
    {
     "data": {
      "text/html": [
       "        <script type=\"text/javascript\">\n",
       "        window.PlotlyConfig = {MathJaxConfig: 'local'};\n",
       "        if (window.MathJax) {MathJax.Hub.Config({SVG: {font: \"STIX-Web\"}});}\n",
       "        if (typeof require !== 'undefined') {\n",
       "        require.undef(\"plotly\");\n",
       "        requirejs.config({\n",
       "            paths: {\n",
       "                'plotly': ['https://cdn.plot.ly/plotly-latest.min']\n",
       "            }\n",
       "        });\n",
       "        require(['plotly'], function(Plotly) {\n",
       "            window._Plotly = Plotly;\n",
       "        });\n",
       "        }\n",
       "        </script>\n",
       "        "
      ]
     },
     "metadata": {},
     "output_type": "display_data"
    },
    {
     "data": {
      "text/html": [
       "        <script type=\"text/javascript\">\n",
       "        window.PlotlyConfig = {MathJaxConfig: 'local'};\n",
       "        if (window.MathJax) {MathJax.Hub.Config({SVG: {font: \"STIX-Web\"}});}\n",
       "        if (typeof require !== 'undefined') {\n",
       "        require.undef(\"plotly\");\n",
       "        requirejs.config({\n",
       "            paths: {\n",
       "                'plotly': ['https://cdn.plot.ly/plotly-latest.min']\n",
       "            }\n",
       "        });\n",
       "        require(['plotly'], function(Plotly) {\n",
       "            window._Plotly = Plotly;\n",
       "        });\n",
       "        }\n",
       "        </script>\n",
       "        "
      ]
     },
     "metadata": {},
     "output_type": "display_data"
    }
   ],
   "source": [
    "import warnings\n",
    "import sys\n",
    "import pandas as pd\n",
    "import numpy as np\n",
    "import matplotlib as mpl\n",
    "import matplotlib.dates as dates\n",
    "import matplotlib.pyplot as plt\n",
    "import datetime\n",
    "import chart_studio.plotly as py\n",
    "import plotly.graph_objs as go\n",
    "from plotly.offline import init_notebook_mode, plot, iplot\n",
    "import akshare\n",
    "init_notebook_mode(connected=True)\n",
    "sys.path.append(\"C:/dev/pycmqlib3/\")\n",
    "sys.path.append(\"C:/dev/pycmqlib3/misc_scripts/\")\n",
    "warnings.filterwarnings('ignore')\n",
    "import misc\n",
    "import data_handler as dh\n",
    "import plotly_examples\n",
    "import backtest\n",
    "import copy\n",
    "%matplotlib inline\n",
    "\n",
    "ferrous_products_mkts = ['rb', 'hc', 'i', 'j', 'jm']\n",
    "ferrous_mixed_mkts = ['ru', 'FG', 'ZC', 'SM', \"SF\"]\n",
    "base_metal_mkts = ['cu', 'al', 'zn', 'pb', 'ni', 'sn']\n",
    "precious_metal_mkts = ['au', 'ag']\n",
    "ind_metal_mkts = ferrous_products_mkts + ferrous_mixed_mkts + base_metal_mkts  \n",
    "petro_chem_mkts = ['l', 'pp', 'v', 'TA', 'MA', 'bu'] #, 'sc', 'fu', 'eg']\n",
    "ind_all_mkts = ind_metal_mkts + petro_chem_mkts\n",
    "ags_oil_mkts = ['m', 'RM', 'y', 'p', 'OI', 'a', 'c', 'cs'] #, 'b']\n",
    "ags_soft_mkts = ['CF', 'SR', 'jd']#, 'AP', 'sp']\n",
    "ags_all_mkts = ags_oil_mkts + ags_soft_mkts\n",
    "eq_fut_mkts = ['IF', 'IH', 'IC']\n",
    "bond_fut_mkts = ['T', 'TF']\n",
    "fin_all_mkts = eq_fut_mkts + bond_fut_mkts\n",
    "commod_all_mkts = ind_all_mkts + ags_all_mkts + precious_metal_mkts\n",
    "all_markets = commod_all_mkts + fin_all_mkts"
   ]
  },
  {
   "cell_type": "code",
   "execution_count": 23,
   "metadata": {},
   "outputs": [
    {
     "name": "stdout",
     "output_type": "stream",
     "text": [
      "loading mkt = jd, nb = 1, args = {'roll_rule': '-20b', 'freq': 'd', 'need_shift': 1, 'start_date': datetime.date(2016, 1, 1), 'end_date': datetime.date(2020, 6, 11), 'n': 1}\n",
      "loading mkt = jd, nb = 2, args = {'roll_rule': '-20b', 'freq': 'd', 'need_shift': 1, 'start_date': datetime.date(2016, 1, 1), 'end_date': datetime.date(2020, 6, 11), 'n': 2}\n"
     ]
    }
   ],
   "source": [
    "# field_list = ['open', 'high', 'low', 'close', 'volume', 'openInterest', 'contract', 'shift']\n",
    "\n",
    "start_date = datetime.date(2016,1,1)\n",
    "end_date = datetime.date(2020,6,11)\n",
    "\n",
    "#sim_products = ['rb', 'hc', 'i', 'j', 'jm', 'ru', 'FG', 'ZC', 'OI', \\\n",
    "#                'l', 'pp', 'v', 'TA', 'MA', \\\n",
    "#                'a', 'm', 'RM', 'y', 'p', 'SR', 'CF', 'jd',\\\n",
    "#                'c', 'cs', 'cu', 'zn', 'al']\n",
    "sim_products = ['jd']\n",
    "need_shift = 1\n",
    "freq = 'd'\n",
    "\n",
    "args = {'roll_rule': '-20b', 'freq': freq, 'need_shift': need_shift}\n",
    "ferrous_products_args = args\n",
    "ferro_mixed_mkt_args = args\n",
    "base_args = {'roll_rule': '-30b', 'freq': freq, 'need_shift': need_shift}\n",
    "ni_args = {'roll_rule': '-30b', 'freq': freq, 'need_shift': need_shift}\n",
    "eq_args = {'roll_rule': '1b', 'freq': freq, 'need_shift': need_shift}\n",
    "bond_args = {'roll_rule': '-20b', 'freq': freq, 'need_shift': need_shift}\n",
    "precious_args = {'roll_rule': '-20b', 'freq': freq, 'need_shift': need_shift}\n",
    "\n",
    "df_list = []\n",
    "\n",
    "for idx, asset in enumerate(sim_products):\n",
    "    use_args = copy.copy(args)\n",
    "    if asset in eq_fut_mkts:\n",
    "        use_args = eq_args\n",
    "    elif asset in ['cu', 'al', 'zn', 'pb', 'sn']:\n",
    "        use_args = base_args\n",
    "    elif asset in ['ni']:\n",
    "        use_args = ni_args\n",
    "    elif asset in bond_fut_mkts:\n",
    "        use_args = bond_args\n",
    "    elif asset in precious_metal_mkts:\n",
    "        use_args = precious_args\n",
    "    use_args['start_date'] = max(backtest.sim_start_dict[asset], start_date)\n",
    "    use_args['end_date'] = end_date    \n",
    "    for idy, nb in enumerate([1, 2]):\n",
    "        use_args['n'] = nb\n",
    "        print(\"loading mkt = %s, nb = %s, args = %s\" % (asset, nb, use_args))\n",
    "        df = misc.nearby(asset, **use_args)\n",
    "        if freq == 'm':\n",
    "            df = misc.cleanup_mindata(df, asset)\n",
    "        if (idx == 0) and (idy == 0) and (freq == 'm'):\n",
    "            df_list.append(df[['date', 'min_id']])\n",
    "        xdf = df[field_list]\n",
    "        xdf['expiry'] = xdf['contract'].apply(lambda x: misc.contract_expiry(x, misc.CHN_Holidays))\n",
    "        xdf.columns = [(asset+str(nb), col) for col in xdf.columns]\n",
    "        df_list.append(xdf)\n",
    "all_df = pd.concat(df_list, axis = 1, sort = False).dropna()"
   ]
  },
  {
   "cell_type": "code",
   "execution_count": 10,
   "metadata": {},
   "outputs": [],
   "source": [
    "bar_freq = 's1'\n",
    "\n",
    "split_dict = {'s1': [300, 2100],\n",
    "             's2': [300, 1500, 2100],\n",
    "             's3': [300, 1500, 1930, 2100],\n",
    "             's4': [300, 1500, 1630, 1930, 2100],}\n",
    "\n",
    "xdf = all_df.copy()\n",
    "xdf = dh.day_split1(xdf, split_dict[bar_freq])"
   ]
  },
  {
   "cell_type": "code",
   "execution_count": 11,
   "metadata": {},
   "outputs": [
    {
     "name": "stdout",
     "output_type": "stream",
     "text": [
      "                           date  min_idx  min_id  (rb, open)  (rb, high)  \\\n",
      "datetime                                                                   \n",
      "2019-11-01 21:00:00  2019-11-01        1    2059      2996.0      3016.0   \n",
      "2019-11-04 21:00:00  2019-11-04        1    2059      3012.0      3022.0   \n",
      "2019-11-05 21:00:00  2019-11-05        1    2059      3018.0      3070.0   \n",
      "2019-11-06 21:00:00  2019-11-06        1    2059      3066.0      3102.0   \n",
      "2019-11-07 21:00:00  2019-11-07        1    2059      3078.0      3093.0   \n",
      "...                         ...      ...     ...         ...         ...   \n",
      "2020-05-29 21:00:00  2020-05-29        1    2059      3499.0      3579.0   \n",
      "2020-06-01 21:00:00  2020-06-01        1    2059      3579.0      3609.0   \n",
      "2020-06-02 21:00:00  2020-06-02        1    2059      3570.0      3648.0   \n",
      "2020-06-03 21:00:00  2020-06-03        1    2059      3640.0      3663.0   \n",
      "2020-06-04 21:00:00  2020-06-04        1    2059      3633.0      3679.0   \n",
      "\n",
      "                     (rb, low)  (rb, close)  (rb, volume)  (rb, openInterest)  \\\n",
      "datetime                                                                        \n",
      "2019-11-01 21:00:00     2979.0       3015.0     1374034.0           1561318.0   \n",
      "2019-11-04 21:00:00     2995.0       3016.0     1362359.0           1588384.0   \n",
      "2019-11-05 21:00:00     3004.0       3068.0     1739008.0           1666685.0   \n",
      "2019-11-06 21:00:00     3062.0       3077.0     1679356.0           1621919.0   \n",
      "2019-11-07 21:00:00     3051.0       3053.0     1768268.0           1600998.0   \n",
      "...                        ...          ...           ...                 ...   \n",
      "2020-05-29 21:00:00     3495.0       3579.0     1609156.0           1330278.0   \n",
      "2020-06-01 21:00:00     3557.0       3578.0     1786761.0           1267332.0   \n",
      "2020-06-02 21:00:00     3568.0       3636.0     1639403.0           1424246.0   \n",
      "2020-06-03 21:00:00     3622.0       3634.0     1617321.0           1405919.0   \n",
      "2020-06-04 21:00:00     3605.0       3606.0      307420.0           1383482.0   \n",
      "\n",
      "                    (rb, contract)  (rb, shift)  (hc, open)  (hc, high)  \\\n",
      "datetime                                                                  \n",
      "2019-11-01 21:00:00         rb2001       -365.0      3048.0      3057.0   \n",
      "2019-11-04 21:00:00         rb2001       -365.0      3056.0      3063.0   \n",
      "2019-11-05 21:00:00         rb2001       -365.0      3046.0      3087.0   \n",
      "2019-11-06 21:00:00         rb2001       -365.0      3090.0      3111.0   \n",
      "2019-11-07 21:00:00         rb2001       -365.0      3098.0      3101.0   \n",
      "...                            ...          ...         ...         ...   \n",
      "2020-05-29 21:00:00         rb2010          0.0      3455.0      3545.0   \n",
      "2020-06-01 21:00:00         rb2010          0.0      3540.0      3577.0   \n",
      "2020-06-02 21:00:00         rb2010          0.0      3547.0      3596.0   \n",
      "2020-06-03 21:00:00         rb2010          0.0      3570.0      3582.0   \n",
      "2020-06-04 21:00:00         rb2010          0.0      3524.0      3568.0   \n",
      "\n",
      "                     (hc, low)  (hc, close)  (hc, volume)  (hc, openInterest)  \\\n",
      "datetime                                                                        \n",
      "2019-11-01 21:00:00     3020.0       3057.0      187007.0            324403.0   \n",
      "2019-11-04 21:00:00     3030.0       3045.0      162416.0            330416.0   \n",
      "2019-11-05 21:00:00     3032.0       3084.0      205516.0            323386.0   \n",
      "2019-11-06 21:00:00     3084.0       3092.0      199973.0            326224.0   \n",
      "2019-11-07 21:00:00     3057.0       3063.0      188445.0            332656.0   \n",
      "...                        ...          ...           ...                 ...   \n",
      "2020-05-29 21:00:00     3448.0       3543.0      431373.0            498146.0   \n",
      "2020-06-01 21:00:00     3526.0       3549.0      493200.0            508108.0   \n",
      "2020-06-02 21:00:00     3538.0       3575.0      295478.0            508488.0   \n",
      "2020-06-03 21:00:00     3510.0       3524.0      415244.0            493129.0   \n",
      "2020-06-04 21:00:00     3486.0       3488.0      -60040.0            474362.0   \n",
      "\n",
      "                    (hc, contract)  (hc, shift)  \n",
      "datetime                                         \n",
      "2019-11-01 21:00:00         hc2001       -301.0  \n",
      "2019-11-04 21:00:00         hc2001       -301.0  \n",
      "2019-11-05 21:00:00         hc2001       -301.0  \n",
      "2019-11-06 21:00:00         hc2001       -301.0  \n",
      "2019-11-07 21:00:00         hc2001       -301.0  \n",
      "...                            ...          ...  \n",
      "2020-05-29 21:00:00         hc2010          0.0  \n",
      "2020-06-01 21:00:00         hc2010          0.0  \n",
      "2020-06-02 21:00:00         hc2010          0.0  \n",
      "2020-06-03 21:00:00         hc2010          0.0  \n",
      "2020-06-04 21:00:00         hc2010          0.0  \n",
      "\n",
      "[144 rows x 19 columns]\n"
     ]
    }
   ],
   "source": [
    "print(xdf)"
   ]
  },
  {
   "cell_type": "code",
   "execution_count": 20,
   "metadata": {},
   "outputs": [
    {
     "name": "stdout",
     "output_type": "stream",
     "text": [
      "        date1       date2  diff\n",
      "0  2020-05-01  2021-03-01  -304\n",
      "1  2020-05-01  2021-03-01  -304\n",
      "2  2020-05-01  2021-03-01  -304\n",
      "3  2020-05-01  2021-03-01  -304\n",
      "4  2020-05-01  2021-03-01  -304\n",
      "5  2020-05-01  2021-03-01  -304\n",
      "6  2020-05-01  2021-03-01  -304\n",
      "7  2020-05-01  2021-03-01  -304\n",
      "8  2020-05-01  2021-03-01  -304\n",
      "9  2020-05-01  2021-03-01  -304\n"
     ]
    }
   ],
   "source": [
    "df1 = pd.DataFrame(datetime.date(2020,5,1), index=range(10), columns = ['date1'])\n",
    "df1['date2'] = datetime.date(2021,3,1)\n",
    "df1['diff'] = df1.apply(lambda row: (row['date1']-row['date2']).days, axis=1)\n",
    "print(df1)"
   ]
  }
 ],
 "metadata": {
  "kernelspec": {
   "display_name": "Python 3",
   "language": "python",
   "name": "python3"
  },
  "language_info": {
   "codemirror_mode": {
    "name": "ipython",
    "version": 3
   },
   "file_extension": ".py",
   "mimetype": "text/x-python",
   "name": "python",
   "nbconvert_exporter": "python",
   "pygments_lexer": "ipython3",
   "version": "3.7.6"
  }
 },
 "nbformat": 4,
 "nbformat_minor": 4
}
