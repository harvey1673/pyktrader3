{
 "cells": [
  {
   "cell_type": "code",
   "execution_count": 2,
   "metadata": {},
   "outputs": [
    {
     "name": "stdout",
     "output_type": "stream",
     "text": [
      "99876\n"
     ]
    }
   ],
   "source": [
    "import warnings\n",
    "import sys\n",
    "import pandas as pd\n",
    "import numpy as np\n",
    "import matplotlib as mpl\n",
    "import matplotlib.dates as dates\n",
    "import matplotlib.pyplot as plt\n",
    "import datetime\n",
    "import itertools\n",
    "from sqlalchemy import create_engine\n",
    "sys.path.append(\"C:/dev/pycmqlib3/\")\n",
    "sys.path.append(\"C:/dev/pycmqlib3/misc_scripts/\")\n",
    "warnings.filterwarnings('ignore')\n",
    "import misc\n",
    "import data_handler as dh\n",
    "import backtest\n",
    "import dbaccess\n",
    "cnx = dbaccess.connect(**dbaccess.dbconfig)\n",
    "\n",
    "stmt = \"select * from hist_fut_daily where exch = 'CZCE' and date<'2015-01-01'\"\n",
    "df = pd.io.sql.read_sql(stmt, cnx)\n",
    "print(len(df))"
   ]
  },
  {
   "cell_type": "code",
   "execution_count": 3,
   "metadata": {},
   "outputs": [
    {
     "name": "stdout",
     "output_type": "stream",
     "text": [
      "99876     instID  exch        date     open     high      low    close   settle  \\\n",
      "0   CF1001  CZCE  2009-01-21  13000.0  13000.0  13000.0  13000.0  13000.0   \n",
      "1   CF1001  CZCE  2009-02-04  12715.0  13000.0  12715.0  12920.0  12910.0   \n",
      "2   CF1001  CZCE  2009-02-06  12950.0  12975.0  12905.0  12910.0  12935.0   \n",
      "3   CF1001  CZCE  2009-02-09  13000.0  13100.0  12975.0  13055.0  13025.0   \n",
      "4   CF1001  CZCE  2009-02-10  13090.0  13090.0  13090.0  13090.0  13090.0   \n",
      "5   CF1001  CZCE  2009-02-11  13040.0  13040.0  13035.0  13035.0  13040.0   \n",
      "6   CF1001  CZCE  2009-02-12  13000.0  13000.0  13000.0  13000.0  13000.0   \n",
      "7   CF1001  CZCE  2009-02-13  13100.0  13100.0  13000.0  13030.0  13020.0   \n",
      "8   CF1001  CZCE  2009-02-16  13025.0  13030.0  13025.0  13030.0  13025.0   \n",
      "9   CF1001  CZCE  2009-02-17  13050.0  13070.0  13025.0  13045.0  13040.0   \n",
      "10  CF1001  CZCE  2009-02-18  13030.0  13035.0  12940.0  13000.0  13010.0   \n",
      "11  CF1001  CZCE  2009-02-19  13020.0  13025.0  12800.0  12830.0  12915.0   \n",
      "12  CF1001  CZCE  2009-02-20  12900.0  12950.0  12800.0  12825.0  12875.0   \n",
      "13  CF1001  CZCE  2009-02-23  12820.0  12950.0  12820.0  12950.0  12905.0   \n",
      "14  CF1001  CZCE  2009-02-24  12950.0  12950.0  12870.0  12880.0  12920.0   \n",
      "15  CF1001  CZCE  2009-02-25  12865.0  12945.0  12865.0  12945.0  12905.0   \n",
      "16  CF1001  CZCE  2009-02-26  12890.0  12890.0  12890.0  12890.0  12890.0   \n",
      "17  CF1001  CZCE  2009-02-27  12865.0  12925.0  12840.0  12925.0  12870.0   \n",
      "18  CF1001  CZCE  2009-03-02  12895.0  12895.0  12825.0  12830.0  12840.0   \n",
      "19  CF1001  CZCE  2009-03-03  12880.0  12880.0  12800.0  12830.0  12830.0   \n",
      "20  CF1001  CZCE  2009-03-04  12830.0  12830.0  12790.0  12800.0  12805.0   \n",
      "21  CF1001  CZCE  2009-03-05  12810.0  12810.0  12760.0  12795.0  12795.0   \n",
      "22  CF1001  CZCE  2009-03-06  12790.0  12790.0  12730.0  12750.0  12760.0   \n",
      "23  CF1001  CZCE  2009-03-09  12720.0  12780.0  12720.0  12760.0  12745.0   \n",
      "24  CF1001  CZCE  2009-03-10  12785.0  12785.0  12710.0  12780.0  12755.0   \n",
      "25  CF1001  CZCE  2009-03-11  12970.0  12970.0  12770.0  12770.0  12795.0   \n",
      "26  CF1001  CZCE  2009-03-12  12755.0  12785.0  12745.0  12770.0  12765.0   \n",
      "27  CF1001  CZCE  2009-03-13  12940.0  12940.0  12760.0  12770.0  12785.0   \n",
      "28  CF1001  CZCE  2009-03-16  12820.0  12830.0  12790.0  12820.0  12820.0   \n",
      "29  CF1001  CZCE  2009-03-17  12885.0  12885.0  12805.0  12850.0  12840.0   \n",
      "\n",
      "    volume  openInterest  \n",
      "0        4             4  \n",
      "1       34            32  \n",
      "2       26            44  \n",
      "3       42            46  \n",
      "4        2            46  \n",
      "5        4            48  \n",
      "6       20            66  \n",
      "7       62           124  \n",
      "8        6           130  \n",
      "9       84           162  \n",
      "10      52           208  \n",
      "11      12           206  \n",
      "12      90           238  \n",
      "13      74           280  \n",
      "14      32           304  \n",
      "15      16           310  \n",
      "16       2           310  \n",
      "17      36           314  \n",
      "18      22           310  \n",
      "19      32           332  \n",
      "20     122           418  \n",
      "21      86           456  \n",
      "22      76           488  \n",
      "23      98           536  \n",
      "24      56           540  \n",
      "25      86           566  \n",
      "26      80           564  \n",
      "27      50           594  \n",
      "28     124           600  \n",
      "29      96           646  \n"
     ]
    }
   ],
   "source": [
    "df['symbol'] = df['instID']\n",
    "for i in range(5, 15):\n",
    "    flag = (df['instID'].str[2] == str(i % 10)) & (df['date']<=datetime.date(2000+i, 12, 31))\n",
    "    df.loc[flag, 'symbol'] = df.loc[flag, 'instID'].apply(lambda x: ''.join([x[:2], str(i//10), x[2:]]))\n",
    "\n",
    "df['instID'] = df['symbol']\n",
    "df.drop(columns = ['symbol'], inplace = True)\n",
    "print(len(df), df.head(30))"
   ]
  },
  {
   "cell_type": "code",
   "execution_count": 4,
   "metadata": {},
   "outputs": [],
   "source": [
    "cursor = cnx.cursor()\n",
    "stmt = \"delete from hist_fut_daily where exch = 'CZCE' and date<'2015-01-01'\"\n",
    "cursor.execute(stmt)\n",
    "#cnx.commit()"
   ]
  },
  {
   "cell_type": "code",
   "execution_count": 5,
   "metadata": {},
   "outputs": [],
   "source": [
    "conn = create_engine('mysql+mysqlconnector://{user}:{passwd}@{host}/{dbase}'.format( \\\n",
    "                    user = dbaccess.dbconfig['user'], \\\n",
    "                    passwd = dbaccess.dbconfig['password'],\\\n",
    "                    host = dbaccess.dbconfig['host'],\\\n",
    "                    dbase = dbaccess.dbconfig['database']), echo=False)\n"
   ]
  },
  {
   "cell_type": "code",
   "execution_count": 6,
   "metadata": {},
   "outputs": [],
   "source": [
    "df.to_sql('hist_fut_daily', con = conn, if_exists='append', index=False, method = dbaccess.mysql_replace_into)\n"
   ]
  },
  {
   "cell_type": "code",
   "execution_count": 10,
   "metadata": {},
   "outputs": [
    {
     "name": "stdout",
     "output_type": "stream",
     "text": [
      "25302\n"
     ]
    }
   ],
   "source": [
    "stmt = \"select * from hist_fut_daily where exch = 'DCE' and char_length(instID)=4\"\n",
    "df = pd.io.sql.read_sql(stmt, cnx)\n",
    "print(len(df))\n"
   ]
  },
  {
   "cell_type": "code",
   "execution_count": 12,
   "metadata": {},
   "outputs": [
    {
     "name": "stdout",
     "output_type": "stream",
     "text": [
      "   instID exch        date    open    high     low   close  settle  volume  \\\n",
      "0   a0701  DCE  2007-01-04  2672.0  2673.0  2606.0  2606.0  2660.0     669   \n",
      "1   a0701  DCE  2007-01-05  2660.0  2674.0  2615.0  2660.0  2651.0    1510   \n",
      "2   a0701  DCE  2007-01-08  2662.0  2670.0  2661.0  2665.0  2663.0     541   \n",
      "3   a0701  DCE  2007-01-09  2668.0  2668.0  2651.0  2651.0  2657.0      64   \n",
      "4   a0701  DCE  2007-01-10  2645.0  2675.0  2640.0  2675.0  2655.0     475   \n",
      "5   a0701  DCE  2007-01-11  2670.0  2700.0  2670.0  2680.0  2687.0     321   \n",
      "6   a0701  DCE  2007-01-12  2690.0  2690.0  2666.0  2675.0  2675.0     360   \n",
      "7   a0701  DCE  2007-01-15  2730.0  2780.0  2727.0  2780.0  2750.0     348   \n",
      "8   a0701  DCE  2007-01-16  2640.0  2710.0  2640.0  2699.0  2698.0    1319   \n",
      "9   a0701  DCE  2007-01-17  2660.0  2730.0  2660.0  2730.0  2676.0     323   \n",
      "10  a0703  DCE  2007-01-04  2746.0  2746.0  2695.0  2696.0  2713.0      55   \n",
      "11  a0703  DCE  2007-01-05  2704.0  2704.0  2704.0  2704.0  2704.0       2   \n",
      "12  a0703  DCE  2007-01-08  2714.0  2714.0  2710.0  2710.0  2711.0       3   \n",
      "13  a0703  DCE  2007-01-11  2699.0  2711.0  2699.0  2709.0  2707.0       6   \n",
      "14  a0703  DCE  2007-01-12  2697.0  2697.0  2697.0  2697.0  2697.0       1   \n",
      "15  a0703  DCE  2007-01-15  2804.0  2804.0  2775.0  2804.0  2798.0      18   \n",
      "16  a0703  DCE  2007-01-16  2774.0  2801.0  2763.0  2790.0  2789.0     129   \n",
      "17  a0703  DCE  2007-01-17  2793.0  2806.0  2793.0  2800.0  2799.0      45   \n",
      "18  a0703  DCE  2007-01-18  2820.0  2820.0  2803.0  2811.0  2814.0      20   \n",
      "19  a0703  DCE  2007-01-19  2775.0  2809.0  2773.0  2797.0  2797.0     150   \n",
      "\n",
      "    openInterest  \n",
      "0          23003  \n",
      "1          22862  \n",
      "2          22764  \n",
      "3          22764  \n",
      "4          22859  \n",
      "5          22929  \n",
      "6          22929  \n",
      "7          23082  \n",
      "8          22148  \n",
      "9          22174  \n",
      "10           139  \n",
      "11           139  \n",
      "12           139  \n",
      "13           140  \n",
      "14           139  \n",
      "15           140  \n",
      "16           189  \n",
      "17           187  \n",
      "18           193  \n",
      "19           247  \n"
     ]
    }
   ],
   "source": [
    "df['instID'] = df['instID'].apply(lambda x: ''.join([x[:1], '0', x[1:]]))\n",
    "print(df.head(20))"
   ]
  },
  {
   "cell_type": "code",
   "execution_count": 13,
   "metadata": {},
   "outputs": [],
   "source": [
    "cursor = cnx.cursor()\n",
    "stmt = \"delete from hist_fut_daily where exch = 'DCE' and char_length(instID)=4\"\n",
    "cursor.execute(stmt)\n",
    "#cnx.commit()"
   ]
  },
  {
   "cell_type": "code",
   "execution_count": 14,
   "metadata": {},
   "outputs": [],
   "source": [
    "df.to_sql('hist_fut_daily', con = conn, if_exists='append', index=False, method = dbaccess.mysql_replace_into)"
   ]
  }
 ],
 "metadata": {
  "kernelspec": {
   "display_name": "Python 3",
   "language": "python",
   "name": "python3"
  },
  "language_info": {
   "codemirror_mode": {
    "name": "ipython",
    "version": 3
   },
   "file_extension": ".py",
   "mimetype": "text/x-python",
   "name": "python",
   "nbconvert_exporter": "python",
   "pygments_lexer": "ipython3",
   "version": "3.8.3"
  }
 },
 "nbformat": 4,
 "nbformat_minor": 4
}
