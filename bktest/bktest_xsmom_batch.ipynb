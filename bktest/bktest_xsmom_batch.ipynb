{
 "cells": [
  {
   "cell_type": "code",
   "execution_count": 1,
   "metadata": {},
   "outputs": [],
   "source": [
    "import sys\n",
    "import pandas as pd\n",
    "import numpy as np\n",
    "import matplotlib as mpl\n",
    "import matplotlib.dates as dates\n",
    "import matplotlib.pyplot as plt\n",
    "import datetime\n",
    "sys.path.append(\"C:/dev/pyktrader3/\")\n",
    "from pycmqlib3.utility import misc\n",
    "from bktest import backtest\n",
    "import pycmqlib3.analytics.data_handler as dh"
   ]
  },
  {
   "cell_type": "code",
   "execution_count": 2,
   "metadata": {},
   "outputs": [],
   "source": [
    "ferrous_products_mkts = ['rb', 'hc', 'i', 'j', 'jm']\n",
    "ferrous_mixed_mkts = ['ru', 'FG', 'ZC', 'SM', \"SF\"]\n",
    "base_metal_mkts = ['cu', 'al', 'zn', 'pb', 'ni', 'sn']\n",
    "precious_metal_mkts = ['au', 'ag']\n",
    "ind_metal_mkts = ferrous_products_mkts + ferrous_mixed_mkts + base_metal_mkts  \n",
    "petro_chem_mkts = ['l', 'pp', 'v', 'TA', 'MA', 'bu'] #, 'sc', 'fu', 'eg']\n",
    "ind_all_mkts = ind_metal_mkts + petro_chem_mkts\n",
    "ags_oil_mkts = ['m', 'RM', 'y', 'p', 'OI', 'a', 'c', 'cs'] #, 'b']\n",
    "ags_soft_mkts = ['CF', 'SR', 'jd']#, 'AP', 'sp']\n",
    "ags_all_mkts = ags_oil_mkts + ags_soft_mkts\n",
    "eq_fut_mkts = ['IF', 'IH', 'IC']\n",
    "bond_fut_mkts = ['T', 'TF']\n",
    "fin_all_mkts = eq_fut_mkts + bond_fut_mkts\n",
    "commod_all_mkts = ind_all_mkts + ags_all_mkts + precious_metal_mkts\n",
    "all_markets = commod_all_mkts + fin_all_mkts\n"
   ]
  },
  {
   "cell_type": "code",
   "execution_count": 3,
   "metadata": {},
   "outputs": [
    {
     "name": "stdout",
     "output_type": "stream",
     "text": [
      "loading mkt = cu, args = {'n': 1, 'roll_rule': '-30b', 'freq': 'm', 'need_shift': 1, 'start_date': datetime.date(2014, 11, 1), 'end_date': datetime.date(2021, 3, 19)}\n"
     ]
    },
    {
     "name": "stderr",
     "output_type": "stream",
     "text": [
      "C:\\Anaconda3\\lib\\site-packages\\pandas\\core\\indexing.py:1745: SettingWithCopyWarning: \n",
      "A value is trying to be set on a copy of a slice from a DataFrame.\n",
      "Try using .loc[row_indexer,col_indexer] = value instead\n",
      "\n",
      "See the caveats in the documentation: https://pandas.pydata.org/pandas-docs/stable/user_guide/indexing.html#returning-a-view-versus-a-copy\n",
      "  isetter(ilocs[0], value)\n"
     ]
    },
    {
     "name": "stdout",
     "output_type": "stream",
     "text": [
      "loading mkt = al, args = {'n': 1, 'roll_rule': '-30b', 'freq': 'm', 'need_shift': 1, 'start_date': datetime.date(2014, 11, 1), 'end_date': datetime.date(2021, 3, 19)}\n"
     ]
    },
    {
     "name": "stderr",
     "output_type": "stream",
     "text": [
      "C:\\Anaconda3\\lib\\site-packages\\pandas\\core\\indexing.py:1745: SettingWithCopyWarning: \n",
      "A value is trying to be set on a copy of a slice from a DataFrame.\n",
      "Try using .loc[row_indexer,col_indexer] = value instead\n",
      "\n",
      "See the caveats in the documentation: https://pandas.pydata.org/pandas-docs/stable/user_guide/indexing.html#returning-a-view-versus-a-copy\n",
      "  isetter(ilocs[0], value)\n"
     ]
    },
    {
     "name": "stdout",
     "output_type": "stream",
     "text": [
      "loading mkt = zn, args = {'n': 1, 'roll_rule': '-30b', 'freq': 'm', 'need_shift': 1, 'start_date': datetime.date(2014, 11, 1), 'end_date': datetime.date(2021, 3, 19)}\n"
     ]
    },
    {
     "name": "stderr",
     "output_type": "stream",
     "text": [
      "C:\\Anaconda3\\lib\\site-packages\\pandas\\core\\indexing.py:1745: SettingWithCopyWarning: \n",
      "A value is trying to be set on a copy of a slice from a DataFrame.\n",
      "Try using .loc[row_indexer,col_indexer] = value instead\n",
      "\n",
      "See the caveats in the documentation: https://pandas.pydata.org/pandas-docs/stable/user_guide/indexing.html#returning-a-view-versus-a-copy\n",
      "  isetter(ilocs[0], value)\n"
     ]
    },
    {
     "name": "stdout",
     "output_type": "stream",
     "text": [
      "loading mkt = pb, args = {'n': 1, 'roll_rule': '-30b', 'freq': 'm', 'need_shift': 1, 'start_date': datetime.date(2014, 11, 1), 'end_date': datetime.date(2021, 3, 19)}\n"
     ]
    },
    {
     "name": "stderr",
     "output_type": "stream",
     "text": [
      "C:\\Anaconda3\\lib\\site-packages\\pandas\\core\\indexing.py:1745: SettingWithCopyWarning: \n",
      "A value is trying to be set on a copy of a slice from a DataFrame.\n",
      "Try using .loc[row_indexer,col_indexer] = value instead\n",
      "\n",
      "See the caveats in the documentation: https://pandas.pydata.org/pandas-docs/stable/user_guide/indexing.html#returning-a-view-versus-a-copy\n",
      "  isetter(ilocs[0], value)\n"
     ]
    },
    {
     "name": "stdout",
     "output_type": "stream",
     "text": [
      "loading mkt = ni, args = {'n': 1, 'roll_rule': '-40b', 'freq': 'm', 'need_shift': 1, 'start_date': datetime.date(2015, 6, 1), 'end_date': datetime.date(2021, 3, 19)}\n"
     ]
    },
    {
     "name": "stderr",
     "output_type": "stream",
     "text": [
      "C:\\Anaconda3\\lib\\site-packages\\pandas\\core\\indexing.py:1745: SettingWithCopyWarning: \n",
      "A value is trying to be set on a copy of a slice from a DataFrame.\n",
      "Try using .loc[row_indexer,col_indexer] = value instead\n",
      "\n",
      "See the caveats in the documentation: https://pandas.pydata.org/pandas-docs/stable/user_guide/indexing.html#returning-a-view-versus-a-copy\n",
      "  isetter(ilocs[0], value)\n"
     ]
    },
    {
     "name": "stdout",
     "output_type": "stream",
     "text": [
      "loading mkt = sn, args = {'n': 1, 'roll_rule': '-30b', 'freq': 'm', 'need_shift': 1, 'start_date': datetime.date(2015, 6, 1), 'end_date': datetime.date(2021, 3, 19)}\n"
     ]
    },
    {
     "name": "stderr",
     "output_type": "stream",
     "text": [
      "C:\\Anaconda3\\lib\\site-packages\\pandas\\core\\indexing.py:1745: SettingWithCopyWarning: \n",
      "A value is trying to be set on a copy of a slice from a DataFrame.\n",
      "Try using .loc[row_indexer,col_indexer] = value instead\n",
      "\n",
      "See the caveats in the documentation: https://pandas.pydata.org/pandas-docs/stable/user_guide/indexing.html#returning-a-view-versus-a-copy\n",
      "  isetter(ilocs[0], value)\n"
     ]
    },
    {
     "name": "stdout",
     "output_type": "stream",
     "text": [
      "loading mkt = rb, args = {'n': 1, 'roll_rule': '-35b', 'freq': 'm', 'need_shift': 1, 'start_date': datetime.date(2014, 11, 1), 'end_date': datetime.date(2021, 3, 19)}\n"
     ]
    },
    {
     "name": "stderr",
     "output_type": "stream",
     "text": [
      "C:\\Anaconda3\\lib\\site-packages\\pandas\\core\\indexing.py:1745: SettingWithCopyWarning: \n",
      "A value is trying to be set on a copy of a slice from a DataFrame.\n",
      "Try using .loc[row_indexer,col_indexer] = value instead\n",
      "\n",
      "See the caveats in the documentation: https://pandas.pydata.org/pandas-docs/stable/user_guide/indexing.html#returning-a-view-versus-a-copy\n",
      "  isetter(ilocs[0], value)\n"
     ]
    },
    {
     "name": "stdout",
     "output_type": "stream",
     "text": [
      "loading mkt = hc, args = {'n': 1, 'roll_rule': '-35b', 'freq': 'm', 'need_shift': 1, 'start_date': datetime.date(2014, 11, 1), 'end_date': datetime.date(2021, 3, 19)}\n"
     ]
    },
    {
     "name": "stderr",
     "output_type": "stream",
     "text": [
      "C:\\Anaconda3\\lib\\site-packages\\pandas\\core\\indexing.py:1745: SettingWithCopyWarning: \n",
      "A value is trying to be set on a copy of a slice from a DataFrame.\n",
      "Try using .loc[row_indexer,col_indexer] = value instead\n",
      "\n",
      "See the caveats in the documentation: https://pandas.pydata.org/pandas-docs/stable/user_guide/indexing.html#returning-a-view-versus-a-copy\n",
      "  isetter(ilocs[0], value)\n"
     ]
    },
    {
     "name": "stdout",
     "output_type": "stream",
     "text": [
      "loading mkt = i, args = {'n': 1, 'roll_rule': '-35b', 'freq': 'm', 'need_shift': 1, 'start_date': datetime.date(2014, 11, 1), 'end_date': datetime.date(2021, 3, 19)}\n"
     ]
    },
    {
     "name": "stderr",
     "output_type": "stream",
     "text": [
      "C:\\Anaconda3\\lib\\site-packages\\pandas\\core\\indexing.py:1745: SettingWithCopyWarning: \n",
      "A value is trying to be set on a copy of a slice from a DataFrame.\n",
      "Try using .loc[row_indexer,col_indexer] = value instead\n",
      "\n",
      "See the caveats in the documentation: https://pandas.pydata.org/pandas-docs/stable/user_guide/indexing.html#returning-a-view-versus-a-copy\n",
      "  isetter(ilocs[0], value)\n"
     ]
    },
    {
     "name": "stdout",
     "output_type": "stream",
     "text": [
      "loading mkt = j, args = {'n': 1, 'roll_rule': '-35b', 'freq': 'm', 'need_shift': 1, 'start_date': datetime.date(2014, 11, 1), 'end_date': datetime.date(2021, 3, 19)}\n"
     ]
    },
    {
     "name": "stderr",
     "output_type": "stream",
     "text": [
      "C:\\Anaconda3\\lib\\site-packages\\pandas\\core\\indexing.py:1745: SettingWithCopyWarning: \n",
      "A value is trying to be set on a copy of a slice from a DataFrame.\n",
      "Try using .loc[row_indexer,col_indexer] = value instead\n",
      "\n",
      "See the caveats in the documentation: https://pandas.pydata.org/pandas-docs/stable/user_guide/indexing.html#returning-a-view-versus-a-copy\n",
      "  isetter(ilocs[0], value)\n"
     ]
    },
    {
     "name": "stdout",
     "output_type": "stream",
     "text": [
      "loading mkt = jm, args = {'n': 1, 'roll_rule': '-35b', 'freq': 'm', 'need_shift': 1, 'start_date': datetime.date(2014, 11, 1), 'end_date': datetime.date(2021, 3, 19)}\n"
     ]
    },
    {
     "name": "stderr",
     "output_type": "stream",
     "text": [
      "C:\\Anaconda3\\lib\\site-packages\\pandas\\core\\indexing.py:1745: SettingWithCopyWarning: \n",
      "A value is trying to be set on a copy of a slice from a DataFrame.\n",
      "Try using .loc[row_indexer,col_indexer] = value instead\n",
      "\n",
      "See the caveats in the documentation: https://pandas.pydata.org/pandas-docs/stable/user_guide/indexing.html#returning-a-view-versus-a-copy\n",
      "  isetter(ilocs[0], value)\n"
     ]
    },
    {
     "name": "stdout",
     "output_type": "stream",
     "text": [
      "loading mkt = ru, args = {'n': 1, 'roll_rule': '-35b', 'freq': 'm', 'need_shift': 1, 'start_date': datetime.date(2014, 11, 1), 'end_date': datetime.date(2021, 3, 19)}\n"
     ]
    },
    {
     "name": "stderr",
     "output_type": "stream",
     "text": [
      "C:\\Anaconda3\\lib\\site-packages\\pandas\\core\\indexing.py:1745: SettingWithCopyWarning: \n",
      "A value is trying to be set on a copy of a slice from a DataFrame.\n",
      "Try using .loc[row_indexer,col_indexer] = value instead\n",
      "\n",
      "See the caveats in the documentation: https://pandas.pydata.org/pandas-docs/stable/user_guide/indexing.html#returning-a-view-versus-a-copy\n",
      "  isetter(ilocs[0], value)\n"
     ]
    },
    {
     "name": "stdout",
     "output_type": "stream",
     "text": [
      "loading mkt = ZC, args = {'n': 1, 'roll_rule': '-35b', 'freq': 'm', 'need_shift': 1, 'start_date': datetime.date(2015, 12, 1), 'end_date': datetime.date(2021, 3, 19)}\n"
     ]
    },
    {
     "name": "stderr",
     "output_type": "stream",
     "text": [
      "C:\\Anaconda3\\lib\\site-packages\\pandas\\core\\indexing.py:1745: SettingWithCopyWarning: \n",
      "A value is trying to be set on a copy of a slice from a DataFrame.\n",
      "Try using .loc[row_indexer,col_indexer] = value instead\n",
      "\n",
      "See the caveats in the documentation: https://pandas.pydata.org/pandas-docs/stable/user_guide/indexing.html#returning-a-view-versus-a-copy\n",
      "  isetter(ilocs[0], value)\n"
     ]
    },
    {
     "name": "stdout",
     "output_type": "stream",
     "text": [
      "loading mkt = FG, args = {'n': 1, 'roll_rule': '-35b', 'freq': 'm', 'need_shift': 1, 'start_date': datetime.date(2014, 11, 1), 'end_date': datetime.date(2021, 3, 19)}\n"
     ]
    },
    {
     "name": "stderr",
     "output_type": "stream",
     "text": [
      "C:\\Anaconda3\\lib\\site-packages\\pandas\\core\\indexing.py:1745: SettingWithCopyWarning: \n",
      "A value is trying to be set on a copy of a slice from a DataFrame.\n",
      "Try using .loc[row_indexer,col_indexer] = value instead\n",
      "\n",
      "See the caveats in the documentation: https://pandas.pydata.org/pandas-docs/stable/user_guide/indexing.html#returning-a-view-versus-a-copy\n",
      "  isetter(ilocs[0], value)\n"
     ]
    },
    {
     "name": "stdout",
     "output_type": "stream",
     "text": [
      "loading mkt = l, args = {'n': 1, 'roll_rule': '-35b', 'freq': 'm', 'need_shift': 1, 'start_date': datetime.date(2014, 11, 1), 'end_date': datetime.date(2021, 3, 19)}\n"
     ]
    },
    {
     "name": "stderr",
     "output_type": "stream",
     "text": [
      "C:\\Anaconda3\\lib\\site-packages\\pandas\\core\\indexing.py:1745: SettingWithCopyWarning: \n",
      "A value is trying to be set on a copy of a slice from a DataFrame.\n",
      "Try using .loc[row_indexer,col_indexer] = value instead\n",
      "\n",
      "See the caveats in the documentation: https://pandas.pydata.org/pandas-docs/stable/user_guide/indexing.html#returning-a-view-versus-a-copy\n",
      "  isetter(ilocs[0], value)\n"
     ]
    },
    {
     "name": "stdout",
     "output_type": "stream",
     "text": [
      "loading mkt = pp, args = {'n': 1, 'roll_rule': '-35b', 'freq': 'm', 'need_shift': 1, 'start_date': datetime.date(2014, 11, 1), 'end_date': datetime.date(2021, 3, 19)}\n"
     ]
    },
    {
     "name": "stderr",
     "output_type": "stream",
     "text": [
      "C:\\Anaconda3\\lib\\site-packages\\pandas\\core\\indexing.py:1745: SettingWithCopyWarning: \n",
      "A value is trying to be set on a copy of a slice from a DataFrame.\n",
      "Try using .loc[row_indexer,col_indexer] = value instead\n",
      "\n",
      "See the caveats in the documentation: https://pandas.pydata.org/pandas-docs/stable/user_guide/indexing.html#returning-a-view-versus-a-copy\n",
      "  isetter(ilocs[0], value)\n"
     ]
    },
    {
     "name": "stdout",
     "output_type": "stream",
     "text": [
      "loading mkt = v, args = {'n': 1, 'roll_rule': '-35b', 'freq': 'm', 'need_shift': 1, 'start_date': datetime.date(2014, 11, 1), 'end_date': datetime.date(2021, 3, 19)}\n"
     ]
    },
    {
     "name": "stderr",
     "output_type": "stream",
     "text": [
      "C:\\Anaconda3\\lib\\site-packages\\pandas\\core\\indexing.py:1745: SettingWithCopyWarning: \n",
      "A value is trying to be set on a copy of a slice from a DataFrame.\n",
      "Try using .loc[row_indexer,col_indexer] = value instead\n",
      "\n",
      "See the caveats in the documentation: https://pandas.pydata.org/pandas-docs/stable/user_guide/indexing.html#returning-a-view-versus-a-copy\n",
      "  isetter(ilocs[0], value)\n"
     ]
    },
    {
     "name": "stdout",
     "output_type": "stream",
     "text": [
      "loading mkt = TA, args = {'n': 1, 'roll_rule': '-35b', 'freq': 'm', 'need_shift': 1, 'start_date': datetime.date(2014, 11, 1), 'end_date': datetime.date(2021, 3, 19)}\n"
     ]
    },
    {
     "name": "stderr",
     "output_type": "stream",
     "text": [
      "C:\\Anaconda3\\lib\\site-packages\\pandas\\core\\indexing.py:1745: SettingWithCopyWarning: \n",
      "A value is trying to be set on a copy of a slice from a DataFrame.\n",
      "Try using .loc[row_indexer,col_indexer] = value instead\n",
      "\n",
      "See the caveats in the documentation: https://pandas.pydata.org/pandas-docs/stable/user_guide/indexing.html#returning-a-view-versus-a-copy\n",
      "  isetter(ilocs[0], value)\n"
     ]
    },
    {
     "name": "stdout",
     "output_type": "stream",
     "text": [
      "loading mkt = MA, args = {'n': 1, 'roll_rule': '-35b', 'freq': 'm', 'need_shift': 1, 'start_date': datetime.date(2015, 7, 1), 'end_date': datetime.date(2021, 3, 19)}\n"
     ]
    },
    {
     "name": "stderr",
     "output_type": "stream",
     "text": [
      "C:\\Anaconda3\\lib\\site-packages\\pandas\\core\\indexing.py:1745: SettingWithCopyWarning: \n",
      "A value is trying to be set on a copy of a slice from a DataFrame.\n",
      "Try using .loc[row_indexer,col_indexer] = value instead\n",
      "\n",
      "See the caveats in the documentation: https://pandas.pydata.org/pandas-docs/stable/user_guide/indexing.html#returning-a-view-versus-a-copy\n",
      "  isetter(ilocs[0], value)\n"
     ]
    },
    {
     "name": "stdout",
     "output_type": "stream",
     "text": [
      "loading mkt = m, args = {'n': 1, 'roll_rule': '-35b', 'freq': 'm', 'need_shift': 1, 'start_date': datetime.date(2014, 11, 1), 'end_date': datetime.date(2021, 3, 19)}\n"
     ]
    },
    {
     "name": "stderr",
     "output_type": "stream",
     "text": [
      "C:\\Anaconda3\\lib\\site-packages\\pandas\\core\\indexing.py:1745: SettingWithCopyWarning: \n",
      "A value is trying to be set on a copy of a slice from a DataFrame.\n",
      "Try using .loc[row_indexer,col_indexer] = value instead\n",
      "\n",
      "See the caveats in the documentation: https://pandas.pydata.org/pandas-docs/stable/user_guide/indexing.html#returning-a-view-versus-a-copy\n",
      "  isetter(ilocs[0], value)\n"
     ]
    },
    {
     "name": "stdout",
     "output_type": "stream",
     "text": [
      "loading mkt = RM, args = {'n': 1, 'roll_rule': '-35b', 'freq': 'm', 'need_shift': 1, 'start_date': datetime.date(2014, 11, 1), 'end_date': datetime.date(2021, 3, 19)}\n"
     ]
    },
    {
     "name": "stderr",
     "output_type": "stream",
     "text": [
      "C:\\Anaconda3\\lib\\site-packages\\pandas\\core\\indexing.py:1745: SettingWithCopyWarning: \n",
      "A value is trying to be set on a copy of a slice from a DataFrame.\n",
      "Try using .loc[row_indexer,col_indexer] = value instead\n",
      "\n",
      "See the caveats in the documentation: https://pandas.pydata.org/pandas-docs/stable/user_guide/indexing.html#returning-a-view-versus-a-copy\n",
      "  isetter(ilocs[0], value)\n"
     ]
    },
    {
     "name": "stdout",
     "output_type": "stream",
     "text": [
      "loading mkt = y, args = {'n': 1, 'roll_rule': '-35b', 'freq': 'm', 'need_shift': 1, 'start_date': datetime.date(2014, 11, 1), 'end_date': datetime.date(2021, 3, 19)}\n"
     ]
    },
    {
     "name": "stderr",
     "output_type": "stream",
     "text": [
      "C:\\Anaconda3\\lib\\site-packages\\pandas\\core\\indexing.py:1745: SettingWithCopyWarning: \n",
      "A value is trying to be set on a copy of a slice from a DataFrame.\n",
      "Try using .loc[row_indexer,col_indexer] = value instead\n",
      "\n",
      "See the caveats in the documentation: https://pandas.pydata.org/pandas-docs/stable/user_guide/indexing.html#returning-a-view-versus-a-copy\n",
      "  isetter(ilocs[0], value)\n"
     ]
    },
    {
     "name": "stdout",
     "output_type": "stream",
     "text": [
      "loading mkt = p, args = {'n': 1, 'roll_rule': '-35b', 'freq': 'm', 'need_shift': 1, 'start_date': datetime.date(2014, 11, 1), 'end_date': datetime.date(2021, 3, 19)}\n"
     ]
    },
    {
     "name": "stderr",
     "output_type": "stream",
     "text": [
      "C:\\Anaconda3\\lib\\site-packages\\pandas\\core\\indexing.py:1745: SettingWithCopyWarning: \n",
      "A value is trying to be set on a copy of a slice from a DataFrame.\n",
      "Try using .loc[row_indexer,col_indexer] = value instead\n",
      "\n",
      "See the caveats in the documentation: https://pandas.pydata.org/pandas-docs/stable/user_guide/indexing.html#returning-a-view-versus-a-copy\n",
      "  isetter(ilocs[0], value)\n"
     ]
    },
    {
     "name": "stdout",
     "output_type": "stream",
     "text": [
      "loading mkt = OI, args = {'n': 1, 'roll_rule': '-35b', 'freq': 'm', 'need_shift': 1, 'start_date': datetime.date(2014, 11, 1), 'end_date': datetime.date(2021, 3, 19)}\n"
     ]
    },
    {
     "name": "stderr",
     "output_type": "stream",
     "text": [
      "C:\\Anaconda3\\lib\\site-packages\\pandas\\core\\indexing.py:1745: SettingWithCopyWarning: \n",
      "A value is trying to be set on a copy of a slice from a DataFrame.\n",
      "Try using .loc[row_indexer,col_indexer] = value instead\n",
      "\n",
      "See the caveats in the documentation: https://pandas.pydata.org/pandas-docs/stable/user_guide/indexing.html#returning-a-view-versus-a-copy\n",
      "  isetter(ilocs[0], value)\n"
     ]
    },
    {
     "name": "stdout",
     "output_type": "stream",
     "text": [
      "loading mkt = a, args = {'n': 1, 'roll_rule': '-35b', 'freq': 'm', 'need_shift': 1, 'start_date': datetime.date(2014, 11, 1), 'end_date': datetime.date(2021, 3, 19)}\n"
     ]
    },
    {
     "name": "stderr",
     "output_type": "stream",
     "text": [
      "C:\\Anaconda3\\lib\\site-packages\\pandas\\core\\indexing.py:1745: SettingWithCopyWarning: \n",
      "A value is trying to be set on a copy of a slice from a DataFrame.\n",
      "Try using .loc[row_indexer,col_indexer] = value instead\n",
      "\n",
      "See the caveats in the documentation: https://pandas.pydata.org/pandas-docs/stable/user_guide/indexing.html#returning-a-view-versus-a-copy\n",
      "  isetter(ilocs[0], value)\n"
     ]
    },
    {
     "name": "stdout",
     "output_type": "stream",
     "text": [
      "             date  min_id            datetime  (cu, open)  (cu, high)  \\\n",
      "0      2014-11-03    1500 2014-11-03 09:00:00     48040.0     48040.0   \n",
      "1      2014-11-03    1501 2014-11-03 09:01:00     48000.0     48050.0   \n",
      "2      2014-11-03    1502 2014-11-03 09:02:00     48020.0     48130.0   \n",
      "3      2014-11-03    1503 2014-11-03 09:03:00     48120.0     48150.0   \n",
      "4      2014-11-03    1504 2014-11-03 09:04:00     48110.0     48120.0   \n",
      "...           ...     ...                 ...         ...         ...   \n",
      "697738 2021-03-19    2055 2021-03-19 14:55:00     66040.0     66050.0   \n",
      "697739 2021-03-19    2056 2021-03-19 14:56:00     66000.0     66030.0   \n",
      "697740 2021-03-19    2057 2021-03-19 14:57:00     66020.0     66050.0   \n",
      "697741 2021-03-19    2058 2021-03-19 14:58:00     66020.0     66050.0   \n",
      "697742 2021-03-19    2059 2021-03-19 14:59:00     66010.0     66040.0   \n",
      "\n",
      "        (cu, low)  (cu, close)  (cu, volume)  (cu, openInterest)  \\\n",
      "0         47970.0      48000.0       19325.0             63028.0   \n",
      "1         48000.0      48020.0         183.0             62994.0   \n",
      "2         48010.0      48120.0         166.0             63013.0   \n",
      "3         48090.0      48110.0         161.0             62992.0   \n",
      "4         48090.0      48100.0         171.0             62935.0   \n",
      "...           ...          ...           ...                 ...   \n",
      "697738    65990.0      66000.0        1141.0            148175.0   \n",
      "697739    65990.0      66020.0         301.0            148185.0   \n",
      "697740    66000.0      66020.0         477.0            148170.0   \n",
      "697741    66000.0      66020.0         606.0            148084.0   \n",
      "697742    66000.0      66020.0         670.0            148049.0   \n",
      "\n",
      "       (cu, contract)  ...  (OI, contract)  (OI, shift)  (a, open)  (a, high)  \\\n",
      "0              cu1412  ...           OI501        324.0     4886.0     4892.0   \n",
      "1              cu1412  ...           OI501        324.0     4882.0     4883.0   \n",
      "2              cu1412  ...           OI501        324.0     4872.0     4875.0   \n",
      "3              cu1412  ...           OI501        324.0     4869.0     4874.0   \n",
      "4              cu1412  ...           OI501        324.0     4873.0     4878.0   \n",
      "...               ...  ...             ...          ...        ...        ...   \n",
      "697738         cu2105  ...           OI105          0.0     5681.0     5690.0   \n",
      "697739         cu2105  ...           OI105          0.0     5684.0     5696.0   \n",
      "697740         cu2105  ...           OI105          0.0     5695.0     5697.0   \n",
      "697741         cu2105  ...           OI105          0.0     5693.0     5693.0   \n",
      "697742         cu2105  ...           OI105          0.0     5690.0     5690.0   \n",
      "\n",
      "        (a, low)  (a, close)  (a, volume) (a, openInterest)  (a, contract)  \\\n",
      "0         4881.0      4882.0       2880.0          181565.0          a1501   \n",
      "1         4871.0      4872.0       1968.0          181143.0          a1501   \n",
      "2         4869.0      4869.0       1759.0          180849.0          a1501   \n",
      "3         4868.0      4872.0       1073.0          180806.0          a1501   \n",
      "4         4871.0      4878.0       1047.0          180542.0          a1501   \n",
      "...          ...         ...          ...               ...            ...   \n",
      "697738    5681.0      5685.0        610.0           89901.0          a2105   \n",
      "697739    5684.0      5695.0        852.0           89841.0          a2105   \n",
      "697740    5690.0      5692.0        856.0           89688.0          a2105   \n",
      "697741    5690.0      5690.0        317.0           89599.0          a2105   \n",
      "697742    5677.0      5683.0        609.0           89533.0          a2105   \n",
      "\n",
      "        (a, shift)  \n",
      "0            286.0  \n",
      "1            286.0  \n",
      "2            286.0  \n",
      "3            286.0  \n",
      "4            286.0  \n",
      "...            ...  \n",
      "697738         0.0  \n",
      "697739         0.0  \n",
      "697740         0.0  \n",
      "697741         0.0  \n",
      "697742         0.0  \n",
      "\n",
      "[697743 rows x 203 columns]\n"
     ]
    }
   ],
   "source": [
    "field_list = ['open', 'high', 'low', 'close', 'volume', 'openInterest', 'contract', 'shift']\n",
    "\n",
    "start_date = datetime.date(2014,11,1)\n",
    "end_date = datetime.date(2021,3,19)\n",
    "\n",
    "sim_products = ['cu', 'al', 'zn', 'pb', 'ni', 'sn', \\\n",
    "                'rb', 'hc', 'i', 'j', 'jm', 'ru', 'ZC', 'FG',\\\n",
    "                'l', 'pp', 'v', 'TA', 'MA',\\\n",
    "                'm', 'RM', 'y', 'p', 'OI', 'a'\\\n",
    "                ] # \n",
    "need_shift = 1\n",
    "freq = 'm'\n",
    "\n",
    "args = {'n': 1, 'roll_rule': '-35b', 'freq': freq, 'need_shift': need_shift}\n",
    "ferrous_products_args = args\n",
    "ferro_mixed_mkt_args = args\n",
    "base_args = {'n': 1, 'roll_rule': '-30b', 'freq': freq, 'need_shift': need_shift}\n",
    "ni_args = {'n': 1, 'roll_rule': '-40b', 'freq': freq, 'need_shift': need_shift}\n",
    "eq_args = {'n': 1, 'roll_rule': '-1b', 'freq': freq, 'need_shift': need_shift}\n",
    "bond_args = {'n': 1, 'roll_rule': '-20b', 'freq': freq, 'need_shift': need_shift}\n",
    "precious_args = {'n': 1, 'roll_rule': '-25b', 'freq': freq, 'need_shift': need_shift}\n",
    "\n",
    "df_list = []\n",
    "for idx, asset in enumerate(sim_products):\n",
    "    use_args = args\n",
    "    if asset in eq_fut_mkts:\n",
    "        use_args = eq_args\n",
    "    elif asset in ['cu', 'al', 'zn', 'pb', 'sn']:\n",
    "        use_args = base_args\n",
    "    elif asset in ['ni']:\n",
    "        use_args = ni_args\n",
    "    elif asset in bond_fut_mkts:\n",
    "        use_args = bond_args\n",
    "    elif asset in precious_metal_mkts:\n",
    "        use_args = precious_args\n",
    "    use_args['start_date'] = max(backtest.sim_start_dict[asset], start_date)\n",
    "    use_args['end_date'] = end_date\n",
    "    print(\"loading mkt = %s, args = %s\" % (asset, use_args))\n",
    "    df = misc.nearby(asset, **use_args)\n",
    "    if freq == 'm':\n",
    "        df = misc.cleanup_mindata(df, asset)\n",
    "    df = df.reset_index().set_index(['date', 'min_id'])\n",
    "    if (idx == 0) and (freq == 'm'):\n",
    "        #df_list.append(df[['date', 'min_id']])\n",
    "        df_list.append(df[['datetime']])\n",
    "    xdf = df[field_list]\n",
    "    xdf.columns = [(asset, col) for col in xdf.columns]\n",
    "    #print(len(xdf), xdf)\n",
    "    df_list.append(xdf)\n",
    "\n",
    "all_df = pd.concat(df_list, axis = 1, sort = False)\n",
    "all_df = all_df.reset_index()\n",
    "print(all_df)"
   ]
  },
  {
   "cell_type": "code",
   "execution_count": 4,
   "metadata": {},
   "outputs": [],
   "source": [
    "def run_bktest(input_args):\n",
    "    product_list = input_args['product_list']\n",
    "    bar_freq = input_args['bar_freq']\n",
    "    win_list = [input_args['win']]\n",
    "    ma_win = input_args['ma_win']\n",
    "    std_win = input_args['std_win']\n",
    "    pos_std = input_args['pos_std']\n",
    "    rebal_freq = input_args['rebal_freq']\n",
    "    cost_ratio = input_args.get('cost_ratio', 0.0)\n",
    "    quantile_cutoff = input_args.get('quantile', 0.2)\n",
    "    prefix = input_args.get('prefix', \"\")\n",
    "    run_name = '_'.join(['-'.join(product_list), bar_freq, str(win_list[0]), \\\n",
    "                         str(ma_win), str(rebal_freq), str(pos_std)])\n",
    "    prod_fields = ['date', 'min_id', 'datetime'] + [(asset, field) for field in field_list for asset in product_list]\n",
    "    \n",
    "    xdf = all_df[prod_fields].dropna().sort_values(by=['date', 'min_id']).copy()\n",
    "    if 's' in bar_freq:\n",
    "        xdf = dh.day_split1(xdf, split_dict[bar_freq], index_col = None)\n",
    "    else:\n",
    "        xdf = dh.conv_ohlc_freq1(xdf, bar_freq, index_col = None) \n",
    "    #xdf = df.copy()\n",
    "    #xdf = dh.day_split1(xdf, [300, 352, 450, 1500, 1528, 1630, 1655, 1724, 1930, 1949, 2018, 2047, 2100])\n",
    "\n",
    "    #xdf = dh.day_split1(xdf, [300, 1500, 1930, 2115])\n",
    "    xdf['start_min'] = xdf['datetime'].apply(lambda x: misc.get_min_id(x))\n",
    "\n",
    "    for asset in product_list:\n",
    "        if need_shift == 1:\n",
    "            xdf[(asset, 'lr')] = ((xdf[(asset, 'close')]- xdf[(asset, 'shift')]).astype('float')\\\n",
    "                                    /(xdf[(asset, 'close')].shift(1) - xdf[(asset, 'shift')]) - 1.0) * 100.0\n",
    "        else:\n",
    "            xdf[(asset, 'lr')] = (xdf[(asset, 'close')].astype('float')\\\n",
    "                                  / xdf[(asset, 'close')].shift(1) - 1.0) * 100.0\n",
    "        for ix, win in enumerate(win_list):\n",
    "            xdf[(asset, 'lr%s' % (ix))] = xdf[(asset, 'lr')].rolling(win).sum().rolling(ma_win).mean()\n",
    "        if need_shift == 1:\n",
    "            orig_close = xdf[(asset, 'close')] - xdf[(asset, 'shift')]\n",
    "        elif need_shift == 2:\n",
    "            orig_close = xdf[(asset, 'close')] * np.exp(-xdf[(asset, 'shift')])\n",
    "        else:\n",
    "            orig_close = xdf[(asset, 'close')]\n",
    "        if pos_std == 0:\n",
    "            xdf[(asset, 'std')] = orig_close\n",
    "        elif pos_std == 1:\n",
    "            xdf[(asset, 'std')] = xdf[(asset, 'lr')].rolling(std_win).std() * orig_close * 10.0\n",
    "        elif pos_std == 2:\n",
    "            xdf[(asset, 'std')] = xdf[(asset, 'close')].diff().rolling(std_win).std() * 10.0\n",
    "    #xdf[[(asset, 'open') for asset in product_list]].to_csv('data_dump_.csv')\n",
    "    adf_dict = {}\n",
    "    rank_dict = {}\n",
    "    rng_dict = {}\n",
    "    for col in ['lr%s' % (idx) for idx in range(len(win_list))]:\n",
    "        adf_dict[col] = xdf[[(asset, col) for asset in product_list]]\n",
    "        rank_dict[col] = adf_dict[col].rank(axis=1)\n",
    "        rng_dict[col] = adf_dict[col].max(axis=1) - adf_dict[col].min(axis=1)\n",
    "    #xdf[[(asset, 'lr') for asset in product_list]].plot()\n",
    "\n",
    "    total_risk = 100000000.0\n",
    "    margin_rate = [0.08, 0.08]\n",
    "    \n",
    "    offset_list = [ backtest.trade_offset_dict.get(asset, 0.0) for asset in product_list]\n",
    "    offset_list = [x * cost_ratio for x in offset_list]\n",
    "    start_capital = 0.0\n",
    "\n",
    "    kcut = int(quantile_cutoff * len(product_list) + 0.5)\n",
    "    upper_rank = len(product_list) - kcut\n",
    "    lower_rank = 1 + kcut\n",
    "    xdf['rebal_flag'] = 1\n",
    "    #print rng_dict['lr0'][-10:]\n",
    "    flag = (xdf['start_min'].isin([])) | (rng_dict['lr0'] < 0.0)\n",
    "    xdf.loc[flag, 'rebal_flag'] = 0\n",
    "\n",
    "    xdf['rebal_seqno'] = xdf['rebal_flag'].cumsum()\n",
    "    #print(xdf[['rebal_seqno', 'start_min', 'rebal_flag']][-10:])\n",
    "\n",
    "    #xdf['rebal_seqno'] = range(len(xdf.index))\n",
    "\n",
    "    sum_rank = pd.DataFrame(columns=product_list, index = xdf.index)\n",
    "    for asset in product_list:\n",
    "        sum_rank[asset] = rank_dict['lr0'][(asset, 'lr0')]\n",
    "        for col in ['lr%s'%(idx+1) for idx in range(len(win_list)-1)]:\n",
    "            sum_rank[asset] = sum_rank[asset] + rank_dict[col][(asset, col)]\n",
    "\n",
    "    sum_rank = sum_rank.rank(axis=1, method='first')\n",
    "    long_pos = pd.DataFrame(0, columns=product_list, index = xdf.index)\n",
    "    short_pos = pd.DataFrame(0, columns=product_list, index = xdf.index)\n",
    "\n",
    "    for rebal_idx in range(rebal_freq):\n",
    "        long_tmp = pd.DataFrame(columns=product_list, index = xdf.index)\n",
    "        short_tmp = pd.DataFrame(columns=product_list, index = xdf.index)\n",
    "        rebal_flag = xdf['rebal_seqno'].apply(lambda x: (x % rebal_freq) == rebal_idx) & (xdf['rebal_flag'] == 1)\n",
    "        for asset in product_list:\n",
    "            long_tmp.loc[(sum_rank[asset] > upper_rank) & rebal_flag, asset] = 1.0\n",
    "            long_tmp.loc[(sum_rank[asset] <= upper_rank) & rebal_flag, asset] = 0.0\n",
    "            short_tmp.loc[(sum_rank[asset] < lower_rank) & rebal_flag, asset] = 1.0\n",
    "            short_tmp.loc[(sum_rank[asset] >= lower_rank) & rebal_flag, asset] = 0.0\n",
    "        long_tmp = long_tmp.fillna(method='ffill').fillna(0)\n",
    "        short_tmp = short_tmp.fillna(method='ffill').fillna(0)\n",
    "        #long_sum = long_tmp.sum(axis=1)\n",
    "        #short_sum = short_tmp.sum(axis=1)\n",
    "        long_pos = long_pos + long_tmp #.div(long_sum,axis=0)\n",
    "        short_pos = short_pos + short_tmp #.div(short_sum,axis=0)\n",
    "\n",
    "    net_pos = long_pos - short_pos\n",
    "\n",
    "    pos_nchg = (net_pos == net_pos.shift(1))\n",
    "    net_pos[pos_nchg] = np.nan\n",
    "\n",
    "    extract_fields = ['open', 'close', 'traded_price', 'contract', 'cost', 'pos']\n",
    "    df_list = []\n",
    "\n",
    "    for asset, offset in zip(product_list, offset_list):\n",
    "        #long_pos[asset] = (long_pos[asset] * total_risk/xdf[(asset,'close')].astype('float')).shift(1).fillna(method='ffill') # \n",
    "        #short_pos[asset] = (short_pos[asset] * total_risk/xdf[(asset,'close')].astype('float')).shift(1).fillna(method='ffill') # \n",
    "        net_pos[asset] = (net_pos[asset] * total_risk / (rebal_freq * xdf[(asset, 'std')])).astype('float').shift(1).fillna(method='ffill').fillna(0.0).astype('int')\n",
    "        #long_pos[asset] = (long_pos[asset] * self.total_risk / xdf[(asset, 'close')].astype('float')).astype('int').shift(1).fillna(method='ffill')\n",
    "        #short_pos[asset] = (short_pos[asset] * self.total_risk / xdf[(asset, 'close')].astype('float')).astype('int').shift(1).fillna(method='ffill')\n",
    "        xdf[(asset, 'pos')] = net_pos[asset]\n",
    "        #xdf[(asset, 'pos')] = long_pos[asset] - short_pos[asset]\n",
    "        xdf[(asset, 'traded_price')] = xdf[(asset, 'open')]\n",
    "        xdf[(asset, 'pos')][-1] = 0\n",
    "        xdf[(asset, 'cost')] = abs(xdf[(asset, 'pos')] - xdf[(asset, 'pos')].shift(1)) * offset\n",
    "        xdf[(asset, 'cost')] = xdf[(asset, 'cost')].fillna(0.0)\n",
    "        fields = [(asset, field) for field in extract_fields]    \n",
    "        tdf = xdf[fields]\n",
    "        tdf.columns = extract_fields\n",
    "        tdf['date'] = xdf['date']\n",
    "        tdf['min_id'] = xdf['min_id']\n",
    "        df_list.append(tdf)\n",
    "        #tdf.to_csv(\"test_%s_offset_%s.csv\" % (asset, offset))\n",
    "    (res_pnl, ts) = backtest.get_pnl_stats(df_list, margin_rate, 'm', tenors = pnl_tenors, start_capital = start_capital, cost_ratio = 1.0)\n",
    "    #print(xdf[[(asset, 'pos') for asset in product_list]][-40:])\n",
    "    xdf[[(asset, 'pos') for asset in product_list]].to_csv(prefix + run_name + '_pos.csv')\n",
    "    #print(ts['cum_pnl'][-60:])\n",
    "    cum_pnl = ts['cum_pnl']\n",
    "    cum_pnl.name = run_name\n",
    "    pnl_df = pd.DataFrame.from_dict(res_pnl, orient='index').sort_index()\n",
    "    pnl_df.columns = [run_name]\n",
    "    res = {'cum_pnl': ts['cum_pnl'], 'name': run_name, 'pnl_stats': pnl_df}\n",
    "    return res\n"
   ]
  },
  {
   "cell_type": "code",
   "execution_count": 5,
   "metadata": {},
   "outputs": [
    {
     "name": "stderr",
     "output_type": "stream",
     "text": [
      "C:\\Anaconda3\\lib\\site-packages\\numpy\\core\\_asarray.py:83: VisibleDeprecationWarning: Creating an ndarray from ragged nested sequences (which is a list-or-tuple of lists-or-tuples-or ndarrays with different lengths or shapes) is deprecated. If you meant to do this, you must specify 'dtype=object' when creating the ndarray\n",
      "  return array(a, dtype, copy=False, order=order)\n",
      "<ipython-input-4-c311d01fe14d>:121: SettingWithCopyWarning: \n",
      "A value is trying to be set on a copy of a slice from a DataFrame\n",
      "\n",
      "See the caveats in the documentation: https://pandas.pydata.org/pandas-docs/stable/user_guide/indexing.html#returning-a-view-versus-a-copy\n",
      "  xdf[(asset, 'pos')][-1] = 0\n",
      "<ipython-input-4-c311d01fe14d>:127: SettingWithCopyWarning: \n",
      "A value is trying to be set on a copy of a slice from a DataFrame.\n",
      "Try using .loc[row_indexer,col_indexer] = value instead\n",
      "\n",
      "See the caveats in the documentation: https://pandas.pydata.org/pandas-docs/stable/user_guide/indexing.html#returning-a-view-versus-a-copy\n",
      "  tdf['date'] = xdf['date']\n",
      "<ipython-input-4-c311d01fe14d>:128: SettingWithCopyWarning: \n",
      "A value is trying to be set on a copy of a slice from a DataFrame.\n",
      "Try using .loc[row_indexer,col_indexer] = value instead\n",
      "\n",
      "See the caveats in the documentation: https://pandas.pydata.org/pandas-docs/stable/user_guide/indexing.html#returning-a-view-versus-a-copy\n",
      "  tdf['min_id'] = xdf['min_id']\n"
     ]
    },
    {
     "data": {
      "image/png": "[encoded data removed]",
      "text/plain": [
       "<Figure size 432x288 with 1 Axes>"
      ]
     },
     "metadata": {
      "needs_background": "light"
     },
     "output_type": "display_data"
    },
    {
     "name": "stdout",
     "output_type": "stream",
     "text": [
      "                    rb-hc-i-j_14m_30_12_3_1\n",
      "avg_pnl_1y                     1.782273e+03\n",
      "avg_pnl_2y                     2.767255e+04\n",
      "avg_pnl_3y                     3.301425e+04\n",
      "avg_pnl_4y                     5.228327e+04\n",
      "avg_pnl_5y                     5.062026e+04\n",
      "max_dd_period_1y              -2.190000e+02\n",
      "max_dd_period_2y              -2.190000e+02\n",
      "max_dd_period_3y              -2.190000e+02\n",
      "max_dd_period_4y              -2.190000e+02\n",
      "max_dd_period_5y              -2.190000e+02\n",
      "max_drawdown_1y               -6.152681e+06\n",
      "max_drawdown_2y               -6.152681e+06\n",
      "max_drawdown_3y               -6.152681e+06\n",
      "max_drawdown_4y               -6.152681e+06\n",
      "max_drawdown_5y               -6.152681e+06\n",
      "num_days_1y                    2.410000e+02\n",
      "num_days_2y                    4.850000e+02\n",
      "num_days_3y                    7.280000e+02\n",
      "num_days_4y                    9.720000e+02\n",
      "num_days_5y                    1.215000e+03\n",
      "profit_dd_ratio_1y             6.981151e-02\n",
      "profit_dd_ratio_2y             2.181356e+00\n",
      "profit_dd_ratio_3y             3.906326e+00\n",
      "profit_dd_ratio_4y             8.259707e+00\n",
      "profit_dd_ratio_5y             9.996231e+00\n",
      "sharp_ratio_1y                 6.622560e-02\n",
      "sharp_ratio_2y                 9.472421e-01\n",
      "sharp_ratio_3y                 1.093706e+00\n",
      "sharp_ratio_4y                 1.749481e+00\n",
      "sharp_ratio_5y                 1.742746e+00\n",
      "std_pnl_1y                     4.272172e+05\n",
      "std_pnl_2y                     4.637548e+05\n",
      "std_pnl_3y                     4.791827e+05\n",
      "std_pnl_4y                     4.744099e+05\n",
      "std_pnl_5y                     4.610951e+05\n",
      "tot_cost_1y                    5.434077e+06\n",
      "tot_cost_2y                    1.171589e+07\n",
      "tot_cost_3y                    1.895685e+07\n",
      "tot_cost_4y                    2.423050e+07\n",
      "tot_cost_5y                    2.968493e+07\n",
      "tot_pnl_1y                     4.295279e+05\n",
      "tot_pnl_2y                     1.342119e+07\n",
      "tot_pnl_3y                     2.403438e+07\n",
      "tot_pnl_4y                     5.081934e+07\n",
      "tot_pnl_5y                     6.150362e+07\n"
     ]
    },
    {
     "name": "stderr",
     "output_type": "stream",
     "text": [
      "C:\\Anaconda3\\lib\\site-packages\\numpy\\core\\_asarray.py:83: VisibleDeprecationWarning: Creating an ndarray from ragged nested sequences (which is a list-or-tuple of lists-or-tuples-or ndarrays with different lengths or shapes) is deprecated. If you meant to do this, you must specify 'dtype=object' when creating the ndarray\n",
      "  return array(a, dtype, copy=False, order=order)\n",
      "<ipython-input-4-c311d01fe14d>:121: SettingWithCopyWarning: \n",
      "A value is trying to be set on a copy of a slice from a DataFrame\n",
      "\n",
      "See the caveats in the documentation: https://pandas.pydata.org/pandas-docs/stable/user_guide/indexing.html#returning-a-view-versus-a-copy\n",
      "  xdf[(asset, 'pos')][-1] = 0\n",
      "<ipython-input-4-c311d01fe14d>:127: SettingWithCopyWarning: \n",
      "A value is trying to be set on a copy of a slice from a DataFrame.\n",
      "Try using .loc[row_indexer,col_indexer] = value instead\n",
      "\n",
      "See the caveats in the documentation: https://pandas.pydata.org/pandas-docs/stable/user_guide/indexing.html#returning-a-view-versus-a-copy\n",
      "  tdf['date'] = xdf['date']\n",
      "<ipython-input-4-c311d01fe14d>:128: SettingWithCopyWarning: \n",
      "A value is trying to be set on a copy of a slice from a DataFrame.\n",
      "Try using .loc[row_indexer,col_indexer] = value instead\n",
      "\n",
      "See the caveats in the documentation: https://pandas.pydata.org/pandas-docs/stable/user_guide/indexing.html#returning-a-view-versus-a-copy\n",
      "  tdf['min_id'] = xdf['min_id']\n"
     ]
    },
    {
     "data": {
      "image/png": "[encoded data removed]",
      "text/plain": [
       "<Figure size 432x288 with 1 Axes>"
      ]
     },
     "metadata": {
      "needs_background": "light"
     },
     "output_type": "display_data"
    },
    {
     "name": "stdout",
     "output_type": "stream",
     "text": [
      "                    rb-hc-i-j_85m_18_1_3_1\n",
      "avg_pnl_1y                    8.819012e+03\n",
      "avg_pnl_2y                    1.273584e+04\n",
      "avg_pnl_3y                    1.604869e+04\n",
      "avg_pnl_4y                    2.080208e+04\n",
      "avg_pnl_5y                    2.014564e+04\n",
      "max_dd_period_1y             -6.500000e+01\n",
      "max_dd_period_2y             -1.400000e+02\n",
      "max_dd_period_3y             -1.400000e+02\n",
      "max_dd_period_4y             -1.400000e+02\n",
      "max_dd_period_5y             -1.400000e+02\n",
      "max_drawdown_1y              -1.808936e+06\n",
      "max_drawdown_2y              -3.444056e+06\n",
      "max_drawdown_3y              -3.444056e+06\n",
      "max_drawdown_4y              -3.444056e+06\n",
      "max_drawdown_5y              -3.444056e+06\n",
      "num_days_1y                   2.410000e+02\n",
      "num_days_2y                   4.850000e+02\n",
      "num_days_3y                   7.280000e+02\n",
      "num_days_4y                   9.720000e+02\n",
      "num_days_5y                   1.215000e+03\n",
      "profit_dd_ratio_1y            1.174934e+00\n",
      "profit_dd_ratio_2y            1.793490e+00\n",
      "profit_dd_ratio_3y            3.392351e+00\n",
      "profit_dd_ratio_4y            5.870873e+00\n",
      "profit_dd_ratio_5y            7.107012e+00\n",
      "sharp_ratio_1y                6.505314e-01\n",
      "sharp_ratio_2y                8.975245e-01\n",
      "sharp_ratio_3y                1.157284e+00\n",
      "sharp_ratio_4y                1.540856e+00\n",
      "sharp_ratio_5y                1.552571e+00\n",
      "std_pnl_1y                    2.152048e+05\n",
      "std_pnl_2y                    2.252586e+05\n",
      "std_pnl_3y                    2.201405e+05\n",
      "std_pnl_4y                    2.143112e+05\n",
      "std_pnl_5y                    2.059822e+05\n",
      "tot_cost_1y                   1.521051e+06\n",
      "tot_cost_2y                   3.398315e+06\n",
      "tot_cost_3y                   5.406810e+06\n",
      "tot_cost_4y                   6.859122e+06\n",
      "tot_cost_5y                   8.295204e+06\n",
      "tot_pnl_1y                    2.125382e+06\n",
      "tot_pnl_2y                    6.176881e+06\n",
      "tot_pnl_3y                    1.168345e+07\n",
      "tot_pnl_4y                    2.021962e+07\n",
      "tot_pnl_5y                    2.447695e+07\n"
     ]
    },
    {
     "name": "stderr",
     "output_type": "stream",
     "text": [
      "C:\\Anaconda3\\lib\\site-packages\\numpy\\core\\_asarray.py:83: VisibleDeprecationWarning: Creating an ndarray from ragged nested sequences (which is a list-or-tuple of lists-or-tuples-or ndarrays with different lengths or shapes) is deprecated. If you meant to do this, you must specify 'dtype=object' when creating the ndarray\n",
      "  return array(a, dtype, copy=False, order=order)\n",
      "<ipython-input-4-c311d01fe14d>:121: SettingWithCopyWarning: \n",
      "A value is trying to be set on a copy of a slice from a DataFrame\n",
      "\n",
      "See the caveats in the documentation: https://pandas.pydata.org/pandas-docs/stable/user_guide/indexing.html#returning-a-view-versus-a-copy\n",
      "  xdf[(asset, 'pos')][-1] = 0\n",
      "<ipython-input-4-c311d01fe14d>:127: SettingWithCopyWarning: \n",
      "A value is trying to be set on a copy of a slice from a DataFrame.\n",
      "Try using .loc[row_indexer,col_indexer] = value instead\n",
      "\n",
      "See the caveats in the documentation: https://pandas.pydata.org/pandas-docs/stable/user_guide/indexing.html#returning-a-view-versus-a-copy\n",
      "  tdf['date'] = xdf['date']\n",
      "<ipython-input-4-c311d01fe14d>:128: SettingWithCopyWarning: \n",
      "A value is trying to be set on a copy of a slice from a DataFrame.\n",
      "Try using .loc[row_indexer,col_indexer] = value instead\n",
      "\n",
      "See the caveats in the documentation: https://pandas.pydata.org/pandas-docs/stable/user_guide/indexing.html#returning-a-view-versus-a-copy\n",
      "  tdf['min_id'] = xdf['min_id']\n"
     ]
    },
    {
     "data": {
      "image/png": "[encoded data removed]",
      "text/plain": [
       "<Figure size 432x288 with 1 Axes>"
      ]
     },
     "metadata": {
      "needs_background": "light"
     },
     "output_type": "display_data"
    },
    {
     "name": "stderr",
     "output_type": "stream",
     "text": [
      "C:\\Anaconda3\\lib\\site-packages\\numpy\\core\\_asarray.py:83: VisibleDeprecationWarning: Creating an ndarray from ragged nested sequences (which is a list-or-tuple of lists-or-tuples-or ndarrays with different lengths or shapes) is deprecated. If you meant to do this, you must specify 'dtype=object' when creating the ndarray\n",
      "  return array(a, dtype, copy=False, order=order)\n"
     ]
    },
    {
     "name": "stdout",
     "output_type": "stream",
     "text": [
      "                    rb-hc-i-j-jm_s3_84_6_6_1\n",
      "avg_pnl_1y                      1.428252e+03\n",
      "avg_pnl_2y                      6.269006e+03\n",
      "avg_pnl_3y                      9.455678e+03\n",
      "avg_pnl_4y                      7.980076e+03\n",
      "avg_pnl_5y                      7.405309e+03\n",
      "max_dd_period_1y               -8.400000e+01\n",
      "max_dd_period_2y               -8.400000e+01\n",
      "max_dd_period_3y               -8.400000e+01\n",
      "max_dd_period_4y               -8.400000e+01\n",
      "max_dd_period_5y               -8.400000e+01\n",
      "max_drawdown_1y                -4.268728e+06\n",
      "max_drawdown_2y                -4.268728e+06\n",
      "max_drawdown_3y                -4.268728e+06\n",
      "max_drawdown_4y                -4.268728e+06\n",
      "max_drawdown_5y                -4.268728e+06\n",
      "num_days_1y                     2.400000e+02\n",
      "num_days_2y                     4.840000e+02\n",
      "num_days_3y                     7.270000e+02\n",
      "num_days_4y                     9.710000e+02\n",
      "num_days_5y                     1.214000e+03\n",
      "profit_dd_ratio_1y              8.030040e-02\n",
      "profit_dd_ratio_2y              7.107969e-01\n",
      "profit_dd_ratio_3y              1.610381e+00\n",
      "profit_dd_ratio_4y              1.815214e+00\n",
      "profit_dd_ratio_5y              2.106024e+00\n",
      "sharp_ratio_1y                  1.289245e-01\n",
      "sharp_ratio_2y                  5.441881e-01\n",
      "sharp_ratio_3y                  7.988837e-01\n",
      "sharp_ratio_4y                  7.013421e-01\n",
      "sharp_ratio_5y                  6.639041e-01\n",
      "std_pnl_1y                      1.758612e+05\n",
      "std_pnl_2y                      1.828732e+05\n",
      "std_pnl_3y                      1.878925e+05\n",
      "std_pnl_4y                      1.806248e+05\n",
      "std_pnl_5y                      1.770672e+05\n",
      "tot_cost_1y                     1.284534e+05\n",
      "tot_cost_2y                     3.006574e+05\n",
      "tot_cost_3y                     4.536550e+05\n",
      "tot_cost_4y                     5.811714e+05\n",
      "tot_cost_5y                     7.068554e+05\n",
      "tot_pnl_1y                      3.427806e+05\n",
      "tot_pnl_2y                      3.034199e+06\n",
      "tot_pnl_3y                      6.874278e+06\n",
      "tot_pnl_4y                      7.748654e+06\n",
      "tot_pnl_5y                      8.990045e+06\n"
     ]
    },
    {
     "name": "stderr",
     "output_type": "stream",
     "text": [
      "<ipython-input-4-c311d01fe14d>:121: SettingWithCopyWarning: \n",
      "A value is trying to be set on a copy of a slice from a DataFrame\n",
      "\n",
      "See the caveats in the documentation: https://pandas.pydata.org/pandas-docs/stable/user_guide/indexing.html#returning-a-view-versus-a-copy\n",
      "  xdf[(asset, 'pos')][-1] = 0\n",
      "<ipython-input-4-c311d01fe14d>:127: SettingWithCopyWarning: \n",
      "A value is trying to be set on a copy of a slice from a DataFrame.\n",
      "Try using .loc[row_indexer,col_indexer] = value instead\n",
      "\n",
      "See the caveats in the documentation: https://pandas.pydata.org/pandas-docs/stable/user_guide/indexing.html#returning-a-view-versus-a-copy\n",
      "  tdf['date'] = xdf['date']\n",
      "<ipython-input-4-c311d01fe14d>:128: SettingWithCopyWarning: \n",
      "A value is trying to be set on a copy of a slice from a DataFrame.\n",
      "Try using .loc[row_indexer,col_indexer] = value instead\n",
      "\n",
      "See the caveats in the documentation: https://pandas.pydata.org/pandas-docs/stable/user_guide/indexing.html#returning-a-view-versus-a-copy\n",
      "  tdf['min_id'] = xdf['min_id']\n"
     ]
    },
    {
     "data": {
      "image/png": "[encoded data removed]",
      "text/plain": [
       "<Figure size 432x288 with 1 Axes>"
      ]
     },
     "metadata": {
      "needs_background": "light"
     },
     "output_type": "display_data"
    },
    {
     "name": "stderr",
     "output_type": "stream",
     "text": [
      "C:\\Anaconda3\\lib\\site-packages\\numpy\\core\\_asarray.py:83: VisibleDeprecationWarning: Creating an ndarray from ragged nested sequences (which is a list-or-tuple of lists-or-tuples-or ndarrays with different lengths or shapes) is deprecated. If you meant to do this, you must specify 'dtype=object' when creating the ndarray\n",
      "  return array(a, dtype, copy=False, order=order)\n"
     ]
    },
    {
     "name": "stdout",
     "output_type": "stream",
     "text": [
      "                    rb-i-j-jm_s2_36_12_3_1\n",
      "avg_pnl_1y                    8.482542e+01\n",
      "avg_pnl_2y                    7.054620e+03\n",
      "avg_pnl_3y                    6.538781e+03\n",
      "avg_pnl_4y                    5.613170e+03\n",
      "avg_pnl_5y                    5.313462e+03\n",
      "max_dd_period_1y             -8.600000e+01\n",
      "max_dd_period_2y             -8.600000e+01\n",
      "max_dd_period_3y             -8.600000e+01\n",
      "max_dd_period_4y             -8.600000e+01\n",
      "max_dd_period_5y             -8.600000e+01\n",
      "max_drawdown_1y              -2.781776e+06\n",
      "max_drawdown_2y              -2.781776e+06\n",
      "max_drawdown_3y              -2.781776e+06\n",
      "max_drawdown_4y              -2.781776e+06\n",
      "max_drawdown_5y              -2.781776e+06\n",
      "num_days_1y                   2.400000e+02\n",
      "num_days_2y                   4.840000e+02\n",
      "num_days_3y                   7.270000e+02\n",
      "num_days_4y                   9.710000e+02\n",
      "num_days_5y                   1.214000e+03\n",
      "profit_dd_ratio_1y            7.318382e-03\n",
      "profit_dd_ratio_2y            1.227430e+00\n",
      "profit_dd_ratio_3y            1.708870e+00\n",
      "profit_dd_ratio_4y            1.959320e+00\n",
      "profit_dd_ratio_5y            2.318858e+00\n",
      "sharp_ratio_1y                8.409427e-03\n",
      "sharp_ratio_2y                7.037371e-01\n",
      "sharp_ratio_3y                6.539012e-01\n",
      "sharp_ratio_4y                5.856633e-01\n",
      "sharp_ratio_5y                5.568360e-01\n",
      "std_pnl_1y                    1.601253e+05\n",
      "std_pnl_2y                    1.591342e+05\n",
      "std_pnl_3y                    1.587395e+05\n",
      "std_pnl_4y                    1.521460e+05\n",
      "std_pnl_5y                    1.514783e+05\n",
      "tot_cost_1y                   8.174340e+04\n",
      "tot_cost_2y                   2.084910e+05\n",
      "tot_cost_3y                   3.331952e+05\n",
      "tot_cost_4y                   4.255634e+05\n",
      "tot_cost_5y                   5.231746e+05\n",
      "tot_pnl_1y                    2.035810e+04\n",
      "tot_pnl_2y                    3.414436e+06\n",
      "tot_pnl_3y                    4.753694e+06\n",
      "tot_pnl_4y                    5.450388e+06\n",
      "tot_pnl_5y                    6.450542e+06\n"
     ]
    },
    {
     "name": "stderr",
     "output_type": "stream",
     "text": [
      "<ipython-input-4-c311d01fe14d>:121: SettingWithCopyWarning: \n",
      "A value is trying to be set on a copy of a slice from a DataFrame\n",
      "\n",
      "See the caveats in the documentation: https://pandas.pydata.org/pandas-docs/stable/user_guide/indexing.html#returning-a-view-versus-a-copy\n",
      "  xdf[(asset, 'pos')][-1] = 0\n",
      "<ipython-input-4-c311d01fe14d>:127: SettingWithCopyWarning: \n",
      "A value is trying to be set on a copy of a slice from a DataFrame.\n",
      "Try using .loc[row_indexer,col_indexer] = value instead\n",
      "\n",
      "See the caveats in the documentation: https://pandas.pydata.org/pandas-docs/stable/user_guide/indexing.html#returning-a-view-versus-a-copy\n",
      "  tdf['date'] = xdf['date']\n",
      "<ipython-input-4-c311d01fe14d>:128: SettingWithCopyWarning: \n",
      "A value is trying to be set on a copy of a slice from a DataFrame.\n",
      "Try using .loc[row_indexer,col_indexer] = value instead\n",
      "\n",
      "See the caveats in the documentation: https://pandas.pydata.org/pandas-docs/stable/user_guide/indexing.html#returning-a-view-versus-a-copy\n",
      "  tdf['min_id'] = xdf['min_id']\n"
     ]
    },
    {
     "data": {
      "image/png": "[encoded data removed]",
      "text/plain": [
       "<Figure size 432x288 with 1 Axes>"
      ]
     },
     "metadata": {
      "needs_background": "light"
     },
     "output_type": "display_data"
    },
    {
     "name": "stdout",
     "output_type": "stream",
     "text": [
      "                    rb-hc-i-j_14m_30_12_3_0\n",
      "avg_pnl_1y                     5.165910e+03\n",
      "avg_pnl_2y                     7.886510e+04\n",
      "avg_pnl_3y                     8.593918e+04\n",
      "avg_pnl_4y                     1.642229e+05\n",
      "avg_pnl_5y                     1.561809e+05\n",
      "max_dd_period_1y              -1.880000e+02\n",
      "max_dd_period_2y              -2.070000e+02\n",
      "max_dd_period_3y              -2.070000e+02\n",
      "max_dd_period_4y              -2.070000e+02\n",
      "max_dd_period_5y              -2.070000e+02\n",
      "max_drawdown_1y               -2.338414e+07\n",
      "max_drawdown_2y               -2.675367e+07\n",
      "max_drawdown_3y               -2.675367e+07\n",
      "max_drawdown_4y               -2.675367e+07\n",
      "max_drawdown_5y               -2.675367e+07\n",
      "num_days_1y                    2.410000e+02\n",
      "num_days_2y                    4.850000e+02\n",
      "num_days_3y                    7.280000e+02\n",
      "num_days_4y                    9.720000e+02\n",
      "num_days_5y                    1.215000e+03\n",
      "profit_dd_ratio_1y             5.324055e-02\n",
      "profit_dd_ratio_2y             1.429694e+00\n",
      "profit_dd_ratio_3y             2.338510e+00\n",
      "profit_dd_ratio_4y             5.966459e+00\n",
      "profit_dd_ratio_5y             7.092851e+00\n",
      "sharp_ratio_1y                 5.537037e-02\n",
      "sharp_ratio_2y                 8.516003e-01\n",
      "sharp_ratio_3y                 9.185885e-01\n",
      "sharp_ratio_4y                 1.666057e+00\n",
      "sharp_ratio_5y                 1.509848e+00\n",
      "std_pnl_1y                     1.481050e+06\n",
      "std_pnl_2y                     1.470108e+06\n",
      "std_pnl_3y                     1.485151e+06\n",
      "std_pnl_4y                     1.564747e+06\n",
      "std_pnl_5y                     1.642083e+06\n",
      "tot_cost_1y                    1.500107e+07\n",
      "tot_cost_2y                    3.147293e+07\n",
      "tot_cost_3y                    5.130324e+07\n",
      "tot_cost_4y                    7.041077e+07\n",
      "tot_cost_5y                    9.486925e+07\n",
      "tot_pnl_1y                     1.244984e+06\n",
      "tot_pnl_2y                     3.824957e+07\n",
      "tot_pnl_3y                     6.256372e+07\n",
      "tot_pnl_4y                     1.596247e+08\n",
      "tot_pnl_5y                     1.897598e+08\n"
     ]
    },
    {
     "name": "stderr",
     "output_type": "stream",
     "text": [
      "C:\\Anaconda3\\lib\\site-packages\\numpy\\core\\_asarray.py:83: VisibleDeprecationWarning: Creating an ndarray from ragged nested sequences (which is a list-or-tuple of lists-or-tuples-or ndarrays with different lengths or shapes) is deprecated. If you meant to do this, you must specify 'dtype=object' when creating the ndarray\n",
      "  return array(a, dtype, copy=False, order=order)\n",
      "<ipython-input-4-c311d01fe14d>:121: SettingWithCopyWarning: \n",
      "A value is trying to be set on a copy of a slice from a DataFrame\n",
      "\n",
      "See the caveats in the documentation: https://pandas.pydata.org/pandas-docs/stable/user_guide/indexing.html#returning-a-view-versus-a-copy\n",
      "  xdf[(asset, 'pos')][-1] = 0\n",
      "<ipython-input-4-c311d01fe14d>:127: SettingWithCopyWarning: \n",
      "A value is trying to be set on a copy of a slice from a DataFrame.\n",
      "Try using .loc[row_indexer,col_indexer] = value instead\n",
      "\n",
      "See the caveats in the documentation: https://pandas.pydata.org/pandas-docs/stable/user_guide/indexing.html#returning-a-view-versus-a-copy\n",
      "  tdf['date'] = xdf['date']\n",
      "<ipython-input-4-c311d01fe14d>:128: SettingWithCopyWarning: \n",
      "A value is trying to be set on a copy of a slice from a DataFrame.\n",
      "Try using .loc[row_indexer,col_indexer] = value instead\n",
      "\n",
      "See the caveats in the documentation: https://pandas.pydata.org/pandas-docs/stable/user_guide/indexing.html#returning-a-view-versus-a-copy\n",
      "  tdf['min_id'] = xdf['min_id']\n"
     ]
    },
    {
     "data": {
      "image/png": "[encoded data removed]",
      "text/plain": [
       "<Figure size 432x288 with 1 Axes>"
      ]
     },
     "metadata": {
      "needs_background": "light"
     },
     "output_type": "display_data"
    },
    {
     "name": "stderr",
     "output_type": "stream",
     "text": [
      "C:\\Anaconda3\\lib\\site-packages\\numpy\\core\\_asarray.py:83: VisibleDeprecationWarning: Creating an ndarray from ragged nested sequences (which is a list-or-tuple of lists-or-tuples-or ndarrays with different lengths or shapes) is deprecated. If you meant to do this, you must specify 'dtype=object' when creating the ndarray\n",
      "  return array(a, dtype, copy=False, order=order)\n"
     ]
    },
    {
     "name": "stdout",
     "output_type": "stream",
     "text": [
      "                    rb-hc-i-j_85m_18_1_3_0\n",
      "avg_pnl_1y                    5.946158e+02\n",
      "avg_pnl_2y                    5.100741e+04\n",
      "avg_pnl_3y                    8.619230e+04\n",
      "avg_pnl_4y                    1.345468e+05\n",
      "avg_pnl_5y                    1.426809e+05\n",
      "max_dd_period_1y             -5.200000e+01\n",
      "max_dd_period_2y             -2.490000e+02\n",
      "max_dd_period_3y             -2.490000e+02\n",
      "max_dd_period_4y             -2.490000e+02\n",
      "max_dd_period_5y             -2.490000e+02\n",
      "max_drawdown_1y              -1.582239e+07\n",
      "max_drawdown_2y              -1.997908e+07\n",
      "max_drawdown_3y              -1.997908e+07\n",
      "max_drawdown_4y              -1.997908e+07\n",
      "max_drawdown_5y              -1.997908e+07\n",
      "num_days_1y                   2.410000e+02\n",
      "num_days_2y                   4.850000e+02\n",
      "num_days_3y                   7.280000e+02\n",
      "num_days_4y                   9.720000e+02\n",
      "num_days_5y                   1.215000e+03\n",
      "profit_dd_ratio_1y            9.056938e-03\n",
      "profit_dd_ratio_2y            1.238225e+00\n",
      "profit_dd_ratio_3y            3.140685e+00\n",
      "profit_dd_ratio_4y            6.545822e+00\n",
      "profit_dd_ratio_5y            8.676942e+00\n",
      "sharp_ratio_1y                6.518247e-03\n",
      "sharp_ratio_2y                5.445955e-01\n",
      "sharp_ratio_3y                9.405720e-01\n",
      "sharp_ratio_4y                1.447896e+00\n",
      "sharp_ratio_5y                1.477121e+00\n",
      "std_pnl_1y                    1.448125e+06\n",
      "std_pnl_2y                    1.486824e+06\n",
      "std_pnl_3y                    1.454711e+06\n",
      "std_pnl_4y                    1.475150e+06\n",
      "std_pnl_5y                    1.533380e+06\n",
      "tot_cost_1y                   8.848056e+06\n",
      "tot_cost_2y                   1.914804e+07\n",
      "tot_cost_3y                   3.065515e+07\n",
      "tot_cost_4y                   4.185624e+07\n",
      "tot_cost_5y                   5.534065e+07\n",
      "tot_pnl_1y                    1.433024e+05\n",
      "tot_pnl_2y                    2.473859e+07\n",
      "tot_pnl_3y                    6.274799e+07\n",
      "tot_pnl_4y                    1.307795e+08\n",
      "tot_pnl_5y                    1.733573e+08\n"
     ]
    },
    {
     "name": "stderr",
     "output_type": "stream",
     "text": [
      "<ipython-input-4-c311d01fe14d>:121: SettingWithCopyWarning: \n",
      "A value is trying to be set on a copy of a slice from a DataFrame\n",
      "\n",
      "See the caveats in the documentation: https://pandas.pydata.org/pandas-docs/stable/user_guide/indexing.html#returning-a-view-versus-a-copy\n",
      "  xdf[(asset, 'pos')][-1] = 0\n",
      "<ipython-input-4-c311d01fe14d>:127: SettingWithCopyWarning: \n",
      "A value is trying to be set on a copy of a slice from a DataFrame.\n",
      "Try using .loc[row_indexer,col_indexer] = value instead\n",
      "\n",
      "See the caveats in the documentation: https://pandas.pydata.org/pandas-docs/stable/user_guide/indexing.html#returning-a-view-versus-a-copy\n",
      "  tdf['date'] = xdf['date']\n",
      "<ipython-input-4-c311d01fe14d>:128: SettingWithCopyWarning: \n",
      "A value is trying to be set on a copy of a slice from a DataFrame.\n",
      "Try using .loc[row_indexer,col_indexer] = value instead\n",
      "\n",
      "See the caveats in the documentation: https://pandas.pydata.org/pandas-docs/stable/user_guide/indexing.html#returning-a-view-versus-a-copy\n",
      "  tdf['min_id'] = xdf['min_id']\n"
     ]
    },
    {
     "data": {
      "image/png": "[encoded data removed]",
      "text/plain": [
       "<Figure size 432x288 with 1 Axes>"
      ]
     },
     "metadata": {
      "needs_background": "light"
     },
     "output_type": "display_data"
    },
    {
     "name": "stderr",
     "output_type": "stream",
     "text": [
      "C:\\Anaconda3\\lib\\site-packages\\numpy\\core\\_asarray.py:83: VisibleDeprecationWarning: Creating an ndarray from ragged nested sequences (which is a list-or-tuple of lists-or-tuples-or ndarrays with different lengths or shapes) is deprecated. If you meant to do this, you must specify 'dtype=object' when creating the ndarray\n",
      "  return array(a, dtype, copy=False, order=order)\n"
     ]
    },
    {
     "name": "stdout",
     "output_type": "stream",
     "text": [
      "                    rb-hc-i-j-jm_s3_84_6_6_0\n",
      "avg_pnl_1y                      9.756369e+04\n",
      "avg_pnl_2y                      5.118481e+04\n",
      "avg_pnl_3y                      5.610085e+04\n",
      "avg_pnl_4y                      6.020500e+04\n",
      "avg_pnl_5y                      7.723106e+04\n",
      "max_dd_period_1y               -9.200000e+01\n",
      "max_dd_period_2y               -9.200000e+01\n",
      "max_dd_period_3y               -9.200000e+01\n",
      "max_dd_period_4y               -9.200000e+01\n",
      "max_dd_period_5y               -9.200000e+01\n",
      "max_drawdown_1y                -2.953418e+07\n",
      "max_drawdown_2y                -2.953418e+07\n",
      "max_drawdown_3y                -2.953418e+07\n",
      "max_drawdown_4y                -2.953418e+07\n",
      "max_drawdown_5y                -2.953418e+07\n",
      "num_days_1y                     2.400000e+02\n",
      "num_days_2y                     4.840000e+02\n",
      "num_days_3y                     7.270000e+02\n",
      "num_days_4y                     9.710000e+02\n",
      "num_days_5y                     1.214000e+03\n",
      "profit_dd_ratio_1y              7.928199e-01\n",
      "profit_dd_ratio_2y              8.388060e-01\n",
      "profit_dd_ratio_3y              1.380953e+00\n",
      "profit_dd_ratio_4y              1.979369e+00\n",
      "profit_dd_ratio_5y              3.174576e+00\n",
      "sharp_ratio_1y                  8.499125e-01\n",
      "sharp_ratio_2y                  4.656455e-01\n",
      "sharp_ratio_3y                  5.180254e-01\n",
      "sharp_ratio_4y                  5.331913e-01\n",
      "sharp_ratio_5y                  6.488170e-01\n",
      "std_pnl_1y                      1.822276e+06\n",
      "std_pnl_2y                      1.744962e+06\n",
      "std_pnl_3y                      1.719169e+06\n",
      "std_pnl_4y                      1.792461e+06\n",
      "std_pnl_5y                      1.889601e+06\n",
      "tot_cost_1y                     1.127481e+06\n",
      "tot_cost_2y                     2.499614e+06\n",
      "tot_cost_3y                     3.854497e+06\n",
      "tot_cost_4y                     5.409850e+06\n",
      "tot_cost_5y                     7.237543e+06\n",
      "tot_pnl_1y                      2.341528e+07\n",
      "tot_pnl_2y                      2.477345e+07\n",
      "tot_pnl_3y                      4.078532e+07\n",
      "tot_pnl_4y                      5.845905e+07\n",
      "tot_pnl_5y                      9.375850e+07\n"
     ]
    },
    {
     "name": "stderr",
     "output_type": "stream",
     "text": [
      "<ipython-input-4-c311d01fe14d>:121: SettingWithCopyWarning: \n",
      "A value is trying to be set on a copy of a slice from a DataFrame\n",
      "\n",
      "See the caveats in the documentation: https://pandas.pydata.org/pandas-docs/stable/user_guide/indexing.html#returning-a-view-versus-a-copy\n",
      "  xdf[(asset, 'pos')][-1] = 0\n",
      "<ipython-input-4-c311d01fe14d>:127: SettingWithCopyWarning: \n",
      "A value is trying to be set on a copy of a slice from a DataFrame.\n",
      "Try using .loc[row_indexer,col_indexer] = value instead\n",
      "\n",
      "See the caveats in the documentation: https://pandas.pydata.org/pandas-docs/stable/user_guide/indexing.html#returning-a-view-versus-a-copy\n",
      "  tdf['date'] = xdf['date']\n",
      "<ipython-input-4-c311d01fe14d>:128: SettingWithCopyWarning: \n",
      "A value is trying to be set on a copy of a slice from a DataFrame.\n",
      "Try using .loc[row_indexer,col_indexer] = value instead\n",
      "\n",
      "See the caveats in the documentation: https://pandas.pydata.org/pandas-docs/stable/user_guide/indexing.html#returning-a-view-versus-a-copy\n",
      "  tdf['min_id'] = xdf['min_id']\n"
     ]
    },
    {
     "data": {
      "image/png": "[encoded data removed]",
      "text/plain": [
       "<Figure size 432x288 with 1 Axes>"
      ]
     },
     "metadata": {
      "needs_background": "light"
     },
     "output_type": "display_data"
    },
    {
     "name": "stderr",
     "output_type": "stream",
     "text": [
      "C:\\Anaconda3\\lib\\site-packages\\numpy\\core\\_asarray.py:83: VisibleDeprecationWarning: Creating an ndarray from ragged nested sequences (which is a list-or-tuple of lists-or-tuples-or ndarrays with different lengths or shapes) is deprecated. If you meant to do this, you must specify 'dtype=object' when creating the ndarray\n",
      "  return array(a, dtype, copy=False, order=order)\n"
     ]
    },
    {
     "name": "stdout",
     "output_type": "stream",
     "text": [
      "                    rb-i-j-jm_s2_36_12_3_0\n",
      "avg_pnl_1y                    1.004574e+05\n",
      "avg_pnl_2y                    8.941388e+04\n",
      "avg_pnl_3y                    6.150941e+04\n",
      "avg_pnl_4y                    6.352810e+04\n",
      "avg_pnl_5y                    7.201293e+04\n",
      "max_dd_period_1y             -4.600000e+01\n",
      "max_dd_period_2y             -4.600000e+01\n",
      "max_dd_period_3y             -4.600000e+01\n",
      "max_dd_period_4y             -4.600000e+01\n",
      "max_dd_period_5y             -1.140000e+02\n",
      "max_drawdown_1y              -2.440640e+07\n",
      "max_drawdown_2y              -2.440640e+07\n",
      "max_drawdown_3y              -2.440640e+07\n",
      "max_drawdown_4y              -2.440640e+07\n",
      "max_drawdown_5y              -2.587873e+07\n",
      "num_days_1y                   2.400000e+02\n",
      "num_days_2y                   4.840000e+02\n",
      "num_days_3y                   7.270000e+02\n",
      "num_days_4y                   9.710000e+02\n",
      "num_days_5y                   1.214000e+03\n",
      "profit_dd_ratio_1y            9.878463e-01\n",
      "profit_dd_ratio_2y            1.773155e+00\n",
      "profit_dd_ratio_3y            1.832198e+00\n",
      "profit_dd_ratio_4y            2.527443e+00\n",
      "profit_dd_ratio_5y            3.378206e+00\n",
      "sharp_ratio_1y                8.041338e-01\n",
      "sharp_ratio_2y                7.594989e-01\n",
      "sharp_ratio_3y                5.484188e-01\n",
      "sharp_ratio_4y                5.531157e-01\n",
      "sharp_ratio_5y                5.959940e-01\n",
      "std_pnl_1y                    1.983142e+06\n",
      "std_pnl_2y                    1.868865e+06\n",
      "std_pnl_3y                    1.780449e+06\n",
      "std_pnl_4y                    1.823267e+06\n",
      "std_pnl_5y                    1.918089e+06\n",
      "tot_cost_1y                   8.850434e+05\n",
      "tot_cost_2y                   2.151402e+06\n",
      "tot_cost_3y                   3.558621e+06\n",
      "tot_cost_4y                   4.945470e+06\n",
      "tot_cost_5y                   6.635865e+06\n",
      "tot_pnl_1y                    2.410977e+07\n",
      "tot_pnl_2y                    4.327632e+07\n",
      "tot_pnl_3y                    4.471734e+07\n",
      "tot_pnl_4y                    6.168579e+07\n",
      "tot_pnl_5y                    8.742369e+07\n"
     ]
    },
    {
     "name": "stderr",
     "output_type": "stream",
     "text": [
      "<ipython-input-4-c311d01fe14d>:121: SettingWithCopyWarning: \n",
      "A value is trying to be set on a copy of a slice from a DataFrame\n",
      "\n",
      "See the caveats in the documentation: https://pandas.pydata.org/pandas-docs/stable/user_guide/indexing.html#returning-a-view-versus-a-copy\n",
      "  xdf[(asset, 'pos')][-1] = 0\n",
      "<ipython-input-4-c311d01fe14d>:127: SettingWithCopyWarning: \n",
      "A value is trying to be set on a copy of a slice from a DataFrame.\n",
      "Try using .loc[row_indexer,col_indexer] = value instead\n",
      "\n",
      "See the caveats in the documentation: https://pandas.pydata.org/pandas-docs/stable/user_guide/indexing.html#returning-a-view-versus-a-copy\n",
      "  tdf['date'] = xdf['date']\n",
      "<ipython-input-4-c311d01fe14d>:128: SettingWithCopyWarning: \n",
      "A value is trying to be set on a copy of a slice from a DataFrame.\n",
      "Try using .loc[row_indexer,col_indexer] = value instead\n",
      "\n",
      "See the caveats in the documentation: https://pandas.pydata.org/pandas-docs/stable/user_guide/indexing.html#returning-a-view-versus-a-copy\n",
      "  tdf['min_id'] = xdf['min_id']\n"
     ]
    },
    {
     "data": {
      "image/png": "[encoded data removed]",
      "text/plain": [
       "<Figure size 432x288 with 1 Axes>"
      ]
     },
     "metadata": {
      "needs_background": "light"
     },
     "output_type": "display_data"
    },
    {
     "name": "stderr",
     "output_type": "stream",
     "text": [
      "C:\\Anaconda3\\lib\\site-packages\\numpy\\core\\_asarray.py:83: VisibleDeprecationWarning: Creating an ndarray from ragged nested sequences (which is a list-or-tuple of lists-or-tuples-or ndarrays with different lengths or shapes) is deprecated. If you meant to do this, you must specify 'dtype=object' when creating the ndarray\n",
      "  return array(a, dtype, copy=False, order=order)\n"
     ]
    },
    {
     "name": "stdout",
     "output_type": "stream",
     "text": [
      "                    ZC-jm-ru-FG_s3_84_6_6_0\n",
      "avg_pnl_1y                    -1.452133e+05\n",
      "avg_pnl_2y                    -1.398696e+04\n",
      "avg_pnl_3y                     1.273689e+04\n",
      "avg_pnl_4y                     6.914231e+04\n",
      "avg_pnl_5y                     1.035028e+05\n",
      "max_dd_period_1y              -1.750000e+02\n",
      "max_dd_period_2y              -1.750000e+02\n",
      "max_dd_period_3y              -1.750000e+02\n",
      "max_dd_period_4y              -1.750000e+02\n",
      "max_dd_period_5y              -1.750000e+02\n",
      "max_drawdown_1y               -6.133689e+07\n",
      "max_drawdown_2y               -6.133689e+07\n",
      "max_drawdown_3y               -6.133689e+07\n",
      "max_drawdown_4y               -6.133689e+07\n",
      "max_drawdown_5y               -6.133689e+07\n",
      "num_days_1y                    2.350000e+02\n",
      "num_days_2y                    4.790000e+02\n",
      "num_days_3y                    7.220000e+02\n",
      "num_days_4y                    9.660000e+02\n",
      "num_days_5y                    1.209000e+03\n",
      "profit_dd_ratio_1y            -5.563558e-01\n",
      "profit_dd_ratio_2y            -1.092287e-01\n",
      "profit_dd_ratio_3y             1.499267e-01\n",
      "profit_dd_ratio_4y             1.088928e+00\n",
      "profit_dd_ratio_5y             2.040125e+00\n",
      "sharp_ratio_1y                -9.770865e-01\n",
      "sharp_ratio_2y                -1.147592e-01\n",
      "sharp_ratio_3y                 1.083941e-01\n",
      "sharp_ratio_4y                 5.642537e-01\n",
      "sharp_ratio_5y                 7.576428e-01\n",
      "std_pnl_1y                     2.359249e+06\n",
      "std_pnl_2y                     1.934800e+06\n",
      "std_pnl_3y                     1.865341e+06\n",
      "std_pnl_4y                     1.945225e+06\n",
      "std_pnl_5y                     2.168643e+06\n",
      "tot_cost_1y                    1.394371e+06\n",
      "tot_cost_2y                    2.640179e+06\n",
      "tot_cost_3y                    4.236068e+06\n",
      "tot_cost_4y                    5.345854e+06\n",
      "tot_cost_5y                    7.386546e+06\n",
      "tot_pnl_1y                    -3.412513e+07\n",
      "tot_pnl_2y                    -6.699752e+06\n",
      "tot_pnl_3y                     9.196037e+06\n",
      "tot_pnl_4y                     6.679147e+07\n",
      "tot_pnl_5y                     1.251349e+08\n"
     ]
    },
    {
     "name": "stderr",
     "output_type": "stream",
     "text": [
      "<ipython-input-4-c311d01fe14d>:121: SettingWithCopyWarning: \n",
      "A value is trying to be set on a copy of a slice from a DataFrame\n",
      "\n",
      "See the caveats in the documentation: https://pandas.pydata.org/pandas-docs/stable/user_guide/indexing.html#returning-a-view-versus-a-copy\n",
      "  xdf[(asset, 'pos')][-1] = 0\n",
      "<ipython-input-4-c311d01fe14d>:127: SettingWithCopyWarning: \n",
      "A value is trying to be set on a copy of a slice from a DataFrame.\n",
      "Try using .loc[row_indexer,col_indexer] = value instead\n",
      "\n",
      "See the caveats in the documentation: https://pandas.pydata.org/pandas-docs/stable/user_guide/indexing.html#returning-a-view-versus-a-copy\n",
      "  tdf['date'] = xdf['date']\n",
      "<ipython-input-4-c311d01fe14d>:128: SettingWithCopyWarning: \n",
      "A value is trying to be set on a copy of a slice from a DataFrame.\n",
      "Try using .loc[row_indexer,col_indexer] = value instead\n",
      "\n",
      "See the caveats in the documentation: https://pandas.pydata.org/pandas-docs/stable/user_guide/indexing.html#returning-a-view-versus-a-copy\n",
      "  tdf['min_id'] = xdf['min_id']\n"
     ]
    },
    {
     "data": {
      "image/png": "[encoded data removed]",
      "text/plain": [
       "<Figure size 432x288 with 1 Axes>"
      ]
     },
     "metadata": {
      "needs_background": "light"
     },
     "output_type": "display_data"
    },
    {
     "name": "stderr",
     "output_type": "stream",
     "text": [
      "C:\\Anaconda3\\lib\\site-packages\\numpy\\core\\_asarray.py:83: VisibleDeprecationWarning: Creating an ndarray from ragged nested sequences (which is a list-or-tuple of lists-or-tuples-or ndarrays with different lengths or shapes) is deprecated. If you meant to do this, you must specify 'dtype=object' when creating the ndarray\n",
      "  return array(a, dtype, copy=False, order=order)\n"
     ]
    },
    {
     "name": "stdout",
     "output_type": "stream",
     "text": [
      "                    ZC-jm-ru-FG_s2_48_12_6_0\n",
      "avg_pnl_1y                     -4.992728e+04\n",
      "avg_pnl_2y                      5.212227e+04\n",
      "avg_pnl_3y                      4.930938e+04\n",
      "avg_pnl_4y                      7.402678e+04\n",
      "avg_pnl_5y                      1.036407e+05\n",
      "max_dd_period_1y               -1.760000e+02\n",
      "max_dd_period_2y               -1.760000e+02\n",
      "max_dd_period_3y               -1.760000e+02\n",
      "max_dd_period_4y               -1.760000e+02\n",
      "max_dd_period_5y               -1.760000e+02\n",
      "max_drawdown_1y                -4.422779e+07\n",
      "max_drawdown_2y                -4.422779e+07\n",
      "max_drawdown_3y                -4.422779e+07\n",
      "max_drawdown_4y                -4.422779e+07\n",
      "max_drawdown_5y                -4.422779e+07\n",
      "num_days_1y                     2.350000e+02\n",
      "num_days_2y                     4.790000e+02\n",
      "num_days_3y                     7.220000e+02\n",
      "num_days_4y                     9.660000e+02\n",
      "num_days_5y                     1.209000e+03\n",
      "profit_dd_ratio_1y             -2.652836e-01\n",
      "profit_dd_ratio_2y              5.644995e-01\n",
      "profit_dd_ratio_3y              8.049547e-01\n",
      "profit_dd_ratio_4y              1.616854e+00\n",
      "profit_dd_ratio_5y              2.833097e+00\n",
      "sharp_ratio_1y                 -3.704962e-01\n",
      "sharp_ratio_2y                  4.515642e-01\n",
      "sharp_ratio_3y                  4.530139e-01\n",
      "sharp_ratio_4y                  6.380730e-01\n",
      "sharp_ratio_5y                  7.946425e-01\n",
      "std_pnl_1y                      2.139215e+06\n",
      "std_pnl_2y                      1.832332e+06\n",
      "std_pnl_3y                      1.727899e+06\n",
      "std_pnl_4y                      1.841699e+06\n",
      "std_pnl_5y                      2.070422e+06\n",
      "tot_cost_1y                     8.841262e+05\n",
      "tot_cost_2y                     1.741226e+06\n",
      "tot_cost_3y                     2.942553e+06\n",
      "tot_cost_4y                     3.977678e+06\n",
      "tot_cost_5y                     5.158916e+06\n",
      "tot_pnl_1y                     -1.173291e+07\n",
      "tot_pnl_2y                      2.496657e+07\n",
      "tot_pnl_3y                      3.560137e+07\n",
      "tot_pnl_4y                      7.150987e+07\n",
      "tot_pnl_5y                      1.253016e+08\n"
     ]
    },
    {
     "name": "stderr",
     "output_type": "stream",
     "text": [
      "<ipython-input-4-c311d01fe14d>:121: SettingWithCopyWarning: \n",
      "A value is trying to be set on a copy of a slice from a DataFrame\n",
      "\n",
      "See the caveats in the documentation: https://pandas.pydata.org/pandas-docs/stable/user_guide/indexing.html#returning-a-view-versus-a-copy\n",
      "  xdf[(asset, 'pos')][-1] = 0\n",
      "<ipython-input-4-c311d01fe14d>:127: SettingWithCopyWarning: \n",
      "A value is trying to be set on a copy of a slice from a DataFrame.\n",
      "Try using .loc[row_indexer,col_indexer] = value instead\n",
      "\n",
      "See the caveats in the documentation: https://pandas.pydata.org/pandas-docs/stable/user_guide/indexing.html#returning-a-view-versus-a-copy\n",
      "  tdf['date'] = xdf['date']\n",
      "<ipython-input-4-c311d01fe14d>:128: SettingWithCopyWarning: \n",
      "A value is trying to be set on a copy of a slice from a DataFrame.\n",
      "Try using .loc[row_indexer,col_indexer] = value instead\n",
      "\n",
      "See the caveats in the documentation: https://pandas.pydata.org/pandas-docs/stable/user_guide/indexing.html#returning-a-view-versus-a-copy\n",
      "  tdf['min_id'] = xdf['min_id']\n"
     ]
    },
    {
     "data": {
      "image/png": "[encoded data removed]",
      "text/plain": [
       "<Figure size 432x288 with 1 Axes>"
      ]
     },
     "metadata": {
      "needs_background": "light"
     },
     "output_type": "display_data"
    },
    {
     "name": "stderr",
     "output_type": "stream",
     "text": [
      "C:\\Anaconda3\\lib\\site-packages\\numpy\\core\\_asarray.py:83: VisibleDeprecationWarning: Creating an ndarray from ragged nested sequences (which is a list-or-tuple of lists-or-tuples-or ndarrays with different lengths or shapes) is deprecated. If you meant to do this, you must specify 'dtype=object' when creating the ndarray\n",
      "  return array(a, dtype, copy=False, order=order)\n"
     ]
    },
    {
     "name": "stdout",
     "output_type": "stream",
     "text": [
      "                    ZC-jm-ru-FG_s2_84_1_3_0\n",
      "avg_pnl_1y                    -2.432482e+05\n",
      "avg_pnl_2y                    -8.600314e+04\n",
      "avg_pnl_3y                    -4.071225e+04\n",
      "avg_pnl_4y                    -9.041503e+03\n",
      "avg_pnl_5y                     2.778513e+04\n",
      "max_dd_period_1y              -2.130000e+02\n",
      "max_dd_period_2y              -2.130000e+02\n",
      "max_dd_period_3y              -2.130000e+02\n",
      "max_dd_period_4y              -2.130000e+02\n",
      "max_dd_period_5y              -2.130000e+02\n",
      "max_drawdown_1y               -8.709235e+07\n",
      "max_drawdown_2y               -8.709235e+07\n",
      "max_drawdown_3y               -8.709235e+07\n",
      "max_drawdown_4y               -8.709235e+07\n",
      "max_drawdown_5y               -8.709235e+07\n",
      "num_days_1y                    2.350000e+02\n",
      "num_days_2y                    4.790000e+02\n",
      "num_days_3y                    7.220000e+02\n",
      "num_days_4y                    9.660000e+02\n",
      "num_days_5y                    1.209000e+03\n",
      "profit_dd_ratio_1y            -6.563531e-01\n",
      "profit_dd_ratio_2y            -4.730094e-01\n",
      "profit_dd_ratio_3y            -3.375066e-01\n",
      "profit_dd_ratio_4y            -1.002854e-01\n",
      "profit_dd_ratio_5y             3.857080e-01\n",
      "sharp_ratio_1y                -1.753940e+00\n",
      "sharp_ratio_2y                -7.329211e-01\n",
      "sharp_ratio_3y                -3.707129e-01\n",
      "sharp_ratio_4y                -7.692972e-02\n",
      "sharp_ratio_5y                 2.125498e-01\n",
      "std_pnl_1y                     2.201583e+06\n",
      "std_pnl_2y                     1.862762e+06\n",
      "std_pnl_3y                     1.743363e+06\n",
      "std_pnl_4y                     1.865721e+06\n",
      "std_pnl_5y                     2.075162e+06\n",
      "tot_cost_1y                    1.664479e+06\n",
      "tot_cost_2y                    2.976882e+06\n",
      "tot_cost_3y                    4.670119e+06\n",
      "tot_cost_4y                    5.732706e+06\n",
      "tot_cost_5y                    7.597865e+06\n",
      "tot_pnl_1y                    -5.716333e+07\n",
      "tot_pnl_2y                    -4.119550e+07\n",
      "tot_pnl_3y                    -2.939425e+07\n",
      "tot_pnl_4y                    -8.734091e+06\n",
      "tot_pnl_5y                     3.359222e+07\n"
     ]
    },
    {
     "name": "stderr",
     "output_type": "stream",
     "text": [
      "<ipython-input-4-c311d01fe14d>:121: SettingWithCopyWarning: \n",
      "A value is trying to be set on a copy of a slice from a DataFrame\n",
      "\n",
      "See the caveats in the documentation: https://pandas.pydata.org/pandas-docs/stable/user_guide/indexing.html#returning-a-view-versus-a-copy\n",
      "  xdf[(asset, 'pos')][-1] = 0\n",
      "<ipython-input-4-c311d01fe14d>:127: SettingWithCopyWarning: \n",
      "A value is trying to be set on a copy of a slice from a DataFrame.\n",
      "Try using .loc[row_indexer,col_indexer] = value instead\n",
      "\n",
      "See the caveats in the documentation: https://pandas.pydata.org/pandas-docs/stable/user_guide/indexing.html#returning-a-view-versus-a-copy\n",
      "  tdf['date'] = xdf['date']\n",
      "<ipython-input-4-c311d01fe14d>:128: SettingWithCopyWarning: \n",
      "A value is trying to be set on a copy of a slice from a DataFrame.\n",
      "Try using .loc[row_indexer,col_indexer] = value instead\n",
      "\n",
      "See the caveats in the documentation: https://pandas.pydata.org/pandas-docs/stable/user_guide/indexing.html#returning-a-view-versus-a-copy\n",
      "  tdf['min_id'] = xdf['min_id']\n"
     ]
    },
    {
     "data": {
      "image/png": "[encoded data removed]",
      "text/plain": [
       "<Figure size 432x288 with 1 Axes>"
      ]
     },
     "metadata": {
      "needs_background": "light"
     },
     "output_type": "display_data"
    },
    {
     "name": "stdout",
     "output_type": "stream",
     "text": [
      "                    cu-al-zn-ni-pb-sn_43m_18_6_6_0\n",
      "avg_pnl_1y                            3.125835e+04\n",
      "avg_pnl_2y                            9.478989e+04\n",
      "avg_pnl_3y                            8.012141e+04\n",
      "avg_pnl_4y                            1.032892e+05\n",
      "avg_pnl_5y                            1.320457e+05\n",
      "max_dd_period_1y                     -1.390000e+02\n",
      "max_dd_period_2y                     -1.390000e+02\n",
      "max_dd_period_3y                     -1.390000e+02\n",
      "max_dd_period_4y                     -1.390000e+02\n",
      "max_dd_period_5y                     -1.390000e+02\n",
      "max_drawdown_1y                      -3.046793e+07\n",
      "max_drawdown_2y                      -3.046793e+07\n",
      "max_drawdown_3y                      -3.046793e+07\n",
      "max_drawdown_4y                      -3.046793e+07\n",
      "max_drawdown_5y                      -3.046793e+07\n",
      "num_days_1y                           2.410000e+02\n",
      "num_days_2y                           4.850000e+02\n",
      "num_days_3y                           7.280000e+02\n",
      "num_days_4y                           9.720000e+02\n",
      "num_days_5y                           1.215000e+03\n",
      "profit_dd_ratio_1y                    2.472522e-01\n",
      "profit_dd_ratio_2y                    1.508901e+00\n",
      "profit_dd_ratio_3y                    1.914419e+00\n",
      "profit_dd_ratio_4y                    3.295174e+00\n",
      "profit_dd_ratio_5y                    5.265718e+00\n",
      "sharp_ratio_1y                        3.368276e-01\n",
      "sharp_ratio_2y                        1.097719e+00\n",
      "sharp_ratio_3y                        1.003394e+00\n",
      "sharp_ratio_4y                        1.320436e+00\n",
      "sharp_ratio_5y                        1.641876e+00\n",
      "std_pnl_1y                            1.473190e+06\n",
      "std_pnl_2y                            1.370791e+06\n",
      "std_pnl_3y                            1.267585e+06\n",
      "std_pnl_4y                            1.241761e+06\n",
      "std_pnl_5y                            1.276686e+06\n",
      "tot_cost_1y                           5.885722e+06\n",
      "tot_cost_2y                           1.132246e+07\n",
      "tot_cost_3y                           1.724368e+07\n",
      "tot_cost_4y                           2.290960e+07\n",
      "tot_cost_5y                           3.026752e+07\n",
      "tot_pnl_1y                            7.533263e+06\n",
      "tot_pnl_2y                            4.597310e+07\n",
      "tot_pnl_3y                            5.832838e+07\n",
      "tot_pnl_4y                            1.003971e+08\n",
      "tot_pnl_5y                            1.604355e+08\n"
     ]
    },
    {
     "name": "stderr",
     "output_type": "stream",
     "text": [
      "C:\\Anaconda3\\lib\\site-packages\\numpy\\core\\_asarray.py:83: VisibleDeprecationWarning: Creating an ndarray from ragged nested sequences (which is a list-or-tuple of lists-or-tuples-or ndarrays with different lengths or shapes) is deprecated. If you meant to do this, you must specify 'dtype=object' when creating the ndarray\n",
      "  return array(a, dtype, copy=False, order=order)\n",
      "<ipython-input-4-c311d01fe14d>:121: SettingWithCopyWarning: \n",
      "A value is trying to be set on a copy of a slice from a DataFrame\n",
      "\n",
      "See the caveats in the documentation: https://pandas.pydata.org/pandas-docs/stable/user_guide/indexing.html#returning-a-view-versus-a-copy\n",
      "  xdf[(asset, 'pos')][-1] = 0\n",
      "<ipython-input-4-c311d01fe14d>:127: SettingWithCopyWarning: \n",
      "A value is trying to be set on a copy of a slice from a DataFrame.\n",
      "Try using .loc[row_indexer,col_indexer] = value instead\n",
      "\n",
      "See the caveats in the documentation: https://pandas.pydata.org/pandas-docs/stable/user_guide/indexing.html#returning-a-view-versus-a-copy\n",
      "  tdf['date'] = xdf['date']\n",
      "<ipython-input-4-c311d01fe14d>:128: SettingWithCopyWarning: \n",
      "A value is trying to be set on a copy of a slice from a DataFrame.\n",
      "Try using .loc[row_indexer,col_indexer] = value instead\n",
      "\n",
      "See the caveats in the documentation: https://pandas.pydata.org/pandas-docs/stable/user_guide/indexing.html#returning-a-view-versus-a-copy\n",
      "  tdf['min_id'] = xdf['min_id']\n"
     ]
    },
    {
     "data": {
      "image/png": "[encoded data removed]",
      "text/plain": [
       "<Figure size 432x288 with 1 Axes>"
      ]
     },
     "metadata": {
      "needs_background": "light"
     },
     "output_type": "display_data"
    },
    {
     "name": "stdout",
     "output_type": "stream",
     "text": [
      "                    cu-al-zn-ni-pb-sn_43m_15_1_6_0\n",
      "avg_pnl_1y                           -8.106109e+04\n",
      "avg_pnl_2y                            2.099545e+04\n",
      "avg_pnl_3y                            3.914848e+04\n",
      "avg_pnl_4y                            8.211713e+04\n",
      "avg_pnl_5y                            8.818667e+04\n",
      "max_dd_period_1y                     -2.760000e+02\n",
      "max_dd_period_2y                     -2.760000e+02\n",
      "max_dd_period_3y                     -2.760000e+02\n",
      "max_dd_period_4y                     -2.760000e+02\n",
      "max_dd_period_5y                     -2.760000e+02\n",
      "max_drawdown_1y                      -3.771374e+07\n",
      "max_drawdown_2y                      -3.771374e+07\n",
      "max_drawdown_3y                      -3.771374e+07\n",
      "max_drawdown_4y                      -3.771374e+07\n",
      "max_drawdown_5y                      -3.771374e+07\n",
      "num_days_1y                           2.410000e+02\n",
      "num_days_2y                           4.850000e+02\n",
      "num_days_3y                           7.280000e+02\n",
      "num_days_4y                           9.720000e+02\n",
      "num_days_5y                           1.215000e+03\n",
      "profit_dd_ratio_1y                   -5.180001e-01\n",
      "profit_dd_ratio_2y                    2.700021e-01\n",
      "profit_dd_ratio_3y                    7.556952e-01\n",
      "profit_dd_ratio_4y                    2.116413e+00\n",
      "profit_dd_ratio_5y                    2.841054e+00\n",
      "sharp_ratio_1y                       -9.528182e-01\n",
      "sharp_ratio_2y                        2.596666e-01\n",
      "sharp_ratio_3y                        5.224489e-01\n",
      "sharp_ratio_4y                        1.093041e+00\n",
      "sharp_ratio_5y                        1.164501e+00\n",
      "std_pnl_1y                            1.350525e+06\n",
      "std_pnl_2y                            1.283540e+06\n",
      "std_pnl_3y                            1.189519e+06\n",
      "std_pnl_4y                            1.192608e+06\n",
      "std_pnl_5y                            1.202163e+06\n",
      "tot_cost_1y                           7.387452e+06\n",
      "tot_cost_2y                           1.415000e+07\n",
      "tot_cost_3y                           2.136893e+07\n",
      "tot_cost_4y                           2.850579e+07\n",
      "tot_cost_5y                           3.763200e+07\n",
      "tot_pnl_1y                           -1.953572e+07\n",
      "tot_pnl_2y                            1.018279e+07\n",
      "tot_pnl_3y                            2.850010e+07\n",
      "tot_pnl_4y                            7.981785e+07\n",
      "tot_pnl_5y                            1.071468e+08\n"
     ]
    },
    {
     "name": "stderr",
     "output_type": "stream",
     "text": [
      "C:\\Anaconda3\\lib\\site-packages\\numpy\\core\\_asarray.py:83: VisibleDeprecationWarning: Creating an ndarray from ragged nested sequences (which is a list-or-tuple of lists-or-tuples-or ndarrays with different lengths or shapes) is deprecated. If you meant to do this, you must specify 'dtype=object' when creating the ndarray\n",
      "  return array(a, dtype, copy=False, order=order)\n",
      "<ipython-input-4-c311d01fe14d>:121: SettingWithCopyWarning: \n",
      "A value is trying to be set on a copy of a slice from a DataFrame\n",
      "\n",
      "See the caveats in the documentation: https://pandas.pydata.org/pandas-docs/stable/user_guide/indexing.html#returning-a-view-versus-a-copy\n",
      "  xdf[(asset, 'pos')][-1] = 0\n",
      "<ipython-input-4-c311d01fe14d>:127: SettingWithCopyWarning: \n",
      "A value is trying to be set on a copy of a slice from a DataFrame.\n",
      "Try using .loc[row_indexer,col_indexer] = value instead\n",
      "\n",
      "See the caveats in the documentation: https://pandas.pydata.org/pandas-docs/stable/user_guide/indexing.html#returning-a-view-versus-a-copy\n",
      "  tdf['date'] = xdf['date']\n",
      "<ipython-input-4-c311d01fe14d>:128: SettingWithCopyWarning: \n",
      "A value is trying to be set on a copy of a slice from a DataFrame.\n",
      "Try using .loc[row_indexer,col_indexer] = value instead\n",
      "\n",
      "See the caveats in the documentation: https://pandas.pydata.org/pandas-docs/stable/user_guide/indexing.html#returning-a-view-versus-a-copy\n",
      "  tdf['min_id'] = xdf['min_id']\n"
     ]
    },
    {
     "data": {
      "image/png": "[encoded data removed]",
      "text/plain": [
       "<Figure size 432x288 with 1 Axes>"
      ]
     },
     "metadata": {
      "needs_background": "light"
     },
     "output_type": "display_data"
    },
    {
     "name": "stdout",
     "output_type": "stream",
     "text": [
      "                    cu-al-zn-ni-pb-sn_43m_24_3_3_0\n",
      "avg_pnl_1y                           -6.726976e+04\n",
      "avg_pnl_2y                            6.319628e+04\n",
      "avg_pnl_3y                            5.790182e+04\n",
      "avg_pnl_4y                            9.252083e+04\n",
      "avg_pnl_5y                            1.170237e+05\n",
      "max_dd_period_1y                     -2.950000e+02\n",
      "max_dd_period_2y                     -2.950000e+02\n",
      "max_dd_period_3y                     -2.950000e+02\n",
      "max_dd_period_4y                     -2.950000e+02\n",
      "max_dd_period_5y                     -2.950000e+02\n",
      "max_drawdown_1y                      -3.748163e+07\n",
      "max_drawdown_2y                      -3.748163e+07\n",
      "max_drawdown_3y                      -3.748163e+07\n",
      "max_drawdown_4y                      -3.748163e+07\n",
      "max_drawdown_5y                      -3.748163e+07\n",
      "num_days_1y                           2.410000e+02\n",
      "num_days_2y                           4.850000e+02\n",
      "num_days_3y                           7.280000e+02\n",
      "num_days_4y                           9.720000e+02\n",
      "num_days_5y                           1.215000e+03\n",
      "profit_dd_ratio_1y                   -4.325323e-01\n",
      "profit_dd_ratio_2y                    8.177393e-01\n",
      "profit_dd_ratio_3y                    1.124618e+00\n",
      "profit_dd_ratio_4y                    2.399315e+00\n",
      "profit_dd_ratio_5y                    3.793427e+00\n",
      "sharp_ratio_1y                       -7.029146e-01\n",
      "sharp_ratio_2y                        7.047738e-01\n",
      "sharp_ratio_3y                        6.899960e-01\n",
      "sharp_ratio_4y                        1.131034e+00\n",
      "sharp_ratio_5y                        1.404596e+00\n",
      "std_pnl_1y                            1.519209e+06\n",
      "std_pnl_2y                            1.423450e+06\n",
      "std_pnl_3y                            1.332128e+06\n",
      "std_pnl_4y                            1.298566e+06\n",
      "std_pnl_5y                            1.322582e+06\n",
      "tot_cost_1y                           7.641518e+06\n",
      "tot_cost_2y                           1.424388e+07\n",
      "tot_cost_3y                           2.173023e+07\n",
      "tot_cost_4y                           2.837290e+07\n",
      "tot_cost_5y                           3.700718e+07\n",
      "tot_pnl_1y                           -1.621201e+07\n",
      "tot_pnl_2y                            3.065020e+07\n",
      "tot_pnl_3y                            4.215252e+07\n",
      "tot_pnl_4y                            8.993024e+07\n",
      "tot_pnl_5y                            1.421838e+08\n"
     ]
    },
    {
     "name": "stderr",
     "output_type": "stream",
     "text": [
      "C:\\Anaconda3\\lib\\site-packages\\numpy\\core\\_asarray.py:83: VisibleDeprecationWarning: Creating an ndarray from ragged nested sequences (which is a list-or-tuple of lists-or-tuples-or ndarrays with different lengths or shapes) is deprecated. If you meant to do this, you must specify 'dtype=object' when creating the ndarray\n",
      "  return array(a, dtype, copy=False, order=order)\n",
      "<ipython-input-4-c311d01fe14d>:121: SettingWithCopyWarning: \n",
      "A value is trying to be set on a copy of a slice from a DataFrame\n",
      "\n",
      "See the caveats in the documentation: https://pandas.pydata.org/pandas-docs/stable/user_guide/indexing.html#returning-a-view-versus-a-copy\n",
      "  xdf[(asset, 'pos')][-1] = 0\n",
      "<ipython-input-4-c311d01fe14d>:127: SettingWithCopyWarning: \n",
      "A value is trying to be set on a copy of a slice from a DataFrame.\n",
      "Try using .loc[row_indexer,col_indexer] = value instead\n",
      "\n",
      "See the caveats in the documentation: https://pandas.pydata.org/pandas-docs/stable/user_guide/indexing.html#returning-a-view-versus-a-copy\n",
      "  tdf['date'] = xdf['date']\n",
      "<ipython-input-4-c311d01fe14d>:128: SettingWithCopyWarning: \n",
      "A value is trying to be set on a copy of a slice from a DataFrame.\n",
      "Try using .loc[row_indexer,col_indexer] = value instead\n",
      "\n",
      "See the caveats in the documentation: https://pandas.pydata.org/pandas-docs/stable/user_guide/indexing.html#returning-a-view-versus-a-copy\n",
      "  tdf['min_id'] = xdf['min_id']\n"
     ]
    },
    {
     "data": {
      "image/png": "[encoded data removed]",
      "text/plain": [
       "<Figure size 432x288 with 1 Axes>"
      ]
     },
     "metadata": {
      "needs_background": "light"
     },
     "output_type": "display_data"
    },
    {
     "name": "stderr",
     "output_type": "stream",
     "text": [
      "C:\\Anaconda3\\lib\\site-packages\\numpy\\core\\_asarray.py:83: VisibleDeprecationWarning: Creating an ndarray from ragged nested sequences (which is a list-or-tuple of lists-or-tuples-or ndarrays with different lengths or shapes) is deprecated. If you meant to do this, you must specify 'dtype=object' when creating the ndarray\n",
      "  return array(a, dtype, copy=False, order=order)\n"
     ]
    },
    {
     "name": "stdout",
     "output_type": "stream",
     "text": [
      "                    cu-al-zn-ni_85m_9_1_6_0\n",
      "avg_pnl_1y                     2.884624e+04\n",
      "avg_pnl_2y                     8.580415e+04\n",
      "avg_pnl_3y                     8.151156e+04\n",
      "avg_pnl_4y                     7.243429e+04\n",
      "avg_pnl_5y                     8.382515e+04\n",
      "max_dd_period_1y              -3.600000e+01\n",
      "max_dd_period_2y              -1.550000e+02\n",
      "max_dd_period_3y              -1.550000e+02\n",
      "max_dd_period_4y              -8.300000e+01\n",
      "max_dd_period_5y              -8.300000e+01\n",
      "max_drawdown_1y               -1.334120e+07\n",
      "max_drawdown_2y               -1.372176e+07\n",
      "max_drawdown_3y               -1.372176e+07\n",
      "max_drawdown_4y               -1.846424e+07\n",
      "max_drawdown_5y               -1.846424e+07\n",
      "num_days_1y                    2.410000e+02\n",
      "num_days_2y                    4.850000e+02\n",
      "num_days_3y                    7.280000e+02\n",
      "num_days_4y                    9.720000e+02\n",
      "num_days_5y                    1.215000e+03\n",
      "profit_dd_ratio_1y             5.210882e-01\n",
      "profit_dd_ratio_2y             3.032776e+00\n",
      "profit_dd_ratio_3y             4.324550e+00\n",
      "profit_dd_ratio_4y             3.813107e+00\n",
      "profit_dd_ratio_5y             5.515934e+00\n",
      "sharp_ratio_1y                 3.824683e-01\n",
      "sharp_ratio_2y                 1.139076e+00\n",
      "sharp_ratio_3y                 1.171752e+00\n",
      "sharp_ratio_4y                 1.053832e+00\n",
      "sharp_ratio_5y                 1.221408e+00\n",
      "std_pnl_1y                     1.197275e+06\n",
      "std_pnl_2y                     1.195793e+06\n",
      "std_pnl_3y                     1.104292e+06\n",
      "std_pnl_4y                     1.091122e+06\n",
      "std_pnl_5y                     1.089466e+06\n",
      "tot_cost_1y                    6.503286e+06\n",
      "tot_cost_2y                    1.280738e+07\n",
      "tot_cost_3y                    1.965945e+07\n",
      "tot_cost_4y                    2.633698e+07\n",
      "tot_cost_5y                    3.426493e+07\n",
      "tot_pnl_1y                     6.951944e+06\n",
      "tot_pnl_2y                     4.161501e+07\n",
      "tot_pnl_3y                     5.934042e+07\n",
      "tot_pnl_4y                     7.040613e+07\n",
      "tot_pnl_5y                     1.018476e+08\n"
     ]
    },
    {
     "name": "stderr",
     "output_type": "stream",
     "text": [
      "<ipython-input-4-c311d01fe14d>:121: SettingWithCopyWarning: \n",
      "A value is trying to be set on a copy of a slice from a DataFrame\n",
      "\n",
      "See the caveats in the documentation: https://pandas.pydata.org/pandas-docs/stable/user_guide/indexing.html#returning-a-view-versus-a-copy\n",
      "  xdf[(asset, 'pos')][-1] = 0\n",
      "<ipython-input-4-c311d01fe14d>:127: SettingWithCopyWarning: \n",
      "A value is trying to be set on a copy of a slice from a DataFrame.\n",
      "Try using .loc[row_indexer,col_indexer] = value instead\n",
      "\n",
      "See the caveats in the documentation: https://pandas.pydata.org/pandas-docs/stable/user_guide/indexing.html#returning-a-view-versus-a-copy\n",
      "  tdf['date'] = xdf['date']\n",
      "<ipython-input-4-c311d01fe14d>:128: SettingWithCopyWarning: \n",
      "A value is trying to be set on a copy of a slice from a DataFrame.\n",
      "Try using .loc[row_indexer,col_indexer] = value instead\n",
      "\n",
      "See the caveats in the documentation: https://pandas.pydata.org/pandas-docs/stable/user_guide/indexing.html#returning-a-view-versus-a-copy\n",
      "  tdf['min_id'] = xdf['min_id']\n"
     ]
    },
    {
     "data": {
      "image/png": "[encoded data removed]",
      "text/plain": [
       "<Figure size 432x288 with 1 Axes>"
      ]
     },
     "metadata": {
      "needs_background": "light"
     },
     "output_type": "display_data"
    },
    {
     "name": "stderr",
     "output_type": "stream",
     "text": [
      "C:\\Anaconda3\\lib\\site-packages\\numpy\\core\\_asarray.py:83: VisibleDeprecationWarning: Creating an ndarray from ragged nested sequences (which is a list-or-tuple of lists-or-tuples-or ndarrays with different lengths or shapes) is deprecated. If you meant to do this, you must specify 'dtype=object' when creating the ndarray\n",
      "  return array(a, dtype, copy=False, order=order)\n"
     ]
    },
    {
     "name": "stdout",
     "output_type": "stream",
     "text": [
      "                    l-pp-v-TA-MA_s3_18_1_3_0\n",
      "avg_pnl_1y                      3.950064e+04\n",
      "avg_pnl_2y                      7.029814e+04\n",
      "avg_pnl_3y                      6.599217e+04\n",
      "avg_pnl_4y                      4.038161e+04\n",
      "avg_pnl_5y                      3.671022e+04\n",
      "max_dd_period_1y               -1.830000e+02\n",
      "max_dd_period_2y               -1.500000e+02\n",
      "max_dd_period_3y               -1.500000e+02\n",
      "max_dd_period_4y               -4.780000e+02\n",
      "max_dd_period_5y               -5.980000e+02\n",
      "max_drawdown_1y                -1.337387e+07\n",
      "max_drawdown_2y                -1.612851e+07\n",
      "max_drawdown_3y                -1.612851e+07\n",
      "max_drawdown_4y                -2.248353e+07\n",
      "max_drawdown_5y                -2.953081e+07\n",
      "num_days_1y                     2.410000e+02\n",
      "num_days_2y                     4.850000e+02\n",
      "num_days_3y                     7.280000e+02\n",
      "num_days_4y                     9.720000e+02\n",
      "num_days_5y                     1.215000e+03\n",
      "profit_dd_ratio_1y              7.118102e-01\n",
      "profit_dd_ratio_2y              2.113934e+00\n",
      "profit_dd_ratio_3y              2.978719e+00\n",
      "profit_dd_ratio_4y              1.745763e+00\n",
      "profit_dd_ratio_5y              1.510386e+00\n",
      "sharp_ratio_1y                  4.019917e-01\n",
      "sharp_ratio_2y                  7.602574e-01\n",
      "sharp_ratio_3y                  7.408994e-01\n",
      "sharp_ratio_4y                  4.685741e-01\n",
      "sharp_ratio_5y                  4.208341e-01\n",
      "std_pnl_1y                      1.559866e+06\n",
      "std_pnl_2y                      1.467856e+06\n",
      "std_pnl_3y                      1.413948e+06\n",
      "std_pnl_4y                      1.368061e+06\n",
      "std_pnl_5y                      1.384766e+06\n",
      "tot_cost_1y                     6.875702e+06\n",
      "tot_cost_2y                     1.276505e+07\n",
      "tot_cost_3y                     1.658153e+07\n",
      "tot_cost_4y                     2.089042e+07\n",
      "tot_cost_5y                     2.496538e+07\n",
      "tot_pnl_1y                      9.519655e+06\n",
      "tot_pnl_2y                      3.409460e+07\n",
      "tot_pnl_3y                      4.804230e+07\n",
      "tot_pnl_4y                      3.925092e+07\n",
      "tot_pnl_5y                      4.460292e+07\n"
     ]
    },
    {
     "name": "stderr",
     "output_type": "stream",
     "text": [
      "<ipython-input-4-c311d01fe14d>:121: SettingWithCopyWarning: \n",
      "A value is trying to be set on a copy of a slice from a DataFrame\n",
      "\n",
      "See the caveats in the documentation: https://pandas.pydata.org/pandas-docs/stable/user_guide/indexing.html#returning-a-view-versus-a-copy\n",
      "  xdf[(asset, 'pos')][-1] = 0\n",
      "<ipython-input-4-c311d01fe14d>:127: SettingWithCopyWarning: \n",
      "A value is trying to be set on a copy of a slice from a DataFrame.\n",
      "Try using .loc[row_indexer,col_indexer] = value instead\n",
      "\n",
      "See the caveats in the documentation: https://pandas.pydata.org/pandas-docs/stable/user_guide/indexing.html#returning-a-view-versus-a-copy\n",
      "  tdf['date'] = xdf['date']\n",
      "<ipython-input-4-c311d01fe14d>:128: SettingWithCopyWarning: \n",
      "A value is trying to be set on a copy of a slice from a DataFrame.\n",
      "Try using .loc[row_indexer,col_indexer] = value instead\n",
      "\n",
      "See the caveats in the documentation: https://pandas.pydata.org/pandas-docs/stable/user_guide/indexing.html#returning-a-view-versus-a-copy\n",
      "  tdf['min_id'] = xdf['min_id']\n"
     ]
    },
    {
     "data": {
      "image/png": "[encoded data removed]",
      "text/plain": [
       "<Figure size 432x288 with 1 Axes>"
      ]
     },
     "metadata": {
      "needs_background": "light"
     },
     "output_type": "display_data"
    },
    {
     "name": "stderr",
     "output_type": "stream",
     "text": [
      "C:\\Anaconda3\\lib\\site-packages\\numpy\\core\\_asarray.py:83: VisibleDeprecationWarning: Creating an ndarray from ragged nested sequences (which is a list-or-tuple of lists-or-tuples-or ndarrays with different lengths or shapes) is deprecated. If you meant to do this, you must specify 'dtype=object' when creating the ndarray\n",
      "  return array(a, dtype, copy=False, order=order)\n"
     ]
    },
    {
     "name": "stdout",
     "output_type": "stream",
     "text": [
      "                    l-pp-v-TA-MA_s3_60_1_3_0\n",
      "avg_pnl_1y                      1.025973e+05\n",
      "avg_pnl_2y                      1.212175e+05\n",
      "avg_pnl_3y                      9.357827e+04\n",
      "avg_pnl_4y                      5.544049e+04\n",
      "avg_pnl_5y                      6.227404e+04\n",
      "max_dd_period_1y               -5.100000e+01\n",
      "max_dd_period_2y               -1.070000e+02\n",
      "max_dd_period_3y               -1.180000e+02\n",
      "max_dd_period_4y               -4.830000e+02\n",
      "max_dd_period_5y               -6.080000e+02\n",
      "max_drawdown_1y                -1.580999e+07\n",
      "max_drawdown_2y                -1.841275e+07\n",
      "max_drawdown_3y                -1.912360e+07\n",
      "max_drawdown_4y                -3.231297e+07\n",
      "max_drawdown_5y                -4.077541e+07\n",
      "num_days_1y                     2.410000e+02\n",
      "num_days_2y                     4.850000e+02\n",
      "num_days_3y                     7.280000e+02\n",
      "num_days_4y                     9.720000e+02\n",
      "num_days_5y                     1.215000e+03\n",
      "profit_dd_ratio_1y              1.563945e+00\n",
      "profit_dd_ratio_2y              3.192923e+00\n",
      "profit_dd_ratio_3y              3.562351e+00\n",
      "profit_dd_ratio_4y              1.667694e+00\n",
      "profit_dd_ratio_5y              1.855603e+00\n",
      "sharp_ratio_1y                  9.954231e-01\n",
      "sharp_ratio_2y                  1.257057e+00\n",
      "sharp_ratio_3y                  1.012232e+00\n",
      "sharp_ratio_4y                  6.207846e-01\n",
      "sharp_ratio_5y                  6.706862e-01\n",
      "std_pnl_1y                      1.636171e+06\n",
      "std_pnl_2y                      1.530772e+06\n",
      "std_pnl_3y                      1.467558e+06\n",
      "std_pnl_4y                      1.417707e+06\n",
      "std_pnl_5y                      1.473968e+06\n",
      "tot_cost_1y                     2.839887e+06\n",
      "tot_cost_2y                     6.048404e+06\n",
      "tot_cost_3y                     8.511071e+06\n",
      "tot_cost_4y                     1.076059e+07\n",
      "tot_cost_5y                     1.307872e+07\n",
      "tot_pnl_1y                      2.472596e+07\n",
      "tot_pnl_2y                      5.879047e+07\n",
      "tot_pnl_3y                      6.812498e+07\n",
      "tot_pnl_4y                      5.388816e+07\n",
      "tot_pnl_5y                      7.566296e+07\n"
     ]
    },
    {
     "name": "stderr",
     "output_type": "stream",
     "text": [
      "<ipython-input-4-c311d01fe14d>:121: SettingWithCopyWarning: \n",
      "A value is trying to be set on a copy of a slice from a DataFrame\n",
      "\n",
      "See the caveats in the documentation: https://pandas.pydata.org/pandas-docs/stable/user_guide/indexing.html#returning-a-view-versus-a-copy\n",
      "  xdf[(asset, 'pos')][-1] = 0\n",
      "<ipython-input-4-c311d01fe14d>:127: SettingWithCopyWarning: \n",
      "A value is trying to be set on a copy of a slice from a DataFrame.\n",
      "Try using .loc[row_indexer,col_indexer] = value instead\n",
      "\n",
      "See the caveats in the documentation: https://pandas.pydata.org/pandas-docs/stable/user_guide/indexing.html#returning-a-view-versus-a-copy\n",
      "  tdf['date'] = xdf['date']\n",
      "<ipython-input-4-c311d01fe14d>:128: SettingWithCopyWarning: \n",
      "A value is trying to be set on a copy of a slice from a DataFrame.\n",
      "Try using .loc[row_indexer,col_indexer] = value instead\n",
      "\n",
      "See the caveats in the documentation: https://pandas.pydata.org/pandas-docs/stable/user_guide/indexing.html#returning-a-view-versus-a-copy\n",
      "  tdf['min_id'] = xdf['min_id']\n"
     ]
    },
    {
     "data": {
      "image/png": "[encoded data removed]",
      "text/plain": [
       "<Figure size 432x288 with 1 Axes>"
      ]
     },
     "metadata": {
      "needs_background": "light"
     },
     "output_type": "display_data"
    },
    {
     "name": "stderr",
     "output_type": "stream",
     "text": [
      "C:\\Anaconda3\\lib\\site-packages\\numpy\\core\\_asarray.py:83: VisibleDeprecationWarning: Creating an ndarray from ragged nested sequences (which is a list-or-tuple of lists-or-tuples-or ndarrays with different lengths or shapes) is deprecated. If you meant to do this, you must specify 'dtype=object' when creating the ndarray\n",
      "  return array(a, dtype, copy=False, order=order)\n"
     ]
    },
    {
     "name": "stdout",
     "output_type": "stream",
     "text": [
      "                    l-pp-v-TA-MA_s2_24_1_3_0\n",
      "avg_pnl_1y                     -5.600094e+04\n",
      "avg_pnl_2y                      2.227039e+04\n",
      "avg_pnl_3y                      4.562131e+04\n",
      "avg_pnl_4y                      3.056744e+04\n",
      "avg_pnl_5y                      3.976434e+04\n",
      "max_dd_period_1y               -3.320000e+02\n",
      "max_dd_period_2y               -3.320000e+02\n",
      "max_dd_period_3y               -3.320000e+02\n",
      "max_dd_period_4y               -3.320000e+02\n",
      "max_dd_period_5y               -3.320000e+02\n",
      "max_drawdown_1y                -3.163774e+07\n",
      "max_drawdown_2y                -3.163774e+07\n",
      "max_drawdown_3y                -3.163774e+07\n",
      "max_drawdown_4y                -3.163774e+07\n",
      "max_drawdown_5y                -3.163774e+07\n",
      "num_days_1y                     2.410000e+02\n",
      "num_days_2y                     4.850000e+02\n",
      "num_days_3y                     7.280000e+02\n",
      "num_days_4y                     9.720000e+02\n",
      "num_days_5y                     1.215000e+03\n",
      "profit_dd_ratio_1y             -4.265863e-01\n",
      "profit_dd_ratio_2y              3.414005e-01\n",
      "profit_dd_ratio_3y              1.049769e+00\n",
      "profit_dd_ratio_4y              9.391173e-01\n",
      "profit_dd_ratio_5y              1.527090e+00\n",
      "sharp_ratio_1y                 -5.078618e-01\n",
      "sharp_ratio_2y                  2.165862e-01\n",
      "sharp_ratio_3y                  4.639375e-01\n",
      "sharp_ratio_4y                  3.225276e-01\n",
      "sharp_ratio_5y                  4.185295e-01\n",
      "std_pnl_1y                      1.750451e+06\n",
      "std_pnl_2y                      1.632290e+06\n",
      "std_pnl_3y                      1.561020e+06\n",
      "std_pnl_4y                      1.504501e+06\n",
      "std_pnl_5y                      1.508232e+06\n",
      "tot_cost_1y                     4.108278e+06\n",
      "tot_cost_2y                     7.542229e+06\n",
      "tot_cost_3y                     9.348502e+06\n",
      "tot_cost_4y                     1.100366e+07\n",
      "tot_cost_5y                     1.306227e+07\n",
      "tot_pnl_1y                     -1.349623e+07\n",
      "tot_pnl_2y                      1.080114e+07\n",
      "tot_pnl_3y                      3.321231e+07\n",
      "tot_pnl_4y                      2.971155e+07\n",
      "tot_pnl_5y                      4.831368e+07\n"
     ]
    },
    {
     "name": "stderr",
     "output_type": "stream",
     "text": [
      "<ipython-input-4-c311d01fe14d>:121: SettingWithCopyWarning: \n",
      "A value is trying to be set on a copy of a slice from a DataFrame\n",
      "\n",
      "See the caveats in the documentation: https://pandas.pydata.org/pandas-docs/stable/user_guide/indexing.html#returning-a-view-versus-a-copy\n",
      "  xdf[(asset, 'pos')][-1] = 0\n",
      "<ipython-input-4-c311d01fe14d>:127: SettingWithCopyWarning: \n",
      "A value is trying to be set on a copy of a slice from a DataFrame.\n",
      "Try using .loc[row_indexer,col_indexer] = value instead\n",
      "\n",
      "See the caveats in the documentation: https://pandas.pydata.org/pandas-docs/stable/user_guide/indexing.html#returning-a-view-versus-a-copy\n",
      "  tdf['date'] = xdf['date']\n",
      "<ipython-input-4-c311d01fe14d>:128: SettingWithCopyWarning: \n",
      "A value is trying to be set on a copy of a slice from a DataFrame.\n",
      "Try using .loc[row_indexer,col_indexer] = value instead\n",
      "\n",
      "See the caveats in the documentation: https://pandas.pydata.org/pandas-docs/stable/user_guide/indexing.html#returning-a-view-versus-a-copy\n",
      "  tdf['min_id'] = xdf['min_id']\n"
     ]
    },
    {
     "data": {
      "image/png": "[encoded data removed]",
      "text/plain": [
       "<Figure size 432x288 with 1 Axes>"
      ]
     },
     "metadata": {
      "needs_background": "light"
     },
     "output_type": "display_data"
    },
    {
     "name": "stderr",
     "output_type": "stream",
     "text": [
      "C:\\Anaconda3\\lib\\site-packages\\numpy\\core\\_asarray.py:83: VisibleDeprecationWarning: Creating an ndarray from ragged nested sequences (which is a list-or-tuple of lists-or-tuples-or ndarrays with different lengths or shapes) is deprecated. If you meant to do this, you must specify 'dtype=object' when creating the ndarray\n",
      "  return array(a, dtype, copy=False, order=order)\n"
     ]
    },
    {
     "name": "stdout",
     "output_type": "stream",
     "text": [
      "                    m-RM-y-p-OI_s4_72_3_3_1\n",
      "avg_pnl_1y                    -4.371028e+03\n",
      "avg_pnl_2y                     1.411737e+04\n",
      "avg_pnl_3y                     1.849343e+04\n",
      "avg_pnl_4y                     1.742413e+04\n",
      "avg_pnl_5y                     1.773563e+04\n",
      "max_dd_period_1y              -1.700000e+02\n",
      "max_dd_period_2y              -1.700000e+02\n",
      "max_dd_period_3y              -1.700000e+02\n",
      "max_dd_period_4y              -1.700000e+02\n",
      "max_dd_period_5y              -1.700000e+02\n",
      "max_drawdown_1y               -6.458211e+06\n",
      "max_drawdown_2y               -6.458211e+06\n",
      "max_drawdown_3y               -6.458211e+06\n",
      "max_drawdown_4y               -6.458211e+06\n",
      "max_drawdown_5y               -6.458211e+06\n",
      "num_days_1y                    2.400000e+02\n",
      "num_days_2y                    4.840000e+02\n",
      "num_days_3y                    7.270000e+02\n",
      "num_days_4y                    9.710000e+02\n",
      "num_days_5y                    1.214000e+03\n",
      "profit_dd_ratio_1y            -1.624361e-01\n",
      "profit_dd_ratio_2y             1.058003e+00\n",
      "profit_dd_ratio_3y             2.081803e+00\n",
      "profit_dd_ratio_4y             2.619740e+00\n",
      "profit_dd_ratio_5y             3.333904e+00\n",
      "sharp_ratio_1y                -2.730608e-01\n",
      "sharp_ratio_2y                 8.293350e-01\n",
      "sharp_ratio_3y                 1.128202e+00\n",
      "sharp_ratio_4y                 1.094272e+00\n",
      "sharp_ratio_5y                 1.157444e+00\n",
      "std_pnl_1y                     2.541116e+05\n",
      "std_pnl_2y                     2.702241e+05\n",
      "std_pnl_3y                     2.602141e+05\n",
      "std_pnl_4y                     2.527705e+05\n",
      "std_pnl_5y                     2.432467e+05\n",
      "tot_cost_1y                    3.576216e+05\n",
      "tot_cost_2y                    9.779452e+05\n",
      "tot_cost_3y                    1.630345e+06\n",
      "tot_cost_4y                    2.153128e+06\n",
      "tot_cost_5y                    2.507283e+06\n",
      "tot_pnl_1y                    -1.049047e+06\n",
      "tot_pnl_2y                     6.832806e+06\n",
      "tot_pnl_3y                     1.344472e+07\n",
      "tot_pnl_4y                     1.691883e+07\n",
      "tot_pnl_5y                     2.153106e+07\n"
     ]
    },
    {
     "name": "stderr",
     "output_type": "stream",
     "text": [
      "<ipython-input-4-c311d01fe14d>:121: SettingWithCopyWarning: \n",
      "A value is trying to be set on a copy of a slice from a DataFrame\n",
      "\n",
      "See the caveats in the documentation: https://pandas.pydata.org/pandas-docs/stable/user_guide/indexing.html#returning-a-view-versus-a-copy\n",
      "  xdf[(asset, 'pos')][-1] = 0\n",
      "<ipython-input-4-c311d01fe14d>:127: SettingWithCopyWarning: \n",
      "A value is trying to be set on a copy of a slice from a DataFrame.\n",
      "Try using .loc[row_indexer,col_indexer] = value instead\n",
      "\n",
      "See the caveats in the documentation: https://pandas.pydata.org/pandas-docs/stable/user_guide/indexing.html#returning-a-view-versus-a-copy\n",
      "  tdf['date'] = xdf['date']\n",
      "<ipython-input-4-c311d01fe14d>:128: SettingWithCopyWarning: \n",
      "A value is trying to be set on a copy of a slice from a DataFrame.\n",
      "Try using .loc[row_indexer,col_indexer] = value instead\n",
      "\n",
      "See the caveats in the documentation: https://pandas.pydata.org/pandas-docs/stable/user_guide/indexing.html#returning-a-view-versus-a-copy\n",
      "  tdf['min_id'] = xdf['min_id']\n"
     ]
    },
    {
     "data": {
      "image/png": "[encoded data removed]",
      "text/plain": [
       "<Figure size 432x288 with 1 Axes>"
      ]
     },
     "metadata": {
      "needs_background": "light"
     },
     "output_type": "display_data"
    },
    {
     "name": "stderr",
     "output_type": "stream",
     "text": [
      "C:\\Anaconda3\\lib\\site-packages\\numpy\\core\\_asarray.py:83: VisibleDeprecationWarning: Creating an ndarray from ragged nested sequences (which is a list-or-tuple of lists-or-tuples-or ndarrays with different lengths or shapes) is deprecated. If you meant to do this, you must specify 'dtype=object' when creating the ndarray\n",
      "  return array(a, dtype, copy=False, order=order)\n"
     ]
    },
    {
     "name": "stdout",
     "output_type": "stream",
     "text": [
      "                    m-RM-y-p-OI_s4_24_12_6_1\n",
      "avg_pnl_1y                     -1.116059e+04\n",
      "avg_pnl_2y                      1.187429e+04\n",
      "avg_pnl_3y                      8.849751e+03\n",
      "avg_pnl_4y                      1.302639e+04\n",
      "avg_pnl_5y                      1.210805e+04\n",
      "max_dd_period_1y               -2.180000e+02\n",
      "max_dd_period_2y               -2.180000e+02\n",
      "max_dd_period_3y               -2.180000e+02\n",
      "max_dd_period_4y               -2.180000e+02\n",
      "max_dd_period_5y               -2.180000e+02\n",
      "max_drawdown_1y                -6.349795e+06\n",
      "max_drawdown_2y                -6.349795e+06\n",
      "max_drawdown_3y                -6.349795e+06\n",
      "max_drawdown_4y                -6.349795e+06\n",
      "max_drawdown_5y                -6.349795e+06\n",
      "num_days_1y                     2.400000e+02\n",
      "num_days_2y                     4.840000e+02\n",
      "num_days_3y                     7.270000e+02\n",
      "num_days_4y                     9.710000e+02\n",
      "num_days_5y                     1.214000e+03\n",
      "profit_dd_ratio_1y             -4.218312e-01\n",
      "profit_dd_ratio_2y              9.050933e-01\n",
      "profit_dd_ratio_3y              1.013225e+00\n",
      "profit_dd_ratio_4y              1.991974e+00\n",
      "profit_dd_ratio_5y              2.314905e+00\n",
      "sharp_ratio_1y                 -6.482238e-01\n",
      "sharp_ratio_2y                  7.365184e-01\n",
      "sharp_ratio_3y                  5.766291e-01\n",
      "sharp_ratio_4y                  8.785728e-01\n",
      "sharp_ratio_5y                  8.434886e-01\n",
      "std_pnl_1y                      2.733144e+05\n",
      "std_pnl_2y                      2.559318e+05\n",
      "std_pnl_3y                      2.436322e+05\n",
      "std_pnl_4y                      2.353676e+05\n",
      "std_pnl_5y                      2.278742e+05\n",
      "tot_cost_1y                     3.821680e+05\n",
      "tot_cost_2y                     9.850952e+05\n",
      "tot_cost_3y                     1.641892e+06\n",
      "tot_cost_4y                     2.269428e+06\n",
      "tot_cost_5y                     2.663194e+06\n",
      "tot_pnl_1y                     -2.678542e+06\n",
      "tot_pnl_2y                      5.747157e+06\n",
      "tot_pnl_3y                      6.433769e+06\n",
      "tot_pnl_4y                      1.264863e+07\n",
      "tot_pnl_5y                      1.469917e+07\n"
     ]
    },
    {
     "name": "stderr",
     "output_type": "stream",
     "text": [
      "<ipython-input-4-c311d01fe14d>:121: SettingWithCopyWarning: \n",
      "A value is trying to be set on a copy of a slice from a DataFrame\n",
      "\n",
      "See the caveats in the documentation: https://pandas.pydata.org/pandas-docs/stable/user_guide/indexing.html#returning-a-view-versus-a-copy\n",
      "  xdf[(asset, 'pos')][-1] = 0\n",
      "<ipython-input-4-c311d01fe14d>:127: SettingWithCopyWarning: \n",
      "A value is trying to be set on a copy of a slice from a DataFrame.\n",
      "Try using .loc[row_indexer,col_indexer] = value instead\n",
      "\n",
      "See the caveats in the documentation: https://pandas.pydata.org/pandas-docs/stable/user_guide/indexing.html#returning-a-view-versus-a-copy\n",
      "  tdf['date'] = xdf['date']\n",
      "<ipython-input-4-c311d01fe14d>:128: SettingWithCopyWarning: \n",
      "A value is trying to be set on a copy of a slice from a DataFrame.\n",
      "Try using .loc[row_indexer,col_indexer] = value instead\n",
      "\n",
      "See the caveats in the documentation: https://pandas.pydata.org/pandas-docs/stable/user_guide/indexing.html#returning-a-view-versus-a-copy\n",
      "  tdf['min_id'] = xdf['min_id']\n"
     ]
    },
    {
     "data": {
      "image/png": "[encoded data removed]",
      "text/plain": [
       "<Figure size 432x288 with 1 Axes>"
      ]
     },
     "metadata": {
      "needs_background": "light"
     },
     "output_type": "display_data"
    },
    {
     "name": "stderr",
     "output_type": "stream",
     "text": [
      "C:\\Anaconda3\\lib\\site-packages\\numpy\\core\\_asarray.py:83: VisibleDeprecationWarning: Creating an ndarray from ragged nested sequences (which is a list-or-tuple of lists-or-tuples-or ndarrays with different lengths or shapes) is deprecated. If you meant to do this, you must specify 'dtype=object' when creating the ndarray\n",
      "  return array(a, dtype, copy=False, order=order)\n"
     ]
    },
    {
     "name": "stdout",
     "output_type": "stream",
     "text": [
      "                    m-RM-y-p-OI_s2_18_1_3_1\n",
      "avg_pnl_1y                    -1.108107e+03\n",
      "avg_pnl_2y                     1.063797e+04\n",
      "avg_pnl_3y                     8.727334e+03\n",
      "avg_pnl_4y                     1.109965e+04\n",
      "avg_pnl_5y                     1.015555e+04\n",
      "max_dd_period_1y              -2.020000e+02\n",
      "max_dd_period_2y              -2.020000e+02\n",
      "max_dd_period_3y              -2.020000e+02\n",
      "max_dd_period_4y              -2.020000e+02\n",
      "max_dd_period_5y              -2.020000e+02\n",
      "max_drawdown_1y               -2.827847e+06\n",
      "max_drawdown_2y               -2.827847e+06\n",
      "max_drawdown_3y               -2.827847e+06\n",
      "max_drawdown_4y               -2.827847e+06\n",
      "max_drawdown_5y               -2.827847e+06\n",
      "num_days_1y                    2.400000e+02\n",
      "num_days_2y                    4.840000e+02\n",
      "num_days_3y                    7.270000e+02\n",
      "num_days_4y                    9.710000e+02\n",
      "num_days_5y                    1.214000e+03\n",
      "profit_dd_ratio_1y            -9.404526e-02\n",
      "profit_dd_ratio_2y             1.820741e+00\n",
      "profit_dd_ratio_3y             2.243676e+00\n",
      "profit_dd_ratio_4y             3.811295e+00\n",
      "profit_dd_ratio_5y             4.359799e+00\n",
      "sharp_ratio_1y                -1.125619e-01\n",
      "sharp_ratio_2y                 1.004445e+00\n",
      "sharp_ratio_3y                 8.129012e-01\n",
      "sharp_ratio_4y                 1.076128e+00\n",
      "sharp_ratio_5y                 1.009024e+00\n",
      "std_pnl_1y                     1.562753e+05\n",
      "std_pnl_2y                     1.681252e+05\n",
      "std_pnl_3y                     1.704292e+05\n",
      "std_pnl_4y                     1.637366e+05\n",
      "std_pnl_5y                     1.597726e+05\n",
      "tot_cost_1y                    2.681056e+05\n",
      "tot_cost_2y                    7.671608e+05\n",
      "tot_cost_3y                    1.344481e+06\n",
      "tot_cost_4y                    1.801297e+06\n",
      "tot_cost_5y                    2.130938e+06\n",
      "tot_pnl_1y                    -2.659456e+05\n",
      "tot_pnl_2y                     5.148776e+06\n",
      "tot_pnl_3y                     6.344772e+06\n",
      "tot_pnl_4y                     1.077776e+07\n",
      "tot_pnl_5y                     1.232884e+07\n"
     ]
    },
    {
     "name": "stderr",
     "output_type": "stream",
     "text": [
      "<ipython-input-4-c311d01fe14d>:121: SettingWithCopyWarning: \n",
      "A value is trying to be set on a copy of a slice from a DataFrame\n",
      "\n",
      "See the caveats in the documentation: https://pandas.pydata.org/pandas-docs/stable/user_guide/indexing.html#returning-a-view-versus-a-copy\n",
      "  xdf[(asset, 'pos')][-1] = 0\n",
      "<ipython-input-4-c311d01fe14d>:127: SettingWithCopyWarning: \n",
      "A value is trying to be set on a copy of a slice from a DataFrame.\n",
      "Try using .loc[row_indexer,col_indexer] = value instead\n",
      "\n",
      "See the caveats in the documentation: https://pandas.pydata.org/pandas-docs/stable/user_guide/indexing.html#returning-a-view-versus-a-copy\n",
      "  tdf['date'] = xdf['date']\n",
      "<ipython-input-4-c311d01fe14d>:128: SettingWithCopyWarning: \n",
      "A value is trying to be set on a copy of a slice from a DataFrame.\n",
      "Try using .loc[row_indexer,col_indexer] = value instead\n",
      "\n",
      "See the caveats in the documentation: https://pandas.pydata.org/pandas-docs/stable/user_guide/indexing.html#returning-a-view-versus-a-copy\n",
      "  tdf['min_id'] = xdf['min_id']\n"
     ]
    },
    {
     "data": {
      "image/png": "[encoded data removed]",
      "text/plain": [
       "<Figure size 432x288 with 1 Axes>"
      ]
     },
     "metadata": {
      "needs_background": "light"
     },
     "output_type": "display_data"
    },
    {
     "name": "stdout",
     "output_type": "stream",
     "text": [
      "                    m-RM-y-p-OI_s1_18_1_3_1\n",
      "avg_pnl_1y                     3.659509e+03\n",
      "avg_pnl_2y                     9.622475e+03\n",
      "avg_pnl_3y                     9.538647e+03\n",
      "avg_pnl_4y                     8.507394e+03\n",
      "avg_pnl_5y                     8.422808e+03\n",
      "max_dd_period_1y              -1.410000e+02\n",
      "max_dd_period_2y              -1.410000e+02\n",
      "max_dd_period_3y              -1.410000e+02\n",
      "max_dd_period_4y              -1.410000e+02\n",
      "max_dd_period_5y              -1.410000e+02\n",
      "max_drawdown_1y               -2.277390e+06\n",
      "max_drawdown_2y               -2.277390e+06\n",
      "max_drawdown_3y               -2.277390e+06\n",
      "max_drawdown_4y               -2.277390e+06\n",
      "max_drawdown_5y               -2.277390e+06\n",
      "num_days_1y                    2.400000e+02\n",
      "num_days_2y                    4.840000e+02\n",
      "num_days_3y                    7.270000e+02\n",
      "num_days_4y                    9.710000e+02\n",
      "num_days_5y                    1.214000e+03\n",
      "profit_dd_ratio_1y             3.856530e-01\n",
      "profit_dd_ratio_2y             2.045007e+00\n",
      "profit_dd_ratio_3y             3.044976e+00\n",
      "profit_dd_ratio_4y             3.627258e+00\n",
      "profit_dd_ratio_5y             4.489916e+00\n",
      "sharp_ratio_1y                 4.557521e-01\n",
      "sharp_ratio_2y                 1.190138e+00\n",
      "sharp_ratio_3y                 1.241944e+00\n",
      "sharp_ratio_4y                 1.131839e+00\n",
      "sharp_ratio_5y                 1.147811e+00\n",
      "std_pnl_1y                     1.274660e+05\n",
      "std_pnl_2y                     1.283481e+05\n",
      "std_pnl_3y                     1.219228e+05\n",
      "std_pnl_4y                     1.193197e+05\n",
      "std_pnl_5y                     1.164895e+05\n",
      "tot_cost_1y                    1.136508e+05\n",
      "tot_cost_2y                    2.924812e+05\n",
      "tot_cost_3y                    4.858876e+05\n",
      "tot_cost_4y                    6.533572e+05\n",
      "tot_cost_5y                    7.666960e+05\n",
      "tot_pnl_1y                     8.782822e+05\n",
      "tot_pnl_2y                     4.657278e+06\n",
      "tot_pnl_3y                     6.934596e+06\n",
      "tot_pnl_4y                     8.260680e+06\n",
      "tot_pnl_5y                     1.022529e+07\n"
     ]
    }
   ],
   "source": [
    "pnl_tenors = ['1y', '2y', '3y', '4y', '5y']\n",
    "\n",
    "split_dict = {'s1': [300, 2100],\n",
    "             's2': [300, 1500, 2100],\n",
    "             's3': [300, 1500, 1930, 2100],\n",
    "             's4': [300, 1500, 1630, 1930, 2100],}\n",
    "\n",
    "run_list = [[['rb', 'hc', 'i', 'j'], '14m', 30, 12, 3, 1],\\\n",
    "            [['rb', 'hc', 'i', 'j'], '85m', 18, 1, 3, 1],\\\n",
    "            [['rb', 'hc', 'i', 'j', 'jm'], 's3', 84, 6, 6, 1],\\\n",
    "            [['rb', 'i', 'j', 'jm'], 's2', 36, 12, 3, 1],\\\n",
    "            [['rb', 'hc', 'i', 'j'], '14m', 30, 12, 3, 0],\\\n",
    "            [['rb', 'hc', 'i', 'j'], '85m', 18, 1, 3, 0],\\\n",
    "            [['rb', 'hc', 'i', 'j', 'jm'], 's3', 84, 6, 6, 0],\\\n",
    "            [['rb', 'i', 'j', 'jm'], 's2', 36, 12, 3, 0],\\\n",
    "            [['ZC', 'jm', 'ru', 'FG'], 's3', 84, 6, 6, 0],\\\n",
    "            [['ZC', 'jm', 'ru', 'FG'], 's2', 48, 12, 6, 0],\\\n",
    "            [['ZC', 'jm', 'ru', 'FG'], 's2', 84, 1, 3, 0], \\\n",
    "            [['cu', 'al', 'zn', 'ni', 'pb', 'sn'], '43m', 18, 6, 6, 0],\\\n",
    "            [['cu', 'al', 'zn', 'ni', 'pb', 'sn'], '43m', 15, 1, 6, 0],\\\n",
    "            [['cu', 'al', 'zn', 'ni', 'pb', 'sn'], '43m', 24, 3, 3, 0],\\\n",
    "            [['cu', 'al', 'zn', 'ni'], '85m', 9, 1, 6, 0],\\\n",
    "            [['l', 'pp', 'v', 'TA', 'MA'], 's3', 18, 1, 3, 0],\\\n",
    "            [['l', 'pp', 'v', 'TA', 'MA'], 's3', 60, 1, 3, 0],\\\n",
    "            [['l', 'pp', 'v', 'TA', 'MA'], 's2', 24, 1, 3, 0],\\\n",
    "            [['m', 'RM', 'y', 'p', 'OI'], 's4', 72, 3, 3, 1],\\\n",
    "            [['m', 'RM', 'y', 'p', 'OI'], 's4', 24, 12, 6, 1],\\\n",
    "            [['m', 'RM', 'y', 'p', 'OI'], 's2', 18, 1, 3, 1],\\\n",
    "            [['m', 'RM', 'y', 'p', 'OI'], 's1', 18, 1, 3, 1],\\\n",
    "           ]\n",
    "res = {}\n",
    "save_loc = \"C:\\\\dev\\\\data\\\\cost_04_\"\n",
    "stats_list = []\n",
    "cum_list = []\n",
    "for idx, (prod_list, freq, win, ma_win, rebal, pos_std) in enumerate(run_list):\n",
    "    run_args = {}\n",
    "    run_args['cost_ratio'] = 0.4\n",
    "    run_args['product_list'] = prod_list\n",
    "    run_args['bar_freq'] = freq\n",
    "    run_args['win'] = win\n",
    "    run_args['ma_win'] = ma_win\n",
    "    run_args['prefix'] = save_loc\n",
    "    if 's' in freq:\n",
    "        run_args['std_win'] = int(freq[1:])*20\n",
    "    else:\n",
    "        if int(freq[:-1]) <= 30:\n",
    "            run_args['std_win'] = 180\n",
    "        else:\n",
    "            run_args['std_win'] = 120\n",
    "    run_args['rebal_freq'] = rebal\n",
    "    run_args['pos_std'] = pos_std\n",
    "    res = run_bktest(run_args)\n",
    "    res['cum_pnl'].plot()\n",
    "    plt.show()\n",
    "    cum_list.append(res['cum_pnl'])\n",
    "    print(res['pnl_stats'])\n",
    "    stats_list.append(res['pnl_stats'])\n",
    "\n",
    "cum_df = pd.concat(cum_list, axis = 1)\n",
    "cum_df.to_csv(save_loc + 'xsmom_pnl.csv')\n",
    "stats_df = pd.concat(stats_list, axis = 1)\n",
    "stats_df.T.to_csv(save_loc + 'xsmom_stats.csv')\n"
   ]
  },
  {
   "cell_type": "code",
   "execution_count": 46,
   "metadata": {},
   "outputs": [
    {
     "name": "stdout",
     "output_type": "stream",
     "text": [
      "10\n",
      "                           date  min_id  (jm, open)  (jm, open)  (jm, high)  \\\n",
      "datetime                                                                      \n",
      "2015-11-02 00:00:00  2015-11-02   600.0         NaN         NaN         NaN   \n",
      "2015-11-02 00:01:00  2015-11-02   601.0         NaN         NaN         NaN   \n",
      "2015-11-02 00:02:00  2015-11-02   602.0         NaN         NaN         NaN   \n",
      "2015-11-02 00:03:00  2015-11-02   603.0         NaN         NaN         NaN   \n",
      "2015-11-02 00:04:00  2015-11-02   604.0         NaN         NaN         NaN   \n",
      "...                         ...     ...         ...         ...         ...   \n",
      "2020-06-24 23:55:00  2020-06-24   555.0         NaN         NaN         NaN   \n",
      "2020-06-24 23:56:00  2020-06-24   556.0         NaN         NaN         NaN   \n",
      "2020-06-24 23:57:00  2020-06-24   557.0         NaN         NaN         NaN   \n",
      "2020-06-24 23:58:00  2020-06-24   558.0         NaN         NaN         NaN   \n",
      "2020-06-24 23:59:00  2020-06-24   559.0         NaN         NaN         NaN   \n",
      "\n",
      "                     (jm, high)  (jm, low)  (jm, low)  (jm, close)  \\\n",
      "datetime                                                             \n",
      "2015-11-02 00:00:00         NaN        NaN        NaN          NaN   \n",
      "2015-11-02 00:01:00         NaN        NaN        NaN          NaN   \n",
      "2015-11-02 00:02:00         NaN        NaN        NaN          NaN   \n",
      "2015-11-02 00:03:00         NaN        NaN        NaN          NaN   \n",
      "2015-11-02 00:04:00         NaN        NaN        NaN          NaN   \n",
      "...                         ...        ...        ...          ...   \n",
      "2020-06-24 23:55:00         NaN        NaN        NaN          NaN   \n",
      "2020-06-24 23:56:00         NaN        NaN        NaN          NaN   \n",
      "2020-06-24 23:57:00         NaN        NaN        NaN          NaN   \n",
      "2020-06-24 23:58:00         NaN        NaN        NaN          NaN   \n",
      "2020-06-24 23:59:00         NaN        NaN        NaN          NaN   \n",
      "\n",
      "                     (jm, close)  (jm, volume)  (jm, volume)  \\\n",
      "datetime                                                       \n",
      "2015-11-02 00:00:00          NaN           NaN           NaN   \n",
      "2015-11-02 00:01:00          NaN           NaN           NaN   \n",
      "2015-11-02 00:02:00          NaN           NaN           NaN   \n",
      "2015-11-02 00:03:00          NaN           NaN           NaN   \n",
      "2015-11-02 00:04:00          NaN           NaN           NaN   \n",
      "...                          ...           ...           ...   \n",
      "2020-06-24 23:55:00          NaN           NaN           NaN   \n",
      "2020-06-24 23:56:00          NaN           NaN           NaN   \n",
      "2020-06-24 23:57:00          NaN           NaN           NaN   \n",
      "2020-06-24 23:58:00          NaN           NaN           NaN   \n",
      "2020-06-24 23:59:00          NaN           NaN           NaN   \n",
      "\n",
      "                     (jm, openInterest)  (jm, openInterest) (jm, contract)  \\\n",
      "datetime                                                                     \n",
      "2015-11-02 00:00:00                 NaN                 NaN            NaN   \n",
      "2015-11-02 00:01:00                 NaN                 NaN            NaN   \n",
      "2015-11-02 00:02:00                 NaN                 NaN            NaN   \n",
      "2015-11-02 00:03:00                 NaN                 NaN            NaN   \n",
      "2015-11-02 00:04:00                 NaN                 NaN            NaN   \n",
      "...                                 ...                 ...            ...   \n",
      "2020-06-24 23:55:00                 NaN                 NaN            NaN   \n",
      "2020-06-24 23:56:00                 NaN                 NaN            NaN   \n",
      "2020-06-24 23:57:00                 NaN                 NaN            NaN   \n",
      "2020-06-24 23:58:00                 NaN                 NaN            NaN   \n",
      "2020-06-24 23:59:00                 NaN                 NaN            NaN   \n",
      "\n",
      "                    (jm, contract)  (jm, shift)  (jm, shift)  \n",
      "datetime                                                      \n",
      "2015-11-02 00:00:00            NaN          NaN          NaN  \n",
      "2015-11-02 00:01:00            NaN          NaN          NaN  \n",
      "2015-11-02 00:02:00            NaN          NaN          NaN  \n",
      "2015-11-02 00:03:00            NaN          NaN          NaN  \n",
      "2015-11-02 00:04:00            NaN          NaN          NaN  \n",
      "...                            ...          ...          ...  \n",
      "2020-06-24 23:55:00            NaN          NaN          NaN  \n",
      "2020-06-24 23:56:00            NaN          NaN          NaN  \n",
      "2020-06-24 23:57:00            NaN          NaN          NaN  \n",
      "2020-06-24 23:58:00            NaN          NaN          NaN  \n",
      "2020-06-24 23:59:00            NaN          NaN          NaN  \n",
      "\n",
      "[505140 rows x 18 columns]\n",
      "Index([                'date',               'min_id',         ('jm', 'open'),\n",
      "               ('jm', 'open'),         ('jm', 'high'),         ('jm', 'high'),\n",
      "                ('jm', 'low'),          ('jm', 'low'),        ('jm', 'close'),\n",
      "              ('jm', 'close'),       ('jm', 'volume'),       ('jm', 'volume'),\n",
      "       ('jm', 'openInterest'), ('jm', 'openInterest'),     ('jm', 'contract'),\n",
      "           ('jm', 'contract'),        ('jm', 'shift'),        ('jm', 'shift')],\n",
      "      dtype='object')\n"
     ]
    },
    {
     "ename": "SpecificationError",
     "evalue": "nested renamer is not supported",
     "output_type": "error",
     "traceback": [
      "\u001b[1;31m---------------------------------------------------------------------------\u001b[0m",
      "\u001b[1;31mSpecificationError\u001b[0m                        Traceback (most recent call last)",
      "\u001b[1;32m<ipython-input-46-dc60eec98d7e>\u001b[0m in \u001b[0;36m<module>\u001b[1;34m\u001b[0m\n\u001b[0;32m      6\u001b[0m \u001b[0mprint\u001b[0m\u001b[1;33m(\u001b[0m\u001b[0mdf\u001b[0m\u001b[1;33m)\u001b[0m\u001b[1;33m\u001b[0m\u001b[1;33m\u001b[0m\u001b[0m\n\u001b[0;32m      7\u001b[0m \u001b[0mprint\u001b[0m\u001b[1;33m(\u001b[0m\u001b[0mdf\u001b[0m\u001b[1;33m.\u001b[0m\u001b[0mcolumns\u001b[0m\u001b[1;33m)\u001b[0m\u001b[1;33m\u001b[0m\u001b[1;33m\u001b[0m\u001b[0m\n\u001b[1;32m----> 8\u001b[1;33m \u001b[0mdf\u001b[0m \u001b[1;33m=\u001b[0m \u001b[0mdh\u001b[0m\u001b[1;33m.\u001b[0m\u001b[0mday_split1\u001b[0m\u001b[1;33m(\u001b[0m\u001b[0mdf\u001b[0m\u001b[1;33m,\u001b[0m \u001b[0msplit_dict\u001b[0m\u001b[1;33m[\u001b[0m\u001b[1;34m's3'\u001b[0m\u001b[1;33m]\u001b[0m\u001b[1;33m)\u001b[0m\u001b[1;33m\u001b[0m\u001b[1;33m\u001b[0m\u001b[0m\n\u001b[0m",
      "\u001b[1;32mC:/dev/pycmqlib3\\data_handler.py\u001b[0m in \u001b[0;36mday_split1\u001b[1;34m(df, minlist, index_col)\u001b[0m\n\u001b[0;32m    174\u001b[0m     \u001b[1;32mfor\u001b[0m \u001b[0midx\u001b[0m\u001b[1;33m,\u001b[0m \u001b[0mmid\u001b[0m \u001b[1;32min\u001b[0m \u001b[0menumerate\u001b[0m\u001b[1;33m(\u001b[0m\u001b[0mminlist\u001b[0m\u001b[1;33m)\u001b[0m\u001b[1;33m:\u001b[0m\u001b[1;33m\u001b[0m\u001b[1;33m\u001b[0m\u001b[0m\n\u001b[0;32m    175\u001b[0m         \u001b[0mdf\u001b[0m\u001b[1;33m.\u001b[0m\u001b[0mloc\u001b[0m\u001b[1;33m[\u001b[0m\u001b[0mdf\u001b[0m\u001b[1;33m[\u001b[0m\u001b[1;34m'min_id'\u001b[0m\u001b[1;33m]\u001b[0m\u001b[1;33m>=\u001b[0m\u001b[0mmid\u001b[0m\u001b[1;33m,\u001b[0m \u001b[1;34m'min_idx'\u001b[0m\u001b[1;33m]\u001b[0m \u001b[1;33m=\u001b[0m \u001b[0midx\u001b[0m \u001b[1;33m+\u001b[0m \u001b[1;36m1\u001b[0m\u001b[1;33m\u001b[0m\u001b[1;33m\u001b[0m\u001b[0m\n\u001b[1;32m--> 176\u001b[1;33m     \u001b[0mxdf\u001b[0m \u001b[1;33m=\u001b[0m \u001b[0mdf\u001b[0m\u001b[1;33m.\u001b[0m\u001b[0mgroupby\u001b[0m\u001b[1;33m(\u001b[0m\u001b[1;33m[\u001b[0m\u001b[0mdf\u001b[0m\u001b[1;33m[\u001b[0m\u001b[1;34m'date'\u001b[0m\u001b[1;33m]\u001b[0m\u001b[1;33m,\u001b[0m \u001b[0mdf\u001b[0m\u001b[1;33m[\u001b[0m\u001b[1;34m'min_idx'\u001b[0m\u001b[1;33m]\u001b[0m\u001b[1;33m]\u001b[0m\u001b[1;33m)\u001b[0m\u001b[1;33m.\u001b[0m\u001b[0maggregate\u001b[0m\u001b[1;33m(\u001b[0m\u001b[0mfunc_dict\u001b[0m\u001b[1;33m)\u001b[0m\u001b[1;33m\u001b[0m\u001b[1;33m\u001b[0m\u001b[0m\n\u001b[0m\u001b[0;32m    177\u001b[0m     \u001b[1;32mif\u001b[0m \u001b[1;34m'min_idx'\u001b[0m \u001b[1;32min\u001b[0m \u001b[0mxdf\u001b[0m\u001b[1;33m.\u001b[0m\u001b[0mcolumns\u001b[0m\u001b[1;33m:\u001b[0m\u001b[1;33m\u001b[0m\u001b[1;33m\u001b[0m\u001b[0m\n\u001b[0;32m    178\u001b[0m         \u001b[0mxdf\u001b[0m\u001b[1;33m.\u001b[0m\u001b[0mdrop\u001b[0m\u001b[1;33m(\u001b[0m\u001b[1;34m'min_idx'\u001b[0m\u001b[1;33m,\u001b[0m \u001b[0maxis\u001b[0m \u001b[1;33m=\u001b[0m \u001b[1;36m1\u001b[0m\u001b[1;33m,\u001b[0m \u001b[0minplace\u001b[0m\u001b[1;33m=\u001b[0m\u001b[1;32mTrue\u001b[0m\u001b[1;33m)\u001b[0m\u001b[1;33m\u001b[0m\u001b[1;33m\u001b[0m\u001b[0m\n",
      "\u001b[1;32m~\\AppData\\Roaming\\Python\\Python37\\site-packages\\pandas\\core\\groupby\\generic.py\u001b[0m in \u001b[0;36maggregate\u001b[1;34m(self, func, *args, **kwargs)\u001b[0m\n\u001b[0;32m    926\u001b[0m         \u001b[0mfunc\u001b[0m \u001b[1;33m=\u001b[0m \u001b[0m_maybe_mangle_lambdas\u001b[0m\u001b[1;33m(\u001b[0m\u001b[0mfunc\u001b[0m\u001b[1;33m)\u001b[0m\u001b[1;33m\u001b[0m\u001b[1;33m\u001b[0m\u001b[0m\n\u001b[0;32m    927\u001b[0m \u001b[1;33m\u001b[0m\u001b[0m\n\u001b[1;32m--> 928\u001b[1;33m         \u001b[0mresult\u001b[0m\u001b[1;33m,\u001b[0m \u001b[0mhow\u001b[0m \u001b[1;33m=\u001b[0m \u001b[0mself\u001b[0m\u001b[1;33m.\u001b[0m\u001b[0m_aggregate\u001b[0m\u001b[1;33m(\u001b[0m\u001b[0mfunc\u001b[0m\u001b[1;33m,\u001b[0m \u001b[1;33m*\u001b[0m\u001b[0margs\u001b[0m\u001b[1;33m,\u001b[0m \u001b[1;33m**\u001b[0m\u001b[0mkwargs\u001b[0m\u001b[1;33m)\u001b[0m\u001b[1;33m\u001b[0m\u001b[1;33m\u001b[0m\u001b[0m\n\u001b[0m\u001b[0;32m    929\u001b[0m         \u001b[1;32mif\u001b[0m \u001b[0mhow\u001b[0m \u001b[1;32mis\u001b[0m \u001b[1;32mNone\u001b[0m\u001b[1;33m:\u001b[0m\u001b[1;33m\u001b[0m\u001b[1;33m\u001b[0m\u001b[0m\n\u001b[0;32m    930\u001b[0m             \u001b[1;32mreturn\u001b[0m \u001b[0mresult\u001b[0m\u001b[1;33m\u001b[0m\u001b[1;33m\u001b[0m\u001b[0m\n",
      "\u001b[1;32m~\\AppData\\Roaming\\Python\\Python37\\site-packages\\pandas\\core\\base.py\u001b[0m in \u001b[0;36m_aggregate\u001b[1;34m(self, arg, *args, **kwargs)\u001b[0m\n\u001b[0;32m    355\u001b[0m                     \u001b[0mobj\u001b[0m\u001b[1;33m.\u001b[0m\u001b[0mcolumns\u001b[0m\u001b[1;33m.\u001b[0m\u001b[0mintersection\u001b[0m\u001b[1;33m(\u001b[0m\u001b[0mkeys\u001b[0m\u001b[1;33m)\u001b[0m\u001b[1;33m\u001b[0m\u001b[1;33m\u001b[0m\u001b[0m\n\u001b[0;32m    356\u001b[0m                 ) != len(keys):\n\u001b[1;32m--> 357\u001b[1;33m                     \u001b[1;32mraise\u001b[0m \u001b[0mSpecificationError\u001b[0m\u001b[1;33m(\u001b[0m\u001b[1;34m\"nested renamer is not supported\"\u001b[0m\u001b[1;33m)\u001b[0m\u001b[1;33m\u001b[0m\u001b[1;33m\u001b[0m\u001b[0m\n\u001b[0m\u001b[0;32m    358\u001b[0m \u001b[1;33m\u001b[0m\u001b[0m\n\u001b[0;32m    359\u001b[0m             \u001b[1;32mfrom\u001b[0m \u001b[0mpandas\u001b[0m\u001b[1;33m.\u001b[0m\u001b[0mcore\u001b[0m\u001b[1;33m.\u001b[0m\u001b[0mreshape\u001b[0m\u001b[1;33m.\u001b[0m\u001b[0mconcat\u001b[0m \u001b[1;32mimport\u001b[0m \u001b[0mconcat\u001b[0m\u001b[1;33m\u001b[0m\u001b[1;33m\u001b[0m\u001b[0m\n",
      "\u001b[1;31mSpecificationError\u001b[0m: nested renamer is not supported"
     ]
    }
   ],
   "source": []
  }
 ],
 "metadata": {
  "kernelspec": {
   "display_name": "Python 3",
   "language": "python",
   "name": "python3"
  },
  "language_info": {
   "codemirror_mode": {
    "name": "ipython",
    "version": 3
   },
   "file_extension": ".py",
   "mimetype": "text/x-python",
   "name": "python",
   "nbconvert_exporter": "python",
   "pygments_lexer": "ipython3",
   "version": "3.8.5"
  }
 },
 "nbformat": 4,
 "nbformat_minor": 2
}
