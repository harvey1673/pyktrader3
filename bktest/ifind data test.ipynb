{
 "cells": [
  {
   "cell_type": "code",
   "execution_count": 1,
   "metadata": {},
   "outputs": [
    {
     "data": {
      "text/plain": [
       "1"
      ]
     },
     "execution_count": 1,
     "metadata": {},
     "output_type": "execute_result"
    }
   ],
   "source": [
    "%matplotlib inline\n",
    "import os\n",
    "os.environ['PY3_PROD'] = '1'\n",
    "%load_ext autoreload\n",
    "%autoreload 2\n",
    "os.system('kinit')\n"
   ]
  },
  {
   "cell_type": "code",
   "execution_count": 2,
   "metadata": {},
   "outputs": [
    {
     "name": "stdout",
     "output_type": "stream",
     "text": [
      "C:\\Anaconda3\\Lib\\site-packages\\iFinDPy.pth\n"
     ]
    }
   ],
   "source": [
    "import iFinDPy as ifind\n"
   ]
  },
  {
   "cell_type": "code",
   "execution_count": 3,
   "metadata": {},
   "outputs": [
    {
     "data": {
      "text/plain": [
       "0"
      ]
     },
     "execution_count": 3,
     "metadata": {},
     "output_type": "execute_result"
    }
   ],
   "source": [
    "ifind.THS_iFinDLogin('tytz177','328582')\n",
    "# THS_iFinDLogout()\n"
   ]
  },
  {
   "cell_type": "code",
   "execution_count": 4,
   "metadata": {},
   "outputs": [
    {
     "data": {
      "text/plain": [
       "errorcode=0\n",
       "errmsg=\n",
       "data=     thscode  ths_open_price_stock ths_stock_short_name_stock  \\\n",
       "0  300033.SZ                 95.99                        同花顺   \n",
       "1  600030.SH                 21.70                       中信证券   \n",
       "\n",
       "   ths_close_price_stock  \n",
       "0                  95.08  \n",
       "1                  21.34  "
      ]
     },
     "execution_count": 4,
     "metadata": {},
     "output_type": "execute_result"
    }
   ],
   "source": [
    "ifind.THS_BD('300033.SZ,600030.SH','ths_open_price_stock;ths_stock_short_name_stock;ths_close_price_stock','2022-07-01,100,2022-08-03;;2022-07-01,100,2022-08-03')\n"
   ]
  },
  {
   "cell_type": "code",
   "execution_count": 129,
   "metadata": {},
   "outputs": [
    {
     "data": {
      "text/plain": [
       "errorcode=0\n",
       "errmsg=\n",
       "data=            time thscode  ths_pre_close_uss\n",
       "0     2010-07-01  AAPL.O             251.53\n",
       "1     2010-07-02  AAPL.O             248.48\n",
       "2     2010-07-03  AAPL.O             246.94\n",
       "3     2010-07-04  AAPL.O             246.94\n",
       "4     2010-07-05  AAPL.O             246.94\n",
       "...          ...     ...                ...\n",
       "4411  2022-07-29  AAPL.O             157.35\n",
       "4412  2022-07-30  AAPL.O             162.51\n",
       "4413  2022-07-31  AAPL.O             162.51\n",
       "4414  2022-08-01  AAPL.O             162.51\n",
       "4415  2022-08-02  AAPL.O             161.51\n",
       "\n",
       "[4416 rows x 3 columns]"
      ]
     },
     "execution_count": 129,
     "metadata": {},
     "output_type": "execute_result"
    }
   ],
   "source": [
    "ifind.THS_DS('AAPL.O','ths_pre_close_uss','100','Days:Alldays,Fill:-1,Interval:D','2010-07-01','2022-08-02',)\n"
   ]
  },
  {
   "cell_type": "code",
   "execution_count": 5,
   "metadata": {},
   "outputs": [
    {
     "data": {
      "text/plain": [
       "errorcode=-4210\n",
       "errmsg=error happen with input parameters, please have a check.\n",
       "data=None"
      ]
     },
     "execution_count": 5,
     "metadata": {},
     "output_type": "execute_result"
    }
   ],
   "source": [
    "#ifind.THS_HQ('@SB7V.NBT','open,high,low,close','Interval:D,CPS:1,baseDate:1900-01-01,fill:Omit','2011-07-01','2022-08-03')\n",
    "ifind.THS_HQ('@CL3H.CBT','open,high,low,close','Interval:D,CPS:1,baseDate:1900-01-01,fill:Omit','2011-01-01','2022-08-03')\n",
    "#ifind.THS_HQ('CU0101.SHF','open,high,low,close','Interval:D,CPS:1,baseDate:1900-01-01,fill:Omit','2000-07-01','2012-08-03')\n"
   ]
  },
  {
   "cell_type": "code",
   "execution_count": 13,
   "metadata": {},
   "outputs": [
    {
     "data": {
      "text/plain": [
       "errorcode=-4217\n",
       "errmsg=Permission denied for LME security\n",
       "data=None"
      ]
     },
     "execution_count": 13,
     "metadata": {},
     "output_type": "execute_result"
    }
   ],
   "source": [
    "#ifind.THS_HQ('@CL0W.NMX','open,high,low,close','Interval:D,CPS:1,baseDate:1900-01-01,fill:Omit','2011-01-01','2022-08-03')\n",
    "\n",
    "ifind.THS_HQ('03CAD.LME','open,high,low,close','Interval:D,CPS:1,baseDate:1900-01-01,fill:Omit','2011-01-01','2022-08-03')"
   ]
  },
  {
   "cell_type": "code",
   "execution_count": 130,
   "metadata": {},
   "outputs": [
    {
     "data": {
      "text/plain": [
       "errorcode=0\n",
       "errmsg=Success!\n",
       "data=                 time     thscode     open     high      low    close\n",
       "0    2022-08-03 09:30  CU2301.SHF  59250.0  59250.0  59250.0  59250.0\n",
       "1    2022-08-03 09:31  CU2301.SHF  59250.0  59250.0  59250.0  59250.0\n",
       "2    2022-08-03 09:32  CU2301.SHF  59220.0  59260.0  59220.0  59260.0\n",
       "3    2022-08-03 09:33  CU2301.SHF  59270.0  59290.0  59270.0  59290.0\n",
       "4    2022-08-03 09:34  CU2301.SHF  59260.0  59290.0  59250.0  59290.0\n",
       "..                ...         ...      ...      ...      ...      ...\n",
       "191  2022-08-03 14:56  CU2301.SHF  59260.0  59280.0  59240.0  59240.0\n",
       "192  2022-08-03 14:57  CU2301.SHF  59240.0  59250.0  59200.0  59250.0\n",
       "193  2022-08-03 14:58  CU2301.SHF  59190.0  59190.0  59180.0  59180.0\n",
       "194  2022-08-03 14:59  CU2301.SHF  59180.0  59230.0  59180.0  59190.0\n",
       "195  2022-08-03 15:00  CU2301.SHF  59200.0  59230.0  59180.0  59180.0\n",
       "\n",
       "[196 rows x 6 columns]"
      ]
     },
     "execution_count": 130,
     "metadata": {},
     "output_type": "execute_result"
    }
   ],
   "source": [
    "ifind.THS_HF('CU2301.SHF','open;high;low;close','CPS:no,baseDate:1900-01-01,Fill:Omit,Interval:1','2022-08-03 09:30:00','2022-08-03 15:30:00')\n"
   ]
  },
  {
   "cell_type": "code",
   "execution_count": 45,
   "metadata": {},
   "outputs": [
    {
     "name": "stdout",
     "output_type": "stream",
     "text": [
      "errorcode=0\n",
      "errmsg=Success!\n",
      "data=                  time     thscode    open    high     low   close     volume  \\\n",
      "0  2022-08-04 10:51:41  RB2210.SHF  4075.0  4085.0  4008.0  4063.0  1425629.0   \n",
      "\n",
      "   openInterest  latest  \n",
      "0     1814165.0  4016.0  \n"
     ]
    }
   ],
   "source": [
    "# 取同花顺和中信证券最新一笔的高开低现价数据\n",
    "ths_data = ifind.THS_RQ ('rb2210.shf','open;high;low;close;volume;openInterest;latest')\n",
    "print(ths_data)"
   ]
  },
  {
   "cell_type": "code",
   "execution_count": 46,
   "metadata": {
    "scrolled": true
   },
   "outputs": [
    {
     "name": "stdout",
     "output_type": "stream",
     "text": [
      "                     time    thscode   tradeDate tradeTime  preClose\n",
      "0     2010-12-10 09:15:03  300033.SZ  2010-12-10  09:15:03     38.18\n",
      "1     2010-12-10 09:15:08  300033.SZ  2010-12-10  09:15:08     38.18\n",
      "2     2010-12-10 09:15:12  300033.SZ  2010-12-10  09:15:12     38.18\n",
      "3     2010-12-10 09:16:59  300033.SZ  2010-12-10  09:16:59     38.18\n",
      "4     2010-12-10 09:20:29  300033.SZ  2010-12-10  09:20:29     38.18\n",
      "...                   ...        ...         ...       ...       ...\n",
      "1813  2010-12-10 14:59:52  300033.SZ  2010-12-10  14:59:52     38.18\n",
      "1814  2010-12-10 14:59:57  300033.SZ  2010-12-10  14:59:57     38.18\n",
      "1815  2010-12-10 15:00:25  300033.SZ  2010-12-10  15:00:25     38.18\n",
      "1816  2010-12-10 15:00:25  300033.SZ  2010-12-10  15:00:25     38.18\n",
      "1817  2010-12-10 15:00:25  300033.SZ  2010-12-10  15:00:25     38.18\n",
      "\n",
      "[1818 rows x 5 columns]\n"
     ]
    }
   ],
   "source": [
    "ths_data = ifind.THS_SS('300033.SZ','tradeDate;tradeTime;preClose','dataType:Original','2010-12-10 09:15:00','2010-12-10 15:15:00')\n",
    "print(ths_data.data)"
   ]
  },
  {
   "cell_type": "code",
   "execution_count": 6,
   "metadata": {},
   "outputs": [
    {
     "name": "stdout",
     "output_type": "stream",
     "text": [
      "OrderedDict([('errorcode', -4318), ('errmsg', 'sorry, your usage of data has exceeded this month.'), ('tables', []), ('inputParams', OrderedDict([('wt', 'json'), ('firstShow', ''), ('zb_str', 'S002837338'), ('zb_rtime', '0'), ('sdate', '20080101'), ('edate', '20190803')])), ('perf', 79), ('dataVol', 0)])\n"
     ]
    }
   ],
   "source": [
    "ths_data = ifind.THS_EDBQuery('S002837338','2008-01-01','2019-08-03')\n",
    "print(ths_data)"
   ]
  },
  {
   "cell_type": "code",
   "execution_count": null,
   "metadata": {},
   "outputs": [],
   "source": []
  },
  {
   "cell_type": "code",
   "execution_count": 35,
   "metadata": {},
   "outputs": [
    {
     "name": "stdout",
     "output_type": "stream",
     "text": [
      "errorcode=0\n",
      "errmsg=\n",
      "data=            DATE    THSCODE SECURITY_NAME\n",
      "0     2019/12/10  688399.SH          硕世生物\n",
      "1     2019/12/10  688389.SH          普门科技\n",
      "2     2019/12/10  688388.SH          嘉元科技\n",
      "3     2019/12/10  688369.SH          致远互联\n",
      "4     2019/12/10  688368.SH          晶丰明源\n",
      "...          ...        ...           ...\n",
      "3741  2019/12/10  000006.SZ          深振业A\n",
      "3742  2019/12/10  000005.SZ          世纪星源\n",
      "3743  2019/12/10  000004.SZ          国农科技\n",
      "3744  2019/12/10  000002.SZ           万科A\n",
      "3745  2019/12/10  000001.SZ          平安银行\n",
      "\n",
      "[3746 rows x 3 columns]\n"
     ]
    }
   ],
   "source": [
    "ths_data = ifind.THS_DP('block','2019-12-10;001005010','date:Y,thscode:Y,security_name:Y')\n",
    "print(ths_data)"
   ]
  },
  {
   "cell_type": "code",
   "execution_count": null,
   "metadata": {},
   "outputs": [],
   "source": []
  },
  {
   "cell_type": "code",
   "execution_count": 39,
   "metadata": {},
   "outputs": [
    {
     "data": {
      "text/plain": [
       "errorcode=0\n",
       "errmsg=\n",
       "data=          股票代码  股票简称  市盈率(pe)[20220803]\n",
       "0    000001.SZ  平安银行             4.5419\n",
       "1    000011.SZ  深物业A             6.7558\n",
       "2    000012.SZ   南玻A            13.3654\n",
       "3    000019.SZ  深粮控股            16.6459\n",
       "4    000021.SZ   深科技            19.0878\n",
       "..         ...   ...                ...\n",
       "950  838163.BJ  方大股份            17.0639\n",
       "951  838171.BJ  邦德股份            18.3315\n",
       "952  871245.BJ  威博液压            19.2666\n",
       "953  871970.BJ  大禹生物            14.5411\n",
       "954  873169.BJ  七丰精工            13.7494\n",
       "\n",
       "[955 rows x 3 columns]"
      ]
     },
     "execution_count": 39,
     "metadata": {},
     "output_type": "execute_result"
    }
   ],
   "source": [
    "ifind.THS_WC('低市盈率','stock')\n"
   ]
  },
  {
   "cell_type": "code",
   "execution_count": 38,
   "metadata": {},
   "outputs": [
    {
     "name": "stdout",
     "output_type": "stream",
     "text": [
      "OrderedDict([('tables', [OrderedDict([('table', OrderedDict([('thscode', ['000159.SZ']), ('thsname', ['国际实业'])]))]), OrderedDict([('table', OrderedDict([('thscode', ['000723.SZ']), ('thsname', ['美锦能源'])]))]), OrderedDict([('table', OrderedDict([('thscode', ['600408.SH']), ('thsname', ['安泰集团'])]))]), OrderedDict([('table', OrderedDict([('thscode', ['600721.SH']), ('thsname', ['百花医药'])]))]), OrderedDict([('table', OrderedDict([('thscode', ['600740.SH']), ('thsname', ['山西焦化'])]))]), OrderedDict([('table', OrderedDict([('thscode', ['600792.SH']), ('thsname', ['云煤能源'])]))]), OrderedDict([('table', OrderedDict([('thscode', ['600997.SH']), ('thsname', ['开滦股份'])]))]), OrderedDict([('table', OrderedDict([('thscode', ['601011.SH']), ('thsname', ['宝泰隆'])]))]), OrderedDict([('table', OrderedDict([('thscode', ['601015.SH']), ('thsname', ['陕西黑猫'])]))]), OrderedDict([('table', OrderedDict([('thscode', ['603113.SH']), ('thsname', ['金能科技'])]))])]), ('dataVol', 10), ('perf', 23), ('errorcode', 0), ('errormsg', '')])\n"
     ]
    }
   ],
   "source": [
    "res = ifind.THS_Special_StockLink('商品焦炭','thscode;thsname')\n",
    "print(res)\n",
    "\n",
    "# THS_realTimeValuation(codelist,\n",
    "#                       'onlyLastest:0;beginTime:2020-08-10 09:15:00;endTime:2020-08-10 15:15:00',\n",
    "#                       'changeRatioValuation:Y,realTimeValuation:Y,Deviation30TDays:Y',\n",
    "#                       'onlyLastest:0;beginTime:2020-08-10 09:15:00;endTime:2020-08-10 15:15:00')"
   ]
  },
  {
   "cell_type": "code",
   "execution_count": 41,
   "metadata": {},
   "outputs": [
    {
     "name": "stdout",
     "output_type": "stream",
     "text": [
      "{'errorcode': 0, 'errmsg': '', 'tables': {'QuotesDataStat': {'limit': 150000000, 'ratio': '0.0275%', 'usage': 41296}, 'BasicDataStat': {'limit': 5000000, 'ratio': '0.2257%', 'usage': 11283}, 'EDBDataStat': {'limit': 5000000, 'ratio': '0.0032%', 'usage': 158}, 'SpecialDataStat': {'limit': 20000, 'ratio': '0%', 'usage': 0}, 'noticeData': {'limit': 1000000, 'ratio': '0%', 'usage': 0}, 'noticeDownLoadStat': {'limit': 500, 'ratio': '0%', 'usage': 0}}, 'datatype': [], 'inputParams': {}, 'perf': 16, 'dataVol': 0}\n"
     ]
    }
   ],
   "source": [
    "res = ifind.THS_DataStatistics()\n",
    "print(res)"
   ]
  },
  {
   "cell_type": "code",
   "execution_count": 37,
   "metadata": {},
   "outputs": [
    {
     "name": "stdout",
     "output_type": "stream",
     "text": [
      "{'errorcode': 0, 'errmsg': '', 'tables': {'QuotesDataStat': {'limit': 150000000, 'ratio': '0.0275%', 'usage': 41296}, 'BasicDataStat': {'limit': 5000000, 'ratio': '0.2257%', 'usage': 11283}, 'EDBDataStat': {'limit': 5000000, 'ratio': '0.0005%', 'usage': 25}, 'SpecialDataStat': {'limit': 20000, 'ratio': '0%', 'usage': 0}, 'noticeData': {'limit': 1000000, 'ratio': '0%', 'usage': 0}, 'noticeDownLoadStat': {'limit': 500, 'ratio': '0%', 'usage': 0}}, 'datatype': [], 'inputParams': {}, 'perf': 10, 'dataVol': 0}\n",
      "{'errorcode': 0, 'errmsg': '', 'tables': {'count': 45}, 'datatype': [], 'inputParams': {'exchange': '212001', 'period': 'D', 'dateType': '0', 'sdate': '2022-06-01', 'dateFormat': '', 'edate': '2022-08-03', 'offset': '', 'isCount': '1'}, 'perf': 0, 'dataVol': 0}\n",
      "{'errorcode': 0, 'errmsg': '', 'tables': {'time': ['2022-08-01', '2022-08-02', '2022-08-03', '2022-08-04', '2022-08-05']}, 'datatype': [], 'inputParams': {'exchange': '212001', 'period': 'D', 'dateType': '0', 'sdate': '2022-08-06', 'dateFormat': '0', 'edate': '', 'offset': '-5', 'isCount': ''}, 'perf': 0, 'dataVol': 0}\n",
      "{'errorcode': 0, 'errmsg': '', 'tables': {'time': ['2022-06-01', '2022-06-02', '2022-06-06', '2022-06-07', '2022-06-08', '2022-06-09', '2022-06-10', '2022-06-13', '2022-06-14', '2022-06-15', '2022-06-16', '2022-06-17', '2022-06-20', '2022-06-21', '2022-06-22', '2022-06-23', '2022-06-24', '2022-06-27', '2022-06-28', '2022-06-29', '2022-06-30', '2022-07-01', '2022-07-04', '2022-07-05', '2022-07-06', '2022-07-07', '2022-07-08', '2022-07-11', '2022-07-12', '2022-07-13', '2022-07-14', '2022-07-15', '2022-07-18', '2022-07-19', '2022-07-20', '2022-07-21', '2022-07-22', '2022-07-25', '2022-07-26', '2022-07-27', '2022-07-28', '2022-07-29', '2022-08-01', '2022-08-02', '2022-08-03']}, 'datatype': [], 'inputParams': {'exchange': '212001', 'period': 'D', 'dateType': '0', 'sdate': '2022-06-01', 'dateFormat': '0', 'edate': '2022-08-03', 'offset': '', 'isCount': ''}, 'perf': 0, 'dataVol': 0}\n"
     ]
    }
   ],
   "source": [
    "res = ifind.THS_DateCount('SSE','dateType:0,period:D','2022-06-01','2022-08-03')\n",
    "print(res)\n",
    "\n",
    "res = ifind.THS_DateOffset('SSE','dateType:0,period:D,offset:-5,dateFormat:0','2022-08-06')\n",
    "print(res)\n",
    "\n",
    "res = ifind.THS_DateQuery('SSE','dateType:0,period:D,dateFormat:0','2022-06-01','2022-08-03')\n",
    "print(res)\n"
   ]
  }
 ],
 "metadata": {
  "kernelspec": {
   "display_name": "Python 3",
   "language": "python",
   "name": "python3"
  },
  "language_info": {
   "codemirror_mode": {
    "name": "ipython",
    "version": 3
   },
   "file_extension": ".py",
   "mimetype": "text/x-python",
   "name": "python",
   "nbconvert_exporter": "python",
   "pygments_lexer": "ipython3",
   "version": "3.8.5"
  },
  "toc": {
   "base_numbering": 1,
   "nav_menu": {},
   "number_sections": true,
   "sideBar": true,
   "skip_h1_title": false,
   "title_cell": "Table of Contents",
   "title_sidebar": "Contents",
   "toc_cell": false,
   "toc_position": {},
   "toc_section_display": true,
   "toc_window_display": false
  }
 },
 "nbformat": 4,
 "nbformat_minor": 4
}
