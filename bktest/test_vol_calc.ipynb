{
 "cells": [
  {
   "cell_type": "code",
   "execution_count": 1,
   "metadata": {},
   "outputs": [
    {
     "data": {
      "text/html": [
       "        <script type=\"text/javascript\">\n",
       "        window.PlotlyConfig = {MathJaxConfig: 'local'};\n",
       "        if (window.MathJax) {MathJax.Hub.Config({SVG: {font: \"STIX-Web\"}});}\n",
       "        if (typeof require !== 'undefined') {\n",
       "        require.undef(\"plotly\");\n",
       "        requirejs.config({\n",
       "            paths: {\n",
       "                'plotly': ['https://cdn.plot.ly/plotly-latest.min']\n",
       "            }\n",
       "        });\n",
       "        require(['plotly'], function(Plotly) {\n",
       "            window._Plotly = Plotly;\n",
       "        });\n",
       "        }\n",
       "        </script>\n",
       "        "
      ]
     },
     "metadata": {},
     "output_type": "display_data"
    },
    {
     "data": {
      "text/html": [
       "        <script type=\"text/javascript\">\n",
       "        window.PlotlyConfig = {MathJaxConfig: 'local'};\n",
       "        if (window.MathJax) {MathJax.Hub.Config({SVG: {font: \"STIX-Web\"}});}\n",
       "        if (typeof require !== 'undefined') {\n",
       "        require.undef(\"plotly\");\n",
       "        requirejs.config({\n",
       "            paths: {\n",
       "                'plotly': ['https://cdn.plot.ly/plotly-latest.min']\n",
       "            }\n",
       "        });\n",
       "        require(['plotly'], function(Plotly) {\n",
       "            window._Plotly = Plotly;\n",
       "        });\n",
       "        }\n",
       "        </script>\n",
       "        "
      ]
     },
     "metadata": {},
     "output_type": "display_data"
    }
   ],
   "source": [
    "import warnings\n",
    "import sys\n",
    "import pandas as pd\n",
    "import numpy as np\n",
    "import matplotlib as mpl\n",
    "import matplotlib.dates as dates\n",
    "import matplotlib.pyplot as plt\n",
    "import datetime\n",
    "import chart_studio.plotly as py\n",
    "import plotly.graph_objs as go\n",
    "from plotly.offline import init_notebook_mode, plot, iplot\n",
    "import akshare\n",
    "init_notebook_mode(connected=True)\n",
    "sys.path.append(\"C:/dev/pycmqlib3/\")\n",
    "sys.path.append(\"C:/dev/pycmqlib3/misc_scripts/\")\n",
    "warnings.filterwarnings('ignore')\n",
    "import misc\n",
    "import data_handler as dh\n",
    "import plotly_examples\n",
    "import backtest\n",
    "%matplotlib inline\n"
   ]
  },
  {
   "cell_type": "code",
   "execution_count": 2,
   "metadata": {},
   "outputs": [
    {
     "name": "stdout",
     "output_type": "stream",
     "text": [
      "第1次链接失败, 最多尝试 20 次 HTTPConnectionPool(host='www.shfe.com.cn', port=80): Read timed out. (read timeout=20)\n",
      "第1次链接失败, 最多尝试 20 次 HTTPConnectionPool(host='www.shfe.com.cn', port=80): Read timed out. (read timeout=20)\n",
      "第1次链接失败, 最多尝试 20 次 HTTPConnectionPool(host='www.shfe.com.cn', port=80): Read timed out. (read timeout=20)\n",
      "第1次链接失败, 最多尝试 20 次 HTTPConnectionPool(host='www.shfe.com.cn', port=80): Read timed out. (read timeout=20)\n",
      "第1次链接失败, 最多尝试 20 次 HTTPConnectionPool(host='www.shfe.com.cn', port=80): Read timed out. (read timeout=20)\n",
      "第1次链接失败, 最多尝试 20 次 HTTPConnectionPool(host='www.shfe.com.cn', port=80): Read timed out. (read timeout=20)\n",
      "第1次链接失败, 最多尝试 20 次 HTTPConnectionPool(host='www.shfe.com.cn', port=80): Read timed out. (read timeout=20)\n",
      "            roll_yield near_by deferred\n",
      "2018-01-02    0.134412  RB1805   RB1810\n",
      "2018-01-03    0.122805  RB1805   RB1810\n",
      "2018-01-04    0.116531  RB1805   RB1810\n",
      "2018-01-05    0.111889  RB1805   RB1810\n",
      "2018-01-08    0.120525  RB1805   RB1810\n",
      "...                ...     ...      ...\n",
      "2020-06-05    0.190945  RB2010   RB2101\n",
      "2020-06-08    0.185659  RB2010   RB2101\n",
      "2020-06-09    0.184344  RB2010   RB2101\n",
      "2020-06-10    0.179024  RB2010   RB2101\n",
      "2020-06-11    0.178566  RB2010   RB2101\n",
      "\n",
      "[589 rows x 3 columns]\n"
     ]
    }
   ],
   "source": [
    "df = akshare.get_roll_yield_bar(type_method=\"date\", var=\"RB\", start_day=\"20180101\", end_day=\"20200612\", plot=False)\n",
    "print(df)"
   ]
  },
  {
   "cell_type": "code",
   "execution_count": null,
   "metadata": {},
   "outputs": [],
   "source": [
    "df2 = akshare.get_futures_daily(start_day='20200101', end_day='20200612', market='dce')\n"
   ]
  }
 ],
 "metadata": {
  "kernelspec": {
   "display_name": "Python 3",
   "language": "python",
   "name": "python3"
  },
  "language_info": {
   "codemirror_mode": {
    "name": "ipython",
    "version": 3
   },
   "file_extension": ".py",
   "mimetype": "text/x-python",
   "name": "python",
   "nbconvert_exporter": "python",
   "pygments_lexer": "ipython3",
   "version": "3.7.6"
  }
 },
 "nbformat": 4,
 "nbformat_minor": 4
}
