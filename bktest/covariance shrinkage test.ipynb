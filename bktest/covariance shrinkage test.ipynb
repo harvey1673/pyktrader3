{
 "cells": [
  {
   "cell_type": "code",
   "execution_count": 11,
   "metadata": {},
   "outputs": [
    {
     "name": "stdout",
     "output_type": "stream",
     "text": [
      "[[0.55340343 0.20453272]\n",
      " [0.20453272 0.30872951]]\n",
      "[-0.04116765 -0.00515379]\n"
     ]
    }
   ],
   "source": [
    "import numpy as np\n",
    "from sklearn.covariance import ShrunkCovariance\n",
    "from sklearn.datasets import make_gaussian_quantiles\n",
    "real_cov = np.array([[0.6, .2],[.2, 0.3]])\n",
    "rng = np.random.RandomState(1)\n",
    "X = rng.multivariate_normal(mean=[0, 0], cov=real_cov, size=500)\n",
    "cov = ShrunkCovariance(shrinkage = 0.0).fit(X)\n",
    "print(cov.covariance_)\n",
    "print(cov.location_)\n"
   ]
  },
  {
   "cell_type": "code",
   "execution_count": 9,
   "metadata": {},
   "outputs": [
    {
     "data": {
      "text/plain": [
       "(array([[0.55340343, 0.20453272],\n",
       "        [0.20453272, 0.30872951]]),\n",
       " array([[0.55340343, 0.20453272],\n",
       "        [0.20453272, 0.30872951]]))"
      ]
     },
     "execution_count": 9,
     "metadata": {},
     "output_type": "execute_result"
    }
   ],
   "source": [
    "np.cov(X.T)*499/500,empirical_covariance(X)"
   ]
  },
  {
   "cell_type": "code",
   "execution_count": 26,
   "metadata": {},
   "outputs": [],
   "source": [
    "n_features, n_samples = 100, 400\n",
    "np.random.seed(42)\n",
    "base_X_train = np.random.normal(size=(n_samples, n_features))\n",
    "base_X_test = np.random.normal(size=(n_samples, n_features))\n",
    "\n",
    "# Color samples\n",
    "coloring_matrix = np.random.normal(size=(n_features, n_features))\n",
    "X_train = np.dot(base_X_train, coloring_matrix)\n",
    "X_test = np.dot(base_X_test, coloring_matrix)"
   ]
  },
  {
   "cell_type": "code",
   "execution_count": null,
   "metadata": {},
   "outputs": [],
   "source": []
  },
  {
   "cell_type": "code",
   "execution_count": 27,
   "metadata": {},
   "outputs": [],
   "source": [
    "from sklearn.covariance import ShrunkCovariance, empirical_covariance, log_likelihood\n",
    "from scipy import linalg\n",
    "# spanning a range of possible shrinkage coefficient values\n",
    "shrinkages = np.logspace(-4, 0, 50)\n",
    "negative_logliks = [\n",
    "    -ShrunkCovariance(shrinkage=s).fit(X_train).score(X_test) for s in shrinkages\n",
    "]\n",
    "# under the ground-truth model, which we would not have access to in real\n",
    "# settings\n",
    "real_cov = np.dot(coloring_matrix.T, coloring_matrix)\n",
    "emp_cov = empirical_covariance(X_train)\n",
    "loglik_real = -log_likelihood(emp_cov, linalg.inv(real_cov))"
   ]
  },
  {
   "cell_type": "code",
   "execution_count": 23,
   "metadata": {},
   "outputs": [
    {
     "data": {
      "text/plain": [
       "ShrunkCovariance(shrinkage=0.0001)"
      ]
     },
     "execution_count": 23,
     "metadata": {},
     "output_type": "execute_result"
    }
   ],
   "source": [
    "cv.best_estimator_"
   ]
  },
  {
   "cell_type": "code",
   "execution_count": 28,
   "metadata": {},
   "outputs": [],
   "source": [
    "from sklearn.model_selection import GridSearchCV\n",
    "from sklearn.covariance import LedoitWolf, OAS\n",
    "\n",
    "# GridSearch for an optimal shrinkage coefficient\n",
    "tuned_parameters = [{\"shrinkage\": shrinkages}]\n",
    "cv = GridSearchCV(ShrunkCovariance(), tuned_parameters)\n",
    "cv.fit(X_train)\n",
    "\n",
    "# Ledoit-Wolf optimal shrinkage coefficient estimate\n",
    "lw = LedoitWolf()\n",
    "loglik_lw = lw.fit(X_train).score(X_test)\n",
    "\n",
    "# OAS coefficient estimate\n",
    "oa = OAS()\n",
    "loglik_oa = oa.fit(X_train).score(X_test)\n"
   ]
  },
  {
   "cell_type": "code",
   "execution_count": 29,
   "metadata": {},
   "outputs": [
    {
     "data": {
      "image/png": "[encoded data removed]",
      "text/plain": [
       "<Figure size 432x288 with 1 Axes>"
      ]
     },
     "metadata": {
      "needs_background": "light"
     },
     "output_type": "display_data"
    }
   ],
   "source": [
    "import matplotlib.pyplot as plt\n",
    "\n",
    "fig = plt.figure()\n",
    "plt.title(\"Regularized covariance: likelihood and shrinkage coefficient\")\n",
    "plt.xlabel(\"Regularization parameter: shrinkage coefficient\")\n",
    "plt.ylabel(\"Error: negative log-likelihood on test data\")\n",
    "# range shrinkage curve\n",
    "plt.loglog(shrinkages, negative_logliks, label=\"Negative log-likelihood\")\n",
    "\n",
    "plt.plot(plt.xlim(), 2 * [loglik_real], \"--r\", label=\"Real covariance likelihood\")\n",
    "\n",
    "# adjust view\n",
    "lik_max = np.amax(negative_logliks)\n",
    "lik_min = np.amin(negative_logliks)\n",
    "ymin = lik_min - 6.0 * np.log((plt.ylim()[1] - plt.ylim()[0]))\n",
    "ymax = lik_max + 10.0 * np.log(lik_max - lik_min)\n",
    "xmin = shrinkages[0]\n",
    "xmax = shrinkages[-1]\n",
    "# LW likelihood\n",
    "plt.vlines(\n",
    "    lw.shrinkage_,\n",
    "    ymin,\n",
    "    -loglik_lw,\n",
    "    color=\"magenta\",\n",
    "    linewidth=3,\n",
    "    label=\"Ledoit-Wolf estimate\",\n",
    ")\n",
    "# OAS likelihood\n",
    "plt.vlines(\n",
    "    oa.shrinkage_, ymin, -loglik_oa, color=\"purple\", linewidth=3, label=\"OAS estimate\"\n",
    ")\n",
    "# best CV estimator likelihood\n",
    "plt.vlines(\n",
    "    cv.best_estimator_.shrinkage,\n",
    "    ymin,\n",
    "    -cv.best_estimator_.score(X_test),\n",
    "    color=\"cyan\",\n",
    "    linewidth=3,\n",
    "    label=\"Cross-validation best estimate\",\n",
    ")\n",
    "\n",
    "plt.ylim(ymin, ymax)\n",
    "plt.xlim(xmin, xmax)\n",
    "plt.legend()\n",
    "\n",
    "plt.show()"
   ]
  }
 ],
 "metadata": {
  "kernelspec": {
   "display_name": "Python 3",
   "language": "python",
   "name": "python3"
  },
  "language_info": {
   "codemirror_mode": {
    "name": "ipython",
    "version": 3
   },
   "file_extension": ".py",
   "mimetype": "text/x-python",
   "name": "python",
   "nbconvert_exporter": "python",
   "pygments_lexer": "ipython3",
   "version": "3.8.5"
  },
  "toc": {
   "base_numbering": 1,
   "nav_menu": {},
   "number_sections": true,
   "sideBar": true,
   "skip_h1_title": false,
   "title_cell": "Table of Contents",
   "title_sidebar": "Contents",
   "toc_cell": false,
   "toc_position": {},
   "toc_section_display": true,
   "toc_window_display": false
  }
 },
 "nbformat": 4,
 "nbformat_minor": 4
}
