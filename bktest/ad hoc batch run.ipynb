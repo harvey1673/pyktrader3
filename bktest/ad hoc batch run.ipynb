{
 "cells": [
  {
   "cell_type": "code",
   "execution_count": 1,
   "id": "49ae63cf",
   "metadata": {},
   "outputs": [],
   "source": [
    "%matplotlib inline\n",
    "import os\n",
    "os.environ['PY3_PROD'] = '1'\n",
    "%load_ext autoreload\n",
    "%autoreload 2\n",
    "os.system('kinit')\n",
    "\n",
    "import warnings\n",
    "warnings.filterwarnings(\"ignore\", category=DeprecationWarning) \n",
    "warnings.simplefilter(action='ignore', category=FutureWarning)"
   ]
  },
  {
   "cell_type": "code",
   "execution_count": 2,
   "id": "83eef7b6",
   "metadata": {},
   "outputs": [],
   "source": [
    "import copy\n",
    "import numpy as np\n",
    "import math\n",
    "import matplotlib as mpl\n",
    "import matplotlib.dates as dates\n",
    "import matplotlib.pyplot as plt\n",
    "import datetime\n",
    "import itertools\n",
    "import pandas as pd\n",
    "\n",
    "from pycmqlib3.utility import dbaccess, dataseries, misc\n",
    "import pycmqlib3.analytics.data_handler as dh\n",
    "\n",
    "\n",
    "import sys\n",
    "warnings.simplefilter(action='ignore', category=pd.errors.PerformanceWarning)\n",
    "\n",
    "sys.path.append(\"C:/dev/pyktrader3/\")\n",
    "sys.path.append(\"C:/dev/wtpy/\")\n",
    "sys.path.append(\"C:/dev/akshare/\")\n",
    "sys.path.append(\"C:/dev/wtdev/\")\n",
    "\n",
    "from pycmqlib3.analytics.tstool import *\n",
    "from pycmqlib3.analytics.btmetrics import *\n",
    "from pycmqlib3.analytics.backtest_utils import *\n"
   ]
  },
  {
   "cell_type": "code",
   "execution_count": 5,
   "id": "6bec27d9",
   "metadata": {},
   "outputs": [],
   "source": [
    "from bktest.backtest_grid_search import *"
   ]
  },
  {
   "cell_type": "code",
   "execution_count": 7,
   "id": "a5464e1c",
   "metadata": {},
   "outputs": [
    {
     "name": "stdout",
     "output_type": "stream",
     "text": [
      "processing product = petro for xscarry-rank - ryieldnma\n",
      "processing product = ags for xscarry-rank - ryieldnma\n",
      "processing product = all for xscarry-rank - ryieldnma\n"
     ]
    }
   ],
   "source": [
    "bt_metric_dict, pnl_stats_dict = run_xs_product()"
   ]
  }
 ],
 "metadata": {
  "kernelspec": {
   "display_name": "Python 3 (ipykernel)",
   "language": "python",
   "name": "python3"
  },
  "language_info": {
   "codemirror_mode": {
    "name": "ipython",
    "version": 3
   },
   "file_extension": ".py",
   "mimetype": "text/x-python",
   "name": "python",
   "nbconvert_exporter": "python",
   "pygments_lexer": "ipython3",
   "version": "3.9.7"
  },
  "toc": {
   "base_numbering": 1,
   "nav_menu": {},
   "number_sections": true,
   "sideBar": true,
   "skip_h1_title": false,
   "title_cell": "Table of Contents",
   "title_sidebar": "Contents",
   "toc_cell": false,
   "toc_position": {},
   "toc_section_display": true,
   "toc_window_display": false
  }
 },
 "nbformat": 4,
 "nbformat_minor": 5
}
